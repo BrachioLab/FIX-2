{
 "cells": [
  {
   "cell_type": "code",
   "execution_count": 10,
   "id": "36a66e34",
   "metadata": {},
   "outputs": [],
   "source": [
    "import pandas as pd\n",
    "import numpy as np\n",
    "import json\n",
    "import os\n",
    "from collections import defaultdict"
   ]
  },
  {
   "cell_type": "code",
   "execution_count": 16,
   "id": "abd8a57a",
   "metadata": {},
   "outputs": [],
   "source": [
    "baselines = [\"vanilla\", \"cot\", \"socratic\", \"subq\"]\n",
    "datasets = [\"massmaps\", \"supernova\", \"politeness\", \"emotion\", \"cholec\", \"cardiac\", \"sepsis\"]\n",
    "models = [\"gpt-4o\"]"
   ]
  },
  {
   "cell_type": "code",
   "execution_count": 24,
   "id": "f0e87471",
   "metadata": {},
   "outputs": [
    {
     "name": "stdout",
     "output_type": "stream",
     "text": [
      "Generating LaTeX table rows:\n",
      "\n",
      "\\textbf{Vanilla} & 0.42 & 0.83 & 0.68 & 0.50 & 0.30 & 0.47 & 0.54 \\\\\n",
      "\\textbf{Chain-of-Thought} & 0.44 & 0.81 & 0.64 & 0.59 & 0.34 & 0.50 & 0.53 \\\\\n",
      "\\textbf{Socratic Prompting} & 0.47 & 0.80 & 0.37 & 0.38 & 0.37 & 0.51 & 0.54 \\\\\n",
      "\\textbf{SubQ Decomposition} & 0.40 & 0.82 & 0.41 & 0.29 & 0.36 & 0.39 & 0.56 \\\\\n"
     ]
    }
   ],
   "source": [
    "# Map for pretty LaTeX-style formatting of baselines\n",
    "baseline_names = {\n",
    "    \"vanilla\": \"\\\\textbf{Vanilla}\",\n",
    "    \"cot\": \"\\\\textbf{Chain-of-Thought}\",\n",
    "    \"socratic\": \"\\\\textbf{Socratic Prompting}\",\n",
    "    \"subq\": \"\\\\textbf{SubQ Decomposition}\"\n",
    "}\n",
    "\n",
    "# Collect scores\n",
    "results = defaultdict(list)\n",
    "\n",
    "for baseline in baselines:\n",
    "    for dataset in datasets:\n",
    "        path = os.path.join(baseline, f\"{dataset}_{model}.json\")\n",
    "        if not os.path.exists(path):\n",
    "            print(f\"File not found: {path}\")\n",
    "            continue\n",
    "        with open(path, 'r') as f:\n",
    "            try:\n",
    "                data = json.load(f)\n",
    "                scores = [entry[\"final_alignment_score\"] for entry in data if \"final_alignment_score\" in entry and entry[\"final_alignment_score\"] is not None]\n",
    "                # If no scores found, check for the baseline key\n",
    "                if(len(scores) == 0):\n",
    "                    data = data[baseline]\n",
    "                    scores = [entry[\"final_alignment_score\"] for entry in data if \"final_alignment_score\" in entry and entry[\"final_alignment_score\"] is not None]\n",
    "                if scores:\n",
    "                    avg = sum(scores) / len(scores)\n",
    "                    results[(baseline, dataset)] = avg\n",
    "            except Exception as e:\n",
    "                print(scores)\n",
    "                print(f\"Error processing {path}: {e}\")\n",
    "\n",
    "# Generate LaTeX rows\n",
    "print(\"Generating LaTeX table rows:\\n\")\n",
    "for baseline in baselines:\n",
    "    row = [baseline_names[baseline]]\n",
    "    for dataset in datasets:\n",
    "        avg_score = results.get((baseline, dataset), \"\")\n",
    "        if isinstance(avg_score, float):\n",
    "            row.append(f\"{avg_score:.2f}\")\n",
    "        else:\n",
    "            row.append(\"\")  # Leave blank if not available\n",
    "            print(f\"Warning: No score found for {baseline} on {dataset}\")\n",
    "    print(\" & \".join(row) + \" \\\\\\\\\")"
   ]
  },
  {
   "cell_type": "code",
   "execution_count": null,
   "id": "8df004df",
   "metadata": {},
   "outputs": [],
   "source": []
  }
 ],
 "metadata": {
  "kernelspec": {
   "display_name": "base",
   "language": "python",
   "name": "python3"
  },
  "language_info": {
   "codemirror_mode": {
    "name": "ipython",
    "version": 3
   },
   "file_extension": ".py",
   "mimetype": "text/x-python",
   "name": "python",
   "nbconvert_exporter": "python",
   "pygments_lexer": "ipython3",
   "version": "3.11.4"
  }
 },
 "nbformat": 4,
 "nbformat_minor": 5
}
