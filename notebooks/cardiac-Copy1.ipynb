{
 "cells": [
  {
   "cell_type": "code",
   "execution_count": 1,
   "id": "619c538e-9f06-463d-9258-603abc80c42f",
   "metadata": {},
   "outputs": [],
   "source": [
    "import torch\n",
    "import torch.nn as nn\n",
    "import torch.nn.functional as F\n",
    "import numpy as np\n",
    "import pandas as pd\n",
    "import wfdb\n",
    "from datetime import datetime, timedelta\n",
    "from datasets import load_dataset\n",
    "import matplotlib.pyplot as plt\n",
    "import math\n",
    "import sys\n",
    "import os\n",
    "\n",
    "sys.path.append(\"../src\")\n",
    "from llms import MyOpenAIModel, image_to_base64\n",
    "import PIL.Image"
   ]
  },
  {
   "cell_type": "code",
   "execution_count": 2,
   "id": "5e19672e-402c-4e0e-a7bc-779f310b5906",
   "metadata": {},
   "outputs": [
    {
     "data": {
      "application/vnd.jupyter.widget-view+json": {
       "model_id": "75a1d82a62354316835dfec7b3a2ebc5",
       "version_major": 2,
       "version_minor": 0
      },
      "text/plain": [
       "Resolving data files:   0%|          | 0/21 [00:00<?, ?it/s]"
      ]
     },
     "metadata": {},
     "output_type": "display_data"
    },
    {
     "data": {
      "application/vnd.jupyter.widget-view+json": {
       "model_id": "661e96ebdd584f67827175e5a46abdf4",
       "version_major": 2,
       "version_minor": 0
      },
      "text/plain": [
       "Resolving data files:   0%|          | 0/21 [00:00<?, ?it/s]"
      ]
     },
     "metadata": {},
     "output_type": "display_data"
    },
    {
     "data": {
      "text/plain": [
       "Dataset({\n",
       "    features: ['label', 'alarm', 'record_name', 'n_sig', 'fs', 'counter_freq', 'base_counter', 'sig_len', 'base_time', 'base_date', 'comments', 'sig_name', 'p_signal', 'd_signal', 'e_p_signal', 'e_d_signal', 'file_name', 'fmt', 'samps_per_frame', 'skew', 'byte_offset', 'adc_gain', 'baseline', 'units', 'adc_res', 'adc_zero', 'init_value', 'checksum', 'block_size', 'MRN', 'CSN', 'Visit_no', 'Visits', 'Age', 'Gender', 'Race', 'Ethnicity', 'Means_of_arrival', 'Triage_Temp', 'Triage_HR', 'Triage_RR', 'Triage_SpO2', 'Triage_SBP', 'Triage_DBP', 'Triage_acuity', 'CC', 'ED_dispo', 'Hours_to_next_visit', 'Dispo_class_next_visit', 'ED_LOS', 'Hosp_LOS', 'DC_dispo', 'Payor_class', 'Admit_service', 'Dx_ICD9', 'Dx_ICD10', 'Dx_name', 'Arrival_time', 'Roomed_time', 'Dispo_time', 'Admit_time', 'Departure_time'],\n",
       "    num_rows: 400\n",
       "})"
      ]
     },
     "execution_count": 2,
     "metadata": {},
     "output_type": "execute_result"
    }
   ],
   "source": [
    "ds = load_dataset(\"BrachioLab/mcmed-cardiac\")\n",
    "train_data = ds['train']\n",
    "train_data"
   ]
  },
  {
   "cell_type": "code",
   "execution_count": 3,
   "id": "6b8a824e-7298-4498-a4a2-5eaca2a75087",
   "metadata": {},
   "outputs": [
    {
     "name": "stdout",
     "output_type": "stream",
     "text": [
      "True 2271-07-22 07:53:28\n"
     ]
    }
   ],
   "source": [
    "example = train_data[201]\n",
    "print(example['label'], example['alarm'])"
   ]
  },
  {
   "cell_type": "code",
   "execution_count": 4,
   "id": "617458f4-93c9-421c-905b-4aefdeb97644",
   "metadata": {},
   "outputs": [
    {
     "data": {
      "image/png": "[encoded data removed]",
      "text/plain": [
       "<Figure size 640x480 with 1 Axes>"
      ]
     },
     "metadata": {},
     "output_type": "display_data"
    }
   ],
   "source": [
    "record_keys = ['record_name', 'n_sig', 'fs', 'counter_freq', 'base_counter', 'sig_len', 'base_time', 'base_date', 'comments', 'sig_name', 'p_signal', 'd_signal', 'e_p_signal', 'e_d_signal', 'file_name', 'fmt', 'samps_per_frame', 'skew', 'byte_offset', 'adc_gain', 'baseline', 'units', 'adc_res', 'adc_zero', 'init_value', 'checksum', 'block_size']\n",
    "record_dict = {k: v for k, v in example.items() if k in record_keys}\n",
    "record_dict['p_signal'] = np.array(record_dict['p_signal']) \n",
    "record = wfdb.Record(**record_dict)\n",
    "\n",
    "wfdb.plot_wfdb(record=record)"
   ]
  },
  {
   "cell_type": "markdown",
   "id": "af563119-08a1-4ded-886c-9370246c7225",
   "metadata": {},
   "source": [
    " - Potential Task: given 5 minutes of ECG data at 100 Hz, predict whether this patient gets cardiac arrest in the next 5 minutes\n",
    " - *Shorter Task:* given 2 minutes of ECG data at 100 Hz, predict whether this patient gets cardiac arrest in the next 5 minutes\n",
    " - **Chosen Task:** given 2 minutes of ECG data at 500 Hz (in a graph image), predict whether this patient gets cardiac arrest in the next 5 minutes\n",
    "\n",
    "Also each is given patient age, gender, race and ICU visit reason"
   ]
  },
  {
   "cell_type": "markdown",
   "id": "071bdbcc-b3c3-41d0-b979-b93355973c47",
   "metadata": {},
   "source": [
    "Pipeline:\n",
    "1. get the alarm time\n",
    "2. subtract r = 1- 300 sec from it\n",
    "3. this is your new cutoff time\n",
    "4. then take the preceding 120 seconds from that\n",
    "\n",
    "in terms of p_signal data:\n",
    "1. get new cutoff time data = orig_alarm_time_data_index - r * fs\n",
    "2. get new start time data = new_cutoff_time_data_index - 120 * fs\n",
    "   "
   ]
  },
  {
   "cell_type": "code",
   "execution_count": 5,
   "id": "1cc60dfa-4a66-4bf4-8613-3923c70d03f6",
   "metadata": {},
   "outputs": [],
   "source": [
    "import random\n",
    "import copy\n",
    "\n",
    "def extract_segment_before_alarm(record, alarm_dt=None, duration_sec=120, max_predict_window_sec=300):\n",
    "    fs = record.fs\n",
    "    start_dt = datetime.combine(record.base_date, record.base_time)\n",
    "    total_duration_sec = record.sig_len / fs\n",
    "    end_dt = start_dt + timedelta(seconds=total_duration_sec)\n",
    "\n",
    "    # pick a random cutoff time\n",
    "    predict_window_sec = random.randint(1, max_predict_window_sec)\n",
    "    print(predict_window_sec)\n",
    "        \n",
    "    if alarm_dt is not None:\n",
    "        cutoff_dt = alarm_dt - timedelta(seconds=predict_window_sec)\n",
    "        new_start_dt = cutoff_dt - timedelta(seconds=duration_sec)\n",
    "        print(start_dt, end_dt)\n",
    "        print(alarm_dt)\n",
    "        print(new_start_dt, cutoff_dt)\n",
    "        assert new_start_dt >= start_dt and cutoff_dt > new_start_dt\n",
    "    else:\n",
    "        new_start_dt = start_dt\n",
    "        cutoff_dt = new_start_dt + timedelta(seconds=duration_sec)\n",
    "\n",
    "    # get new p_signal\n",
    "    # print(start_dt, end_dt)\n",
    "    # print(alarm_dt)\n",
    "    # print(new_start_dt, cutoff_dt)\n",
    "    print((new_start_dt - start_dt).total_seconds())\n",
    "    start_idx = int((new_start_dt - start_dt).total_seconds()) * fs\n",
    "    cutoff_idx = math.ceil((cutoff_dt - start_dt).total_seconds()) * fs\n",
    "    # print(start_idx, cutoff_idx)    \n",
    "    segment = record.p_signal[start_idx:cutoff_idx]\n",
    "\n",
    "    # Create new record object with the same metadata\n",
    "    segment_record = copy.deepcopy(record)\n",
    "    segment_record.p_signal = segment\n",
    "    segment_record.base_date = new_start_dt.date()\n",
    "    segment_record.base_time = new_start_dt.time()\n",
    "    \n",
    "    return segment_record\n"
   ]
  },
  {
   "cell_type": "code",
   "execution_count": 11,
   "id": "92c671e6-073a-44b5-95e6-df99e84872bc",
   "metadata": {},
   "outputs": [
    {
     "name": "stdout",
     "output_type": "stream",
     "text": [
      "8\n",
      "2271-07-22 07:49:50.331001 2271-07-22 08:13:56.747001\n",
      "2271-07-22 07:53:28\n",
      "2271-07-22 07:51:20 2271-07-22 07:53:20\n",
      "89.668999\n",
      "44500 105000\n"
     ]
    }
   ],
   "source": [
    "duration_sec = 120\n",
    "max_predict_window_sec = 300\n",
    "\n",
    "segment_record = extract_segment_before_alarm(record, example['alarm'], duration_sec, max_predict_window_sec)"
   ]
  },
  {
   "cell_type": "code",
   "execution_count": 12,
   "id": "a6808c58-9a12-4b85-b1f6-ec61d3606ba1",
   "metadata": {
    "scrolled": true
   },
   "outputs": [
    {
     "data": {
      "text/plain": [
       "{'record_name': '99582725_1',\n",
       " 'n_sig': 1,\n",
       " 'fs': 500,\n",
       " 'counter_freq': None,\n",
       " 'base_counter': None,\n",
       " 'sig_len': 723208,\n",
       " 'base_time': datetime.time(7, 51, 20),\n",
       " 'base_date': datetime.date(2271, 7, 22),\n",
       " 'comments': [],\n",
       " 'sig_name': ['II'],\n",
       " 'p_signal': array([[0.30989525],\n",
       "        [0.32031774],\n",
       "        [0.32518156],\n",
       "        ...,\n",
       "        [0.86020251],\n",
       "        [0.87965782],\n",
       "        [0.87479399]]),\n",
       " 'd_signal': None,\n",
       " 'e_p_signal': None,\n",
       " 'e_d_signal': None,\n",
       " 'file_name': ['99582725_1.dat'],\n",
       " 'fmt': ['16'],\n",
       " 'samps_per_frame': [1],\n",
       " 'skew': [None],\n",
       " 'byte_offset': [None],\n",
       " 'adc_gain': [1439.1959798994976],\n",
       " 'baseline': [-12719],\n",
       " 'units': ['mV'],\n",
       " 'adc_res': [16],\n",
       " 'adc_zero': [0],\n",
       " 'init_value': [-12906],\n",
       " 'checksum': [62175],\n",
       " 'block_size': [0]}"
      ]
     },
     "execution_count": 12,
     "metadata": {},
     "output_type": "execute_result"
    }
   ],
   "source": [
    "segment_record.__dict__"
   ]
  },
  {
   "cell_type": "code",
   "execution_count": 13,
   "id": "cc5f3ff2-4f90-42a9-b675-fe392894ad67",
   "metadata": {},
   "outputs": [],
   "source": [
    "wfdb.plot_wfdb(segment_record, return_fig=True)\n",
    "record_name = segment_record.__dict__['record_name']\n",
    "plt.savefig(f'_dump/cardiac/{record_name}.png', dpi=200, bbox_inches='tight')\n",
    "plt.close()"
   ]
  },
  {
   "cell_type": "code",
   "execution_count": 23,
   "id": "aa5cc463-5b74-4d3f-976e-09d87a7cef3e",
   "metadata": {},
   "outputs": [],
   "source": [
    "with open(\"../API_KEY.txt\", \"r\") as file:\n",
    "    api_key = file.read()\n",
    "    client = OpenAI(api_key=api_key)\n",
    "    \n",
    "llm = MyOpenAIModel(model_name=\"gpt-4o\", api_key=api_key)"
   ]
  },
  {
   "cell_type": "code",
   "execution_count": 28,
   "id": "35871320-6303-40e9-981b-df6d2231e222",
   "metadata": {},
   "outputs": [
    {
     "data": {
      "text/plain": [
       "['I’m called ChatGPT. How can I assist you today?',\n",
       " 'This image is a graph showing a time series plot with time on the x-axis (in seconds) and amplitude on the y-axis (in millivolts, mV). It appears to represent some form of electrical activity or signal over time, possibly an ECG or similar physiological measurement. The data shows fluctuations with several spikes, indicating significant changes in the signal amplitude at specific times. The overall pattern is consistent until around the 50-second mark, where more noticeable variations occur.']"
      ]
     },
     "execution_count": 28,
     "metadata": {},
     "output_type": "execute_result"
    }
   ],
   "source": [
    "# my_image_path = \"../src/prompts/massmaps_relevance_few_shot_examples.0.Omega0.1041.sigma0.9396.png\"\n",
    "my_image_path = f\"_dump/cardiac/{record_name}.png\"\n",
    "image = PIL.Image.open(my_image_path)\n",
    "\n",
    "# sanity check\n",
    "llm([\"What's your name?\", \n",
    "     (\"tell me what you think of this image\", image)])"
   ]
  },
  {
   "cell_type": "code",
   "execution_count": 30,
   "id": "dc7200cc-9113-43c2-b825-84adbb80e85d",
   "metadata": {},
   "outputs": [],
   "source": [
    "vanilla_baseline = \"\"\"In addition to the answer, please provide a single paragraph under 3-5 sentences explaining why you gave the answer you did.\"\"\"\n",
    "\n",
    "cot_baseline = \"\"\"To come up with the correct answer, think step-by-step. You should walk through each step in your reasoning process and explain how you arrived at the answer. Describe your step-by-step reasoning in a single paragraph under 3-5 sentences. This paragraph will serve as the explanation for your answer.\"\"\"\n",
    "\n",
    "socratic_baseline = \"\"\"To come up with the correct answer, have a conversation with yourself. Pinpoint what you need to know, ask critical questions, and constantly challenge your understanding of the field. Describe this question-and-answer journey in a single paragraph under 3-5 sentences. This paragraph will serve as the explanation for your answer.\"\"\"\n",
    "\n",
    "least_to_most_baseline = \"\"\"To come up with the correct answer, determine all of the subquestions you must answer. Start with the easiest subquestion, answer it, and then use that subquestion and answer to tackle the next subquestion. Describe your subquestion decomposition and answers in a single paragraph under 3-5 sentences. This paragraph will serve as the explanation for your answer.\"\"\"\n"
   ]
  },
  {
   "cell_type": "code",
   "execution_count": 37,
   "id": "c77ad7dc-a918-45c4-8e13-b31020b0b1b6",
   "metadata": {},
   "outputs": [
    {
     "name": "stdout",
     "output_type": "stream",
     "text": [
      "You are a medical expert specializing in cardiac arrest prediction. \n",
      "You will be given some basic background information about an ICU patient, including their age, gender, race, and primary reason for ICU admittance. You will also be provided with time-series Electrocardiogram (ECG) data plotted in a graph from the first 2 minutes of an ECG monitoring period during the patient's ICU stay. Each entry consists of a measurement value at that timestamp. The samples are taken at 500 Hz, so that each consecutive measurement value is taken 0.002 milliseconds apart. \n",
      "\n",
      "Your task is to determine whether this patient is at high risk of experiencing cardiac arrest within the next 5 minutes. Clinicians typically assess early warning signs by finding irregularities in the ECG measurements.\n",
      "In addition to the answer, please provide a single paragraph under 3-5 sentences explaining why you gave the answer you did. \n",
      "Focus on the features of the data you used to make your yes or no binary classification. \n",
      "Your judgment will be reviewed alongside those of other medical experts, so please provide your best assessment without concern for perfection.\n",
      "\n",
      "Your response should be formatted as follows:\n",
      "Prediction: <Yes/No>\n",
      "Explanation: <explanation>\n",
      "\n",
      "Here is the patient background information and ECG data (in graph form) for you to analyze:\n",
      "The patient is age 28, gender M, race Other, and was admitted to the ICU for Motor vehicle collision, initial encounter.\n",
      "\n"
     ]
    }
   ],
   "source": [
    "import humanize\n",
    "\n",
    "new_start_dt = datetime.combine(segment_record.base_date, segment_record.base_time)\n",
    "cutoff_dt = new_start_dt + timedelta(seconds=duration_sec)\n",
    "\n",
    "duration_str = humanize.precisedelta(duration_sec)\n",
    "pred_window_str = humanize.precisedelta(max_predict_window_sec)\n",
    "\n",
    "ecg_data = segment_record.p_signal.flatten().tolist()\n",
    "ecg_data_str = \", \".join(f\"{v:.5f}\" for v in ecg_data)\n",
    "ecg_data_str = \"[\" + ecg_data_str + \"]\"\n",
    "\n",
    "duration_str = humanize.precisedelta(duration_sec)\n",
    "pred_window_str = humanize.precisedelta(max_predict_window_sec)\n",
    "patient_info_str = f\"The patient is age {example['Age']}, gender {example['Gender']}, race {example['Race']}, and was admitted to the ICU for {example['Dx_name']}.\"\n",
    "\n",
    "\n",
    "cardiac_prompt = \"\"\"You are a medical expert specializing in cardiac arrest prediction. \n",
    "You will be given some basic background information about an ICU patient, including their age, gender, race, and primary reason for ICU admittance. You will also be provided with time-series Electrocardiogram (ECG) data plotted in a graph from the first {} of an ECG monitoring period during the patient's ICU stay. Each entry consists of a measurement value at that timestamp. The samples are taken at {} Hz, so that each consecutive measurement value is taken {} milliseconds apart. \n",
    "\n",
    "Your task is to determine whether this patient is at high risk of experiencing cardiac arrest within the next {}. Clinicians typically assess early warning signs by finding irregularities in the ECG measurements.\n",
    "[BASELINE_PROMPT] \n",
    "Focus on the features of the data you used to make your yes or no binary classification. \n",
    "Your judgment will be reviewed alongside those of other medical experts, so please provide your best assessment without concern for perfection.\n",
    "\n",
    "Your response should be formatted as follows:\n",
    "Prediction: <Yes/No>\n",
    "Explanation: <explanation>\n",
    "\n",
    "Here is the patient background information and ECG data (in graph form) for you to analyze:\n",
    "{}\n",
    "\"\"\"\n",
    "\n",
    "cardiac_prompt = cardiac_prompt.replace(\"[BASELINE_PROMPT]\", vanilla_baseline)\n",
    "# cardiac_prompt = cardiac_prompt.format(duration_str, segment_record.fs, 1 / segment_record.fs, pred_window_str, patient_info_str, ecg_data_str)\n",
    "cardiac_prompt = cardiac_prompt.format(duration_str, segment_record.fs, 1 / segment_record.fs, pred_window_str, patient_info_str)\n",
    "\n",
    "print(cardiac_prompt)"
   ]
  },
  {
   "cell_type": "code",
   "execution_count": 38,
   "id": "82d43947-2f94-4f73-a9fa-93bb91258fe3",
   "metadata": {},
   "outputs": [
    {
     "data": {
      "text/plain": [
       "1456"
      ]
     },
     "execution_count": 38,
     "metadata": {},
     "output_type": "execute_result"
    }
   ],
   "source": [
    "len(cardiac_prompt)"
   ]
  },
  {
   "cell_type": "code",
   "execution_count": 39,
   "id": "d231f956-6704-4a69-b251-60d1c0cb45cb",
   "metadata": {},
   "outputs": [
    {
     "name": "stdout",
     "output_type": "stream",
     "text": [
      "Prediction: Yes\n",
      "\n",
      "Explanation: The ECG data shows significant irregularities, including pronounced spikes and troughs, which could indicate possible arrhythmias. The variability and abrupt deviations from the baseline suggest instability in the cardiac rhythm, which are potential precursors to cardiac arrest. Given the trauma from the motor vehicle collision, the patient might be at a higher risk for cardiac complications, warranting close monitoring.\n"
     ]
    }
   ],
   "source": [
    "response = llm((cardiac_prompt, image))\n",
    "print(response)"
   ]
  },
  {
   "cell_type": "code",
   "execution_count": null,
   "id": "a0cde13c-e76d-4802-9f76-a13105cc9ac2",
   "metadata": {},
   "outputs": [],
   "source": []
  },
  {
   "cell_type": "code",
   "execution_count": null,
   "id": "74e57d66-8b86-4d50-ade1-67e6da23f13a",
   "metadata": {},
   "outputs": [],
   "source": []
  },
  {
   "cell_type": "code",
   "execution_count": null,
   "id": "395168d7-4ed5-41bb-90a6-88ff049e6195",
   "metadata": {},
   "outputs": [],
   "source": []
  },
  {
   "cell_type": "code",
   "execution_count": null,
   "id": "14870af3-38f1-411c-b09a-e0eab695c202",
   "metadata": {},
   "outputs": [],
   "source": []
  },
  {
   "cell_type": "code",
   "execution_count": null,
   "id": "68072a11-4888-4f93-bb23-22996a87e9db",
   "metadata": {},
   "outputs": [],
   "source": []
  },
  {
   "cell_type": "markdown",
   "id": "7e27db9a-137a-4e03-9b11-c0dfd3b8305b",
   "metadata": {},
   "source": [
    "----"
   ]
  },
  {
   "cell_type": "markdown",
   "id": "47607690-b445-4701-935d-0bc3a6e8793c",
   "metadata": {},
   "source": [
    " - Task: given 5 minutes of ECG data at 100 Hz, predict whether this patient gets cardiac arrest in the next 5 minutes\n",
    " - **Shorter Task:** given 2 minutes of ECG data at 100 Hz, predict whether this patient gets cardiac arrest in the next 5 minutes\n",
    "\n",
    "Also each is given patient age, gender and visit reason"
   ]
  },
  {
   "cell_type": "code",
   "execution_count": 11,
   "id": "66ec89b1-b03c-4224-8033-1f44d575c31b",
   "metadata": {
    "scrolled": true
   },
   "outputs": [
    {
     "data": {
      "text/plain": [
       "[datetime.timedelta(microseconds=873001),\n",
       " datetime.timedelta(seconds=3, microseconds=595999),\n",
       " datetime.timedelta(seconds=4, microseconds=202000),\n",
       " datetime.timedelta(seconds=6, microseconds=665000),\n",
       " datetime.timedelta(seconds=12, microseconds=87000),\n",
       " datetime.timedelta(seconds=13, microseconds=613999),\n",
       " datetime.timedelta(seconds=34, microseconds=429999),\n",
       " datetime.timedelta(seconds=46, microseconds=133001),\n",
       " datetime.timedelta(seconds=52, microseconds=988000),\n",
       " datetime.timedelta(seconds=54, microseconds=311999),\n",
       " datetime.timedelta(seconds=59, microseconds=96000),\n",
       " datetime.timedelta(seconds=59, microseconds=988001),\n",
       " datetime.timedelta(seconds=59, microseconds=991000),\n",
       " datetime.timedelta(seconds=60, microseconds=666000),\n",
       " datetime.timedelta(seconds=66, microseconds=270000),\n",
       " datetime.timedelta(seconds=68, microseconds=153001),\n",
       " datetime.timedelta(seconds=91, microseconds=289000),\n",
       " datetime.timedelta(seconds=95, microseconds=982000),\n",
       " datetime.timedelta(seconds=108, microseconds=391000),\n",
       " datetime.timedelta(seconds=127, microseconds=345001),\n",
       " datetime.timedelta(seconds=179, microseconds=995999),\n",
       " datetime.timedelta(seconds=184, microseconds=309000),\n",
       " datetime.timedelta(seconds=277, microseconds=50000),\n",
       " datetime.timedelta(seconds=372, microseconds=975001),\n",
       " datetime.timedelta(seconds=434, microseconds=83000),\n",
       " datetime.timedelta(seconds=442, microseconds=702000),\n",
       " datetime.timedelta(seconds=481, microseconds=876001),\n",
       " datetime.timedelta(seconds=505, microseconds=277999),\n",
       " datetime.timedelta(seconds=526, microseconds=889999),\n",
       " datetime.timedelta(seconds=539, microseconds=989000),\n",
       " datetime.timedelta(seconds=574, microseconds=274000),\n",
       " datetime.timedelta(seconds=587, microseconds=566000),\n",
       " datetime.timedelta(seconds=597, microseconds=854999),\n",
       " datetime.timedelta(seconds=650, microseconds=217999),\n",
       " datetime.timedelta(seconds=660, microseconds=174999),\n",
       " datetime.timedelta(seconds=943, microseconds=906999),\n",
       " datetime.timedelta(seconds=1079, microseconds=988000),\n",
       " datetime.timedelta(seconds=1082, microseconds=480000),\n",
       " datetime.timedelta(seconds=1277, microseconds=601000),\n",
       " datetime.timedelta(seconds=1394, microseconds=726000),\n",
       " datetime.timedelta(seconds=1459, microseconds=813000),\n",
       " datetime.timedelta(seconds=1757, microseconds=371000),\n",
       " datetime.timedelta(seconds=1785, microseconds=885001),\n",
       " datetime.timedelta(seconds=2132, microseconds=371000),\n",
       " datetime.timedelta(seconds=2135, microseconds=912001),\n",
       " datetime.timedelta(seconds=2219, microseconds=982000),\n",
       " datetime.timedelta(seconds=2273, microseconds=554000),\n",
       " datetime.timedelta(seconds=2649, microseconds=181001),\n",
       " datetime.timedelta(seconds=2682, microseconds=797001),\n",
       " datetime.timedelta(seconds=2795, microseconds=432000),\n",
       " datetime.timedelta(seconds=3577, microseconds=702999),\n",
       " datetime.timedelta(seconds=3659, microseconds=990001),\n",
       " datetime.timedelta(seconds=4139, microseconds=987000),\n",
       " datetime.timedelta(seconds=6808, microseconds=584000),\n",
       " datetime.timedelta(seconds=7724, microseconds=217001),\n",
       " datetime.timedelta(seconds=7942, microseconds=958999),\n",
       " datetime.timedelta(seconds=8267, microseconds=697001),\n",
       " datetime.timedelta(seconds=9265, microseconds=233000),\n",
       " datetime.timedelta(seconds=9353, microseconds=86999),\n",
       " datetime.timedelta(seconds=9827, microseconds=190001)]"
      ]
     },
     "execution_count": 11,
     "metadata": {},
     "output_type": "execute_result"
    }
   ],
   "source": [
    "sorted(durations)"
   ]
  },
  {
   "cell_type": "code",
   "execution_count": 29,
   "id": "adccacbd-f92b-4702-8c4a-04b66f1e6747",
   "metadata": {},
   "outputs": [
    {
     "name": "stdout",
     "output_type": "stream",
     "text": [
      "Date: 2293-03-18\n",
      "Start time: 23:34:55.416000\n",
      "Alarm time: 2293-03-19 01:28:24\n",
      "End time: 01:31:17.420000\n"
     ]
    }
   ],
   "source": [
    "def get_start_end_times(record_dict):\n",
    "    start_dt = datetime.combine(datetime.today(), record_dict['base_time'])\n",
    "    duration_sec = record_dict['sig_len'] / record_dict['fs']\n",
    "    end_dt = start_dt + timedelta(seconds=duration_sec)\n",
    "    print(\"Date:\", record_dict['base_date'])\n",
    "    print(\"Start time:\", record_dict['base_time'])\n",
    "    print(\"Alarm time:\", record_dict['alarm'])\n",
    "    print(\"End time:\", end_dt.time())\n",
    "    return\n",
    "    # return start_dt, end_dt\n",
    "\n",
    "get_start_end_times(train_data[0])"
   ]
  },
  {
   "cell_type": "code",
   "execution_count": 16,
   "id": "a2d33493-ce10-481f-b40f-4b5d1c02065a",
   "metadata": {},
   "outputs": [],
   "source": [
    "class CardiacExample:\n",
    "    def __init__(self,\n",
    "                 # time_series_text,\n",
    "                 # time_series_data: Dict[float, Dict[str, Union[float, str]]],\n",
    "                 input_data,\n",
    "                 llm_label,\n",
    "                 llm_answer,\n",
    "                 llm_explanation: str):\n",
    "        # self.time_series_text = time_series_text\n",
    "        # self.time_series_data: Dict[float, Dict[str, Union[float, str]]] = time_series_data\n",
    "        # self.ground_truth = ground_truth\n",
    "        self.input_data = input_data\n",
    "        self.llm_answer = llm_answer\n",
    "        self.llm_explanation = llm_explanation\n",
    "\n",
    "        # All raw claims obtained from the LLM\n",
    "        self.all_claims : list[str] = []\n",
    "\n",
    "        # Claims that are relevant to the explanation\n",
    "        self.relevant_claims : list[str] = []\n",
    "\n",
    "        # Relevant claims for which the LLM successfully managed to make an alignment judgment.\n",
    "        self.alignable_claims : list[str] = []\n",
    "        self.aligned_category_ids : list[int] = [] # Same length as alignable claims\n",
    "        self.alignment_scores : list[float] = [] # Same length as alignable claims\n",
    "        self.alignment_reasonings : list[str] = [] # Same length as alignable claims\n",
    "\n",
    "        # The final alignment score, computed as the mean of the alignment scores of the alignable claims.\n",
    "        self.final_alignment_score : float = 0.0\n",
    "\n",
    "    def to_dict(self):\n",
    "        return {\n",
    "            # \"id\": self.id,\n",
    "            \"input_data\": self.input_data,\n",
    "            \"llm_answer\": self.llm_answer,\n",
    "            \"llm_explanation\": self.llm_explanation,\n",
    "            \"all_claims\": self.all_claims,\n",
    "            \"relevant_claims\": self.relevant_claims,\n",
    "            \"alignable_claims\": self.alignable_claims,\n",
    "            \"aligned_category_ids\": self.aligned_category_ids,\n",
    "            \"alignment_scores\": self.alignment_scores,\n",
    "            \"alignment_reasonings\": self.alignment_reasonings,\n",
    "            \"final_alignment_score\": self.final_alignment_score,\n",
    "        }"
   ]
  },
  {
   "cell_type": "code",
   "execution_count": 17,
   "id": "a9490cd2-51c7-4726-8188-dad126db8669",
   "metadata": {
    "scrolled": true
   },
   "outputs": [
    {
     "data": {
      "text/plain": [
       "{'input_data': {'record_name': '99435751_1',\n",
       "  'n_sig': 1,\n",
       "  'fs': 500,\n",
       "  'counter_freq': None,\n",
       "  'base_counter': None,\n",
       "  'sig_len': 3491002,\n",
       "  'base_time': datetime.time(23, 34, 55, 416000),\n",
       "  'base_date': datetime.date(2293, 3, 18),\n",
       "  'comments': [],\n",
       "  'sig_name': ['II'],\n",
       "  'p_signal': [[-0.18469822828928262],\n",
       "   [-0.17989195469067676],\n",
       "   [-0.19980365959918678],\n",
       "   [-0.1949973860005809],\n",
       "   [-0.1949973860005809],\n",
       "   [-0.19980365959918678],\n",
       "   [-0.1949973860005809],\n",
       "   [-0.1949973860005809],\n",
       "   [-0.18469822828928262],\n",
       "   [-0.2052965437118792],\n",
       "   [-0.19980365959918678],\n",
       "   [-0.19980365959918678],\n",
       "   [-0.19019111240197503],\n",
       "   [-0.19980365959918678],\n",
       "   [-0.19980365959918678],\n",
       "   [-0.19019111240197503],\n",
       "   [-0.19980365959918678],\n",
       "   [-0.1949973860005809],\n",
       "   [-0.19980365959918678],\n",
       "   [-0.19980365959918678],\n",
       "   [-0.1949973860005809],\n",
       "   [-0.19019111240197503],\n",
       "   [-0.1949973860005809],\n",
       "   [-0.21010281731048505],\n",
       "   [-0.2052965437118792],\n",
       "   [-0.2052965437118792],\n",
       "   [-0.1949973860005809],\n",
       "   [-0.19980365959918678],\n",
       "   [-0.21010281731048505],\n",
       "   [-0.19980365959918678],\n",
       "   [-0.21010281731048505],\n",
       "   [-0.19980365959918678],\n",
       "   [-0.2052965437118792],\n",
       "   [-0.19980365959918678],\n",
       "   [-0.2052965437118792],\n",
       "   [-0.19980365959918678],\n",
       "   [-0.21010281731048505],\n",
       "   [-0.21010281731048505],\n",
       "   [-0.19980365959918678],\n",
       "   [-0.2052965437118792],\n",
       "   [-0.21010281731048505],\n",
       "   [-0.2052965437118792],\n",
       "   [-0.2149090909090909],\n",
       "   [-0.2052965437118792],\n",
       "   [-0.21010281731048505],\n",
       "   [-0.19980365959918678],\n",
       "   [-0.21010281731048505],\n",
       "   [-0.2052965437118792],\n",
       "   [-0.21010281731048505],\n",
       "   [-0.21010281731048505],\n",
       "   [-0.19980365959918678],\n",
       "   [-0.2052965437118792],\n",
       "   [-0.19980365959918678],\n",
       "   [-0.2052965437118792],\n",
       "   [-0.2052965437118792],\n",
       "   [-0.2149090909090909],\n",
       "   [-0.21010281731048505],\n",
       "   [-0.18469822828928262],\n",
       "   [-0.18469822828928262],\n",
       "   [-0.17508568109207087],\n",
       "   [-0.170279407493465],\n",
       "   [-0.170279407493465],\n",
       "   [-0.1647865233807726],\n",
       "   [-0.1599802497821667],\n",
       "   [-0.1400685448736567],\n",
       "   [-0.15517397618356085],\n",
       "   [-0.1400685448736567],\n",
       "   [-0.14487481847226258],\n",
       "   [-0.12976938716235842],\n",
       "   [-0.1400685448736567],\n",
       "   [-0.14968109207086844],\n",
       "   [-0.14487481847226258],\n",
       "   [-0.15517397618356085],\n",
       "   [-0.14968109207086844],\n",
       "   [-0.14968109207086844],\n",
       "   [-0.14487481847226258],\n",
       "   [-0.1400685448736567],\n",
       "   [-0.1400685448736567],\n",
       "   [-0.1400685448736567],\n",
       "   [-0.1599802497821667],\n",
       "   [-0.14968109207086844],\n",
       "   [-0.15517397618356085],\n",
       "   [-0.14968109207086844],\n",
       "   [-0.15517397618356085],\n",
       "   [-0.1647865233807726],\n",
       "   [-0.14968109207086844],\n",
       "   [-0.14487481847226258],\n",
       "   [-0.12496311356375255],\n",
       "   [-0.12976938716235842],\n",
       "   [-0.12496311356375255],\n",
       "   [-0.12496311356375255],\n",
       "   [-0.12015683996514669],\n",
       "   [-0.12015683996514669],\n",
       "   [-0.1400685448736567],\n",
       "   [-0.15517397618356085],\n",
       "   [-0.170279407493465],\n",
       "   [-0.19019111240197503],\n",
       "   [-0.1949973860005809],\n",
       "   [-0.21010281731048505],\n",
       "   [-0.21010281731048505],\n",
       "   [-0.2252082486203892],\n",
       "   [-0.21010281731048505],\n",
       "   [-0.2252082486203892],\n",
       "   [-0.23001452221899507],\n",
       "   [-0.24511995352889923],\n",
       "   [-0.254732500726111],\n",
       "   [-0.2650316584374092],\n",
       "   [-0.2849433633459193],\n",
       "   [-0.28974963694452516],\n",
       "   [-0.29524252105721754],\n",
       "   [-0.3000487946558234],\n",
       "   [-0.3000487946558234],\n",
       "   [-0.29524252105721754],\n",
       "   [-0.2849433633459193],\n",
       "   [-0.3000487946558234],\n",
       "   [-0.28974963694452516],\n",
       "   [-0.28974963694452516],\n",
       "   [-0.28974963694452516],\n",
       "   [-0.2801370897473134],\n",
       "   [-0.2801370897473134],\n",
       "   [-0.2753308161487075],\n",
       "   [-0.3000487946558234],\n",
       "   [-0.26983793203601514],\n",
       "   [-0.26983793203601514],\n",
       "   [-0.26022538483880336],\n",
       "   [-0.26022538483880336],\n",
       "   [-0.26022538483880336],\n",
       "   [-0.26022538483880336],\n",
       "   [-0.26022538483880336],\n",
       "   [-0.2499262271275051],\n",
       "   [-0.2499262271275051],\n",
       "   [-0.24031367993029337],\n",
       "   [-0.23001452221899507],\n",
       "   [-0.23482079581760093],\n",
       "   [-0.2149090909090909],\n",
       "   [-0.2252082486203892],\n",
       "   [-0.2252082486203892],\n",
       "   [-0.2499262271275051],\n",
       "   [-0.2499262271275051],\n",
       "   [-0.26983793203601514],\n",
       "   [-0.3048550682544293],\n",
       "   [-0.31515422596572756],\n",
       "   [-0.3096613418530352],\n",
       "   [-0.3000487946558234],\n",
       "   [-0.28974963694452516],\n",
       "   [-0.26022538483880336],\n",
       "   [-0.254732500726111],\n",
       "   [-0.2052965437118792],\n",
       "   [-0.13526227127505083],\n",
       "   [-0.12496311356375255],\n",
       "   [-0.09475225094394424],\n",
       "   [-0.0549288411269242],\n",
       "   [-0.059735114725530065],\n",
       "   [-0.08994597734533838],\n",
       "   [-0.12976938716235842],\n",
       "   [-0.14968109207086844],\n",
       "   [-0.1400685448736567],\n",
       "   [-0.07003427243682835],\n",
       "   [-0.06522799883822249],\n",
       "   [-0.1098576822538484],\n",
       "   [-0.17508568109207087],\n",
       "   [-0.1949973860005809],\n",
       "   [-0.19980365959918678],\n",
       "   [-0.21010281731048505],\n",
       "   [-0.17989195469067676],\n",
       "   [-0.170279407493465],\n",
       "   [-0.17989195469067676],\n",
       "   [-0.19980365959918678],\n",
       "   [-0.2052965437118792],\n",
       "   [-0.17508568109207087],\n",
       "   [-0.19019111240197503],\n",
       "   [-0.17508568109207087],\n",
       "   [-0.17989195469067676],\n",
       "   [-0.1949973860005809],\n",
       "   [-0.2052965437118792],\n",
       "   [-0.2052965437118792],\n",
       "   [-0.19019111240197503],\n",
       "   [-0.19980365959918678],\n",
       "   [-0.19019111240197503],\n",
       "   [-0.1949973860005809],\n",
       "   [-0.19019111240197503],\n",
       "   [-0.19019111240197503],\n",
       "   [-0.18469822828928262],\n",
       "   [-0.17989195469067676],\n",
       "   [-0.18469822828928262],\n",
       "   [-0.17508568109207087],\n",
       "   [-0.17989195469067676],\n",
       "   [-0.18469822828928262],\n",
       "   [-0.17989195469067676],\n",
       "   [-0.18469822828928262],\n",
       "   [-0.1599802497821667],\n",
       "   [-0.1647865233807726],\n",
       "   [-0.15517397618356085],\n",
       "   [-0.17508568109207087],\n",
       "   [-0.17508568109207087],\n",
       "   [-0.170279407493465],\n",
       "   [-0.1599802497821667],\n",
       "   [-0.1599802497821667],\n",
       "   [-0.1647865233807726],\n",
       "   [-0.15517397618356085],\n",
       "   [-0.1599802497821667],\n",
       "   [-0.15517397618356085],\n",
       "   [-0.14968109207086844],\n",
       "   [-0.1599802497821667],\n",
       "   [-0.1599802497821667],\n",
       "   [-0.15517397618356085],\n",
       "   [-0.13526227127505083],\n",
       "   [-0.1400685448736567],\n",
       "   [-0.14487481847226258],\n",
       "   [-0.14487481847226258],\n",
       "   [-0.15517397618356085],\n",
       "   [-0.14487481847226258],\n",
       "   [-0.15517397618356085],\n",
       "   [-0.15517397618356085],\n",
       "   [-0.15517397618356085],\n",
       "   [-0.1400685448736567],\n",
       "   [-0.1400685448736567],\n",
       "   [-0.14487481847226258],\n",
       "   [-0.1400685448736567],\n",
       "   [-0.1400685448736567],\n",
       "   [-0.1400685448736567],\n",
       "   [-0.13526227127505083],\n",
       "   [-0.13526227127505083],\n",
       "   [-0.1400685448736567],\n",
       "   [-0.14487481847226258],\n",
       "   [-0.12496311356375255],\n",
       "   [-0.14487481847226258],\n",
       "   [-0.12976938716235842],\n",
       "   [-0.12976938716235842],\n",
       "   [-0.13526227127505083],\n",
       "   [-0.13526227127505083],\n",
       "   [-0.12496311356375255],\n",
       "   [-0.10505140865524253],\n",
       "   [-0.12496311356375255],\n",
       "   [-0.12015683996514669],\n",
       "   [-0.12496311356375255],\n",
       "   [-0.12496311356375255],\n",
       "   [-0.12976938716235842],\n",
       "   [-0.13526227127505083],\n",
       "   [-0.1098576822538484],\n",
       "   [-0.1098576822538484],\n",
       "   [-0.12015683996514669],\n",
       "   [-0.12496311356375255],\n",
       "   [-0.11466395585245426],\n",
       "   [-0.1098576822538484],\n",
       "   [-0.12015683996514669],\n",
       "   [-0.10024513505663665],\n",
       "   [-0.1098576822538484],\n",
       "   [-0.1098576822538484],\n",
       "   [-0.13526227127505083],\n",
       "   [-0.12496311356375255],\n",
       "   [-0.11466395585245426],\n",
       "   [-0.1098576822538484],\n",
       "   [-0.1098576822538484],\n",
       "   [-0.1098576822538484],\n",
       "   [-0.10505140865524253],\n",
       "   [-0.1098576822538484],\n",
       "   [-0.1098576822538484],\n",
       "   [-0.1098576822538484],\n",
       "   [-0.12015683996514669],\n",
       "   [-0.10505140865524253],\n",
       "   [-0.1098576822538484],\n",
       "   [-0.10024513505663665],\n",
       "   [-0.1098576822538484],\n",
       "   [-0.10024513505663665],\n",
       "   [-0.09475225094394424],\n",
       "   [-0.10024513505663665],\n",
       "   [-0.10024513505663665],\n",
       "   [-0.10505140865524253],\n",
       "   [-0.10505140865524253],\n",
       "   [-0.11466395585245426],\n",
       "   [-0.10505140865524253],\n",
       "   [-0.10505140865524253],\n",
       "   [-0.11466395585245426],\n",
       "   [-0.11466395585245426],\n",
       "   [-0.1098576822538484],\n",
       "   [-0.1098576822538484],\n",
       "   [-0.11466395585245426],\n",
       "   [-0.12015683996514669],\n",
       "   [-0.13526227127505083],\n",
       "   [-0.14487481847226258],\n",
       "   [-0.12496311356375255],\n",
       "   [-0.1400685448736567],\n",
       "   [-0.13526227127505083],\n",
       "   [-0.14968109207086844],\n",
       "   [-0.14968109207086844],\n",
       "   [-0.1400685448736567],\n",
       "   [-0.1400685448736567],\n",
       "   [-0.1400685448736567],\n",
       "   [-0.14968109207086844],\n",
       "   [-0.15517397618356085],\n",
       "   [-0.1647865233807726],\n",
       "   [-0.1647865233807726],\n",
       "   [-0.1599802497821667],\n",
       "   [-0.18469822828928262],\n",
       "   [-0.17989195469067676],\n",
       "   [-0.18469822828928262],\n",
       "   [-0.18469822828928262],\n",
       "   [-0.1949973860005809],\n",
       "   [-0.19980365959918678],\n",
       "   [-0.1949973860005809],\n",
       "   [-0.2052965437118792],\n",
       "   [-0.1949973860005809],\n",
       "   [-0.2149090909090909],\n",
       "   [-0.19980365959918678],\n",
       "   [-0.21010281731048505],\n",
       "   [-0.2052965437118792],\n",
       "   [-0.2052965437118792],\n",
       "   [-0.19980365959918678],\n",
       "   [-0.2052965437118792],\n",
       "   [-0.2149090909090909],\n",
       "   [-0.2052965437118792],\n",
       "   [-0.19980365959918678],\n",
       "   [-0.19980365959918678],\n",
       "   [-0.19019111240197503],\n",
       "   [-0.2052965437118792],\n",
       "   [-0.19980365959918678],\n",
       "   [-0.2149090909090909],\n",
       "   [-0.19980365959918678],\n",
       "   [-0.2052965437118792],\n",
       "   [-0.2052965437118792],\n",
       "   [-0.1949973860005809],\n",
       "   [-0.19019111240197503],\n",
       "   [-0.18469822828928262],\n",
       "   [-0.1949973860005809],\n",
       "   [-0.19019111240197503],\n",
       "   [-0.19980365959918678],\n",
       "   [-0.1949973860005809],\n",
       "   [-0.1949973860005809],\n",
       "   [-0.1949973860005809],\n",
       "   [-0.17989195469067676],\n",
       "   [-0.17508568109207087],\n",
       "   [-0.170279407493465],\n",
       "   [-0.17989195469067676],\n",
       "   [-0.17989195469067676],\n",
       "   [-0.170279407493465],\n",
       "   [-0.17508568109207087],\n",
       "   [-0.1599802497821667],\n",
       "   [-0.170279407493465],\n",
       "   [-0.1599802497821667],\n",
       "   [-0.170279407493465],\n",
       "   [-0.170279407493465],\n",
       "   [-0.1647865233807726],\n",
       "   [-0.1647865233807726],\n",
       "   [-0.1647865233807726],\n",
       "   [-0.170279407493465],\n",
       "   [-0.1647865233807726],\n",
       "   [-0.170279407493465],\n",
       "   [-0.18469822828928262],\n",
       "   [-0.17508568109207087],\n",
       "   [-0.17989195469067676],\n",
       "   [-0.170279407493465],\n",
       "   [-0.17989195469067676],\n",
       "   [-0.17989195469067676],\n",
       "   [-0.17989195469067676],\n",
       "   [-0.17508568109207087],\n",
       "   [-0.17508568109207087],\n",
       "   [-0.17989195469067676],\n",
       "   [-0.1647865233807726],\n",
       "   [-0.17508568109207087],\n",
       "   [-0.170279407493465],\n",
       "   [-0.17508568109207087],\n",
       "   [-0.170279407493465],\n",
       "   [-0.17508568109207087],\n",
       "   [-0.17508568109207087],\n",
       "   [-0.1647865233807726],\n",
       "   [-0.170279407493465],\n",
       "   [-0.17508568109207087],\n",
       "   [-0.17989195469067676],\n",
       "   [-0.18469822828928262],\n",
       "   [-0.17989195469067676],\n",
       "   [-0.18469822828928262],\n",
       "   [-0.17508568109207087],\n",
       "   [-0.19019111240197503],\n",
       "   [-0.17508568109207087],\n",
       "   [-0.18469822828928262],\n",
       "   [-0.18469822828928262],\n",
       "   [-0.18469822828928262],\n",
       "   [-0.19019111240197503],\n",
       "   [-0.19019111240197503],\n",
       "   [-0.1949973860005809],\n",
       "   [-0.17989195469067676],\n",
       "   [-0.17508568109207087],\n",
       "   [-0.17989195469067676],\n",
       "   [-0.17989195469067676],\n",
       "   [-0.19019111240197503],\n",
       "   [-0.18469822828928262],\n",
       "   [-0.19019111240197503],\n",
       "   [-0.17989195469067676],\n",
       "   [-0.18469822828928262],\n",
       "   [-0.18469822828928262],\n",
       "   [-0.17508568109207087],\n",
       "   [-0.18469822828928262],\n",
       "   [-0.18469822828928262],\n",
       "   [-0.1949973860005809],\n",
       "   [-0.17989195469067676],\n",
       "   [-0.18469822828928262],\n",
       "   [-0.17989195469067676],\n",
       "   [-0.17989195469067676],\n",
       "   [-0.18469822828928262],\n",
       "   [-0.17989195469067676],\n",
       "   [-0.17508568109207087],\n",
       "   [-0.17508568109207087],\n",
       "   [-0.17508568109207087],\n",
       "   [-0.17989195469067676],\n",
       "   [-0.170279407493465],\n",
       "   [-0.17989195469067676],\n",
       "   [-0.1647865233807726],\n",
       "   [-0.170279407493465],\n",
       "   [-0.14968109207086844],\n",
       "   [-0.14968109207086844],\n",
       "   [-0.14487481847226258],\n",
       "   [-0.13526227127505083],\n",
       "   [-0.1400685448736567],\n",
       "   [-0.13526227127505083],\n",
       "   [-0.14487481847226258],\n",
       "   [-0.1400685448736567],\n",
       "   [-0.15517397618356085],\n",
       "   [-0.15517397618356085],\n",
       "   [-0.14968109207086844],\n",
       "   [-0.1599802497821667],\n",
       "   [-0.1647865233807726],\n",
       "   [-0.17989195469067676],\n",
       "   [-0.19019111240197503],\n",
       "   [-0.1949973860005809],\n",
       "   [-0.1949973860005809],\n",
       "   [-0.1949973860005809],\n",
       "   [-0.2197153645076968],\n",
       "   [-0.2149090909090909],\n",
       "   [-0.23482079581760093],\n",
       "   [-0.2252082486203892],\n",
       "   [-0.23482079581760093],\n",
       "   [-0.24511995352889923],\n",
       "   [-0.26022538483880336],\n",
       "   [-0.2801370897473134],\n",
       "   [-0.29524252105721754],\n",
       "   [-0.28974963694452516],\n",
       "   [-0.2849433633459193],\n",
       "   [-0.28974963694452516],\n",
       "   [-0.29524252105721754],\n",
       "   [-0.2849433633459193],\n",
       "   [-0.28974963694452516],\n",
       "   [-0.2849433633459193],\n",
       "   [-0.3048550682544293],\n",
       "   [-0.31515422596572756],\n",
       "   [-0.3302596572756317],\n",
       "   [-0.33987220447284344],\n",
       "   [-0.3652767934940459],\n",
       "   [-0.39480104559976764],\n",
       "   [-0.4099064769096718],\n",
       "   [-0.43531106593087426],\n",
       "   [-0.43531106593087426],\n",
       "   [-0.44972988672669184],\n",
       "   [-0.464835318036596],\n",
       "   [-0.47994074934650016],\n",
       "   [-0.4998524542550102],\n",
       "   [-0.5149578855649144],\n",
       "   [-0.5396758640720303],\n",
       "   [-0.5746930002904445],\n",
       "   [-0.615203020621551],\n",
       "   [-0.6447272727272728],\n",
       "   [-0.6447272727272728],\n",
       "   [-0.6653255881498693],\n",
       "   [-0.6653255881498693],\n",
       "   [-0.6900435666569852],\n",
       "   [-0.6852372930583793],\n",
       "   [-0.7003427243682835],\n",
       "   [-0.7099552715654952],\n",
       "   [-0.7147615451641011],\n",
       "   [-0.7401661341853035],\n",
       "   [-0.7497786813825152],\n",
       "   [-0.7696903862910253],\n",
       "   [-0.7751832704037177],\n",
       "   [-0.7847958176009294],\n",
       "   [-0.7999012489108336],\n",
       "   [-0.7999012489108336],\n",
       "   [-0.8150066802207377],\n",
       "   [-0.8102004066221319],\n",
       "   [-0.8301121115306419],\n",
       "   [-0.8397246587278536],\n",
       "   [-0.8500238164391519],\n",
       "   [-0.8651292477490561],\n",
       "   [-0.8548300900377578],\n",
       "   [-0.8699355213476619],\n",
       "   [-0.8850409526575661],\n",
       "   [-0.909758931164682],\n",
       "   [-0.8953401103688644],\n",
       "   [-0.9001463839674703],\n",
       "   [-0.9049526575660761],\n",
       "   [-0.9248643624745861],\n",
       "   [-0.9550752250943945],\n",
       "   [-0.9900923613128086],\n",
       "   [-1.0402149288411269],\n",
       "   [-1.064932907348243],\n",
       "   [-1.0697391809468488],\n",
       "   [-1.0903374963694452],\n",
       "   [-1.075232065059541],\n",
       "   [-1.060126633749637],\n",
       "   [-1.045021202439733],\n",
       "   [-1.025109497531223],\n",
       "   [-0.9598814986930003],\n",
       "   [-0.9502689514957886],\n",
       "   [-0.9248643624745861],\n",
       "   [-0.8850409526575661],\n",
       "   [-0.889847226256172],\n",
       "   [-0.909758931164682],\n",
       "   [-0.9550752250943945],\n",
       "   [-0.9900923613128086],\n",
       "   [-0.9900923613128086],\n",
       "   [-0.9399697937844903],\n",
       "   [-0.9351635201858844],\n",
       "   [-1.0051977926227127],\n",
       "   [-1.0697391809468488],\n",
       "   [-1.1198617484751672],\n",
       "   [-1.1452663374963694],\n",
       "   [-1.1397734533836772],\n",
       "   [-1.1198617484751672],\n",
       "   [-1.0903374963694452],\n",
       "   [-1.104756317165263],\n",
       "   [-1.1301609061864653],\n",
       "   [-1.1452663374963694],\n",
       "   [-1.1198617484751672],\n",
       "   [-1.1397734533836772],\n",
       "   [-1.1397734533836772],\n",
       "   [-1.1349671797850711],\n",
       "   [-1.1548788846935811],\n",
       "   [-1.1699843160034853],\n",
       "   [-1.1802834737147836],\n",
       "   [-1.1850897473133895],\n",
       "   [-1.1898960209119953],\n",
       "   [-1.2153006099331978],\n",
       "   [-1.2153006099331978],\n",
       "   [-1.2201068835318036],\n",
       "   [-1.2098077258205053],\n",
       "   [-1.2249131571304095],\n",
       "   [-1.2201068835318036],\n",
       "   [-1.2352123148417078],\n",
       "   [-1.2400185884403137],\n",
       "   [-1.2352123148417078],\n",
       "   [-1.250317746151612],\n",
       "   [-1.250317746151612],\n",
       "   [-1.2599302933488237],\n",
       "   [-1.2599302933488237],\n",
       "   [-1.270229451060122],\n",
       "   [-1.2853348823700261],\n",
       "   [-1.2853348823700261],\n",
       "   [-1.2997537031658437],\n",
       "   [-1.3052465872785362],\n",
       "   [-1.3148591344757479],\n",
       "   [-1.3196654080743537],\n",
       "   [-1.3196654080743537],\n",
       "   [-1.3251582921870462],\n",
       "   [-1.3196654080743537],\n",
       "   [-1.334770839384258],\n",
       "   [-1.3251582921870462],\n",
       "   [-1.3450699970955562],\n",
       "   [-1.334770839384258],\n",
       "   [-1.3450699970955562],\n",
       "   [-1.349876270694162],\n",
       "   [-1.349876270694162],\n",
       "   [-1.3601754284054604],\n",
       "   [-1.3601754284054604],\n",
       "   [-1.369787975602672],\n",
       "   [-1.3752808597153645],\n",
       "   [-1.3800871333139704],\n",
       "   [-1.3848934069125762],\n",
       "   [-1.3800871333139704],\n",
       "   [-1.3999988382224804],\n",
       "   [-1.3951925646238745],\n",
       "   [-1.4048051118210862],\n",
       "   [-1.4151042695323846],\n",
       "   [-1.4302097008422887],\n",
       "   [-1.4302097008422887],\n",
       "   [-1.4151042695323846],\n",
       "   [-1.4247168167295963],\n",
       "   [-1.4302097008422887],\n",
       "   [-1.4453151321521929],\n",
       "   [-1.4453151321521929],\n",
       "   [-1.4597339529480104],\n",
       "   [-1.465226837060703],\n",
       "   [-1.4597339529480104],\n",
       "   [-1.4700331106593088],\n",
       "   [-1.4700331106593088],\n",
       "   [-1.4700331106593088],\n",
       "   [-1.4899448155678188],\n",
       "   [-1.4947510891664246],\n",
       "   [-1.505050246877723],\n",
       "   [-1.505050246877723],\n",
       "   [-1.520155678187627],\n",
       "   [-1.505050246877723],\n",
       "   [-1.520155678187627],\n",
       "   [-1.524961951786233],\n",
       "   [-1.5352611094975313],\n",
       "   [-1.5352611094975313],\n",
       "   [-1.540067383096137],\n",
       "   [-1.5551728144060413],\n",
       "   [-1.5496799302933488],\n",
       "   [-1.5551728144060413],\n",
       "   [-1.5496799302933488],\n",
       "   [-1.5551728144060413],\n",
       "   [-1.564785361603253],\n",
       "   [-1.5551728144060413],\n",
       "   [-1.564785361603253],\n",
       "   [-1.5702782457159454],\n",
       "   [-1.5750845193145513],\n",
       "   [-1.5798907929131571],\n",
       "   [-1.5798907929131571],\n",
       "   [-1.584697066511763],\n",
       "   [-1.5798907929131571],\n",
       "   [-1.5949962242230613],\n",
       "   [-1.584697066511763],\n",
       "   [-1.5998024978216672],\n",
       "   [-1.5949962242230613],\n",
       "   [-1.5998024978216672],\n",
       "   [-1.5998024978216672],\n",
       "   [-1.6052953819343596],\n",
       "   [-1.6149079291315713],\n",
       "   [-1.6149079291315713],\n",
       "   [-1.6197142027301772],\n",
       "   [-1.6197142027301772],\n",
       "   [-1.6149079291315713],\n",
       "   [-1.6149079291315713],\n",
       "   [-1.6149079291315713],\n",
       "   [-1.6348196340400813],\n",
       "   [-1.6348196340400813],\n",
       "   [-1.6499250653499855],\n",
       "   [-1.6499250653499855],\n",
       "   [-1.6602242230612838],\n",
       "   [-1.6698367702584955],\n",
       "   [-1.6698367702584955],\n",
       "   [-1.6801359279697938],\n",
       "   [-1.6801359279697938],\n",
       "   [-1.7000476328783038],\n",
       "   [-1.7096601800755156],\n",
       "   [-1.7199593377868139],\n",
       "   [-1.7302584954981122],\n",
       "   [-1.7398710426953239],\n",
       "   [-1.754976474005228],\n",
       "   [-1.754976474005228],\n",
       "   [-1.7652756317165263],\n",
       "   [-1.7851873366250364],\n",
       "   [-1.7899936102236422],\n",
       "   [-1.8099053151321522],\n",
       "   [-1.8050990415335464],\n",
       "   [-1.8353099041533547],\n",
       "   [-1.8353099041533547],\n",
       "   [-1.8552216090618647],\n",
       "   [-1.8648341562590764],\n",
       "   [-1.890238745280279],\n",
       "   [-1.8998512924774906],\n",
       "   [-1.9046575660760965],\n",
       "   [-1.925255881498693],\n",
       "   [-1.9348684286959048],\n",
       "   [-1.949973860005809],\n",
       "   [-1.9602730177171073],\n",
       "   [-1.9746918385129248],\n",
       "   [-1.989797269822829],\n",
       "   [-1.989797269822829],\n",
       "   [-2.0152018588440317],\n",
       "   [-2.0152018588440317],\n",
       "   [-2.0351135637525415],\n",
       "   [-2.0399198373511473],\n",
       "   [-2.050218995062446],\n",
       "   [-2.06532442637235],\n",
       "   [-2.0749369735695615],\n",
       "   [-2.090042404879466],\n",
       "   [-2.0948486784780718],\n",
       "   [-2.1099541097879757],\n",
       "   [-2.1099541097879757],\n",
       "   [-2.12505954109788],\n",
       "   [-2.140164972407784],\n",
       "   [-2.1497775196049957],\n",
       "   [-2.1648829509149],\n",
       "   [-2.169689224513506],\n",
       "   [-2.18479465582341],\n",
       "   [-2.195093813534708],\n",
       "   [-2.195093813534708],\n",
       "   [-2.20470636073192],\n",
       "   [-2.1999000871333143],\n",
       "   [-2.2253046761545163],\n",
       "   [-2.219811792041824],\n",
       "   [-2.2452163810630266],\n",
       "   [-2.2452163810630266],\n",
       "   [-2.2500226546616324],\n",
       "   [-2.2500226546616324],\n",
       "   [-2.2397234969503343],\n",
       "   [-2.2500226546616324],\n",
       "   [-2.2397234969503343],\n",
       "   [-2.2397234969503343],\n",
       "   [-2.234917223351728],\n",
       "   [-2.2397234969503343],\n",
       "   [-2.2548289282602383],\n",
       "   [-2.2603218123729305],\n",
       "   [-2.2802335172814407],\n",
       "   [-2.2850397908800466],\n",
       "   [-2.2953389485913447],\n",
       "   [-2.2898460644786525],\n",
       "   [-2.2898460644786525],\n",
       "   [-2.2898460644786525],\n",
       "   [-2.2651280859715364],\n",
       "   [-2.2699343595701422],\n",
       "   [-2.2548289282602383],\n",
       "   [-2.2699343595701422],\n",
       "   [-2.2548289282602383],\n",
       "   [-2.2500226546616324],\n",
       "   [-2.2603218123729305],\n",
       "   [-2.2699343595701422],\n",
       "   [-2.2898460644786525],\n",
       "   [-2.3001452221899505],\n",
       "   [-2.3248632006970666],\n",
       "   [-2.3351623584083647],\n",
       "   [-2.3351623584083647],\n",
       "   [-2.359880336915481],\n",
       "   [-2.359880336915481],\n",
       "   [-2.390091199535289],\n",
       "   [-2.3852849259366833],\n",
       "   [-2.405196630845193],\n",
       "   [-2.410002904443799],\n",
       "   [-2.429914609352309],\n",
       "   [-2.4553191983735116],\n",
       "   [-2.4649317455707234],\n",
       "   [-2.4800371768806273],\n",
       "   [-2.490336334591926],\n",
       "   [-2.5102480395004356],\n",
       "   [-2.5150543130990415],\n",
       "   [-2.5349660180075517],\n",
       "   [-2.5397722916061576],\n",
       "   [-2.5397722916061576],\n",
       "   [-2.56517688062736],\n",
       "   [-2.580282311937264],\n",
       "   [-2.5947011327330816],\n",
       "   [-2.6001940168457742],\n",
       "   [-2.60500029044438],\n",
       "   [-2.62491199535289],\n",
       "   [-2.6352111530641884],\n",
       "   [-2.66473540516991],\n",
       "   [-2.6750345628812084],\n",
       "   [-2.6901399941911124],\n",
       "   [-2.6853337205925065],\n",
       "   [-2.7052454255010168],\n",
       "   [-2.7196642462968343],\n",
       "   [-2.7251571304095266],\n",
       "   [-2.7347696776067383],\n",
       "   [-2.745068835318037],\n",
       "   [-2.7546813825152485],\n",
       "   [-2.7546813825152485],\n",
       "   [-2.7498751089166427],\n",
       "   [-2.7649805402265466],\n",
       "   [-2.7697868138251525],\n",
       "   [-2.7896985187336627],\n",
       "   [-2.780085971536451],\n",
       "   [-2.795191402846355],\n",
       "   [-2.8048039500435666],\n",
       "   [-2.824715654952077],\n",
       "   [-2.8453139703746735],\n",
       "   [-2.8501202439732793],\n",
       "   [-2.874838222480395],\n",
       "   [-2.8851373801916935],\n",
       "   [-2.9352599477200116],\n",
       "   [-2.970277083938426],\n",
       "   [-2.994995062445542],\n",
       "   [-3.00529422015684],\n",
       "   [-3.00529422015684],\n",
       "   [-2.999801336044148],\n",
       "   [-2.9647841998257336],\n",
       "   [-2.949678768515829],\n",
       "   [-2.909855358698809],\n",
       "   [-2.839821086261981],\n",
       "   [-2.824715654952077],\n",
       "   [-2.795191402846355],\n",
       "   [-2.780085971536451],\n",
       "   [-2.775279697937845],\n",
       "   [-2.8102968341562593],\n",
       "   [-2.839821086261981],\n",
       "   [-2.8851373801916935],\n",
       "   [-2.870031948881789],\n",
       "   [-2.830208539064769],\n",
       "   [-2.859732791170491],\n",
       "   [-2.9297670636073194],\n",
       "   [-2.999801336044148],\n",
       "   [-3.040311356375254],\n",
       "   [-3.0547301771710718],\n",
       "   [-3.04511762997386],\n",
       "   [-3.00529422015684],\n",
       "   [-2.9846959047342434],\n",
       "   [-2.9846959047342434],\n",
       "   [-3.0149067673540517],\n",
       "   [-3.010100493755446],\n",
       "   [-2.999801336044148],\n",
       "   [-3.0149067673540517],\n",
       "   [-3.00529422015684],\n",
       "   [-3.0197130409526576],\n",
       "   [-3.030012198663956],\n",
       "   [-3.0602230612837644],\n",
       "   [-3.0602230612837644],\n",
       "   [-3.069835608480976],\n",
       "   [-3.0753284925936684],\n",
       "   [-3.0753284925936684],\n",
       "   [-3.080134766192274],\n",
       "   [-3.08494103979088],\n",
       "   [-3.089747313389486],\n",
       "   [-3.0952401975021786],\n",
       "   [-3.0952401975021786],\n",
       "   [-3.109659018297996],\n",
       "   [-3.1048527446993903],\n",
       "   [-3.1199581760092943],\n",
       "   [-3.109659018297996],\n",
       "   [-3.109659018297996],\n",
       "   [-3.1151519024106884],\n",
       "   [-3.1199581760092943],\n",
       "   [-3.1247644496079],\n",
       "   [-3.1199581760092943],\n",
       "   [-3.1350636073191986],\n",
       "   [-3.1350636073191986],\n",
       "   [-3.1350636073191986],\n",
       "   [-3.1398698809178045],\n",
       "   [-3.1501690386291026],\n",
       "   [-3.165274469939007],\n",
       "   [-3.165274469939007],\n",
       "   [-3.1748870171362187],\n",
       "   [-3.170080743537613],\n",
       "   [-3.1748870171362187],\n",
       "   [-3.1748870171362187],\n",
       "   [-3.1748870171362187],\n",
       "   [-3.1899924484461226],\n",
       "   [-3.1748870171362187],\n",
       "   [-3.1947987220447285],\n",
       "   [-3.1796932907348245],\n",
       "   [-3.1947987220447285],\n",
       "   [-3.200291606157421],\n",
       "   [-3.205097879756027],\n",
       "   [-3.209904153354633],\n",
       "   [-3.209904153354633],\n",
       "   [-3.205097879756027],\n",
       "   [-3.200291606157421],\n",
       "   [-3.200291606157421],\n",
       "   [-3.1947987220447285],\n",
       "   [-3.1899924484461226],\n",
       "   [-3.209904153354633],\n",
       "   [-3.209904153354633],\n",
       "   [-3.220203311065931],\n",
       "   [-3.2147104269532387],\n",
       "   [-3.225009584664537],\n",
       "   [-3.220203311065931],\n",
       "   [-3.220203311065931],\n",
       "   [-3.220203311065931],\n",
       "   [-3.2147104269532387],\n",
       "   [-3.225009584664537],\n",
       "   [-3.220203311065931],\n",
       "   [-3.2298158582631427],\n",
       "   [-3.220203311065931],\n",
       "   [-3.220203311065931],\n",
       "   [-3.2353087423758353],\n",
       "   [-3.2353087423758353],\n",
       "   [-3.240115015974441],\n",
       "   [-3.2353087423758353],\n",
       "   [-3.2353087423758353],\n",
       "   [-3.2353087423758353],\n",
       "   [-3.2353087423758353],\n",
       "   [-3.244921289573047],\n",
       "   [-3.240115015974441],\n",
       "   [-3.260026720882951],\n",
       "   [-3.244921289573047],\n",
       "   [-3.260026720882951],\n",
       "   [-3.249727563171653],\n",
       "   [-3.240115015974441],\n",
       "   [-3.240115015974441],\n",
       "   [-3.244921289573047],\n",
       "   [-3.255220447284345],\n",
       "   [-3.244921289573047],\n",
       "   [-3.249727563171653],\n",
       "   [-3.249727563171653],\n",
       "   [-3.244921289573047],\n",
       "   [-3.255220447284345],\n",
       "   [-3.249727563171653],\n",
       "   [-3.255220447284345],\n",
       "   [-3.240115015974441],\n",
       "   [-3.240115015974441],\n",
       "   [-3.244921289573047],\n",
       "   [-3.240115015974441],\n",
       "   [-3.249727563171653],\n",
       "   [-3.240115015974441],\n",
       "   [-3.249727563171653],\n",
       "   [-3.244921289573047],\n",
       "   [-3.255220447284345],\n",
       "   [-3.249727563171653],\n",
       "   [-3.260026720882951],\n",
       "   [-3.2703258785942495],\n",
       "   [-3.2703258785942495],\n",
       "   [-3.279938425791461],\n",
       "   [-3.284744699390067],\n",
       "   [-3.2902375835027593],\n",
       "   [-3.2902375835027593],\n",
       "   [-3.284744699390067],\n",
       "   [-3.3101492884112695],\n",
       "   [-3.3149555620098754],\n",
       "   [-3.3300609933197793],\n",
       "   [-3.3197618356084813],\n",
       "   [-3.3300609933197793],\n",
       "   [-3.3300609933197793],\n",
       "   [-3.3451664246296837],\n",
       "   [-3.3602718559395877],\n",
       "   [-3.3602718559395877],\n",
       "   [-3.3746906767354052],\n",
       "   [-3.380183560848098],\n",
       "   [-3.3849898344467038],\n",
       "   [-3.3897961080453096],\n",
       "   [-3.4049015393552136],\n",
       "   [-3.435112401975022],\n",
       "   [-3.4502178332849263],\n",
       "   [-3.46532326459483],\n",
       "   [-3.470129538193436],\n",
       "   [-3.4900412431019463],\n",
       "   [-3.494847516700552],\n",
       "   [-3.4900412431019463],\n",
       "   [-3.5202521057217546],\n",
       "   [-3.5250583793203605],\n",
       "   [-3.5401638106302644],\n",
       "   [-3.534670926517572],\n",
       "   [-3.549776357827476],\n",
       "   [-3.549776357827476],\n",
       "   [-3.5600755155387747],\n",
       "   [-3.5751809468486786],\n",
       "   [-3.5847934940458903],\n",
       "   [-3.595092651757189],\n",
       "   [-3.6047051989544006],\n",
       "   [-3.6150043566656986],\n",
       "   [-3.630109787975603],\n",
       "   [-3.625303514376997],\n",
       "   [-3.645215219285507],\n",
       "   [-3.645215219285507],\n",
       "   [-3.6603206505954113],\n",
       "   [-3.6548277664827187],\n",
       "   [-3.6603206505954113],\n",
       "   [-3.665126924194017],\n",
       "   [-3.674739471391229],\n",
       "   [-3.685038629102527],\n",
       "   [-3.674739471391229],\n",
       "   [-3.6953377868138255],\n",
       "   [-3.6953377868138255],\n",
       "   [-3.7049503340110372],\n",
       "   [-3.709756607609643],\n",
       "   [-3.709756607609643],\n",
       "   [-3.724862038919547],\n",
       "   [-3.724862038919547],\n",
       "   [-3.7351611966308456],\n",
       "   [-3.7447737438280573],\n",
       "   [-3.7550729015393554],\n",
       "   [-3.7550729015393554],\n",
       "   [-3.7447737438280573],\n",
       "   [-3.764685448736567],\n",
       "   [-3.759879175137961],\n",
       "   [-3.7749846064478656],\n",
       "   [-3.764685448736567],\n",
       "   [-3.7852837641591637],\n",
       "   [-3.7852837641591637],\n",
       "   [-3.7797908800464715],\n",
       "   [-3.7900900377577695],\n",
       "   [-3.7997025849549813],\n",
       "   [-3.8148080162648856],\n",
       "   [-3.8148080162648856],\n",
       "   [-3.820300900377578],\n",
       "   [-3.820300900377578],\n",
       "   [-3.8148080162648856],\n",
       "   [-3.8251071739761837],\n",
       "   [-3.820300900377578],\n",
       "   [-3.840212605286088],\n",
       "   [-3.840212605286088],\n",
       "   [-3.8498251524833],\n",
       "   [-3.860124310194598],\n",
       "   [-3.8649305837932038],\n",
       "   [-3.8752297415045023],\n",
       "   [-3.8697368573918096],\n",
       "   [-3.890335172814406],\n",
       "   [-3.884842288701714],\n",
       "   [-3.884842288701714],\n",
       "   [-3.884842288701714],\n",
       "   [-3.895141446413012],\n",
       "   [-3.899947720011618],\n",
       "   [-3.904753993610224],\n",
       "   [-3.924665698518734],\n",
       "   [-3.9301585826314263],\n",
       "   [-3.9301585826314263],\n",
       "   [-3.9452640139413306],\n",
       "   [-3.9452640139413306],\n",
       "   [-3.9651757188498404],\n",
       "   [-3.959682834737148],\n",
       "   [-3.980281150159745],\n",
       "   [-3.9651757188498404],\n",
       "   [-3.974788266047052],\n",
       "   [-3.980281150159745],\n",
       "   [-3.9898936973569565],\n",
       "   [-4.009805402265466],\n",
       "   [-4.009805402265466],\n",
       "   [-4.015298286378159],\n",
       "   [-4.020104559976764],\n",
       "   [-4.024910833575371],\n",
       "   [-4.024910833575371],\n",
       "   [-4.020104559976764],\n",
       "   [-4.035209991286669],\n",
       "   ...],\n",
       "  'd_signal': None,\n",
       "  'e_p_signal': None,\n",
       "  'e_d_signal': None,\n",
       "  'file_name': ['99435751_1.dat'],\n",
       "  'fmt': ['16'],\n",
       "  'samps_per_frame': [1],\n",
       "  'skew': [None],\n",
       "  'byte_offset': [None],\n",
       "  'adc_gain': [1456.4297800338409],\n",
       "  'baseline': [-15552],\n",
       "  'units': ['mV'],\n",
       "  'adc_res': [16],\n",
       "  'adc_zero': [0],\n",
       "  'init_value': [-15821],\n",
       "  'checksum': [47596],\n",
       "  'block_size': [0],\n",
       "  'label': True,\n",
       "  'alarm': datetime.datetime(2293, 3, 19, 1, 28, 24)},\n",
       " 'llm_answer': 'llm_anser',\n",
       " 'llm_explanation': 'explanation',\n",
       " 'all_claims': [],\n",
       " 'relevant_claims': [],\n",
       " 'alignable_claims': [],\n",
       " 'aligned_category_ids': [],\n",
       " 'alignment_scores': [],\n",
       " 'alignment_reasonings': [],\n",
       " 'final_alignment_score': 0.0}"
      ]
     },
     "execution_count": 17,
     "metadata": {},
     "output_type": "execute_result"
    }
   ],
   "source": [
    "c = CardiacExample(train_data[0], 'hi', 'llm_anser', 'explanation')\n",
    "c.to_dict()"
   ]
  },
  {
   "cell_type": "code",
   "execution_count": null,
   "id": "beccc97c-4e30-41cc-8f12-c19f37b76857",
   "metadata": {},
   "outputs": [],
   "source": [
    "cardiac_examples = []\n",
    "for idx,row in tqdm(cardiac_data.iterrows()):\n",
    "    llm_answer, explanation = get_llm_generated_answer(row['text'])\n",
    "    if llm_answer is None:\n",
    "        continue\n",
    "    cardiac_examples.append(CardiacExample(\n",
    "        input_, answer, llm_answer, llm_explanation\n",
    "    ))"
   ]
  },
  {
   "cell_type": "code",
   "execution_count": null,
   "id": "b4f96c65-6fa2-4bf6-a483-c5db34e95026",
   "metadata": {},
   "outputs": [],
   "source": []
  },
  {
   "cell_type": "code",
   "execution_count": 7,
   "id": "b733e792-09b6-4316-8d8a-6d82d3cb769e",
   "metadata": {
    "scrolled": true
   },
   "outputs": [],
   "source": [
    "CSN_suffix = '003'\n",
    "waveform_type = 'II'\n",
    "records_path = f\"/tmp/mc-med-1.0.0/data/waveforms/{CSN_suffix}/RECORDS\"\n",
    "\n",
    "with open(records_path, \"r\") as f:\n",
    "    lines = f.read().split('\\n')\n",
    "\n",
    "segment_paths = [line for line in lines if waveform_type in line]\n",
    "# segment_paths"
   ]
  },
  {
   "cell_type": "code",
   "execution_count": 8,
   "id": "d2b24f95-42df-4077-afc4-2ee594a2c386",
   "metadata": {},
   "outputs": [
    {
     "name": "stdout",
     "output_type": "stream",
     "text": [
      "torch.Size([53])\n"
     ]
    },
    {
     "data": {
      "text/plain": [
       "tensor([98974003, 98976003, 98982003, 98987003, 98989003, 98996003, 99011003,\n",
       "        99021003, 99068003, 99070003, 99120003, 99146003, 99147003, 99200003,\n",
       "        99266003, 99271003, 99298003, 99320003, 99335003, 99336003, 99390003,\n",
       "        99396003, 99407003, 99430003, 99445003, 99485003, 99508003, 99530003,\n",
       "        99554003, 99588003, 99596003, 99609003, 99618003, 99649003, 99654003,\n",
       "        99655003, 99659003, 99672003, 99674003, 99679003, 99696003, 99747003,\n",
       "        99759003, 99824003, 99831003, 99877003, 99881003, 99915003, 99916003,\n",
       "        99937003, 99965003, 99973003, 99996003])"
      ]
     },
     "execution_count": 8,
     "metadata": {},
     "output_type": "execute_result"
    }
   ],
   "source": [
    "patient_ids = torch.tensor([int(segment_path[:8]) for segment_path in segment_paths]).unique()\n",
    "print(patient_ids.shape)\n",
    "patient_ids"
   ]
  },
  {
   "cell_type": "markdown",
   "id": "4dff528d-485d-4cb8-9bf3-4f8ea0fc3e4c",
   "metadata": {},
   "source": [
    "#### Import alarm data\n",
    "and check if any of our patients had a cardiac arrest alarm\n"
   ]
  },
  {
   "cell_type": "code",
   "execution_count": 9,
   "id": "d2270fb1-d609-47de-a378-9f34061b2450",
   "metadata": {},
   "outputs": [
    {
     "data": {
      "text/plain": [
       "tensor([99996003])"
      ]
     },
     "execution_count": 9,
     "metadata": {},
     "output_type": "execute_result"
    }
   ],
   "source": [
    "alarms_df = pd.read_parquet('../data/sick_time.parquet', engine='pyarrow')\n",
    "\n",
    "alarm_patient_ids = torch.tensor([i.item() for i in patient_ids if i in alarms_df['CSN'].unique()])\n",
    "alarm_patient_ids"
   ]
  },
  {
   "cell_type": "code",
   "execution_count": 97,
   "id": "ca66167f-b288-4cd0-afbd-4db65590ee17",
   "metadata": {
    "scrolled": true
   },
   "outputs": [
    {
     "data": {
      "text/html": [
       "<div>\n",
       "<style scoped>\n",
       "    .dataframe tbody tr th:only-of-type {\n",
       "        vertical-align: middle;\n",
       "    }\n",
       "\n",
       "    .dataframe tbody tr th {\n",
       "        vertical-align: top;\n",
       "    }\n",
       "\n",
       "    .dataframe thead th {\n",
       "        text-align: right;\n",
       "    }\n",
       "</style>\n",
       "<table border=\"1\" class=\"dataframe\">\n",
       "  <thead>\n",
       "    <tr style=\"text-align: right;\">\n",
       "      <th></th>\n",
       "      <th>CSN</th>\n",
       "      <th>Alarm</th>\n",
       "    </tr>\n",
       "  </thead>\n",
       "  <tbody>\n",
       "    <tr>\n",
       "      <th>0</th>\n",
       "      <td>98974916</td>\n",
       "      <td>2288-12-08 10:17:39</td>\n",
       "    </tr>\n",
       "    <tr>\n",
       "      <th>1</th>\n",
       "      <td>98975250</td>\n",
       "      <td>2279-10-24 08:40:37</td>\n",
       "    </tr>\n",
       "    <tr>\n",
       "      <th>2</th>\n",
       "      <td>98982225</td>\n",
       "      <td>2238-07-19 10:31:15</td>\n",
       "    </tr>\n",
       "    <tr>\n",
       "      <th>3</th>\n",
       "      <td>98990360</td>\n",
       "      <td>2242-01-14 19:43:37</td>\n",
       "    </tr>\n",
       "    <tr>\n",
       "      <th>4</th>\n",
       "      <td>98995384</td>\n",
       "      <td>2276-05-18 10:59:45</td>\n",
       "    </tr>\n",
       "    <tr>\n",
       "      <th>...</th>\n",
       "      <td>...</td>\n",
       "      <td>...</td>\n",
       "    </tr>\n",
       "    <tr>\n",
       "      <th>438</th>\n",
       "      <td>99994144</td>\n",
       "      <td>2228-04-08 15:13:19</td>\n",
       "    </tr>\n",
       "    <tr>\n",
       "      <th>439</th>\n",
       "      <td>99995451</td>\n",
       "      <td>2273-04-24 12:04:55</td>\n",
       "    </tr>\n",
       "    <tr>\n",
       "      <th>440</th>\n",
       "      <td>99996003</td>\n",
       "      <td>2225-03-31 12:08:57</td>\n",
       "    </tr>\n",
       "    <tr>\n",
       "      <th>442</th>\n",
       "      <td>99997362</td>\n",
       "      <td>2205-12-12 16:44:12</td>\n",
       "    </tr>\n",
       "    <tr>\n",
       "      <th>443</th>\n",
       "      <td>99999769</td>\n",
       "      <td>2278-12-05 02:03:58</td>\n",
       "    </tr>\n",
       "  </tbody>\n",
       "</table>\n",
       "<p>425 rows × 2 columns</p>\n",
       "</div>"
      ],
      "text/plain": [
       "          CSN               Alarm\n",
       "0    98974916 2288-12-08 10:17:39\n",
       "1    98975250 2279-10-24 08:40:37\n",
       "2    98982225 2238-07-19 10:31:15\n",
       "3    98990360 2242-01-14 19:43:37\n",
       "4    98995384 2276-05-18 10:59:45\n",
       "..        ...                 ...\n",
       "438  99994144 2228-04-08 15:13:19\n",
       "439  99995451 2273-04-24 12:04:55\n",
       "440  99996003 2225-03-31 12:08:57\n",
       "442  99997362 2205-12-12 16:44:12\n",
       "443  99999769 2278-12-05 02:03:58\n",
       "\n",
       "[425 rows x 2 columns]"
      ]
     },
     "execution_count": 97,
     "metadata": {},
     "output_type": "execute_result"
    }
   ],
   "source": [
    "alarms_df"
   ]
  },
  {
   "cell_type": "markdown",
   "id": "9597c9b8-1112-4efa-a9b1-05d9fda7477c",
   "metadata": {},
   "source": [
    "#### Create some dicts for easy use"
   ]
  },
  {
   "cell_type": "code",
   "execution_count": 10,
   "id": "6b7467be-483f-45bb-a957-99dc8cfa42f3",
   "metadata": {
    "scrolled": true
   },
   "outputs": [],
   "source": [
    "patients_segments_dict = {}\n",
    "\n",
    "for patient_id in patient_ids:\n",
    "    patients_segments_dict[patient_id.item()] = [segment_path for segment_path in segment_paths if int(segment_path[:8]) == patient_id.item()]\n",
    "\n",
    "# patients_segments_dict"
   ]
  },
  {
   "cell_type": "code",
   "execution_count": 11,
   "id": "5c246b3c-0ab4-404e-80f4-ed9b97994486",
   "metadata": {
    "scrolled": true
   },
   "outputs": [],
   "source": [
    "patients_records_dict = {}\n",
    "\n",
    "for patient_id in patients_segments_dict:\n",
    "    record_list = []\n",
    "    for segment_path in patients_segments_dict[patient_id]:\n",
    "        data_path = f\"/tmp/mc-med-1.0.0/data/waveforms/{CSN_suffix}/{segment_path}\"\n",
    "        # Read the record\n",
    "        record = wfdb.rdrecord(data_path)\n",
    "        record_list.append(record)\n",
    "    patients_records_dict[patient_id] = record_list\n",
    "\n",
    "# patients_records_dict"
   ]
  },
  {
   "cell_type": "code",
   "execution_count": 47,
   "id": "65eb813a-80e3-430d-9c69-290105164484",
   "metadata": {},
   "outputs": [
    {
     "name": "stdout",
     "output_type": "stream",
     "text": [
      "Yes alarm!\n",
      "Patient id: 99996003\n"
     ]
    },
    {
     "data": {
      "text/plain": [
       "[<wfdb.io.record.Record at 0x7f87d2546f50>,\n",
       " <wfdb.io.record.Record at 0x7f87d2546f80>,\n",
       " <wfdb.io.record.Record at 0x7f87d2546fb0>]"
      ]
     },
     "execution_count": 47,
     "metadata": {},
     "output_type": "execute_result"
    }
   ],
   "source": [
    "if alarm_patient_ids.numel() == 0:\n",
    "    print(\"No alarm!\")\n",
    "    Full_CSN = patient_ids[0].item() # Full_CSN is another name for patient_id\n",
    "else:\n",
    "    print(\"Yes alarm!\")\n",
    "    Full_CSN = alarm_patient_ids[0].item()\n",
    "print('Patient id:', Full_CSN)\n",
    "patients_records_dict[Full_CSN]"
   ]
  },
  {
   "cell_type": "code",
   "execution_count": 82,
   "id": "97ac8fee-d8d3-4b81-b85b-f5ce09e690a2",
   "metadata": {},
   "outputs": [],
   "source": [
    "records = patients_records_dict[Full_CSN]"
   ]
  },
  {
   "cell_type": "code",
   "execution_count": 83,
   "id": "62312b5f-3705-431b-9a5e-3d6c24a54a15",
   "metadata": {},
   "outputs": [
    {
     "name": "stdout",
     "output_type": "stream",
     "text": [
      "{'record_name': '99996003_1', 'n_sig': 1, 'fs': 500, 'counter_freq': None, 'base_counter': None, 'sig_len': 476497, 'base_time': datetime.time(12, 0, 13, 772000), 'base_date': datetime.date(2225, 3, 31), 'comments': [], 'sig_name': ['II'], 'p_signal': array([[-0.024923  ],\n",
      "       [-0.0199384 ],\n",
      "       [-0.0099692 ],\n",
      "       ...,\n",
      "       [ 0.0348922 ],\n",
      "       [ 0.23427618],\n",
      "       [ 0.33396817]]), 'd_signal': None, 'e_p_signal': None, 'e_d_signal': None, 'file_name': ['99996003_1.dat'], 'fmt': ['212'], 'samps_per_frame': [1], 'skew': [None], 'byte_offset': [None], 'adc_gain': [401.23583934088566], 'baseline': [-99], 'units': ['mV'], 'adc_res': [12], 'adc_zero': [0], 'init_value': [-109], 'checksum': [17044], 'block_size': [0]}\n"
     ]
    }
   ],
   "source": [
    "record1 = records[0]\n",
    "print(record1.__dict__)"
   ]
  },
  {
   "cell_type": "code",
   "execution_count": null,
   "id": "ce9c541c-c0ca-4c98-b9b3-7380148241fe",
   "metadata": {},
   "outputs": [],
   "source": []
  },
  {
   "cell_type": "code",
   "execution_count": 78,
   "id": "557114ca-0848-4ed7-9aeb-ced301d76967",
   "metadata": {},
   "outputs": [
    {
     "name": "stdout",
     "output_type": "stream",
     "text": [
      "Date: 2225-03-31\n",
      "Start time: 12:00:13.772000\n",
      "End time: 12:16:06.766000\n"
     ]
    }
   ],
   "source": [
    "def get_start_end_times(record):\n",
    "    start_dt = datetime.combine(datetime.today(), record.base_time)\n",
    "    duration_sec = record.sig_len / record.fs\n",
    "    end_dt = start_dt + timedelta(seconds=duration_sec)\n",
    "    print(\"Date:\", record.base_date)\n",
    "    print(\"Start time:\", record.base_time)\n",
    "    print(\"End time:\", end_dt.time())\n",
    "    return\n",
    "    # return start_dt, end_dt\n",
    "\n",
    "get_start_end_times(record1)"
   ]
  },
  {
   "cell_type": "code",
   "execution_count": 121,
   "id": "6c93290d-37a5-4958-8e21-25e8690becee",
   "metadata": {},
   "outputs": [
    {
     "data": {
      "text/plain": [
       "Timestamp('2225-03-31 12:08:57')"
      ]
     },
     "execution_count": 121,
     "metadata": {},
     "output_type": "execute_result"
    }
   ],
   "source": [
    "alarms_df[alarms_df['CSN'] == Full_CSN]['Alarm'].iloc[0]"
   ]
  },
  {
   "cell_type": "code",
   "execution_count": 124,
   "id": "ba70df1c-4f8b-4d42-9900-269ef334f590",
   "metadata": {},
   "outputs": [
    {
     "name": "stdout",
     "output_type": "stream",
     "text": [
      "True\n",
      "False\n"
     ]
    }
   ],
   "source": [
    "ts = alarms_df[alarms_df['CSN'] == Full_CSN]['Alarm'].iloc[0]\n",
    "dt = datetime(2225, 3, 31, 12, 8, 57)\n",
    "\n",
    "print(ts == dt)   # True\n",
    "print(ts < dt) "
   ]
  },
  {
   "cell_type": "code",
   "execution_count": 116,
   "id": "a698ae15-025c-4122-ac78-e3adda5cd252",
   "metadata": {},
   "outputs": [
    {
     "data": {
      "text/plain": [
       "datetime.time(12, 16, 6, 764000)"
      ]
     },
     "execution_count": 116,
     "metadata": {},
     "output_type": "execute_result"
    }
   ],
   "source": [
    "current_time.time()"
   ]
  },
  {
   "cell_type": "code",
   "execution_count": 119,
   "id": "1f8be9de-3539-4c17-810e-def9de10bf5f",
   "metadata": {},
   "outputs": [
    {
     "data": {
      "text/plain": [
       "False"
      ]
     },
     "execution_count": 119,
     "metadata": {},
     "output_type": "execute_result"
    }
   ],
   "source": [
    "alarms_df[alarms_df['CSN'] == Full_CSN]['Alarm'].to_numpy()[0] == current_time.time()"
   ]
  },
  {
   "cell_type": "code",
   "execution_count": 349,
   "id": "f40ba383-36ad-41b6-8e0e-b036c8a862f0",
   "metadata": {},
   "outputs": [],
   "source": [
    "from datetime import datetime, timedelta\n",
    "\n",
    "def get_measurements(record, alarm_ts=None, cutoff_minutes=1, new_fs=40):\n",
    "    \"\"\"\n",
    "    new_fs: the downsampled number of samples taken per second (i.e. Hz)\n",
    "    \"\"\"\n",
    "    signal = record.p_signal[:, 0]  # 1D array of measurements \n",
    "    start_time = datetime.combine(record.base_date, record.base_time)\n",
    "\n",
    "    formatted = []\n",
    "\n",
    "    # Determine cutoff time in seconds since start\n",
    "    if alarm_ts is None:\n",
    "        end_time = start_time + timedelta(seconds=record.sig_len / record.fs)\n",
    "        cutoff_time = end_time - timedelta(minutes=cutoff_minutes)\n",
    "    else:\n",
    "        cutoff_time = alarm_ts - timedelta(minutes=cutoff_minutes)\n",
    "    total_duration = (cutoff_time - start_time).total_seconds()\n",
    "    max_idx = min(len(signal), int(total_duration * record.fs))\n",
    "\n",
    "    step_sz = int(record.fs // new_fs)\n",
    "\n",
    "    for i in range(0, max_idx, step_sz):\n",
    "        current_time = start_time + timedelta(seconds=i / record.fs)\n",
    "        # formatted.append(f\"{current_time.time()}, {signal[i]:.6f}\")\n",
    "        formatted.append(signal[i])\n",
    "    return np.array(formatted), start_time, cutoff_time, new_fs\n"
   ]
  },
  {
   "cell_type": "code",
   "execution_count": 350,
   "id": "04c15b07-7872-47ad-a6cc-e5ecea1c6772",
   "metadata": {},
   "outputs": [
    {
     "name": "stdout",
     "output_type": "stream",
     "text": [
      "[-0.024923    0.          0.12461499 -0.40624487 -0.24922998]\n",
      "19302\n",
      "Sanity check for last entry:  -0.05981519507186859\n"
     ]
    }
   ],
   "source": [
    "measurements, start_time, cutoff_time, new_fs = get_measurements(record1, alarm_ts)\n",
    "print(measurements[:5])\n",
    "print(len(measurements))\n",
    "print(\"Sanity check for last entry: \", measurements[-1])"
   ]
  },
  {
   "cell_type": "code",
   "execution_count": 344,
   "id": "8fd8e525-de45-4db1-bcbe-14de8bcb3119",
   "metadata": {},
   "outputs": [
    {
     "name": "stdout",
     "output_type": "stream",
     "text": [
      "[-0.024923   -0.0199384   0.61559805 -0.75516684 -0.30406057]\n",
      "44650\n",
      "Sanity check for last entry:  -0.22929158110882958\n"
     ]
    }
   ],
   "source": [
    "measurements, start_time, cutoff_time, new_fs = get_measurements(record1)\n",
    "print(measurements[:5])\n",
    "print(len(measurements))\n",
    "print(\"Sanity check for last entry: \", measurements[-1])"
   ]
  },
  {
   "cell_type": "code",
   "execution_count": 223,
   "id": "db1ac1ed-aefe-4913-ad0b-061708f3144e",
   "metadata": {},
   "outputs": [
    {
     "data": {
      "text/plain": [
       "(446498,)"
      ]
     },
     "execution_count": 223,
     "metadata": {},
     "output_type": "execute_result"
    }
   ],
   "source": [
    "measurements.shape"
   ]
  },
  {
   "cell_type": "code",
   "execution_count": 29,
   "id": "60521fe2-c959-40d1-99cd-fdc27adbd089",
   "metadata": {},
   "outputs": [
    {
     "data": {
      "image/png": "[encoded data removed]",
      "text/plain": [
       "<Figure size 640x480 with 1 Axes>"
      ]
     },
     "metadata": {},
     "output_type": "display_data"
    }
   ],
   "source": [
    "wfdb.plot_wfdb(record=record1)"
   ]
  },
  {
   "cell_type": "code",
   "execution_count": 30,
   "id": "af215de0-e9f7-483b-a2ff-af3dc25fa620",
   "metadata": {},
   "outputs": [
    {
     "name": "stdout",
     "output_type": "stream",
     "text": [
      "{'record_name': '99996003_2', 'n_sig': 1, 'fs': 500, 'counter_freq': None, 'base_counter': None, 'sig_len': 1636479, 'base_time': datetime.time(12, 16, 33, 72000), 'base_date': datetime.date(2225, 3, 31), 'comments': [], 'sig_name': ['II'], 'p_signal': array([[-0.13973566],\n",
      "       [-0.12085246],\n",
      "       [-0.0868627 ],\n",
      "       ...,\n",
      "       [ 0.33989754],\n",
      "       [ 0.22659836],\n",
      "       [ 0.17372541]]), 'd_signal': None, 'e_p_signal': None, 'e_d_signal': None, 'file_name': ['99996003_2.dat'], 'fmt': ['212'], 'samps_per_frame': [1], 'skew': [None], 'byte_offset': [None], 'adc_gain': [264.78567552902877], 'baseline': [393], 'units': ['mV'], 'adc_res': [12], 'adc_zero': [0], 'init_value': [356], 'checksum': [27762], 'block_size': [0]}\n"
     ]
    }
   ],
   "source": [
    "record2 = records[1]\n",
    "print(record2.__dict__)"
   ]
  },
  {
   "cell_type": "code",
   "execution_count": 79,
   "id": "a950ba6c-d50d-499e-9072-61f30791b893",
   "metadata": {},
   "outputs": [
    {
     "name": "stdout",
     "output_type": "stream",
     "text": [
      "Date: 2225-03-31\n",
      "Start time: 12:16:33.072000\n",
      "End time: 13:11:06.030000\n"
     ]
    }
   ],
   "source": [
    "get_start_end_times(record2)"
   ]
  },
  {
   "cell_type": "code",
   "execution_count": 32,
   "id": "748d3fb3-096c-49bc-a3b3-4416f32c789f",
   "metadata": {},
   "outputs": [
    {
     "data": {
      "image/png": "[encoded data removed]",
      "text/plain": [
       "<Figure size 640x480 with 1 Axes>"
      ]
     },
     "metadata": {},
     "output_type": "display_data"
    }
   ],
   "source": [
    "wfdb.plot_wfdb(record=record2)"
   ]
  },
  {
   "cell_type": "code",
   "execution_count": 73,
   "id": "d606c571-40b6-4404-8d1d-e22ac6db1a07",
   "metadata": {},
   "outputs": [
    {
     "data": {
      "text/html": [
       "<div>\n",
       "<style scoped>\n",
       "    .dataframe tbody tr th:only-of-type {\n",
       "        vertical-align: middle;\n",
       "    }\n",
       "\n",
       "    .dataframe tbody tr th {\n",
       "        vertical-align: top;\n",
       "    }\n",
       "\n",
       "    .dataframe thead th {\n",
       "        text-align: right;\n",
       "    }\n",
       "</style>\n",
       "<table border=\"1\" class=\"dataframe\">\n",
       "  <thead>\n",
       "    <tr style=\"text-align: right;\">\n",
       "      <th></th>\n",
       "      <th>CSN</th>\n",
       "      <th>Alarm</th>\n",
       "    </tr>\n",
       "  </thead>\n",
       "  <tbody>\n",
       "    <tr>\n",
       "      <th>440</th>\n",
       "      <td>99996003</td>\n",
       "      <td>2225-03-31 12:08:57</td>\n",
       "    </tr>\n",
       "  </tbody>\n",
       "</table>\n",
       "</div>"
      ],
      "text/plain": [
       "          CSN               Alarm\n",
       "440  99996003 2225-03-31 12:08:57"
      ]
     },
     "execution_count": 73,
     "metadata": {},
     "output_type": "execute_result"
    }
   ],
   "source": [
    "alarms_df[alarms_df['CSN'] == Full_CSN]"
   ]
  },
  {
   "cell_type": "code",
   "execution_count": 101,
   "id": "c49c5293-dcd9-49a3-889b-4d03db1cb43d",
   "metadata": {},
   "outputs": [
    {
     "data": {
      "text/plain": [
       "(425,)"
      ]
     },
     "execution_count": 101,
     "metadata": {},
     "output_type": "execute_result"
    }
   ],
   "source": [
    "alarms_df['CSN'].shape"
   ]
  },
  {
   "cell_type": "code",
   "execution_count": 100,
   "id": "55d5e77d-4a68-4ace-8bf7-d6df817db046",
   "metadata": {},
   "outputs": [
    {
     "data": {
      "text/plain": [
       "(425,)"
      ]
     },
     "execution_count": 100,
     "metadata": {},
     "output_type": "execute_result"
    }
   ],
   "source": [
    "alarms_df['CSN'].unique().shape"
   ]
  },
  {
   "cell_type": "code",
   "execution_count": 76,
   "id": "0227a7d9-b952-4821-8ac8-677eb7dc9116",
   "metadata": {},
   "outputs": [
    {
     "data": {
      "text/plain": [
       "440   2225-03-31 12:08:57\n",
       "Name: Alarm, dtype: datetime64[us]"
      ]
     },
     "execution_count": 76,
     "metadata": {},
     "output_type": "execute_result"
    }
   ],
   "source": [
    "alarms_df[alarms_df['CSN'] == Full_CSN]['Alarm']"
   ]
  },
  {
   "cell_type": "code",
   "execution_count": 86,
   "id": "db61e50c-1e70-451b-8dd8-7580d2f2edc9",
   "metadata": {},
   "outputs": [
    {
     "name": "stdout",
     "output_type": "stream",
     "text": [
      "Date: 2225-03-31\n",
      "Start time: 12:00:13.772000\n",
      "End time: 12:16:06.766000\n",
      "\n",
      "\n",
      "Date: 2225-03-31\n",
      "Start time: 12:16:33.072000\n",
      "End time: 13:11:06.030000\n",
      "\n",
      "\n",
      "Date: 2225-03-31\n",
      "Start time: 13:36:23.572000\n",
      "End time: 16:44:12.792000\n",
      "\n",
      "\n"
     ]
    }
   ],
   "source": [
    "for record in records:\n",
    "    get_start_end_times(record)\n",
    "    print(\"\\n\")"
   ]
  },
  {
   "cell_type": "markdown",
   "id": "2119bbcf-c0e4-4903-b0de-47cabb92df72",
   "metadata": {},
   "source": [
    "### cut off time up to 1 min before the alarm/ cardiac arrest"
   ]
  },
  {
   "cell_type": "code",
   "execution_count": null,
   "id": "d137d789-368e-4267-a312-9e6c714a82ed",
   "metadata": {},
   "outputs": [],
   "source": [
    "prompt.format(duration_str, start_time.time(), cutoff_time.time(), new_fs, 60/new_fs, pred_window, pred_window, data_str)"
   ]
  },
  {
   "cell_type": "code",
   "execution_count": 374,
   "id": "e9c3e495-ff3c-4e69-bfb0-2643db78921a",
   "metadata": {},
   "outputs": [
    {
     "data": {
      "text/plain": [
       "\"Suppose you are a medical expert specializing in cardiac arrest prediction. \\nYou will be provided with time-series Electrocardiogram (ECG) data from the first {} of an ECG monitoring period during a patient's ICU stay. Each entry consists of a measurement value at that timestamp. The timestamps start at time {} and end at time {}. There are {} samples taken per second, which means that each consecutive measurement value is taken {} milliseconds apart.\\n\\nYour task is to determine whether this patient is at high risk of experiencing cardiac arrest within the next {} minutes.\\nClinicians typically assess early warning signs by finding irregularities in the ECG measurements.\\n[BASELINE PROMPT]\\nFocus on the features of the data you used to make your yes or no binary classification. \\n\\nYour response should be formatted as follows:\\nPrediction: <class>\\nExplanation: <explanation>\\n\\nHere is the ECG data for you to analyze:\\n{}\""
      ]
     },
     "execution_count": 374,
     "metadata": {},
     "output_type": "execute_result"
    }
   ],
   "source": [
    "cardiac_prompt.replace(\"[BASELINE_PROMPT]\", cot_baseline)"
   ]
  },
  {
   "cell_type": "code",
   "execution_count": 394,
   "id": "63d8904c-51d2-4181-ada5-e4847320a407",
   "metadata": {
    "scrolled": true
   },
   "outputs": [
    {
     "name": "stdout",
     "output_type": "stream",
     "text": [
      "You are a medical expert specializing in cardiac arrest prediction. \n",
      "You will be provided with time-series Electrocardiogram (ECG) data from the first 7 minutes and 43.23 seconds of an ECG monitoring period during a patient's ICU stay. Each entry consists of a measurement value at that timestamp. The timestamps start at time 12:00:13.772000 and end at time 12:07:57. There are 40 samples taken per second, which means that each consecutive measurement value is taken 1.5 milliseconds apart.\n",
      "\n",
      "Your task is to determine whether this patient is at high risk of experiencing cardiac arrest within the next 5 minutes.\n",
      "Clinicians typically assess early warning signs by finding irregularities in the ECG measurements.\n",
      "In addition to the answer, please provide a single paragraph under 200 words explaining why you gave the answer you did.\n",
      "Focus on the features of the data you used to make your yes or no binary classification. \n",
      "Please be assured that this judgment will be confirmed with multiple other medical experts. Please provide your best judgment without worrying about not providing the perfect answer.\n",
      "\n",
      "Your response should be formatted as follows:\n",
      "Prediction: <Yes/No>\n",
      "Explanation: <explanation>\n",
      "\n",
      "Here is the ECG data for you to analyze:\n",
      "[-0.02492, 0.00000, 0.12461, -0.40624, -0.24923, -0.22929, -0.17945, -0.05982, 0.15452, 0.24923, 0.05483, -0.06978, 0.00000, -0.06978, -0.13458, -0.18941, -0.17446, 0.11465, -0.25920, -0.22929, -0.14954, -0.08474, -0.00997, 0.15951, 0.39877, 0.35889, 0.11465, 0.00498, -0.00498, -0.04985, -0.15951, -0.06978, -0.00997, 0.45111, -0.68040, -0.14455, -0.06978, -0.04486, -0.04486, -0.11963, -0.20935, -0.57074, -1.01935, -1.20378, -1.31593, -1.52030, -1.74461, -1.88418, -1.88418, -1.22123, -2.41504, -2.31036, -2.44495, -2.45492, -2.41504, -1.98886, -1.19880, -1.15393, -1.76455, -1.99384, -2.00381, -1.69476, -1.89913, -1.79446, -0.87978, 0.59566, 0.57572, 0.68538, 0.86981, 0.69535, -0.08474, -0.76514, -1.44553, -1.64492, -1.60006, -1.32590, -1.12403, -1.07418, -0.46606, 0.58569, 0.89972, -0.21434, -0.12960, 0.23428, 0.28911, 0.00997, -0.02492, -0.07975, -0.41123, -0.59566, -0.60064, -0.52089, -0.52588, -0.51092, -0.46108, -0.32400, 0.35889, -0.76015, -0.45111, -0.45609, -0.49098, -0.41123, -0.27914, -0.15452, -0.23926, -0.37883, -0.37384, -0.40624, -0.52089, -0.54581, -0.57074, -0.45609, 0.34892, -0.51591, -0.09969, -0.03489, -0.05982, -0.14954, -0.49597, -0.82495, -0.78009, -0.90969, -0.95455, -0.57074, -0.27914, 0.00997, -0.01495, -0.00498, 0.10966, -0.35889, -0.33895, -0.36388, -0.29409, -0.18941, -0.05982, 0.00000, -0.14954, -0.24923, -0.14455, -0.16948, -0.28412, -0.28911, -0.26418, 0.02991, -0.61560, -0.31403, -0.28412, -0.25920, -0.19938, -0.04486, 0.07477, 0.10468, -0.07477, -0.06480, -0.10468, -0.15452, -0.23428, -0.26917, -0.23428, 0.42120, -0.62557, -0.25421, -0.22431, -0.18941, -0.11465, 0.04985, 0.18443, 0.06978, -0.06978, -0.00997, -0.03489, -0.17446, -0.19440, -0.17446, -0.15951, 0.23926, -0.32898, -0.16449, -0.11465, -0.02991, 0.02492, 0.21434, 0.31901, 0.14954, 0.04985, 0.14455, 0.08972, -0.03489, -0.07477, -0.04985, 0.17446, -0.22431, -0.15452, -0.07975, -0.07975, -0.03489, 0.07975, 0.27415, 0.26418, 0.07975, 0.02991, 0.07477, 0.01994, -0.09969, -0.08474, -0.09471, 0.46606, -0.60563, -0.11465, -0.07477, -0.02991, 0.00997, 0.15951, 0.30905, 0.23926, 0.07477, 0.05982, 0.04486, -0.03489, -0.09969, -0.09969, -0.12960, 0.71529, -0.41123, -0.15452, -0.11465, -0.06978, 0.04486, 0.27914, 0.42618, 0.28412, 0.16449, 0.22929, 0.23926, 0.10468, 0.03988, 0.02492, 0.01994, 0.25421, -0.15951, -0.04985, -0.06978, -0.01495, 0.05483, 0.21932, 0.24425, 0.07975, -0.00997, 0.07975, -0.00498, -0.19440, -0.20437, -0.15951, 0.29908, -0.64052, -0.39877, -0.23428, -0.27914, -0.02492, 0.24425, 0.45111, 0.39378, 0.32400, 0.31901, 0.24923, 0.10468, 0.03489, -0.04985, -0.00498, 0.66544, -0.31901, -0.08972, -0.03988, -0.04985, 0.01994, 0.15951, 0.33397, 0.27914, 0.04486, 0.11465, 0.10468, -0.10468, -0.08474, -0.13458, -0.06978, 0.15951, -0.16948, -0.07975, -0.04985, -0.07477, 0.12960, 0.30406, 0.35391, 0.17945, 0.07477, 0.23926, 0.06978, -0.02492, -0.04985, -0.07477, 0.51092, -0.51591, -0.07477, -0.09471, 0.01994, 0.00000, 0.18443, 0.28412, 0.15452, -0.01994, -0.06480, -0.07477, -0.12960, -0.18443, -0.25421, -0.23428, 0.51591, -0.58071, -0.32400, -0.25920, -0.24923, -0.25421, -0.04985, 0.01495, -0.12960, -0.24425, -0.20437, -0.20935, -0.25421, -0.28412, -0.30905, -0.30905, 0.31901, -0.63055, -0.77511, -0.30905, -0.14954, -0.27415, 0.36886, 0.25920, 0.26917, 0.01994, -0.01495, 0.05483, 0.12461, 0.18443, -0.06978, -0.02991, -0.10966, -0.00997, -0.17446, 0.00000, 0.08972, 0.13458, 0.63055, 0.56077, 0.27914, 0.17945, 0.18443, 0.15452, 0.03988, -0.05982, -0.06480, 0.48101, -0.55080, -0.09969, -0.12960, -0.08972, -0.02991, 0.10966, 0.23428, 0.13957, -0.05982, -0.07477, -0.12461, -0.25920, -0.37883, -0.37883, -0.37883, 0.40624, -0.70034, -0.48101, -0.48600, -0.46606, -0.33895, -0.18941, -0.05483, -0.25421, -0.41621, -0.35391, -0.30905, -0.23926, -0.42120, -0.47104, -0.44114, -0.00498, -0.63055, -0.43117, -0.40624, -0.39378, -0.27415, -0.08972, -0.00997, -0.21434, -0.34892, -0.29409, -0.32400, -0.43615, -0.49098, -0.47104, -0.18443, -0.68538, -0.58071, -0.50095, -0.47104, -0.42618, -0.34892, -0.10468, -0.12960, -0.31403, -0.37384, -0.35889, -0.43615, -0.55080, -0.59068, -0.62058, 0.06978, -1.11904, -0.67541, -0.56575, -0.62557, -0.57572, -0.38381, -0.24923, -0.37384, -0.57074, -0.54083, -0.58071, -0.67043, -0.73523, -0.70532, -0.71031, 0.03489, -1.02434, -0.73024, -0.70034, -0.64551, -0.54581, -0.29409, -0.19938, -0.36886, -0.49098, -0.40624, -0.41123, -0.54581, -0.62058, -0.56077, -0.67541, -0.68538, -0.63554, -0.79504, -1.03929, -0.52588, -0.35889, -0.48101, -0.27415, -0.37883, -0.51092, -0.64052, -0.55080, -0.62557, -0.49597, -0.77012, -0.19938, -1.12901, -0.89972, -0.96452, -0.68538, -0.47104, -0.38381, -0.13458, -0.34892, -0.29409, -0.26418, -0.41621, -0.37384, -0.53086, -0.62557, -0.54581, 0.14954, -0.82495, -0.59068, -0.59068, -0.49098, -0.45111, -0.25421, -0.07975, -0.26418, -0.39877, -0.34892, -0.39877, -0.48600, -0.58071, -0.61061, -0.55080, -0.43615, -0.65547, -0.59566, -0.63055, -0.55578, -0.45609, -0.24923, -0.22929, -0.42618, -0.55578, -0.51591, -0.55578, -0.71031, -0.73024, -0.69535, -0.24425, -1.08415, -0.77511, -0.70532, -0.65049, -0.56575, -0.35391, -0.10966, -0.21932, -0.42120, -0.51092, -0.46108, -0.55578, -0.54581, -0.62557, -0.68040, 0.04486, -1.03430, -0.60563, -0.59068, -0.54083, -0.45609, -0.18443, 0.01994, -0.02991, -0.20437, -0.13957, -0.10468, -0.15951, -0.16948, -0.06480, 0.02991, 0.90969, -0.10966, 0.20437, 0.37883, 0.60064, 0.84987, 1.03430, 1.05424, 0.89972, 0.75018, 0.78009, 0.72526, 0.51591, 0.41123, 0.46606, 0.51591, 0.57572, 0.23926, 0.32400, 0.39877, 0.42120, 0.50594, 0.70034, 0.68538, 0.48101, 0.35391, 0.41123, 0.33397, 0.19440, 0.15452, 0.19938, 0.59566, -0.33895, -0.01495, -0.00498, 0.00498, 0.03988, 0.17945, 0.30406, 0.27914, 0.06978, 0.03988, 0.03489, -0.04985, -0.14954, -0.14954, -0.14455, 0.60064, -0.55080, -0.19440, -0.18443, -0.16449, -0.06978, 0.11465, 0.23926, 0.10468, -0.05982, 0.00498, 0.00498, -0.11963, -0.14954, -0.15951, -0.12960, 0.32898, -0.31901, -0.17945, -0.13458, -0.02991, 0.13458, 0.36886, 0.49098, 0.39877, 0.32400, 0.46606, 0.48600, 0.45111, 0.45609, 0.54083, 0.84987, 0.36388, 0.52588, 0.68040, 0.72526, 0.80003, 0.89474, 1.10907, 1.08914, 0.88477, 0.84489, 0.86981, 0.83991, 0.76015, 0.75517, 0.79504, 1.42560, 0.37883, 0.91966, 0.98944, 1.02434, 1.07418, 1.25113, 1.38073, 1.31593, 1.14397, 1.14895, 1.11406, 0.99941, 0.91467, 0.89474, 0.83991, 1.59009, 0.57074, 0.75517, 0.76015, 0.78009, 0.83991, 1.03430, 1.14895, 0.99941, 0.83492, 0.90969, 0.84489, 0.71031, 0.66544, 0.59068, 0.75517, 0.55080, 0.54581, 0.62058, 0.62557, 0.62058, 0.75018, 0.95455, 0.90969, 0.76015, 0.74021, 0.72027, 0.61061, 0.47603, 0.49098, 0.45609, 1.01437, -0.06480, 0.32898, 0.45111, 0.44612, 0.51591, 0.64551, 0.77012, 0.82495, 0.54083, 0.63055, 0.53086, 0.39877, 0.36886, 0.34892, 0.33397, 1.01437, 0.02492, 0.26418, 0.29908, 0.31901, 0.39877, 0.57572, 0.63554, 0.51591, 0.36886, 0.40624, 0.32400, 0.22431, 0.17945, 0.19440, 0.34892, -0.01495, 0.07477, 0.13458, 0.18941, 0.23926, 0.34394, 0.52588, 0.50594, 0.26917, 0.21932, 0.23428, 0.19440, 0.05982, 0.06480, 0.06978, 0.66046, -0.43615, 0.02991, 0.09471, 0.11465, 0.16449, 0.32898, 0.50594, 0.40624, 0.23428, 0.28911, 0.30905, 0.18941, 0.13957, 0.14455, 0.07477, 0.93461, -0.07975, 0.17446, 0.17446, 0.11465, 0.22929, 0.33397, 0.46606, 0.39378, 0.23428, 0.24923, 0.26917, 0.07975, 0.03988, 0.04985, 0.10966, 0.41621, -0.14954, 0.01495, 0.07477, 0.20437, 0.29409, 0.45609, 0.50594, 0.45609, 0.14455, 0.29908, 0.24425, 0.13957, 0.00997, 0.03489, 0.07975, 0.00498, 0.06978, 0.23926, 0.24923, 0.24923, 0.32400, 0.58569, 0.58569, 0.57572, 0.34892, 0.26917, 0.24425, 0.10468, -0.02991, -0.01495, 0.72526, -0.38381, 0.13957, 0.06978, 0.04985, 0.03489, 0.15452, 0.28412, 0.30905, 0.06480, 0.00000, -0.06978, -0.12960, -0.22929, -0.29908, -0.18443, 0.29409, -0.46606, -0.21434, -0.43117, -0.38381, -0.08972, -0.27415, 0.09969, -0.25920, -0.37384, -0.16449, -0.33895, -0.49098, -0.44114, -0.22431, -0.44114, -0.81000, -0.52089, -0.76514, -0.79006, -0.69037, -0.30406, -0.44114, -0.26418, -0.47603, -0.72027, -0.63554, -0.64052, -0.58071, -0.79504, -0.91467, -0.22929, -1.23120, -1.12901, -0.78507, -0.52089, -0.57572, -0.52089, -0.44114, -0.44612, -0.32898, -0.60064, -0.57074, -1.20877, -0.52089, -0.97947, -0.77012, -0.35889, -1.12901, -1.13400, -0.85984, -0.78507, -0.72526, -0.84489, -0.49597, -0.66544, -0.80501, -0.58569, -0.65547, -0.96452, -0.97947, -0.89972, -0.79006, -0.91467, -0.81000, -0.78507, -0.79504, -0.81498, -0.70034, -0.54083, -0.53584, -0.76514, -0.82495, -0.79006, -0.85984, -0.95455, -0.95455, -0.93461, -0.53584, -1.16390, -1.00938, -0.97449, -0.95954, -0.87480, -0.76015, -0.59068, -0.68538, -0.87480, -0.87978, -0.81997, -0.83492, -0.90470, -0.89474, -0.87978, -0.09471, -1.23120, -0.88975, -0.85984, -0.83991, -0.74021, -0.59566, -0.46606, -0.56575, -0.70034, -0.70532, -0.73024, -0.87480, -0.88975, -0.82495, -0.94458, -0.16948, -1.20378, -1.07917, -1.08914, -1.10409, -1.00938, -0.88975, -0.80501, -0.96452, -1.11406, -1.00938, -1.10409, -1.12901, -1.18384, -1.12403, -0.95954, -1.17387, -1.17387, -1.13898, -1.06920, -1.00938, -0.92464, -0.74021, -0.63554, -0.81997, -0.86981, -0.82495, -0.90470, -0.98944, -0.99443, -0.96452, -0.34892, -1.46547, -0.97449, -0.93960, -0.88975, -0.82495, -0.64052, -0.51591, -0.60064, -0.79006, -0.76514, -0.77012, -0.84489, -0.93461, -0.96452, -0.96452, -0.17945, -1.18384, -0.98446, -0.95954, -0.93461, -0.81997, -0.63554, -0.54581, -0.68040, -0.80003, -0.72526, -0.72027, -0.85486, -0.88477, -0.87480, -0.82994, -0.57572, -0.96950, -0.83991, -0.79006, -0.72027, -0.57572, -0.36388, -0.31403, -0.45111, -0.54083, -0.45609, -0.48101, -0.58569, -0.59566, -0.58569, -0.36388, -0.76514, -0.63554, -0.56077, -0.53584, -0.50095, -0.37883, -0.20437, -0.22431, -0.43615, -0.50095, -0.50095, -0.53584, -0.66046, -0.70034, -0.72027, -0.08474, -1.18384, -0.70532, -0.76514, -0.74021, -0.65049, -0.64052, -0.38880, -0.53086, -0.88477, -0.52089, -0.68040, -0.65547, -0.76015, -0.67541, -0.81997, -0.07975, -1.09412, -0.88975, -0.78507, -0.85486, -0.64551, -0.54581, -0.44114, -0.56077, -0.72027, -0.60064, -0.68538, -0.77012, -0.89474, -0.86981, -0.62058, -0.88477, -0.91966, -0.81498, -0.78009, -0.75018, -0.63554, -0.49597, -0.51591, -0.63055, -0.73523, -0.68040, -0.76015, -0.75018, -0.81000, -0.82495, -0.36886, -1.23120, -0.88477, -0.82495, -0.78009, -0.64052, -0.47104, -0.33397, -0.42120, -0.59566, -0.55578, -0.57074, -0.66544, -0.78507, -0.80003, -0.74021, 0.07975, -1.07418, -0.75018, -0.72027, -0.70034, -0.59068, -0.42120, -0.29908, -0.52089, -0.63554, -0.62058, -0.63055, -0.69535, -0.76514, -0.64551, -0.69535, 0.05483, -0.76015, -0.67541, -0.59566, -0.55080, -0.37883, -0.15951, -0.07477, -0.21932, -0.29409, -0.22929, -0.24425, -0.34892, -0.45111, -0.45111, -0.44114, -0.02492, -0.54581, -0.47603, -0.43117, -0.40624, -0.42120, -0.09471, -0.50095, -0.25920, -0.12960, -0.28911, -0.35889, -0.63055, -0.53584, -0.45111, -0.09471, -0.98446, -0.61061, -0.57572, -0.60563, -0.63055, -0.46606, -0.18443, -0.31901, -0.58569, -0.60064, -0.37384, -0.48101, -0.63554, -0.76015, -0.67541, 0.03489, -1.12403, -0.77012, -0.72526, -0.72027, -0.61061, -0.44612, -0.28412, -0.39877, -0.54581, -0.50095, -0.58071, -0.74520, -0.74520, -0.69535, -0.66046, -0.33397, -0.83991, -0.81997, -0.76015, -0.73024, -0.58569, -0.35391, -0.27415, -0.51591, -0.61061, -0.52089, -0.59068, -0.69535, -0.66544, -0.65547, -0.32898, -0.85984, -0.76514, -0.71031, -0.63554, -0.56077, -0.35889, -0.11963, -0.19938, -0.32400, -0.45609, -0.40624, -0.48101, -0.54083, -0.54083, -0.56575, 0.10468, -1.03430, -0.62557, -0.59068, -0.57074, -0.52089, -0.31901, -0.19440, -0.25421, -0.43117, -0.41621, -0.43615, -0.53086, -0.57572, -0.57074, -0.58569, 0.19440, -0.77511, -0.58071, -0.54581, -0.49098, -0.42618, -0.23428, -0.11963, -0.26917, -0.38880, -0.33397, -0.37384, -0.49098, -0.53584, -0.53086, -0.42618, -0.51092, -0.61560, -0.52089, -0.48600, -0.44612, -0.31901, -0.12461, -0.09471, -0.29908, -0.34394, -0.30406, -0.35391, -0.46606, -0.49597, -0.48101, 0.03988, -1.03430, -0.52588, -0.51591, -0.48101, -0.39877, -0.25920, -0.07477, -0.14954, -0.30406, -0.30905, -0.31403, -0.41123, -0.47603, -0.49098, -0.47104, 0.33397, -0.81000, -0.49098, -0.47104, -0.42618, -0.32400, -0.11465, 0.00997, -0.14455, -0.29908, -0.20935, -0.23926, -0.30905, -0.36388, -0.37384, -0.38381, 0.12960, -0.56575, -0.39378, -0.39877, -0.35889, -0.25920, -0.05483, 0.00000, -0.12461, -0.25421, -0.16449, -0.21932, -0.35391, -0.31403, -0.23428, -0.22929, -0.36886, -0.40624, -0.33397, -0.31403, -0.29908, -0.18443, -0.00997, 0.03489, -0.21434, -0.28412, -0.22929, -0.32400, -0.43615, -0.48600, -0.48101, 0.00498, -0.94458, -0.49597, -0.47603, -0.43615, -0.36388, -0.24425, -0.08972, -0.12960, -0.30406, -0.34394, -0.31403, -0.37384, -0.42120, -0.54083, -0.44612, 0.35391, -0.82994, -0.47104, -0.40624, -0.33895, -0.22431, -0.03988, 0.09471, -0.01994, -0.16948, -0.14954, -0.18941, -0.30905, -0.36388, -0.36886, -0.37883, 0.28412, -0.56575, -0.38381, -0.35391, -0.32400, -0.26917, -0.08474, -0.02492, -0.20437, -0.34394, -0.24425, -0.30905, -0.44612, -0.45111, -0.45609, -0.33895, -0.45609, -0.59566, -0.49597, -0.49098, -0.44114, -0.30905, -0.14455, -0.13957, -0.28412, -0.36388, -0.35889, -0.36886, -0.46606, -0.44612, -0.45111, 0.08474, -0.83492, -0.41123, -0.37384, -0.32898, -0.30406, -0.20935, -0.02492, -0.08972, -0.22929, -0.23428, -0.22929, -0.28412, -0.36886, -0.38381, -0.41123, 0.36388, -0.78507, -0.42120, -0.36886, -0.38880, -0.30905, -0.16449, -0.01495, -0.07975, -0.24425, -0.20935, -0.20437, -0.32898, -0.36886, -0.35391, -0.37384, 0.26917, -0.50095, -0.36886, -0.35889, -0.31901, -0.21932, -0.03988, 0.00997, -0.12960, -0.25421, -0.17446, -0.23926, -0.35391, -0.38880, -0.42120, -0.18443, -0.54581, -0.51591, -0.41123, -0.41621, -0.32898, -0.18941, -0.03988, -0.05982, -0.26418, -0.31403, -0.29908, -0.30905, -0.36886, -0.37883, -0.36886, 0.20437, -0.79006, -0.35889, -0.32898, -0.29908, -0.23428, -0.07975, 0.06480, -0.00997, -0.18443, -0.16948, -0.16449, -0.22431, -0.31403, -0.33895, -0.36886, 0.42120, -0.71529, -0.38880, -0.36388, -0.41621, -0.14455, -0.06978, 0.05483, -0.06978, -0.16948, -0.17446, -0.11465, -0.29908, -0.38381, -0.46606, -0.32898, 0.15452, -0.77511, -0.67541, -0.73523, -1.02932, -0.64551, -0.45111, -0.25920, -0.55080, -0.75018, -0.43615, -0.42120, -0.60064, -0.56077, -0.75018, -0.61061, -0.57074, -0.60064, -0.57572, -0.52089, -0.42618, -0.82495, -0.27415, 0.04486, -0.42120, -0.62058, -0.28412, -0.62058, -0.66046, -0.61560, -0.87978, -0.25920, -1.33587, -0.83492, -0.67043, -0.47104, -0.77511, -0.53584, -0.23926, -0.51092, -0.61560, -0.64551, -0.56575, -0.79504, -0.80003, -0.89474, -0.96452, -0.15452, -1.08914, -0.81000, -0.87978, -0.75517, -0.59068, -0.54083, -0.36388, -0.50095, -0.22929, -0.46606, -0.48600, -0.60563, -0.59068, -0.60064, -0.64551, -0.25421, -0.66046, -0.45111, -0.42120, -0.42618, -0.29908, -0.12461, -0.13458, -0.30905, -0.46606, -0.42618, -0.49597, -0.64551, -0.66046, -0.65049, -0.53086, -0.86483, -0.85984, -0.77012, -0.81000, -0.75517, -0.69535, -0.47603, -0.43615, -0.60563, -0.64052, -0.60064, -0.69535, -0.71031, -0.75517, -0.66544, -0.23428, -1.18384, -0.65547, -0.62058, -0.58569, -0.43615, -0.28412, -0.12960, -0.21932, -0.36388, -0.24923, -0.26418, -0.31901, -0.41621, -0.30406, -0.43615, 0.26917, -0.57572, -0.28911, -0.28412, -0.22929, -0.13458, 0.10966, 0.28412, 0.08972, -0.03489, -0.00498, 0.07975, -0.01994, -0.02492, 0.01994, 0.07975, -0.17945, -0.11465, 0.04486, 0.02492, 0.03489, 0.20437, 0.38381, 0.36388, 0.24923, 0.18443, 0.31403, 0.16449, 0.05982, 0.12461, 0.10468, 0.63554, -0.48600, 0.00997, 0.09969, 0.15452, 0.18941, 0.34394, 0.49098, 0.39877, 0.24923, 0.24425, 0.24425, 0.12960, 0.02492, -0.01994, -0.00997, 0.73024, -0.18941, -0.05483, 0.06480, 0.08474, 0.16948, 0.48101, 0.56575, 0.41621, 0.34892, 0.43117, 0.39378, 0.21932, 0.18443, 0.22431, 0.25421, 0.37883, 0.05483, 0.04985, 0.08474, -0.35391, 0.31403, 0.39378, 0.68538, 0.31901, 0.25920, 0.49597, 0.35889, 0.10966, 0.05982, 0.15951, 0.51092, -0.37384, -0.05483, 0.06480, 0.06480, 0.37384, 0.33895, 0.59068, 0.50594, 0.19938, 0.23428, 0.14455, 0.12461, 0.04985, 0.04985, 0.00000, 0.76015, -0.19938, 0.06480, 0.04486, 0.02492, 0.15452, 0.26418, 0.37883, 0.28911, 0.17945, 0.23926, 0.25920, 0.16948, 0.11963, 0.06480, 0.13957, 0.71031, -0.07477, 0.16948, 0.20935, 0.22929, 0.31901, 0.50095, 0.57572, 0.43117, 0.29409, 0.28412, 0.48600, 0.34394, 0.23428, 0.10966, 0.21932, 0.05483, 0.09969, -0.33895, -0.15452, 0.15951, -0.09969, 0.33895, 0.31901, -0.06978, -0.00997, 0.04486, 0.19440, 0.00997, -0.11963, 0.28911, 0.17446, -0.29409, -0.31403, -0.02991, 0.07975, -0.33397, 0.26418, 0.26418, 0.17446, -0.17446, 0.05982, -0.12461, -0.10966, -0.36388, -0.28911, -0.42120, 0.45111, -0.34394, -0.27914, -0.60064, -0.21932, -0.10966, -0.03988, 0.43615, -0.01495, -0.16948, -0.09969, -0.11465, -0.20437, -0.31403, -0.53086, -0.37384, 0.05982, -0.60563, -0.87480, -0.48600, -0.34892, -0.04985, 0.07975, 0.05982, -0.44612, -0.21932, -0.38381, -0.38880, -0.12960, -0.07975, -0.00997, 0.03489, -0.33397, 0.12960, -0.13458, -0.24923, -0.00997, 0.04985, 0.38880, 0.33895, -0.06480, -0.05982, 0.05982, -0.10468, -0.53086, -0.50594, -0.07477, 0.62557, -0.77511, -0.20437, -0.21932, -0.45609, -0.31403, -0.00498, 0.28911, 0.31403, -0.35889, -0.28911, -0.11465, -0.44612, -0.28911, -0.43117, -0.37883, 0.30406, -0.55080, -0.49098, -0.37384, -0.25421, -0.31403, -0.07477, 0.00498, -0.32400, -0.42618, -0.13957, -0.21932, -0.47603, -0.34394, -0.14455, 0.04985, -0.47603, -0.16948, -0.37384, -0.34394, -0.01994, -0.24425, 0.01495, -0.17446, -0.21434, -0.31403, -0.28911, -0.43117, -0.43117, -0.38381, -0.29409, 0.22431, -0.63554, -0.21434, -0.36388, -0.29908, -0.24923, -0.50095, 0.01495, 0.02991, -0.26418, -0.09969, -0.19938, -0.26917, -0.21932, -0.73523, -0.49098, 0.50594, -0.81000, -0.45111, -0.39378, -0.33895, -0.49098, -0.08972, 0.08972, -0.05982, -0.30406, -0.17945, -0.17446, -0.39378, -0.62058, -0.35889, -0.36886, 0.14455, -0.60064, -0.41621, -0.39877, -0.39877, -0.24923, -0.04985, 0.02991, -0.17945, -0.25421, -0.18443, -0.25421, -0.37384, -0.47603, -0.51092, -0.17446, -0.63055, -0.58569, -0.51591, -0.56575, -0.61061, -0.57074, -0.56077, -0.78507, -0.99941, -1.04427, -0.78507, -0.61560, -0.66544, -0.67043, -1.14397, -0.20437, -0.97947, -0.47603, -0.60563, -0.51092, -0.39877, -0.23926, 0.00997, 0.00000, -0.05982, -0.14954, -0.01495, 0.00997, 0.08972, 0.30905, 0.61061, 1.27606, 0.30406, 1.08415, 1.14397, 1.03929, 0.98944, 1.09910, 1.18384, 0.81997, 0.63055, 0.47104, 0.53584, 0.30406, 0.07975, -0.47104, 0.21434, 0.14954, -0.03988, -0.02991, -0.33397, -0.34394, -0.20935, 0.02492, 0.13957, -0.00498, -0.27415, 0.13458, -0.20437, -0.32400, -0.19440, -0.67043, -0.25421, -0.68040, -0.66046, -0.27914, -0.27914, -0.39877, -0.19440, 0.10468, -0.17945, -0.25920, -0.09471, -0.36886, -0.31403, -0.36886, -0.44114, -0.37883, 0.53086, -0.61061, -0.45111, -0.36886, -0.48101, -0.51591, -0.18941, -0.07975, -0.32400, -0.37384, -0.59068, -0.58071, -0.71529, -0.89474, -0.74520, -0.75517, 0.06480, -1.19381, -0.77012, -0.58569, -0.82994, -0.23926, -0.53086, -0.19938, -0.30905, -0.46108, -0.54581, -0.42120, -0.53086, -0.56575, -0.62557, -0.56575, -0.36886, -0.68538, -0.45609, -0.63554, -0.37883, -0.31901, -0.10468, 0.07477, -0.19938, -0.25920, -0.11963, -0.14954, -0.55080, -0.60064, -0.45111, -0.06978, -1.03929, -0.52588, -0.56575, -0.59566, -0.43117, -0.24923, 0.02991, 0.01994, -0.19440, -0.18941, -0.06480, -0.34394, -0.34394, -0.23926, -0.51092, 0.47104, -0.65049, -0.39378, -0.33397, -0.28412, -0.29908, -0.04985, 0.02492, -0.03988, -0.29908, -0.34394, -0.21434, -0.85486, -0.42618, -0.37883, -0.36886, 0.02492, -0.49098, -0.43117, -0.46606, -0.25421, -0.08474, 0.15951, 0.17446, 0.02492, -0.08474, -0.03489, -0.11465, -0.25920, -0.25920, -0.28412, -0.00997, -0.61061, -0.47104, -0.39378, -0.37883, -0.33895, -0.20935, 0.00498, -0.02492, -0.22431, -0.26917, -0.23926, -0.31403, -0.41123, -0.44114, -0.45111, 0.24425, -0.92963, -0.49597, -0.45111, -0.43615, -0.35391, -0.18941, -0.04486, -0.12960, -0.29908, -0.26418, -0.26917, -0.38381, -0.45609, -0.46606, -0.48600, 0.25920, -0.69535, -0.48101, -0.44612, -0.43117, -0.34394, -0.16449, -0.08474, -0.23428, -0.35391, -0.28412, -0.32400, -0.45609, -0.49597, -0.49597, -0.35391, -0.47603, -0.60563, -0.48600, -0.44114, -0.38381, -0.28412, -0.08972, -0.04985, -0.25920, -0.32898, -0.28412, -0.29908, -0.43117, -0.42120, -0.41621, 0.02991, -0.86483, -0.49597, -0.46108, -0.45111, -0.38880, -0.23428, -0.05982, -0.07975, -0.26418, -0.28412, -0.26917, -0.32898, -0.47104, -0.46606, -0.49098, 0.27415, -0.90969, -0.53086, -0.51591, -0.49098, -0.39877, -0.20935, -0.09471, -0.19938, -0.37883, -0.34394, -0.30905, -0.44612, -0.48600, -0.51591, -0.55080, 0.10966, -0.70034, -0.52588, -0.49597, -0.43615, -0.30905, -0.11465, -0.00997, -0.21434, -0.32898, -0.25421, -0.26917, -0.39877, -0.42120, -0.43117, -0.29908, -0.51591, -0.51092, -0.44114, -0.41123, -0.35391, -0.24923, -0.08474, -0.12461, -0.26917, -0.42618, -0.49098, -0.40624, -0.60563, -0.55080, -0.76015, 0.03489, -1.26110, -0.60064, -0.68538, -0.46108, -0.34394, -0.12461, -0.11465, -0.20437, -0.38880, -0.35391, -0.35391, -0.41123, -0.52588, -0.51591, -0.58071, 0.20935, -0.74021, -0.60563, -0.50095, -0.49098, -0.41123, -0.18941, -0.04486, -0.20437, -0.36388, -0.25920, -0.31403, -0.43117, -0.48101, -0.43615, -0.31901, -0.45111, -0.55080, -0.49597, -0.48600, -0.45111, -0.34892, -0.14455, -0.12461, -0.35391, -0.45111, -0.41621, -0.48600, -0.56575, -0.57074, -0.62557, -0.10966, -1.02932, -0.74021, -0.67043, -0.66046, -0.54083, -0.45609, -0.30406, -0.35391, -0.54083, -0.51092, -0.54581, -0.67541, -0.75018, -0.75018, -0.72526, 0.14954, -0.99443, -0.70034, -0.73523, -0.68040, -0.51591, -0.30905, -0.13458, -0.23926, -0.44114, -0.78009, -0.46108, -0.50095, -0.53584, -0.59566, -0.55080, 0.04486, -0.64551, -0.72027, -0.45609, -0.37883, -0.27914, 0.01994, 0.03988, -0.00498, -0.41621, -0.28911, -0.22929, -0.38381, -0.47603, -0.42120, -0.32898, -0.27914, -0.43117, -0.38381, -0.44114, -0.49098, -0.34394, -0.07477, -0.04486, -0.24923, -0.32400, -0.26917, -0.34394, -0.50095, -0.51092, -0.56575, 0.01495, -1.05424, -0.56575, -0.54083, -0.49098, -0.42120, -0.25421, -0.09471, -0.14954, -0.30905, -0.28412, -0.27914, -0.38880, -0.43117, -0.44612, -0.40624, 0.36388, -0.70034, -0.45609, -0.42618, -0.39877, -0.32400, -0.12960, 0.01994, -0.15951, -0.28412, -0.22431, -0.26418, -0.30905, -0.38381, -0.37883, -0.41123, -0.04985, -0.53584, -0.31901, -0.42120, -0.27914, -0.19440, 0.03489, 0.10966, -0.12461, -0.22431, -0.14455, -0.15452, -0.26917, -0.29409, -0.30905, -0.10468, -0.45111, -0.39378, -0.32898, -0.32400, -0.26917, -0.15951, 0.02991, 0.07975, -0.10966, -0.17446, -0.11963, -0.18941, -0.26917, -0.29908, -0.26418, 0.30406, -0.76514, -0.29409, -0.25421, -0.23926, -0.18443, -0.00498, 0.15452, 0.05982, -0.09969, -0.10966, -0.10966, -0.17446, -0.25920, -0.26418, -0.25920, 0.57572, -0.56575, -0.28412, -0.28412, -0.22929, -0.12960, 0.06978, 0.20935, 0.08474, -0.03988, 0.01994, 0.04486, -0.08474, -0.11963, -0.10966, -0.11963, 0.21932, -0.28412, -0.16449, -0.13458, -0.07477, 0.03489, 0.22431, 0.29409, 0.12960, 0.01994, 0.09969, 0.04486, -0.07975, -0.09969, -0.09471, 0.23428, -0.37883, -0.16449, -0.10966, -0.08474, -0.00997, 0.13957, 0.31403, 0.29409, 0.09969, 0.04985, 0.07477, 0.01495, -0.09471, -0.09471, -0.09969, 0.54581, -0.59566, -0.13458, -0.09471, -0.07477, 0.00498, 0.18443, 0.32898, 0.22929, 0.06978, 0.08474, 0.06480, -0.00498, -0.06978, -0.06480, -0.05982, 0.75517, -0.27914, -0.07975, -0.04486, -0.01495, 0.07975, 0.28911, 0.38381, 0.22929, 0.08972, 0.14455, 0.13957, 0.02991, -0.01994, 0.01495, 0.07477, 0.19440, -0.07477, 0.01994, 0.04985, 0.10468, 0.24425, 0.44612, 0.50095, 0.30905, 0.19938, 0.25421, 0.21434, 0.09471, 0.07477, 0.07477, 0.40624, -0.24425, -0.02492, 0.02492, 0.06978, 0.12461, 0.25920, 0.43117, 0.41621, 0.19440, 0.14954, 0.18941, 0.13458, 0.03489, 0.01994, 0.00000, 0.69535, -0.48101, -0.01994, 0.02492, 0.06480, 0.12461, 0.30905, 0.46108, 0.34892, 0.17446, 0.16948, 0.17945, 0.06480, 0.01994, 0.00498, -0.03988, 0.75517, -0.23428, -0.02991, -0.00498, 0.03489, 0.09969, 0.29908, 0.38880, 0.23428, 0.10966, 0.16948, 0.12960, 0.00000, -0.05483, -0.05982, 0.07975, -0.09471, -0.18443, -0.08474, -0.04985, -0.01994, 0.11465, 0.28412, 0.32898, 0.10966, 0.02492, 0.05483, 0.00997, -0.08474, -0.11465, -0.11963, 0.37883, -0.50594, -0.19938, -0.16449, -0.14954, -0.07477, 0.10966, 0.24923, 0.18443, -0.02492, -0.04486, -0.02492, -0.10966, -0.14954, -0.17446, -0.20437, 0.69535, -0.53086, -0.22929, -0.19938, -0.15951, -0.08972, 0.06480, 0.18443, 0.07975, -0.09969, -0.05982, -0.06978, -0.16948, -0.23428, -0.23926, -0.27415, 0.50594, -0.48101, -0.26418, -0.22431, -0.18941, -0.10966, 0.05982, 0.15951, 0.00000, -0.11465, -0.05483, -0.07975, -0.21932, -0.28911, -0.30905, -0.23428, -0.21434, -0.44114, -0.33895, -0.28911, -0.23926, -0.11963, 0.07477, 0.11963, -0.07477, -0.15452, -0.09471, -0.12461, -0.22929, -0.25920, -0.26418, 0.17446, -0.63055, -0.33397, -0.26917, -0.22929, -0.15452, 0.01495, 0.20437, 0.16948, -0.01994, -0.05483, 0.00498, -0.03988, -0.14455, -0.13458, -0.14455, 0.63554, -0.57074, -0.17446, -0.14455, -0.12960, -0.07477, 0.09969, 0.24425, 0.15452, -0.01495, 0.01495, 0.00000, -0.10468, -0.16948, -0.17446, -0.20437, 0.62058, -0.45111, -0.22431, -0.18941, -0.16449, -0.08972, 0.08474, 0.20935, 0.05982, -0.06978, -0.03489, -0.01994, -0.13458, -0.18443, -0.16948, -0.12461, 0.00997, -0.33397, -0.20935, -0.18443, -0.12960, 0.00000, 0.19440, 0.23926, 0.04486, -0.04985, 0.01994, 0.00000, -0.11963, -0.13957, -0.12461, 0.23926, -0.48600, -0.20935, -0.15951, -0.11963, -0.05982, 0.07477, 0.24425, 0.21434, 0.02991, 0.00498, 0.03988, -0.01994, -0.14455, -0.16948, -0.15951, 0.50095, -0.66046, -0.17945, -0.15452, -0.13458, -0.06978, 0.07975, 0.22929, 0.16449, -0.00997, 0.01994, 0.00997, -0.08474, -0.16449, -0.16948, -0.20935, 0.57074, -0.46108, -0.24923, -0.23926, -0.22431, -0.10966, 0.10966, 0.19440, 0.06978, -0.11963, -0.06978, -0.06978, -0.32898, -0.28412, -0.29908, -0.21434, -0.04486, -0.43615, -0.28911, -0.29908, -0.22431, -0.10468, 0.05982, 0.13957, -0.03489, -0.11465, -0.07477, -0.09969, -0.22431, -0.26917, -0.21932, 0.14455, -0.62557, -0.27914, -0.22431, -0.19938, -0.13957, 0.00498, 0.18443, 0.13957, -0.04486, -0.04486, -0.02991, -0.10966, -0.22431, -0.23926, -0.23926, 0.43117, -0.64052, -0.24425, -0.22431, -0.19938, -0.12960, 0.00997, 0.12960, 0.01994, -0.13957, -0.08972, -0.10966, -0.20935, -0.28911, -0.27914, -0.27914, 0.41123, -0.51092, -0.28911, -0.26917, -0.23428, -0.14954, 0.05483, 0.15452, 0.00498, -0.12960, -0.09969, -0.07477, -0.20437, -0.25920, -0.22431, -0.18443, -0.02991, -0.37384, -0.28911, -0.26418, -0.24923, -0.08972, 0.11465, 0.19440, -0.09969, -0.11465, -0.10468, -0.13957, -0.20437, -0.24923, -0.25421, 0.02492, -0.48600, -0.35391, -0.28911, -0.26917, -0.18941, -0.10468, 0.05982, 0.05483, -0.10966, -0.16948, -0.16449, -0.17945, -0.31403, -0.29409, -0.29908, 0.35391, -0.76514, -0.33895, -0.27914, -0.24923, -0.17945, -0.02492, 0.12461, 0.04486, -0.11465, -0.10966, -0.11465, -0.19938, -0.27415, -0.30406, -0.30905, 0.49098, -0.54581, -0.30905, -0.28412, -0.25421, -0.17446, 0.04486, 0.13458, -0.00498, -0.15452, -0.11465, -0.09471, -0.22431, -0.27914, -0.25920, -0.21434, 0.09969, -0.39378, -0.22929, -0.19938, -0.15951, -0.02991, 0.17446, 0.23428, 0.05483, -0.04985, 0.01495, 0.00000, -0.11963, -0.15452, -0.12960, -0.00498, -0.19938, -0.25421, -0.18443, -0.15452, -0.12960, 0.01994, 0.18941, 0.20437, 0.04486, -0.03988, 0.00997, -0.03489, -0.13957, -0.16449, -0.18443, 0.32898, -0.61560, -0.20437, -0.16948, -0.15452, -0.09471, 0.03988, 0.21434, 0.16449, -0.00997, -0.01994, -0.00498, -0.07477, -0.18941, -0.19938, -0.22929, 0.50095, -0.65049, -0.26418, -0.23926, -0.19440, -0.11465, 0.04985, 0.18443, 0.08474, -0.08474, -0.04985, -0.07975, -0.14455, -0.21932, -0.21434, -0.23926, 0.49098, -0.43615, -0.23926, -0.21932, -0.17446, -0.07477, 0.12960, 0.21932, 0.05483, -0.05483, 0.00997, 0.00000, -0.13458, -0.16948, -0.15951, -0.09471, -0.03988, -0.28412, -0.18443, -0.17446, -0.12461, -0.01994, 0.14954, 0.20437, 0.02991, -0.05483, 0.01495, -0.04985, -0.15452, -0.17945, -0.17446, 0.14455, -0.50594, -0.26418, -0.20437, -0.16948, -0.12960, 0.00498, 0.19938, 0.15951, -0.02492, -0.07477, -0.02991, -0.07975, -0.19938, -0.19938, -0.22431, 0.35391, -0.73523, -0.26418, -0.24923, -0.20437, -0.14954, 0.04985, 0.20437, 0.09969, -0.07477, -0.06480, -0.05982, -0.09969, -0.18443, -0.18941, -0.23428, 0.66046, -0.49098, -0.22929, -0.18941, -0.14455, -0.05982, 0.12461, 0.23428, 0.09969, -0.03489, 0.00498, -0.02492, -0.09969, -0.14954, -0.15951, -0.20437, 0.51591, -0.35391, -0.16948, -0.15951, -0.10966, -0.01495, 0.18443, 0.26917, 0.10468, -0.01495, 0.05483, 0.05483, -0.05982, -0.08972, -0.07975, -0.01495, 0.02492, -0.16449, -0.07477, -0.05982, -0.00498, 0.11465, 0.29409, 0.32400, 0.17945, 0.08474, 0.11465, 0.09969, -0.05483, -0.06480, -0.04486, 0.33397, -0.41123, -0.12461, -0.06480, -0.03489, 0.03489, 0.18941, 0.37384, 0.30406, 0.15452, 0.10468, 0.12461, 0.10966, 0.02492, -0.00498, -0.04985, 0.71529, -0.34394, -0.01495, -0.01994, 0.00997, 0.06978, 0.23926, 0.37883, 0.23926, 0.05982, 0.14954, 0.11963, 0.12461, -0.00997, -0.06978, -0.05483, 0.84987, -0.21434, -0.05982, -0.05483, -0.00997, 0.04985, 0.25421, 0.34394, 0.20935, 0.09471, 0.16948, 0.18941, 0.03489, -0.01495, 0.00000, 0.01994, 0.16449, -0.10966, -0.00997, -0.01994, 0.03489, 0.12960, 0.30406, 0.32400, 0.14455, 0.05483, 0.10468, 0.06480, -0.01495, -0.06480, -0.04486, 0.27415, -0.27415, -0.15951, -0.07477, -0.02991, 0.02991, 0.16948, 0.32400, 0.32400, 0.11963, 0.06480, 0.09969, 0.06978, -0.02991, -0.01994, -0.01994, 0.57572, -0.45609, -0.04486, -0.01495, -0.00997, -0.01994, 0.21434, 0.32400, 0.22431, 0.07975, 0.03489, 0.04486, -0.01495, -0.10468, -0.09471, -0.11963, 0.75517, -0.42618, -0.14455, -0.13458, -0.10468, -0.00498, 0.13458, 0.25421, 0.16948, 0.02492, 0.07975, 0.07975, -0.03988, -0.08972, -0.08474, -0.12960, 0.56077, -0.29409, -0.13458, -0.12461, -0.09969, -0.01495, 0.17945, 0.21932, 0.05982, -0.04985, -0.00498, -0.00498, -0.12960, -0.18941, -0.17446, -0.07477, -0.03988, -0.28911, -0.14455, -0.13458, -0.10468, 0.04985, 0.23926, 0.28412, 0.07477, 0.00997, 0.05982, 0.00997, -0.13957, -0.13458, -0.17446, 0.24425, -0.45111, -0.17446, -0.11465, -0.07975, -0.00498, 0.14455, 0.31901, 0.30406, 0.08972, 0.06480, 0.10966, 0.08474, -0.06480, -0.08474, -0.02991, 0.47603, -0.48101, -0.06978, -0.03988, -0.01994, 0.05982, 0.24923, 0.36388, 0.26418, 0.12960, 0.09471, 0.14954, 0.13458, 0.15951, 0.18941, 0.16948, 0.95455, -0.26917, 0.04486, 0.06480, 0.06978, 0.16948, 0.34394, 0.42618, 0.33397, 0.15452, 0.17446, 0.13458, 0.07477, -0.02492, 0.01495, -0.05483, 0.81997, -0.26917, -0.03988, -0.04985, -0.02492, 0.04985, 0.22929, 0.34394, 0.16449, 0.06480, 0.16948, 0.13957, -0.03988, -0.08474, -0.07975, 0.00000, 0.03988, -0.14954, -0.06978, -0.06480, -0.02492, 0.04486, 0.21932, 0.24923, 0.06978, -0.00997, 0.06978, 0.00997, -0.10468, -0.07975, -0.05982, 0.32400, -0.32400, -0.16948, -0.08474, -0.05483, 0.03489, 0.18443, 0.33895, 0.30406, 0.13458, 0.10468, 0.14455, 0.14954, 0.05483, 0.06480, 0.03489, 0.67043, -0.36886, 0.02991, 0.03988, 0.06480, 0.11963, 0.24425, 0.39378, 0.31901, 0.16948, 0.13957, 0.14954, 0.06480, -0.00997, -0.03489, -0.04985, 0.73523, -0.44114, -0.06480, -0.03988, -0.01994, 0.03988, 0.20437, 0.31403, 0.20437, 0.06480, 0.11963, 0.11465, 0.00498, -0.06978, -0.05483, -0.07477, 0.64551, -0.27415, -0.07477, -0.06978, -0.05982, 0.03988, 0.21434, 0.30905, 0.13957, 0.01994, 0.05483, 0.05483, -0.03489, -0.08972, -0.11465, -0.04985, 0.09969, -0.21434, -0.10468, -0.09969, -0.02991, 0.10966, 0.28412, 0.30406, 0.10966, 0.05982, 0.12461, 0.06978, -0.02492, 0.00000, 0.00997, 0.20935, -0.12461, -0.07477, -0.00997, -0.01495, 0.00997, 0.11465, 0.29908, 0.29908, 0.10966, 0.03988, 0.06480, 0.01994, -0.10468, -0.14455, -0.14455, 0.33895, -0.60563, -0.17446, -0.12461, -0.11465, -0.06480, 0.04985, 0.18443, 0.13957, -0.01994, -0.01994, -0.01994, -0.06480, -0.15452, -0.16948, -0.21434, 0.55080, -0.56077, -0.23926, -0.17945, -0.17446, -0.09471, 0.04985, 0.19938, 0.05483, -0.09471, -0.05483, -0.07975, -0.14455, -0.20935, -0.18941, -0.24425, 0.54083, -0.39877, -0.21932, -0.20437, -0.15951, -0.07477, 0.07975, 0.10468, -0.01495, -0.09969, -0.01994, -0.03988, -0.17945, -0.20935, -0.19440, -0.23428, 0.22929, -0.34892, -0.24425, -0.27415, -0.18443, -0.09969, 0.06978, 0.12461, -0.02492, -0.11465, -0.03988, -0.12461, -0.22929, -0.25920, -0.22431, -0.05483, -0.34394, -0.27415, -0.20437, -0.17945, -0.10966, -0.00997, 0.12461, 0.12960, -0.04985, -0.09471, -0.05483, -0.14455, -0.21932, -0.22431, -0.20437, 0.31403, -0.66046, -0.22929, -0.18941, -0.15452, -0.08972, -0.00498, 0.06978, 0.08474, -0.07477, -0.07975, -0.06978, -0.14455, -0.22929, -0.21932, -0.21932, 0.53584, -0.45609, -0.19938, -0.17945, -0.16449, -0.08474, 0.04985, 0.16449, 0.04985, -0.04486, 0.02492, 0.02492, -0.15951, -0.20437, -0.23926, -0.21932, 0.02991, -0.32898, -0.21434, -0.18941, -0.14954, -0.08474, 0.07975, 0.14954, 0.04486, -0.02492, 0.05982, 0.04985, -0.07975, -0.05982, -0.06978, 0.19440, -0.27415, -0.17945, -0.17446, -0.14455, -0.11963, -0.03489, 0.18941, 0.19938, 0.01495, -0.13458, -0.09969, -0.17446, -0.35889, -0.46108, -0.45609, 0.05483, -0.86483, -0.51591, -0.46606, -0.50594, -0.43615, -0.22431, -0.04985, -0.08474, -0.17446, -0.12960, -0.08474, -0.08474, -0.08972, -0.04486, -0.05483, 0.69535, -0.44114, -0.02991, 0.01994, 0.03489, 0.07477, 0.21434, 0.31901, 0.22431, 0.05982, 0.04985, 0.05982, -0.04486, -0.15452, -0.15951, -0.21932, 0.65547, -0.52588, -0.24425, -0.22431, -0.21434, -0.15951, -0.00498, 0.09969, 0.01495, -0.14455, -0.10468, -0.08972, -0.22431, -0.29908, -0.27415, -0.32400, 0.25421, -0.44612, -0.29908, -0.27415, -0.24425, -0.15951, 0.02492, 0.09471, -0.05982, -0.14954, -0.07975, -0.14455, -0.25421, -0.31403, -0.29908, -0.17945, -0.44612, -0.44114, -0.39378, -0.36886, -0.30406, -0.17945, 0.00000, 0.02492, -0.14954, -0.20935, -0.16948, -0.20437, -0.31901, -0.34394, -0.33397, 0.15452, -0.77012, -0.37883, -0.34892, -0.32400, -0.26418, -0.12461, 0.01994, -0.01994, -0.20437, -0.19938, -0.19440, -0.23428, -0.29908, -0.28911, -0.30406, 0.51092, -0.67541, -0.35391, -0.33397, -0.26418, -0.13458, 0.07975, 0.19440, 0.08474, -0.07975, -0.06480, -0.07975, -0.17446, -0.23926, -0.25421, -0.28911, 0.61061, -0.50095, -0.27415, -0.27914, -0.24923, -0.17945, -0.01495, 0.08474, -0.00997, -0.13957, -0.07477, -0.11465, -0.20437, -0.26418, -0.28412, -0.28911, 0.16948, -0.40624, -0.27415, -0.27914, -0.21434, -0.11963, 0.02492, 0.11465, -0.05483, -0.13458, -0.06480, -0.11963, -0.23926, -0.26917, -0.26917, -0.03489, -0.42618, -0.35889, -0.29908, -0.28412, -0.21932, -0.09471, 0.06978, 0.08474, -0.07477, -0.11465, -0.07477, -0.12461, -0.21434, -0.21434, -0.23926, 0.26917, -0.72526, -0.27415, -0.25920, -0.22431, -0.15951, -0.01994, 0.14954, 0.08972, -0.08972, -0.07975, -0.05982, -0.13957, -0.20437, -0.23428, -0.23428, 0.54083, -0.57572, -0.23428, -0.21932, -0.17945, -0.11963, 0.06978, 0.18443, 0.04985, -0.06978, -0.03988, -0.04486, -0.11963, -0.18443, -0.16948, -0.20437, 0.61560, -0.37384, -0.18443, -0.15452, -0.12461, -0.02492, 0.14954, 0.22929, 0.10966, -0.00498, 0.04486, 0.03489, -0.08972, -0.15951, -0.14455, -0.18941, 0.41621, -0.30905, -0.18443, -0.16449, -0.11465, -0.03988, 0.13458, 0.17446, 0.04486, -0.04486, 0.02492, -0.02991, -0.13458, -0.18443, -0.16449, -0.09969, -0.12461, -0.27914, -0.22929, -0.17945, -0.14954, -0.02492, 0.14954, 0.15452, 0.00000, -0.05483, 0.00000, -0.04985, -0.18443, -0.18443, -0.19938, 0.22431, -0.63055, -0.23926, -0.20437, -0.18941, -0.13458, -0.01495, 0.14455, 0.11963, -0.04985, -0.05483, -0.01994, -0.09969, -0.20437, -0.20935, -0.23428, 0.48101, -0.65049, -0.22929, -0.19440, -0.14455, -0.09471, 0.07477, 0.19440, 0.06480, -0.06480, -0.04985, -0.05982, -0.11963, -0.16948, -0.18443, -0.21434, 0.62557, -0.43117, -0.22929, -0.17945, -0.14954, -0.05483, 0.15452, 0.25920, 0.10966, -0.00997, 0.02991, 0.01994, -0.07975, -0.12461, -0.11465, -0.16449, 0.47603, -0.27914, -0.14455, -0.13458, -0.09471, -0.02492, 0.16449, 0.22431, 0.08972, -0.01994, 0.05483, 0.01495, -0.12461, -0.14954, -0.15951, -0.09969, -0.05483, -0.26917, -0.17945, -0.17945, -0.12461, -0.01994, 0.14455, 0.17446, 0.02492, -0.05982, 0.00000, -0.04985, -0.16948, -0.18941, -0.18443, 0.13957, -0.50095, -0.25421, -0.19938, -0.17945, -0.12461, 0.00000, 0.15951, 0.14954, -0.01994, -0.02991, -0.00498, -0.06978, -0.16449, -0.17945, -0.19938, 0.40624, -0.66046, -0.20935, -0.18443, -0.14954, -0.08972, 0.05982, 0.19938, 0.11963, -0.04985, -0.00997, -0.01495, -0.08972, -0.16449, -0.18443, -0.19440, 0.63554, -0.48600, -0.17446, -0.15951, -0.15452, -0.04985, 0.11963, 0.20935, 0.03988, -0.08474, -0.07975, -0.10966, -0.22929, -0.29409, -0.32898, -0.34394, 0.32898, -0.57074, -0.48600, -0.49098, -0.26418, -0.02991, 0.27415, 0.34394, 0.09969, -0.02991, 0.04985, 0.01495, -0.06978, -0.11963, -0.15452, -0.13458, 0.19938, -0.25421, -0.19440, -0.15951, -0.15951, -0.03489, 0.14954, 0.17446, 0.00498, -0.04486, -0.00498, -0.04486, -0.14455, -0.18941, -0.18443, -0.04985, -0.20437, -0.27415, -0.22929, -0.17945, -0.09969, 0.01495, 0.16948, 0.18443, 0.01495, -0.03988, 0.03988, -0.01994, -0.11465, -0.11963, -0.12960, 0.22431, -0.41621, -0.18941, -0.12461, -0.05982, 0.00997, 0.16948, 0.31901, 0.30406, 0.15452, 0.13957, 0.15951, 0.13957, 0.06978, 0.06480, 0.09471, 0.70532, -0.38880, 0.09969, 0.10468, 0.10468, 0.17945, 0.31403, 0.46108, 0.39378, 0.23428, 0.20935, 0.20437, 0.09969, 0.00000, -0.01994, -0.04486, 0.80003, -0.36886, -0.03489, -0.01495, -0.00498, 0.07477, 0.24425, 0.34394, 0.25421, 0.10468, 0.13458, 0.10468, -0.00997, -0.06978, -0.07975, -0.10966, 0.62058, -0.28412, -0.11963, -0.10966, -0.07975, 0.00498, 0.15951, 0.25920, 0.10468, -0.02492, 0.03988, 0.00997, -0.11963, -0.17945, -0.14954, -0.11465, -0.02492, -0.30406, -0.21434, -0.18941, -0.11963, -0.03489, 0.14455, 0.22431, 0.05483, 0.00997, 0.07477, 0.05483, -0.06480, -0.11465, -0.13957, 0.04985, -0.30406, -0.24923, -0.17945, -0.19440, -0.12461, 0.00000, 0.14954, 0.09969, -0.04985, -0.09471, -0.08972, -0.14954, -0.27914, -0.29908, -0.28911, 0.12960, -0.61560, -0.31901, -0.27415, -0.23926, -0.17945, -0.02991, 0.12960, 0.08972, -0.07975, -0.11465, -0.08474, -0.13957, -0.23926, -0.25421, -0.26917, 0.25421, -0.79504, -0.35391, -0.36886, -0.35889, -0.30406, -0.15951, -0.02991, -0.07975, -0.21434, -0.19938, -0.19938, -0.26917, -0.36886, -0.31403, -0.30406, 0.51092, -0.63554, -0.26418, -0.23926, -0.18941, -0.10468, 0.05483, 0.16449, 0.07477, -0.08474, -0.03988, -0.06480, -0.17446, -0.20437, -0.20935, -0.23428, 0.55578, -0.43615, -0.24425, -0.21932, -0.14455, -0.05483, 0.11963, 0.23926, 0.08972, 0.00498, 0.02991, 0.02991, -0.04985, -0.12461, -0.10966, -0.13957, 0.31901, -0.24923, -0.11465, -0.10468, -0.06480, 0.00997, 0.16449, 0.23428, 0.09471, 0.00000, 0.05483, 0.01994, -0.08972, -0.14954, -0.13957, -0.06978, -0.04486, -0.23428, -0.16948, -0.14954, -0.12960, -0.00997, 0.15452, 0.20935, 0.04985, -0.04985, 0.00997, -0.02991, -0.14455, -0.16449, -0.18443, 0.08474, -0.28412, -0.26917, -0.21434, -0.16948, -0.11465, 0.01994, 0.18941, 0.18443, 0.02492, -0.03988, -0.00498, -0.03988, -0.09969, -0.10468, -0.09969, 0.40624, -0.55080, -0.14455, -0.09969, -0.06480, -0.01495, 0.12960, 0.27415, 0.22431, 0.05483, 0.04486, 0.05982, 0.00000, -0.11963, -0.14455, -0.16948, 0.47603, -0.64551, -0.21434, -0.18443, -0.13957, -0.09969, 0.06480, 0.18941, 0.12461, -0.01495, -0.00997, 0.02991, -0.08474, -0.16449, -0.17945, -0.17945, 0.59566, -0.55080, -0.19938, -0.17945, -0.13458, -0.10468, 0.07477, 0.17446, 0.07477, -0.03988, -0.00498, -0.04985, -0.15951, -0.20935, -0.20437, -0.26418, 0.49098, -0.46606, -0.26917, -0.25920, -0.21434, -0.14455, 0.03489, 0.12461, -0.00997, -0.12461, -0.05483, -0.06978, -0.17945, -0.19440, -0.18443, -0.18443, 0.19440, -0.37384, -0.22431, -0.19440, -0.15452, -0.03988, 0.14455, 0.20935, 0.03988, -0.06978, -0.00997, -0.02991, -0.08474, -0.11465, -0.11963, -0.10966, 0.00997, -0.21434, -0.11963, -0.09471, -0.06978, 0.05483, 0.22929, 0.26418, 0.04486, 0.01495, 0.08972, 0.02991, -0.07975, -0.11963, -0.11963, -0.00498, -0.14954, -0.21434, -0.13458, -0.12960, -0.07477, 0.03988, 0.22929, 0.24923, 0.07477, 0.00498, 0.05483, 0.04486, -0.13957, -0.17945, -0.11963, 0.30905, -0.53086, -0.18443, -0.13458, -0.12461, -0.10468, 0.06978, 0.22431, 0.19440, 0.02492, 0.02492, 0.03988, -0.02991, -0.12960, -0.14954, -0.15951, 0.54581, -0.62557, -0.19938, -0.17945, -0.16449, -0.07975, 0.08972, 0.19440, 0.09471, -0.02991, -0.01495, -0.02492, -0.08474, -0.15452, -0.16449, -0.17446, 0.64551, -0.50594, -0.19440, -0.18443, -0.13957, -0.04486, 0.14954, 0.26418, 0.10966, -0.00997, 0.01994, 0.01495, -0.06480, -0.10966, -0.05483, -0.10468, 0.72526, -0.29409, -0.10468, -0.06480, -0.01994, 0.06480, 0.25920, 0.36388, 0.23926, 0.10468, 0.17945, 0.16948, 0.05982, 0.01495, 0.01495, -0.02991, 0.73024, -0.19440, 0.03988, 0.08972, 0.10966, 0.23926, 0.42120, 0.53086, 0.41123, 0.33895, 0.39877, 0.37384, 0.22431, 0.14455, 0.11465, 0.11465, 0.51591, -0.04985, 0.08474, 0.10966, 0.14954, 0.26418, 0.45111, 0.49597, 0.34892, 0.25920, 0.27914, 0.28412, 0.19938, 0.17446, 0.16449, 0.29409, 0.30905, 0.11963, 0.24923, 0.26917, 0.32898, 0.47104, 0.69535, 0.70532, 0.57572, 0.52089, 0.58071, 0.52089, 0.35889, 0.35889, 0.36886, 0.67043, 0.14455, 0.37384, 0.41123, 0.47603, 0.55080, 0.70532, 0.87480, 0.86483, 0.70532, 0.64551, 0.69535, 0.63055, 0.51092, 0.48600, 0.46108, 1.00440, -0.07477, 0.33397, 0.32400, 0.31403, 0.33895, 0.43615, 0.58071, 0.49098, 0.32898, 0.34394, 0.36388, 0.29409, 0.19440, 0.17446, 0.11963, 0.83991, -0.26917, 0.10966, 0.14954, 0.25920, 0.31403, 0.51092, 0.65547, 0.45111, 0.32400, 0.40624, 0.32400, 0.27415, 0.24923, 0.20935, 0.13957, 1.10907, -0.07477, 0.20437, 0.27415, 0.28911, 0.43117, 0.62557, 0.69037, 0.57572, 0.41123, 0.47104, 0.45111, 0.31403, 0.23926, 0.22929, 0.20437, 1.03430, 0.05483, 0.20935, 0.20935, 0.23926, 0.34892, 0.55578, 0.63554, 0.51591, 0.37883, 0.48101, 0.46606, 0.31403, 0.24923, 0.23926, 0.24425, 0.49098, 0.02492, 0.15452, 0.15452, 0.16449, 0.28911, 0.49098, 0.50594, 0.32898, 0.17446, 0.26418, 0.19938, 0.09969, 0.08474, 0.11465, 0.33895, 0.20935, 0.04486, 0.12960, 0.15452, 0.22929, 0.35889, 0.53584, 0.53086, 0.33895, 0.24923, 0.32898, 0.28412, 0.14455, 0.11963, 0.11963, 0.38880, -0.17446, 0.00498, 0.06480, 0.06480, 0.10468, 0.19938, 0.38381, 0.35391, 0.20437, 0.13957, 0.18941, 0.09471, -0.00997, -0.02492, -0.02492, 0.39378, -0.48101, -0.07975, -0.04985, -0.03489, 0.02492, 0.15452, 0.29908, 0.23926, 0.07477, 0.03988, 0.06480, 0.00997, -0.08474, -0.10468, -0.12461, 0.42120, -0.57572, -0.17446, -0.12461, -0.11465, -0.05982, 0.12960, 0.24425, 0.18443, 0.01495, 0.00997, 0.01495, -0.00498, -0.07477, -0.08474, -0.10966, 0.71031, -0.47603, -0.11963, -0.06978, -0.04985, 0.01994, 0.17945, 0.27914, 0.19938, 0.04985, 0.07975, 0.07477, -0.01495, -0.10468, -0.10468, -0.15452, 0.69037, -0.42618, -0.15951, -0.13458, -0.15452, -0.05483, 0.10468, 0.19938, 0.09969, -0.03988, 0.00997, 0.00498, -0.11963, -0.17446, -0.14954, -0.20935, 0.53584, -0.33895, -0.15452, -0.15452, -0.18443, -0.03489, 0.11465, 0.19938, 0.04985, -0.05982, 0.00498, -0.02991, -0.14455, -0.16449, -0.19440, -0.14455, 0.05483, -0.31403, -0.21434, -0.17945, -0.15452, -0.04486, 0.14455, 0.19938, 0.02991, -0.03988, 0.02492, -0.02991, -0.14954, -0.18941, -0.18941, 0.00498, -0.30406, -0.28412, -0.20437, -0.19938, -0.13957, -0.01994, 0.13957, 0.16449, -0.00498, -0.05982, 0.00997, -0.04985, -0.14954, -0.17945, -0.17446, 0.20437, -0.53584, -0.23926, -0.19938, -0.15951, -0.09969, 0.03489, 0.18941, 0.17945, -0.01994, -0.04985, -0.03489, -0.05982, -0.14954, -0.16948, -0.15951, 0.35889, -0.59068, -0.17945, -0.14954, -0.13458, -0.04985, 0.09969, 0.25920, 0.16948, -0.02991, -0.05483, 0.03988, -0.02492, -0.11465, -0.08474, -0.10468, 0.62557, -0.52588, -0.14455, -0.13957, -0.08474, -0.02991, 0.12960, 0.25920, 0.16449, 0.02991, 0.03489, 0.05982, -0.03489, -0.11963, -0.13458, -0.16449, 0.70034, -0.45111, -0.16948, -0.13957, -0.11963, -0.05483, 0.13458, 0.20437, 0.12960, -0.02492, 0.06480, 0.04486, -0.08474, -0.15951, -0.13957, -0.20437, 0.49098, -0.38880, -0.17446, -0.16449, -0.13957, -0.06480, 0.10468, 0.16449, 0.03988, -0.07975, -0.02991, -0.02991, -0.15951, -0.19440, -0.20935, -0.16948, 0.09471, -0.35889, -0.20935, -0.18443, -0.13957, -0.02492, 0.16449, 0.21434, 0.05483, -0.01994, 0.02991, 0.00498, -0.12960, -0.12960, -0.13458, -0.01495, -0.05982, -0.23926, -0.18941, -0.17945, -0.08972, 0.03988, 0.20935, 0.22431, 0.03988, -0.02492, 0.01994, -0.01994, -0.17446, -0.19440, -0.19440, -0.04486, -0.37384, -0.15452, -0.17446, -0.11465, -0.10966, 0.00997, 0.16948, 0.14455, 0.01994, -0.02492, 0.03988, -0.06480, -0.10966, -0.16449, -0.17446, 0.21932, -0.65547, -0.26917, -0.18941, -0.21434, -0.11963, 0.00997, 0.14455, 0.07477, -0.03489, -0.05982, -0.02492, -0.09471, -0.18443, -0.23428, -0.19440, 0.54083, -0.64551, -0.26917, -0.22929, -0.18941, -0.09969, 0.02991, 0.16449, 0.07975, -0.04985, -0.00498, 0.00498, -0.11465, -0.17945, -0.19938, -0.18941, 0.57074, -0.39877, -0.19440, -0.18443, -0.14455, -0.05982, 0.11465, 0.21434, 0.03988, -0.04985, 0.01495, 0.01495, -0.11465, -0.15452, -0.12960, -0.11465, 0.27914, -0.34394, -0.15452, -0.14954, -0.11465, 0.00498, 0.19938, 0.24425, 0.07975, -0.00498, 0.02991, 0.03489, -0.06480, -0.09471, -0.05982, 0.00997, -0.00498, -0.19938, -0.11465, -0.09471, -0.04985, 0.04486, 0.22929, 0.25421, 0.07477, -0.02492, 0.03988, 0.00000, -0.12960, -0.15951, -0.14954, -0.05982, -0.22431, -0.26917, -0.17446, -0.15452, -0.10966, -0.00498, 0.15951, 0.20437, 0.03988, -0.04486, 0.01994, -0.01994, -0.15951, -0.19440, -0.19938, 0.13458, -0.53584, -0.26917, -0.21932, -0.20437, -0.15951, -0.03489, 0.11465, 0.12461, -0.07975, -0.11465, -0.08474, -0.13957, -0.24923, -0.28412, -0.28412, 0.18941, -0.79006, -0.32898, -0.29409, -0.27415, -0.18443, -0.01495, 0.14455, 0.07975, -0.09471, -0.09471, -0.10468, -0.15951, -0.25421, -0.24425, -0.24923, 0.43615, -0.66046, -0.27914, -0.23926, -0.21932, -0.13458, 0.04486, 0.15452, 0.08474, -0.07477, -0.04985, -0.06480, -0.15452, -0.23926, -0.26418, -0.27914, 0.55578, -0.63554, -0.28911, -0.26917, -0.22929, -0.17446, -0.01495, 0.06978, -0.00997, -0.14455, -0.09471, -0.10468, -0.19938, -0.25920, -0.26418, -0.27415, 0.50594, -0.47603, -0.27415, -0.22929, -0.22431, -0.15452, 0.01495, 0.08474, -0.03489, -0.15452, -0.08474, -0.07975, -0.21932, -0.27415, -0.24425, -0.22929, 0.17945, -0.39378, -0.24425, -0.20437, -0.17945, -0.04985, 0.13458, 0.19440, 0.06480, -0.04985, 0.01994, 0.00498, -0.11465, -0.11963, -0.12461, -0.03489, -0.00997, -0.23428, -0.14954, -0.13957, -0.08474, 0.04985, 0.22929, 0.26917, 0.09969, 0.00000, 0.07975, -0.00498, -0.07975, -0.11465, -0.10966, 0.02991, -0.24425, -0.21932, -0.13957, -0.12461, -0.07975, 0.05483, 0.21434, 0.22929, 0.06480, 0.00498, 0.06480, 0.02492, -0.06480, -0.10966, -0.10468, 0.22929, -0.45111, -0.15951, -0.09969, -0.08972, -0.01495, 0.10966, 0.21434, 0.17945, 0.01994, 0.01495, 0.05982, 0.01495, -0.07477, -0.10966, -0.11963, 0.52588, -0.54581, -0.07477, -0.04486, -0.00997, 0.05483, 0.22431, 0.35391, 0.28911, 0.13957, 0.14954, 0.15452, 0.07477, -0.03489, -0.03988, -0.06978, 0.76015, -0.39378, -0.04985, -0.05982, -0.02492, 0.03489, 0.20437, 0.32400, 0.23428, 0.09471, 0.16449, 0.13458, 0.01495, -0.04486, -0.04486, -0.05982, 0.72526, -0.27415, -0.08972, -0.06480, -0.01994, 0.06480, 0.23428, 0.32400, 0.18941, 0.06480, 0.11963, 0.10966, -0.03489, -0.06978, -0.04985, -0.05982, 0.37883, -0.23428, -0.11465, -0.05483, -0.01994, 0.10966, 0.27415, 0.38381, 0.17945, 0.08474, 0.15452, 0.10966, 0.00997, -0.00997, -0.01495, 0.02991, 0.01994, -0.12960, -0.04486, -0.01994, 0.00997, 0.12960, 0.25920, 0.29908, 0.14954, 0.06480, 0.13957, 0.08972, -0.04985, -0.08972, -0.08474, 0.21434, -0.39378, -0.13458, -0.09471, -0.08474, -0.02991, 0.09471, 0.22929, 0.25920, 0.06480, 0.03489, 0.07477, 0.00997, -0.05982, -0.10468, -0.09471, 0.38381, -0.56575, -0.13957, -0.09969, -0.06978, 0.01495, 0.14954, 0.29409, 0.26418, 0.07975, 0.07975, 0.08474, 0.05483, -0.01994, -0.02991, -0.01994, 0.68040, -0.44114, -0.01495, 0.00498, 0.00997, 0.09471, 0.27415, 0.38880, 0.30406, 0.12960, 0.14954, 0.15452, 0.05982, -0.03489, -0.06480, -0.06480, 0.72027, -0.37883, -0.04486, -0.04486, -0.04486, 0.01495, 0.17945, 0.30406, 0.23926, 0.12461, 0.13458, 0.12461, 0.01495, -0.03988, -0.02492, -0.02991, 0.81000, -0.29908, -0.07975, -0.05483, -0.02492, 0.06480, 0.24923, 0.34394, 0.22431, 0.08474, 0.15951, 0.14954, -0.00498, -0.06480, -0.05982, -0.07975, 0.42618, -0.24923, -0.07975, -0.06480, 0.00000, 0.07975, 0.26917, 0.35391, 0.21434, 0.10468, 0.17446, 0.10966, 0.02492, -0.00498, 0.00000, 0.08972, 0.16449, -0.14954, -0.03489, 0.00000, 0.02991, 0.18443, 0.35391, 0.40624, 0.23428, 0.12461, 0.19938, 0.14954, 0.03988, 0.01994, 0.03988, 0.19938, -0.07477, -0.10468, -0.01994, 0.00000, 0.04486, 0.17446, 0.32898, 0.33895, 0.16449, 0.09969, 0.14954, 0.09969, -0.00498, -0.02492, -0.02492, 0.20437, -0.30406, -0.10966, -0.04985, -0.04486, -0.00498, 0.12461, 0.28911, 0.29908, 0.13458, 0.08474, 0.11963, 0.06480, -0.05483, -0.07975, -0.06480, 0.34394, -0.58569, -0.12461, -0.08474, -0.06978, -0.00997, 0.12960, 0.26917, 0.24923, 0.06480, 0.03988, 0.05483, -0.00498, -0.07975, -0.10468, -0.09969, 0.49597, -0.55080, -0.11465, -0.10468, -0.09471, -0.00997, 0.15452, 0.30406, 0.21434, 0.05483, 0.06978, 0.05982, 0.00997, -0.08972, -0.08474, -0.09471, 0.73024, -0.46108, -0.10966, -0.11465, -0.06978, -0.00498, 0.17446, 0.28911, 0.19938, 0.04486, 0.03988, 0.04985, -0.02991, -0.10966, -0.12461, -0.13957, 0.67541, -0.47603, -0.15452, -0.14954, -0.10468, -0.03489, 0.13458, 0.23926, 0.14954, -0.00997, 0.06978, 0.04985, -0.05483, -0.12461, -0.12960, -0.15951, 0.61560, -0.39877, -0.16449, -0.14954, -0.10468, -0.02492, 0.15452, 0.24425, 0.10468, -0.01994, 0.01994, 0.01994, -0.11465, -0.15452, -0.16449, -0.16449, 0.37883, -0.31901, -0.19440, -0.16948, -0.12461, -0.01495, 0.15452, 0.21932, 0.04985, -0.03489, 0.01994, -0.01495, -0.11465, -0.15951, -0.12960, -0.10966, 0.00997, -0.20935, -0.15452, -0.09471, 0.00498, 0.12461, 0.30406, 0.38381, 0.17446, 0.08474, 0.14455, 0.10966, 0.04486, -0.01994, -0.01495, 0.00997, 0.06978, -0.11963, -0.04985, -0.04486, -0.00997, 0.08972, 0.28412, 0.32898, 0.15951, 0.05982, 0.11963, 0.10468, -0.02991, -0.08972, -0.03988, 0.10468, -0.15452, -0.13458, -0.05483, -0.03988, -0.06480, 0.09969, 0.23428, 0.24425, 0.08474, -0.00498, 0.02991, -0.00498, -0.14455, -0.16948, -0.16948, 0.16948, -0.64551, -0.26418, -0.21434, -0.20437, -0.13957, -0.00997, 0.12960, 0.07975, -0.03489, -0.07477, -0.06480, -0.09471, -0.21434, -0.21434, -0.22929, 0.29409, -0.62557, -0.24923, -0.20437, -0.17945, -0.13458, 0.00997, 0.18941, 0.12960, -0.02492, -0.06978, -0.03988, -0.06480, -0.15951, -0.16449, -0.18443, 0.52089, -0.61061, -0.19440, -0.17446, -0.14455, -0.07477, 0.08474, 0.22431, 0.14954, -0.03489, -0.03489, -0.02492, -0.08972, -0.18941, -0.19440, -0.20437, 0.49597, -0.66544, -0.24923, -0.21434, -0.19440, -0.12960, 0.03988, 0.13957, 0.10468, -0.05483, -0.01994, -0.01495, -0.08972, -0.19938, -0.22431, -0.24923, 0.56077, -0.57074, -0.22929, -0.20437, -0.16948, -0.09969, 0.05483, 0.15452, 0.04985, -0.06978, 0.00498, -0.02492, -0.14954, -0.21932, -0.20437, -0.22929, 0.54083, -0.44612, -0.23428, -0.22431, -0.20935, -0.11465, 0.05483, 0.12960, 0.01994, -0.11465, -0.03489, -0.05483, -0.21434, -0.25421, -0.24923, -0.26917, 0.28412, -0.50095, -0.30406, -0.28911, -0.26917, -0.17945, 0.03988, 0.08972, -0.05982, -0.20935, -0.15452, -0.15951, -0.30406, -0.31901, -0.32400, -0.29409, 0.04486, -0.50594, -0.30905, -0.30905, -0.26418, -0.12960, 0.04486, 0.11465, -0.06978, -0.17446, -0.11465, -0.08972, -0.22431, -0.27415, -0.30905, -0.24425, -0.05483, -0.36388, -0.28412, -0.27415, -0.23428, -0.10468, 0.04985, 0.10468, -0.06480, -0.13458, -0.06978, -0.11963, -0.23428, -0.28412, -0.25920, -0.25421, -0.17945, -0.26418, -0.14455, -0.06978, 0.02492, 0.17945, 0.39378, 0.46108, 0.35889, 0.31901, 0.45609, 0.39378, 0.27415, 0.12960, 0.01994, 0.25421, -0.44612, -0.24923, -0.21932, -0.22929, -0.16948, -0.06978, 0.12461, 0.10966, -0.04486, -0.09471, -0.05483, -0.10966, -0.21434, -0.25920, -0.22929, 0.22929, -0.80501, -0.33397, -0.34892, -0.34394, -0.26418, -0.12960, 0.45609, -0.27914, -0.32898, -0.29409, -0.56077, -0.52089, -0.57074, -0.42618, -0.58569, -0.00498, -0.96950, -0.45609, -0.44612, -0.35391, -0.44612, -0.14954, -0.05982, -0.01994, -0.22431, -0.62058, -0.31403, -0.29409, -0.37883, -0.46108, -0.60563, 0.10468, -0.89972, -0.51591, -0.58071, -0.57572, -0.42618, -0.32400, -0.13458, -0.11465, -0.39877, -0.44612, -0.47104, -0.56077, -0.85984, -0.74520, -0.63055, 0.11963, -1.08914, -0.59068, -0.72027, -0.55080, -0.60064, -0.31901, -0.06480, -0.50095, -0.43117, -0.41123, -0.39877, -0.63055, -0.42120, -0.61560, -0.52588, 0.21932, -1.00440, -0.51092, -0.56077, -0.34892, -0.30406, -0.40624, -0.11963, -0.24425, -0.47104, -0.40624, -0.31901, -0.36886, -0.43615, -0.45609, -0.51092, 0.27415, -0.71031, -0.46606, -0.39378, -0.37384, -0.27914, -0.13458, -0.05483, -0.17446, -0.32400, -0.24923, -0.28911, -0.39877, -0.45609, -0.44114, -0.48600, 0.21932, -0.67541, -0.47603, -0.43117, -0.38880, -0.24923, -0.07975, -0.00498, -0.10468, -0.20935, -0.14455, -0.13957, -0.23428, -0.30905, -0.23428, -0.33895, 0.24425, -0.38381, -0.24425, -0.19938, -0.17446, -0.05483, 0.10468, 0.18443, 0.04985, -0.03489, 0.05483, 0.03988, -0.08972, -0.12461, -0.13458, -0.04985, -0.09471, -0.24923, -0.17446, -0.11963, -0.07477, 0.05982, 0.25920, 0.27914, 0.14455, 0.05483, 0.11963, 0.07975, -0.01994, -0.03489, -0.03988, 0.15951, -0.08474, -0.14455, -0.07975, -0.03489, 0.02991, 0.15452, 0.36388, 0.35391, 0.20437, 0.10966, 0.16449, 0.17945, 0.04486, 0.04486, 0.05982, 0.42618, -0.21434, 0.00997, 0.02991, 0.05982, 0.13458, 0.25920, 0.42120, 0.39378, 0.21434, 0.16449, 0.22929, 0.19938, 0.08972, 0.05483, 0.07477, 0.39877, -0.20935, 0.00498, 0.07975, 0.09471, 0.13957, 0.30406, 0.43117, 0.42618, 0.23926, 0.20437, 0.25421, 0.19440, 0.07975, 0.07477, 0.04486, 0.50594, -0.41621, -0.00997, -0.00498, 0.00997, 0.05483, 0.19440, 0.35889, 0.32400, 0.19938, 0.13458, 0.21434, 0.13957, 0.04486, 0.04486, 0.04486, 0.58071, -0.39378, -0.01495, -0.00498, 0.04985, 0.11963, 0.30406, 0.46108, 0.37883, 0.18443, 0.15452, 0.19938, 0.18443, 0.12461, 0.11963, 0.11465, 0.77511, -0.33397, 0.08972, 0.08972, 0.10966, 0.15452, 0.32898, 0.44612, 0.35391, 0.19938, 0.20437, 0.21434, 0.18941, -0.01994, 0.00997, -0.01994, 0.66046, -0.44114, -0.02991, 0.00498, 0.03489, 0.07477, 0.24425, 0.37384, 0.30406, 0.15452, 0.20437, 0.20935, 0.11465, 0.02492, 0.02492, 0.01495, 0.81498, -0.29409, -0.00997, -0.00498, 0.00000, 0.08972, 0.23926, 0.37883, 0.21932, 0.09969, 0.11963, 0.09471, 0.00997, -0.05483, -0.09969, -0.09471, 0.69535, -0.30905, -0.09471, -0.08972, -0.05982, 0.05483, 0.21932, 0.32898, 0.18941, 0.00997, 0.04486, 0.13957, -0.18443, -0.22929, -0.19938, -0.22431, 0.49597, -0.41621, -0.25421, -0.21932, -0.22431, -0.05982, 0.11465, 0.18443, 0.03988, -0.08972, -0.05982, -0.08474, -0.18443, -0.24425, -0.24425, -0.27415, 0.51591, -0.49098, -0.27415, -0.24923, -0.22431, -0.13458, 0.01495, 0.10468, 0.00000, -0.13957, -0.07975, -0.08972, -0.19938, -0.25920, -0.25421, -0.30406, 0.43117, -0.46108, -0.27914, -0.25920, -0.21434, -0.13458, 0.03988, 0.09969, -0.05483, -0.17446, -0.10966, -0.14455, -0.29409, -0.32898, -0.33397, -0.34892, 0.16449, -0.52588, -0.33397, -0.32400, -0.27415, -0.18443, 0.01994, 0.10966, -0.04985, -0.19440, -0.13458, -0.13458, -0.22431, -0.27415, -0.27914, -0.24923, 0.11963, -0.39378, -0.26917, -0.21434, -0.18941, -0.05483, 0.11963, 0.13458, -0.02492, -0.11465, -0.06978, -0.07477, -0.22431, -0.26917, -0.27415, -0.28911, 0.05982, -0.43117, -0.30905, -0.31901, -0.25920, -0.17446, 0.04486, 0.06480, -0.06480, -0.16948, -0.10468, -0.11465, -0.23926, -0.28412, -0.27914, -0.25421, -0.13957, -0.39877, -0.30905, -0.29409, -0.24425, -0.14455, 0.02492, 0.05982, -0.09969, -0.20437, -0.12960, -0.14954, -0.23926, -0.30406, -0.27914, -0.09471, -0.20935, -0.32400, -0.26418, -0.22431, -0.16449, -0.02991, 0.14954, 0.14455, -0.01994, -0.06480, -0.01994, -0.05483, -0.20935, -0.22929, -0.23926, -0.05982, -0.35391, -0.31403, -0.25421, -0.23428, -0.17446, -0.05982, 0.08972, 0.10468, -0.04486, -0.11465, -0.05483, -0.09969, -0.21932, -0.23926, -0.18941, 0.11465, -0.50095, -0.26917, -0.23926, -0.20437, -0.13957, -0.03489, 0.11465, 0.09969, -0.06978, -0.12960, -0.09471, -0.13957, -0.26418, -0.26418, -0.29908, 0.13458, -0.66544, -0.33895, -0.27415, -0.25920, -0.15452, 0.01495, 0.13957, 0.11465, -0.03988, -0.08972, -0.03988, -0.06480, -0.13957, -0.17446, -0.17945, 0.32400, -0.61560, -0.19440, -0.15951, -0.12960, -0.08474, 0.07477, 0.22929, 0.16948, 0.00000, -0.04486, 0.00997, -0.03988, -0.13957, -0.16948, -0.16449, 0.30406, -0.66046, -0.20437, -0.19938, -0.18443, -0.11465, 0.01994, 0.17945, 0.14954, -0.00997, -0.02991, 0.00498, -0.04486, -0.13957, -0.14954, -0.14455, 0.41621, -0.67043, -0.21932, -0.19440, -0.17446, -0.09969, 0.03988, 0.17945, 0.13957, -0.05982, -0.05982, -0.05982, -0.10966, -0.20935, -0.19938, -0.21434, 0.45111, -0.65049, -0.21434, -0.20437, -0.17446, -0.08474, 0.09471, 0.21932, 0.10966, -0.03489, -0.02991, -0.00498, -0.04486, -0.12461, -0.13458, -0.14455, 0.65049, -0.53584, -0.21434, -0.15951, -0.14455, -0.05982, 0.09969, 0.18941, 0.11963, -0.02991, 0.00000, -0.00997, -0.09471, -0.17446, -0.19440, -0.19938, 0.64052, -0.54581, -0.18941, -0.17446, -0.17945, -0.09969, 0.05982, 0.17446, 0.09471, -0.04985, 0.00000, -0.00498, -0.07975, -0.12960, -0.12960, -0.11963, 0.77012, -0.32400, -0.08972, -0.06480, 0.00498, 0.07975, 0.25421, 0.33397, 0.19440, 0.04486, 0.06978, 0.05982, -0.01495, -0.04985, -0.05982, -0.10468, 0.80501, -0.29908, -0.08972, -0.07477, -0.04486, 0.05483, 0.23926, 0.33895, 0.20437, 0.05982, 0.08972, 0.07477, 0.00000, -0.06480, -0.05982, -0.11465, 0.77511, -0.33397, -0.07477, -0.08972, -0.02991, 0.02492, 0.22929, 0.28412, 0.17945, 0.04486, 0.09969, 0.11963, 0.01495, -0.06978, -0.10468, -0.08972, 0.71529, -0.27914, -0.07477, -0.07975, -0.03988, 0.03489, 0.21932, 0.28911, 0.15951, 0.01994, 0.10468, 0.09969, -0.03988, -0.10468, -0.11963, -0.13957, 0.43615, -0.29409, -0.16449, -0.13957, -0.09969, 0.00498, 0.20437, 0.26418, 0.10966, -0.00498, 0.05982, 0.06480, -0.08972, -0.10468, -0.09969, -0.09471, 0.33397, -0.25920, -0.11465, -0.08972, -0.04486, 0.09471, 0.26917, 0.33397, 0.17446, 0.06978, 0.13458, 0.12461, 0.00498, -0.03988, -0.02492, -0.02991, 0.20437, -0.17945, -0.06480, -0.05982, -0.00498, 0.10966, 0.26418, 0.30406, 0.13957, 0.03489, 0.11465, 0.08474, -0.04985, -0.07975, -0.08972, -0.06480, 0.07975, -0.20437, -0.10966, -0.08474, -0.02991, 0.07477, 0.25421, 0.28412, 0.13458, 0.04486, 0.13458, 0.07477, -0.05483, -0.08474, -0.08474, 0.01994, -0.03988, -0.16948, -0.07975, -0.06978, -0.06480, 0.04985, 0.23428, 0.26418, 0.10468, 0.04985, 0.10966, 0.09969, 0.00997, 0.04486, 0.11465, 0.36388, 0.26917, 0.25421, 0.45111, 0.61061, 0.73523, 0.73523, 0.63055, 0.44612, -0.05483, -0.29908, -0.24923, -0.15452, -0.13458, -0.10468, -0.08972, 0.12960, -0.19440, -0.17945, -0.10468, -0.09471, -0.05483, 0.05483, 0.17945, 0.15452, 0.07477, 0.44114, 0.58071, 0.47603, 0.31901, 0.28412, 0.33397, 0.47603, 0.22929, 0.30406, 0.37384, 0.40624, 0.44612, 0.72027, 0.81000, 0.72526, 0.52089, 0.48101, 0.60563, 0.64551, 0.58569, 0.47104, 0.54581, 0.72027, 0.30406, 0.30406, 0.31901, 0.27914, 0.26418, 0.32400, 0.44114, 0.38381, 0.15452, -0.09471, -0.15452, -0.37384, -0.91467, -1.05923, -1.06421, -0.59068, -1.25113, -0.99443, -0.92464, -0.98446, -1.05424, -1.14895, -1.10409, -1.10907, -1.12403, -0.93960, -0.74021, -0.91467, -1.39070, -1.62498, -1.23120, -0.53086, -1.10907, -0.72526, -0.69535, -0.62058, -0.54581, -0.37384, -0.25421, -0.23926, -0.31403, -0.29409, -0.19938, -0.21434, -0.33397, -0.31403, -0.31403, 0.15951, -0.77012, -0.30905, -0.26917, -0.26418, -0.23926, -0.11465, 0.05483, 0.03988, -0.14455, -0.12960, -0.08972, -0.10966, -0.21932, -0.25421, -0.23926, 0.20437, -0.69037, -0.31901, -0.27914, -0.23926, -0.17446, -0.01994, 0.12461, 0.07975, -0.04985, -0.06480, -0.02492, -0.06978, -0.15452, -0.10966, -0.09471, 0.51591, -0.51591, -0.16449, -0.03489, 0.03489, 0.06480, 0.24923, 0.32400, 0.25421, 0.06978, 0.07477, 0.08972, 0.03489, -0.08972, -0.10966, -0.09969, 0.47104, -0.50594, -0.07477, -0.06480, -0.02492, 0.02991, 0.18941, 0.30905, 0.24425, 0.10966, 0.10966, 0.13957, 0.06480, -0.03988, -0.05982, -0.07477, 0.53086, -0.49597, -0.07975, -0.09969, -0.07477, -0.03489, 0.15452, 0.26418, 0.13957, 0.00997, 0.00498, 0.00498, -0.03988, -0.14954, -0.11465, -0.07975, 0.61560, -0.45111, -0.04985, 0.00498, 0.00498, 0.08474, 0.26917, 0.37384, 0.26917, 0.12461, 0.11963, 0.13458, 0.06978, 0.00000, -0.01495, -0.02991, 0.79006, -0.35391, 0.00997, 0.01994, 0.03489, 0.11465, 0.25421, 0.34394, 0.25421, 0.12960, 0.10966, 0.15951, 0.03988, -0.03489, -0.03988, -0.07975, 0.64551, -0.48600, -0.14455, -0.13458, 0.01994, 0.17945, 0.30406, 0.36388, 0.26418, 0.15951, 0.07477, 0.13458, 0.18941, 0.23926, 0.35889, 0.43117, 1.07418, 0.01994, 0.33397, 0.41123, 0.58071, 0.62058, 0.66544, 0.66544, 0.52089, 0.24425, 0.17446, 0.15452, 0.01994, -0.05483, -0.12461, -0.21434, 0.62557, -0.51591, -0.24923, -0.29409, -0.32898, -0.33397, -0.18443, -0.04985, -0.11963, -0.27415, -0.25920, -0.24425, -0.30905, -0.33895, -0.22431, -0.18443, 0.57074, -0.53086, -0.19440, -0.18941, -0.23926, -0.23926, -0.03489, 0.00997, -0.17446, -0.45609, -0.57572, -0.76514, -1.04427, -1.36578, -1.62996, -1.90910, -1.35083, -2.68421, -2.56458, -2.72408, -2.88608, -3.00073, -3.00571, -3.06553, -3.28984, -3.51414, -3.53408, -3.62879, -3.81073, -3.94531, -4.02506, -4.10482, -3.34467, -4.56091, -4.36900, -4.49112, -4.56091, -4.60079, -4.56589, -4.56589, -4.71543, -4.85500, -4.74534, -4.66060, -4.66559, -4.65562, -4.56589, -4.47617, -3.50916, -4.41386, -4.20949, -4.17460, -4.24439, -4.10482, -3.66617, -3.32971, -3.09544, -2.84621, -2.54464, -2.45492, -2.44495, -2.43498, -2.38015, -2.37018, -1.42560, -2.43498, -2.18076, -2.10599, -2.04618, -1.88418, -1.62498, -1.48043, -1.55520, -1.68978, -1.60006, -1.63495, -1.71470, -1.69476, -1.64492, -1.62498, -0.72027, -1.68978, -1.43058, -1.38073, -1.32092, -1.17886, -0.97947, -0.84987, -0.91467, -0.98446, -0.87978, -0.84489, -0.88975, -0.90470, -0.82994, -0.83492, -0.06480, -0.95455, -0.73523, -0.68538, -0.63554, -0.52588, -0.30905, -0.23428, -0.27415, -0.40624, -0.52089, -0.39378, -0.51591, -0.47603, -0.52089, -0.46108, 0.34892, -0.70034, -0.58071, -0.36886, -0.40624, -0.38381, 0.02492, 0.02991, -0.05982, -0.07477, 0.09471, 0.28412, -0.06978, -0.07975, 0.01994, 0.07975, 0.50095, 0.01994, -0.11465, -0.48101, 0.09969, 0.12960, 0.55578, 0.19938, 0.26917, -0.00498, -0.04486, -0.04486, -0.04985, 0.06480, 0.07477, -0.20935, 1.20877, 0.08972, 0.11963, 0.01495, 0.06978, 0.09471, 0.09969, 0.45609, 0.27914, -0.28911, 0.33895, -0.05483, -0.06978, 0.00498, 0.24425, -0.12960, 0.81997, -0.02492, 0.12461, 0.15951, 0.23428, 0.40624, 0.38880, 0.41123, 0.55578, 0.07477, 0.41621, 0.28412, 0.23428, 0.41621, -0.04985, 0.26917, 0.80003, -0.14954, 0.05982, 0.17945, 0.16449, 0.69535, 0.58071, 0.62557, 0.30406, 0.21434, 0.47603, 0.40624, -0.05982, 0.40624, 0.15452, 0.13458, 0.64551, 0.10468, 0.50095, 0.63055, 0.43117, 0.64052, 0.64052, 0.74021, 0.80003, 0.33397, 0.67043, 0.73024, 0.61061, 0.32898, 0.34394, 0.17945, 1.07917, -0.02492, 0.54083, 0.38381, 0.33895, 0.26917, 0.75517, 0.85984, 0.71031, 0.36886, 0.75517, 0.35391, 0.37384, 0.17446, 0.30406, 0.30406, 0.89474, -0.20437, 0.32898, 0.19440, 0.17446, 0.19938, 0.41123, 0.37883, 0.46606, 0.09969, 0.20437, 0.31901, 0.45111, 0.15951, 0.15452, 0.17945, 0.81000, 0.05483, 0.24923, 0.05483, 0.32400, 0.44114, 0.80501, 0.66046, 0.54581, 0.37384, 0.50095, 0.47104, 0.42618, 0.28412, 0.19938, 0.40624, 0.82994, 0.23926, 0.33397, 0.27914, 0.28911, 0.41621, 0.66046, 0.88975, 0.57074, 0.41123, 0.53086, 0.52089, 0.44114, 0.39877, 0.32898, 0.33895, 0.65547, 0.04486, 0.43117, 0.25920, 0.32898, 0.36886, 0.44114, 0.58569, 0.47603, 0.39378, 0.48101, 0.42618, 0.34394, 0.30406, 0.31403, 0.39877, 0.65049, 0.13957, 0.36886, 0.30905, 0.38880, 0.53584, 0.64052, 0.68538, 0.67541, 0.73523, 0.53584, 0.58071, 0.73024, 0.63055, 0.56575, 0.62557, 0.59566, 0.51591, 0.64052, 0.49597, 0.67043, 0.75018, 1.05424, 1.11406, 0.63554, 0.63055, 0.69535, 0.60563, 0.54083, 0.48101, 0.35889, 0.51591, 1.18883, 0.94957, 1.37575, 1.61501, 1.94399, 2.63935, 3.38953, 4.09983, 4.54097, 4.59082, 4.43879, 4.17959, 3.71602, 3.36959, 3.18516, 3.00571, 3.37457, 2.44495, 2.61941, 2.56956, 2.45990, 2.48482, 2.67922, 2.65430, 2.53467, 2.20569, 2.13092, 2.05116, 2.03621, 1.94898, 1.89415, 1.85427, 2.44993, 1.45052, 1.52529, 1.57015, 1.61999, 1.79446, 1.97889, 1.91409, 1.80443, 1.59009, 1.67483, 1.57015, 1.50535, 1.44055, 1.45550, 1.39569, 2.39510, 1.10907, 1.26609, 1.35581, 1.36080, 1.45052, 1.56018, 1.55520, 1.42560, 1.36578, 1.35083, 1.33089, 1.27107, 1.07418, 1.16390, 0.93960, 2.09602, 0.71031, 0.99443, 1.11904, 1.19381, 1.38073, 1.52529, 1.63993, 1.47046, 1.30597, 1.28104, 1.27107, 1.20378, 1.18384, 1.17387, 1.08415, 2.16581, 0.84987, 1.04427, 1.15892, 1.23618, 1.24615, 1.35581, 1.45052, 1.28603, 1.09910, 1.11406, 1.13898, 1.01935, 0.94957, 0.97449, 0.82495, 1.97889, 0.58071, 1.00938, 0.98944, 1.00440, 1.06920, 1.24615, 1.31593, 1.27606, 1.09412, 1.18384, 1.19381, 1.06421, 1.07418, 0.98446, 0.95455, 2.00879, 0.49597, 0.93461, 1.11904, 1.09910, 1.19880, 1.37076, 1.34086, 1.27107, 0.98944, 1.12901, 1.04926, 0.91966, 0.86981, 0.84489, 0.79006, 1.96393, 0.43615, 0.90470, 0.82495, 0.87978, 0.95455, 1.18883, 1.28104, 1.14397, 0.96950, 0.94957, 0.95455, 0.76015, 0.80003, 0.79504, 0.81498, 1.77950, 0.49597, 0.88975, 0.79504, 0.97449, 0.95455, 1.18883, 1.36080, 1.13898, 1.02434, 1.06421, 1.05923, 1.00938, 0.84489, 0.88477, 0.91966, 2.17079, 0.61560, 0.90969, 0.84489, 0.94957, 0.97449, 1.08415, 1.14895, 1.00938, 0.85486, 0.85486, 0.80003, 0.63554, 0.54581, 0.53584, 0.48600, 1.43058, 0.15951, 0.38880, 0.39877, 0.43117, 0.51591, 0.67541, 0.73523, 0.60563, 0.39877, 0.42618, 0.35391, 0.24923, 0.14954, 0.08972, 0.04985, 0.89474, -0.26917, -0.00498, 0.00000, 0.02492, 0.07975, 0.19440, 0.25421, 0.10966, -0.00498, 0.02492, 0.03489, -0.09969, -0.13957, -0.18443, -0.20935, 0.64052, -0.42618, -0.28412, -0.28911, -0.28911, -0.18443, 0.00997, -0.01495, -0.11963, -0.12461, -0.10966, -0.03489, -0.13957, -0.19440, -0.22431, -0.32898, 0.55578, -0.51591, -0.35889, -0.34892, -0.32400, -0.23926, -0.07477, -0.00498, -0.13957, -0.26418, -0.20935, -0.21434, -0.34892, -0.38880, -0.38880, -0.41123, 0.47603, -0.62058, -0.43117, -0.41123, -0.38880, -0.30406, -0.11963, -0.04486, -0.20437, -0.31901, -0.30905, -0.37384, -0.43615, -0.49098, -0.49597, -0.53086, 0.35391, -0.78507, -0.60064, -0.56575, -0.50095, -0.38880, -0.16449, -0.12461, -0.26418, -0.40624, -0.35889, -0.37883, -0.43117, -0.49098, -0.47104, -0.49597, 0.45111, -0.68040, -0.47603, -0.46606, -0.46606, -0.34892, -0.18443, -0.05982, -0.19440, -0.32400, -0.30406, -0.30905, -0.34892, -0.49098, -0.50095, -0.52089, 0.38381, -0.85486, -0.54083, -0.49597, -0.50095, -0.43615, -0.25920, -0.15452, -0.26917, -0.39877, -0.39378, -0.42120, -0.51591, -0.61061, -0.64052, -0.60064, 0.19440, -0.96950, -0.68538, -0.63554, -0.60563, -0.51591, -0.30406, -0.23428, -0.31901, -0.51092, -0.51092, -0.51591, -0.57074, -0.65049, -0.62557, -0.65049, 0.23428, -0.94957, -0.70034, -0.65049, -0.61560, -0.48600, -0.28911, -0.16948, -0.32400, -0.51092, -0.49098, -0.49098, -0.53086, -0.60563, -0.64052, -0.66544, 0.22929, -1.06920, -0.68040, -0.65049, -0.64052, -0.57572, -0.39877, -0.28911, -0.38880, -0.55080, -0.53086, -0.51591, -0.57572, -0.68040, -0.70034, -0.72526, 0.12461, -1.10907, -0.72526, -0.67541, -0.65547, -0.59566, -0.42618, -0.31901, -0.39378, -0.57572, -0.60064, -0.61061, -0.69037, -0.77511, -0.78009, -0.77511, -0.00997, -1.14397, -0.74520, -0.74021, -0.71031, -0.63055, -0.43117, -0.27914, -0.44114, -0.59068, -0.61061, -0.58071, -0.59068, -0.69037, -0.64052, -0.68040, 0.20437, -0.99443, -0.65547, -0.61061, -0.57572, -0.49597, -0.30406, -0.16948, -0.32400, -0.49597, -0.52588, -0.49597, -0.54083, -0.67043, -0.67541, -0.71529, -0.01994, -1.21624, -0.74021, -0.71529, -0.67043, -0.59566, -0.43117, -0.29409, -0.33397, -0.50594, -0.51092, -0.50095, -0.52089, -0.64052, -0.65049, -0.64551, -0.09471, -1.11904, -0.72027, -0.69535, -0.66544, -0.54581, -0.43615, -0.24923, -0.33895, -0.48600, -0.52588, -0.50594, -0.51092, -0.63554, -0.63055, -0.64551, 0.02492, -1.01437, -0.68040, -0.65049, -0.62557, -0.53086, -0.34892, -0.19938, -0.28911, -0.43615, -0.50594, -0.44612, -0.49098, -0.56077, -0.58071, -0.60563, 0.02492, -1.04427, -0.61061, -0.59068, -0.56575, -0.50095, -0.31901, -0.18941, -0.21434, -0.38381, -0.44612, -0.39378, -0.38880, -0.52089, -0.55080, -0.54581, -0.03988, -1.05923, -0.59068, -0.55578, -0.52588, -0.43615, -0.31403, -0.16948, -0.23926, -0.41123, -0.46108, -0.42120, -0.46606, -0.59566, -0.59068, -0.62058, -0.09471, -1.00938, -0.65547, -0.61061, -0.57074, -0.51591, -0.34892, -0.20935, -0.22929, -0.42120, -0.47603, -0.43615, -0.46606, -0.54083, -0.54083, -0.57074, -0.00997, -0.98944, -0.63554, -0.59566, -0.57572, -0.50095, -0.30905, -0.16948, -0.21434, -0.37384, -0.42618, -0.35889, -0.38880, -0.51092, -0.53584, -0.51591, -0.07975, -0.93960, -0.57572, -0.53086, -0.49597, -0.45609, -0.29908, -0.15452, -0.16449, -0.30406, -0.38381, -0.32400, -0.35391, -0.46606, -0.46606, -0.45609, -0.01495, -0.83991, -0.50095, -0.46606, -0.44612, -0.38381, -0.24923, -0.09471, -0.13957, -0.30905, -0.37883, -0.30406, -0.31403, -0.46108, -0.48600, -0.48101, -0.07975, -0.80003, -0.55578, -0.49597, -0.45609, -0.39378, -0.24425, -0.06480, -0.09471, -0.25920, -0.30406, -0.23926, -0.25920, -0.39877, -0.39378, -0.45111, 0.02991, -0.67043, -0.47603, -0.40624, -0.41123, -0.29908, -0.14954, 0.00997, -0.03489, -0.17446, -0.23428, -0.17446, -0.23428, -0.31901, -0.32400, -0.32400, -0.03988, -0.59566, -0.38880, -0.33397, -0.32898, -0.25421, -0.11963, 0.03988, 0.01994, -0.14455, -0.20935, -0.14455, -0.16449, -0.27914, -0.28911, -0.28911, 0.01994, -0.47104, -0.32898, -0.28911, -0.23428, -0.19440, -0.05982, 0.08972, 0.09969, -0.08972, -0.16449, -0.08972, -0.17446, -0.26418, -0.30406, -0.33895, -0.03988, -0.64052, -0.43615, -0.40624, -0.35889, -0.35391, -0.19440, -0.02492, -0.02991, -0.18941, -0.22431, -0.16948, -0.16449, -0.30406, -0.33895, -0.31403, 0.13458, -0.56077, -0.39877, -0.33397, -0.27415, -0.24425, -0.07975, 0.08474, 0.02991, -0.11963, -0.15452, -0.08972, -0.10468, -0.22431, -0.23428, -0.22431, 0.15452, -0.53584, -0.27914, -0.22929, -0.21434, -0.14954, -0.00997, 0.14954, 0.12960, -0.03489, -0.09969, -0.01495, -0.06978, -0.17446, -0.20437, -0.18941, 0.14954, -0.48101, -0.23926, -0.18443, -0.15951, -0.08474, 0.04985, 0.20935, 0.19440, 0.02991, -0.05982, 0.00997, -0.04486, -0.16449, -0.17945, -0.22431, 0.09969, -0.53584, -0.32898, -0.27415, -0.26917, -0.22431, -0.05483, 0.10966, 0.07975, -0.10966, -0.16948, -0.10966, -0.12461, -0.23926, -0.27415, -0.25920, 0.15951, -0.52588, -0.30905, -0.25421, -0.22929, -0.15951, -0.01994, 0.14954, 0.13458, -0.02492, -0.06480, 0.01495, -0.03988, -0.13957, -0.17945, -0.17945, 0.12960, -0.48101, -0.24923, -0.21434, -0.19440, -0.16449, -0.02492, 0.14954, 0.13957, -0.01994, -0.09471, -0.01495, -0.06480, -0.17945, -0.18941, -0.17446, 0.17446, -0.47104, -0.22431, -0.15951, -0.14455, -0.08972, 0.04486, 0.17446, 0.16948, -0.00498, -0.08474, -0.02991, -0.06978, -0.20935, -0.22929, -0.22929, 0.10966, -0.47104, -0.31901, -0.25920, -0.21434, -0.16948, -0.02991, 0.09471, 0.07477, -0.07975, -0.12960, -0.08474, -0.10468, -0.19938, -0.19938, -0.18443, 0.18941, -0.49098, -0.25920, -0.19440, -0.15452, -0.07975, 0.06978, 0.22929, 0.21932, 0.06480, -0.00997, 0.06480, 0.01994, -0.10468, -0.12960, -0.13957, 0.08972, -0.34892, -0.24425, -0.17446, -0.14954, -0.10966, 0.00997, 0.17945, 0.18443, 0.03489, -0.03489, 0.02991, 0.00000, -0.11465, -0.12461, -0.10966, 0.13458, -0.25421, -0.16948, -0.11963, -0.09471, -0.05982, 0.06978, 0.23926, 0.26418, 0.06480, -0.02492, 0.02991, -0.01994, -0.13957, -0.17446, -0.16948, 0.06480, -0.32400, -0.29908, -0.24425, -0.21434, -0.14455, -0.01495, 0.18443, 0.17945, -0.01495, -0.08474, -0.01495, -0.04985, -0.14455, -0.16449, -0.17945, 0.09969, -0.29409, -0.27415, -0.21434, -0.21932, -0.12960, -0.00498, 0.16449, 0.26418, 0.10468, 0.00498, 0.07477, 0.03489, -0.08474, -0.11465, -0.07975, 0.05982, -0.24923, -0.24425, -0.15951, -0.12960, -0.06480, 0.04985, 0.21932, 0.21434, 0.05483, -0.00997, 0.09969, 0.03489, -0.08972, -0.10966, -0.09969, 0.13458, -0.19440, -0.15452, -0.10966, -0.08972, -0.06480, 0.07477, 0.22431, 0.22929, 0.03988, -0.04985, 0.00498, -0.04486, -0.13458, -0.17945, -0.18941, 0.10468, -0.20437, -0.27914, -0.20437, -0.19440, -0.19440, 0.03489, 0.20935, 0.22431, 0.00997, -0.05982, 0.02492, -0.00997, -0.09471, -0.08972, -0.08972, 0.16449, -0.31403, -0.20935, -0.16449, -0.13957, -0.07975, 0.04486, 0.21932, 0.20437, 0.01495, -0.03489, 0.03988, -0.00498, -0.13458, -0.15951, -0.14455, 0.15951, -0.39877, -0.22431, -0.13458, -0.12960, -0.09471, 0.03988, 0.22431, 0.21932, 0.07477, -0.00498, 0.05982, 0.01495, -0.12461, -0.14954, -0.14954, 0.18443, -0.42618, -0.26917, -0.19938, -0.24923, -0.17945, -0.03988, 0.10966, 0.10468, -0.07477, -0.14455, -0.09969, -0.11465, -0.24923, -0.24425, -0.23926, 0.13458, -0.44114, -0.34394, -0.26917, -0.22431, -0.14954, -0.02492, 0.12960, 0.10468, -0.07477, -0.12461, -0.05483, -0.06978, -0.18443, -0.17446, -0.17446, 0.17446, -0.45111, -0.23926, -0.17446, -0.15951, -0.11465, 0.01994, 0.17446, 0.15452, 0.00000, -0.06978, 0.00000, -0.04486, -0.17945, -0.20935, -0.18443, 0.13458, -0.48101, -0.26418, -0.20935, -0.18941, -0.13458, 0.00997, 0.16948, 0.17945, 0.00997, -0.02991, 0.01495, -0.00498, -0.16449, -0.18941, -0.18941, 0.13957, -0.47104, -0.29409, -0.24923, -0.19938, -0.15951, -0.00498, 0.15452, 0.14455, -0.04985, -0.07477, -0.03988, -0.10966, -0.22431, -0.21932, -0.20437, 0.24425, -0.51092, -0.29908, -0.24425, -0.20935, -0.15452, 0.00000, 0.14954, 0.10966, -0.05982, -0.13458, -0.04486, -0.06978, -0.18941, -0.19440, -0.18941, 0.15452, -0.53584, -0.28412, -0.24425, -0.23428, -0.16449, 0.00997, 0.12461, 0.12461, -0.01994, -0.10468, -0.04486, -0.06978, -0.19440, -0.20935, -0.18941, 0.17446, -0.54581, -0.24923, -0.20935, -0.18443, -0.10468, 0.02492, 0.18941, 0.15951, 0.01495, -0.03988, 0.01994, -0.04985, -0.12960, -0.19938, -0.20437, 0.23428, -0.67043, -0.28911, -0.27914, -0.25421, -0.17446, -0.05483, 0.10966, 0.05982, -0.09969, -0.12960, -0.10468, -0.13458, -0.23428, -0.23926, -0.24425, 0.31403, -0.58071, -0.29409, -0.25421, -0.24425, -0.15452, 0.00498, 0.15951, 0.10468, -0.05483, -0.10468, -0.06978, -0.08972, -0.18443, -0.18443, -0.14954, 0.38381, -0.62557, -0.18941, -0.17446, -0.15951, -0.08972, 0.04985, 0.18941, 0.15452, -0.02991, -0.05982, -0.00997, -0.05982, -0.15452, -0.17945, -0.16948, 0.30905, -0.68538, -0.23428, -0.20437, -0.15951, -0.09471, 0.05982, 0.20935, 0.17945, 0.03988, 0.02492, 0.05982, -0.00997, -0.11465, -0.16948, -0.17446, 0.33397, -0.71529, -0.23428, -0.24425, -0.23428, -0.19440, -0.03489, 0.10468, 0.04985, -0.09471, -0.14455, -0.10966, -0.19440, -0.24425, -0.24425, -0.26917, 0.36886, -0.66046, -0.28412, -0.22929, -0.19938, -0.14455, 0.02492, 0.17945, 0.12461, -0.03489, -0.04985, -0.01495, -0.04486, -0.15951, -0.15452, -0.15951, 0.45111, -0.66046, -0.22431, -0.21434, -0.20437, -0.13957, 0.00000, 0.12960, 0.07975, -0.07975, -0.08474, -0.05483, -0.11465, -0.22431, -0.23428, -0.23428, 0.37384, -0.74520, -0.26917, -0.24923, -0.20437, -0.16449, 0.01994, 0.12461, 0.06978, -0.11465, -0.11465, -0.09471, -0.15452, -0.23926, -0.22929, -0.25421, 0.41621, -0.66046, -0.31901, -0.27914, -0.24425, -0.18443, -0.03988, 0.08972, 0.00000, -0.14954, -0.15452, -0.13957, -0.17446, -0.26917, -0.26418, -0.26917, 0.47603, -0.67043, -0.27415, -0.24923, -0.22431, -0.15951, 0.00997, 0.16449, 0.08972, -0.07477, -0.08474, -0.03988, -0.08972, -0.18443, -0.19440, -0.18443, 0.43117, -0.68538, -0.22431, -0.20437, -0.17446, -0.10966, 0.04985, 0.16449, 0.12461, -0.02492, -0.04985, -0.00997, -0.06480, -0.15452, -0.16449, -0.16948, 0.41123, -0.69535, -0.23926, -0.21932, -0.19938, -0.13957, -0.00498, 0.11963, 0.08474, -0.08972, -0.12461, -0.09471, -0.13458, -0.25920, -0.28412, -0.27415, 0.36886, -0.67541, -0.27914, -0.26418, -0.24923, -0.15452, -0.00997, 0.10468, 0.03489, -0.13957, -0.14954, -0.12461, -0.15452, -0.23926, -0.24923, -0.25920, 0.42618, -0.65049, -0.26418, -0.24425, -0.22431, -0.14455, 0.01994, 0.16449, 0.09471, -0.05982, -0.08972, -0.04985, -0.09471, -0.19938, -0.21932, -0.21932, 0.34892, -0.70034, -0.23926, -0.20935, -0.20437, -0.11963, 0.03988, 0.16948, 0.13458, -0.02492, -0.04486, 0.00997, -0.04486, -0.13458, -0.15951, -0.15951, 0.39877, -0.66544, -0.19938, -0.18941, -0.13957, -0.09471, 0.06480, 0.17446, 0.13957, -0.02492, -0.05483, -0.03988, -0.08474, -0.20437, -0.22431, -0.23428, 0.28911, -0.67541, -0.26917, -0.22929, -0.20437, -0.13458, 0.03489, 0.17446, 0.09969, -0.04985, -0.07477, -0.04985, -0.08972, -0.16948, -0.18443, -0.18443, 0.38381, -0.61560, -0.22431, -0.17446, -0.13458, -0.07477, 0.08474, 0.22929, 0.17945, 0.02991, -0.02991, 0.02492, -0.03489, -0.14954, -0.14954, -0.12461, 0.32898, -0.59566, -0.19440, -0.14954, -0.13957, -0.07477, 0.06480, 0.20437, 0.21932, 0.05483, 0.02492, 0.07477, 0.04486, -0.05982, -0.06978, -0.03988, 0.41123, -0.47104, -0.07975, -0.05982, -0.02991, 0.02991, 0.14954, 0.32400, 0.28412, 0.11963, 0.06978, 0.11465, 0.05982, -0.06480, -0.05982, -0.06978, 0.40624, -0.60563, -0.14954, -0.12960, -0.11963, -0.06480, 0.06978, 0.22431, 0.17945, 0.03988, -0.01495, 0.06480, -0.01994, -0.12461, -0.13458, -0.14455, 0.36886, -0.47104, -0.18443, -0.14455, -0.12960, -0.04985, 0.10966, 0.23926, 0.17446, 0.00498, -0.01495, 0.00997, -0.00997, -0.11465, -0.11465, -0.10966, 0.39877, -0.53086, -0.12960, -0.11465, -0.09969, -0.01994, 0.11963, 0.25920, 0.24425, 0.05483, 0.01994, 0.05982, 0.00997, -0.08972, -0.10468, -0.08972, 0.34892, -0.54581, -0.14954, -0.11963, -0.08474, -0.01495, 0.12960, 0.28911, 0.27415, 0.10468, 0.09471, 0.12461, 0.08474, -0.02991, -0.06480, -0.05483, 0.39378, -0.54581, -0.13458, -0.07477, -0.06480, -0.01495, 0.11465, 0.25920, 0.21434, 0.03489, -0.00498, 0.02991, -0.03988, -0.16948, -0.17945, -0.20437, 0.28911, -0.64052, -0.24425, -0.19440, -0.17945, -0.11465, 0.02991, 0.18443, 0.13957, -0.02492, -0.09969, -0.01994, -0.07477, -0.18941, -0.21932, -0.20935, 0.27415, -0.54083, -0.24923, -0.21434, -0.17945, -0.12461, 0.04486, 0.19938, 0.17945, 0.00498, -0.03489, 0.01495, 0.00000, -0.11963, -0.15452, -0.12960, 0.21932, -0.51092, -0.19938, -0.16449, -0.14455, -0.08972, 0.04486, 0.20935, 0.19440, 0.04486, -0.02991, 0.05483, 0.01994, -0.09969, -0.12461, -0.09969, 0.23926, -0.41621, -0.17945, -0.13458, -0.12461, -0.07975, 0.03988, 0.18941, 0.16948, -0.01994, -0.05982, -0.01495, -0.06480, -0.16449, -0.19440, -0.17945, 0.17945, -0.43615, -0.27914, -0.17945, -0.17945, -0.14455, 0.01994, 0.16449, 0.12960, -0.02492, -0.05483, -0.01994, -0.06480, -0.18443, -0.19440, -0.17945, 0.18443, -0.46108, -0.22431, -0.18443, -0.15452, -0.08972, 0.03988, 0.20935, 0.20935, 0.03988, -0.02492, 0.05483, 0.00498, -0.08972, -0.12960, -0.11963, 0.04486, -0.25421, -0.24425, -0.16948, -0.14954, -0.09471, 0.03489, 0.19938, 0.21434, 0.05982, -0.00997, 0.05982, 0.00997, -0.09471, -0.11963, -0.10468, 0.06480, -0.21434, -0.21434, -0.16449, -0.08972, -0.07975, 0.06480, 0.20437, 0.21434, 0.01994, -0.06978, -0.03988, -0.04486, -0.18443, -0.17446, -0.17945, 0.04985, -0.14954, -0.26418, -0.19440, -0.18443, -0.13957, -0.00498, 0.17446, 0.16449, -0.00498, -0.11963, 0.00498, 0.00498, -0.08972, -0.10468, -0.11963, 0.02492, -0.08474, -0.18443, -0.11465, -0.09969, -0.02492, 0.10468, 0.27914, 0.29908, 0.14954, 0.08474, 0.12461, 0.10966, -0.03988, -0.07975, -0.06978, -0.00498, 0.10966, -0.19938, -0.11465, -0.10966, -0.03988, 0.06480, 0.23926, 0.26418, 0.10468, 0.01994, 0.09969, 0.07975, -0.05483, -0.06480, -0.07477, -0.02492, 0.04985, -0.20437, -0.12461, -0.11963, -0.07477, 0.04486, 0.19938, 0.22431, 0.04985, -0.05982, 0.00997, -0.01495, -0.13458, -0.20935, -0.19938, -0.10468, 0.00997, -0.33397, -0.20437, -0.18941, -0.17945, -0.02991, 0.13458, 0.13957, -0.02492, -0.09969, -0.05982, -0.05982, -0.17945, -0.20935, -0.23428, -0.19938, 0.05982, -0.33397, -0.23428, -0.22431, -0.16449, -0.04985, 0.11465, 0.14455, 0.01495, -0.08474, -0.03988, -0.03988, -0.16948, -0.22929, -0.20935, -0.24923, 0.24923, -0.38880, -0.24425, -0.24425, -0.19938, -0.09471, 0.08972, 0.15452, 0.02492, -0.07975, -0.00498, 0.00000, -0.14455, -0.18941, -0.18443, -0.20437, 0.30406, -0.36886, -0.23926, -0.20935, -0.16449, -0.06480, 0.09471, 0.16449, 0.00000, -0.13957, -0.06978, -0.06978, -0.20935, -0.29908, -0.28412, -0.31901, 0.27914, -0.50095, -0.34892, -0.29908, -0.26917, -0.15452, 0.00997, 0.08474, -0.06480, -0.20935, -0.13458, -0.13458, -0.22929, -0.29908, -0.29908, -0.33895, 0.39877, -0.44114, -0.33397, -0.31403, -0.26418, -0.15452, 0.02991, 0.08972, -0.05483, -0.15951, -0.11465, -0.12960, -0.22929, -0.27914, -0.28412, -0.32898, 0.63055, -0.49597, -0.31403, -0.29409, -0.26418, -0.15951, 0.00997, 0.08474, -0.00498, -0.12461, -0.09471, -0.07477, -0.15452, -0.22431, -0.22431, -0.24923, 0.67043, -0.50594, -0.25421, -0.24425, -0.21932, -0.13957, 0.02492, 0.07477, -0.00498, -0.15452, -0.14455, -0.16449, -0.23926, -0.27914, -0.27914, -0.30406, 0.55578, -0.55578, -0.30905, -0.25920, -0.24425, -0.16449, 0.01994, 0.10468, -0.01495, -0.14455, -0.10966, -0.11465, -0.14954, -0.23428, -0.24425, -0.26418, 0.65049, -0.53086, -0.25920, -0.23926, -0.22431, -0.14954, 0.03489, 0.11963, 0.02492, -0.11963, -0.10468, -0.08972, -0.17945, -0.27914, -0.27914, -0.29409, 0.52089, -0.68538, -0.29908, -0.28412, -0.25920, -0.18443, -0.01495, 0.10966, 0.03988, -0.10468, -0.09471, -0.07477, -0.14455, -0.21932, -0.25920, -0.28412, 0.45609, -0.71031, -0.33397, -0.33397, -0.30406, -0.25920, -0.07975, 0.01495, -0.07477, -0.19440, -0.18443, -0.17446, -0.22929, -0.33895, -0.33895, -0.35889, 0.42618, -0.73523, -0.37384, -0.30406, -0.28911, -0.21932, -0.04985, 0.06978, -0.03489, -0.18443, -0.16449, -0.15452, -0.18443, -0.27914, -0.28412, -0.28911, 0.47104, -0.66544, -0.27415, -0.27415, -0.20935, -0.14954, 0.00498, 0.12461, 0.06978, -0.06978, -0.11465, -0.07477, -0.14455, -0.23428, -0.24425, -0.22929, 0.29908, -0.72526, -0.27415, -0.24425, -0.22431, -0.16449, -0.01495, 0.12960, 0.11465, -0.01495, -0.05982, -0.01495, -0.06978, -0.16449, -0.17945, -0.17446, 0.33397, -0.64551, -0.25421, -0.21434, -0.21932, -0.15452, -0.04985, 0.08474, 0.05982, -0.14455, -0.15452, -0.10966, -0.13957, -0.25920, -0.30406, -0.29908, 0.17945, -0.62058, -0.32898, -0.30406, -0.26418, -0.19938, -0.03988, 0.10468, 0.01994, -0.12960, -0.12461, -0.08972, -0.09471, -0.16948, -0.17446, -0.16449, 0.27415, -0.47603, -0.18443, -0.16449, -0.14455, -0.11465, 0.04486, 0.18443, 0.15452, 0.00997, -0.03489, 0.01994, -0.04985, -0.16449, -0.18941, -0.15452, 0.25920, -0.53086, -0.18941, -0.16449, -0.13458, -0.06978, 0.08474, 0.23428, 0.23428, 0.07477, 0.00498, 0.07477, 0.03988, -0.10966, -0.12960, -0.14455, 0.17945, -0.36886, -0.25920, -0.20935, -0.17446, -0.10468, 0.03489, 0.19938, 0.15951, 0.01495, -0.01495, 0.01495, 0.00000, -0.10966, -0.11465, -0.09969, 0.24425, -0.27415, -0.20437, -0.10468, -0.08474, -0.01495, 0.14954, 0.30406, 0.30406, 0.15452, 0.08972, 0.15452, 0.12461, 0.00997, -0.02492, -0.02991, 0.07975, -0.04486, -0.12960, -0.07975, -0.05982, -0.00498, 0.11465, 0.28412, 0.33397, 0.17945, 0.11465, 0.19938, 0.18443, 0.03988, -0.00498, -0.00498, 0.08972, 0.06978, -0.11963, -0.01994, -0.00498, 0.04985, 0.13458, 0.27914, 0.27914, 0.12461, 0.00997, 0.05982, -0.01495, -0.10468, -0.14455, -0.15951, -0.03489, 0.00997, -0.32400, -0.23428, -0.19938, -0.13957, -0.01495, 0.16948, 0.18941, 0.01994, -0.04985, -0.00498, 0.00000, -0.11465, -0.11963, -0.10966, -0.06480, 0.05483, -0.18443, -0.12461, -0.11465, -0.04486, 0.07477, 0.22929, 0.24425, 0.10468, 0.00997, 0.06978, 0.03988, -0.05483, -0.14455, -0.12461, -0.13957, 0.13458, -0.27415, -0.16449, -0.15951, -0.10468, -0.00997, 0.17945, 0.21434, 0.08474, 0.00000, 0.06978, 0.08474, -0.09969, -0.14954, -0.15951, -0.12461, 0.16449, -0.34394, -0.24425, -0.22431, -0.15951, -0.07975, 0.09969, 0.15951, -0.00498, -0.06978, -0.00997, -0.04486, -0.15452, -0.19440, -0.16449, -0.14455, 0.10966, -0.34394, -0.23428, -0.21932, -0.16948, -0.04486, 0.13957, 0.16948, 0.00000, -0.09471, -0.04486, -0.02492, -0.13957, -0.18443, -0.16449, -0.17446, 0.29409, -0.32898, -0.22431, -0.19440, -0.15951, -0.03489, 0.13957, 0.20437, 0.03489, -0.05982, -0.00498, -0.01495, -0.12461, -0.17945, -0.16948, -0.23428, 0.56575, -0.35391, -0.18443, -0.16948, -0.12960, -0.04985, 0.11963, 0.18941, 0.05982, -0.07477, 0.00498, -0.02492, -0.13458, -0.20437, -0.20935, -0.25421, 0.63554, -0.41621, -0.23926, -0.21434, -0.17446, -0.09471, 0.09969, 0.20437, 0.05982, -0.06978, -0.03489, -0.02492, -0.09969, -0.16948, -0.16449, -0.17945, 0.77511, -0.26418, -0.10966, -0.10966, -0.08972, 0.03988, 0.22431, 0.28412, 0.15951, 0.02991, 0.07477, 0.09471, 0.00997, -0.06978, -0.04985, -0.11465, 0.89474, -0.29908, -0.10468, -0.08474, -0.07477, 0.02492, 0.19440, 0.28412, 0.16948, 0.06480, 0.10468, 0.08474, 0.00997, -0.08972, -0.06480, -0.10966, 0.82994, -0.29409, -0.10966, -0.09471, -0.06480, 0.00000, 0.20935, 0.25920, 0.13458, 0.02492, 0.02991, 0.00000, -0.04486, -0.17446, -0.17446, -0.17446, 0.73523, -0.43615, -0.20935, -0.14455, -0.10966, -0.01495, 0.12960, 0.20935, 0.10966, -0.03988, -0.03988, -0.04486, -0.10468, -0.18443, -0.17945, -0.18443, 0.75018, -0.44612, -0.17945, -0.14455, -0.12461, -0.02492, 0.14954, 0.25421, 0.14455, 0.01495, 0.00997, 0.01495, -0.01994, -0.11465, -0.11963, -0.13458, 0.57074, -0.58071, -0.15951, -0.12461, -0.11465, -0.03988, 0.09471, 0.22929, 0.16948, 0.02492, 0.03988, 0.05982, 0.00997, -0.09969, -0.09969, -0.12461, 0.52588, -0.58071, -0.16449, -0.12461, -0.12960, -0.05982, 0.08972, 0.23428, 0.11963, -0.03988, -0.02492, -0.06480, -0.05982, -0.16948, -0.18941, -0.16948, 0.44114, -0.61061, -0.20935, -0.21932, -0.14954, -0.06978, 0.11963, 0.20437, 0.12960, -0.03988, -0.03988, 0.00997, -0.03988, -0.07477, -0.09471, -0.08972, 0.47104, -0.53086, -0.14455, -0.14455, -0.14455, -0.06480, 0.04486, 0.09471, -0.00997, -0.18941, -0.22431, -0.16948, -0.16449, -0.29409, -0.28412, -0.33895, 0.10468, -0.64551, -0.37384, -0.29409, -0.28911, -0.24923, -0.12461, 0.06978, 0.05483, -0.15452, -0.12461, -0.11963, -0.17945, -0.29409, -0.32400, -0.32898, 0.05483, -0.65547, -0.45609, -0.43117, -0.44114, -0.38381, -0.27415, -0.13458, -0.13458, -0.26418, -0.27415, -0.21932, -0.26418, -0.35391, -0.36388, -0.36886, 0.08474, -0.68040, -0.44612, -0.35391, -0.33397, -0.33397, -0.16948, 0.02492, -0.01994, -0.13957, -0.16449, -0.08474, -0.07477, -0.23926, -0.21434, -0.21932, 0.00997, -0.27914, -0.35391, -0.28911, -0.33397, -0.29409, -0.18443, -0.09969, -0.15452, -0.42120, -0.53086, -0.49597, -0.49098, -0.57074, -0.54083, -0.48600, -0.27914, -0.48600, -0.49098, -0.39877, -0.32400, -0.26917, -0.12960, 0.08474, 0.09471, -0.07477, -0.12461, -0.04486, -0.09969, -0.22431, -0.21434, -0.22929, -0.01994, -0.31403, -0.28412, -0.24923, -0.20935, -0.17446, -0.01994, 0.15452, 0.18443, 0.01495, -0.03988, 0.00498, -0.04486, -0.16449, -0.20437, -0.24923, -0.08972, -0.22929, -0.43615, -0.17945, -0.17446, -0.11963, 0.07975, 0.33397, 0.34394, 0.11963, 0.00997, 0.20437, 0.10468, -0.03489, -0.09471, -0.09969, 0.03988, -0.34394, -0.27415, -0.24923, -0.17446, -0.13458, -0.05982, 0.00997, 0.04985, -0.06480, -0.07477, 0.00000, -0.06978, -0.21932, -0.19440, -0.30905, 0.01495, -0.20437, -0.32898, -0.39378, -0.41123, -0.24425, -0.03988, 0.14954, 0.09471, -0.08972, -0.13458, -0.00498, -0.00498, -0.06480, -0.18941, -0.20935, -0.09471, -0.26917, -0.31403, -0.25421, -0.28412, -0.22929, -0.04985, 0.26917, 0.38880, 0.19440, 0.11465, 0.19938, 0.12960, -0.05483, -0.14954, -0.15951, -0.04985, -0.11963, -0.39378, -0.42618, -0.40624, -0.33397, -0.16948, 0.04486, 0.08474, -0.02492, -0.07975, 0.00000, -0.19440, -0.40624, -0.15951, -0.12960, 0.01495, -0.01994, -0.26418, -0.20437, -0.23428, -0.20437, -0.06480, 0.10468, 0.07975, -0.11963, -0.16948, -0.05982, -0.10468, -0.19440, -0.16948, -0.11963, -0.02991, 0.03988, -0.25421, -0.22431, -0.13957, -0.05483, 0.09471, 0.25421, 0.27415, 0.13957, 0.10966, 0.22431, 0.23428, 0.18443, 0.15951, 0.17945, 0.20935, 0.34892, 0.03489, 0.14455, 0.14455, 0.17945, 0.27914, 0.44612, 0.43615, 0.30905, 0.24425, 0.28911, 0.30406, 0.15951, 0.10468, 0.10468, 0.14455, 0.44114, 0.00000, 0.10468, 0.12461, 0.19938, 0.27415, 0.55578, 0.60563, 0.43117, 0.29409, 0.28911, 0.24923, 0.18443, 0.20437, 0.22431, 0.27914, 0.61061, 0.17446, 0.28911, 0.30406, 0.34892, 0.46606, 0.62557, 0.67541, 0.53584, 0.43615, 0.49098, 0.52089, 0.39378, 0.37384, 0.39378, 0.36388, 0.73024, 0.20437, 0.30406, 0.32400, 0.38381, 0.49098, 0.66544, 0.76015, 0.60064, 0.48600, 0.53086, 0.52089, 0.38880, 0.34394, 0.33895, 0.35889, 0.78009, 0.20437, 0.32898, 0.33397, 0.35391, 0.45609, 0.60563, 0.68538, 0.50095, 0.38880, 0.47603, 0.43615, 0.30406, 0.28412, 0.28911, 0.28412, 0.73024, 0.15951, 0.26917, 0.28911, 0.33397, 0.41621, 0.53584, 0.56077, 0.44114, 0.37883, 0.46606, 0.49098, 0.40624, 0.35889, 0.34394, 0.34394, 0.93960, 0.23428, 0.33895, 0.37384, 0.37883, 0.47104, 0.65049, 0.72526, 0.56077, 0.44612, 0.50594, 0.45609, 0.38880, 0.29908, 0.29409, 0.25421, 0.94957, 0.10468, 0.25421, 0.27914, 0.31403, 0.42120, 0.58569, 0.67043, 0.52089, 0.38880, 0.44612, 0.44612, 0.32898, 0.28412, 0.31403, 0.26418, 0.86483, 0.12461, 0.27914, 0.28911, 0.34892, 0.44612, 0.64551, 0.68538, 0.54083, 0.34892, 0.33895, 0.33397, 0.21434, 0.15951, 0.15452, 0.15452, 0.74021, -0.01994, 0.15951, 0.14954, 0.25421, 0.32400, 0.50594, 0.56077, 0.43615, 0.29908, 0.35889, 0.33397, 0.22929, 0.18443, 0.19440, 0.15951, 0.83991, 0.04985, 0.17945, 0.21434, 0.24923, 0.32400, 0.50594, 0.53086, 0.42618, 0.29908, 0.32898, 0.33895, 0.25920, 0.17446, 0.17446, 0.10966, 1.05424, -0.05483, 0.11963, 0.12960, 0.15452, 0.24923, 0.44114, 0.51591, 0.43117, 0.30905, 0.35889, 0.32400, 0.19938, 0.15951, 0.15951, 0.10966, 0.95455, -0.07477, 0.07975, 0.07477, 0.11963, 0.18443, 0.37883, 0.42618, 0.31403, 0.15951, 0.19938, 0.20437, 0.09969, 0.04985, 0.04985, 0.00997, 0.87480, -0.13458, 0.02492, 0.04486, 0.06978, 0.20437, 0.36886, 0.41621, 0.27415, 0.16948, 0.19938, 0.17945, 0.09969, 0.05483, 0.07975, 0.01994, 0.99941, -0.09471, 0.05483, 0.08972, 0.11465, 0.19440, 0.35391, 0.43615, 0.32898, 0.20437, 0.23428, 0.22929, 0.11963, 0.05483, 0.07477, 0.01994, 0.94458, -0.21932, 0.01994, 0.02991, 0.08972, 0.15951, 0.32400, 0.41621, 0.31403, 0.19938, 0.26418, 0.22929, 0.13957, 0.04486, 0.04985, 0.02991, 0.92464, -0.19938, 0.02991, 0.04985, 0.06978, 0.13957, 0.31901, 0.40624, 0.30905, 0.18443, 0.23428, 0.21932, 0.14455, 0.06480, 0.03988, -0.00498, 0.88477, -0.28911, -0.02492, 0.01994, 0.04486, 0.12461, 0.28911, 0.36886, 0.27415, 0.12960, 0.17945, 0.14455, 0.08474, 0.00997, 0.00000, -0.04985, 0.85984, -0.27415, -0.06978, -0.01994, -0.02492, 0.09471, 0.26917, 0.36388, 0.24923, 0.12960, 0.13957, 0.15951, 0.07975, 0.01994, 0.00997, -0.02991, 0.95455, -0.23428, 0.01994, 0.03489, 0.06978, 0.13957, 0.29908, 0.39877, 0.28412, 0.15452, 0.17446, 0.17446, 0.11465, 0.04486, 0.01994, 0.00000, 0.84987, -0.34892, -0.00997, 0.00997, 0.02991, 0.11465, 0.27914, 0.37384, 0.30406, 0.15452, 0.18941, 0.18443, 0.10966, 0.00997, 0.00000, -0.00498, 0.78009, -0.37883, -0.03988, -0.01994, 0.02991, 0.08972, 0.23428, 0.34892, 0.26418, 0.11963, 0.15452, 0.13957, 0.02492, -0.01994, -0.04486, -0.05982, 0.68040, -0.48101, -0.10966, -0.06480, -0.05483, 0.03988, 0.18941, 0.27914, 0.21434, 0.08972, 0.07975, 0.07477, 0.01495, -0.05483, -0.05483, -0.06978, 0.78507, -0.39877, -0.09471, -0.06978, -0.03988, 0.02991, 0.22929, 0.34394, 0.22929, 0.08474, 0.09471, 0.12960, 0.06480, 0.00000, 0.00000, -0.02991, 0.80501, -0.39378, -0.05483, -0.03489, -0.00997, 0.05982, 0.20935, 0.31403, 0.25421, 0.10468, 0.10468, 0.12461, 0.07975, -0.02492, -0.03489, -0.04486, 0.66046, -0.45111, -0.05483, -0.02492, 0.00000, 0.07477, 0.20437, 0.31403, 0.23926, 0.11465, 0.11465, 0.13957, 0.06480, -0.02991, -0.03489, -0.07477, 0.60064, -0.51092, -0.08474, -0.05982, -0.03988, 0.01994, 0.13957, 0.28412, 0.20437, 0.07477, 0.06480, 0.07975, 0.00997, -0.09969, -0.13458, -0.09969, 0.54581, -0.52588, -0.13458, -0.11963, -0.07477, -0.00498, 0.13957, 0.23428, 0.20437, 0.03489, 0.03489, 0.05483, 0.00498, -0.07477, -0.05483, -0.06978, 0.60563, -0.50095, -0.09471, -0.06480, -0.03988, 0.03489, 0.19938, 0.33397, 0.25421, 0.10468, 0.10468, 0.13458, 0.10966, -0.01994, 0.00000, -0.01495, 0.47603, -0.47603, -0.05982, -0.03489, -0.01495, 0.05483, 0.22929, 0.32400, 0.31403, 0.16449, 0.12960, 0.17446, 0.09471, 0.00997, -0.00498, 0.00997, 0.43615, -0.45111, -0.04985, -0.00997, 0.00498, 0.03489, 0.18443, 0.30905, 0.27914, 0.14954, 0.08972, 0.12461, 0.12960, -0.04486, -0.05982, -0.08474, 0.36886, -0.49597, -0.14954, -0.14954, -0.11963, -0.09471, 0.05483, 0.16948, 0.10468, -0.02492, -0.08474, -0.04985, -0.08972, -0.20935, -0.25421, -0.25920, 0.20437, -0.58071, -0.34394, -0.30406, -0.27415, -0.19938, -0.02991, 0.11465, 0.08474, -0.08474, -0.16449, -0.06978, -0.09471, -0.21434, -0.23926, -0.21434, 0.12960, -0.52588, -0.27914, -0.25421, -0.21932, -0.16948, -0.03988, 0.10966, 0.08474, -0.07477, -0.12960, -0.04985, -0.10468, -0.21932, -0.25920, -0.23428, 0.03489, -0.44114, -0.32400, -0.25421, -0.23926, -0.21434, -0.09471, 0.05483, 0.06480, -0.09471, -0.13458, -0.06978, -0.10966, -0.25421, -0.27415, -0.27415, -0.05982, -0.43615, -0.41123, -0.33397, -0.32898, -0.28412, -0.16449, 0.00498, -0.00498, -0.13458, -0.20437, -0.17446, -0.17945, -0.28911, -0.31403, -0.32898, -0.06480, -0.36388, -0.39378, -0.34892, -0.33397, -0.27914, -0.13957, 0.00498, 0.05483, -0.08474, -0.15951, -0.09969, -0.12960, -0.21434, -0.25421, -0.25920, -0.12461, -0.25920, -0.34892, -0.28911, -0.21434, -0.20935, -0.08474, 0.08474, 0.09471, -0.04486, -0.13957, -0.04486, -0.07477, -0.16449, -0.20935, -0.20935, -0.13458, -0.09471, -0.28412, -0.21932, -0.18941, -0.15452, -0.05483, 0.10966, 0.17945, 0.03988, -0.03489, 0.03988, 0.01495, -0.09471, -0.17446, -0.17945, -0.13458, -0.01495, -0.32400, -0.23428, -0.19440, -0.12960, -0.06480, 0.08972, 0.11465, -0.03489, -0.07477, -0.03988, -0.01495, -0.14455, -0.22431, -0.17446, -0.08474, 0.08474, -0.24425, -0.20935, -0.21932, -0.17446, -0.04985, 0.09969, 0.14455, 0.00997, -0.05982, 0.04985, 0.05483, -0.05982, -0.07975, -0.04486, -0.07477, 0.26917, -0.19938, -0.06978, -0.06978, 0.00997, 0.11963, 0.26917, 0.32400, 0.18443, 0.06978, 0.14455, 0.12960, 0.00000, -0.02991, -0.02991, -0.09471, 0.43615, -0.21932, -0.08972, -0.07477, -0.03988, 0.02991, 0.19440, 0.23926, 0.11465, 0.02991, 0.07477, 0.04486, -0.07477, -0.12461, -0.11465, -0.13458, 0.53086, -0.26418, -0.10468, -0.04486, -0.01994, 0.05982, 0.18941, 0.24923, 0.14954, -0.00498, 0.05483, 0.02991, -0.07975, -0.16449, -0.12461, -0.15452, 0.53584, -0.30406, -0.14455, -0.12461, -0.08972, 0.01994, 0.18941, 0.25421, 0.13458, 0.04486, 0.09471, 0.07477, 0.00997, -0.03988, -0.14455, -0.07477, 0.92963, -0.19938, -0.05483, -0.02991, -0.02492, 0.02492, 0.16948, 0.27415, 0.14455, -0.00997, 0.04985, 0.06480, -0.01994, -0.09471, -0.08474, -0.09969, 0.77511, -0.37384, -0.11963, -0.06480, -0.02991, 0.04486, 0.16948, 0.27914, 0.21932, 0.06978, 0.13458, 0.08474, -0.00498, -0.05483, -0.10468, -0.11963, 0.67541, -0.44612, -0.16948, -0.13458, -0.11465, -0.03988, 0.13957, 0.28412, 0.15951, 0.06978, 0.03988, 0.05982, 0.00498, -0.09969, -0.10468, -0.09471, 0.74520, -0.43615, -0.13957, -0.12461, -0.09471, -0.00997, 0.11963, 0.25421, 0.17945, 0.04486, 0.06480, 0.06480, 0.01495, -0.04985, -0.04985, -0.05483, 0.51591, -0.56077, -0.10966, -0.10468, -0.05982, 0.02492, 0.16948, 0.30905, 0.27415, 0.12960, 0.09969, 0.13957, 0.08972, -0.00498, -0.01495, -0.02492, 0.47104, -0.47104, -0.06480, -0.03988, -0.05483, 0.00000, 0.14455, 0.26418, 0.27415, 0.12461, 0.06978, 0.12461, 0.13458, 0.00000, -0.01994, -0.01495, 0.45111, -0.33397, -0.06978, -0.02991, 0.00000, 0.08474, 0.21434, 0.38381, 0.32400, 0.16449, 0.10966, 0.19938, 0.17945, 0.04486, 0.06978, 0.06978, 0.46606, -0.22929, 0.00997, 0.04486, 0.03988, 0.14954, 0.22431, 0.39378, 0.36886, 0.25421, 0.20437, 0.25421, 0.18941, 0.07477, 0.05483, 0.06480, 0.31901, -0.13957, -0.03988, 0.01994, 0.04486, 0.08972, 0.21434, 0.38381, 0.36886, 0.19938, 0.14455, 0.21932, 0.17446, 0.02492, 0.00498, 0.00498, 0.15951, 0.02991, -0.10966, -0.01495, -0.02492, 0.02492, 0.17945, 0.34394, 0.35391, 0.17446, 0.08972, 0.16948, 0.12960, 0.01994, 0.01994, 0.02991, 0.16948, 0.18941, -0.06978, 0.00498, 0.04486, 0.10468, 0.21932, 0.41621, 0.44114, 0.30406, 0.21434, 0.27415, 0.26917, 0.13957, 0.07477, 0.09471, 0.08474, 0.49597, -0.01994, 0.09969, 0.09471, 0.13957, 0.22929, 0.40624, 0.48101, 0.34394, 0.24923, 0.32400, 0.30905, 0.18941, 0.13458, 0.13957, 0.09969, 0.71031, -0.00997, 0.11963, 0.13458, 0.17446, 0.26418, 0.43615, 0.49098, 0.36388, 0.25920, 0.30905, 0.27914, 0.13957, 0.06978, 0.07477, 0.03489, 0.68538, -0.15951, 0.00997, 0.01994, 0.03988, 0.14954, 0.33895, 0.38880, 0.28412, 0.20437, 0.28911, 0.26418, 0.17446, 0.10966, 0.06978, 0.02492, 0.77511, -0.09471, 0.00498, 0.01994, 0.07975, 0.17945, 0.35889, 0.43615, 0.29409, 0.18443, 0.22431, 0.20935, 0.14455, 0.06978, 0.06978, 0.03489, 0.95954, -0.13458, 0.07477, 0.08474, 0.11465, 0.18443, 0.35391, 0.44612, 0.33895, 0.21434, 0.24923, 0.23428, 0.16948, 0.09471, 0.08972, 0.06480, 0.95954, -0.20437, 0.05483, 0.07975, 0.09471, 0.16948, 0.33397, 0.43117, 0.33895, 0.21434, 0.25421, 0.22929, 0.13458, 0.07975, 0.05982, 0.02991, 0.87978, -0.31403, -0.00498, 0.00997, 0.03988, 0.11963, 0.26418, 0.33895, 0.25920, 0.10966, 0.12960, 0.14954, 0.07477, 0.00997, 0.00498, -0.02991, 0.80003, -0.30905, -0.05483, -0.01994, -0.00498, 0.05483, 0.17945, 0.28911, 0.21932, 0.10468, 0.09969, 0.10468, 0.05982, -0.01495, -0.02492, -0.02492, 0.76514, -0.34394, -0.01495, 0.01495, 0.06978, 0.12960, 0.28911, 0.40624, 0.32898, 0.19440, 0.16948, 0.19440, 0.17446, 0.05483, 0.04985, 0.03988, 0.56575, -0.38381, 0.01994, 0.02492, 0.05483, 0.13957, 0.26917, 0.38880, 0.35391, 0.20935, 0.17446, 0.21434, 0.15951, 0.02991, 0.00997, 0.03489, 0.44612, -0.38381, -0.07477, -0.03489, -0.00498, 0.04985, 0.17446, 0.32898, 0.26418, 0.11465, 0.02492, 0.09969, 0.07477, -0.04985, -0.02492, -0.05483, 0.37384, -0.27914, -0.14455, -0.09471, -0.04486, -0.00498, 0.13458, 0.26917, 0.23428, 0.08972, 0.02492, 0.10468, 0.09471, -0.00498, -0.01495, 0.00498, 0.30905, -0.15452, -0.03988, 0.00997, 0.01495, 0.06978, 0.20437, 0.34394, 0.34892, 0.17945, 0.10966, 0.18443, 0.14954, 0.01495, -0.00498, 0.01495, 0.15452, -0.02492, -0.09471, -0.01994, -0.00498, 0.03988, 0.15452, 0.30905, 0.32898, 0.17446, 0.10468, 0.17945, 0.12960, 0.01495, 0.00000, 0.00000, 0.06978, 0.08474, -0.14954, -0.07975, -0.05982, -0.00997, 0.09471, 0.26917, 0.27914, 0.13458, 0.03489, 0.09471, 0.04486, -0.01994, -0.05483, -0.04985, 0.01994, 0.16948, -0.16948, -0.09471, -0.08972, -0.03988, 0.09969, 0.27415, 0.26917, 0.12461, 0.03988, 0.11963, 0.12960, 0.00498, -0.03988, -0.01994, -0.01994, 0.41123, -0.11465, -0.01994, 0.00997, 0.04985, 0.13957, 0.30406, 0.35889, 0.22929, 0.11963, 0.19938, 0.17446, 0.04486, 0.00498, 0.01495, -0.03489, 0.60563, -0.18443, -0.05982, -0.03489, 0.00498, 0.10468, 0.26917, 0.31403, 0.19938, 0.09471, 0.16449, 0.12960, 0.02492, -0.03988, -0.00997, -0.07975, 0.64551, -0.26917, -0.10468, -0.09969, -0.03489, 0.04985, 0.20437, 0.25920, 0.14455, 0.01994, 0.06978, 0.07477, -0.04985, -0.09969, -0.06480, -0.09969, 0.66046, -0.25421, -0.10468, -0.07975, -0.05982, 0.04486, 0.20935, 0.27914, 0.16948, 0.03988, 0.08474, 0.05982, 0.00000, -0.06978, -0.03988, -0.07975, 0.82994, -0.22929, -0.03988, -0.03489, 0.00498, 0.05982, 0.23926, 0.33397, 0.23428, 0.10966, 0.15452, 0.15452, 0.08474, -0.00997, -0.00498, -0.01994, 0.84987, -0.31403, -0.03489, -0.02492, 0.01495, 0.09471, 0.25421, 0.37384, 0.28412, 0.15951, 0.19440, 0.16449, 0.09969, 0.02991, 0.00997, -0.01994, 0.76015, -0.37883, -0.05483, -0.02991, -0.00997, 0.05982, 0.19938, 0.32400, 0.24923, 0.09969, 0.12461, 0.11465, 0.05982, -0.00997, -0.01495, -0.04486, 0.70532, -0.37883, -0.07477, -0.04486, -0.01994, 0.05982, 0.20935, 0.34394, 0.26418, 0.10966, 0.09969, 0.13458, 0.10966, 0.00498, -0.00498, 0.01495, 0.66046, -0.36886, 0.01495, 0.05483, 0.05982, 0.12960, 0.26418, 0.37883, 0.32898, 0.19440, 0.17446, 0.21932, 0.17446, 0.05982, 0.05982, 0.05483, 0.54083, -0.38880, 0.00498, 0.02991, 0.04486, 0.11465, 0.26917, 0.39877, 0.37384, 0.24425, 0.22431, 0.25920, 0.19938, 0.09969, 0.12461, 0.11963, 0.52588, -0.26917, 0.03988, 0.07975, 0.08972, 0.13957, 0.29409, 0.43117, 0.40624, 0.25920, 0.21434, 0.26917, 0.21932, 0.07975, 0.05982, 0.05982, 0.39378, -0.23926, -0.02492, 0.01994, 0.04486, 0.11465, 0.25920, 0.41123, 0.39378, 0.23926, 0.17446, 0.22929, 0.18443, 0.08474, 0.04985, 0.06480, 0.34394, 0.01994, -0.00997, 0.04985, 0.05483, 0.12461, 0.26418, 0.40624, 0.41621, 0.25421, 0.17945, 0.25421, 0.24425, 0.12960, 0.09969, 0.12960, 0.20437, 0.16449, 0.02492, 0.10468, 0.10468, 0.16449, 0.27415, 0.45111, 0.45609, 0.30406, 0.24425, 0.32400, 0.30406, 0.16449, 0.12960, 0.13957, 0.13458, 0.37883, 0.00000, 0.10468, 0.09969, 0.15452, 0.23926, 0.41621, 0.46606, 0.32400, 0.23926, 0.32400, 0.30905, 0.15951, 0.15452, 0.14455, 0.10966, 0.58071, -0.01994, 0.11465, 0.16948, 0.18443, 0.29409, 0.45609, 0.49597, 0.28412, 0.23926, 0.25421, 0.28412, 0.12461, 0.07477, 0.09471, 0.03489, 0.70532, -0.12461, 0.02492, 0.09471, 0.11963, 0.22431, 0.39378, 0.49597, 0.33895, 0.23926, 0.29908, 0.25920, 0.18443, 0.10468, 0.12461, 0.06480, 0.92464, -0.02991, 0.10468, 0.11963, 0.17446, 0.28412, 0.47603, 0.57074, 0.43615, 0.29409, 0.32898, 0.31403, 0.23926, 0.15452, 0.14455, 0.14954, 0.96950, -0.21932, 0.10966, 0.09969, 0.13458, 0.21932, 0.37883, 0.48101, 0.41123, 0.26917, 0.26917, 0.25920, 0.20437, 0.06480, 0.06480, 0.05982, 0.69535, -0.32400, -0.01495, 0.01495, 0.07477, 0.13957, 0.32898, 0.43117, 0.33397, 0.25421, 0.21434, 0.21434, 0.16948, 0.08474, 0.07975, 0.08972, 0.74021, -0.31901, 0.12960, 0.13458, 0.14455, 0.20935, 0.39877, 0.51591, 0.44114, 0.28911, 0.24923, 0.27415, 0.23428, 0.12461, 0.10966, 0.11963, 0.60064, -0.31901, 0.07477, 0.11963, 0.13957, 0.18941, 0.32898, 0.47104, 0.43615, 0.27914, 0.23926, 0.27415, 0.22431, 0.10468, 0.07477, 0.08474, 0.38381, -0.17945, -0.04985, 0.01994, 0.01994, 0.10966, 0.24425, 0.39378, 0.38381, 0.20935, 0.14954, 0.19938, 0.16449, 0.07477, 0.07975, 0.06978, 0.33895, -0.05982, -0.00498, 0.03988, 0.08474, 0.14954, 0.27914, 0.47603, 0.44114, 0.31901, 0.24923, 0.30406, 0.29409, 0.17446, 0.12461, 0.11465, 0.16449, 0.30905, 0.01994, 0.09471, 0.11465, 0.14954, 0.23428, 0.40624, 0.43117, 0.27415, 0.16948, 0.19938, 0.18443, 0.05982, 0.01495, 0.01994, -0.02492, 0.52089, -0.15951, -0.01495, -0.02492, 0.06978, 0.17446, 0.34394, 0.41123, 0.22929, 0.11963, 0.17945, 0.18941, 0.05483, 0.00997, 0.01994, -0.00498, 0.77511, -0.08474, 0.04486, 0.08972, 0.13458, 0.24425, 0.43117, 0.48600, 0.35391, 0.24923, 0.27415, 0.24923, 0.17446, 0.10468, 0.09471, 0.04985, 0.91467, -0.19440, 0.05483, 0.07477, 0.11963, 0.18443, 0.35391, 0.47104, 0.36886, 0.24923, 0.29409, 0.27415, 0.18443, 0.10966, 0.08972, 0.07477, 0.88477, -0.29908, 0.02492, 0.04985, 0.05982, 0.13957, 0.27415, 0.41621, 0.34892, 0.16948, 0.16449, 0.14455, 0.07477, 0.00997, -0.00498, 0.01994, 0.80501, -0.34394, 0.01994, 0.06978, 0.08972, 0.14954, 0.36886, 0.47104, 0.37384, 0.24425, 0.23428, 0.26418, 0.20935, 0.16449, 0.18443, 0.16449, 0.81997, -0.24425, 0.13957, 0.14954, 0.14954, 0.22431, 0.39378, 0.51092, 0.46606, 0.27415, 0.24425, 0.25920, 0.24923, 0.15452, 0.12960, 0.13458, 0.65049, -0.36388, 0.09471, 0.10966, 0.11963, 0.21932, 0.35889, 0.48600, 0.42120, 0.27415, 0.21932, 0.25920, 0.19938, 0.07975, 0.02492, 0.02492, 0.41621, -0.17446, -0.03988, -0.00498, 0.01994, 0.11465, 0.25421, 0.37883, 0.36886, 0.21434, 0.14954, 0.19440, 0.14954, 0.04486, 0.02991, 0.05483, 0.31403, -0.07477, -0.04985, 0.02991, 0.07477, 0.11963, 0.27415, 0.44612, 0.44612, 0.29908, 0.23926, 0.29409, 0.24425, 0.13458, 0.10468, 0.12461, 0.14455, 0.25920, -0.02492, 0.05483, 0.08474, 0.12461, 0.22929, 0.39378, 0.44612, 0.29908, 0.19938, 0.27914, 0.25421, 0.14954, 0.09471, 0.09969, 0.09471, 0.45111, -0.06480, 0.03489, 0.03489, 0.10468, 0.18443, 0.29409, 0.35889, 0.23428, 0.10966, 0.16948, 0.16948, 0.05483, 0.00498, -0.00997, -0.00997, 0.53086, -0.16948, -0.02991, -0.01994, 0.01994, 0.12461, 0.30905, 0.36886, 0.20437, 0.07975, 0.13957, 0.13458, 0.02991, -0.01495, 0.00997, -0.04486, 0.81498, -0.16449, 0.00498, 0.01994, 0.02991, 0.12960, 0.29908, 0.39877, 0.26418, 0.11963, 0.17446, 0.15951, 0.04985, -0.00498, -0.01495, -0.02991, 0.83492, -0.28911, -0.04985, -0.00997, 0.00498, 0.07975, 0.25920, 0.36886, 0.23428, 0.13458, 0.13957, 0.11963, 0.04486, -0.03988, -0.05982, -0.06480, 0.69037, -0.47104, -0.12461, -0.13458, -0.07975, 0.00997, 0.16948, 0.25421, 0.17945, 0.05982, 0.08474, 0.04486, 0.00000, -0.06978, -0.07975, -0.08972, 0.69037, -0.44612, -0.10468, -0.05982, -0.04985, 0.06480, 0.22929, 0.36388, 0.32400, 0.17945, 0.19440, 0.21434, 0.15951, 0.06978, -0.01994, 0.02492, 0.56575, -0.42120, 0.00997, 0.04486, 0.06480, 0.10468, 0.25421, 0.36886, 0.33397, 0.17446, 0.14954, 0.19938, 0.18443, 0.04985, 0.02492, 0.02492, 0.45111, -0.36388, -0.03489, -0.01495, -0.00997, 0.03988, 0.17945, 0.30905, 0.24923, 0.06480, -0.02991, 0.02991, -0.00498, -0.09471, -0.10966, -0.09969, 0.30905, -0.25421, -0.15951, -0.08972, -0.05483, -0.00498, 0.12960, 0.27914, 0.23926, 0.08972, 0.00498, 0.07477, 0.10468, -0.05483, -0.06480, -0.06978, 0.21434, -0.13458, -0.05483, 0.01495, 0.00997, 0.08474, 0.21932, 0.35889, 0.34892, 0.20935, 0.13957, 0.23926, 0.21434, 0.10966, 0.07477, 0.12461, 0.13458, 0.30905, -0.02991, 0.06480, 0.03988, 0.05982, 0.13957, 0.30406, 0.34892, 0.23926, 0.14455, 0.21932, 0.18941, 0.06480, 0.02991, 0.03489, 0.02991, 0.39877, -0.11963, -0.02492, 0.00000, 0.02492, 0.10966, 0.28911, 0.34394, 0.15951, 0.08972, 0.13458, 0.13458, 0.03489, 0.00997, 0.00498, 0.00498, 0.57074, -0.11963, 0.01495, 0.07975, 0.08474, 0.18443, 0.36886, 0.43117, 0.31403, 0.21434, 0.27415, 0.27415, 0.21932, 0.17446, 0.21932, 0.16948, 1.12901, 0.08474, 0.24923, 0.24425, 0.27914, 0.34892, 0.50594, 0.55578, 0.40624, 0.26917, 0.32400, 0.32898, 0.21434, 0.12960, 0.13458, 0.07975, 1.00938, -0.17446, 0.08474, 0.08474, 0.09969, 0.17446, 0.35889, 0.46108, 0.35391, 0.20935, 0.21434, 0.22431, 0.11465, 0.07477, 0.07477, 0.04985, 0.84489, -0.24425, 0.08474, 0.11465, 0.17446, 0.27415, 0.45111, 0.51092, 0.42120, 0.27914, 0.27914, 0.28412, 0.23926, 0.14954, 0.12461, 0.10966, 0.78507, -0.29409, 0.02991, 0.05982, 0.07477, 0.13458, 0.29908, 0.44114, 0.36388, 0.22929, 0.19440, 0.24425, 0.20437, 0.08972, 0.05982, 0.06978, 0.46606, -0.28911, 0.01495, 0.06480, 0.09471, 0.15452, 0.29409, 0.45609, 0.47104, 0.39378, 0.38880, 0.45609, 0.38880, 0.26418, 0.23926, 0.26418, 0.52588, 0.07975, 0.13957, 0.16948, 0.14954, 0.17446, 0.30905, 0.44114, 0.44612, 0.24923, 0.13458, 0.19938, 0.12960, 0.00997, -0.00997, -0.01495, 0.11465, 0.07975, -0.12960, -0.06480, -0.05483, 0.00498, 0.12960, 0.28412, 0.30905, 0.11963, 0.02991, 0.07477, 0.08972, 0.00000, -0.03489, -0.02492, 0.01994, 0.17446, -0.14954, -0.06978, -0.05982, -0.00498, 0.12461, 0.29908, 0.32898, 0.15951, 0.07477, 0.12960, 0.11963, 0.01495, -0.05982, -0.05483, -0.13458, 0.63055, -0.25920, -0.10966, -0.10468, -0.05982, 0.01994, 0.19440, 0.24425, 0.13458, 0.01994, 0.08972, 0.07477, -0.04486, -0.09471, -0.07975, -0.12461, 0.75018, -0.30406, -0.13458, -0.10966, -0.09969, -0.00498, 0.16948, 0.23428, 0.12960, -0.01495, 0.01495, -0.01495, -0.08972, -0.14954, -0.14954, -0.15951, 0.74520, -0.38880, -0.16449, -0.14455, -0.07477, 0.01994, 0.19938, 0.31403, 0.19938, 0.09471, 0.13458, 0.16948, 0.16948, 0.09969, 0.12960, 0.12461, 0.97947, -0.19938, 0.05982, 0.07477, 0.07975, 0.11963, 0.24425, 0.31403, 0.23428, 0.12461, 0.10966, 0.12461, 0.09471, 0.00000, -0.02991, -0.03988, 0.53086, -0.55080, -0.10468, -0.06978, -0.05483, -0.01994, 0.13957, 0.25920, 0.22929, 0.10966, 0.04985, 0.11963, 0.07477, -0.05982, -0.07975, -0.08474, 0.34394, -0.48101, -0.15951, -0.12960, -0.09471, -0.05982, 0.03988, 0.20437, 0.16948, -0.01495, -0.07477, -0.03489, -0.04985, -0.15452, -0.17446, -0.18941, 0.20935, -0.41621, -0.26917, -0.20935, -0.16948, -0.13957, 0.04985, 0.16948, 0.16948, 0.00997, -0.04486, 0.03489, 0.01994, -0.07975, -0.11465, -0.08972, 0.09471, -0.18941, -0.18941, -0.14455, -0.11465, -0.05982, 0.07477, 0.20437, 0.19938, 0.06480, -0.01994, 0.04486, 0.02991, -0.08972, -0.13458, -0.13957, -0.07477, -0.01994, -0.25920, -0.16948, -0.14455, -0.09471, 0.01495, 0.18941, 0.21932, 0.09969, 0.00498, 0.04985, 0.04486, -0.07477, -0.11465, -0.18443, -0.15951, 0.17446, -0.41621, -0.22929, -0.26418, -0.21932, -0.08972, 0.06480, 0.15452, -0.08474, -0.15951, -0.04486, -0.03489, -0.18941, -0.27415, -0.21932, -0.26418, 0.46108, -0.38381, -0.21434, -0.21434, -0.12960, -0.01495, 0.20437, 0.28412, 0.12461, 0.03489, 0.06480, 0.03489, -0.01994, -0.10966, -0.11465, -0.18443, 0.73523, -0.39378, -0.15452, -0.12960, -0.09471, -0.02492, 0.11465, 0.20935, 0.15452, 0.04486, 0.06978, 0.07477, 0.04985, -0.03988, -0.03988, -0.04985, 0.75517, -0.43117, -0.04985, -0.02492, 0.00000, 0.08474, 0.21932, 0.33895, 0.27914, 0.16449, 0.19440, 0.19440, 0.12960, 0.03489, 0.02492, 0.02991, 0.68538, -0.44114, 0.00498, 0.02492, 0.04486, 0.10468, 0.25920, 0.40624, 0.35889, 0.13957, 0.15951, 0.25920, -0.02492, 0.00997, 0.00997, -0.01495, 0.50594, -0.38381, -0.04985, 0.01495, 0.03489, 0.09969, 0.24923, 0.37883, 0.35391, 0.19938, 0.19440, 0.22431, 0.17446, 0.09969, 0.10468, 0.08972, 0.37384, 0.00498, 0.03988, 0.11465, 0.17446, 0.22431, 0.35889, 0.52588, 0.52089, 0.38381, 0.30406, 0.39378, 0.35889, 0.22431, 0.17945, 0.19938, 0.19440, 0.42618, 0.11465, 0.18443, 0.19440, 0.23428, 0.32898, 0.50095, 0.57074, 0.44114, 0.37384, 0.44612, 0.45111, 0.29409, 0.25421, 0.27415, 0.25421, 0.79006, 0.14954, 0.26418, 0.27415, 0.27415, 0.34892, 0.49098, 0.55080, 0.44114, 0.30905, 0.36388, 0.35391, 0.22929, 0.16449, 0.16948, 0.13458, 0.84987, -0.06480, 0.04486, 0.11963, 0.12461, 0.21434, 0.39877, 0.44612, 0.28911, 0.15951, 0.17945, 0.23428, 0.17446, 0.08474, 0.09969, 0.07477, 1.06421, -0.19440, 0.00997, 0.02492, -0.04985, 0.08474, 0.31901, 0.39378, 0.24425, 0.10468, 0.13957, 0.13458, 0.02492, -0.08972, -0.06978, -0.05982, 0.59068, -0.58569, -0.11963, -0.10966, -0.11465, -0.05483, 0.10468, 0.22431, 0.16449, 0.03489, 0.01994, 0.07477, 0.00000, -0.10966, -0.15951, -0.16948, 0.31901, -0.64551, -0.24923, -0.25421, -0.22929, -0.16948, -0.05982, 0.08972, 0.07975, -0.08474, -0.16948, -0.10966, -0.16449, -0.25920, -0.25421, -0.27914, 0.16449, -0.55578, -0.37384, -0.30406, -0.27914, -0.24425, -0.08972, 0.06978, 0.02991, -0.13458, -0.17446, -0.10468, -0.12461, -0.25421, -0.26418, -0.27415, -0.11963, -0.35889, -0.38880, -0.38381, -0.30905, -0.24425, -0.06978, 0.12461, 0.09969, -0.04985, -0.14954, -0.08474, -0.15951, -0.28911, -0.33397, -0.31901, -0.19938, -0.11963, -0.36886, -0.24923, -0.19440, -0.19938, -0.12960, 0.01495, 0.19938, -0.10966, -0.19938, -0.16948, -0.16948, -0.35391, -0.40624, -0.36388, -0.36886, 0.09969, -0.54581, -0.36388, -0.34394, -0.33895, -0.16449, -0.01495, 0.03988, -0.13957, -0.24425, -0.18941, -0.19440, -0.28911, -0.37384, -0.31901, -0.35889, 0.42120, -0.49597, -0.34892, -0.32400, -0.25920, -0.14954, 0.02991, 0.08474, -0.01495, -0.15452, -0.11465, -0.14455, -0.22929, -0.29409, -0.30406, -0.33397, 0.54083, -0.66544, -0.36886, -0.32400, -0.30406, -0.23428, -0.08474, 0.03988, -0.02492, -0.16449, -0.14954, -0.12960, -0.18941, -0.26917, -0.28911, -0.28412, 0.41621, -0.68040, -0.27415, -0.24923, -0.22431, -0.15452, 0.00000, 0.12960, 0.09969, -0.03489, -0.05982, -0.03489, -0.09969, -0.17945, -0.19938, -0.18941, 0.34394, -0.68040, -0.23428, -0.24425, -0.23926, -0.15951, -0.00997, 0.14954, 0.10468, -0.05982, -0.15951, -0.08972, -0.15452, -0.25920, -0.28412, -0.26917, 0.16948, -0.54083, -0.31403, -0.27415, -0.25421, -0.19938, -0.03489, 0.10966, 0.06978, -0.05483, -0.11963, -0.06978, -0.04486, -0.15452, -0.13957, -0.11465, 0.08972, -0.14954, -0.18443, -0.11963, -0.09471, -0.04985, 0.06480, 0.21932, 0.23428, 0.10468, 0.03489, 0.08474, 0.08474, -0.04486, -0.09969, -0.09969, -0.06978, 0.19440, -0.22929, -0.11465, -0.08474, -0.04985, 0.06978, 0.24923, 0.32400, 0.19440, 0.10966, 0.17446, 0.15951, 0.01994, -0.04486, -0.00997, -0.03988, 0.49597, -0.25421, -0.08474, -0.10966, -0.08972, -0.01994, 0.15951, 0.20935, 0.08972, -0.03988, 0.00498, -0.00498, -0.12960, -0.17945, -0.20437, -0.22929, 0.52089, -0.45609, -0.23428, -0.25920, -0.24923, -0.08972, 0.06978, 0.13458, 0.03489, -0.06978, -0.00997, 0.00498, -0.03988, -0.06480, 0.01994, -0.00498, 0.87480, -0.30905, -0.09471, -0.08474, -0.13458, -0.28911, -0.34892, -0.45609, -0.72027, -1.02434, -1.10409, -1.15892, -1.22123, -1.30098, -1.32092, -1.29600, -0.51591, -1.54024, -1.02434, -0.90969, -0.78507, -0.62058, -0.38381, -0.17945, -0.20935, -0.34394, -0.35889, -0.29409, -0.33895, -0.41621, -0.31403, -0.23926, 0.13458, -0.67541, -0.44612, -0.45111, -0.48101, -0.29908, -0.13458, -0.00498, -0.01994, -0.11963, -0.13458, -0.07975, -0.08474, -0.22431, -0.18443, -0.18443, 0.04486, -0.32400, -0.27415, -0.11963, -0.11465, -0.05982, 0.03489, 0.17446, 0.19938, 0.04486, -0.02492, 0.10966, 0.09969, -0.01495, -0.04985, -0.04985, 0.06480, -0.00498, -0.14455, -0.04985, -0.03988, 0.00997, 0.10966, 0.27415, 0.29908, 0.15452, 0.06480, 0.13458, 0.12960, 0.02991, -0.01994, -0.06480, -0.04486, 0.30406, -0.24923, -0.16948, -0.16948, -0.14455, -0.02492, 0.14455, 0.18443, 0.04486, -0.05483, -0.01495, -0.02492, -0.11963, -0.17446, -0.15951, -0.15951, 0.65547, -0.27914, -0.12461, -0.11963, -0.00498, 0.12960, 0.28412, 0.34394, 0.17446, 0.02492, 0.03988, 0.04985, -0.02991, -0.10966, -0.05982, -0.08474, 0.73024, -0.43117, -0.10966, -0.07477, -0.04985, 0.03489, 0.21932, 0.32400, 0.24923, 0.08474, 0.06480, 0.05483, -0.00498, -0.08972, -0.09969, -0.01495, 0.53086, -0.51092, -0.08474, -0.03988, -0.12960, -0.09471, 0.01994, 0.08474, 0.00498, -0.05483, -0.08972, -0.01495, -0.06480, -0.15452, -0.22929, -0.20935, 0.25920, -0.60064, -0.28911, -0.23428, -0.16948, -0.06978, 0.08972, 0.18443, 0.13957, -0.01994, -0.14455, -0.08972, -0.10966, -0.24923, -0.27415, -0.24425, 0.10468, -0.43615, -0.35889, -0.28412, -0.27914, -0.20935, -0.05982, 0.08474, 0.06978, -0.09969, -0.17446, -0.09969, -0.12461, -0.23926, -0.29409, -0.28412, -0.28412, -0.14954, -0.43615, -0.34892, -0.32898, -0.28911, -0.18443, -0.01994, 0.02492, -0.11465, -0.21434, -0.14954, -0.17945, -0.26917, -0.33895, -0.33895, -0.35391, 0.17446, -0.50594, -0.33397, -0.30406, -0.27914, -0.18941, -0.03489, 0.02991, -0.11963, -0.24425, -0.20437, -0.20935, -0.33895, -0.43117, -0.43615, -0.45609, 0.32898, -0.70034, -0.50594, -0.48600, -0.42120, -0.31901, -0.14455, -0.05483, -0.17446, -0.31403, -0.27914, -0.28412, -0.36388, -0.44612, -0.41123, -0.44114, 0.44612, -0.73024, -0.46606, -0.44612, -0.40624, -0.30406, -0.12461, -0.01994, -0.10966, -0.24425, -0.25920, -0.21932, -0.24425, -0.32898, -0.33895, -0.32400, 0.26418, -0.78009, -0.39378, -0.37384, -0.33895, -0.28412, -0.13957, -0.00498, -0.03988, -0.19440, -0.22929, -0.15951, -0.20935, -0.30905, -0.33397, -0.32898, 0.06978, -0.68040, -0.36388, -0.30905, -0.28911, -0.23428, -0.10468, 0.01495, 0.00997, -0.12960, -0.19440, -0.13458, -0.17945, -0.29409, -0.35889, -0.34892, -0.16449, -0.37883, -0.48101, -0.38880, -0.39378, -0.33895, -0.20935, -0.05483, 0.01495, -0.17945, -0.22431, -0.20437, -0.21434, -0.29409, -0.30406, -0.31403, -0.27914, -0.06978, -0.42120, -0.35889, -0.34394, -0.29409, -0.14954, 0.01495, 0.07477, -0.08972, -0.19938, -0.15452, -0.14455, -0.23926, -0.29908, -0.26917, -0.35889, 0.47603, -0.47104, -0.30905, -0.30406, -0.26418, -0.17446, -0.01495, 0.06480, -0.01495, -0.13957, -0.09969, -0.08972, -0.17945, -0.23926, -0.25421, -0.27415, 0.59566, -0.50594, -0.24923, -0.21932, -0.17945, -0.11963, 0.02492, 0.11963, 0.03489, -0.10468, -0.08474, -0.07975, -0.19440, -0.28412, -0.29908, -0.31403, 0.39378, -0.72526, -0.36886, -0.35391, -0.33397, -0.28911, -0.08474, 0.01495, -0.08474, -0.20935, -0.21932, -0.20935, -0.24923, -0.30905, -0.32400, -0.29908, 0.27914, -0.67541, -0.34892, -0.31403, -0.29409, -0.23428, -0.05982, 0.07975, 0.05483, -0.10468, -0.15452, -0.09969, -0.13458, -0.25421, -0.27415, -0.27914, 0.01495, -0.51591, -0.33895, -0.28412, -0.27914, -0.19938, -0.06978, 0.05483, 0.06978, -0.08474, -0.14954, -0.07477, -0.10966, -0.22431, -0.24425, -0.24923, -0.14954, -0.20437, -0.30406, -0.22929, -0.20935, -0.17446, -0.04985, 0.11465, 0.13458, 0.00000, -0.05982, 0.00000, -0.04985, -0.19938, -0.28911, -0.26917, -0.23428, -0.08474, -0.45609, -0.39378, -0.34892, -0.29908, -0.21434, -0.01495, 0.00498, -0.16948, -0.26418, -0.19938, -0.17945, -0.29908, -0.33397, -0.31901, -0.29409, 0.17446, -0.46606, -0.32898, -0.29409, -0.23926, -0.13957, 0.03489, 0.09471, -0.04985, -0.15951, -0.10468, -0.13458, -0.21434, -0.25920, -0.26917, -0.33895, 0.60563, -0.51092, -0.32400, -0.30905, -0.25920, -0.18941, 0.00000, 0.06480, -0.02991, -0.15452, -0.10468, -0.10966, -0.18941, -0.25920, -0.26418, -0.26418, 0.53584, -0.65049, -0.25920, -0.22929, -0.20935, -0.16948, 0.00000, 0.09969, 0.03988, -0.07477, -0.06480, -0.07477, -0.15951, -0.25920, -0.30406, -0.31403, 0.30406, -0.79006, -0.35889, -0.33895, -0.33397, -0.26418, -0.13458, 0.00498, -0.06480, -0.21434, -0.24425, -0.21932, -0.23926, -0.32898, -0.32898, -0.31901, 0.21434, -0.65547, -0.35889, -0.30905, -0.24923, -0.18443, -0.03988, 0.07477, 0.03489, -0.11465, -0.13458, -0.08474, -0.09471, -0.20437, -0.22929, -0.25920, 0.01994, -0.49098, -0.34394, -0.30905, -0.24923, -0.19440, -0.08972, 0.06978, 0.07477, -0.07975, -0.11963, -0.01994, -0.06480, -0.18941, -0.23428, -0.19938, -0.10966, -0.15452, -0.33397, -0.23428, -0.18941, -0.16948, -0.03988, 0.08474, 0.12960, -0.03489, -0.13458, -0.06978, -0.08972, -0.21932, -0.25421, -0.23926, -0.20935, 0.08972, -0.39877, -0.27415, -0.22929, -0.17446, -0.09471, 0.08474, 0.14455, -0.00997, -0.10966, -0.03489, -0.06480, -0.14954, -0.17446, -0.17446, -0.21434, 0.56575, -0.32400, -0.16948, -0.16449, -0.10966, 0.00997, 0.17945, 0.25920, 0.14455, 0.01994, 0.03988, 0.03988, -0.03988, -0.11465, -0.10966, -0.15452, 0.69037, -0.46108, -0.15452, -0.14455, -0.11465, -0.05483, 0.09969, 0.21434, 0.14455, 0.00498, 0.00498, 0.04985, -0.01495, -0.09471, -0.08972, -0.10966, 0.52089, -0.57074, -0.18443, -0.17945, -0.16449, -0.11465, 0.03988, 0.17446, 0.10468, -0.05483, -0.07975, -0.05982, -0.07975, -0.16948, -0.19938, -0.20935, 0.31403, -0.55080, -0.24425, -0.19938, -0.19440, -0.10468, 0.04486, 0.19938, 0.14954, -0.00498, -0.05982, -0.00498, -0.00498, -0.11963, -0.12461, -0.09471, 0.20935, -0.30406, -0.16449, -0.10966, -0.10468, -0.04985, 0.09471, 0.22929, 0.21932, 0.07477, 0.00000, 0.07477, 0.01994, -0.07477, -0.11963, -0.10468, -0.05483, -0.02991, -0.26418, -0.11465, -0.10966, -0.08972, -0.04486, 0.11963, 0.20437, 0.14455, 0.07477, 0.12461, 0.10966, -0.01994, -0.05483, -0.06978, -0.10468, 0.26418, -0.30905, -0.17945, -0.18443, -0.11465, -0.03988, 0.14455, 0.19938, 0.07975, -0.03489, -0.00997, -0.01495, -0.10966, -0.18443, -0.17945, -0.18941, 0.54083, -0.37384, -0.19440, -0.15951, -0.12960, -0.03489, 0.15951, 0.24425, 0.11963, -0.01495, 0.00498, 0.00498, -0.03489, -0.11465, -0.08972, -0.12461, 0.79006, -0.38880, -0.15951, -0.12960, -0.08972, -0.00997, 0.16948, 0.24425, 0.14455, 0.00498, 0.00000, 0.01495, -0.03988, -0.11465, -0.13957, -0.12960, 0.49597, -0.61061, -0.14954, -0.12461, -0.08972, -0.03988, 0.10966, 0.25920, 0.19938, 0.07477, 0.04486, 0.08972, 0.02492, -0.09471, -0.11465, -0.12461, 0.29908, -0.52588, -0.23428, -0.18941, -0.16449, -0.13957, 0.00000, 0.14455, 0.12461, -0.03988, -0.09969, -0.04486, -0.03489, -0.16948, -0.13957, -0.13458, 0.16948, -0.25421, -0.22929, -0.14954, -0.10966, -0.03489, 0.11963, 0.25920, 0.25421, 0.08972, 0.05483, 0.10966, 0.09471, -0.02492, -0.03988, -0.03489, -0.01495, 0.13957, -0.14455, -0.05483, -0.04985, -0.00997, 0.07975, 0.24923, 0.27415, 0.12461, 0.01994, 0.08474, 0.09471, -0.02991, -0.07975, -0.08972, -0.13458, 0.49098, -0.28412, -0.11963, -0.08474, -0.04486, 0.05982, 0.23428, 0.26917, 0.15951, 0.02492, 0.03988, 0.05982, -0.06480, -0.13458, -0.14954, -0.16948, 0.63554, -0.43615, -0.24425, -0.21434, -0.18443, -0.09471, 0.08474, 0.18941, 0.03489, -0.08972, -0.08474, -0.09969, -0.56077, -1.27606, -1.80941, -1.76953, -0.73024, -1.55520, -0.96950, -0.76514, -0.75018, -0.55578, -0.63055, -1.07917, -1.17387, -0.83991, -0.55578, -0.30406, -0.21932, -0.32898, -0.31403, -0.31901, 0.08972, -0.76015, -0.40624, -0.35889, -0.33397, -0.26418, -0.12461, 0.02991, 0.00000, -0.14455, -0.16948, -0.09471, -0.11465, -0.23926, -0.24425, -0.21932, 0.01495, -0.37883, -0.29409, -0.22431, -0.20437, -0.16449, -0.04985, 0.11465, 0.09969, -0.05483, -0.12461, -0.03988, -0.10966, -0.21932, -0.27914, -0.25421, -0.09471, 0.06480, -0.18443, -0.09969, -0.06480, -0.07975, 0.04985, 0.28911, 0.29908, 0.15951, 0.01495, 0.05483, 0.07477, -0.01994, -0.08474, -0.02492, -0.03489, 0.55080, -0.14954, 0.02492, 0.00997, 0.01994, 0.11963, 0.30905, 0.39378, 0.24923, 0.13957, 0.15452, 0.16449, 0.10468, 0.00997, -0.01495, -0.04985, 0.84987, -0.27914, -0.08474, -0.07975, -0.00498, 0.05483, 0.21434, 0.33895, 0.26917, 0.13957, 0.18941, 0.19440, 0.12960, 0.04985, 0.02492, 0.00498, 0.76514, -0.36886, -0.00498, 0.00000, 0.04486, 0.07975, 0.22929, 0.32898, 0.22431, 0.08474, 0.05982, 0.05483, 0.00997, -0.07975, -0.10966, -0.09471, 0.41621, -0.49098, -0.19440, -0.14455, -0.11963, -0.05982, 0.09969, 0.24425, 0.18443, 0.00997, -0.03988, 0.00498, -0.01495, -0.09969, -0.12461, -0.10966, 0.24425, -0.27415, -0.14954, -0.08474, -0.08474, 0.00000, 0.11465, 0.25920, 0.26418, 0.12461, 0.03988, 0.09471, 0.05483, -0.05982, -0.11465, -0.11963, -0.13458, 0.11963, -0.26418, -0.14455, -0.12960, -0.07477, 0.01994, 0.17945, 0.21932, 0.08972, 0.00498, 0.08474, 0.08972, -0.02991, -0.07975, -0.09471, -0.12461, 0.57074, -0.24923, -0.13957, -0.12461, -0.11963, -0.02492, 0.12960, 0.20437, 0.05982, -0.07477, -0.02492, -0.04486, -0.13957, -0.19938, -0.19938, -0.22929, 0.63055, -0.46606, -0.22929, -0.23428, -0.18941, -0.09471, 0.06978, 0.18443, 0.04985, -0.07477, -0.06480, -0.06480, -0.10966, -0.18941, -0.21434, -0.19938, 0.61560, -0.53584, -0.22929, -0.20935, -0.16449, -0.08474, 0.07975, 0.20437, 0.13458, -0.01495, -0.04486, 0.00000, -0.04486, -0.14954, -0.15951, -0.16449, 0.24923, -0.58071, -0.24923, -0.19938, -0.19440, -0.15452, 0.00000, 0.12960, 0.11963, 0.01495, -0.05982, 0.02492, 0.00000, -0.12461, -0.13957, -0.11963, 0.11465, -0.25920, -0.18941, -0.12461, -0.11465, -0.10966, 0.00498, 0.15951, 0.14954, 0.01495, -0.10468, -0.01994, -0.09471, -0.21434, -0.27415, -0.26418, -0.15951, -0.08474, -0.35889, -0.25920, -0.23926, -0.18443, -0.03988, 0.11963, 0.13458, 0.00000, -0.10966, -0.08474, -0.06480, -0.18443, -0.18443, -0.17446, -0.16449, 0.29409, -0.30905, -0.22929, -0.19938, -0.15951, -0.04486, 0.14455, 0.20935, 0.06480, -0.04486, 0.00000, -0.00498, -0.08474, -0.17945, -0.17446, -0.22431, 0.69535, -0.43615, -0.18443, -0.16449, -0.12960, -0.04985, 0.09969, 0.17945, 0.08972, -0.02492, -0.00997, 0.00997, -0.05982, -0.13458, -0.13458, -0.14455, 0.65547, -0.49098, -0.14455, -0.11963, -0.08474, -0.02991, 0.13458, 0.22929, 0.17446, 0.03489, -0.01994, 0.00000, -0.08474, -0.17945, -0.18941, -0.18941, 0.35391, -0.65049, -0.24923, -0.21932, -0.20935, -0.14455, 0.00498, 0.12960, 0.11963, -0.03489, -0.08474, -0.02991, -0.07975, -0.14954, -0.14954, -0.15452, 0.26917, -0.46606, -0.24923, -0.18941, -0.16449, -0.07975, 0.08474, 0.22431, 0.18941, 0.03489, -0.01495, 0.05483, 0.02991, -0.06480, -0.10966, -0.11465, -0.01994, -0.07975, -0.20935, -0.13957, -0.12960, -0.06978, 0.02492, 0.18941, 0.20437, 0.06978, -0.02492, 0.04985, 0.04985, -0.05982, -0.10966, -0.08474, -0.07975, 0.33397, -0.20437, -0.10468, -0.09471, -0.07975, 0.04985, 0.20437, 0.25421, 0.13458, 0.00997, 0.05982, 0.01495, -0.10966, -0.16449, -0.14455, -0.18941, 0.56077, -0.33895, -0.21434, -0.17945, -0.15452, -0.04486, 0.12461, 0.20935, 0.07975, -0.05982, -0.03988, -0.02991, -0.08474, -0.12960, -0.14455, -0.14455, 0.75018, -0.39378, -0.17945, -0.15951, -0.12461, -0.02991, 0.12461, 0.22929, 0.14455, 0.01495, 0.00498, 0.00997, -0.00498, -0.10966, -0.12960, -0.13957, 0.46108, -0.59566, -0.17945, -0.15452, -0.12960, -0.05982, 0.07477, 0.20935, 0.15452, 0.00000, -0.02492, 0.03988, -0.00997, -0.10966, -0.12461, -0.10966, 0.30406, -0.42618, -0.13957, -0.08474, -0.09471, -0.02492, 0.09969, 0.27415, 0.26917, 0.10468, 0.03988, 0.11963, 0.06978, -0.04486, -0.07477, -0.07975, 0.18941, -0.21434, -0.13957, -0.09471, -0.05483, -0.00997, 0.11465, 0.25421, 0.24923, 0.09969, 0.00000, 0.07975, 0.02991, -0.10468, -0.13458, -0.13957, -0.04985, 0.00997, -0.23926, -0.14455, -0.12461, -0.06978, 0.07975, 0.22431, 0.25421, 0.08474, -0.03489, 0.03489, 0.00997, -0.10966, -0.13957, -0.15452, -0.15452, 0.37384, -0.29409, -0.19440, -0.16948, -0.12461, 0.00997, 0.17945, 0.23428, 0.10468, -0.00997, 0.01994, 0.02492, -0.05982, -0.10966, -0.09969, -0.12461, 0.80003, -0.31901, -0.10966, -0.09969, -0.07477, 0.01495, 0.17945, 0.28911, 0.19440, 0.05982, 0.07477, 0.06480, 0.00498, -0.08474, -0.11465, -0.09969, 0.64052, -0.52588, -0.14455, -0.12960, -0.09969, -0.03489, 0.11963, 0.25421, 0.19938, 0.05483, 0.04486, 0.07975, 0.02991, -0.05982, -0.06978, -0.04985, 0.48101, -0.53086, -0.11465, -0.08474, -0.05483, 0.00498, 0.14954, 0.26418, 0.23926, 0.08474, 0.04985, 0.06978, 0.03988, -0.09471, -0.12461, -0.14455, 0.21932, -0.47104, -0.23926, -0.16948, -0.18443, -0.08972, 0.02492, 0.18443, 0.16449, 0.00997, -0.04985, 0.03988, -0.00498, -0.09471, -0.14954, -0.15452, 0.05982, -0.09471, -0.23926, -0.16948, -0.15452, -0.09969, 0.04985, 0.22431, 0.22929, 0.07975, -0.01994, 0.04985, 0.01994, -0.07975, -0.10468, -0.08972, -0.09471, 0.33895, -0.22929, -0.13458, -0.12461, -0.08474, 0.00498, 0.18443, 0.23926, 0.08972, -0.01994, 0.03988, 0.02991, -0.07975, -0.10468, -0.11963, -0.15452, 0.69535, -0.33895, -0.13957, -0.10966, -0.07477, 0.01994, 0.18941, 0.26917, 0.15951, 0.03489, 0.07975, 0.07975, -0.00498, -0.07975, -0.08474, -0.10966, 0.72027, -0.45609, -0.16449, -0.16449, -0.12960, -0.06978, 0.07975, 0.18443, 0.08474, -0.05982, -0.04985, -0.04985, -0.13957, -0.19440, -0.19440, -0.23428, 0.54581, -0.61061, -0.20437, -0.19938, -0.19440, -0.08972, 0.05483, 0.20437, 0.13957, -0.02492, -0.04985, -0.02991, -0.05483, -0.15452, -0.16948, -0.15951, 0.34394, -0.60064, -0.22929, -0.19440, -0.17446, -0.10468, 0.04985, 0.18941, 0.16948, -0.00498, -0.07975, -0.01495, -0.05483, -0.17446, -0.20437, -0.18443, 0.04486, -0.37384, -0.28412, -0.21932, -0.18941, -0.11465, 0.00498, 0.17446, 0.17945, 0.02492, -0.03988, 0.02492, -0.01495, -0.12461, -0.17945, -0.18443, -0.10966, -0.00997, -0.34394, -0.25920, -0.21932, -0.17446, -0.06480, 0.10468, 0.14954, 0.00000, -0.10468, -0.02991, -0.04985, -0.15951, -0.19938, -0.18941, -0.20935, 0.41123, -0.33895, -0.21434, -0.19440, -0.13458, -0.03489, 0.14954, 0.22431, 0.09969, -0.01495, 0.00997, 0.02991, -0.05982, -0.11963, -0.11963, -0.15951, 0.75517, -0.38880, -0.16948, -0.15452, -0.10966, -0.04486, 0.13458, 0.22431, 0.12461, -0.00498, -0.00997, 0.00000, -0.04985, -0.13458, -0.16449, -0.15951, 0.58071, -0.57074, -0.17446, -0.14455, -0.10468, -0.02991, 0.10966, 0.22929, 0.17945, 0.00997, -0.00997, 0.02492, -0.03988, -0.12461, -0.16948, -0.17945, 0.29908, -0.58569, -0.24425, -0.20935, -0.21932, -0.12960, 0.01994, 0.16948, 0.10468, -0.02991, -0.05982, -0.02492, -0.04985, -0.15452, -0.16948, -0.13957, 0.16948, -0.29908, -0.20935, -0.16449, -0.13957, -0.07975, 0.05483, 0.21932, 0.22929, 0.06978, -0.01994, 0.05483, 0.03489, -0.10468, -0.15452, -0.12461, -0.13458, 0.10966, -0.27914, -0.18443, -0.16948, -0.11465, -0.01994, 0.13458, 0.18443, 0.05483, -0.04985, 0.01994, 0.01495, -0.10468, -0.15452, -0.12960, -0.15452, 0.52089, -0.32400, -0.16948, -0.15951, -0.13458, -0.06978, 0.07975, 0.11465, -0.01495, -0.12960, -0.08474, -0.07477, -0.17446, -0.25421, -0.22929, -0.25421, 0.62058, -0.49597, -0.25920, -0.22431, -0.18941, -0.08474, 0.08474, 0.19938, 0.07477, -0.05483, -0.05483, -0.04985, -0.08474, -0.16948, -0.18443, -0.19938, 0.56077, -0.58071, -0.18443, -0.17945, -0.14954, -0.07975, 0.07975, 0.22431, 0.14455, -0.00997, -0.04985, 0.00997, -0.05483, -0.17446, -0.18443, -0.17446, 0.26418, -0.60563, -0.25421, -0.21932, -0.19938, -0.13458, 0.00000, 0.14455, 0.14455, -0.00997, -0.05982, 0.01994, -0.00498, -0.13458, -0.13957, -0.12960, 0.09969, -0.28412, -0.21434, -0.14954, -0.12461, -0.06480, 0.04985, 0.18941, 0.18941, 0.00997, -0.04985, -0.01495, -0.03988, -0.18443, -0.23428, -0.20437, -0.13957, -0.02991, -0.34892, -0.23926, -0.19938, -0.16948, -0.02991, 0.12960, 0.13458, 0.03489, -0.09969, -0.02492, -0.05483, -0.12461, -0.19938, -0.17446, -0.18443, 0.49098, -0.32400, -0.21932, -0.18941, -0.16948, -0.06480, 0.11963, 0.20437, 0.09471, -0.02991, -0.01994, -0.01994, -0.10966, -0.17945, -0.17446, -0.22929, 0.66544, -0.48101, -0.20437, -0.21434, -0.18443, -0.10966, 0.06480, 0.15951, 0.06480, -0.05982, -0.04486, -0.01994, -0.08474, -0.16948, -0.15951, -0.16948, 0.52588, -0.58071, -0.16948, -0.16449, -0.10966, -0.05982, 0.06480, 0.18941, 0.11465, -0.04486, -0.08474, -0.05483, -0.10966, -0.21434, -0.23926, -0.25920, 0.23428, -0.62557, -0.32898, -0.29409, -0.25421, -0.17945, -0.03489, 0.14455, 0.08972, -0.05982, -0.11963, -0.04486, -0.10468, -0.20437, -0.23926, -0.19938, 0.04486, -0.26418, -0.27415, -0.21434, -0.19440, -0.12461, 0.00498, 0.16449, 0.18941, 0.02492, -0.05483, 0.02492, 0.00997, -0.11963, -0.15951, -0.16948, -0.19440, 0.21932, -0.32400, -0.20935, -0.17446, -0.12960, -0.03988, 0.12960, 0.18443, 0.06480, -0.05483, 0.01994, 0.00498, -0.08972, -0.14455, -0.11963, -0.14954, 0.64052, -0.29409, -0.13458, -0.10966, -0.07975, 0.00498, 0.17446, 0.25421, 0.14954, 0.03489, 0.05982, 0.04486, -0.07477, -0.13957, -0.16948, -0.17945, 0.62557, -0.50594, -0.23926, -0.22431, -0.18443, -0.12461, 0.05982, 0.18443, 0.06978, -0.05483, -0.03988, -0.02991, -0.06978, -0.16449, -0.17945, -0.15452, 0.58071, -0.52588, -0.17945, -0.17446, -0.12960, -0.04486, 0.11465, 0.23926, 0.17446, 0.04486, 0.00498, 0.07477, 0.03988, -0.07477, -0.08474, -0.08474, 0.37384, -0.53086, -0.15452, -0.11963, -0.08972, -0.03489, 0.10468, 0.22431, 0.20935, 0.04985, -0.00498, 0.07477, 0.01994, -0.11465, -0.11465, -0.09969, 0.15951, -0.28412, -0.20437, -0.10966, -0.07975, -0.03988, 0.06978, 0.22929, 0.29409, 0.18443, 0.04486, 0.30905, 0.32898, 0.07975, -0.06480, 0.05982, 0.02492, -0.14954, -0.16449, 0.08474, -0.20437, 0.13957, 0.21932, 0.36388, 0.48101, 0.29409, 0.17446, 0.59068, 0.37883, 0.43117, 0.42618, 0.54581, 0.60064, 0.95954, 0.49597, 0.78507, 0.72027, 0.81000, 0.95954, 1.13898, 1.29600, 1.14397, 1.03929, 1.10907, 1.07917, 0.91966, 0.94957, 1.02932, 0.99443, 1.94399, 0.76015, 1.17387, 1.23618, 1.29600, 1.49040, 1.77452, 1.86424, 1.68479, 1.47046, 1.51532, 1.52529, 1.52529, 1.35083, 1.41064, 1.35581, 2.43996, 0.84987, 1.42061, 1.43556, 1.52030, 1.59507, 1.86922, 1.97889, 1.81938, 1.61999, 1.65489, 1.64990, 1.59009, 1.48541, 1.44553, 1.43058, 2.21565, 0.63554, 1.35581, 1.46049, 1.45052, 1.56516, 1.75458, 1.89913, 1.75458, 1.57015, 1.54523, 1.56516, 1.56516, 1.38572, 1.43058, 1.41563, 2.06612, 0.80003, 1.31593, 1.38572, 1.42560, 1.51033, 1.77452, 1.91907, 1.83433, 1.60504, 1.48043, 1.53526, 1.49538, 1.35083, 1.33587, 1.33587, 1.61501, 0.93461, 1.12403, 1.23618, 1.29101, 1.35083, 1.52529, 1.67981, 1.63495, 1.41064, 1.27606, 1.32590, 1.32092, 1.19880, 1.09910, 1.11406, 1.15892, 1.19880, 0.84987, 1.02932, 1.05923, 1.12403, 1.24117, 1.47544, 1.47046, 1.26609, 1.06920, 1.10907, 1.11904, 0.97947, 0.90470, 0.89972, 0.87480, 1.62498, 0.50594, 0.84489, 0.90470, 0.95455, 1.11904, 1.34086, 1.44055, 1.19880, 1.04427, 1.03929, 1.05424, 0.97449, 0.88975, 0.86483, 0.86981, 1.96393, 0.50095, 0.80501, 0.89972, 0.99941, 1.12403, 1.35083, 1.38572, 1.15393, 0.94957, 0.91467, 0.93960, 0.90969, 0.77511, 0.72526, 0.74520, 1.84430, 0.12960, 0.62557, 0.68538, 0.73024, 0.84987, 1.06421, 1.17387, 1.00440, 0.76514, 0.70034, 0.76514, 0.76015, 0.60563, 0.58569, 0.61061, 1.04926, -0.02991, 0.39378, 0.23926, -0.23926, 0.08972, 0.55080, 0.82495, 0.91966, 0.71529, 0.61061, 0.71031, 0.64551, 0.60563, 0.52089, 0.53584, 0.73523, 0.26418, 0.30905, 0.42120, 0.50594, 0.56575, 0.79006, 0.99941, 1.05923, 0.75018, 0.63554, 0.64052, 0.64052, 0.56575, 0.47603, 0.47603, 0.50095, 0.95954, 0.19938, 0.44114, 0.41123, 0.55080, 0.67043, 0.88975, 0.95954, 0.70034, 0.59068, 0.63055, 0.57074, 0.45111, 0.44612, 0.43615, 0.41123, 1.34086, 0.16449, 0.36886, 0.44114, 0.45111, 0.62058, 0.79006, 0.90470, 0.65547, 0.48101, 0.48101, 0.51591, 0.43117, 0.35391, 0.35889, 0.32400, 1.34086, -0.31403, 0.28412, 0.28412, 0.36388, 0.44114, 0.65049, 0.81498, 0.69535, 0.46108, 0.40624, 0.47104, 0.37384, 0.33397, 0.30905, 0.29409, 0.95954, -0.48101, 0.20437, 0.24923, 0.25421, 0.33895, 0.54083, 0.75018, 0.67541, 0.42618, 0.31901, 0.43615, 0.33895, 0.23926, 0.18941, 0.20437, 0.57074, -0.34892, 0.04486, 0.13458, 0.21932, 0.24425, 0.43117, 0.67043, 0.65049, 0.37883, 0.27415, 0.29409, 0.24923, 0.15951, 0.08972, 0.08474, 0.28412, 0.19440, -0.07477, 0.06480, 0.12461, 0.15951, 0.33895, 0.58569, 0.58569, 0.29409, 0.16449, 0.21932, 0.16948, 0.05483, 0.01994, -0.00997, 0.09471, 0.61061, -0.17945, 0.00498, 0.05982, 0.12461, 0.26418, 0.50095, 0.58569, 0.32400, 0.11963, 0.12461, 0.13458, 0.07477, 0.01495, -0.04985, -0.01994, 1.03430, -0.63055, -0.09471, -0.04486, -0.00498, 0.07975, 0.32898, 0.50594, 0.35889, 0.11963, 0.07975, 0.11963, 0.08474, -0.01994, -0.03489, -0.02991, 0.75517, -0.86483, -0.15951, -0.06978, -0.03489, 0.05982, 0.28911, 0.49098, 0.36886, 0.14455, 0.03988, 0.07975, 0.05483, -0.06480, -0.06978, -0.05483, 0.50594, -0.57572, -0.19440, -0.12960, -0.05982, 0.01495, 0.20437, 0.39877, 0.34394, 0.10468, 0.00498, 0.05982, 0.01994, -0.06480, -0.10468, -0.11465, 0.17446, -0.36886, -0.23428, -0.14954, -0.09969, -0.05982, 0.10966, 0.33895, 0.29409, 0.08972, -0.08972, -0.04486, -0.04486, -0.20437, -0.25421, -0.20437, -0.14954, 0.07975, -0.46108, -0.23428, -0.14455, -0.06480, 0.06480, 0.38880, 0.51591, 0.25421, 0.07975, 0.11465, 0.12960, 0.02492, -0.04486, -0.10468, -0.03489, 0.84987, -0.45609, -0.17446, -0.13957, -0.05982, 0.01994, 0.27914, 0.35391, 0.11465, -0.07975, -0.03988, -0.09471, -0.17446, -0.25920, -0.29908, -0.32898, 0.81000, -0.86981, -0.38880, -0.31403, -0.23428, -0.16948, 0.07477, 0.22431, 0.04486, -0.17446, -0.26418, -0.18443, -0.22929, -0.30406, -0.28412, -0.26917, 0.53086, -1.03430, -0.31901, -0.25421, -0.23428, -0.14954, 0.08972, 0.23926, 0.18443, -0.07975, -0.15452, -0.08972, -0.12461, -0.26418, -0.28911, -0.28911, 0.23428, -0.89474, -0.41621, -0.36388, -0.33397, -0.21434, -0.04985, 0.20935, 0.19440, -0.11465, -0.20935, -0.14954, -0.13957, -0.25421, -0.31901, -0.26917, -0.01495, -0.65049, -0.43615, -0.34892, -0.32898, -0.25421, -0.08474, 0.14455, 0.09969, -0.14455, -0.22929, -0.13957, -0.18941, -0.33397, -0.40624, -0.41621, -0.22929, -0.34892, -0.68040, -0.51092, -0.48101, -0.49098, -0.22431, -0.07477, 0.00997, -0.23926, -0.45609, -0.43117, -0.39378, -0.47104, -0.51591, -0.54083, -0.55080, 0.09969, -0.80003, -0.56077, -0.50594, -0.47104, -0.46108, -0.17945, -0.07477, -0.22431, -0.36388, -0.32400, -0.32898, -0.39877, -0.47104, -0.49597, -0.51591, 0.36388, -0.83991, -0.65049, -0.67541, -0.61560, -0.48101, -0.26418, -0.09969, -0.17945, -0.31403, -0.30905, -0.28911, -0.34892, -0.44114, -0.45609, -0.46108, 0.25421, -0.84489, -0.50594, -0.46108, -0.43117, -0.33895, -0.15951, 0.01495, -0.08474, -0.28412, -0.30905, -0.27415, -0.30406, -0.38381, -0.39877, -0.37883, 0.12960, -0.67043, -0.38381, -0.28911, -0.21932, -0.14954, 0.00000, 0.13957, 0.12960, -0.02991, -0.09969, -0.01994, -0.04486, -0.16948, -0.22929, -0.23428, -0.16449, -0.18443, -0.33397, -0.26418, -0.23428, -0.17446, -0.06978, 0.11465, 0.16449, 0.01495, -0.09969, -0.05982, -0.04985, -0.17945, -0.20437, -0.17945, -0.15452, 0.32400, -0.27914, -0.10966, -0.10966, -0.08972, 0.02991, 0.25421, 0.31403, 0.16948, 0.01994, 0.06978, 0.06480, -0.03988, -0.11465, -0.12960, -0.12960, 0.67541, -0.37384, -0.16449, -0.13458, -0.10468, 0.01495, 0.20437, 0.30905, 0.16449, 0.01495, 0.03988, 0.06978, 0.00000, -0.06480, -0.05483, -0.05483, 0.84987, -0.32898, -0.04985, -0.02492, -0.00997, 0.15951, 0.31901, 0.39877, 0.29908, 0.16948, 0.12461, 0.16948, 0.09969, 0.00498, -0.00498, -0.01495, 0.60064, -0.52089, -0.06978, -0.03988, -0.02991, 0.03988, 0.18941, 0.32400, 0.28911, 0.13957, 0.06480, 0.11963, 0.08474, -0.03988, -0.04985, -0.03988, 0.43615, -0.43117, -0.08474, -0.02492, 0.00000, 0.06978, 0.20935, 0.35889, 0.35391, 0.17945, 0.09969, 0.16449, 0.12461, -0.00498, -0.01994, -0.02991, 0.22431, -0.25920, -0.14455, -0.07975, -0.04985, -0.01495, 0.12461, 0.29908, 0.29409, 0.11963, 0.02991, 0.08972, 0.07477, -0.03988, -0.06480, -0.08474, 0.05483, 0.04985, -0.19440, -0.09471, -0.03988, 0.02492, 0.14954, 0.34394, 0.37384, 0.19440, 0.09969, 0.14954, 0.15452, 0.04985, 0.00498, 0.00997, 0.00000, 0.48600, -0.17446, -0.03988, -0.03489, 0.00498, 0.12461, 0.31901, 0.39378, 0.23926, 0.10966, 0.14954, 0.13957, 0.04486, -0.01994, -0.02492, -0.04985, 0.84987, -0.29409, -0.05483, -0.02991, 0.01495, 0.09969, 0.28911, 0.40624, 0.29908, 0.17446, 0.19440, 0.18443, 0.12461, 0.04486, 0.03988, 0.01495, 0.82994, -0.39378, -0.01994, 0.00997, 0.02991, 0.10966, 0.26917, 0.37384, 0.28911, 0.12461, 0.10966, 0.12960, 0.08474, -0.02492, -0.02492, -0.07477, 0.53086, -0.54581, -0.10966, 0.00997, 0.09471, 0.18941, 0.42618, 0.62557, 0.56077, 0.40624, 0.36388, 0.41621, 0.40624, 0.31901, 0.29409, 0.31901, 0.73523, -0.10468, 0.14455, 0.36886, 0.32400, 0.30905, 0.45609, 0.59068, 0.54581, 0.32400, 0.24923, 0.28911, 0.24923, 0.12461, 0.09969, 0.09969, 0.23926, 0.01495, -0.01994, 0.03988, 0.05483, 0.09969, 0.22929, 0.39877, 0.42618, 0.25920, 0.16449, 0.23926, 0.22929, 0.10966, 0.05982, 0.08474, 0.12960, 0.27415, -0.07477, 0.04486, 0.03988, 0.07975, 0.18941, 0.35391, 0.39378, 0.22431, 0.09969, 0.15452, 0.14455, 0.02492, -0.01994, -0.02492, -0.03489, 0.59068, -0.23926, -0.06978, -0.05982, -0.00997, 0.09471, 0.30406, 0.37883, 0.23926, 0.10468, 0.15452, 0.12960, 0.06480, 0.00997, 0.03489, 0.01495, 0.93960, -0.24923, 0.00498, 0.02991, 0.05982, 0.15452, 0.32400, 0.43117, 0.31901, 0.14954, 0.13458, 0.13957, 0.08972, 0.00000, -0.01495, -0.01994, 0.72027, -0.52089, -0.05982, -0.03489, -0.00498, 0.06978, 0.22431, 0.36388, 0.30905, 0.14455, 0.10468, 0.14455, 0.10966, 0.01495, -0.01495, -0.00997, 0.51092, -0.53584, -0.10468, -0.06978, -0.02991, 0.01994, 0.15452, 0.32400, 0.24425, 0.06480, -0.00498, 0.05483, 0.04486, -0.07975, -0.11465, -0.11465, 0.21932, -0.27914, -0.20437, -0.12960, -0.08972, -0.01994, 0.14455, 0.32400, 0.30406, 0.11465, 0.03489, 0.07975, 0.08474, -0.02991, -0.06978, -0.06480, 0.01994, 0.06480, -0.16948, -0.07975, -0.05982, -0.00498, 0.10966, 0.28911, 0.31901, 0.15951, 0.03988, 0.08474, 0.08474, -0.02991, -0.08474, -0.07477, -0.07975, 0.51591, -0.26917, -0.11465, -0.08972, -0.04486, 0.06978, 0.23926, 0.32898, 0.15951, 0.02492, 0.05982, 0.05483, -0.03489, -0.11465, -0.11465, -0.12960, 0.71529, -0.44114, -0.16449, -0.12960, -0.10468, 0.00000, 0.15452, 0.26917, 0.15452, 0.00000, 0.01495, 0.01495, -0.02492, -0.09969, -0.09969, -0.12461, 0.68040, -0.53086, -0.15452, -0.12960, -0.09969, -0.02991, 0.14954, 0.29908, 0.20935, 0.04486, 0.00000, 0.05483, 0.01495, -0.08972, -0.10966, -0.09969, 0.33895, -0.54083, -0.16948, -0.13458, -0.11465, -0.05483, 0.08474, 0.24923, 0.23428, 0.06480, -0.01994, 0.05483, 0.01994, -0.08474, -0.13957, -0.12461, 0.08972, -0.22431, -0.21434, -0.12960, -0.11465, -0.07477, 0.06480, 0.22431, 0.22929, 0.04985, -0.03988, 0.03988, 0.00498, -0.11963, -0.17945, -0.17446, -0.12960, 0.05483, -0.32400, -0.21434, -0.18941, -0.15951, -0.03988, 0.13957, 0.20935, 0.02492, -0.08972, -0.02991, -0.03489, -0.12461, -0.17945, -0.18443, -0.15951, 0.56077, -0.36388, -0.18443, -0.14954, -0.09471, -0.00498, 0.18443, 0.25920, 0.09969, -0.02991, -0.00997, -0.01994, -0.08972, -0.15951, -0.15951, -0.18443, 0.71031, -0.49098, -0.20437, -0.18941, -0.16449, -0.07477, 0.08474, 0.20437, 0.11465, -0.06978, -0.07477, -0.03988, -0.09969, -0.19440, -0.19938, -0.20437, 0.46606, -0.70034, -0.21434, -0.17945, -0.15452, -0.06978, 0.07975, 0.22929, 0.17446, -0.00997, -0.05483, -0.00498, -0.06480, -0.18941, -0.20935, -0.21434, 0.26418, -0.64551, -0.25920, -0.20935, -0.20437, -0.14954, -0.00498, 0.13957, 0.11465, -0.06978, -0.11465, -0.07975, -0.09471, -0.22431, -0.27914, -0.28412, -0.08474, -0.29908, -0.38381, -0.28911, -0.26917, -0.18941, -0.05483, 0.14455, 0.16449, -0.00997, -0.11963, -0.06978, -0.07975, -0.17446, -0.21932, -0.24425, -0.17446, 0.20437, -0.37384, -0.25421, -0.22929, -0.17945, -0.05982, 0.11963, 0.20437, 0.02991, -0.07477, -0.02991, -0.04486, -0.12960, -0.20437, -0.19440, -0.24425, 0.66544, -0.47603, -0.25920, -0.21434, -0.18941, -0.11465, 0.06978, 0.17446, 0.08972, -0.06978, -0.03988, -0.01495, -0.08474, -0.17446, -0.17446, -0.18941, 0.59566, -0.58569, -0.19938, -0.16948, -0.15452, -0.09471, 0.05982, 0.16948, 0.11963, -0.04985, -0.07975, -0.07477, -0.11465, -0.21932, -0.25421, -0.26917, 0.24923, -0.75517, -0.34394, -0.29908, -0.26917, -0.18443, -0.01495, 0.10966, 0.09969, -0.10468, -0.15452, -0.09969, -0.09969, -0.20935, -0.23926, -0.22929, 0.12960, -0.34892, -0.30406, -0.24923, -0.21932, -0.15452, 0.00997, 0.17446, 0.17446, -0.01495, -0.10966, -0.02492, -0.02991, -0.13957, -0.17945, -0.19440, -0.17446, 0.03988, -0.33895, -0.22929, -0.19938, -0.15951, -0.04985, 0.11963, 0.15452, 0.00000, -0.10468, -0.04486, -0.03489, -0.17446, -0.20437, -0.19440, -0.22431, 0.54581, -0.39877, -0.19938, -0.17945, -0.12461, -0.02991, 0.15452, 0.24425, 0.10966, -0.02492, 0.01495, 0.00000, -0.12461, -0.18443, -0.21434, -0.20437, 0.63554, -0.56077, -0.26917, -0.24425, -0.21434, -0.14954, 0.05483, 0.14455, 0.03489, -0.11465, -0.12960, -0.09471, -0.16449, -0.19440, -0.19440, -0.20437, 0.52588, -0.58569, -0.23428, -0.18443, -0.15951, -0.08474, 0.11465, 0.24425, 0.14954, -0.00997, -0.06978, 0.00498, -0.00997, -0.10966, -0.13957, -0.13957, 0.26418, -0.53086, -0.21434, -0.17446, -0.14954, -0.10468, 0.05483, 0.19938, 0.18443, 0.02991, -0.04486, 0.02492, 0.00997, -0.11963, -0.16449, -0.14954, -0.01994, -0.19440, -0.23926, -0.15951, -0.13957, -0.08474, 0.05483, 0.23428, 0.25920, 0.11465, 0.01994, 0.08474, 0.06480, -0.07477, -0.13458, -0.13458, -0.10468, 0.14954, -0.30905, -0.18941, -0.17446, -0.13957, -0.02991, 0.17446, 0.19938, 0.03489, -0.06480, -0.01495, -0.03489, -0.14455, -0.18443, -0.18941, -0.20437, 0.57572, -0.41621, -0.19938, -0.17446, -0.10468, -0.01994, 0.19938, 0.23926, 0.11963, -0.00498, 0.01495, -0.00498, -0.03988, -0.13458, -0.10468, -0.13458, 0.73024, -0.47104, -0.18443, -0.14455, -0.12960, -0.02492, 0.15951, 0.25920, 0.14455, 0.00000, -0.01495, -0.02492, -0.06978, -0.12461, -0.15452, -0.21434, 0.40624, -0.68040, -0.26917, -0.25920, -0.22929, -0.19938, -0.02492, 0.12960, 0.08474, -0.06480, -0.12461, -0.03988, -0.07975, -0.20437, -0.25920, -0.22431, 0.04985, -0.41621, -0.33397, -0.29409, -0.27914, -0.23926, -0.11465, 0.02991, 0.07975, -0.14455, -0.23428, -0.15951, -0.17446, -0.27914, -0.32400, -0.32400, -0.25421, -0.07477, -0.44612, -0.32898, -0.28412, -0.23926, -0.09969, 0.08474, 0.13458, -0.04985, -0.12960, -0.06978, -0.08474, -0.19938, -0.24425, -0.21434, -0.25920, 0.55080, -0.37883, -0.25920, -0.21932, -0.18443, -0.08972, 0.08474, 0.15951, 0.06480, -0.05982, -0.03988, -0.05483, -0.13957, -0.21434, -0.18941, -0.21434, 0.65049, -0.59068, -0.22431, -0.20437, -0.18941, -0.11963, 0.02991, 0.11465, 0.07477, -0.07477, -0.07975, -0.07975, -0.11963, -0.21434, -0.22431, -0.19938, 0.31901, -0.65049, -0.25920, -0.21932, -0.22431, -0.13957, 0.04985, 0.15951, 0.07975, -0.05483, -0.11465, -0.05483, -0.07975, -0.15951, -0.17945, -0.17446, 0.16948, -0.41621, -0.29409, -0.21434, -0.19938, -0.12461, 0.02492, 0.18941, 0.14455, -0.02492, -0.09471, -0.03489, -0.03489, -0.14455, -0.18443, -0.18443, -0.18443, 0.06978, -0.31901, -0.23926, -0.19440, -0.14954, -0.03988, 0.13957, 0.17945, 0.02991, -0.10468, -0.02991, -0.03988, -0.14954, -0.16948, -0.16449, -0.21932, 0.68538, -0.35391, -0.16948, -0.15951, -0.11963, -0.03489, 0.14455, 0.22929, 0.13957, 0.00000, 0.03988, 0.03489, -0.05483, -0.12960, -0.13957, -0.14954, 0.75517, -0.46108, -0.14455, -0.13957, -0.10468, -0.01994, 0.13957, 0.24923, 0.17446, 0.00498, 0.01994, 0.01994, -0.05483, -0.13957, -0.15452, -0.17446, 0.57572, -0.61061, -0.17945, -0.14455, -0.12960, -0.04985, 0.12461, 0.25421, 0.20437, 0.05483, 0.03489, 0.05483, -0.00997, -0.11465, -0.13957, -0.14455, 0.37883, -0.68040, -0.20437, -0.17945, -0.13957, -0.08972, 0.06480, 0.21932, 0.17945, 0.01495, -0.03988, 0.00498, -0.04486, -0.15452, -0.15452, -0.17446, 0.23428, -0.44612, -0.23428, -0.17446, -0.15951, -0.08972, 0.04486, 0.21932, 0.19938, 0.02492, -0.05483, 0.02492, 0.00498, -0.09969, -0.13957, -0.12461, -0.01495, -0.14954, -0.26418, -0.18941, -0.16449, -0.10966, 0.00498, 0.18443, 0.19938, 0.03489, -0.05982, -0.00498, -0.00997, -0.10468, -0.16449, -0.15951, -0.19938, 0.42120, -0.37384, -0.19938, -0.16948, -0.13957, -0.04486, 0.12960, 0.20935, 0.08972, -0.02991, 0.02492, 0.00997, -0.09471, -0.16449, -0.16948, -0.17446, 0.66046, -0.43615, -0.19440, -0.17945, -0.15951, -0.10468, 0.05483, 0.16449, 0.05982, -0.08972, -0.06978, -0.06978, -0.15951, -0.22929, -0.22929, -0.23428, 0.55080, -0.64551, -0.27914, -0.25920, -0.19440, -0.11465, 0.07975, 0.18941, 0.08474, -0.05483, -0.07477, -0.05982, -0.08972, -0.15452, -0.15951, -0.16449, 0.48600, -0.63055, -0.19938, -0.16948, -0.13957, -0.08972, 0.08474, 0.21932, 0.16449, 0.00000, -0.04486, 0.00997, -0.01994, -0.13458, -0.15951, -0.16449, 0.10468, -0.43117, -0.24923, -0.18443, -0.15951, -0.11963, 0.01495, 0.17446, 0.19938, 0.03988, -0.03489, 0.05483, 0.03988, -0.08474, -0.12461, -0.13458, -0.02492, -0.03489, -0.22929, -0.13458, -0.11963, -0.07975, 0.02991, 0.18443, 0.21434, 0.05483, -0.05483, -0.01495, -0.00997, -0.15452, -0.20437, -0.20437, -0.20437, 0.26418, -0.43615, -0.25421, -0.24923, -0.16948, -0.08474, 0.10966, 0.19938, 0.03489, -0.08474, -0.04486, -0.07477, -0.12461, -0.21434, -0.18941, -0.19938, 0.67043, -0.42618, -0.24425, -0.20437, -0.16948, -0.06480, 0.10468, 0.20437, 0.08474, -0.06978, -0.04985, -0.03988, -0.09969, -0.18443, -0.21434, -0.23926, 0.54581, -0.65049, -0.25920, -0.23428, -0.19938, -0.13957, 0.01495, 0.14455, 0.08972, -0.06978, -0.08474, -0.04486, -0.09471, -0.18941, -0.19938, -0.19938, 0.30406, -0.67043, -0.21932, -0.16948, -0.14455, -0.10966, 0.04985, 0.18941, 0.17945, 0.00000, -0.06480, -0.01495, -0.06978, -0.17945, -0.20935, -0.19938, 0.13957, -0.49597, -0.28412, -0.20935, -0.21434, -0.18941, -0.05483, 0.10468, 0.09969, -0.07477, -0.15951, -0.08474, -0.10966, -0.21434, -0.25920, -0.25421, -0.11465, -0.17945, -0.35391, -0.27914, -0.24425, -0.18443, -0.05982, 0.13458, 0.11963, -0.04985, -0.11963, -0.07477, -0.06480, -0.16449, -0.20437, -0.21434, -0.20437, 0.18443, -0.37883, -0.25421, -0.21434, -0.18941, -0.07975, 0.11963, 0.18941, 0.02991, -0.07975, -0.02492, -0.05982, -0.12960, -0.21434, -0.20935, -0.26418, 0.64052, -0.49597, -0.24425, -0.22431, -0.19440, -0.12461, 0.06978, 0.17945, 0.09969, -0.01994, 0.00997, 0.00498, -0.06978, -0.14954, -0.15452, -0.17945, 0.58071, -0.61061, -0.20437, -0.17945, -0.15452, -0.08972, 0.07975, 0.20437, 0.13957, -0.01495, -0.03489, 0.00000, -0.04985, -0.15452, -0.18443, -0.19440, 0.32400, -0.75018, -0.29409, -0.25920, -0.20437, -0.15951, 0.01495, 0.15951, 0.10468, -0.08474, -0.12461, -0.03988, -0.08972, -0.18443, -0.20935, -0.18443, 0.19440, -0.38880, -0.26418, -0.17945, -0.16948, -0.10468, 0.02492, 0.19938, 0.18941, -0.00997, -0.06978, -0.00498, -0.00997, -0.12461, -0.15452, -0.15951, -0.05483, -0.11963, -0.26418, -0.19440, -0.16948, -0.13458, -0.00498, 0.17945, 0.19440, 0.03988, -0.06480, 0.00000, -0.00498, -0.12461, -0.16449, -0.15452, -0.19440, 0.51092, -0.35391, -0.16948, -0.14455, -0.09969, 0.00498, 0.18443, 0.26418, 0.14455, -0.00498, 0.03489, 0.00997, -0.05982, -0.14954, -0.16449, -0.18443, 0.66046, -0.51591, -0.23926, -0.17945, -0.15951, -0.04486, 0.12960, 0.23428, 0.11963, -0.02492, 0.00000, -0.00997, -0.04486, -0.13957, -0.15951, -0.14455, 0.65547, -0.50095, -0.13957, -0.10468, -0.08972, -0.00498, 0.18443, 0.31901, 0.24425, 0.06480, 0.03988, 0.07477, 0.03988, -0.04486, -0.08474, -0.08972, 0.40624, -0.57074, -0.13458, -0.12461, -0.09969, -0.04486, 0.10468, 0.25920, 0.21932, 0.05982, -0.00997, 0.06480, 0.01994, -0.10966, -0.10468, -0.10468, 0.19440, -0.28911, -0.15452, -0.07975, -0.06978, 0.00997, 0.12960, 0.29908, 0.28911, 0.12461, 0.04985, 0.12461, 0.07975, -0.04486, -0.08972, -0.09969, 0.00000, -0.08972, -0.22929, -0.13458, -0.11465, -0.04985, 0.05982, 0.21434, 0.26418, 0.09471, -0.01994, 0.04985, 0.04486, -0.08972, -0.14954, -0.13957, -0.15951, 0.30406, -0.35889, -0.16948, -0.14954, -0.08972, -0.00498, 0.19440, 0.25920, 0.12960, 0.00000, 0.05483, 0.04985, -0.05483, -0.11465, -0.10966, -0.12461, 0.74021, -0.33397, -0.13957, -0.11465, -0.08972, 0.00498, 0.19440, 0.28911, 0.16449, 0.01994, 0.02991, 0.03489, -0.01994, -0.08474, -0.09471, -0.12960, 0.62058, -0.57572, -0.13458, -0.12461, -0.11465, -0.04486, 0.13458, 0.25920, 0.18941, 0.04486, 0.00997, 0.07477, 0.03489, -0.06480, -0.08972, -0.08474, 0.38880, -0.58569, -0.15452, -0.11465, -0.08972, -0.02492, 0.10468, 0.25421, 0.21932, 0.05982, 0.00498, 0.07975, 0.03489, -0.10468, -0.12461, -0.13458, 0.12461, -0.39877, -0.24425, -0.18443, -0.17446, -0.11963, 0.00997, 0.18443, 0.17945, 0.02991, -0.06978, -0.00997, -0.01495, -0.11963, -0.16449, -0.14954, -0.00498, 0.00498, -0.23926, -0.15951, -0.12960, -0.07975, 0.05982, 0.21932, 0.25920, 0.07477, -0.03988, 0.02991, 0.00000, -0.09969, -0.13957, -0.12461, -0.15951, 0.47104, -0.30406, -0.16449, -0.14455, -0.08972, 0.00997, 0.18443, 0.25421, 0.10966, -0.01994, 0.00498, 0.00498, -0.07975, -0.12461, -0.13458, -0.16948, 0.71031, -0.51092, -0.17945, -0.14455, -0.11465, -0.02991, 0.14455, 0.25920, 0.18443, 0.03988, 0.03489, 0.05982, 0.00997, -0.09969, -0.11465, -0.12960, 0.49597, -0.65547, -0.17945, -0.14455, -0.14455, -0.10468, 0.06978, 0.19440, 0.15452, -0.01994, -0.06480, -0.01495, -0.06978, -0.17446, -0.17945, -0.16449, 0.21434, -0.50095, -0.25920, -0.19938, -0.17446, -0.11465, 0.05483, 0.21932, 0.19440, -0.00498, -0.06480, -0.00498, -0.00997, -0.10966, -0.12960, -0.11465, 0.04985, -0.11465, -0.17945, -0.11465, -0.09471, -0.03489, 0.08972, 0.26418, 0.26418, 0.09969, 0.00000, 0.06480, 0.04985, -0.08972, -0.11963, -0.12960, -0.18941, 0.51092, -0.34394, -0.16449, -0.15951, -0.09969, -0.01994, 0.15452, 0.23926, 0.11963, -0.00498, 0.05982, 0.05483, -0.02991, -0.09969, -0.10468, -0.12461, 0.75517, -0.41621, -0.14954, -0.11963, -0.12461, -0.04985, 0.11465, 0.18443, 0.07975, -0.04985, -0.07477, -0.07477, -0.14455, -0.19938, -0.22929, -0.23428, 0.48600, -0.70034, -0.26418, -0.21932, -0.17945, -0.09969, 0.08474, 0.19938, 0.13957, -0.03988, -0.07477, -0.04985, -0.07975, -0.15452, -0.15951, -0.16948, 0.34892, -0.56575, -0.19938, -0.18443, -0.14455, -0.08972, 0.05483, 0.20437, 0.16449, -0.00997, -0.07477, 0.00997, -0.01495, -0.14455, -0.19440, -0.18941, -0.12960, -0.17945, -0.30905, -0.20935, -0.19938, -0.14954, -0.03489, 0.12960, 0.15452, 0.00498, -0.07477, 0.00000, 0.00498, -0.10966, -0.15951, -0.15951, -0.17446, 0.36388, -0.33895, -0.17446, -0.17446, -0.12461, -0.04486, 0.11963, 0.17945, 0.03489, -0.09471, -0.05483, -0.07477, -0.17446, -0.24425, -0.23428, -0.26418, 0.56077, -0.57074, -0.32400, -0.27914, -0.24923, -0.15452, 0.03489, 0.13458, 0.02991, -0.11963, -0.12461, -0.10468, -0.12461, -0.22929, -0.19440, -0.21434, 0.57074, -0.61061, -0.24923, -0.23428, -0.20935, -0.12960, 0.04486, 0.16948, 0.06978, -0.09471, -0.11963, -0.06978, -0.08972, -0.17945, -0.19440, -0.16449, 0.25421, -0.54581, -0.17446, -0.10468, -0.05483, 0.00498, 0.14455, 0.26418, 0.32400, 0.11963, 0.03988, 0.06978, 0.02492, -0.11963, -0.17446, -0.18443, -0.02492, -0.18941, -0.27415, -0.23926, -0.17945, -0.15951, -0.06978, 0.12461, 0.11963, -0.04486, -0.16948, -0.13458, -0.11963, -0.29409, -0.33895, -0.34892, -0.34394, 0.01994, -0.58071, -0.45609, -0.41123, -0.34892, -0.26418, -0.11465, -0.02991, -0.19440, -0.26418, -0.23428, -0.22431, -0.35391, -0.40624, -0.39378, -0.35889, 0.40624, -0.56575, -0.39378, -0.37883, -0.34892, -0.23926, -0.04486, 0.02991, -0.09471, -0.21434, -0.16449, -0.15951, -0.19938, -0.26418, -0.25920, -0.28911, 0.52089, -0.71031, -0.36886, -0.36388, -0.35889, -0.29409, -0.13458, -0.02492, -0.09471, -0.24923, -0.28412, -0.23428, -0.28911, -0.39877, -0.41621, -0.39877, 0.11465, -0.82994, -0.39378, -0.35391, -0.31901, -0.26418, -0.10468, 0.03489, 0.01994, -0.13957, -0.20935, -0.13458, -0.16948, -0.31403, -0.35391, -0.35391, -0.11963, -0.54083, -0.45111, -0.38381, -0.35889, -0.31403, -0.19938, -0.00997, 0.03988, -0.12960, -0.18941, -0.10468, -0.09969, -0.22431, -0.27415, -0.25920, -0.18443, -0.13458, -0.35391, -0.25421, -0.20935, -0.16449, -0.05483, 0.09471, 0.14455, -0.02991, -0.13458, -0.05982, -0.07975, -0.23428, -0.29409, -0.28412, -0.30905, 0.28412, -0.54581, -0.36886, -0.32400, -0.31901, -0.19440, -0.03489, 0.07477, -0.07477, -0.19938, -0.14954, -0.16948, -0.25421, -0.29409, -0.27415, -0.29908, 0.58071, -0.58071, -0.31901, -0.29908, -0.24425, -0.14455, 0.04985, 0.15951, 0.05982, -0.08474, -0.11465, -0.08972, -0.12960, -0.18443, -0.18941, -0.20935, 0.35391, -0.70532, -0.27415, -0.24923, -0.22929, -0.16948, -0.02492, 0.12461, 0.08972, -0.06978, -0.13458, -0.07477, -0.09471, -0.23926, -0.27415, -0.26917, -0.03988, -0.47104, -0.36388, -0.30406, -0.30905, -0.20437, -0.07477, 0.04486, 0.10966, -0.06480, -0.13458, -0.02492, -0.02492, -0.10468, -0.20437, -0.18443, -0.13458, -0.03988, -0.34394, -0.23428, -0.22431, -0.21434, -0.06978, 0.08972, 0.12960, -0.01994, -0.14455, -0.06480, -0.11963, -0.22929, -0.30905, -0.27415, -0.26418, 0.23428, -0.50095, -0.33895, -0.32898, -0.25421, -0.15951, 0.04486, 0.02991, -0.10966, -0.08972, -0.09969, -0.04985, -0.22431, -0.24923, -0.19440, -0.22431, 0.60563, -0.46606, -0.28412, -0.26418, -0.22929, -0.13957, 0.03988, 0.11963, 0.00997, -0.14455, -0.12960, -0.12461, -0.18941, -0.26418, -0.27415, -0.28412, 0.53584, -0.67043, -0.29908, -0.28412, -0.22431, -0.15452, 0.01495, 0.12960, 0.06978, -0.07477, -0.09969, -0.11465, -0.15452, -0.23428, -0.24923, -0.24425, 0.33895, -0.64052, -0.29908, -0.24425, -0.23926, -0.14455, 0.00000, 0.14954, 0.09969, -0.04486, -0.12461, -0.07477, -0.14455, -0.20437, -0.19938, -0.21434, 0.07477, -0.50095, -0.42618, -0.41621, -0.34892, -0.30406, -0.14455, 0.03988, 0.02991, -0.13957, -0.17945, -0.12461, -0.09969, -0.22929, -0.23428, -0.28911, -0.29409, 0.13957, -0.42618, -0.31901, -0.28412, -0.23428, -0.16948, 0.01495, 0.03489, -0.09471, -0.18941, -0.13458, -0.13957, -0.20935, -0.25421, -0.24923, -0.30406, 0.58569, -0.46108, -0.30905, -0.28412, -0.24425, -0.13957, 0.04985, 0.12461, 0.01994, -0.13957, -0.11465, -0.11963, -0.22431, -0.28911, -0.29409, -0.27415, 0.58071, -0.62058, -0.26917, -0.22431, -0.16948, -0.09471, 0.08972, 0.19938, 0.09471, -0.01495, -0.04486, 0.00498, -0.01994, -0.07477, -0.06978, -0.05982, 0.53584, -0.54581, -0.15452, -0.12461, -0.05483, -0.01994, 0.11963, 0.26917, 0.26418, 0.09471, 0.03988, 0.08474, 0.04486, -0.08474, -0.12960, -0.12960, 0.01994, -0.25421, -0.26418, -0.19440, -0.19440, -0.16948, -0.04486, 0.13458, 0.18443, 0.04486, -0.03489, 0.05483, 0.05483, -0.10468, -0.16948, -0.18941, -0.15452, 0.15452, -0.32400, -0.20935, -0.15951, -0.12960, -0.04486, 0.14954, 0.18941, 0.03489, -0.08474, 0.00000, -0.03988, -0.14954, -0.16449, -0.15951, -0.16449, 0.64052, -0.38381, -0.18443, -0.16948, -0.11963, -0.01495, 0.18941, 0.26917, 0.10468, -0.00498, -0.00498, 0.00498, -0.02492, -0.09471, -0.09969, -0.10966, 0.76015, -0.47603, -0.13957, -0.11465, -0.08474, 0.00000, 0.16948, 0.29908, 0.20935, 0.03988, 0.00000, 0.04486, -0.00997, -0.10966, -0.10966, -0.10966, 0.39378, -0.63554, -0.17945, -0.13458, -0.11963, -0.04486, 0.11465, 0.25421, 0.24923, 0.08474, 0.00997, 0.09471, 0.04985, -0.08474, -0.11465, -0.10468, 0.17446, -0.32400, -0.20935, -0.12461, -0.11465, -0.09969, 0.02991, 0.19440, 0.18443, 0.00997, -0.08972, -0.02991, -0.03988, -0.15951, -0.21932, -0.18443, -0.13458, -0.01495, -0.34892, -0.22929, -0.18941, -0.11963, -0.00997, 0.17446, 0.23926, 0.04486, -0.05982, -0.01495, -0.00997, -0.09969, -0.12461, -0.12461, -0.15452, 0.57572, -0.30905, -0.14455, -0.13458, -0.09969, 0.00498, 0.19938, 0.27914, 0.13957, 0.00498, 0.03489, 0.05483, -0.01495, -0.10966, -0.11963, -0.14954, 0.70532, -0.56077, -0.16948, -0.14455, -0.10966, -0.03988, 0.11963, 0.23926, 0.15951, 0.01495, 0.00997, 0.05483, 0.00997, -0.10468, -0.11963, -0.11465, 0.47603, -0.63055, -0.15452, -0.12960, -0.09969, -0.05982, 0.09471, 0.20935, 0.16449, -0.00498, -0.05982, -0.03489, -0.03489, -0.16449, -0.18443, -0.15951, 0.19440, -0.43615, -0.26917, -0.21932, -0.15452, -0.06978, 0.06978, 0.23926, 0.24923, 0.06480, -0.01495, 0.03489, 0.02492, -0.06978, -0.08972, -0.09969, 0.02991, -0.00997, -0.17945, -0.10966, -0.07975, -0.01994, 0.09969, 0.27415, 0.29409, 0.11465, 0.01495, 0.06978, 0.05982, -0.05982, -0.10966, -0.11465, -0.16948, 0.59068, -0.33397, -0.14954, -0.12960, -0.09471, -0.00498, 0.16948, 0.24923, 0.12461, 0.00498, 0.05483, 0.05982, -0.01495, -0.08474, -0.08972, -0.10966, 0.76015, -0.44114, -0.14455, -0.12461, -0.08972, -0.03988, 0.10966, 0.21434, 0.12461, -0.03988, -0.03988, -0.03988, -0.09969, -0.16948, -0.15951, -0.17446, 0.53086, -0.64052, -0.22929, -0.20935, -0.15951, -0.08972, 0.13957, 0.24923, 0.16449, 0.00997, -0.01994, 0.02492, -0.00997, -0.10468, -0.10966, -0.10966, 0.35391, -0.52089, -0.18443, -0.13458, -0.10966, -0.05483, 0.07975, 0.22431, 0.20935, 0.04486, -0.02492, 0.03988, -0.00997, -0.10966, -0.16948, -0.16449, -0.06480, -0.18941, -0.28412, -0.19938, -0.16948, -0.12960, -0.00997, 0.15951, 0.20437, 0.05483, -0.02991, 0.03489, 0.03988, -0.10468, -0.16449, -0.18443, -0.18941, 0.23926, -0.39877, -0.21932, -0.22431, -0.17446, -0.08474, 0.10966, 0.17446, 0.02492, -0.10468, -0.06480, -0.06978, -0.14954, -0.22929, -0.19440, -0.21932, 0.61560, -0.45111, -0.24923, -0.21932, -0.17446, -0.06480, 0.13458, 0.21932, 0.07477, -0.06978, -0.04486, -0.02991, -0.08474, -0.15951, -0.17446, -0.20935, 0.64551, -0.59068, -0.21932, -0.19938, -0.17446, -0.09471, 0.07975, 0.18443, 0.09969, -0.05483, -0.08474, -0.04985, -0.08474, -0.19440, -0.21932, -0.21434, 0.34892, -0.74021, -0.24425, -0.20437, -0.17446, -0.11963, 0.03489, 0.18941, 0.15452, -0.00498, -0.07975, -0.00498, -0.05982, -0.18443, -0.22929, -0.21434, 0.05483, -0.40624, -0.31403, -0.25920, -0.20437, -0.16948, -0.02991, 0.12461, 0.14455, -0.04486, -0.09471, -0.04486, -0.05982, -0.18941, -0.21434, -0.19938, -0.13957, -0.00997, -0.34892, -0.24923, -0.22431, -0.15452, -0.03489, 0.14954, 0.17945, 0.01495, -0.08474, -0.02991, -0.04486, -0.11963, -0.17945, -0.17945, -0.23926, 0.63055, -0.41621, -0.22431, -0.20935, -0.17446, -0.07975, 0.08972, 0.18941, 0.06480, -0.06978, -0.04985, -0.02991, -0.08972, -0.16449, -0.18443, -0.20935, 0.58569, -0.64052, -0.24923, -0.20935, -0.23926, -0.11963, 0.02492, 0.15951, 0.10966, -0.07975, -0.03988, -0.00997, -0.04985, -0.16449, -0.18443, -0.16948, 0.39378, -0.69037, -0.19440, -0.18443, -0.17446, -0.12960, 0.02492, 0.15951, 0.11963, -0.05483, -0.10468, -0.04486, -0.08972, -0.21434, -0.23428, -0.22431, 0.13458, -0.48600, -0.34892, -0.27415, -0.23428, -0.16948, -0.03489, 0.13957, 0.13458, -0.05483, -0.13458, -0.06978, -0.06978, -0.16449, -0.19938, -0.19938, -0.08972, -0.02492, -0.30406, -0.20437, -0.16449, -0.12461, 0.00000, 0.16948, 0.22929, 0.04985, -0.06480, -0.01495, -0.02492, -0.12960, -0.19440, -0.19440, -0.23926, 0.58569, -0.43117, -0.22431, -0.20437, -0.17446, -0.08474, 0.09471, 0.19440, 0.08972, -0.04985, -0.02492, -0.00498, -0.06480, -0.13957, -0.16449, -0.15951, 0.66046, -0.57572, -0.18443, -0.17945, -0.16449, -0.09969, 0.07477, 0.17945, 0.09471, -0.06480, -0.09969, -0.05483, -0.11963, -0.18941, -0.21932, -0.20935, 0.30905, -0.66544, -0.28412, -0.22431, -0.19938, -0.11963, 0.04985, 0.17945, 0.13458, -0.02492, -0.07477, -0.00498, -0.01994, -0.13458, -0.15452, -0.15951, 0.13458, -0.35391, -0.23926, -0.17446, -0.14954, -0.08474, 0.03489, 0.20935, 0.20437, 0.03489, -0.05483, 0.00997, 0.00498, -0.13458, -0.17945, -0.18443, -0.17945, 0.18443, -0.35889, -0.21434, -0.18443, -0.14455, -0.05483, 0.14954, 0.21932, 0.10468, -0.01495, 0.03988, 0.02492, -0.06978, -0.12960, -0.14455, -0.16948, 0.64052, -0.42618, -0.20437, -0.17945, -0.15951, -0.05982, 0.09969, 0.21434, 0.10966, -0.03489, -0.02991, -0.02492, -0.09969, -0.15452, -0.16449, -0.15452, 0.66046, -0.57074, -0.17446, -0.15452, -0.10966, -0.02492, 0.16449, 0.26418, 0.17446, 0.02991, -0.00498, 0.05982, 0.02991, -0.06480, -0.07975, -0.08474, 0.47603, -0.54581, -0.10966, -0.08972, -0.04486, 0.00498, 0.15951, 0.30905, 0.27415, 0.09471, 0.02492, 0.10966, 0.05982, -0.06480, -0.09471, -0.07975, 0.10468, -0.19440, -0.18443, -0.10966, -0.09471, -0.03489, 0.08972, 0.28412, 0.31403, 0.17446, 0.06978, 0.13957, 0.12461, 0.00000, -0.05483, -0.03988, -0.01495, 0.26418, -0.21932, -0.07975, -0.05483, -0.02492, 0.07477, 0.24923, 0.31901, 0.15951, 0.04486, 0.07975, 0.05982, -0.04985, -0.10468, -0.11465, -0.12960, 0.64052, -0.44612, -0.16948, -0.15452, -0.09969, -0.00997, 0.16948, 0.28412, 0.16449, 0.00997, 0.02492, 0.04486, -0.00997, -0.05982, -0.09471, -0.09471, 0.71529, -0.49098, -0.12461, -0.08474, -0.05483, 0.01495, 0.18443, 0.31403, 0.21932, 0.04985, 0.00498, 0.05483, 0.03489, -0.06978, -0.09471, -0.09969, 0.37384, -0.50095, -0.15452, -0.11963, -0.11465, -0.04486, 0.11963, 0.27914, 0.25421, 0.06978, 0.01495, 0.08474, 0.06978, -0.03988, -0.07975, -0.06480, 0.01994, -0.01495, -0.19440, -0.08972, -0.06978, -0.02492, 0.08474, 0.26917, 0.31403, 0.14954, 0.04486, 0.07477, 0.08972, -0.05483, -0.11465, -0.10468, -0.12960, 0.52089, -0.36886, -0.17945, -0.12960, -0.10468, 0.00498, 0.20437, 0.26418, 0.13458, -0.00997, 0.03489, 0.02991, -0.07477, -0.09969, -0.09969, -0.10966, 0.78009, -0.41123, -0.13957, -0.10966, -0.07975, 0.00498, 0.19440, 0.31901, 0.17446, 0.04486, 0.00000, 0.02991, -0.01994, -0.09471, -0.12960, -0.13957, 0.46108, -0.63055, -0.16948, -0.15452, -0.12461, -0.06480, 0.11963, 0.25421, 0.21434, 0.02991, -0.01994, 0.03489, 0.00997, -0.10966, -0.12960, -0.13458, 0.05483, -0.27914, -0.22929, -0.17446, -0.13458, -0.05982, 0.05483, 0.24425, 0.25920, 0.09471, 0.00498, 0.07477, 0.05483, -0.07477, -0.11963, -0.12960, -0.10468, 0.16449, -0.32898, -0.19938, -0.19938, -0.14455, -0.03988, 0.13957, 0.18941, 0.03489, -0.06978, -0.02991, -0.02492, -0.12461, -0.18941, -0.18443, -0.19440, 0.63554, -0.42618, -0.19938, -0.17945, -0.12461, -0.04486, 0.14455, 0.24923, 0.10966, -0.02492, -0.03489, -0.02991, -0.06480, -0.14954, -0.17446, -0.17945, 0.58569, -0.60563, -0.22431, -0.19938, -0.15951, -0.07975, 0.11465, 0.22929, 0.15452, -0.01495, -0.09471, -0.02991, -0.05483, -0.16948, -0.17446, -0.18941, 0.11963, -0.45609, -0.26917, -0.20437, -0.17945, -0.10966, 0.02991, 0.19938, 0.20437, 0.03988, -0.04486, 0.02492, 0.00997, -0.10468, -0.16449, -0.16449, -0.13957, 0.04985, -0.32400, -0.18941, -0.16948, -0.14954, -0.02991, 0.14954, 0.19440, 0.03988, -0.07477, -0.02492, -0.03489, -0.14954, -0.20437, -0.21434, -0.22929, 0.57074, -0.49098, -0.26418, -0.20935, -0.16948, -0.09969, 0.13458, 0.20935, 0.06978, -0.06978, -0.05982, -0.06978, -0.09471, -0.14954, -0.19938, -0.20935, 0.58569, -0.60064, -0.25421, -0.19440, -0.18941, -0.08972, 0.07477, 0.20437, 0.11963, -0.07975, -0.10966, -0.04486, -0.08474, -0.17945, -0.20437, -0.19938, 0.16449, -0.51591, -0.27914, -0.21932, -0.19440, -0.12960, 0.00498, 0.17446, 0.17945, 0.00000, -0.07477, 0.00000, -0.00997, -0.14455, -0.16449, -0.17446, -0.16449, 0.02991, -0.33895, -0.20437, -0.17945, -0.13957, -0.03988, 0.14954, 0.21434, 0.08972, -0.01495, 0.03988, 0.00000, -0.10468, -0.18941, -0.20437, -0.23926, 0.58569, -0.43615, -0.23428, -0.22431, -0.18941, -0.10468, 0.08474, 0.18941, 0.06978, -0.09969, -0.10468, -0.08972, -0.15452, -0.21434, -0.20935, -0.22929, 0.58569, -0.59566, -0.24425, -0.20437, -0.17446, -0.09471, 0.03988, 0.15452, 0.05982, -0.04985, -0.11465, -0.01994, -0.00997, -0.15951, -0.11963, -0.15951, 0.27415, -0.56077, -0.20935, -0.19938, -0.14954, -0.11963, 0.04486, 0.13957, 0.11465, 0.00997, -0.10468, -0.01994, -0.02991, -0.17446, -0.20437, -0.17945, -0.02492, -0.23428, -0.26418, -0.19440, -0.17446, -0.10966, 0.02991, 0.17945, 0.22431, 0.05982, -0.03988, 0.04486, 0.01495, -0.12461, -0.18443, -0.16449, -0.19938, 0.18941, -0.40624, -0.24923, -0.22929, -0.19440, -0.08474, 0.08474, 0.14954, -0.01994, -0.12461, -0.07975, -0.11465, -0.19938, -0.26418, -0.23428, -0.24425, 0.61061, -0.53086, -0.26418, -0.20437, -0.18941, -0.06480, 0.12960, 0.21932, 0.07477, -0.05982, -0.07477, -0.06978, -0.08972, -0.17945, -0.19938, -0.21434, 0.40624, -0.71529, -0.25920, -0.23926, -0.20935, -0.15452, 0.00997, 0.15452, 0.10468, -0.05982, -0.10966, -0.03988, -0.06978, -0.18941, -0.21932, -0.21434, 0.00498, -0.35889, -0.30905, -0.23428, -0.22431, -0.15951, -0.01994, 0.15452, 0.18443, 0.03988, -0.08474, -0.01495, -0.03489, -0.19440, -0.24923, -0.24425, -0.23428, 0.23428, -0.46606, -0.30406, -0.25920, -0.19440, -0.12461, 0.08972, 0.15951, 0.00997, -0.11465, -0.09471, -0.08474, -0.10966, -0.20935, -0.20437, -0.19938, 0.69535, -0.49098, -0.23428, -0.19440, -0.14455, -0.04985, 0.12461, 0.22431, 0.08972, -0.04486, -0.06978, -0.03988, -0.06978, -0.16948, -0.17945, -0.18941, 0.32898, -0.70034, -0.22929, -0.20935, -0.16948, -0.11963, 0.03489, 0.19440, 0.16449, -0.00997, -0.06480, -0.00498, -0.01994, -0.15452, -0.18941, -0.16948, -0.00498, -0.25421, -0.24425, -0.17945, -0.16449, -0.09969, 0.02991, 0.21434, 0.22929, 0.04486, -0.03988, 0.00498, -0.01495, -0.15452, -0.21434, -0.20935, -0.21434, 0.33397, -0.42120, -0.24923, -0.22929, -0.14455, -0.05483, 0.13458, 0.20935, 0.04486, -0.05982, -0.03988, -0.02991, -0.07477, -0.14954, -0.16449, -0.14455, 0.74021, -0.43117, -0.16948, -0.12461, -0.09471, 0.00000, 0.19440, 0.28911, 0.18443, 0.02492, 0.02492, 0.03988, -0.01994, -0.11465, -0.12960, -0.13458, 0.39378, -0.65049, -0.17945, -0.16449, -0.14455, -0.07975, 0.05982, 0.20935, 0.18941, 0.03489, -0.04486, 0.05483, 0.00997, -0.10966, -0.11963, -0.09471, 0.08474, -0.17945, -0.17945, -0.10966, -0.07975, -0.05982, 0.05982, 0.22929, 0.23428, 0.07477, -0.04486, 0.00498, -0.00997, -0.13957, -0.17446, -0.18443, -0.14455, 0.30406, -0.35391, -0.17446, -0.15951, -0.12960, 0.01495, 0.18941, 0.23926, 0.10468, -0.01994, 0.02492, 0.03489, -0.02492, -0.08972, -0.08474, -0.11963, 0.81000, -0.36388, -0.09969, -0.09969, -0.05483, 0.01994, 0.19440, 0.29409, 0.17945, 0.03489, 0.01994, 0.06480, 0.01495, -0.09969, -0.12461, -0.12960, 0.37384, -0.65049, -0.18941, -0.14455, -0.13458, -0.06480, 0.08474, 0.24425, 0.21434, 0.06480, 0.00498, 0.08972, 0.04486, -0.05982, -0.09969, -0.08972, 0.03988, -0.12960, -0.23428, -0.15452, -0.14954, -0.07477, 0.04486, 0.20935, 0.21932, 0.06480, -0.02991, 0.01994, 0.01495, -0.09471, -0.11963, -0.10468, -0.11465, 0.35391, -0.28412, -0.16449, -0.11465, -0.06480, 0.03489, 0.24425, 0.29409, 0.15452, 0.01495, 0.04486, 0.05483, -0.01994, -0.08474, -0.08474, -0.13458, 0.76514, -0.44114, -0.15452, -0.13957, -0.09969, -0.03988, 0.14455, 0.23926, 0.13957, -0.00997, -0.01994, 0.00000, -0.04985, -0.13458, -0.14954, -0.14455, 0.39378, -0.65049, -0.16948, -0.13957, -0.11963, -0.04486, 0.11465, 0.25421, 0.23428, 0.06978, -0.00498, 0.08474, 0.02991, -0.10468, -0.12960, -0.12461, 0.10966, -0.29409, -0.21932, -0.15951, -0.12461, -0.08972, 0.02492, 0.18941, 0.20935, 0.01994, -0.06978, -0.00498, -0.01495, -0.14954, -0.16948, -0.16449, -0.14954, 0.20935, -0.35391, -0.19938, -0.14455, -0.09471, 0.02991, 0.20437, 0.25421, 0.10468, -0.00997, 0.03988, 0.01495, -0.06480, -0.10468, -0.10468, -0.12461, 0.77012, -0.36388, -0.13957, -0.10468, -0.08972, 0.01495, 0.19440, 0.29908, 0.18941, 0.04985, 0.03489, 0.05483, 0.00000, -0.08972, -0.11465, -0.12461, 0.39378, -0.65049, -0.17446, -0.14455, -0.12461, -0.06480, 0.08972, 0.24425, 0.21932, 0.06978, 0.00997, 0.09471, 0.08474, -0.02991, -0.06978, -0.05982, 0.09969, -0.15452, -0.16449, -0.09471, -0.08972, -0.03988, 0.09471, 0.25920, 0.25920, 0.10468, -0.03489, 0.04486, 0.02492, -0.07477, -0.14954, -0.13458, -0.14954, 0.32898, -0.38880, -0.21932, -0.18941, -0.13458, -0.00997, 0.15951, 0.25421, 0.10966, -0.00498, 0.03988, 0.03988, -0.03988, -0.08972, -0.09471, -0.09471, 0.82495, -0.34892, -0.09471, -0.07975, -0.02492, 0.04486, 0.23428, 0.32400, 0.22431, 0.05982, 0.02492, 0.06978, 0.00997, -0.07975, -0.09471, -0.08972, 0.37384, -0.60064, -0.16449, -0.12960, -0.10966, -0.06480, 0.09471, 0.24425, 0.20437, 0.04486, -0.02492, 0.06480, 0.03489, -0.08972, -0.09471, -0.08474, 0.03489, -0.08972, -0.18443, -0.09471, -0.08474, -0.02991, 0.07975, 0.23926, 0.25920, 0.08972, -0.02991, 0.03489, 0.04486, -0.11465, -0.14954, -0.16948, -0.18941, 0.41621, -0.39877, -0.20437, -0.18941, -0.15452, -0.04486, 0.14954, 0.20935, 0.08474, -0.06978, 0.00000, 0.00997, -0.05982, -0.12960, -0.14455, -0.14455, 0.77511, -0.41123, -0.13458, -0.12960, -0.09471, 0.00498, 0.19938, 0.27914, 0.18443, 0.02492, 0.00498, 0.03988, -0.01495, -0.10966, -0.12960, -0.12960, 0.34394, -0.64551, -0.20935, -0.16948, -0.13957, -0.08474, 0.06978, 0.21434, 0.17945, 0.00498, -0.05483, 0.02991, -0.01495, -0.14455, -0.16449, -0.15452, -0.04486, -0.15452, -0.24425, -0.13957, -0.10468, -0.04985, 0.05982, 0.23428, 0.24425, 0.10966, -0.01495, 0.01994, 0.00498, -0.16948, -0.21434, -0.21434, -0.22431, 0.41621, -0.47104, -0.24923, -0.21434, -0.15951, -0.05982, 0.13458, 0.20437, 0.07975, -0.04985, -0.03489, -0.06978, -0.08972, -0.16449, -0.15951, -0.15951, 0.71031, -0.46108, -0.16449, -0.15452, -0.12461, -0.03988, 0.15452, 0.27914, 0.15452, -0.00498, -0.02492, 0.01994, -0.01495, -0.14954, -0.18443, -0.14954, 0.26917, -0.62557, -0.22929, -0.20437, -0.16948, -0.12461, 0.02991, 0.17945, 0.13957, -0.01495, -0.08972, 0.00498, -0.02492, -0.13957, -0.16948, -0.14455, -0.06480, -0.05483, -0.22929, -0.12960, -0.09969, -0.05483, 0.04985, 0.20437, 0.23926, 0.06978, -0.05483, -0.00498, -0.00498, -0.16948, -0.19938, -0.19440, -0.21932, 0.53086, -0.42120, -0.23926, -0.18941, -0.16948, -0.06480, 0.13458, 0.18941, 0.07975, -0.01495, -0.04486, -0.00498, -0.05483, -0.12960, -0.12461, -0.14954, 0.69037, -0.49098, -0.16449, -0.13957, -0.11963, -0.03988, 0.14455, 0.27415, 0.17945, 0.01994, -0.03489, 0.01495, -0.02492, -0.13957, -0.14954, -0.14954, 0.10966, -0.43117, -0.25920, -0.19440, -0.18443, -0.12461, 0.02492, 0.19440, 0.17945, 0.01495, -0.04985, 0.02991, 0.03489, -0.08474, -0.12461, -0.10468, -0.10468, 0.25421, -0.23428, -0.08972, -0.08474, -0.03988, 0.04985, 0.22431, 0.26917, 0.10468, -0.00997, 0.01495, 0.00997, -0.09969, -0.19440, -0.16449, -0.18443, 0.66544, -0.44114, -0.20935, -0.15951, -0.11963, -0.02991, 0.15452, 0.25421, 0.14954, 0.00000, -0.02492, 0.00997, -0.03988, -0.10966, -0.10966, -0.10468, 0.53086, -0.55080, -0.15951, -0.12461, -0.10468, -0.03988, 0.13957, 0.27914, 0.20437, 0.04486, -0.02492, 0.05982, 0.00498, -0.09969, -0.12960, -0.12960, -0.02492, -0.21434, -0.24923, -0.17446, -0.14455, -0.09471, 0.00997, 0.18941, 0.21932, 0.06480, -0.02991, 0.04486, 0.03489, -0.07477, -0.11465, -0.09969, -0.14455, 0.52588, -0.28412, -0.11963, -0.09969, -0.06480, 0.02991, 0.19440, 0.28911, 0.15951, 0.02492, 0.07477, 0.04985, -0.05483, -0.11465, -0.13458, -0.13957, 0.68538, -0.49098, -0.18443, -0.16449, -0.14954, -0.08972, 0.09471, 0.17945, 0.13458, -0.03489, -0.04486, -0.02492, -0.07975, -0.16948, -0.18443, -0.15452, 0.36388, -0.60563, -0.20437, -0.17446, -0.10966, -0.06978, 0.11465, 0.23926, 0.17446, 0.02991, -0.02492, 0.03489, 0.02492, -0.08972, -0.11465, -0.11963, 0.07975, -0.19440, -0.20935, -0.12960, -0.11465, -0.06480, 0.06978, 0.24923, 0.26418, 0.10468, 0.00000, 0.08972, 0.04486, -0.06978, -0.11963, -0.11465, -0.16449, 0.62058, -0.33397, -0.14954, -0.13458, -0.09969, -0.00997, 0.17446, 0.28412, 0.17945, 0.04985, 0.08972, 0.09969, 0.01495, -0.06480, -0.08474, -0.09969, 0.68040, -0.51092, -0.11465, -0.09471, -0.07477, 0.00000, 0.15951, 0.29908, 0.22431, 0.07477, 0.05982, 0.10468, 0.05483, -0.04486, -0.06480, -0.06978, 0.42120, -0.59068, -0.12960, -0.09471, -0.05483, -0.00498, 0.14954, 0.28412, 0.27914, 0.09471, 0.00997, 0.09969, 0.07477, -0.05483, -0.08972, -0.09969, 0.05982, -0.15951, -0.22431, -0.14954, -0.10468, -0.07975, 0.06978, 0.20935, 0.24923, 0.06978, -0.02492, 0.06480, 0.05982, -0.07975, -0.09471, -0.09969, -0.06978, 0.42120, -0.26418, -0.11963, -0.08474, -0.02492, 0.07975, 0.26418, 0.33397, 0.18443, 0.06480, 0.09471, 0.08474, 0.04486, -0.04486, -0.03489, -0.05483, 0.82495, -0.41123, -0.08474, -0.07975, -0.04486, 0.01994, 0.18941, 0.30905, 0.21932, 0.06978, 0.04486, 0.08474, 0.01994, -0.05982, -0.08474, -0.05982, 0.39877, -0.59566, -0.15452, -0.09471, -0.06480, -0.01994, 0.15452, 0.30905, 0.32898, 0.14455, 0.11465, 0.16948, 0.12461, -0.00498, -0.05483, -0.06480, 0.10468, -0.12461, -0.13458, -0.06480, -0.05483, -0.01495, 0.10966, 0.22431, 0.28911, 0.11963, 0.07477, 0.19440, 0.16449, 0.03489, -0.03988, -0.01495, 0.00498, 0.40624, -0.12960, -0.00498, 0.02492, 0.07975, 0.16449, 0.36886, 0.45111, 0.32898, 0.20437, 0.26418, 0.29409, 0.15951, 0.08972, 0.12461, 0.10966, 0.81997, -0.17446, 0.07477, 0.07975, 0.13458, 0.19938, 0.36886, 0.48101, 0.37883, 0.24425, 0.26917, 0.26418, 0.19440, 0.10468, 0.06480, 0.06480, 0.65547, -0.50095, -0.02492, 0.00498, 0.04486, 0.10966, 0.25421, 0.41123, 0.34892, 0.18941, 0.13957, 0.20437, 0.16948, 0.03988, -0.01495, -0.01495, 0.31901, -0.20437, -0.13458, -0.05483, -0.01994, 0.02492, 0.16948, 0.34892, 0.32898, 0.18443, 0.08474, 0.13458, 0.12960, 0.02991, 0.00000, 0.01994, 0.01495, 0.33895, -0.13957, -0.01994, 0.00000, 0.03988, 0.12960, 0.31901, 0.37384, 0.21434, 0.08474, 0.10468, 0.10468, 0.01994, -0.06480, -0.06480, -0.09471, 0.76015, -0.48101, -0.13458, -0.08474, -0.06978, 0.00498, 0.15951, 0.26418, 0.17945, 0.03988, 0.01994, 0.07477, 0.02991, -0.07975, -0.10966, -0.07975, 0.41123, -0.59566, -0.14954, -0.09969, -0.09471, -0.02492, 0.10468, 0.22929, 0.21932, 0.05483, -0.01994, 0.07975, 0.03489, -0.11465, -0.13458, -0.12960, 0.05982, -0.25920, -0.24425, -0.17945, -0.16449, -0.12461, 0.00498, 0.16449, 0.18941, 0.04486, -0.05982, 0.00000, -0.00997, -0.12960, -0.17945, -0.16948, -0.16948, 0.24923, -0.35889, -0.21434, -0.16948, -0.13957, -0.00498, 0.16449, 0.21932, 0.10468, -0.02991, -0.02991, 0.00000, -0.09969, -0.14954, -0.14954, -0.14954, 0.72027, -0.44114, -0.17446, -0.14455, -0.08972, -0.00997, 0.17945, 0.27415, 0.16449, 0.02492, -0.00997, 0.02991, -0.00997, -0.12960, -0.16449, -0.16449, 0.29409, -0.64052, -0.21434, -0.18443, -0.16449, -0.11465, 0.03988, 0.19938, 0.16948, 0.00498, -0.04985, 0.03489, 0.00000, -0.12461, -0.15951, -0.14455, -0.03988, -0.13458, -0.25920, -0.17446, -0.16948, -0.12461, -0.01495, 0.14455, 0.19440, 0.01994, -0.05982, -0.03489, -0.02991, -0.16449, -0.20437, -0.16948, -0.19440, 0.44114, -0.39877, -0.22431, -0.18443, -0.14455, -0.03489, 0.14455, 0.22431, 0.07477, -0.03988, -0.01495, -0.01495, -0.03988, -0.13957, -0.12960, -0.15951, 0.71031, -0.50594, -0.16948, -0.13458, -0.11963, -0.03489, 0.13458, 0.24425, 0.15452, 0.00498, -0.03489, 0.03489, -0.01495, -0.14954, -0.16449, -0.17446, 0.15452, -0.54581, -0.26418, -0.20935, -0.18443, -0.13957, -0.00498, 0.14954, 0.15452, 0.00000, -0.06978, 0.02492, 0.01994, -0.10468, -0.13957, -0.16449, -0.13458, 0.00498, -0.31403, -0.24425, -0.20935, -0.15951, -0.06480, 0.12960, 0.17945, 0.00997, -0.08972, -0.06480, -0.04985, -0.12960, -0.18941, -0.18443, -0.20935, 0.61560, -0.41123, -0.22929, -0.17945, -0.13957, -0.03988, 0.15951, 0.21932, 0.09471, -0.04486, -0.04486, -0.03988, -0.05483, -0.14455, -0.15951, -0.16449, 0.54581, -0.63055, -0.19440, -0.17446, -0.15452, -0.08474, 0.08972, 0.20935, 0.14455, -0.01495, -0.06978, -0.00498, -0.03489, -0.16449, -0.18941, -0.18443, 0.01495, -0.32400, -0.26917, -0.19938, -0.17945, -0.12461, 0.00000, 0.18443, 0.20935, 0.06480, -0.02492, 0.04486, 0.04486, -0.09969, -0.13957, -0.13957, -0.15452, 0.34892, -0.32898, -0.17446, -0.14954, -0.10966, -0.00997, 0.16449, 0.22929, 0.10468, -0.01994, 0.02492, 0.01495, -0.08972, -0.13957, -0.16948, -0.18941, 0.62557, -0.55080, -0.23926, -0.21434, -0.14954, -0.09471, 0.09969, 0.19938, 0.11465, -0.03489, -0.03489, -0.02492, -0.04486, -0.13957, -0.14954, -0.14455, 0.45609, -0.58569, -0.17945, -0.14954, -0.12461, -0.04486, 0.11963, 0.24923, 0.18443, 0.00997, -0.02492, 0.04486, -0.00498, -0.10468, -0.14455, -0.14455, 0.06978, -0.26418, -0.21932, -0.17446, -0.14455, -0.07975, 0.03988, 0.20935, 0.23428, 0.06978, -0.02492, 0.02991, 0.02492, -0.09969, -0.15951, -0.11963, -0.17945, 0.56077, -0.33895, -0.15951, -0.13458, -0.08972, 0.01495, 0.18443, 0.27415, 0.15452, 0.02492, 0.04985, 0.05483, -0.01994, -0.10468, -0.11963, -0.14455, 0.67541, -0.54581, -0.18941, -0.15951, -0.11963, -0.06978, 0.10966, 0.20437, 0.13957, -0.00997, -0.04985, -0.01994, -0.05483, -0.16449, -0.18443, -0.18941, 0.28911, -0.55578, -0.21434, -0.15951, -0.14455, -0.06480, 0.10468, 0.22431, 0.22431, 0.04985, -0.00498, 0.06480, 0.05483, -0.05483, -0.10468, -0.11465, 0.00498, -0.00997, -0.22929, -0.14455, -0.11465, -0.07477, 0.04985, 0.21932, 0.26418, 0.10966, 0.00997, 0.04486, 0.02991, -0.05982, -0.11465, -0.11465, -0.14954, 0.70034, -0.43615, -0.16449, -0.14954, -0.10966, -0.01994, 0.16449, 0.27415, 0.17945, 0.04486, 0.04985, 0.09969, 0.03988, -0.05982, -0.07975, -0.08474, 0.46606, -0.61061, -0.15452, -0.11963, -0.10468, -0.04985, 0.08972, 0.22929, 0.21434, 0.04985, -0.00997, 0.03988, 0.01495, -0.11465, -0.17945, -0.15951, -0.06480, -0.13957, -0.32898, -0.21932, -0.18443, -0.13957, -0.00997, 0.17446, 0.23926, 0.08474, -0.04985, 0.00000, 0.02991, -0.05483, -0.13458, -0.11963, -0.11465, 0.73024, -0.34394, -0.15951, -0.13458, -0.08972, -0.00498, 0.17945, 0.26917, 0.13957, -0.00997, -0.03489, 0.00997, -0.00498, -0.10468, -0.12960, -0.11963, 0.36886, -0.58071, -0.17945, -0.13957, -0.10966, -0.05483, 0.08474, 0.23926, 0.21434, 0.04985, -0.01495, 0.06480, 0.07477, -0.05982, -0.09969, -0.09471, -0.12461, 0.38381, -0.28412, -0.11465, -0.09969, -0.06978, 0.01994, 0.20437, 0.26917, 0.15452, 0.03489, 0.04985, 0.05982, -0.02991, -0.10468, -0.10468, -0.12461, 0.62557, -0.58071, -0.17446, -0.15452, -0.12960, -0.06480, 0.10966, 0.23428, 0.16449, 0.00000, -0.03988, 0.00498, -0.00498, -0.12960, -0.14954, -0.11963, 0.11465, -0.15951, -0.23926, -0.12960, -0.11963, -0.02492, 0.11963, 0.26917, 0.27914, 0.09969, 0.01495, 0.06480, 0.08474, -0.00498, -0.05483, -0.04985, -0.09969, 0.81000, -0.29908, -0.08972, -0.07975, -0.03988, 0.04486, 0.21932, 0.31403, 0.20437, 0.05483, 0.01994, 0.06480, 0.01495, -0.10966, -0.11963, -0.11465, 0.26418, -0.46606, -0.18941, -0.13458, -0.10966, -0.05982, 0.08972, 0.25920, 0.28412, 0.13957, 0.07477, 0.13458, 0.10468, 0.00000, -0.05483, -0.04985, -0.08474, 0.65049, -0.29908, -0.10468, -0.07975, -0.04985, 0.03988, 0.22431, 0.31403, 0.18941, 0.05982, 0.05483, 0.05982, 0.00997, -0.08972, -0.11963, -0.12461, 0.39877, -0.68040, -0.19938, -0.14455, -0.10468, -0.02492, 0.14455, 0.28412, 0.22431, 0.08474, 0.01994, 0.10468, 0.08972, -0.00498, -0.05982, -0.04985, 0.01495, 0.24923, -0.17446, -0.04985, -0.02991, 0.00997, 0.14455, 0.34892, 0.39877, 0.21932, 0.10468, 0.13957, 0.12960, 0.06480, -0.03489, -0.03988, -0.08474, 0.71529, -0.50095, -0.09471, -0.07975, -0.04985, 0.01495, 0.18443, 0.30905, 0.24425, 0.08474, 0.02492, 0.10966, 0.06480, -0.06480, -0.06480, -0.03988, 0.11465, -0.07477, -0.11465, -0.03988, -0.01994, 0.03988, 0.15951, 0.31403, 0.34892, 0.17446, 0.05982, 0.10966, 0.06978, -0.03988, -0.09969, -0.10966, -0.13458, 0.67541, -0.43615, -0.15452, -0.12461, -0.08972, -0.01495, 0.18443, 0.29908, 0.15452, 0.00000, 0.00498, 0.06480, 0.02492, -0.09969, -0.09969, -0.08972, 0.41123, -0.38880, -0.12461, -0.07477, -0.04486, 0.00997, 0.19440, 0.36886, 0.35391, 0.17945, 0.08474, 0.14455, 0.14455, 0.01994, -0.04985, -0.04985, -0.11963, 0.52089, -0.25421, -0.11465, -0.08972, -0.05483, 0.04985, 0.22431, 0.28911, 0.15951, 0.02991, 0.04985, 0.06480, -0.01495, -0.09471, -0.09969, -0.09969, 0.59068, -0.57074, -0.07477, -0.03988, -0.01495, 0.04486, 0.19938, 0.34394, 0.29908, 0.13957, 0.07477, 0.14455, 0.07975, -0.05483, -0.10966, -0.09471, 0.04486, -0.17945, -0.22929, -0.13458, -0.10468, -0.07975, 0.02991, 0.20437, 0.23428, 0.06480, -0.03988, 0.01495, -0.00498, -0.08972, -0.14954, -0.14954, -0.12960, 0.68040, -0.36886, -0.13458, -0.09969, -0.06480, 0.03489, 0.20437, 0.30905, 0.17945, 0.03988, 0.00498, 0.01994, -0.00498, -0.09471, -0.09969, -0.11963, 0.43615, -0.55578, -0.16449, -0.10966, -0.06978, -0.01495, 0.15951, 0.32400, 0.27914, 0.08972, 0.01994, 0.07477, 0.06480, -0.06480, -0.11963, -0.10468, -0.14455, 0.35391, -0.28911, -0.14455, -0.12960, -0.08972, 0.00997, 0.20437, 0.27415, 0.16449, 0.05483, 0.09471, 0.10468, -0.00498, -0.08972, -0.12461, -0.10966, 0.62557, -0.58569, -0.16948, -0.15951, -0.14455, -0.06480, 0.09471, 0.23428, 0.16948, 0.00000, -0.05483, 0.00997, 0.00498, -0.11465, -0.12461, -0.15452, 0.18443, -0.30406, -0.24425, -0.16449, -0.11465, -0.03489, 0.10468, 0.26418, 0.27415, 0.08972, -0.00997, 0.04985, 0.04985, -0.06480, -0.10966, -0.09471, -0.14455, 0.56575, -0.29409, -0.13957, -0.10468, -0.07975, 0.00000, 0.18941, 0.27415, 0.14455, -0.00498, 0.02991, 0.02991, -0.03489, -0.14455, -0.14954, -0.15452, 0.46606, -0.68538, -0.17945, -0.15452, -0.13458, -0.06978, 0.08972, 0.23926, 0.21434, 0.06978, 0.02492, 0.09471, 0.05483, -0.07477, -0.12461, -0.12461, 0.01495, -0.13957, -0.24923, -0.16449, -0.17945, -0.12960, -0.00498, 0.15951, 0.19938, 0.03489, -0.06480, -0.01994, -0.01495, -0.14455, -0.18443, -0.15951, -0.18443, 0.56575, -0.45111, -0.19440, -0.17945, -0.10468, -0.00997, 0.17446, 0.23428, 0.14455, -0.00498, -0.01994, 0.00498, -0.02492, -0.13458, -0.11465, -0.12960, 0.45609, -0.60563, -0.16449, -0.13458, -0.10966, -0.05483, 0.09471, 0.24923, 0.21932, 0.04985, -0.02991, 0.05483, 0.02492, -0.08972, -0.14455, -0.14455, -0.13458, 0.07477, -0.29908, -0.18941, -0.17945, -0.14954, -0.03988, 0.14954, 0.19440, 0.07975, -0.01994, 0.05483, 0.04486, -0.04486, -0.10966, -0.10966, -0.13957, 0.72526, -0.43615, -0.15452, -0.12960, -0.09969, -0.01994, 0.13957, 0.21932, 0.13458, -0.01495, -0.05483, -0.00997, -0.03489, -0.16449, -0.18443, -0.19440, 0.29409, -0.62557, -0.24923, -0.20437, -0.16948, -0.07975, 0.06480, 0.21434, 0.21932, 0.02991, -0.02991, 0.04985, 0.02991, -0.06480, -0.11465, -0.12461, -0.01495, 0.14455, -0.23428, -0.13458, -0.13957, -0.11465, -0.01495, 0.17446, 0.21932, 0.04985, -0.05483, -0.02991, -0.00498, -0.06480, -0.12960, -0.12461, -0.15452, 0.78507, -0.45111, -0.13458, -0.11465, -0.07975, 0.00498, 0.19440, 0.32898, 0.22929, 0.08474, 0.04985, 0.11465, 0.07975, -0.03988, -0.05982, -0.07477, 0.35889, -0.53086, -0.15951, -0.09471, -0.06480, -0.00997, 0.14455, 0.29409, 0.29409, 0.13458, 0.04985, 0.12461, 0.08972, -0.04985, -0.11465, -0.11963, -0.09471, 0.03489, -0.29908, -0.20437, -0.17945, -0.13957, -0.01495, 0.13957, 0.20437, 0.05982, -0.05483, 0.00498, -0.01994, -0.09969, -0.12960, -0.11963, -0.15452, 0.74021, -0.37384, -0.17446, -0.14954, -0.10966, -0.02492, 0.16948, 0.26917, 0.15452, 0.00000, -0.02991, 0.00997, -0.01495, -0.10468, -0.11465, -0.11465, 0.39877, -0.62058, -0.16449, -0.13458, -0.11465, -0.05982, 0.07477, 0.21434, 0.18443, 0.02991, -0.04985, 0.03489, 0.00997, -0.09471, -0.13957, -0.13458, -0.09471, -0.02492, -0.26418, -0.15452, -0.10966, -0.06978, 0.04985, 0.23428, 0.26917, 0.13957, 0.03489, 0.10468, 0.06978, -0.04486, -0.11465, -0.12461, -0.14455, 0.69037, -0.38880, -0.14455, -0.13458, -0.10468, -0.02991, 0.13957, 0.23926, 0.16948, 0.00498, 0.00997, 0.02492, -0.04486, -0.13458, -0.16948, -0.16948, 0.39378, -0.68538, -0.21434, -0.18443, -0.12960, -0.06978, 0.06978, 0.24425, 0.19440, 0.03489, -0.00997, 0.03489, 0.02492, -0.08474, -0.12461, -0.12461, 0.03988, -0.07477, -0.22929, -0.15951, -0.12461, -0.06978, 0.05483, 0.21434, 0.25421, 0.10468, 0.00997, 0.06480, 0.02991, -0.05483, -0.09969, -0.10966, -0.16948, 0.73024, -0.38381, -0.13458, -0.12461, -0.09471, -0.01495, 0.15452, 0.25920, 0.17446, 0.03988, 0.05483, 0.07975, 0.02991, -0.05483, -0.05982, -0.05982, 0.53086, -0.58569, -0.09969, -0.07975, -0.05982, 0.00000, 0.14954, 0.30905, 0.26917, 0.08474, 0.01495, 0.09969, 0.04486, -0.07975, -0.09471, -0.08972, 0.07477, -0.14455, -0.22431, -0.14455, -0.11465, -0.06978, 0.06978, 0.24425, 0.27914, 0.10468, 0.00498, 0.10468, 0.09471, -0.00997, -0.06480, -0.03489, -0.04486, 0.66046, -0.21434, -0.05982, -0.03988, 0.02492, 0.11963, 0.30905, 0.37883, 0.25421, 0.11465, 0.14455, 0.15452, 0.09471, 0.00498, -0.01994, -0.03988, 0.67541, -0.50095, -0.06978, -0.05982]\n"
     ]
    }
   ],
   "source": [
    "vanilla_baseline = \"\"\"In addition to the answer, please provide a single paragraph under 200 words explaining why you gave the answer you did.\"\"\"\n",
    "cot_baseline = \"\"\"To come up with the correct answer, think step-by-step. You should walk through each step in your reasoning process and explain how you arrived at the answer. Describe your step-by-step reasoning in a single paragraph under 200 words. This paragraph will serve as the explanation for your answer.\"\"\"\n",
    "\n",
    "cardiac_prompt = \"\"\"You are a medical expert specializing in cardiac arrest prediction. \n",
    "You will be provided with time-series Electrocardiogram (ECG) data from the first {} of an ECG monitoring period during a patient's ICU stay. Each entry consists of a measurement value at that timestamp. The timestamps start at time {} and end at time {}. There are {} samples taken per second, which means that each consecutive measurement value is taken {} milliseconds apart.\n",
    "\n",
    "Your task is to determine whether this patient is at high risk of experiencing cardiac arrest within the next {} minutes. Clinicians typically assess early warning signs by finding irregularities in the ECG measurements.\n",
    "[BASELINE_PROMPT] Focus on the features of the data you used to make your yes or no binary classification. \n",
    "Please be assured that this judgment will be confirmed with multiple other medical experts. Please provide your best judgment without worrying about not providing the perfect answer.\n",
    "\n",
    "Your response should be formatted as follows:\n",
    "Prediction: <Yes/No>\n",
    "Explanation: <explanation>\n",
    "\n",
    "Here is the ECG data for you to analyze:\n",
    "{}\"\"\"\n",
    "\n",
    "prompt = cardiac_prompt.replace(\"[BASELINE_PROMPT]\", vanilla_baseline).format(duration_str, start_time.time(), cutoff_time.time(), new_fs, 60/new_fs, pred_window, m)\n",
    "print(prompt)"
   ]
  },
  {
   "cell_type": "code",
   "execution_count": 395,
   "id": "53deee8a-9965-4db5-b19c-d8038e38802b",
   "metadata": {},
   "outputs": [
    {
     "data": {
      "text/plain": [
       "'Prediction: Yes\\nExplanation: Analyzing the time-series ECG data, I noted significant irregularities that suggest a high risk of cardiac arrest. There are frequent drops in the ECG readings into negative values, which can indicate issues such as arrhythmia or other conduction abnormalities. The sharp transitions between these fluctuating values, especially the extreme negative deviations, could denote episodes of bradycardia or other arrhythmogenic events. Additionally, there is a lack of steady rhythm, visible in the fluctuating values, which might imply an underlying instability in cardiac function. These anomalies, combined with significant dips below the baseline and a significant range of fluctuation, highlight the patient’s high risk for an immediate cardiac event. This pattern indicates that the patient requires urgent medical attention to avert possible cardiac arrest within the next five minutes.'"
      ]
     },
     "execution_count": 395,
     "metadata": {},
     "output_type": "execute_result"
    }
   ],
   "source": [
    "response = query_openai(prompt)\n",
    "response"
   ]
  },
  {
   "cell_type": "code",
   "execution_count": 390,
   "id": "c77982b0-4a2e-47ff-bcd5-6b794de09b23",
   "metadata": {},
   "outputs": [
    {
     "data": {
      "text/plain": [
       "'Prediction: Yes\\n\\nExplanation: The ECG data provided indicates significant irregularities and potential ventricular arrhythmias, which are critical indicators of heightened cardiac arrest risk. Specifically, there are patterns of ventricular tachycardia-like segments where rapid successions of peaks are observed. Additionally, notable is the occurrence of irregular amplitude fluctuations and a few deep troughs, which may suggest underlying structural heart issues or electrolyte imbalances. Furthermore, there are significant prolonged segments of abnormal electrical activity characterized by excessively low or high amplitudes compared to the normative baseline. These features—particularly the presence of erratic variations in the ECG waveform and irregular rhythm patterns—collectively suggest the patient is at an elevated risk of experiencing cardiac arrest within the next 5 minutes. In clinical practice, such findings would typically prompt urgent evaluation and intervention to prevent potential cardiac arrest.'"
      ]
     },
     "execution_count": 390,
     "metadata": {},
     "output_type": "execute_result"
    }
   ],
   "source": [
    "response = query_openai(prompt)\n",
    "response"
   ]
  },
  {
   "cell_type": "code",
   "execution_count": 391,
   "id": "af0891a0-e677-4b41-99c6-d112c709ecc9",
   "metadata": {},
   "outputs": [
    {
     "data": {
      "text/plain": [
       "'Prediction: High Risk\\n\\nExplanation: The provided ECG data shows significant irregularities that raise concern about cardiac arrest risk. Notably, there are episodes of large negative deflections, particularly around values like -3.5 and -4.5, suggesting episodes of ventricular depolarization abnormalities or possibly severe conduction disturbances. These sudden large negative values indicate potential pathological electrical activity of the heart, perhaps signaling events like ventricular tachycardia or fibrillation, which can precede cardiac arrest. Additionally, the data contains excessive variability and multiple significant fluctuations, which are not typical of a stable, regular sinus rhythm. The presence of these irregular patterns and large deflections can signify underlying acute cardiac conditions or severe electrolyte imbalances that can increase the risk of imminent cardiac arrest. Therefore, based on the abrupt changes and extreme deflection patterns observed, the patient is at high risk.'"
      ]
     },
     "execution_count": 391,
     "metadata": {},
     "output_type": "execute_result"
    }
   ],
   "source": [
    "response = query_openai(prompt)\n",
    "response"
   ]
  },
  {
   "cell_type": "code",
   "execution_count": 357,
   "id": "936264ef-8a84-490b-90ed-c864ca76d482",
   "metadata": {
    "scrolled": true
   },
   "outputs": [
    {
     "name": "stdout",
     "output_type": "stream",
     "text": [
      "You are a medical expert specializing in cardiac arrest prediction. \n",
      "You will be provided with time-series Electrocardiogram (ECG) data from the first 7 minutes and 43.23 seconds of an ECG monitoring period during a patient's ICU stay. Each entry consists of a measurement value at that timestamp. The timestamps start at time 12:00:13.772000 and end at time 12:07:57. There are 40 samples taken per second, which means that each consecutive measurement value is taken 1.5 milliseconds apart.\n",
      "\n",
      "Your task is to determine whether this patient is at high risk of experiencing cardiac arrest within the next 5 minutes.\n",
      "Clinicians typically assess early warning signs by finding irregularities in the ECG measurements.\n",
      "Your turn! You will now be given data to analyze. To the best of your ability, predict whether or not this person would undergo cardiac arrest within the next 5 minutes. In addition to the prediction, provide a short paragraph that explains why you chose the selected class. Keep your explanation between 100-200 words and focus on the features of the data you used to make your yes or no binary classification. Your response should be formatted as follows:\n",
      "Prediction: <class>\n",
      "Explanation: <explanation>\n",
      "\n",
      "Here is the data for you to analyze:\n",
      " \n",
      "Measurement data: [-0.02492, 0.00000, 0.12461, -0.40624, -0.24923, -0.22929, -0.17945, -0.05982, 0.15452, 0.24923, 0.05483, -0.06978, 0.00000, -0.06978, -0.13458, -0.18941, -0.17446, 0.11465, -0.25920, -0.22929, -0.14954, -0.08474, -0.00997, 0.15951, 0.39877, 0.35889, 0.11465, 0.00498, -0.00498, -0.04985, -0.15951, -0.06978, -0.00997, 0.45111, -0.68040, -0.14455, -0.06978, -0.04486, -0.04486, -0.11963, -0.20935, -0.57074, -1.01935, -1.20378, -1.31593, -1.52030, -1.74461, -1.88418, -1.88418, -1.22123, -2.41504, -2.31036, -2.44495, -2.45492, -2.41504, -1.98886, -1.19880, -1.15393, -1.76455, -1.99384, -2.00381, -1.69476, -1.89913, -1.79446, -0.87978, 0.59566, 0.57572, 0.68538, 0.86981, 0.69535, -0.08474, -0.76514, -1.44553, -1.64492, -1.60006, -1.32590, -1.12403, -1.07418, -0.46606, 0.58569, 0.89972, -0.21434, -0.12960, 0.23428, 0.28911, 0.00997, -0.02492, -0.07975, -0.41123, -0.59566, -0.60064, -0.52089, -0.52588, -0.51092, -0.46108, -0.32400, 0.35889, -0.76015, -0.45111, -0.45609, -0.49098, -0.41123, -0.27914, -0.15452, -0.23926, -0.37883, -0.37384, -0.40624, -0.52089, -0.54581, -0.57074, -0.45609, 0.34892, -0.51591, -0.09969, -0.03489, -0.05982, -0.14954, -0.49597, -0.82495, -0.78009, -0.90969, -0.95455, -0.57074, -0.27914, 0.00997, -0.01495, -0.00498, 0.10966, -0.35889, -0.33895, -0.36388, -0.29409, -0.18941, -0.05982, 0.00000, -0.14954, -0.24923, -0.14455, -0.16948, -0.28412, -0.28911, -0.26418, 0.02991, -0.61560, -0.31403, -0.28412, -0.25920, -0.19938, -0.04486, 0.07477, 0.10468, -0.07477, -0.06480, -0.10468, -0.15452, -0.23428, -0.26917, -0.23428, 0.42120, -0.62557, -0.25421, -0.22431, -0.18941, -0.11465, 0.04985, 0.18443, 0.06978, -0.06978, -0.00997, -0.03489, -0.17446, -0.19440, -0.17446, -0.15951, 0.23926, -0.32898, -0.16449, -0.11465, -0.02991, 0.02492, 0.21434, 0.31901, 0.14954, 0.04985, 0.14455, 0.08972, -0.03489, -0.07477, -0.04985, 0.17446, -0.22431, -0.15452, -0.07975, -0.07975, -0.03489, 0.07975, 0.27415, 0.26418, 0.07975, 0.02991, 0.07477, 0.01994, -0.09969, -0.08474, -0.09471, 0.46606, -0.60563, -0.11465, -0.07477, -0.02991, 0.00997, 0.15951, 0.30905, 0.23926, 0.07477, 0.05982, 0.04486, -0.03489, -0.09969, -0.09969, -0.12960, 0.71529, -0.41123, -0.15452, -0.11465, -0.06978, 0.04486, 0.27914, 0.42618, 0.28412, 0.16449, 0.22929, 0.23926, 0.10468, 0.03988, 0.02492, 0.01994, 0.25421, -0.15951, -0.04985, -0.06978, -0.01495, 0.05483, 0.21932, 0.24425, 0.07975, -0.00997, 0.07975, -0.00498, -0.19440, -0.20437, -0.15951, 0.29908, -0.64052, -0.39877, -0.23428, -0.27914, -0.02492, 0.24425, 0.45111, 0.39378, 0.32400, 0.31901, 0.24923, 0.10468, 0.03489, -0.04985, -0.00498, 0.66544, -0.31901, -0.08972, -0.03988, -0.04985, 0.01994, 0.15951, 0.33397, 0.27914, 0.04486, 0.11465, 0.10468, -0.10468, -0.08474, -0.13458, -0.06978, 0.15951, -0.16948, -0.07975, -0.04985, -0.07477, 0.12960, 0.30406, 0.35391, 0.17945, 0.07477, 0.23926, 0.06978, -0.02492, -0.04985, -0.07477, 0.51092, -0.51591, -0.07477, -0.09471, 0.01994, 0.00000, 0.18443, 0.28412, 0.15452, -0.01994, -0.06480, -0.07477, -0.12960, -0.18443, -0.25421, -0.23428, 0.51591, -0.58071, -0.32400, -0.25920, -0.24923, -0.25421, -0.04985, 0.01495, -0.12960, -0.24425, -0.20437, -0.20935, -0.25421, -0.28412, -0.30905, -0.30905, 0.31901, -0.63055, -0.77511, -0.30905, -0.14954, -0.27415, 0.36886, 0.25920, 0.26917, 0.01994, -0.01495, 0.05483, 0.12461, 0.18443, -0.06978, -0.02991, -0.10966, -0.00997, -0.17446, 0.00000, 0.08972, 0.13458, 0.63055, 0.56077, 0.27914, 0.17945, 0.18443, 0.15452, 0.03988, -0.05982, -0.06480, 0.48101, -0.55080, -0.09969, -0.12960, -0.08972, -0.02991, 0.10966, 0.23428, 0.13957, -0.05982, -0.07477, -0.12461, -0.25920, -0.37883, -0.37883, -0.37883, 0.40624, -0.70034, -0.48101, -0.48600, -0.46606, -0.33895, -0.18941, -0.05483, -0.25421, -0.41621, -0.35391, -0.30905, -0.23926, -0.42120, -0.47104, -0.44114, -0.00498, -0.63055, -0.43117, -0.40624, -0.39378, -0.27415, -0.08972, -0.00997, -0.21434, -0.34892, -0.29409, -0.32400, -0.43615, -0.49098, -0.47104, -0.18443, -0.68538, -0.58071, -0.50095, -0.47104, -0.42618, -0.34892, -0.10468, -0.12960, -0.31403, -0.37384, -0.35889, -0.43615, -0.55080, -0.59068, -0.62058, 0.06978, -1.11904, -0.67541, -0.56575, -0.62557, -0.57572, -0.38381, -0.24923, -0.37384, -0.57074, -0.54083, -0.58071, -0.67043, -0.73523, -0.70532, -0.71031, 0.03489, -1.02434, -0.73024, -0.70034, -0.64551, -0.54581, -0.29409, -0.19938, -0.36886, -0.49098, -0.40624, -0.41123, -0.54581, -0.62058, -0.56077, -0.67541, -0.68538, -0.63554, -0.79504, -1.03929, -0.52588, -0.35889, -0.48101, -0.27415, -0.37883, -0.51092, -0.64052, -0.55080, -0.62557, -0.49597, -0.77012, -0.19938, -1.12901, -0.89972, -0.96452, -0.68538, -0.47104, -0.38381, -0.13458, -0.34892, -0.29409, -0.26418, -0.41621, -0.37384, -0.53086, -0.62557, -0.54581, 0.14954, -0.82495, -0.59068, -0.59068, -0.49098, -0.45111, -0.25421, -0.07975, -0.26418, -0.39877, -0.34892, -0.39877, -0.48600, -0.58071, -0.61061, -0.55080, -0.43615, -0.65547, -0.59566, -0.63055, -0.55578, -0.45609, -0.24923, -0.22929, -0.42618, -0.55578, -0.51591, -0.55578, -0.71031, -0.73024, -0.69535, -0.24425, -1.08415, -0.77511, -0.70532, -0.65049, -0.56575, -0.35391, -0.10966, -0.21932, -0.42120, -0.51092, -0.46108, -0.55578, -0.54581, -0.62557, -0.68040, 0.04486, -1.03430, -0.60563, -0.59068, -0.54083, -0.45609, -0.18443, 0.01994, -0.02991, -0.20437, -0.13957, -0.10468, -0.15951, -0.16948, -0.06480, 0.02991, 0.90969, -0.10966, 0.20437, 0.37883, 0.60064, 0.84987, 1.03430, 1.05424, 0.89972, 0.75018, 0.78009, 0.72526, 0.51591, 0.41123, 0.46606, 0.51591, 0.57572, 0.23926, 0.32400, 0.39877, 0.42120, 0.50594, 0.70034, 0.68538, 0.48101, 0.35391, 0.41123, 0.33397, 0.19440, 0.15452, 0.19938, 0.59566, -0.33895, -0.01495, -0.00498, 0.00498, 0.03988, 0.17945, 0.30406, 0.27914, 0.06978, 0.03988, 0.03489, -0.04985, -0.14954, -0.14954, -0.14455, 0.60064, -0.55080, -0.19440, -0.18443, -0.16449, -0.06978, 0.11465, 0.23926, 0.10468, -0.05982, 0.00498, 0.00498, -0.11963, -0.14954, -0.15951, -0.12960, 0.32898, -0.31901, -0.17945, -0.13458, -0.02991, 0.13458, 0.36886, 0.49098, 0.39877, 0.32400, 0.46606, 0.48600, 0.45111, 0.45609, 0.54083, 0.84987, 0.36388, 0.52588, 0.68040, 0.72526, 0.80003, 0.89474, 1.10907, 1.08914, 0.88477, 0.84489, 0.86981, 0.83991, 0.76015, 0.75517, 0.79504, 1.42560, 0.37883, 0.91966, 0.98944, 1.02434, 1.07418, 1.25113, 1.38073, 1.31593, 1.14397, 1.14895, 1.11406, 0.99941, 0.91467, 0.89474, 0.83991, 1.59009, 0.57074, 0.75517, 0.76015, 0.78009, 0.83991, 1.03430, 1.14895, 0.99941, 0.83492, 0.90969, 0.84489, 0.71031, 0.66544, 0.59068, 0.75517, 0.55080, 0.54581, 0.62058, 0.62557, 0.62058, 0.75018, 0.95455, 0.90969, 0.76015, 0.74021, 0.72027, 0.61061, 0.47603, 0.49098, 0.45609, 1.01437, -0.06480, 0.32898, 0.45111, 0.44612, 0.51591, 0.64551, 0.77012, 0.82495, 0.54083, 0.63055, 0.53086, 0.39877, 0.36886, 0.34892, 0.33397, 1.01437, 0.02492, 0.26418, 0.29908, 0.31901, 0.39877, 0.57572, 0.63554, 0.51591, 0.36886, 0.40624, 0.32400, 0.22431, 0.17945, 0.19440, 0.34892, -0.01495, 0.07477, 0.13458, 0.18941, 0.23926, 0.34394, 0.52588, 0.50594, 0.26917, 0.21932, 0.23428, 0.19440, 0.05982, 0.06480, 0.06978, 0.66046, -0.43615, 0.02991, 0.09471, 0.11465, 0.16449, 0.32898, 0.50594, 0.40624, 0.23428, 0.28911, 0.30905, 0.18941, 0.13957, 0.14455, 0.07477, 0.93461, -0.07975, 0.17446, 0.17446, 0.11465, 0.22929, 0.33397, 0.46606, 0.39378, 0.23428, 0.24923, 0.26917, 0.07975, 0.03988, 0.04985, 0.10966, 0.41621, -0.14954, 0.01495, 0.07477, 0.20437, 0.29409, 0.45609, 0.50594, 0.45609, 0.14455, 0.29908, 0.24425, 0.13957, 0.00997, 0.03489, 0.07975, 0.00498, 0.06978, 0.23926, 0.24923, 0.24923, 0.32400, 0.58569, 0.58569, 0.57572, 0.34892, 0.26917, 0.24425, 0.10468, -0.02991, -0.01495, 0.72526, -0.38381, 0.13957, 0.06978, 0.04985, 0.03489, 0.15452, 0.28412, 0.30905, 0.06480, 0.00000, -0.06978, -0.12960, -0.22929, -0.29908, -0.18443, 0.29409, -0.46606, -0.21434, -0.43117, -0.38381, -0.08972, -0.27415, 0.09969, -0.25920, -0.37384, -0.16449, -0.33895, -0.49098, -0.44114, -0.22431, -0.44114, -0.81000, -0.52089, -0.76514, -0.79006, -0.69037, -0.30406, -0.44114, -0.26418, -0.47603, -0.72027, -0.63554, -0.64052, -0.58071, -0.79504, -0.91467, -0.22929, -1.23120, -1.12901, -0.78507, -0.52089, -0.57572, -0.52089, -0.44114, -0.44612, -0.32898, -0.60064, -0.57074, -1.20877, -0.52089, -0.97947, -0.77012, -0.35889, -1.12901, -1.13400, -0.85984, -0.78507, -0.72526, -0.84489, -0.49597, -0.66544, -0.80501, -0.58569, -0.65547, -0.96452, -0.97947, -0.89972, -0.79006, -0.91467, -0.81000, -0.78507, -0.79504, -0.81498, -0.70034, -0.54083, -0.53584, -0.76514, -0.82495, -0.79006, -0.85984, -0.95455, -0.95455, -0.93461, -0.53584, -1.16390, -1.00938, -0.97449, -0.95954, -0.87480, -0.76015, -0.59068, -0.68538, -0.87480, -0.87978, -0.81997, -0.83492, -0.90470, -0.89474, -0.87978, -0.09471, -1.23120, -0.88975, -0.85984, -0.83991, -0.74021, -0.59566, -0.46606, -0.56575, -0.70034, -0.70532, -0.73024, -0.87480, -0.88975, -0.82495, -0.94458, -0.16948, -1.20378, -1.07917, -1.08914, -1.10409, -1.00938, -0.88975, -0.80501, -0.96452, -1.11406, -1.00938, -1.10409, -1.12901, -1.18384, -1.12403, -0.95954, -1.17387, -1.17387, -1.13898, -1.06920, -1.00938, -0.92464, -0.74021, -0.63554, -0.81997, -0.86981, -0.82495, -0.90470, -0.98944, -0.99443, -0.96452, -0.34892, -1.46547, -0.97449, -0.93960, -0.88975, -0.82495, -0.64052, -0.51591, -0.60064, -0.79006, -0.76514, -0.77012, -0.84489, -0.93461, -0.96452, -0.96452, -0.17945, -1.18384, -0.98446, -0.95954, -0.93461, -0.81997, -0.63554, -0.54581, -0.68040, -0.80003, -0.72526, -0.72027, -0.85486, -0.88477, -0.87480, -0.82994, -0.57572, -0.96950, -0.83991, -0.79006, -0.72027, -0.57572, -0.36388, -0.31403, -0.45111, -0.54083, -0.45609, -0.48101, -0.58569, -0.59566, -0.58569, -0.36388, -0.76514, -0.63554, -0.56077, -0.53584, -0.50095, -0.37883, -0.20437, -0.22431, -0.43615, -0.50095, -0.50095, -0.53584, -0.66046, -0.70034, -0.72027, -0.08474, -1.18384, -0.70532, -0.76514, -0.74021, -0.65049, -0.64052, -0.38880, -0.53086, -0.88477, -0.52089, -0.68040, -0.65547, -0.76015, -0.67541, -0.81997, -0.07975, -1.09412, -0.88975, -0.78507, -0.85486, -0.64551, -0.54581, -0.44114, -0.56077, -0.72027, -0.60064, -0.68538, -0.77012, -0.89474, -0.86981, -0.62058, -0.88477, -0.91966, -0.81498, -0.78009, -0.75018, -0.63554, -0.49597, -0.51591, -0.63055, -0.73523, -0.68040, -0.76015, -0.75018, -0.81000, -0.82495, -0.36886, -1.23120, -0.88477, -0.82495, -0.78009, -0.64052, -0.47104, -0.33397, -0.42120, -0.59566, -0.55578, -0.57074, -0.66544, -0.78507, -0.80003, -0.74021, 0.07975, -1.07418, -0.75018, -0.72027, -0.70034, -0.59068, -0.42120, -0.29908, -0.52089, -0.63554, -0.62058, -0.63055, -0.69535, -0.76514, -0.64551, -0.69535, 0.05483, -0.76015, -0.67541, -0.59566, -0.55080, -0.37883, -0.15951, -0.07477, -0.21932, -0.29409, -0.22929, -0.24425, -0.34892, -0.45111, -0.45111, -0.44114, -0.02492, -0.54581, -0.47603, -0.43117, -0.40624, -0.42120, -0.09471, -0.50095, -0.25920, -0.12960, -0.28911, -0.35889, -0.63055, -0.53584, -0.45111, -0.09471, -0.98446, -0.61061, -0.57572, -0.60563, -0.63055, -0.46606, -0.18443, -0.31901, -0.58569, -0.60064, -0.37384, -0.48101, -0.63554, -0.76015, -0.67541, 0.03489, -1.12403, -0.77012, -0.72526, -0.72027, -0.61061, -0.44612, -0.28412, -0.39877, -0.54581, -0.50095, -0.58071, -0.74520, -0.74520, -0.69535, -0.66046, -0.33397, -0.83991, -0.81997, -0.76015, -0.73024, -0.58569, -0.35391, -0.27415, -0.51591, -0.61061, -0.52089, -0.59068, -0.69535, -0.66544, -0.65547, -0.32898, -0.85984, -0.76514, -0.71031, -0.63554, -0.56077, -0.35889, -0.11963, -0.19938, -0.32400, -0.45609, -0.40624, -0.48101, -0.54083, -0.54083, -0.56575, 0.10468, -1.03430, -0.62557, -0.59068, -0.57074, -0.52089, -0.31901, -0.19440, -0.25421, -0.43117, -0.41621, -0.43615, -0.53086, -0.57572, -0.57074, -0.58569, 0.19440, -0.77511, -0.58071, -0.54581, -0.49098, -0.42618, -0.23428, -0.11963, -0.26917, -0.38880, -0.33397, -0.37384, -0.49098, -0.53584, -0.53086, -0.42618, -0.51092, -0.61560, -0.52089, -0.48600, -0.44612, -0.31901, -0.12461, -0.09471, -0.29908, -0.34394, -0.30406, -0.35391, -0.46606, -0.49597, -0.48101, 0.03988, -1.03430, -0.52588, -0.51591, -0.48101, -0.39877, -0.25920, -0.07477, -0.14954, -0.30406, -0.30905, -0.31403, -0.41123, -0.47603, -0.49098, -0.47104, 0.33397, -0.81000, -0.49098, -0.47104, -0.42618, -0.32400, -0.11465, 0.00997, -0.14455, -0.29908, -0.20935, -0.23926, -0.30905, -0.36388, -0.37384, -0.38381, 0.12960, -0.56575, -0.39378, -0.39877, -0.35889, -0.25920, -0.05483, 0.00000, -0.12461, -0.25421, -0.16449, -0.21932, -0.35391, -0.31403, -0.23428, -0.22929, -0.36886, -0.40624, -0.33397, -0.31403, -0.29908, -0.18443, -0.00997, 0.03489, -0.21434, -0.28412, -0.22929, -0.32400, -0.43615, -0.48600, -0.48101, 0.00498, -0.94458, -0.49597, -0.47603, -0.43615, -0.36388, -0.24425, -0.08972, -0.12960, -0.30406, -0.34394, -0.31403, -0.37384, -0.42120, -0.54083, -0.44612, 0.35391, -0.82994, -0.47104, -0.40624, -0.33895, -0.22431, -0.03988, 0.09471, -0.01994, -0.16948, -0.14954, -0.18941, -0.30905, -0.36388, -0.36886, -0.37883, 0.28412, -0.56575, -0.38381, -0.35391, -0.32400, -0.26917, -0.08474, -0.02492, -0.20437, -0.34394, -0.24425, -0.30905, -0.44612, -0.45111, -0.45609, -0.33895, -0.45609, -0.59566, -0.49597, -0.49098, -0.44114, -0.30905, -0.14455, -0.13957, -0.28412, -0.36388, -0.35889, -0.36886, -0.46606, -0.44612, -0.45111, 0.08474, -0.83492, -0.41123, -0.37384, -0.32898, -0.30406, -0.20935, -0.02492, -0.08972, -0.22929, -0.23428, -0.22929, -0.28412, -0.36886, -0.38381, -0.41123, 0.36388, -0.78507, -0.42120, -0.36886, -0.38880, -0.30905, -0.16449, -0.01495, -0.07975, -0.24425, -0.20935, -0.20437, -0.32898, -0.36886, -0.35391, -0.37384, 0.26917, -0.50095, -0.36886, -0.35889, -0.31901, -0.21932, -0.03988, 0.00997, -0.12960, -0.25421, -0.17446, -0.23926, -0.35391, -0.38880, -0.42120, -0.18443, -0.54581, -0.51591, -0.41123, -0.41621, -0.32898, -0.18941, -0.03988, -0.05982, -0.26418, -0.31403, -0.29908, -0.30905, -0.36886, -0.37883, -0.36886, 0.20437, -0.79006, -0.35889, -0.32898, -0.29908, -0.23428, -0.07975, 0.06480, -0.00997, -0.18443, -0.16948, -0.16449, -0.22431, -0.31403, -0.33895, -0.36886, 0.42120, -0.71529, -0.38880, -0.36388, -0.41621, -0.14455, -0.06978, 0.05483, -0.06978, -0.16948, -0.17446, -0.11465, -0.29908, -0.38381, -0.46606, -0.32898, 0.15452, -0.77511, -0.67541, -0.73523, -1.02932, -0.64551, -0.45111, -0.25920, -0.55080, -0.75018, -0.43615, -0.42120, -0.60064, -0.56077, -0.75018, -0.61061, -0.57074, -0.60064, -0.57572, -0.52089, -0.42618, -0.82495, -0.27415, 0.04486, -0.42120, -0.62058, -0.28412, -0.62058, -0.66046, -0.61560, -0.87978, -0.25920, -1.33587, -0.83492, -0.67043, -0.47104, -0.77511, -0.53584, -0.23926, -0.51092, -0.61560, -0.64551, -0.56575, -0.79504, -0.80003, -0.89474, -0.96452, -0.15452, -1.08914, -0.81000, -0.87978, -0.75517, -0.59068, -0.54083, -0.36388, -0.50095, -0.22929, -0.46606, -0.48600, -0.60563, -0.59068, -0.60064, -0.64551, -0.25421, -0.66046, -0.45111, -0.42120, -0.42618, -0.29908, -0.12461, -0.13458, -0.30905, -0.46606, -0.42618, -0.49597, -0.64551, -0.66046, -0.65049, -0.53086, -0.86483, -0.85984, -0.77012, -0.81000, -0.75517, -0.69535, -0.47603, -0.43615, -0.60563, -0.64052, -0.60064, -0.69535, -0.71031, -0.75517, -0.66544, -0.23428, -1.18384, -0.65547, -0.62058, -0.58569, -0.43615, -0.28412, -0.12960, -0.21932, -0.36388, -0.24923, -0.26418, -0.31901, -0.41621, -0.30406, -0.43615, 0.26917, -0.57572, -0.28911, -0.28412, -0.22929, -0.13458, 0.10966, 0.28412, 0.08972, -0.03489, -0.00498, 0.07975, -0.01994, -0.02492, 0.01994, 0.07975, -0.17945, -0.11465, 0.04486, 0.02492, 0.03489, 0.20437, 0.38381, 0.36388, 0.24923, 0.18443, 0.31403, 0.16449, 0.05982, 0.12461, 0.10468, 0.63554, -0.48600, 0.00997, 0.09969, 0.15452, 0.18941, 0.34394, 0.49098, 0.39877, 0.24923, 0.24425, 0.24425, 0.12960, 0.02492, -0.01994, -0.00997, 0.73024, -0.18941, -0.05483, 0.06480, 0.08474, 0.16948, 0.48101, 0.56575, 0.41621, 0.34892, 0.43117, 0.39378, 0.21932, 0.18443, 0.22431, 0.25421, 0.37883, 0.05483, 0.04985, 0.08474, -0.35391, 0.31403, 0.39378, 0.68538, 0.31901, 0.25920, 0.49597, 0.35889, 0.10966, 0.05982, 0.15951, 0.51092, -0.37384, -0.05483, 0.06480, 0.06480, 0.37384, 0.33895, 0.59068, 0.50594, 0.19938, 0.23428, 0.14455, 0.12461, 0.04985, 0.04985, 0.00000, 0.76015, -0.19938, 0.06480, 0.04486, 0.02492, 0.15452, 0.26418, 0.37883, 0.28911, 0.17945, 0.23926, 0.25920, 0.16948, 0.11963, 0.06480, 0.13957, 0.71031, -0.07477, 0.16948, 0.20935, 0.22929, 0.31901, 0.50095, 0.57572, 0.43117, 0.29409, 0.28412, 0.48600, 0.34394, 0.23428, 0.10966, 0.21932, 0.05483, 0.09969, -0.33895, -0.15452, 0.15951, -0.09969, 0.33895, 0.31901, -0.06978, -0.00997, 0.04486, 0.19440, 0.00997, -0.11963, 0.28911, 0.17446, -0.29409, -0.31403, -0.02991, 0.07975, -0.33397, 0.26418, 0.26418, 0.17446, -0.17446, 0.05982, -0.12461, -0.10966, -0.36388, -0.28911, -0.42120, 0.45111, -0.34394, -0.27914, -0.60064, -0.21932, -0.10966, -0.03988, 0.43615, -0.01495, -0.16948, -0.09969, -0.11465, -0.20437, -0.31403, -0.53086, -0.37384, 0.05982, -0.60563, -0.87480, -0.48600, -0.34892, -0.04985, 0.07975, 0.05982, -0.44612, -0.21932, -0.38381, -0.38880, -0.12960, -0.07975, -0.00997, 0.03489, -0.33397, 0.12960, -0.13458, -0.24923, -0.00997, 0.04985, 0.38880, 0.33895, -0.06480, -0.05982, 0.05982, -0.10468, -0.53086, -0.50594, -0.07477, 0.62557, -0.77511, -0.20437, -0.21932, -0.45609, -0.31403, -0.00498, 0.28911, 0.31403, -0.35889, -0.28911, -0.11465, -0.44612, -0.28911, -0.43117, -0.37883, 0.30406, -0.55080, -0.49098, -0.37384, -0.25421, -0.31403, -0.07477, 0.00498, -0.32400, -0.42618, -0.13957, -0.21932, -0.47603, -0.34394, -0.14455, 0.04985, -0.47603, -0.16948, -0.37384, -0.34394, -0.01994, -0.24425, 0.01495, -0.17446, -0.21434, -0.31403, -0.28911, -0.43117, -0.43117, -0.38381, -0.29409, 0.22431, -0.63554, -0.21434, -0.36388, -0.29908, -0.24923, -0.50095, 0.01495, 0.02991, -0.26418, -0.09969, -0.19938, -0.26917, -0.21932, -0.73523, -0.49098, 0.50594, -0.81000, -0.45111, -0.39378, -0.33895, -0.49098, -0.08972, 0.08972, -0.05982, -0.30406, -0.17945, -0.17446, -0.39378, -0.62058, -0.35889, -0.36886, 0.14455, -0.60064, -0.41621, -0.39877, -0.39877, -0.24923, -0.04985, 0.02991, -0.17945, -0.25421, -0.18443, -0.25421, -0.37384, -0.47603, -0.51092, -0.17446, -0.63055, -0.58569, -0.51591, -0.56575, -0.61061, -0.57074, -0.56077, -0.78507, -0.99941, -1.04427, -0.78507, -0.61560, -0.66544, -0.67043, -1.14397, -0.20437, -0.97947, -0.47603, -0.60563, -0.51092, -0.39877, -0.23926, 0.00997, 0.00000, -0.05982, -0.14954, -0.01495, 0.00997, 0.08972, 0.30905, 0.61061, 1.27606, 0.30406, 1.08415, 1.14397, 1.03929, 0.98944, 1.09910, 1.18384, 0.81997, 0.63055, 0.47104, 0.53584, 0.30406, 0.07975, -0.47104, 0.21434, 0.14954, -0.03988, -0.02991, -0.33397, -0.34394, -0.20935, 0.02492, 0.13957, -0.00498, -0.27415, 0.13458, -0.20437, -0.32400, -0.19440, -0.67043, -0.25421, -0.68040, -0.66046, -0.27914, -0.27914, -0.39877, -0.19440, 0.10468, -0.17945, -0.25920, -0.09471, -0.36886, -0.31403, -0.36886, -0.44114, -0.37883, 0.53086, -0.61061, -0.45111, -0.36886, -0.48101, -0.51591, -0.18941, -0.07975, -0.32400, -0.37384, -0.59068, -0.58071, -0.71529, -0.89474, -0.74520, -0.75517, 0.06480, -1.19381, -0.77012, -0.58569, -0.82994, -0.23926, -0.53086, -0.19938, -0.30905, -0.46108, -0.54581, -0.42120, -0.53086, -0.56575, -0.62557, -0.56575, -0.36886, -0.68538, -0.45609, -0.63554, -0.37883, -0.31901, -0.10468, 0.07477, -0.19938, -0.25920, -0.11963, -0.14954, -0.55080, -0.60064, -0.45111, -0.06978, -1.03929, -0.52588, -0.56575, -0.59566, -0.43117, -0.24923, 0.02991, 0.01994, -0.19440, -0.18941, -0.06480, -0.34394, -0.34394, -0.23926, -0.51092, 0.47104, -0.65049, -0.39378, -0.33397, -0.28412, -0.29908, -0.04985, 0.02492, -0.03988, -0.29908, -0.34394, -0.21434, -0.85486, -0.42618, -0.37883, -0.36886, 0.02492, -0.49098, -0.43117, -0.46606, -0.25421, -0.08474, 0.15951, 0.17446, 0.02492, -0.08474, -0.03489, -0.11465, -0.25920, -0.25920, -0.28412, -0.00997, -0.61061, -0.47104, -0.39378, -0.37883, -0.33895, -0.20935, 0.00498, -0.02492, -0.22431, -0.26917, -0.23926, -0.31403, -0.41123, -0.44114, -0.45111, 0.24425, -0.92963, -0.49597, -0.45111, -0.43615, -0.35391, -0.18941, -0.04486, -0.12960, -0.29908, -0.26418, -0.26917, -0.38381, -0.45609, -0.46606, -0.48600, 0.25920, -0.69535, -0.48101, -0.44612, -0.43117, -0.34394, -0.16449, -0.08474, -0.23428, -0.35391, -0.28412, -0.32400, -0.45609, -0.49597, -0.49597, -0.35391, -0.47603, -0.60563, -0.48600, -0.44114, -0.38381, -0.28412, -0.08972, -0.04985, -0.25920, -0.32898, -0.28412, -0.29908, -0.43117, -0.42120, -0.41621, 0.02991, -0.86483, -0.49597, -0.46108, -0.45111, -0.38880, -0.23428, -0.05982, -0.07975, -0.26418, -0.28412, -0.26917, -0.32898, -0.47104, -0.46606, -0.49098, 0.27415, -0.90969, -0.53086, -0.51591, -0.49098, -0.39877, -0.20935, -0.09471, -0.19938, -0.37883, -0.34394, -0.30905, -0.44612, -0.48600, -0.51591, -0.55080, 0.10966, -0.70034, -0.52588, -0.49597, -0.43615, -0.30905, -0.11465, -0.00997, -0.21434, -0.32898, -0.25421, -0.26917, -0.39877, -0.42120, -0.43117, -0.29908, -0.51591, -0.51092, -0.44114, -0.41123, -0.35391, -0.24923, -0.08474, -0.12461, -0.26917, -0.42618, -0.49098, -0.40624, -0.60563, -0.55080, -0.76015, 0.03489, -1.26110, -0.60064, -0.68538, -0.46108, -0.34394, -0.12461, -0.11465, -0.20437, -0.38880, -0.35391, -0.35391, -0.41123, -0.52588, -0.51591, -0.58071, 0.20935, -0.74021, -0.60563, -0.50095, -0.49098, -0.41123, -0.18941, -0.04486, -0.20437, -0.36388, -0.25920, -0.31403, -0.43117, -0.48101, -0.43615, -0.31901, -0.45111, -0.55080, -0.49597, -0.48600, -0.45111, -0.34892, -0.14455, -0.12461, -0.35391, -0.45111, -0.41621, -0.48600, -0.56575, -0.57074, -0.62557, -0.10966, -1.02932, -0.74021, -0.67043, -0.66046, -0.54083, -0.45609, -0.30406, -0.35391, -0.54083, -0.51092, -0.54581, -0.67541, -0.75018, -0.75018, -0.72526, 0.14954, -0.99443, -0.70034, -0.73523, -0.68040, -0.51591, -0.30905, -0.13458, -0.23926, -0.44114, -0.78009, -0.46108, -0.50095, -0.53584, -0.59566, -0.55080, 0.04486, -0.64551, -0.72027, -0.45609, -0.37883, -0.27914, 0.01994, 0.03988, -0.00498, -0.41621, -0.28911, -0.22929, -0.38381, -0.47603, -0.42120, -0.32898, -0.27914, -0.43117, -0.38381, -0.44114, -0.49098, -0.34394, -0.07477, -0.04486, -0.24923, -0.32400, -0.26917, -0.34394, -0.50095, -0.51092, -0.56575, 0.01495, -1.05424, -0.56575, -0.54083, -0.49098, -0.42120, -0.25421, -0.09471, -0.14954, -0.30905, -0.28412, -0.27914, -0.38880, -0.43117, -0.44612, -0.40624, 0.36388, -0.70034, -0.45609, -0.42618, -0.39877, -0.32400, -0.12960, 0.01994, -0.15951, -0.28412, -0.22431, -0.26418, -0.30905, -0.38381, -0.37883, -0.41123, -0.04985, -0.53584, -0.31901, -0.42120, -0.27914, -0.19440, 0.03489, 0.10966, -0.12461, -0.22431, -0.14455, -0.15452, -0.26917, -0.29409, -0.30905, -0.10468, -0.45111, -0.39378, -0.32898, -0.32400, -0.26917, -0.15951, 0.02991, 0.07975, -0.10966, -0.17446, -0.11963, -0.18941, -0.26917, -0.29908, -0.26418, 0.30406, -0.76514, -0.29409, -0.25421, -0.23926, -0.18443, -0.00498, 0.15452, 0.05982, -0.09969, -0.10966, -0.10966, -0.17446, -0.25920, -0.26418, -0.25920, 0.57572, -0.56575, -0.28412, -0.28412, -0.22929, -0.12960, 0.06978, 0.20935, 0.08474, -0.03988, 0.01994, 0.04486, -0.08474, -0.11963, -0.10966, -0.11963, 0.21932, -0.28412, -0.16449, -0.13458, -0.07477, 0.03489, 0.22431, 0.29409, 0.12960, 0.01994, 0.09969, 0.04486, -0.07975, -0.09969, -0.09471, 0.23428, -0.37883, -0.16449, -0.10966, -0.08474, -0.00997, 0.13957, 0.31403, 0.29409, 0.09969, 0.04985, 0.07477, 0.01495, -0.09471, -0.09471, -0.09969, 0.54581, -0.59566, -0.13458, -0.09471, -0.07477, 0.00498, 0.18443, 0.32898, 0.22929, 0.06978, 0.08474, 0.06480, -0.00498, -0.06978, -0.06480, -0.05982, 0.75517, -0.27914, -0.07975, -0.04486, -0.01495, 0.07975, 0.28911, 0.38381, 0.22929, 0.08972, 0.14455, 0.13957, 0.02991, -0.01994, 0.01495, 0.07477, 0.19440, -0.07477, 0.01994, 0.04985, 0.10468, 0.24425, 0.44612, 0.50095, 0.30905, 0.19938, 0.25421, 0.21434, 0.09471, 0.07477, 0.07477, 0.40624, -0.24425, -0.02492, 0.02492, 0.06978, 0.12461, 0.25920, 0.43117, 0.41621, 0.19440, 0.14954, 0.18941, 0.13458, 0.03489, 0.01994, 0.00000, 0.69535, -0.48101, -0.01994, 0.02492, 0.06480, 0.12461, 0.30905, 0.46108, 0.34892, 0.17446, 0.16948, 0.17945, 0.06480, 0.01994, 0.00498, -0.03988, 0.75517, -0.23428, -0.02991, -0.00498, 0.03489, 0.09969, 0.29908, 0.38880, 0.23428, 0.10966, 0.16948, 0.12960, 0.00000, -0.05483, -0.05982, 0.07975, -0.09471, -0.18443, -0.08474, -0.04985, -0.01994, 0.11465, 0.28412, 0.32898, 0.10966, 0.02492, 0.05483, 0.00997, -0.08474, -0.11465, -0.11963, 0.37883, -0.50594, -0.19938, -0.16449, -0.14954, -0.07477, 0.10966, 0.24923, 0.18443, -0.02492, -0.04486, -0.02492, -0.10966, -0.14954, -0.17446, -0.20437, 0.69535, -0.53086, -0.22929, -0.19938, -0.15951, -0.08972, 0.06480, 0.18443, 0.07975, -0.09969, -0.05982, -0.06978, -0.16948, -0.23428, -0.23926, -0.27415, 0.50594, -0.48101, -0.26418, -0.22431, -0.18941, -0.10966, 0.05982, 0.15951, 0.00000, -0.11465, -0.05483, -0.07975, -0.21932, -0.28911, -0.30905, -0.23428, -0.21434, -0.44114, -0.33895, -0.28911, -0.23926, -0.11963, 0.07477, 0.11963, -0.07477, -0.15452, -0.09471, -0.12461, -0.22929, -0.25920, -0.26418, 0.17446, -0.63055, -0.33397, -0.26917, -0.22929, -0.15452, 0.01495, 0.20437, 0.16948, -0.01994, -0.05483, 0.00498, -0.03988, -0.14455, -0.13458, -0.14455, 0.63554, -0.57074, -0.17446, -0.14455, -0.12960, -0.07477, 0.09969, 0.24425, 0.15452, -0.01495, 0.01495, 0.00000, -0.10468, -0.16948, -0.17446, -0.20437, 0.62058, -0.45111, -0.22431, -0.18941, -0.16449, -0.08972, 0.08474, 0.20935, 0.05982, -0.06978, -0.03489, -0.01994, -0.13458, -0.18443, -0.16948, -0.12461, 0.00997, -0.33397, -0.20935, -0.18443, -0.12960, 0.00000, 0.19440, 0.23926, 0.04486, -0.04985, 0.01994, 0.00000, -0.11963, -0.13957, -0.12461, 0.23926, -0.48600, -0.20935, -0.15951, -0.11963, -0.05982, 0.07477, 0.24425, 0.21434, 0.02991, 0.00498, 0.03988, -0.01994, -0.14455, -0.16948, -0.15951, 0.50095, -0.66046, -0.17945, -0.15452, -0.13458, -0.06978, 0.07975, 0.22929, 0.16449, -0.00997, 0.01994, 0.00997, -0.08474, -0.16449, -0.16948, -0.20935, 0.57074, -0.46108, -0.24923, -0.23926, -0.22431, -0.10966, 0.10966, 0.19440, 0.06978, -0.11963, -0.06978, -0.06978, -0.32898, -0.28412, -0.29908, -0.21434, -0.04486, -0.43615, -0.28911, -0.29908, -0.22431, -0.10468, 0.05982, 0.13957, -0.03489, -0.11465, -0.07477, -0.09969, -0.22431, -0.26917, -0.21932, 0.14455, -0.62557, -0.27914, -0.22431, -0.19938, -0.13957, 0.00498, 0.18443, 0.13957, -0.04486, -0.04486, -0.02991, -0.10966, -0.22431, -0.23926, -0.23926, 0.43117, -0.64052, -0.24425, -0.22431, -0.19938, -0.12960, 0.00997, 0.12960, 0.01994, -0.13957, -0.08972, -0.10966, -0.20935, -0.28911, -0.27914, -0.27914, 0.41123, -0.51092, -0.28911, -0.26917, -0.23428, -0.14954, 0.05483, 0.15452, 0.00498, -0.12960, -0.09969, -0.07477, -0.20437, -0.25920, -0.22431, -0.18443, -0.02991, -0.37384, -0.28911, -0.26418, -0.24923, -0.08972, 0.11465, 0.19440, -0.09969, -0.11465, -0.10468, -0.13957, -0.20437, -0.24923, -0.25421, 0.02492, -0.48600, -0.35391, -0.28911, -0.26917, -0.18941, -0.10468, 0.05982, 0.05483, -0.10966, -0.16948, -0.16449, -0.17945, -0.31403, -0.29409, -0.29908, 0.35391, -0.76514, -0.33895, -0.27914, -0.24923, -0.17945, -0.02492, 0.12461, 0.04486, -0.11465, -0.10966, -0.11465, -0.19938, -0.27415, -0.30406, -0.30905, 0.49098, -0.54581, -0.30905, -0.28412, -0.25421, -0.17446, 0.04486, 0.13458, -0.00498, -0.15452, -0.11465, -0.09471, -0.22431, -0.27914, -0.25920, -0.21434, 0.09969, -0.39378, -0.22929, -0.19938, -0.15951, -0.02991, 0.17446, 0.23428, 0.05483, -0.04985, 0.01495, 0.00000, -0.11963, -0.15452, -0.12960, -0.00498, -0.19938, -0.25421, -0.18443, -0.15452, -0.12960, 0.01994, 0.18941, 0.20437, 0.04486, -0.03988, 0.00997, -0.03489, -0.13957, -0.16449, -0.18443, 0.32898, -0.61560, -0.20437, -0.16948, -0.15452, -0.09471, 0.03988, 0.21434, 0.16449, -0.00997, -0.01994, -0.00498, -0.07477, -0.18941, -0.19938, -0.22929, 0.50095, -0.65049, -0.26418, -0.23926, -0.19440, -0.11465, 0.04985, 0.18443, 0.08474, -0.08474, -0.04985, -0.07975, -0.14455, -0.21932, -0.21434, -0.23926, 0.49098, -0.43615, -0.23926, -0.21932, -0.17446, -0.07477, 0.12960, 0.21932, 0.05483, -0.05483, 0.00997, 0.00000, -0.13458, -0.16948, -0.15951, -0.09471, -0.03988, -0.28412, -0.18443, -0.17446, -0.12461, -0.01994, 0.14954, 0.20437, 0.02991, -0.05483, 0.01495, -0.04985, -0.15452, -0.17945, -0.17446, 0.14455, -0.50594, -0.26418, -0.20437, -0.16948, -0.12960, 0.00498, 0.19938, 0.15951, -0.02492, -0.07477, -0.02991, -0.07975, -0.19938, -0.19938, -0.22431, 0.35391, -0.73523, -0.26418, -0.24923, -0.20437, -0.14954, 0.04985, 0.20437, 0.09969, -0.07477, -0.06480, -0.05982, -0.09969, -0.18443, -0.18941, -0.23428, 0.66046, -0.49098, -0.22929, -0.18941, -0.14455, -0.05982, 0.12461, 0.23428, 0.09969, -0.03489, 0.00498, -0.02492, -0.09969, -0.14954, -0.15951, -0.20437, 0.51591, -0.35391, -0.16948, -0.15951, -0.10966, -0.01495, 0.18443, 0.26917, 0.10468, -0.01495, 0.05483, 0.05483, -0.05982, -0.08972, -0.07975, -0.01495, 0.02492, -0.16449, -0.07477, -0.05982, -0.00498, 0.11465, 0.29409, 0.32400, 0.17945, 0.08474, 0.11465, 0.09969, -0.05483, -0.06480, -0.04486, 0.33397, -0.41123, -0.12461, -0.06480, -0.03489, 0.03489, 0.18941, 0.37384, 0.30406, 0.15452, 0.10468, 0.12461, 0.10966, 0.02492, -0.00498, -0.04985, 0.71529, -0.34394, -0.01495, -0.01994, 0.00997, 0.06978, 0.23926, 0.37883, 0.23926, 0.05982, 0.14954, 0.11963, 0.12461, -0.00997, -0.06978, -0.05483, 0.84987, -0.21434, -0.05982, -0.05483, -0.00997, 0.04985, 0.25421, 0.34394, 0.20935, 0.09471, 0.16948, 0.18941, 0.03489, -0.01495, 0.00000, 0.01994, 0.16449, -0.10966, -0.00997, -0.01994, 0.03489, 0.12960, 0.30406, 0.32400, 0.14455, 0.05483, 0.10468, 0.06480, -0.01495, -0.06480, -0.04486, 0.27415, -0.27415, -0.15951, -0.07477, -0.02991, 0.02991, 0.16948, 0.32400, 0.32400, 0.11963, 0.06480, 0.09969, 0.06978, -0.02991, -0.01994, -0.01994, 0.57572, -0.45609, -0.04486, -0.01495, -0.00997, -0.01994, 0.21434, 0.32400, 0.22431, 0.07975, 0.03489, 0.04486, -0.01495, -0.10468, -0.09471, -0.11963, 0.75517, -0.42618, -0.14455, -0.13458, -0.10468, -0.00498, 0.13458, 0.25421, 0.16948, 0.02492, 0.07975, 0.07975, -0.03988, -0.08972, -0.08474, -0.12960, 0.56077, -0.29409, -0.13458, -0.12461, -0.09969, -0.01495, 0.17945, 0.21932, 0.05982, -0.04985, -0.00498, -0.00498, -0.12960, -0.18941, -0.17446, -0.07477, -0.03988, -0.28911, -0.14455, -0.13458, -0.10468, 0.04985, 0.23926, 0.28412, 0.07477, 0.00997, 0.05982, 0.00997, -0.13957, -0.13458, -0.17446, 0.24425, -0.45111, -0.17446, -0.11465, -0.07975, -0.00498, 0.14455, 0.31901, 0.30406, 0.08972, 0.06480, 0.10966, 0.08474, -0.06480, -0.08474, -0.02991, 0.47603, -0.48101, -0.06978, -0.03988, -0.01994, 0.05982, 0.24923, 0.36388, 0.26418, 0.12960, 0.09471, 0.14954, 0.13458, 0.15951, 0.18941, 0.16948, 0.95455, -0.26917, 0.04486, 0.06480, 0.06978, 0.16948, 0.34394, 0.42618, 0.33397, 0.15452, 0.17446, 0.13458, 0.07477, -0.02492, 0.01495, -0.05483, 0.81997, -0.26917, -0.03988, -0.04985, -0.02492, 0.04985, 0.22929, 0.34394, 0.16449, 0.06480, 0.16948, 0.13957, -0.03988, -0.08474, -0.07975, 0.00000, 0.03988, -0.14954, -0.06978, -0.06480, -0.02492, 0.04486, 0.21932, 0.24923, 0.06978, -0.00997, 0.06978, 0.00997, -0.10468, -0.07975, -0.05982, 0.32400, -0.32400, -0.16948, -0.08474, -0.05483, 0.03489, 0.18443, 0.33895, 0.30406, 0.13458, 0.10468, 0.14455, 0.14954, 0.05483, 0.06480, 0.03489, 0.67043, -0.36886, 0.02991, 0.03988, 0.06480, 0.11963, 0.24425, 0.39378, 0.31901, 0.16948, 0.13957, 0.14954, 0.06480, -0.00997, -0.03489, -0.04985, 0.73523, -0.44114, -0.06480, -0.03988, -0.01994, 0.03988, 0.20437, 0.31403, 0.20437, 0.06480, 0.11963, 0.11465, 0.00498, -0.06978, -0.05483, -0.07477, 0.64551, -0.27415, -0.07477, -0.06978, -0.05982, 0.03988, 0.21434, 0.30905, 0.13957, 0.01994, 0.05483, 0.05483, -0.03489, -0.08972, -0.11465, -0.04985, 0.09969, -0.21434, -0.10468, -0.09969, -0.02991, 0.10966, 0.28412, 0.30406, 0.10966, 0.05982, 0.12461, 0.06978, -0.02492, 0.00000, 0.00997, 0.20935, -0.12461, -0.07477, -0.00997, -0.01495, 0.00997, 0.11465, 0.29908, 0.29908, 0.10966, 0.03988, 0.06480, 0.01994, -0.10468, -0.14455, -0.14455, 0.33895, -0.60563, -0.17446, -0.12461, -0.11465, -0.06480, 0.04985, 0.18443, 0.13957, -0.01994, -0.01994, -0.01994, -0.06480, -0.15452, -0.16948, -0.21434, 0.55080, -0.56077, -0.23926, -0.17945, -0.17446, -0.09471, 0.04985, 0.19938, 0.05483, -0.09471, -0.05483, -0.07975, -0.14455, -0.20935, -0.18941, -0.24425, 0.54083, -0.39877, -0.21932, -0.20437, -0.15951, -0.07477, 0.07975, 0.10468, -0.01495, -0.09969, -0.01994, -0.03988, -0.17945, -0.20935, -0.19440, -0.23428, 0.22929, -0.34892, -0.24425, -0.27415, -0.18443, -0.09969, 0.06978, 0.12461, -0.02492, -0.11465, -0.03988, -0.12461, -0.22929, -0.25920, -0.22431, -0.05483, -0.34394, -0.27415, -0.20437, -0.17945, -0.10966, -0.00997, 0.12461, 0.12960, -0.04985, -0.09471, -0.05483, -0.14455, -0.21932, -0.22431, -0.20437, 0.31403, -0.66046, -0.22929, -0.18941, -0.15452, -0.08972, -0.00498, 0.06978, 0.08474, -0.07477, -0.07975, -0.06978, -0.14455, -0.22929, -0.21932, -0.21932, 0.53584, -0.45609, -0.19938, -0.17945, -0.16449, -0.08474, 0.04985, 0.16449, 0.04985, -0.04486, 0.02492, 0.02492, -0.15951, -0.20437, -0.23926, -0.21932, 0.02991, -0.32898, -0.21434, -0.18941, -0.14954, -0.08474, 0.07975, 0.14954, 0.04486, -0.02492, 0.05982, 0.04985, -0.07975, -0.05982, -0.06978, 0.19440, -0.27415, -0.17945, -0.17446, -0.14455, -0.11963, -0.03489, 0.18941, 0.19938, 0.01495, -0.13458, -0.09969, -0.17446, -0.35889, -0.46108, -0.45609, 0.05483, -0.86483, -0.51591, -0.46606, -0.50594, -0.43615, -0.22431, -0.04985, -0.08474, -0.17446, -0.12960, -0.08474, -0.08474, -0.08972, -0.04486, -0.05483, 0.69535, -0.44114, -0.02991, 0.01994, 0.03489, 0.07477, 0.21434, 0.31901, 0.22431, 0.05982, 0.04985, 0.05982, -0.04486, -0.15452, -0.15951, -0.21932, 0.65547, -0.52588, -0.24425, -0.22431, -0.21434, -0.15951, -0.00498, 0.09969, 0.01495, -0.14455, -0.10468, -0.08972, -0.22431, -0.29908, -0.27415, -0.32400, 0.25421, -0.44612, -0.29908, -0.27415, -0.24425, -0.15951, 0.02492, 0.09471, -0.05982, -0.14954, -0.07975, -0.14455, -0.25421, -0.31403, -0.29908, -0.17945, -0.44612, -0.44114, -0.39378, -0.36886, -0.30406, -0.17945, 0.00000, 0.02492, -0.14954, -0.20935, -0.16948, -0.20437, -0.31901, -0.34394, -0.33397, 0.15452, -0.77012, -0.37883, -0.34892, -0.32400, -0.26418, -0.12461, 0.01994, -0.01994, -0.20437, -0.19938, -0.19440, -0.23428, -0.29908, -0.28911, -0.30406, 0.51092, -0.67541, -0.35391, -0.33397, -0.26418, -0.13458, 0.07975, 0.19440, 0.08474, -0.07975, -0.06480, -0.07975, -0.17446, -0.23926, -0.25421, -0.28911, 0.61061, -0.50095, -0.27415, -0.27914, -0.24923, -0.17945, -0.01495, 0.08474, -0.00997, -0.13957, -0.07477, -0.11465, -0.20437, -0.26418, -0.28412, -0.28911, 0.16948, -0.40624, -0.27415, -0.27914, -0.21434, -0.11963, 0.02492, 0.11465, -0.05483, -0.13458, -0.06480, -0.11963, -0.23926, -0.26917, -0.26917, -0.03489, -0.42618, -0.35889, -0.29908, -0.28412, -0.21932, -0.09471, 0.06978, 0.08474, -0.07477, -0.11465, -0.07477, -0.12461, -0.21434, -0.21434, -0.23926, 0.26917, -0.72526, -0.27415, -0.25920, -0.22431, -0.15951, -0.01994, 0.14954, 0.08972, -0.08972, -0.07975, -0.05982, -0.13957, -0.20437, -0.23428, -0.23428, 0.54083, -0.57572, -0.23428, -0.21932, -0.17945, -0.11963, 0.06978, 0.18443, 0.04985, -0.06978, -0.03988, -0.04486, -0.11963, -0.18443, -0.16948, -0.20437, 0.61560, -0.37384, -0.18443, -0.15452, -0.12461, -0.02492, 0.14954, 0.22929, 0.10966, -0.00498, 0.04486, 0.03489, -0.08972, -0.15951, -0.14455, -0.18941, 0.41621, -0.30905, -0.18443, -0.16449, -0.11465, -0.03988, 0.13458, 0.17446, 0.04486, -0.04486, 0.02492, -0.02991, -0.13458, -0.18443, -0.16449, -0.09969, -0.12461, -0.27914, -0.22929, -0.17945, -0.14954, -0.02492, 0.14954, 0.15452, 0.00000, -0.05483, 0.00000, -0.04985, -0.18443, -0.18443, -0.19938, 0.22431, -0.63055, -0.23926, -0.20437, -0.18941, -0.13458, -0.01495, 0.14455, 0.11963, -0.04985, -0.05483, -0.01994, -0.09969, -0.20437, -0.20935, -0.23428, 0.48101, -0.65049, -0.22929, -0.19440, -0.14455, -0.09471, 0.07477, 0.19440, 0.06480, -0.06480, -0.04985, -0.05982, -0.11963, -0.16948, -0.18443, -0.21434, 0.62557, -0.43117, -0.22929, -0.17945, -0.14954, -0.05483, 0.15452, 0.25920, 0.10966, -0.00997, 0.02991, 0.01994, -0.07975, -0.12461, -0.11465, -0.16449, 0.47603, -0.27914, -0.14455, -0.13458, -0.09471, -0.02492, 0.16449, 0.22431, 0.08972, -0.01994, 0.05483, 0.01495, -0.12461, -0.14954, -0.15951, -0.09969, -0.05483, -0.26917, -0.17945, -0.17945, -0.12461, -0.01994, 0.14455, 0.17446, 0.02492, -0.05982, 0.00000, -0.04985, -0.16948, -0.18941, -0.18443, 0.13957, -0.50095, -0.25421, -0.19938, -0.17945, -0.12461, 0.00000, 0.15951, 0.14954, -0.01994, -0.02991, -0.00498, -0.06978, -0.16449, -0.17945, -0.19938, 0.40624, -0.66046, -0.20935, -0.18443, -0.14954, -0.08972, 0.05982, 0.19938, 0.11963, -0.04985, -0.00997, -0.01495, -0.08972, -0.16449, -0.18443, -0.19440, 0.63554, -0.48600, -0.17446, -0.15951, -0.15452, -0.04985, 0.11963, 0.20935, 0.03988, -0.08474, -0.07975, -0.10966, -0.22929, -0.29409, -0.32898, -0.34394, 0.32898, -0.57074, -0.48600, -0.49098, -0.26418, -0.02991, 0.27415, 0.34394, 0.09969, -0.02991, 0.04985, 0.01495, -0.06978, -0.11963, -0.15452, -0.13458, 0.19938, -0.25421, -0.19440, -0.15951, -0.15951, -0.03489, 0.14954, 0.17446, 0.00498, -0.04486, -0.00498, -0.04486, -0.14455, -0.18941, -0.18443, -0.04985, -0.20437, -0.27415, -0.22929, -0.17945, -0.09969, 0.01495, 0.16948, 0.18443, 0.01495, -0.03988, 0.03988, -0.01994, -0.11465, -0.11963, -0.12960, 0.22431, -0.41621, -0.18941, -0.12461, -0.05982, 0.00997, 0.16948, 0.31901, 0.30406, 0.15452, 0.13957, 0.15951, 0.13957, 0.06978, 0.06480, 0.09471, 0.70532, -0.38880, 0.09969, 0.10468, 0.10468, 0.17945, 0.31403, 0.46108, 0.39378, 0.23428, 0.20935, 0.20437, 0.09969, 0.00000, -0.01994, -0.04486, 0.80003, -0.36886, -0.03489, -0.01495, -0.00498, 0.07477, 0.24425, 0.34394, 0.25421, 0.10468, 0.13458, 0.10468, -0.00997, -0.06978, -0.07975, -0.10966, 0.62058, -0.28412, -0.11963, -0.10966, -0.07975, 0.00498, 0.15951, 0.25920, 0.10468, -0.02492, 0.03988, 0.00997, -0.11963, -0.17945, -0.14954, -0.11465, -0.02492, -0.30406, -0.21434, -0.18941, -0.11963, -0.03489, 0.14455, 0.22431, 0.05483, 0.00997, 0.07477, 0.05483, -0.06480, -0.11465, -0.13957, 0.04985, -0.30406, -0.24923, -0.17945, -0.19440, -0.12461, 0.00000, 0.14954, 0.09969, -0.04985, -0.09471, -0.08972, -0.14954, -0.27914, -0.29908, -0.28911, 0.12960, -0.61560, -0.31901, -0.27415, -0.23926, -0.17945, -0.02991, 0.12960, 0.08972, -0.07975, -0.11465, -0.08474, -0.13957, -0.23926, -0.25421, -0.26917, 0.25421, -0.79504, -0.35391, -0.36886, -0.35889, -0.30406, -0.15951, -0.02991, -0.07975, -0.21434, -0.19938, -0.19938, -0.26917, -0.36886, -0.31403, -0.30406, 0.51092, -0.63554, -0.26418, -0.23926, -0.18941, -0.10468, 0.05483, 0.16449, 0.07477, -0.08474, -0.03988, -0.06480, -0.17446, -0.20437, -0.20935, -0.23428, 0.55578, -0.43615, -0.24425, -0.21932, -0.14455, -0.05483, 0.11963, 0.23926, 0.08972, 0.00498, 0.02991, 0.02991, -0.04985, -0.12461, -0.10966, -0.13957, 0.31901, -0.24923, -0.11465, -0.10468, -0.06480, 0.00997, 0.16449, 0.23428, 0.09471, 0.00000, 0.05483, 0.01994, -0.08972, -0.14954, -0.13957, -0.06978, -0.04486, -0.23428, -0.16948, -0.14954, -0.12960, -0.00997, 0.15452, 0.20935, 0.04985, -0.04985, 0.00997, -0.02991, -0.14455, -0.16449, -0.18443, 0.08474, -0.28412, -0.26917, -0.21434, -0.16948, -0.11465, 0.01994, 0.18941, 0.18443, 0.02492, -0.03988, -0.00498, -0.03988, -0.09969, -0.10468, -0.09969, 0.40624, -0.55080, -0.14455, -0.09969, -0.06480, -0.01495, 0.12960, 0.27415, 0.22431, 0.05483, 0.04486, 0.05982, 0.00000, -0.11963, -0.14455, -0.16948, 0.47603, -0.64551, -0.21434, -0.18443, -0.13957, -0.09969, 0.06480, 0.18941, 0.12461, -0.01495, -0.00997, 0.02991, -0.08474, -0.16449, -0.17945, -0.17945, 0.59566, -0.55080, -0.19938, -0.17945, -0.13458, -0.10468, 0.07477, 0.17446, 0.07477, -0.03988, -0.00498, -0.04985, -0.15951, -0.20935, -0.20437, -0.26418, 0.49098, -0.46606, -0.26917, -0.25920, -0.21434, -0.14455, 0.03489, 0.12461, -0.00997, -0.12461, -0.05483, -0.06978, -0.17945, -0.19440, -0.18443, -0.18443, 0.19440, -0.37384, -0.22431, -0.19440, -0.15452, -0.03988, 0.14455, 0.20935, 0.03988, -0.06978, -0.00997, -0.02991, -0.08474, -0.11465, -0.11963, -0.10966, 0.00997, -0.21434, -0.11963, -0.09471, -0.06978, 0.05483, 0.22929, 0.26418, 0.04486, 0.01495, 0.08972, 0.02991, -0.07975, -0.11963, -0.11963, -0.00498, -0.14954, -0.21434, -0.13458, -0.12960, -0.07477, 0.03988, 0.22929, 0.24923, 0.07477, 0.00498, 0.05483, 0.04486, -0.13957, -0.17945, -0.11963, 0.30905, -0.53086, -0.18443, -0.13458, -0.12461, -0.10468, 0.06978, 0.22431, 0.19440, 0.02492, 0.02492, 0.03988, -0.02991, -0.12960, -0.14954, -0.15951, 0.54581, -0.62557, -0.19938, -0.17945, -0.16449, -0.07975, 0.08972, 0.19440, 0.09471, -0.02991, -0.01495, -0.02492, -0.08474, -0.15452, -0.16449, -0.17446, 0.64551, -0.50594, -0.19440, -0.18443, -0.13957, -0.04486, 0.14954, 0.26418, 0.10966, -0.00997, 0.01994, 0.01495, -0.06480, -0.10966, -0.05483, -0.10468, 0.72526, -0.29409, -0.10468, -0.06480, -0.01994, 0.06480, 0.25920, 0.36388, 0.23926, 0.10468, 0.17945, 0.16948, 0.05982, 0.01495, 0.01495, -0.02991, 0.73024, -0.19440, 0.03988, 0.08972, 0.10966, 0.23926, 0.42120, 0.53086, 0.41123, 0.33895, 0.39877, 0.37384, 0.22431, 0.14455, 0.11465, 0.11465, 0.51591, -0.04985, 0.08474, 0.10966, 0.14954, 0.26418, 0.45111, 0.49597, 0.34892, 0.25920, 0.27914, 0.28412, 0.19938, 0.17446, 0.16449, 0.29409, 0.30905, 0.11963, 0.24923, 0.26917, 0.32898, 0.47104, 0.69535, 0.70532, 0.57572, 0.52089, 0.58071, 0.52089, 0.35889, 0.35889, 0.36886, 0.67043, 0.14455, 0.37384, 0.41123, 0.47603, 0.55080, 0.70532, 0.87480, 0.86483, 0.70532, 0.64551, 0.69535, 0.63055, 0.51092, 0.48600, 0.46108, 1.00440, -0.07477, 0.33397, 0.32400, 0.31403, 0.33895, 0.43615, 0.58071, 0.49098, 0.32898, 0.34394, 0.36388, 0.29409, 0.19440, 0.17446, 0.11963, 0.83991, -0.26917, 0.10966, 0.14954, 0.25920, 0.31403, 0.51092, 0.65547, 0.45111, 0.32400, 0.40624, 0.32400, 0.27415, 0.24923, 0.20935, 0.13957, 1.10907, -0.07477, 0.20437, 0.27415, 0.28911, 0.43117, 0.62557, 0.69037, 0.57572, 0.41123, 0.47104, 0.45111, 0.31403, 0.23926, 0.22929, 0.20437, 1.03430, 0.05483, 0.20935, 0.20935, 0.23926, 0.34892, 0.55578, 0.63554, 0.51591, 0.37883, 0.48101, 0.46606, 0.31403, 0.24923, 0.23926, 0.24425, 0.49098, 0.02492, 0.15452, 0.15452, 0.16449, 0.28911, 0.49098, 0.50594, 0.32898, 0.17446, 0.26418, 0.19938, 0.09969, 0.08474, 0.11465, 0.33895, 0.20935, 0.04486, 0.12960, 0.15452, 0.22929, 0.35889, 0.53584, 0.53086, 0.33895, 0.24923, 0.32898, 0.28412, 0.14455, 0.11963, 0.11963, 0.38880, -0.17446, 0.00498, 0.06480, 0.06480, 0.10468, 0.19938, 0.38381, 0.35391, 0.20437, 0.13957, 0.18941, 0.09471, -0.00997, -0.02492, -0.02492, 0.39378, -0.48101, -0.07975, -0.04985, -0.03489, 0.02492, 0.15452, 0.29908, 0.23926, 0.07477, 0.03988, 0.06480, 0.00997, -0.08474, -0.10468, -0.12461, 0.42120, -0.57572, -0.17446, -0.12461, -0.11465, -0.05982, 0.12960, 0.24425, 0.18443, 0.01495, 0.00997, 0.01495, -0.00498, -0.07477, -0.08474, -0.10966, 0.71031, -0.47603, -0.11963, -0.06978, -0.04985, 0.01994, 0.17945, 0.27914, 0.19938, 0.04985, 0.07975, 0.07477, -0.01495, -0.10468, -0.10468, -0.15452, 0.69037, -0.42618, -0.15951, -0.13458, -0.15452, -0.05483, 0.10468, 0.19938, 0.09969, -0.03988, 0.00997, 0.00498, -0.11963, -0.17446, -0.14954, -0.20935, 0.53584, -0.33895, -0.15452, -0.15452, -0.18443, -0.03489, 0.11465, 0.19938, 0.04985, -0.05982, 0.00498, -0.02991, -0.14455, -0.16449, -0.19440, -0.14455, 0.05483, -0.31403, -0.21434, -0.17945, -0.15452, -0.04486, 0.14455, 0.19938, 0.02991, -0.03988, 0.02492, -0.02991, -0.14954, -0.18941, -0.18941, 0.00498, -0.30406, -0.28412, -0.20437, -0.19938, -0.13957, -0.01994, 0.13957, 0.16449, -0.00498, -0.05982, 0.00997, -0.04985, -0.14954, -0.17945, -0.17446, 0.20437, -0.53584, -0.23926, -0.19938, -0.15951, -0.09969, 0.03489, 0.18941, 0.17945, -0.01994, -0.04985, -0.03489, -0.05982, -0.14954, -0.16948, -0.15951, 0.35889, -0.59068, -0.17945, -0.14954, -0.13458, -0.04985, 0.09969, 0.25920, 0.16948, -0.02991, -0.05483, 0.03988, -0.02492, -0.11465, -0.08474, -0.10468, 0.62557, -0.52588, -0.14455, -0.13957, -0.08474, -0.02991, 0.12960, 0.25920, 0.16449, 0.02991, 0.03489, 0.05982, -0.03489, -0.11963, -0.13458, -0.16449, 0.70034, -0.45111, -0.16948, -0.13957, -0.11963, -0.05483, 0.13458, 0.20437, 0.12960, -0.02492, 0.06480, 0.04486, -0.08474, -0.15951, -0.13957, -0.20437, 0.49098, -0.38880, -0.17446, -0.16449, -0.13957, -0.06480, 0.10468, 0.16449, 0.03988, -0.07975, -0.02991, -0.02991, -0.15951, -0.19440, -0.20935, -0.16948, 0.09471, -0.35889, -0.20935, -0.18443, -0.13957, -0.02492, 0.16449, 0.21434, 0.05483, -0.01994, 0.02991, 0.00498, -0.12960, -0.12960, -0.13458, -0.01495, -0.05982, -0.23926, -0.18941, -0.17945, -0.08972, 0.03988, 0.20935, 0.22431, 0.03988, -0.02492, 0.01994, -0.01994, -0.17446, -0.19440, -0.19440, -0.04486, -0.37384, -0.15452, -0.17446, -0.11465, -0.10966, 0.00997, 0.16948, 0.14455, 0.01994, -0.02492, 0.03988, -0.06480, -0.10966, -0.16449, -0.17446, 0.21932, -0.65547, -0.26917, -0.18941, -0.21434, -0.11963, 0.00997, 0.14455, 0.07477, -0.03489, -0.05982, -0.02492, -0.09471, -0.18443, -0.23428, -0.19440, 0.54083, -0.64551, -0.26917, -0.22929, -0.18941, -0.09969, 0.02991, 0.16449, 0.07975, -0.04985, -0.00498, 0.00498, -0.11465, -0.17945, -0.19938, -0.18941, 0.57074, -0.39877, -0.19440, -0.18443, -0.14455, -0.05982, 0.11465, 0.21434, 0.03988, -0.04985, 0.01495, 0.01495, -0.11465, -0.15452, -0.12960, -0.11465, 0.27914, -0.34394, -0.15452, -0.14954, -0.11465, 0.00498, 0.19938, 0.24425, 0.07975, -0.00498, 0.02991, 0.03489, -0.06480, -0.09471, -0.05982, 0.00997, -0.00498, -0.19938, -0.11465, -0.09471, -0.04985, 0.04486, 0.22929, 0.25421, 0.07477, -0.02492, 0.03988, 0.00000, -0.12960, -0.15951, -0.14954, -0.05982, -0.22431, -0.26917, -0.17446, -0.15452, -0.10966, -0.00498, 0.15951, 0.20437, 0.03988, -0.04486, 0.01994, -0.01994, -0.15951, -0.19440, -0.19938, 0.13458, -0.53584, -0.26917, -0.21932, -0.20437, -0.15951, -0.03489, 0.11465, 0.12461, -0.07975, -0.11465, -0.08474, -0.13957, -0.24923, -0.28412, -0.28412, 0.18941, -0.79006, -0.32898, -0.29409, -0.27415, -0.18443, -0.01495, 0.14455, 0.07975, -0.09471, -0.09471, -0.10468, -0.15951, -0.25421, -0.24425, -0.24923, 0.43615, -0.66046, -0.27914, -0.23926, -0.21932, -0.13458, 0.04486, 0.15452, 0.08474, -0.07477, -0.04985, -0.06480, -0.15452, -0.23926, -0.26418, -0.27914, 0.55578, -0.63554, -0.28911, -0.26917, -0.22929, -0.17446, -0.01495, 0.06978, -0.00997, -0.14455, -0.09471, -0.10468, -0.19938, -0.25920, -0.26418, -0.27415, 0.50594, -0.47603, -0.27415, -0.22929, -0.22431, -0.15452, 0.01495, 0.08474, -0.03489, -0.15452, -0.08474, -0.07975, -0.21932, -0.27415, -0.24425, -0.22929, 0.17945, -0.39378, -0.24425, -0.20437, -0.17945, -0.04985, 0.13458, 0.19440, 0.06480, -0.04985, 0.01994, 0.00498, -0.11465, -0.11963, -0.12461, -0.03489, -0.00997, -0.23428, -0.14954, -0.13957, -0.08474, 0.04985, 0.22929, 0.26917, 0.09969, 0.00000, 0.07975, -0.00498, -0.07975, -0.11465, -0.10966, 0.02991, -0.24425, -0.21932, -0.13957, -0.12461, -0.07975, 0.05483, 0.21434, 0.22929, 0.06480, 0.00498, 0.06480, 0.02492, -0.06480, -0.10966, -0.10468, 0.22929, -0.45111, -0.15951, -0.09969, -0.08972, -0.01495, 0.10966, 0.21434, 0.17945, 0.01994, 0.01495, 0.05982, 0.01495, -0.07477, -0.10966, -0.11963, 0.52588, -0.54581, -0.07477, -0.04486, -0.00997, 0.05483, 0.22431, 0.35391, 0.28911, 0.13957, 0.14954, 0.15452, 0.07477, -0.03489, -0.03988, -0.06978, 0.76015, -0.39378, -0.04985, -0.05982, -0.02492, 0.03489, 0.20437, 0.32400, 0.23428, 0.09471, 0.16449, 0.13458, 0.01495, -0.04486, -0.04486, -0.05982, 0.72526, -0.27415, -0.08972, -0.06480, -0.01994, 0.06480, 0.23428, 0.32400, 0.18941, 0.06480, 0.11963, 0.10966, -0.03489, -0.06978, -0.04985, -0.05982, 0.37883, -0.23428, -0.11465, -0.05483, -0.01994, 0.10966, 0.27415, 0.38381, 0.17945, 0.08474, 0.15452, 0.10966, 0.00997, -0.00997, -0.01495, 0.02991, 0.01994, -0.12960, -0.04486, -0.01994, 0.00997, 0.12960, 0.25920, 0.29908, 0.14954, 0.06480, 0.13957, 0.08972, -0.04985, -0.08972, -0.08474, 0.21434, -0.39378, -0.13458, -0.09471, -0.08474, -0.02991, 0.09471, 0.22929, 0.25920, 0.06480, 0.03489, 0.07477, 0.00997, -0.05982, -0.10468, -0.09471, 0.38381, -0.56575, -0.13957, -0.09969, -0.06978, 0.01495, 0.14954, 0.29409, 0.26418, 0.07975, 0.07975, 0.08474, 0.05483, -0.01994, -0.02991, -0.01994, 0.68040, -0.44114, -0.01495, 0.00498, 0.00997, 0.09471, 0.27415, 0.38880, 0.30406, 0.12960, 0.14954, 0.15452, 0.05982, -0.03489, -0.06480, -0.06480, 0.72027, -0.37883, -0.04486, -0.04486, -0.04486, 0.01495, 0.17945, 0.30406, 0.23926, 0.12461, 0.13458, 0.12461, 0.01495, -0.03988, -0.02492, -0.02991, 0.81000, -0.29908, -0.07975, -0.05483, -0.02492, 0.06480, 0.24923, 0.34394, 0.22431, 0.08474, 0.15951, 0.14954, -0.00498, -0.06480, -0.05982, -0.07975, 0.42618, -0.24923, -0.07975, -0.06480, 0.00000, 0.07975, 0.26917, 0.35391, 0.21434, 0.10468, 0.17446, 0.10966, 0.02492, -0.00498, 0.00000, 0.08972, 0.16449, -0.14954, -0.03489, 0.00000, 0.02991, 0.18443, 0.35391, 0.40624, 0.23428, 0.12461, 0.19938, 0.14954, 0.03988, 0.01994, 0.03988, 0.19938, -0.07477, -0.10468, -0.01994, 0.00000, 0.04486, 0.17446, 0.32898, 0.33895, 0.16449, 0.09969, 0.14954, 0.09969, -0.00498, -0.02492, -0.02492, 0.20437, -0.30406, -0.10966, -0.04985, -0.04486, -0.00498, 0.12461, 0.28911, 0.29908, 0.13458, 0.08474, 0.11963, 0.06480, -0.05483, -0.07975, -0.06480, 0.34394, -0.58569, -0.12461, -0.08474, -0.06978, -0.00997, 0.12960, 0.26917, 0.24923, 0.06480, 0.03988, 0.05483, -0.00498, -0.07975, -0.10468, -0.09969, 0.49597, -0.55080, -0.11465, -0.10468, -0.09471, -0.00997, 0.15452, 0.30406, 0.21434, 0.05483, 0.06978, 0.05982, 0.00997, -0.08972, -0.08474, -0.09471, 0.73024, -0.46108, -0.10966, -0.11465, -0.06978, -0.00498, 0.17446, 0.28911, 0.19938, 0.04486, 0.03988, 0.04985, -0.02991, -0.10966, -0.12461, -0.13957, 0.67541, -0.47603, -0.15452, -0.14954, -0.10468, -0.03489, 0.13458, 0.23926, 0.14954, -0.00997, 0.06978, 0.04985, -0.05483, -0.12461, -0.12960, -0.15951, 0.61560, -0.39877, -0.16449, -0.14954, -0.10468, -0.02492, 0.15452, 0.24425, 0.10468, -0.01994, 0.01994, 0.01994, -0.11465, -0.15452, -0.16449, -0.16449, 0.37883, -0.31901, -0.19440, -0.16948, -0.12461, -0.01495, 0.15452, 0.21932, 0.04985, -0.03489, 0.01994, -0.01495, -0.11465, -0.15951, -0.12960, -0.10966, 0.00997, -0.20935, -0.15452, -0.09471, 0.00498, 0.12461, 0.30406, 0.38381, 0.17446, 0.08474, 0.14455, 0.10966, 0.04486, -0.01994, -0.01495, 0.00997, 0.06978, -0.11963, -0.04985, -0.04486, -0.00997, 0.08972, 0.28412, 0.32898, 0.15951, 0.05982, 0.11963, 0.10468, -0.02991, -0.08972, -0.03988, 0.10468, -0.15452, -0.13458, -0.05483, -0.03988, -0.06480, 0.09969, 0.23428, 0.24425, 0.08474, -0.00498, 0.02991, -0.00498, -0.14455, -0.16948, -0.16948, 0.16948, -0.64551, -0.26418, -0.21434, -0.20437, -0.13957, -0.00997, 0.12960, 0.07975, -0.03489, -0.07477, -0.06480, -0.09471, -0.21434, -0.21434, -0.22929, 0.29409, -0.62557, -0.24923, -0.20437, -0.17945, -0.13458, 0.00997, 0.18941, 0.12960, -0.02492, -0.06978, -0.03988, -0.06480, -0.15951, -0.16449, -0.18443, 0.52089, -0.61061, -0.19440, -0.17446, -0.14455, -0.07477, 0.08474, 0.22431, 0.14954, -0.03489, -0.03489, -0.02492, -0.08972, -0.18941, -0.19440, -0.20437, 0.49597, -0.66544, -0.24923, -0.21434, -0.19440, -0.12960, 0.03988, 0.13957, 0.10468, -0.05483, -0.01994, -0.01495, -0.08972, -0.19938, -0.22431, -0.24923, 0.56077, -0.57074, -0.22929, -0.20437, -0.16948, -0.09969, 0.05483, 0.15452, 0.04985, -0.06978, 0.00498, -0.02492, -0.14954, -0.21932, -0.20437, -0.22929, 0.54083, -0.44612, -0.23428, -0.22431, -0.20935, -0.11465, 0.05483, 0.12960, 0.01994, -0.11465, -0.03489, -0.05483, -0.21434, -0.25421, -0.24923, -0.26917, 0.28412, -0.50095, -0.30406, -0.28911, -0.26917, -0.17945, 0.03988, 0.08972, -0.05982, -0.20935, -0.15452, -0.15951, -0.30406, -0.31901, -0.32400, -0.29409, 0.04486, -0.50594, -0.30905, -0.30905, -0.26418, -0.12960, 0.04486, 0.11465, -0.06978, -0.17446, -0.11465, -0.08972, -0.22431, -0.27415, -0.30905, -0.24425, -0.05483, -0.36388, -0.28412, -0.27415, -0.23428, -0.10468, 0.04985, 0.10468, -0.06480, -0.13458, -0.06978, -0.11963, -0.23428, -0.28412, -0.25920, -0.25421, -0.17945, -0.26418, -0.14455, -0.06978, 0.02492, 0.17945, 0.39378, 0.46108, 0.35889, 0.31901, 0.45609, 0.39378, 0.27415, 0.12960, 0.01994, 0.25421, -0.44612, -0.24923, -0.21932, -0.22929, -0.16948, -0.06978, 0.12461, 0.10966, -0.04486, -0.09471, -0.05483, -0.10966, -0.21434, -0.25920, -0.22929, 0.22929, -0.80501, -0.33397, -0.34892, -0.34394, -0.26418, -0.12960, 0.45609, -0.27914, -0.32898, -0.29409, -0.56077, -0.52089, -0.57074, -0.42618, -0.58569, -0.00498, -0.96950, -0.45609, -0.44612, -0.35391, -0.44612, -0.14954, -0.05982, -0.01994, -0.22431, -0.62058, -0.31403, -0.29409, -0.37883, -0.46108, -0.60563, 0.10468, -0.89972, -0.51591, -0.58071, -0.57572, -0.42618, -0.32400, -0.13458, -0.11465, -0.39877, -0.44612, -0.47104, -0.56077, -0.85984, -0.74520, -0.63055, 0.11963, -1.08914, -0.59068, -0.72027, -0.55080, -0.60064, -0.31901, -0.06480, -0.50095, -0.43117, -0.41123, -0.39877, -0.63055, -0.42120, -0.61560, -0.52588, 0.21932, -1.00440, -0.51092, -0.56077, -0.34892, -0.30406, -0.40624, -0.11963, -0.24425, -0.47104, -0.40624, -0.31901, -0.36886, -0.43615, -0.45609, -0.51092, 0.27415, -0.71031, -0.46606, -0.39378, -0.37384, -0.27914, -0.13458, -0.05483, -0.17446, -0.32400, -0.24923, -0.28911, -0.39877, -0.45609, -0.44114, -0.48600, 0.21932, -0.67541, -0.47603, -0.43117, -0.38880, -0.24923, -0.07975, -0.00498, -0.10468, -0.20935, -0.14455, -0.13957, -0.23428, -0.30905, -0.23428, -0.33895, 0.24425, -0.38381, -0.24425, -0.19938, -0.17446, -0.05483, 0.10468, 0.18443, 0.04985, -0.03489, 0.05483, 0.03988, -0.08972, -0.12461, -0.13458, -0.04985, -0.09471, -0.24923, -0.17446, -0.11963, -0.07477, 0.05982, 0.25920, 0.27914, 0.14455, 0.05483, 0.11963, 0.07975, -0.01994, -0.03489, -0.03988, 0.15951, -0.08474, -0.14455, -0.07975, -0.03489, 0.02991, 0.15452, 0.36388, 0.35391, 0.20437, 0.10966, 0.16449, 0.17945, 0.04486, 0.04486, 0.05982, 0.42618, -0.21434, 0.00997, 0.02991, 0.05982, 0.13458, 0.25920, 0.42120, 0.39378, 0.21434, 0.16449, 0.22929, 0.19938, 0.08972, 0.05483, 0.07477, 0.39877, -0.20935, 0.00498, 0.07975, 0.09471, 0.13957, 0.30406, 0.43117, 0.42618, 0.23926, 0.20437, 0.25421, 0.19440, 0.07975, 0.07477, 0.04486, 0.50594, -0.41621, -0.00997, -0.00498, 0.00997, 0.05483, 0.19440, 0.35889, 0.32400, 0.19938, 0.13458, 0.21434, 0.13957, 0.04486, 0.04486, 0.04486, 0.58071, -0.39378, -0.01495, -0.00498, 0.04985, 0.11963, 0.30406, 0.46108, 0.37883, 0.18443, 0.15452, 0.19938, 0.18443, 0.12461, 0.11963, 0.11465, 0.77511, -0.33397, 0.08972, 0.08972, 0.10966, 0.15452, 0.32898, 0.44612, 0.35391, 0.19938, 0.20437, 0.21434, 0.18941, -0.01994, 0.00997, -0.01994, 0.66046, -0.44114, -0.02991, 0.00498, 0.03489, 0.07477, 0.24425, 0.37384, 0.30406, 0.15452, 0.20437, 0.20935, 0.11465, 0.02492, 0.02492, 0.01495, 0.81498, -0.29409, -0.00997, -0.00498, 0.00000, 0.08972, 0.23926, 0.37883, 0.21932, 0.09969, 0.11963, 0.09471, 0.00997, -0.05483, -0.09969, -0.09471, 0.69535, -0.30905, -0.09471, -0.08972, -0.05982, 0.05483, 0.21932, 0.32898, 0.18941, 0.00997, 0.04486, 0.13957, -0.18443, -0.22929, -0.19938, -0.22431, 0.49597, -0.41621, -0.25421, -0.21932, -0.22431, -0.05982, 0.11465, 0.18443, 0.03988, -0.08972, -0.05982, -0.08474, -0.18443, -0.24425, -0.24425, -0.27415, 0.51591, -0.49098, -0.27415, -0.24923, -0.22431, -0.13458, 0.01495, 0.10468, 0.00000, -0.13957, -0.07975, -0.08972, -0.19938, -0.25920, -0.25421, -0.30406, 0.43117, -0.46108, -0.27914, -0.25920, -0.21434, -0.13458, 0.03988, 0.09969, -0.05483, -0.17446, -0.10966, -0.14455, -0.29409, -0.32898, -0.33397, -0.34892, 0.16449, -0.52588, -0.33397, -0.32400, -0.27415, -0.18443, 0.01994, 0.10966, -0.04985, -0.19440, -0.13458, -0.13458, -0.22431, -0.27415, -0.27914, -0.24923, 0.11963, -0.39378, -0.26917, -0.21434, -0.18941, -0.05483, 0.11963, 0.13458, -0.02492, -0.11465, -0.06978, -0.07477, -0.22431, -0.26917, -0.27415, -0.28911, 0.05982, -0.43117, -0.30905, -0.31901, -0.25920, -0.17446, 0.04486, 0.06480, -0.06480, -0.16948, -0.10468, -0.11465, -0.23926, -0.28412, -0.27914, -0.25421, -0.13957, -0.39877, -0.30905, -0.29409, -0.24425, -0.14455, 0.02492, 0.05982, -0.09969, -0.20437, -0.12960, -0.14954, -0.23926, -0.30406, -0.27914, -0.09471, -0.20935, -0.32400, -0.26418, -0.22431, -0.16449, -0.02991, 0.14954, 0.14455, -0.01994, -0.06480, -0.01994, -0.05483, -0.20935, -0.22929, -0.23926, -0.05982, -0.35391, -0.31403, -0.25421, -0.23428, -0.17446, -0.05982, 0.08972, 0.10468, -0.04486, -0.11465, -0.05483, -0.09969, -0.21932, -0.23926, -0.18941, 0.11465, -0.50095, -0.26917, -0.23926, -0.20437, -0.13957, -0.03489, 0.11465, 0.09969, -0.06978, -0.12960, -0.09471, -0.13957, -0.26418, -0.26418, -0.29908, 0.13458, -0.66544, -0.33895, -0.27415, -0.25920, -0.15452, 0.01495, 0.13957, 0.11465, -0.03988, -0.08972, -0.03988, -0.06480, -0.13957, -0.17446, -0.17945, 0.32400, -0.61560, -0.19440, -0.15951, -0.12960, -0.08474, 0.07477, 0.22929, 0.16948, 0.00000, -0.04486, 0.00997, -0.03988, -0.13957, -0.16948, -0.16449, 0.30406, -0.66046, -0.20437, -0.19938, -0.18443, -0.11465, 0.01994, 0.17945, 0.14954, -0.00997, -0.02991, 0.00498, -0.04486, -0.13957, -0.14954, -0.14455, 0.41621, -0.67043, -0.21932, -0.19440, -0.17446, -0.09969, 0.03988, 0.17945, 0.13957, -0.05982, -0.05982, -0.05982, -0.10966, -0.20935, -0.19938, -0.21434, 0.45111, -0.65049, -0.21434, -0.20437, -0.17446, -0.08474, 0.09471, 0.21932, 0.10966, -0.03489, -0.02991, -0.00498, -0.04486, -0.12461, -0.13458, -0.14455, 0.65049, -0.53584, -0.21434, -0.15951, -0.14455, -0.05982, 0.09969, 0.18941, 0.11963, -0.02991, 0.00000, -0.00997, -0.09471, -0.17446, -0.19440, -0.19938, 0.64052, -0.54581, -0.18941, -0.17446, -0.17945, -0.09969, 0.05982, 0.17446, 0.09471, -0.04985, 0.00000, -0.00498, -0.07975, -0.12960, -0.12960, -0.11963, 0.77012, -0.32400, -0.08972, -0.06480, 0.00498, 0.07975, 0.25421, 0.33397, 0.19440, 0.04486, 0.06978, 0.05982, -0.01495, -0.04985, -0.05982, -0.10468, 0.80501, -0.29908, -0.08972, -0.07477, -0.04486, 0.05483, 0.23926, 0.33895, 0.20437, 0.05982, 0.08972, 0.07477, 0.00000, -0.06480, -0.05982, -0.11465, 0.77511, -0.33397, -0.07477, -0.08972, -0.02991, 0.02492, 0.22929, 0.28412, 0.17945, 0.04486, 0.09969, 0.11963, 0.01495, -0.06978, -0.10468, -0.08972, 0.71529, -0.27914, -0.07477, -0.07975, -0.03988, 0.03489, 0.21932, 0.28911, 0.15951, 0.01994, 0.10468, 0.09969, -0.03988, -0.10468, -0.11963, -0.13957, 0.43615, -0.29409, -0.16449, -0.13957, -0.09969, 0.00498, 0.20437, 0.26418, 0.10966, -0.00498, 0.05982, 0.06480, -0.08972, -0.10468, -0.09969, -0.09471, 0.33397, -0.25920, -0.11465, -0.08972, -0.04486, 0.09471, 0.26917, 0.33397, 0.17446, 0.06978, 0.13458, 0.12461, 0.00498, -0.03988, -0.02492, -0.02991, 0.20437, -0.17945, -0.06480, -0.05982, -0.00498, 0.10966, 0.26418, 0.30406, 0.13957, 0.03489, 0.11465, 0.08474, -0.04985, -0.07975, -0.08972, -0.06480, 0.07975, -0.20437, -0.10966, -0.08474, -0.02991, 0.07477, 0.25421, 0.28412, 0.13458, 0.04486, 0.13458, 0.07477, -0.05483, -0.08474, -0.08474, 0.01994, -0.03988, -0.16948, -0.07975, -0.06978, -0.06480, 0.04985, 0.23428, 0.26418, 0.10468, 0.04985, 0.10966, 0.09969, 0.00997, 0.04486, 0.11465, 0.36388, 0.26917, 0.25421, 0.45111, 0.61061, 0.73523, 0.73523, 0.63055, 0.44612, -0.05483, -0.29908, -0.24923, -0.15452, -0.13458, -0.10468, -0.08972, 0.12960, -0.19440, -0.17945, -0.10468, -0.09471, -0.05483, 0.05483, 0.17945, 0.15452, 0.07477, 0.44114, 0.58071, 0.47603, 0.31901, 0.28412, 0.33397, 0.47603, 0.22929, 0.30406, 0.37384, 0.40624, 0.44612, 0.72027, 0.81000, 0.72526, 0.52089, 0.48101, 0.60563, 0.64551, 0.58569, 0.47104, 0.54581, 0.72027, 0.30406, 0.30406, 0.31901, 0.27914, 0.26418, 0.32400, 0.44114, 0.38381, 0.15452, -0.09471, -0.15452, -0.37384, -0.91467, -1.05923, -1.06421, -0.59068, -1.25113, -0.99443, -0.92464, -0.98446, -1.05424, -1.14895, -1.10409, -1.10907, -1.12403, -0.93960, -0.74021, -0.91467, -1.39070, -1.62498, -1.23120, -0.53086, -1.10907, -0.72526, -0.69535, -0.62058, -0.54581, -0.37384, -0.25421, -0.23926, -0.31403, -0.29409, -0.19938, -0.21434, -0.33397, -0.31403, -0.31403, 0.15951, -0.77012, -0.30905, -0.26917, -0.26418, -0.23926, -0.11465, 0.05483, 0.03988, -0.14455, -0.12960, -0.08972, -0.10966, -0.21932, -0.25421, -0.23926, 0.20437, -0.69037, -0.31901, -0.27914, -0.23926, -0.17446, -0.01994, 0.12461, 0.07975, -0.04985, -0.06480, -0.02492, -0.06978, -0.15452, -0.10966, -0.09471, 0.51591, -0.51591, -0.16449, -0.03489, 0.03489, 0.06480, 0.24923, 0.32400, 0.25421, 0.06978, 0.07477, 0.08972, 0.03489, -0.08972, -0.10966, -0.09969, 0.47104, -0.50594, -0.07477, -0.06480, -0.02492, 0.02991, 0.18941, 0.30905, 0.24425, 0.10966, 0.10966, 0.13957, 0.06480, -0.03988, -0.05982, -0.07477, 0.53086, -0.49597, -0.07975, -0.09969, -0.07477, -0.03489, 0.15452, 0.26418, 0.13957, 0.00997, 0.00498, 0.00498, -0.03988, -0.14954, -0.11465, -0.07975, 0.61560, -0.45111, -0.04985, 0.00498, 0.00498, 0.08474, 0.26917, 0.37384, 0.26917, 0.12461, 0.11963, 0.13458, 0.06978, 0.00000, -0.01495, -0.02991, 0.79006, -0.35391, 0.00997, 0.01994, 0.03489, 0.11465, 0.25421, 0.34394, 0.25421, 0.12960, 0.10966, 0.15951, 0.03988, -0.03489, -0.03988, -0.07975, 0.64551, -0.48600, -0.14455, -0.13458, 0.01994, 0.17945, 0.30406, 0.36388, 0.26418, 0.15951, 0.07477, 0.13458, 0.18941, 0.23926, 0.35889, 0.43117, 1.07418, 0.01994, 0.33397, 0.41123, 0.58071, 0.62058, 0.66544, 0.66544, 0.52089, 0.24425, 0.17446, 0.15452, 0.01994, -0.05483, -0.12461, -0.21434, 0.62557, -0.51591, -0.24923, -0.29409, -0.32898, -0.33397, -0.18443, -0.04985, -0.11963, -0.27415, -0.25920, -0.24425, -0.30905, -0.33895, -0.22431, -0.18443, 0.57074, -0.53086, -0.19440, -0.18941, -0.23926, -0.23926, -0.03489, 0.00997, -0.17446, -0.45609, -0.57572, -0.76514, -1.04427, -1.36578, -1.62996, -1.90910, -1.35083, -2.68421, -2.56458, -2.72408, -2.88608, -3.00073, -3.00571, -3.06553, -3.28984, -3.51414, -3.53408, -3.62879, -3.81073, -3.94531, -4.02506, -4.10482, -3.34467, -4.56091, -4.36900, -4.49112, -4.56091, -4.60079, -4.56589, -4.56589, -4.71543, -4.85500, -4.74534, -4.66060, -4.66559, -4.65562, -4.56589, -4.47617, -3.50916, -4.41386, -4.20949, -4.17460, -4.24439, -4.10482, -3.66617, -3.32971, -3.09544, -2.84621, -2.54464, -2.45492, -2.44495, -2.43498, -2.38015, -2.37018, -1.42560, -2.43498, -2.18076, -2.10599, -2.04618, -1.88418, -1.62498, -1.48043, -1.55520, -1.68978, -1.60006, -1.63495, -1.71470, -1.69476, -1.64492, -1.62498, -0.72027, -1.68978, -1.43058, -1.38073, -1.32092, -1.17886, -0.97947, -0.84987, -0.91467, -0.98446, -0.87978, -0.84489, -0.88975, -0.90470, -0.82994, -0.83492, -0.06480, -0.95455, -0.73523, -0.68538, -0.63554, -0.52588, -0.30905, -0.23428, -0.27415, -0.40624, -0.52089, -0.39378, -0.51591, -0.47603, -0.52089, -0.46108, 0.34892, -0.70034, -0.58071, -0.36886, -0.40624, -0.38381, 0.02492, 0.02991, -0.05982, -0.07477, 0.09471, 0.28412, -0.06978, -0.07975, 0.01994, 0.07975, 0.50095, 0.01994, -0.11465, -0.48101, 0.09969, 0.12960, 0.55578, 0.19938, 0.26917, -0.00498, -0.04486, -0.04486, -0.04985, 0.06480, 0.07477, -0.20935, 1.20877, 0.08972, 0.11963, 0.01495, 0.06978, 0.09471, 0.09969, 0.45609, 0.27914, -0.28911, 0.33895, -0.05483, -0.06978, 0.00498, 0.24425, -0.12960, 0.81997, -0.02492, 0.12461, 0.15951, 0.23428, 0.40624, 0.38880, 0.41123, 0.55578, 0.07477, 0.41621, 0.28412, 0.23428, 0.41621, -0.04985, 0.26917, 0.80003, -0.14954, 0.05982, 0.17945, 0.16449, 0.69535, 0.58071, 0.62557, 0.30406, 0.21434, 0.47603, 0.40624, -0.05982, 0.40624, 0.15452, 0.13458, 0.64551, 0.10468, 0.50095, 0.63055, 0.43117, 0.64052, 0.64052, 0.74021, 0.80003, 0.33397, 0.67043, 0.73024, 0.61061, 0.32898, 0.34394, 0.17945, 1.07917, -0.02492, 0.54083, 0.38381, 0.33895, 0.26917, 0.75517, 0.85984, 0.71031, 0.36886, 0.75517, 0.35391, 0.37384, 0.17446, 0.30406, 0.30406, 0.89474, -0.20437, 0.32898, 0.19440, 0.17446, 0.19938, 0.41123, 0.37883, 0.46606, 0.09969, 0.20437, 0.31901, 0.45111, 0.15951, 0.15452, 0.17945, 0.81000, 0.05483, 0.24923, 0.05483, 0.32400, 0.44114, 0.80501, 0.66046, 0.54581, 0.37384, 0.50095, 0.47104, 0.42618, 0.28412, 0.19938, 0.40624, 0.82994, 0.23926, 0.33397, 0.27914, 0.28911, 0.41621, 0.66046, 0.88975, 0.57074, 0.41123, 0.53086, 0.52089, 0.44114, 0.39877, 0.32898, 0.33895, 0.65547, 0.04486, 0.43117, 0.25920, 0.32898, 0.36886, 0.44114, 0.58569, 0.47603, 0.39378, 0.48101, 0.42618, 0.34394, 0.30406, 0.31403, 0.39877, 0.65049, 0.13957, 0.36886, 0.30905, 0.38880, 0.53584, 0.64052, 0.68538, 0.67541, 0.73523, 0.53584, 0.58071, 0.73024, 0.63055, 0.56575, 0.62557, 0.59566, 0.51591, 0.64052, 0.49597, 0.67043, 0.75018, 1.05424, 1.11406, 0.63554, 0.63055, 0.69535, 0.60563, 0.54083, 0.48101, 0.35889, 0.51591, 1.18883, 0.94957, 1.37575, 1.61501, 1.94399, 2.63935, 3.38953, 4.09983, 4.54097, 4.59082, 4.43879, 4.17959, 3.71602, 3.36959, 3.18516, 3.00571, 3.37457, 2.44495, 2.61941, 2.56956, 2.45990, 2.48482, 2.67922, 2.65430, 2.53467, 2.20569, 2.13092, 2.05116, 2.03621, 1.94898, 1.89415, 1.85427, 2.44993, 1.45052, 1.52529, 1.57015, 1.61999, 1.79446, 1.97889, 1.91409, 1.80443, 1.59009, 1.67483, 1.57015, 1.50535, 1.44055, 1.45550, 1.39569, 2.39510, 1.10907, 1.26609, 1.35581, 1.36080, 1.45052, 1.56018, 1.55520, 1.42560, 1.36578, 1.35083, 1.33089, 1.27107, 1.07418, 1.16390, 0.93960, 2.09602, 0.71031, 0.99443, 1.11904, 1.19381, 1.38073, 1.52529, 1.63993, 1.47046, 1.30597, 1.28104, 1.27107, 1.20378, 1.18384, 1.17387, 1.08415, 2.16581, 0.84987, 1.04427, 1.15892, 1.23618, 1.24615, 1.35581, 1.45052, 1.28603, 1.09910, 1.11406, 1.13898, 1.01935, 0.94957, 0.97449, 0.82495, 1.97889, 0.58071, 1.00938, 0.98944, 1.00440, 1.06920, 1.24615, 1.31593, 1.27606, 1.09412, 1.18384, 1.19381, 1.06421, 1.07418, 0.98446, 0.95455, 2.00879, 0.49597, 0.93461, 1.11904, 1.09910, 1.19880, 1.37076, 1.34086, 1.27107, 0.98944, 1.12901, 1.04926, 0.91966, 0.86981, 0.84489, 0.79006, 1.96393, 0.43615, 0.90470, 0.82495, 0.87978, 0.95455, 1.18883, 1.28104, 1.14397, 0.96950, 0.94957, 0.95455, 0.76015, 0.80003, 0.79504, 0.81498, 1.77950, 0.49597, 0.88975, 0.79504, 0.97449, 0.95455, 1.18883, 1.36080, 1.13898, 1.02434, 1.06421, 1.05923, 1.00938, 0.84489, 0.88477, 0.91966, 2.17079, 0.61560, 0.90969, 0.84489, 0.94957, 0.97449, 1.08415, 1.14895, 1.00938, 0.85486, 0.85486, 0.80003, 0.63554, 0.54581, 0.53584, 0.48600, 1.43058, 0.15951, 0.38880, 0.39877, 0.43117, 0.51591, 0.67541, 0.73523, 0.60563, 0.39877, 0.42618, 0.35391, 0.24923, 0.14954, 0.08972, 0.04985, 0.89474, -0.26917, -0.00498, 0.00000, 0.02492, 0.07975, 0.19440, 0.25421, 0.10966, -0.00498, 0.02492, 0.03489, -0.09969, -0.13957, -0.18443, -0.20935, 0.64052, -0.42618, -0.28412, -0.28911, -0.28911, -0.18443, 0.00997, -0.01495, -0.11963, -0.12461, -0.10966, -0.03489, -0.13957, -0.19440, -0.22431, -0.32898, 0.55578, -0.51591, -0.35889, -0.34892, -0.32400, -0.23926, -0.07477, -0.00498, -0.13957, -0.26418, -0.20935, -0.21434, -0.34892, -0.38880, -0.38880, -0.41123, 0.47603, -0.62058, -0.43117, -0.41123, -0.38880, -0.30406, -0.11963, -0.04486, -0.20437, -0.31901, -0.30905, -0.37384, -0.43615, -0.49098, -0.49597, -0.53086, 0.35391, -0.78507, -0.60064, -0.56575, -0.50095, -0.38880, -0.16449, -0.12461, -0.26418, -0.40624, -0.35889, -0.37883, -0.43117, -0.49098, -0.47104, -0.49597, 0.45111, -0.68040, -0.47603, -0.46606, -0.46606, -0.34892, -0.18443, -0.05982, -0.19440, -0.32400, -0.30406, -0.30905, -0.34892, -0.49098, -0.50095, -0.52089, 0.38381, -0.85486, -0.54083, -0.49597, -0.50095, -0.43615, -0.25920, -0.15452, -0.26917, -0.39877, -0.39378, -0.42120, -0.51591, -0.61061, -0.64052, -0.60064, 0.19440, -0.96950, -0.68538, -0.63554, -0.60563, -0.51591, -0.30406, -0.23428, -0.31901, -0.51092, -0.51092, -0.51591, -0.57074, -0.65049, -0.62557, -0.65049, 0.23428, -0.94957, -0.70034, -0.65049, -0.61560, -0.48600, -0.28911, -0.16948, -0.32400, -0.51092, -0.49098, -0.49098, -0.53086, -0.60563, -0.64052, -0.66544, 0.22929, -1.06920, -0.68040, -0.65049, -0.64052, -0.57572, -0.39877, -0.28911, -0.38880, -0.55080, -0.53086, -0.51591, -0.57572, -0.68040, -0.70034, -0.72526, 0.12461, -1.10907, -0.72526, -0.67541, -0.65547, -0.59566, -0.42618, -0.31901, -0.39378, -0.57572, -0.60064, -0.61061, -0.69037, -0.77511, -0.78009, -0.77511, -0.00997, -1.14397, -0.74520, -0.74021, -0.71031, -0.63055, -0.43117, -0.27914, -0.44114, -0.59068, -0.61061, -0.58071, -0.59068, -0.69037, -0.64052, -0.68040, 0.20437, -0.99443, -0.65547, -0.61061, -0.57572, -0.49597, -0.30406, -0.16948, -0.32400, -0.49597, -0.52588, -0.49597, -0.54083, -0.67043, -0.67541, -0.71529, -0.01994, -1.21624, -0.74021, -0.71529, -0.67043, -0.59566, -0.43117, -0.29409, -0.33397, -0.50594, -0.51092, -0.50095, -0.52089, -0.64052, -0.65049, -0.64551, -0.09471, -1.11904, -0.72027, -0.69535, -0.66544, -0.54581, -0.43615, -0.24923, -0.33895, -0.48600, -0.52588, -0.50594, -0.51092, -0.63554, -0.63055, -0.64551, 0.02492, -1.01437, -0.68040, -0.65049, -0.62557, -0.53086, -0.34892, -0.19938, -0.28911, -0.43615, -0.50594, -0.44612, -0.49098, -0.56077, -0.58071, -0.60563, 0.02492, -1.04427, -0.61061, -0.59068, -0.56575, -0.50095, -0.31901, -0.18941, -0.21434, -0.38381, -0.44612, -0.39378, -0.38880, -0.52089, -0.55080, -0.54581, -0.03988, -1.05923, -0.59068, -0.55578, -0.52588, -0.43615, -0.31403, -0.16948, -0.23926, -0.41123, -0.46108, -0.42120, -0.46606, -0.59566, -0.59068, -0.62058, -0.09471, -1.00938, -0.65547, -0.61061, -0.57074, -0.51591, -0.34892, -0.20935, -0.22929, -0.42120, -0.47603, -0.43615, -0.46606, -0.54083, -0.54083, -0.57074, -0.00997, -0.98944, -0.63554, -0.59566, -0.57572, -0.50095, -0.30905, -0.16948, -0.21434, -0.37384, -0.42618, -0.35889, -0.38880, -0.51092, -0.53584, -0.51591, -0.07975, -0.93960, -0.57572, -0.53086, -0.49597, -0.45609, -0.29908, -0.15452, -0.16449, -0.30406, -0.38381, -0.32400, -0.35391, -0.46606, -0.46606, -0.45609, -0.01495, -0.83991, -0.50095, -0.46606, -0.44612, -0.38381, -0.24923, -0.09471, -0.13957, -0.30905, -0.37883, -0.30406, -0.31403, -0.46108, -0.48600, -0.48101, -0.07975, -0.80003, -0.55578, -0.49597, -0.45609, -0.39378, -0.24425, -0.06480, -0.09471, -0.25920, -0.30406, -0.23926, -0.25920, -0.39877, -0.39378, -0.45111, 0.02991, -0.67043, -0.47603, -0.40624, -0.41123, -0.29908, -0.14954, 0.00997, -0.03489, -0.17446, -0.23428, -0.17446, -0.23428, -0.31901, -0.32400, -0.32400, -0.03988, -0.59566, -0.38880, -0.33397, -0.32898, -0.25421, -0.11963, 0.03988, 0.01994, -0.14455, -0.20935, -0.14455, -0.16449, -0.27914, -0.28911, -0.28911, 0.01994, -0.47104, -0.32898, -0.28911, -0.23428, -0.19440, -0.05982, 0.08972, 0.09969, -0.08972, -0.16449, -0.08972, -0.17446, -0.26418, -0.30406, -0.33895, -0.03988, -0.64052, -0.43615, -0.40624, -0.35889, -0.35391, -0.19440, -0.02492, -0.02991, -0.18941, -0.22431, -0.16948, -0.16449, -0.30406, -0.33895, -0.31403, 0.13458, -0.56077, -0.39877, -0.33397, -0.27415, -0.24425, -0.07975, 0.08474, 0.02991, -0.11963, -0.15452, -0.08972, -0.10468, -0.22431, -0.23428, -0.22431, 0.15452, -0.53584, -0.27914, -0.22929, -0.21434, -0.14954, -0.00997, 0.14954, 0.12960, -0.03489, -0.09969, -0.01495, -0.06978, -0.17446, -0.20437, -0.18941, 0.14954, -0.48101, -0.23926, -0.18443, -0.15951, -0.08474, 0.04985, 0.20935, 0.19440, 0.02991, -0.05982, 0.00997, -0.04486, -0.16449, -0.17945, -0.22431, 0.09969, -0.53584, -0.32898, -0.27415, -0.26917, -0.22431, -0.05483, 0.10966, 0.07975, -0.10966, -0.16948, -0.10966, -0.12461, -0.23926, -0.27415, -0.25920, 0.15951, -0.52588, -0.30905, -0.25421, -0.22929, -0.15951, -0.01994, 0.14954, 0.13458, -0.02492, -0.06480, 0.01495, -0.03988, -0.13957, -0.17945, -0.17945, 0.12960, -0.48101, -0.24923, -0.21434, -0.19440, -0.16449, -0.02492, 0.14954, 0.13957, -0.01994, -0.09471, -0.01495, -0.06480, -0.17945, -0.18941, -0.17446, 0.17446, -0.47104, -0.22431, -0.15951, -0.14455, -0.08972, 0.04486, 0.17446, 0.16948, -0.00498, -0.08474, -0.02991, -0.06978, -0.20935, -0.22929, -0.22929, 0.10966, -0.47104, -0.31901, -0.25920, -0.21434, -0.16948, -0.02991, 0.09471, 0.07477, -0.07975, -0.12960, -0.08474, -0.10468, -0.19938, -0.19938, -0.18443, 0.18941, -0.49098, -0.25920, -0.19440, -0.15452, -0.07975, 0.06978, 0.22929, 0.21932, 0.06480, -0.00997, 0.06480, 0.01994, -0.10468, -0.12960, -0.13957, 0.08972, -0.34892, -0.24425, -0.17446, -0.14954, -0.10966, 0.00997, 0.17945, 0.18443, 0.03489, -0.03489, 0.02991, 0.00000, -0.11465, -0.12461, -0.10966, 0.13458, -0.25421, -0.16948, -0.11963, -0.09471, -0.05982, 0.06978, 0.23926, 0.26418, 0.06480, -0.02492, 0.02991, -0.01994, -0.13957, -0.17446, -0.16948, 0.06480, -0.32400, -0.29908, -0.24425, -0.21434, -0.14455, -0.01495, 0.18443, 0.17945, -0.01495, -0.08474, -0.01495, -0.04985, -0.14455, -0.16449, -0.17945, 0.09969, -0.29409, -0.27415, -0.21434, -0.21932, -0.12960, -0.00498, 0.16449, 0.26418, 0.10468, 0.00498, 0.07477, 0.03489, -0.08474, -0.11465, -0.07975, 0.05982, -0.24923, -0.24425, -0.15951, -0.12960, -0.06480, 0.04985, 0.21932, 0.21434, 0.05483, -0.00997, 0.09969, 0.03489, -0.08972, -0.10966, -0.09969, 0.13458, -0.19440, -0.15452, -0.10966, -0.08972, -0.06480, 0.07477, 0.22431, 0.22929, 0.03988, -0.04985, 0.00498, -0.04486, -0.13458, -0.17945, -0.18941, 0.10468, -0.20437, -0.27914, -0.20437, -0.19440, -0.19440, 0.03489, 0.20935, 0.22431, 0.00997, -0.05982, 0.02492, -0.00997, -0.09471, -0.08972, -0.08972, 0.16449, -0.31403, -0.20935, -0.16449, -0.13957, -0.07975, 0.04486, 0.21932, 0.20437, 0.01495, -0.03489, 0.03988, -0.00498, -0.13458, -0.15951, -0.14455, 0.15951, -0.39877, -0.22431, -0.13458, -0.12960, -0.09471, 0.03988, 0.22431, 0.21932, 0.07477, -0.00498, 0.05982, 0.01495, -0.12461, -0.14954, -0.14954, 0.18443, -0.42618, -0.26917, -0.19938, -0.24923, -0.17945, -0.03988, 0.10966, 0.10468, -0.07477, -0.14455, -0.09969, -0.11465, -0.24923, -0.24425, -0.23926, 0.13458, -0.44114, -0.34394, -0.26917, -0.22431, -0.14954, -0.02492, 0.12960, 0.10468, -0.07477, -0.12461, -0.05483, -0.06978, -0.18443, -0.17446, -0.17446, 0.17446, -0.45111, -0.23926, -0.17446, -0.15951, -0.11465, 0.01994, 0.17446, 0.15452, 0.00000, -0.06978, 0.00000, -0.04486, -0.17945, -0.20935, -0.18443, 0.13458, -0.48101, -0.26418, -0.20935, -0.18941, -0.13458, 0.00997, 0.16948, 0.17945, 0.00997, -0.02991, 0.01495, -0.00498, -0.16449, -0.18941, -0.18941, 0.13957, -0.47104, -0.29409, -0.24923, -0.19938, -0.15951, -0.00498, 0.15452, 0.14455, -0.04985, -0.07477, -0.03988, -0.10966, -0.22431, -0.21932, -0.20437, 0.24425, -0.51092, -0.29908, -0.24425, -0.20935, -0.15452, 0.00000, 0.14954, 0.10966, -0.05982, -0.13458, -0.04486, -0.06978, -0.18941, -0.19440, -0.18941, 0.15452, -0.53584, -0.28412, -0.24425, -0.23428, -0.16449, 0.00997, 0.12461, 0.12461, -0.01994, -0.10468, -0.04486, -0.06978, -0.19440, -0.20935, -0.18941, 0.17446, -0.54581, -0.24923, -0.20935, -0.18443, -0.10468, 0.02492, 0.18941, 0.15951, 0.01495, -0.03988, 0.01994, -0.04985, -0.12960, -0.19938, -0.20437, 0.23428, -0.67043, -0.28911, -0.27914, -0.25421, -0.17446, -0.05483, 0.10966, 0.05982, -0.09969, -0.12960, -0.10468, -0.13458, -0.23428, -0.23926, -0.24425, 0.31403, -0.58071, -0.29409, -0.25421, -0.24425, -0.15452, 0.00498, 0.15951, 0.10468, -0.05483, -0.10468, -0.06978, -0.08972, -0.18443, -0.18443, -0.14954, 0.38381, -0.62557, -0.18941, -0.17446, -0.15951, -0.08972, 0.04985, 0.18941, 0.15452, -0.02991, -0.05982, -0.00997, -0.05982, -0.15452, -0.17945, -0.16948, 0.30905, -0.68538, -0.23428, -0.20437, -0.15951, -0.09471, 0.05982, 0.20935, 0.17945, 0.03988, 0.02492, 0.05982, -0.00997, -0.11465, -0.16948, -0.17446, 0.33397, -0.71529, -0.23428, -0.24425, -0.23428, -0.19440, -0.03489, 0.10468, 0.04985, -0.09471, -0.14455, -0.10966, -0.19440, -0.24425, -0.24425, -0.26917, 0.36886, -0.66046, -0.28412, -0.22929, -0.19938, -0.14455, 0.02492, 0.17945, 0.12461, -0.03489, -0.04985, -0.01495, -0.04486, -0.15951, -0.15452, -0.15951, 0.45111, -0.66046, -0.22431, -0.21434, -0.20437, -0.13957, 0.00000, 0.12960, 0.07975, -0.07975, -0.08474, -0.05483, -0.11465, -0.22431, -0.23428, -0.23428, 0.37384, -0.74520, -0.26917, -0.24923, -0.20437, -0.16449, 0.01994, 0.12461, 0.06978, -0.11465, -0.11465, -0.09471, -0.15452, -0.23926, -0.22929, -0.25421, 0.41621, -0.66046, -0.31901, -0.27914, -0.24425, -0.18443, -0.03988, 0.08972, 0.00000, -0.14954, -0.15452, -0.13957, -0.17446, -0.26917, -0.26418, -0.26917, 0.47603, -0.67043, -0.27415, -0.24923, -0.22431, -0.15951, 0.00997, 0.16449, 0.08972, -0.07477, -0.08474, -0.03988, -0.08972, -0.18443, -0.19440, -0.18443, 0.43117, -0.68538, -0.22431, -0.20437, -0.17446, -0.10966, 0.04985, 0.16449, 0.12461, -0.02492, -0.04985, -0.00997, -0.06480, -0.15452, -0.16449, -0.16948, 0.41123, -0.69535, -0.23926, -0.21932, -0.19938, -0.13957, -0.00498, 0.11963, 0.08474, -0.08972, -0.12461, -0.09471, -0.13458, -0.25920, -0.28412, -0.27415, 0.36886, -0.67541, -0.27914, -0.26418, -0.24923, -0.15452, -0.00997, 0.10468, 0.03489, -0.13957, -0.14954, -0.12461, -0.15452, -0.23926, -0.24923, -0.25920, 0.42618, -0.65049, -0.26418, -0.24425, -0.22431, -0.14455, 0.01994, 0.16449, 0.09471, -0.05982, -0.08972, -0.04985, -0.09471, -0.19938, -0.21932, -0.21932, 0.34892, -0.70034, -0.23926, -0.20935, -0.20437, -0.11963, 0.03988, 0.16948, 0.13458, -0.02492, -0.04486, 0.00997, -0.04486, -0.13458, -0.15951, -0.15951, 0.39877, -0.66544, -0.19938, -0.18941, -0.13957, -0.09471, 0.06480, 0.17446, 0.13957, -0.02492, -0.05483, -0.03988, -0.08474, -0.20437, -0.22431, -0.23428, 0.28911, -0.67541, -0.26917, -0.22929, -0.20437, -0.13458, 0.03489, 0.17446, 0.09969, -0.04985, -0.07477, -0.04985, -0.08972, -0.16948, -0.18443, -0.18443, 0.38381, -0.61560, -0.22431, -0.17446, -0.13458, -0.07477, 0.08474, 0.22929, 0.17945, 0.02991, -0.02991, 0.02492, -0.03489, -0.14954, -0.14954, -0.12461, 0.32898, -0.59566, -0.19440, -0.14954, -0.13957, -0.07477, 0.06480, 0.20437, 0.21932, 0.05483, 0.02492, 0.07477, 0.04486, -0.05982, -0.06978, -0.03988, 0.41123, -0.47104, -0.07975, -0.05982, -0.02991, 0.02991, 0.14954, 0.32400, 0.28412, 0.11963, 0.06978, 0.11465, 0.05982, -0.06480, -0.05982, -0.06978, 0.40624, -0.60563, -0.14954, -0.12960, -0.11963, -0.06480, 0.06978, 0.22431, 0.17945, 0.03988, -0.01495, 0.06480, -0.01994, -0.12461, -0.13458, -0.14455, 0.36886, -0.47104, -0.18443, -0.14455, -0.12960, -0.04985, 0.10966, 0.23926, 0.17446, 0.00498, -0.01495, 0.00997, -0.00997, -0.11465, -0.11465, -0.10966, 0.39877, -0.53086, -0.12960, -0.11465, -0.09969, -0.01994, 0.11963, 0.25920, 0.24425, 0.05483, 0.01994, 0.05982, 0.00997, -0.08972, -0.10468, -0.08972, 0.34892, -0.54581, -0.14954, -0.11963, -0.08474, -0.01495, 0.12960, 0.28911, 0.27415, 0.10468, 0.09471, 0.12461, 0.08474, -0.02991, -0.06480, -0.05483, 0.39378, -0.54581, -0.13458, -0.07477, -0.06480, -0.01495, 0.11465, 0.25920, 0.21434, 0.03489, -0.00498, 0.02991, -0.03988, -0.16948, -0.17945, -0.20437, 0.28911, -0.64052, -0.24425, -0.19440, -0.17945, -0.11465, 0.02991, 0.18443, 0.13957, -0.02492, -0.09969, -0.01994, -0.07477, -0.18941, -0.21932, -0.20935, 0.27415, -0.54083, -0.24923, -0.21434, -0.17945, -0.12461, 0.04486, 0.19938, 0.17945, 0.00498, -0.03489, 0.01495, 0.00000, -0.11963, -0.15452, -0.12960, 0.21932, -0.51092, -0.19938, -0.16449, -0.14455, -0.08972, 0.04486, 0.20935, 0.19440, 0.04486, -0.02991, 0.05483, 0.01994, -0.09969, -0.12461, -0.09969, 0.23926, -0.41621, -0.17945, -0.13458, -0.12461, -0.07975, 0.03988, 0.18941, 0.16948, -0.01994, -0.05982, -0.01495, -0.06480, -0.16449, -0.19440, -0.17945, 0.17945, -0.43615, -0.27914, -0.17945, -0.17945, -0.14455, 0.01994, 0.16449, 0.12960, -0.02492, -0.05483, -0.01994, -0.06480, -0.18443, -0.19440, -0.17945, 0.18443, -0.46108, -0.22431, -0.18443, -0.15452, -0.08972, 0.03988, 0.20935, 0.20935, 0.03988, -0.02492, 0.05483, 0.00498, -0.08972, -0.12960, -0.11963, 0.04486, -0.25421, -0.24425, -0.16948, -0.14954, -0.09471, 0.03489, 0.19938, 0.21434, 0.05982, -0.00997, 0.05982, 0.00997, -0.09471, -0.11963, -0.10468, 0.06480, -0.21434, -0.21434, -0.16449, -0.08972, -0.07975, 0.06480, 0.20437, 0.21434, 0.01994, -0.06978, -0.03988, -0.04486, -0.18443, -0.17446, -0.17945, 0.04985, -0.14954, -0.26418, -0.19440, -0.18443, -0.13957, -0.00498, 0.17446, 0.16449, -0.00498, -0.11963, 0.00498, 0.00498, -0.08972, -0.10468, -0.11963, 0.02492, -0.08474, -0.18443, -0.11465, -0.09969, -0.02492, 0.10468, 0.27914, 0.29908, 0.14954, 0.08474, 0.12461, 0.10966, -0.03988, -0.07975, -0.06978, -0.00498, 0.10966, -0.19938, -0.11465, -0.10966, -0.03988, 0.06480, 0.23926, 0.26418, 0.10468, 0.01994, 0.09969, 0.07975, -0.05483, -0.06480, -0.07477, -0.02492, 0.04985, -0.20437, -0.12461, -0.11963, -0.07477, 0.04486, 0.19938, 0.22431, 0.04985, -0.05982, 0.00997, -0.01495, -0.13458, -0.20935, -0.19938, -0.10468, 0.00997, -0.33397, -0.20437, -0.18941, -0.17945, -0.02991, 0.13458, 0.13957, -0.02492, -0.09969, -0.05982, -0.05982, -0.17945, -0.20935, -0.23428, -0.19938, 0.05982, -0.33397, -0.23428, -0.22431, -0.16449, -0.04985, 0.11465, 0.14455, 0.01495, -0.08474, -0.03988, -0.03988, -0.16948, -0.22929, -0.20935, -0.24923, 0.24923, -0.38880, -0.24425, -0.24425, -0.19938, -0.09471, 0.08972, 0.15452, 0.02492, -0.07975, -0.00498, 0.00000, -0.14455, -0.18941, -0.18443, -0.20437, 0.30406, -0.36886, -0.23926, -0.20935, -0.16449, -0.06480, 0.09471, 0.16449, 0.00000, -0.13957, -0.06978, -0.06978, -0.20935, -0.29908, -0.28412, -0.31901, 0.27914, -0.50095, -0.34892, -0.29908, -0.26917, -0.15452, 0.00997, 0.08474, -0.06480, -0.20935, -0.13458, -0.13458, -0.22929, -0.29908, -0.29908, -0.33895, 0.39877, -0.44114, -0.33397, -0.31403, -0.26418, -0.15452, 0.02991, 0.08972, -0.05483, -0.15951, -0.11465, -0.12960, -0.22929, -0.27914, -0.28412, -0.32898, 0.63055, -0.49597, -0.31403, -0.29409, -0.26418, -0.15951, 0.00997, 0.08474, -0.00498, -0.12461, -0.09471, -0.07477, -0.15452, -0.22431, -0.22431, -0.24923, 0.67043, -0.50594, -0.25421, -0.24425, -0.21932, -0.13957, 0.02492, 0.07477, -0.00498, -0.15452, -0.14455, -0.16449, -0.23926, -0.27914, -0.27914, -0.30406, 0.55578, -0.55578, -0.30905, -0.25920, -0.24425, -0.16449, 0.01994, 0.10468, -0.01495, -0.14455, -0.10966, -0.11465, -0.14954, -0.23428, -0.24425, -0.26418, 0.65049, -0.53086, -0.25920, -0.23926, -0.22431, -0.14954, 0.03489, 0.11963, 0.02492, -0.11963, -0.10468, -0.08972, -0.17945, -0.27914, -0.27914, -0.29409, 0.52089, -0.68538, -0.29908, -0.28412, -0.25920, -0.18443, -0.01495, 0.10966, 0.03988, -0.10468, -0.09471, -0.07477, -0.14455, -0.21932, -0.25920, -0.28412, 0.45609, -0.71031, -0.33397, -0.33397, -0.30406, -0.25920, -0.07975, 0.01495, -0.07477, -0.19440, -0.18443, -0.17446, -0.22929, -0.33895, -0.33895, -0.35889, 0.42618, -0.73523, -0.37384, -0.30406, -0.28911, -0.21932, -0.04985, 0.06978, -0.03489, -0.18443, -0.16449, -0.15452, -0.18443, -0.27914, -0.28412, -0.28911, 0.47104, -0.66544, -0.27415, -0.27415, -0.20935, -0.14954, 0.00498, 0.12461, 0.06978, -0.06978, -0.11465, -0.07477, -0.14455, -0.23428, -0.24425, -0.22929, 0.29908, -0.72526, -0.27415, -0.24425, -0.22431, -0.16449, -0.01495, 0.12960, 0.11465, -0.01495, -0.05982, -0.01495, -0.06978, -0.16449, -0.17945, -0.17446, 0.33397, -0.64551, -0.25421, -0.21434, -0.21932, -0.15452, -0.04985, 0.08474, 0.05982, -0.14455, -0.15452, -0.10966, -0.13957, -0.25920, -0.30406, -0.29908, 0.17945, -0.62058, -0.32898, -0.30406, -0.26418, -0.19938, -0.03988, 0.10468, 0.01994, -0.12960, -0.12461, -0.08972, -0.09471, -0.16948, -0.17446, -0.16449, 0.27415, -0.47603, -0.18443, -0.16449, -0.14455, -0.11465, 0.04486, 0.18443, 0.15452, 0.00997, -0.03489, 0.01994, -0.04985, -0.16449, -0.18941, -0.15452, 0.25920, -0.53086, -0.18941, -0.16449, -0.13458, -0.06978, 0.08474, 0.23428, 0.23428, 0.07477, 0.00498, 0.07477, 0.03988, -0.10966, -0.12960, -0.14455, 0.17945, -0.36886, -0.25920, -0.20935, -0.17446, -0.10468, 0.03489, 0.19938, 0.15951, 0.01495, -0.01495, 0.01495, 0.00000, -0.10966, -0.11465, -0.09969, 0.24425, -0.27415, -0.20437, -0.10468, -0.08474, -0.01495, 0.14954, 0.30406, 0.30406, 0.15452, 0.08972, 0.15452, 0.12461, 0.00997, -0.02492, -0.02991, 0.07975, -0.04486, -0.12960, -0.07975, -0.05982, -0.00498, 0.11465, 0.28412, 0.33397, 0.17945, 0.11465, 0.19938, 0.18443, 0.03988, -0.00498, -0.00498, 0.08972, 0.06978, -0.11963, -0.01994, -0.00498, 0.04985, 0.13458, 0.27914, 0.27914, 0.12461, 0.00997, 0.05982, -0.01495, -0.10468, -0.14455, -0.15951, -0.03489, 0.00997, -0.32400, -0.23428, -0.19938, -0.13957, -0.01495, 0.16948, 0.18941, 0.01994, -0.04985, -0.00498, 0.00000, -0.11465, -0.11963, -0.10966, -0.06480, 0.05483, -0.18443, -0.12461, -0.11465, -0.04486, 0.07477, 0.22929, 0.24425, 0.10468, 0.00997, 0.06978, 0.03988, -0.05483, -0.14455, -0.12461, -0.13957, 0.13458, -0.27415, -0.16449, -0.15951, -0.10468, -0.00997, 0.17945, 0.21434, 0.08474, 0.00000, 0.06978, 0.08474, -0.09969, -0.14954, -0.15951, -0.12461, 0.16449, -0.34394, -0.24425, -0.22431, -0.15951, -0.07975, 0.09969, 0.15951, -0.00498, -0.06978, -0.00997, -0.04486, -0.15452, -0.19440, -0.16449, -0.14455, 0.10966, -0.34394, -0.23428, -0.21932, -0.16948, -0.04486, 0.13957, 0.16948, 0.00000, -0.09471, -0.04486, -0.02492, -0.13957, -0.18443, -0.16449, -0.17446, 0.29409, -0.32898, -0.22431, -0.19440, -0.15951, -0.03489, 0.13957, 0.20437, 0.03489, -0.05982, -0.00498, -0.01495, -0.12461, -0.17945, -0.16948, -0.23428, 0.56575, -0.35391, -0.18443, -0.16948, -0.12960, -0.04985, 0.11963, 0.18941, 0.05982, -0.07477, 0.00498, -0.02492, -0.13458, -0.20437, -0.20935, -0.25421, 0.63554, -0.41621, -0.23926, -0.21434, -0.17446, -0.09471, 0.09969, 0.20437, 0.05982, -0.06978, -0.03489, -0.02492, -0.09969, -0.16948, -0.16449, -0.17945, 0.77511, -0.26418, -0.10966, -0.10966, -0.08972, 0.03988, 0.22431, 0.28412, 0.15951, 0.02991, 0.07477, 0.09471, 0.00997, -0.06978, -0.04985, -0.11465, 0.89474, -0.29908, -0.10468, -0.08474, -0.07477, 0.02492, 0.19440, 0.28412, 0.16948, 0.06480, 0.10468, 0.08474, 0.00997, -0.08972, -0.06480, -0.10966, 0.82994, -0.29409, -0.10966, -0.09471, -0.06480, 0.00000, 0.20935, 0.25920, 0.13458, 0.02492, 0.02991, 0.00000, -0.04486, -0.17446, -0.17446, -0.17446, 0.73523, -0.43615, -0.20935, -0.14455, -0.10966, -0.01495, 0.12960, 0.20935, 0.10966, -0.03988, -0.03988, -0.04486, -0.10468, -0.18443, -0.17945, -0.18443, 0.75018, -0.44612, -0.17945, -0.14455, -0.12461, -0.02492, 0.14954, 0.25421, 0.14455, 0.01495, 0.00997, 0.01495, -0.01994, -0.11465, -0.11963, -0.13458, 0.57074, -0.58071, -0.15951, -0.12461, -0.11465, -0.03988, 0.09471, 0.22929, 0.16948, 0.02492, 0.03988, 0.05982, 0.00997, -0.09969, -0.09969, -0.12461, 0.52588, -0.58071, -0.16449, -0.12461, -0.12960, -0.05982, 0.08972, 0.23428, 0.11963, -0.03988, -0.02492, -0.06480, -0.05982, -0.16948, -0.18941, -0.16948, 0.44114, -0.61061, -0.20935, -0.21932, -0.14954, -0.06978, 0.11963, 0.20437, 0.12960, -0.03988, -0.03988, 0.00997, -0.03988, -0.07477, -0.09471, -0.08972, 0.47104, -0.53086, -0.14455, -0.14455, -0.14455, -0.06480, 0.04486, 0.09471, -0.00997, -0.18941, -0.22431, -0.16948, -0.16449, -0.29409, -0.28412, -0.33895, 0.10468, -0.64551, -0.37384, -0.29409, -0.28911, -0.24923, -0.12461, 0.06978, 0.05483, -0.15452, -0.12461, -0.11963, -0.17945, -0.29409, -0.32400, -0.32898, 0.05483, -0.65547, -0.45609, -0.43117, -0.44114, -0.38381, -0.27415, -0.13458, -0.13458, -0.26418, -0.27415, -0.21932, -0.26418, -0.35391, -0.36388, -0.36886, 0.08474, -0.68040, -0.44612, -0.35391, -0.33397, -0.33397, -0.16948, 0.02492, -0.01994, -0.13957, -0.16449, -0.08474, -0.07477, -0.23926, -0.21434, -0.21932, 0.00997, -0.27914, -0.35391, -0.28911, -0.33397, -0.29409, -0.18443, -0.09969, -0.15452, -0.42120, -0.53086, -0.49597, -0.49098, -0.57074, -0.54083, -0.48600, -0.27914, -0.48600, -0.49098, -0.39877, -0.32400, -0.26917, -0.12960, 0.08474, 0.09471, -0.07477, -0.12461, -0.04486, -0.09969, -0.22431, -0.21434, -0.22929, -0.01994, -0.31403, -0.28412, -0.24923, -0.20935, -0.17446, -0.01994, 0.15452, 0.18443, 0.01495, -0.03988, 0.00498, -0.04486, -0.16449, -0.20437, -0.24923, -0.08972, -0.22929, -0.43615, -0.17945, -0.17446, -0.11963, 0.07975, 0.33397, 0.34394, 0.11963, 0.00997, 0.20437, 0.10468, -0.03489, -0.09471, -0.09969, 0.03988, -0.34394, -0.27415, -0.24923, -0.17446, -0.13458, -0.05982, 0.00997, 0.04985, -0.06480, -0.07477, 0.00000, -0.06978, -0.21932, -0.19440, -0.30905, 0.01495, -0.20437, -0.32898, -0.39378, -0.41123, -0.24425, -0.03988, 0.14954, 0.09471, -0.08972, -0.13458, -0.00498, -0.00498, -0.06480, -0.18941, -0.20935, -0.09471, -0.26917, -0.31403, -0.25421, -0.28412, -0.22929, -0.04985, 0.26917, 0.38880, 0.19440, 0.11465, 0.19938, 0.12960, -0.05483, -0.14954, -0.15951, -0.04985, -0.11963, -0.39378, -0.42618, -0.40624, -0.33397, -0.16948, 0.04486, 0.08474, -0.02492, -0.07975, 0.00000, -0.19440, -0.40624, -0.15951, -0.12960, 0.01495, -0.01994, -0.26418, -0.20437, -0.23428, -0.20437, -0.06480, 0.10468, 0.07975, -0.11963, -0.16948, -0.05982, -0.10468, -0.19440, -0.16948, -0.11963, -0.02991, 0.03988, -0.25421, -0.22431, -0.13957, -0.05483, 0.09471, 0.25421, 0.27415, 0.13957, 0.10966, 0.22431, 0.23428, 0.18443, 0.15951, 0.17945, 0.20935, 0.34892, 0.03489, 0.14455, 0.14455, 0.17945, 0.27914, 0.44612, 0.43615, 0.30905, 0.24425, 0.28911, 0.30406, 0.15951, 0.10468, 0.10468, 0.14455, 0.44114, 0.00000, 0.10468, 0.12461, 0.19938, 0.27415, 0.55578, 0.60563, 0.43117, 0.29409, 0.28911, 0.24923, 0.18443, 0.20437, 0.22431, 0.27914, 0.61061, 0.17446, 0.28911, 0.30406, 0.34892, 0.46606, 0.62557, 0.67541, 0.53584, 0.43615, 0.49098, 0.52089, 0.39378, 0.37384, 0.39378, 0.36388, 0.73024, 0.20437, 0.30406, 0.32400, 0.38381, 0.49098, 0.66544, 0.76015, 0.60064, 0.48600, 0.53086, 0.52089, 0.38880, 0.34394, 0.33895, 0.35889, 0.78009, 0.20437, 0.32898, 0.33397, 0.35391, 0.45609, 0.60563, 0.68538, 0.50095, 0.38880, 0.47603, 0.43615, 0.30406, 0.28412, 0.28911, 0.28412, 0.73024, 0.15951, 0.26917, 0.28911, 0.33397, 0.41621, 0.53584, 0.56077, 0.44114, 0.37883, 0.46606, 0.49098, 0.40624, 0.35889, 0.34394, 0.34394, 0.93960, 0.23428, 0.33895, 0.37384, 0.37883, 0.47104, 0.65049, 0.72526, 0.56077, 0.44612, 0.50594, 0.45609, 0.38880, 0.29908, 0.29409, 0.25421, 0.94957, 0.10468, 0.25421, 0.27914, 0.31403, 0.42120, 0.58569, 0.67043, 0.52089, 0.38880, 0.44612, 0.44612, 0.32898, 0.28412, 0.31403, 0.26418, 0.86483, 0.12461, 0.27914, 0.28911, 0.34892, 0.44612, 0.64551, 0.68538, 0.54083, 0.34892, 0.33895, 0.33397, 0.21434, 0.15951, 0.15452, 0.15452, 0.74021, -0.01994, 0.15951, 0.14954, 0.25421, 0.32400, 0.50594, 0.56077, 0.43615, 0.29908, 0.35889, 0.33397, 0.22929, 0.18443, 0.19440, 0.15951, 0.83991, 0.04985, 0.17945, 0.21434, 0.24923, 0.32400, 0.50594, 0.53086, 0.42618, 0.29908, 0.32898, 0.33895, 0.25920, 0.17446, 0.17446, 0.10966, 1.05424, -0.05483, 0.11963, 0.12960, 0.15452, 0.24923, 0.44114, 0.51591, 0.43117, 0.30905, 0.35889, 0.32400, 0.19938, 0.15951, 0.15951, 0.10966, 0.95455, -0.07477, 0.07975, 0.07477, 0.11963, 0.18443, 0.37883, 0.42618, 0.31403, 0.15951, 0.19938, 0.20437, 0.09969, 0.04985, 0.04985, 0.00997, 0.87480, -0.13458, 0.02492, 0.04486, 0.06978, 0.20437, 0.36886, 0.41621, 0.27415, 0.16948, 0.19938, 0.17945, 0.09969, 0.05483, 0.07975, 0.01994, 0.99941, -0.09471, 0.05483, 0.08972, 0.11465, 0.19440, 0.35391, 0.43615, 0.32898, 0.20437, 0.23428, 0.22929, 0.11963, 0.05483, 0.07477, 0.01994, 0.94458, -0.21932, 0.01994, 0.02991, 0.08972, 0.15951, 0.32400, 0.41621, 0.31403, 0.19938, 0.26418, 0.22929, 0.13957, 0.04486, 0.04985, 0.02991, 0.92464, -0.19938, 0.02991, 0.04985, 0.06978, 0.13957, 0.31901, 0.40624, 0.30905, 0.18443, 0.23428, 0.21932, 0.14455, 0.06480, 0.03988, -0.00498, 0.88477, -0.28911, -0.02492, 0.01994, 0.04486, 0.12461, 0.28911, 0.36886, 0.27415, 0.12960, 0.17945, 0.14455, 0.08474, 0.00997, 0.00000, -0.04985, 0.85984, -0.27415, -0.06978, -0.01994, -0.02492, 0.09471, 0.26917, 0.36388, 0.24923, 0.12960, 0.13957, 0.15951, 0.07975, 0.01994, 0.00997, -0.02991, 0.95455, -0.23428, 0.01994, 0.03489, 0.06978, 0.13957, 0.29908, 0.39877, 0.28412, 0.15452, 0.17446, 0.17446, 0.11465, 0.04486, 0.01994, 0.00000, 0.84987, -0.34892, -0.00997, 0.00997, 0.02991, 0.11465, 0.27914, 0.37384, 0.30406, 0.15452, 0.18941, 0.18443, 0.10966, 0.00997, 0.00000, -0.00498, 0.78009, -0.37883, -0.03988, -0.01994, 0.02991, 0.08972, 0.23428, 0.34892, 0.26418, 0.11963, 0.15452, 0.13957, 0.02492, -0.01994, -0.04486, -0.05982, 0.68040, -0.48101, -0.10966, -0.06480, -0.05483, 0.03988, 0.18941, 0.27914, 0.21434, 0.08972, 0.07975, 0.07477, 0.01495, -0.05483, -0.05483, -0.06978, 0.78507, -0.39877, -0.09471, -0.06978, -0.03988, 0.02991, 0.22929, 0.34394, 0.22929, 0.08474, 0.09471, 0.12960, 0.06480, 0.00000, 0.00000, -0.02991, 0.80501, -0.39378, -0.05483, -0.03489, -0.00997, 0.05982, 0.20935, 0.31403, 0.25421, 0.10468, 0.10468, 0.12461, 0.07975, -0.02492, -0.03489, -0.04486, 0.66046, -0.45111, -0.05483, -0.02492, 0.00000, 0.07477, 0.20437, 0.31403, 0.23926, 0.11465, 0.11465, 0.13957, 0.06480, -0.02991, -0.03489, -0.07477, 0.60064, -0.51092, -0.08474, -0.05982, -0.03988, 0.01994, 0.13957, 0.28412, 0.20437, 0.07477, 0.06480, 0.07975, 0.00997, -0.09969, -0.13458, -0.09969, 0.54581, -0.52588, -0.13458, -0.11963, -0.07477, -0.00498, 0.13957, 0.23428, 0.20437, 0.03489, 0.03489, 0.05483, 0.00498, -0.07477, -0.05483, -0.06978, 0.60563, -0.50095, -0.09471, -0.06480, -0.03988, 0.03489, 0.19938, 0.33397, 0.25421, 0.10468, 0.10468, 0.13458, 0.10966, -0.01994, 0.00000, -0.01495, 0.47603, -0.47603, -0.05982, -0.03489, -0.01495, 0.05483, 0.22929, 0.32400, 0.31403, 0.16449, 0.12960, 0.17446, 0.09471, 0.00997, -0.00498, 0.00997, 0.43615, -0.45111, -0.04985, -0.00997, 0.00498, 0.03489, 0.18443, 0.30905, 0.27914, 0.14954, 0.08972, 0.12461, 0.12960, -0.04486, -0.05982, -0.08474, 0.36886, -0.49597, -0.14954, -0.14954, -0.11963, -0.09471, 0.05483, 0.16948, 0.10468, -0.02492, -0.08474, -0.04985, -0.08972, -0.20935, -0.25421, -0.25920, 0.20437, -0.58071, -0.34394, -0.30406, -0.27415, -0.19938, -0.02991, 0.11465, 0.08474, -0.08474, -0.16449, -0.06978, -0.09471, -0.21434, -0.23926, -0.21434, 0.12960, -0.52588, -0.27914, -0.25421, -0.21932, -0.16948, -0.03988, 0.10966, 0.08474, -0.07477, -0.12960, -0.04985, -0.10468, -0.21932, -0.25920, -0.23428, 0.03489, -0.44114, -0.32400, -0.25421, -0.23926, -0.21434, -0.09471, 0.05483, 0.06480, -0.09471, -0.13458, -0.06978, -0.10966, -0.25421, -0.27415, -0.27415, -0.05982, -0.43615, -0.41123, -0.33397, -0.32898, -0.28412, -0.16449, 0.00498, -0.00498, -0.13458, -0.20437, -0.17446, -0.17945, -0.28911, -0.31403, -0.32898, -0.06480, -0.36388, -0.39378, -0.34892, -0.33397, -0.27914, -0.13957, 0.00498, 0.05483, -0.08474, -0.15951, -0.09969, -0.12960, -0.21434, -0.25421, -0.25920, -0.12461, -0.25920, -0.34892, -0.28911, -0.21434, -0.20935, -0.08474, 0.08474, 0.09471, -0.04486, -0.13957, -0.04486, -0.07477, -0.16449, -0.20935, -0.20935, -0.13458, -0.09471, -0.28412, -0.21932, -0.18941, -0.15452, -0.05483, 0.10966, 0.17945, 0.03988, -0.03489, 0.03988, 0.01495, -0.09471, -0.17446, -0.17945, -0.13458, -0.01495, -0.32400, -0.23428, -0.19440, -0.12960, -0.06480, 0.08972, 0.11465, -0.03489, -0.07477, -0.03988, -0.01495, -0.14455, -0.22431, -0.17446, -0.08474, 0.08474, -0.24425, -0.20935, -0.21932, -0.17446, -0.04985, 0.09969, 0.14455, 0.00997, -0.05982, 0.04985, 0.05483, -0.05982, -0.07975, -0.04486, -0.07477, 0.26917, -0.19938, -0.06978, -0.06978, 0.00997, 0.11963, 0.26917, 0.32400, 0.18443, 0.06978, 0.14455, 0.12960, 0.00000, -0.02991, -0.02991, -0.09471, 0.43615, -0.21932, -0.08972, -0.07477, -0.03988, 0.02991, 0.19440, 0.23926, 0.11465, 0.02991, 0.07477, 0.04486, -0.07477, -0.12461, -0.11465, -0.13458, 0.53086, -0.26418, -0.10468, -0.04486, -0.01994, 0.05982, 0.18941, 0.24923, 0.14954, -0.00498, 0.05483, 0.02991, -0.07975, -0.16449, -0.12461, -0.15452, 0.53584, -0.30406, -0.14455, -0.12461, -0.08972, 0.01994, 0.18941, 0.25421, 0.13458, 0.04486, 0.09471, 0.07477, 0.00997, -0.03988, -0.14455, -0.07477, 0.92963, -0.19938, -0.05483, -0.02991, -0.02492, 0.02492, 0.16948, 0.27415, 0.14455, -0.00997, 0.04985, 0.06480, -0.01994, -0.09471, -0.08474, -0.09969, 0.77511, -0.37384, -0.11963, -0.06480, -0.02991, 0.04486, 0.16948, 0.27914, 0.21932, 0.06978, 0.13458, 0.08474, -0.00498, -0.05483, -0.10468, -0.11963, 0.67541, -0.44612, -0.16948, -0.13458, -0.11465, -0.03988, 0.13957, 0.28412, 0.15951, 0.06978, 0.03988, 0.05982, 0.00498, -0.09969, -0.10468, -0.09471, 0.74520, -0.43615, -0.13957, -0.12461, -0.09471, -0.00997, 0.11963, 0.25421, 0.17945, 0.04486, 0.06480, 0.06480, 0.01495, -0.04985, -0.04985, -0.05483, 0.51591, -0.56077, -0.10966, -0.10468, -0.05982, 0.02492, 0.16948, 0.30905, 0.27415, 0.12960, 0.09969, 0.13957, 0.08972, -0.00498, -0.01495, -0.02492, 0.47104, -0.47104, -0.06480, -0.03988, -0.05483, 0.00000, 0.14455, 0.26418, 0.27415, 0.12461, 0.06978, 0.12461, 0.13458, 0.00000, -0.01994, -0.01495, 0.45111, -0.33397, -0.06978, -0.02991, 0.00000, 0.08474, 0.21434, 0.38381, 0.32400, 0.16449, 0.10966, 0.19938, 0.17945, 0.04486, 0.06978, 0.06978, 0.46606, -0.22929, 0.00997, 0.04486, 0.03988, 0.14954, 0.22431, 0.39378, 0.36886, 0.25421, 0.20437, 0.25421, 0.18941, 0.07477, 0.05483, 0.06480, 0.31901, -0.13957, -0.03988, 0.01994, 0.04486, 0.08972, 0.21434, 0.38381, 0.36886, 0.19938, 0.14455, 0.21932, 0.17446, 0.02492, 0.00498, 0.00498, 0.15951, 0.02991, -0.10966, -0.01495, -0.02492, 0.02492, 0.17945, 0.34394, 0.35391, 0.17446, 0.08972, 0.16948, 0.12960, 0.01994, 0.01994, 0.02991, 0.16948, 0.18941, -0.06978, 0.00498, 0.04486, 0.10468, 0.21932, 0.41621, 0.44114, 0.30406, 0.21434, 0.27415, 0.26917, 0.13957, 0.07477, 0.09471, 0.08474, 0.49597, -0.01994, 0.09969, 0.09471, 0.13957, 0.22929, 0.40624, 0.48101, 0.34394, 0.24923, 0.32400, 0.30905, 0.18941, 0.13458, 0.13957, 0.09969, 0.71031, -0.00997, 0.11963, 0.13458, 0.17446, 0.26418, 0.43615, 0.49098, 0.36388, 0.25920, 0.30905, 0.27914, 0.13957, 0.06978, 0.07477, 0.03489, 0.68538, -0.15951, 0.00997, 0.01994, 0.03988, 0.14954, 0.33895, 0.38880, 0.28412, 0.20437, 0.28911, 0.26418, 0.17446, 0.10966, 0.06978, 0.02492, 0.77511, -0.09471, 0.00498, 0.01994, 0.07975, 0.17945, 0.35889, 0.43615, 0.29409, 0.18443, 0.22431, 0.20935, 0.14455, 0.06978, 0.06978, 0.03489, 0.95954, -0.13458, 0.07477, 0.08474, 0.11465, 0.18443, 0.35391, 0.44612, 0.33895, 0.21434, 0.24923, 0.23428, 0.16948, 0.09471, 0.08972, 0.06480, 0.95954, -0.20437, 0.05483, 0.07975, 0.09471, 0.16948, 0.33397, 0.43117, 0.33895, 0.21434, 0.25421, 0.22929, 0.13458, 0.07975, 0.05982, 0.02991, 0.87978, -0.31403, -0.00498, 0.00997, 0.03988, 0.11963, 0.26418, 0.33895, 0.25920, 0.10966, 0.12960, 0.14954, 0.07477, 0.00997, 0.00498, -0.02991, 0.80003, -0.30905, -0.05483, -0.01994, -0.00498, 0.05483, 0.17945, 0.28911, 0.21932, 0.10468, 0.09969, 0.10468, 0.05982, -0.01495, -0.02492, -0.02492, 0.76514, -0.34394, -0.01495, 0.01495, 0.06978, 0.12960, 0.28911, 0.40624, 0.32898, 0.19440, 0.16948, 0.19440, 0.17446, 0.05483, 0.04985, 0.03988, 0.56575, -0.38381, 0.01994, 0.02492, 0.05483, 0.13957, 0.26917, 0.38880, 0.35391, 0.20935, 0.17446, 0.21434, 0.15951, 0.02991, 0.00997, 0.03489, 0.44612, -0.38381, -0.07477, -0.03489, -0.00498, 0.04985, 0.17446, 0.32898, 0.26418, 0.11465, 0.02492, 0.09969, 0.07477, -0.04985, -0.02492, -0.05483, 0.37384, -0.27914, -0.14455, -0.09471, -0.04486, -0.00498, 0.13458, 0.26917, 0.23428, 0.08972, 0.02492, 0.10468, 0.09471, -0.00498, -0.01495, 0.00498, 0.30905, -0.15452, -0.03988, 0.00997, 0.01495, 0.06978, 0.20437, 0.34394, 0.34892, 0.17945, 0.10966, 0.18443, 0.14954, 0.01495, -0.00498, 0.01495, 0.15452, -0.02492, -0.09471, -0.01994, -0.00498, 0.03988, 0.15452, 0.30905, 0.32898, 0.17446, 0.10468, 0.17945, 0.12960, 0.01495, 0.00000, 0.00000, 0.06978, 0.08474, -0.14954, -0.07975, -0.05982, -0.00997, 0.09471, 0.26917, 0.27914, 0.13458, 0.03489, 0.09471, 0.04486, -0.01994, -0.05483, -0.04985, 0.01994, 0.16948, -0.16948, -0.09471, -0.08972, -0.03988, 0.09969, 0.27415, 0.26917, 0.12461, 0.03988, 0.11963, 0.12960, 0.00498, -0.03988, -0.01994, -0.01994, 0.41123, -0.11465, -0.01994, 0.00997, 0.04985, 0.13957, 0.30406, 0.35889, 0.22929, 0.11963, 0.19938, 0.17446, 0.04486, 0.00498, 0.01495, -0.03489, 0.60563, -0.18443, -0.05982, -0.03489, 0.00498, 0.10468, 0.26917, 0.31403, 0.19938, 0.09471, 0.16449, 0.12960, 0.02492, -0.03988, -0.00997, -0.07975, 0.64551, -0.26917, -0.10468, -0.09969, -0.03489, 0.04985, 0.20437, 0.25920, 0.14455, 0.01994, 0.06978, 0.07477, -0.04985, -0.09969, -0.06480, -0.09969, 0.66046, -0.25421, -0.10468, -0.07975, -0.05982, 0.04486, 0.20935, 0.27914, 0.16948, 0.03988, 0.08474, 0.05982, 0.00000, -0.06978, -0.03988, -0.07975, 0.82994, -0.22929, -0.03988, -0.03489, 0.00498, 0.05982, 0.23926, 0.33397, 0.23428, 0.10966, 0.15452, 0.15452, 0.08474, -0.00997, -0.00498, -0.01994, 0.84987, -0.31403, -0.03489, -0.02492, 0.01495, 0.09471, 0.25421, 0.37384, 0.28412, 0.15951, 0.19440, 0.16449, 0.09969, 0.02991, 0.00997, -0.01994, 0.76015, -0.37883, -0.05483, -0.02991, -0.00997, 0.05982, 0.19938, 0.32400, 0.24923, 0.09969, 0.12461, 0.11465, 0.05982, -0.00997, -0.01495, -0.04486, 0.70532, -0.37883, -0.07477, -0.04486, -0.01994, 0.05982, 0.20935, 0.34394, 0.26418, 0.10966, 0.09969, 0.13458, 0.10966, 0.00498, -0.00498, 0.01495, 0.66046, -0.36886, 0.01495, 0.05483, 0.05982, 0.12960, 0.26418, 0.37883, 0.32898, 0.19440, 0.17446, 0.21932, 0.17446, 0.05982, 0.05982, 0.05483, 0.54083, -0.38880, 0.00498, 0.02991, 0.04486, 0.11465, 0.26917, 0.39877, 0.37384, 0.24425, 0.22431, 0.25920, 0.19938, 0.09969, 0.12461, 0.11963, 0.52588, -0.26917, 0.03988, 0.07975, 0.08972, 0.13957, 0.29409, 0.43117, 0.40624, 0.25920, 0.21434, 0.26917, 0.21932, 0.07975, 0.05982, 0.05982, 0.39378, -0.23926, -0.02492, 0.01994, 0.04486, 0.11465, 0.25920, 0.41123, 0.39378, 0.23926, 0.17446, 0.22929, 0.18443, 0.08474, 0.04985, 0.06480, 0.34394, 0.01994, -0.00997, 0.04985, 0.05483, 0.12461, 0.26418, 0.40624, 0.41621, 0.25421, 0.17945, 0.25421, 0.24425, 0.12960, 0.09969, 0.12960, 0.20437, 0.16449, 0.02492, 0.10468, 0.10468, 0.16449, 0.27415, 0.45111, 0.45609, 0.30406, 0.24425, 0.32400, 0.30406, 0.16449, 0.12960, 0.13957, 0.13458, 0.37883, 0.00000, 0.10468, 0.09969, 0.15452, 0.23926, 0.41621, 0.46606, 0.32400, 0.23926, 0.32400, 0.30905, 0.15951, 0.15452, 0.14455, 0.10966, 0.58071, -0.01994, 0.11465, 0.16948, 0.18443, 0.29409, 0.45609, 0.49597, 0.28412, 0.23926, 0.25421, 0.28412, 0.12461, 0.07477, 0.09471, 0.03489, 0.70532, -0.12461, 0.02492, 0.09471, 0.11963, 0.22431, 0.39378, 0.49597, 0.33895, 0.23926, 0.29908, 0.25920, 0.18443, 0.10468, 0.12461, 0.06480, 0.92464, -0.02991, 0.10468, 0.11963, 0.17446, 0.28412, 0.47603, 0.57074, 0.43615, 0.29409, 0.32898, 0.31403, 0.23926, 0.15452, 0.14455, 0.14954, 0.96950, -0.21932, 0.10966, 0.09969, 0.13458, 0.21932, 0.37883, 0.48101, 0.41123, 0.26917, 0.26917, 0.25920, 0.20437, 0.06480, 0.06480, 0.05982, 0.69535, -0.32400, -0.01495, 0.01495, 0.07477, 0.13957, 0.32898, 0.43117, 0.33397, 0.25421, 0.21434, 0.21434, 0.16948, 0.08474, 0.07975, 0.08972, 0.74021, -0.31901, 0.12960, 0.13458, 0.14455, 0.20935, 0.39877, 0.51591, 0.44114, 0.28911, 0.24923, 0.27415, 0.23428, 0.12461, 0.10966, 0.11963, 0.60064, -0.31901, 0.07477, 0.11963, 0.13957, 0.18941, 0.32898, 0.47104, 0.43615, 0.27914, 0.23926, 0.27415, 0.22431, 0.10468, 0.07477, 0.08474, 0.38381, -0.17945, -0.04985, 0.01994, 0.01994, 0.10966, 0.24425, 0.39378, 0.38381, 0.20935, 0.14954, 0.19938, 0.16449, 0.07477, 0.07975, 0.06978, 0.33895, -0.05982, -0.00498, 0.03988, 0.08474, 0.14954, 0.27914, 0.47603, 0.44114, 0.31901, 0.24923, 0.30406, 0.29409, 0.17446, 0.12461, 0.11465, 0.16449, 0.30905, 0.01994, 0.09471, 0.11465, 0.14954, 0.23428, 0.40624, 0.43117, 0.27415, 0.16948, 0.19938, 0.18443, 0.05982, 0.01495, 0.01994, -0.02492, 0.52089, -0.15951, -0.01495, -0.02492, 0.06978, 0.17446, 0.34394, 0.41123, 0.22929, 0.11963, 0.17945, 0.18941, 0.05483, 0.00997, 0.01994, -0.00498, 0.77511, -0.08474, 0.04486, 0.08972, 0.13458, 0.24425, 0.43117, 0.48600, 0.35391, 0.24923, 0.27415, 0.24923, 0.17446, 0.10468, 0.09471, 0.04985, 0.91467, -0.19440, 0.05483, 0.07477, 0.11963, 0.18443, 0.35391, 0.47104, 0.36886, 0.24923, 0.29409, 0.27415, 0.18443, 0.10966, 0.08972, 0.07477, 0.88477, -0.29908, 0.02492, 0.04985, 0.05982, 0.13957, 0.27415, 0.41621, 0.34892, 0.16948, 0.16449, 0.14455, 0.07477, 0.00997, -0.00498, 0.01994, 0.80501, -0.34394, 0.01994, 0.06978, 0.08972, 0.14954, 0.36886, 0.47104, 0.37384, 0.24425, 0.23428, 0.26418, 0.20935, 0.16449, 0.18443, 0.16449, 0.81997, -0.24425, 0.13957, 0.14954, 0.14954, 0.22431, 0.39378, 0.51092, 0.46606, 0.27415, 0.24425, 0.25920, 0.24923, 0.15452, 0.12960, 0.13458, 0.65049, -0.36388, 0.09471, 0.10966, 0.11963, 0.21932, 0.35889, 0.48600, 0.42120, 0.27415, 0.21932, 0.25920, 0.19938, 0.07975, 0.02492, 0.02492, 0.41621, -0.17446, -0.03988, -0.00498, 0.01994, 0.11465, 0.25421, 0.37883, 0.36886, 0.21434, 0.14954, 0.19440, 0.14954, 0.04486, 0.02991, 0.05483, 0.31403, -0.07477, -0.04985, 0.02991, 0.07477, 0.11963, 0.27415, 0.44612, 0.44612, 0.29908, 0.23926, 0.29409, 0.24425, 0.13458, 0.10468, 0.12461, 0.14455, 0.25920, -0.02492, 0.05483, 0.08474, 0.12461, 0.22929, 0.39378, 0.44612, 0.29908, 0.19938, 0.27914, 0.25421, 0.14954, 0.09471, 0.09969, 0.09471, 0.45111, -0.06480, 0.03489, 0.03489, 0.10468, 0.18443, 0.29409, 0.35889, 0.23428, 0.10966, 0.16948, 0.16948, 0.05483, 0.00498, -0.00997, -0.00997, 0.53086, -0.16948, -0.02991, -0.01994, 0.01994, 0.12461, 0.30905, 0.36886, 0.20437, 0.07975, 0.13957, 0.13458, 0.02991, -0.01495, 0.00997, -0.04486, 0.81498, -0.16449, 0.00498, 0.01994, 0.02991, 0.12960, 0.29908, 0.39877, 0.26418, 0.11963, 0.17446, 0.15951, 0.04985, -0.00498, -0.01495, -0.02991, 0.83492, -0.28911, -0.04985, -0.00997, 0.00498, 0.07975, 0.25920, 0.36886, 0.23428, 0.13458, 0.13957, 0.11963, 0.04486, -0.03988, -0.05982, -0.06480, 0.69037, -0.47104, -0.12461, -0.13458, -0.07975, 0.00997, 0.16948, 0.25421, 0.17945, 0.05982, 0.08474, 0.04486, 0.00000, -0.06978, -0.07975, -0.08972, 0.69037, -0.44612, -0.10468, -0.05982, -0.04985, 0.06480, 0.22929, 0.36388, 0.32400, 0.17945, 0.19440, 0.21434, 0.15951, 0.06978, -0.01994, 0.02492, 0.56575, -0.42120, 0.00997, 0.04486, 0.06480, 0.10468, 0.25421, 0.36886, 0.33397, 0.17446, 0.14954, 0.19938, 0.18443, 0.04985, 0.02492, 0.02492, 0.45111, -0.36388, -0.03489, -0.01495, -0.00997, 0.03988, 0.17945, 0.30905, 0.24923, 0.06480, -0.02991, 0.02991, -0.00498, -0.09471, -0.10966, -0.09969, 0.30905, -0.25421, -0.15951, -0.08972, -0.05483, -0.00498, 0.12960, 0.27914, 0.23926, 0.08972, 0.00498, 0.07477, 0.10468, -0.05483, -0.06480, -0.06978, 0.21434, -0.13458, -0.05483, 0.01495, 0.00997, 0.08474, 0.21932, 0.35889, 0.34892, 0.20935, 0.13957, 0.23926, 0.21434, 0.10966, 0.07477, 0.12461, 0.13458, 0.30905, -0.02991, 0.06480, 0.03988, 0.05982, 0.13957, 0.30406, 0.34892, 0.23926, 0.14455, 0.21932, 0.18941, 0.06480, 0.02991, 0.03489, 0.02991, 0.39877, -0.11963, -0.02492, 0.00000, 0.02492, 0.10966, 0.28911, 0.34394, 0.15951, 0.08972, 0.13458, 0.13458, 0.03489, 0.00997, 0.00498, 0.00498, 0.57074, -0.11963, 0.01495, 0.07975, 0.08474, 0.18443, 0.36886, 0.43117, 0.31403, 0.21434, 0.27415, 0.27415, 0.21932, 0.17446, 0.21932, 0.16948, 1.12901, 0.08474, 0.24923, 0.24425, 0.27914, 0.34892, 0.50594, 0.55578, 0.40624, 0.26917, 0.32400, 0.32898, 0.21434, 0.12960, 0.13458, 0.07975, 1.00938, -0.17446, 0.08474, 0.08474, 0.09969, 0.17446, 0.35889, 0.46108, 0.35391, 0.20935, 0.21434, 0.22431, 0.11465, 0.07477, 0.07477, 0.04985, 0.84489, -0.24425, 0.08474, 0.11465, 0.17446, 0.27415, 0.45111, 0.51092, 0.42120, 0.27914, 0.27914, 0.28412, 0.23926, 0.14954, 0.12461, 0.10966, 0.78507, -0.29409, 0.02991, 0.05982, 0.07477, 0.13458, 0.29908, 0.44114, 0.36388, 0.22929, 0.19440, 0.24425, 0.20437, 0.08972, 0.05982, 0.06978, 0.46606, -0.28911, 0.01495, 0.06480, 0.09471, 0.15452, 0.29409, 0.45609, 0.47104, 0.39378, 0.38880, 0.45609, 0.38880, 0.26418, 0.23926, 0.26418, 0.52588, 0.07975, 0.13957, 0.16948, 0.14954, 0.17446, 0.30905, 0.44114, 0.44612, 0.24923, 0.13458, 0.19938, 0.12960, 0.00997, -0.00997, -0.01495, 0.11465, 0.07975, -0.12960, -0.06480, -0.05483, 0.00498, 0.12960, 0.28412, 0.30905, 0.11963, 0.02991, 0.07477, 0.08972, 0.00000, -0.03489, -0.02492, 0.01994, 0.17446, -0.14954, -0.06978, -0.05982, -0.00498, 0.12461, 0.29908, 0.32898, 0.15951, 0.07477, 0.12960, 0.11963, 0.01495, -0.05982, -0.05483, -0.13458, 0.63055, -0.25920, -0.10966, -0.10468, -0.05982, 0.01994, 0.19440, 0.24425, 0.13458, 0.01994, 0.08972, 0.07477, -0.04486, -0.09471, -0.07975, -0.12461, 0.75018, -0.30406, -0.13458, -0.10966, -0.09969, -0.00498, 0.16948, 0.23428, 0.12960, -0.01495, 0.01495, -0.01495, -0.08972, -0.14954, -0.14954, -0.15951, 0.74520, -0.38880, -0.16449, -0.14455, -0.07477, 0.01994, 0.19938, 0.31403, 0.19938, 0.09471, 0.13458, 0.16948, 0.16948, 0.09969, 0.12960, 0.12461, 0.97947, -0.19938, 0.05982, 0.07477, 0.07975, 0.11963, 0.24425, 0.31403, 0.23428, 0.12461, 0.10966, 0.12461, 0.09471, 0.00000, -0.02991, -0.03988, 0.53086, -0.55080, -0.10468, -0.06978, -0.05483, -0.01994, 0.13957, 0.25920, 0.22929, 0.10966, 0.04985, 0.11963, 0.07477, -0.05982, -0.07975, -0.08474, 0.34394, -0.48101, -0.15951, -0.12960, -0.09471, -0.05982, 0.03988, 0.20437, 0.16948, -0.01495, -0.07477, -0.03489, -0.04985, -0.15452, -0.17446, -0.18941, 0.20935, -0.41621, -0.26917, -0.20935, -0.16948, -0.13957, 0.04985, 0.16948, 0.16948, 0.00997, -0.04486, 0.03489, 0.01994, -0.07975, -0.11465, -0.08972, 0.09471, -0.18941, -0.18941, -0.14455, -0.11465, -0.05982, 0.07477, 0.20437, 0.19938, 0.06480, -0.01994, 0.04486, 0.02991, -0.08972, -0.13458, -0.13957, -0.07477, -0.01994, -0.25920, -0.16948, -0.14455, -0.09471, 0.01495, 0.18941, 0.21932, 0.09969, 0.00498, 0.04985, 0.04486, -0.07477, -0.11465, -0.18443, -0.15951, 0.17446, -0.41621, -0.22929, -0.26418, -0.21932, -0.08972, 0.06480, 0.15452, -0.08474, -0.15951, -0.04486, -0.03489, -0.18941, -0.27415, -0.21932, -0.26418, 0.46108, -0.38381, -0.21434, -0.21434, -0.12960, -0.01495, 0.20437, 0.28412, 0.12461, 0.03489, 0.06480, 0.03489, -0.01994, -0.10966, -0.11465, -0.18443, 0.73523, -0.39378, -0.15452, -0.12960, -0.09471, -0.02492, 0.11465, 0.20935, 0.15452, 0.04486, 0.06978, 0.07477, 0.04985, -0.03988, -0.03988, -0.04985, 0.75517, -0.43117, -0.04985, -0.02492, 0.00000, 0.08474, 0.21932, 0.33895, 0.27914, 0.16449, 0.19440, 0.19440, 0.12960, 0.03489, 0.02492, 0.02991, 0.68538, -0.44114, 0.00498, 0.02492, 0.04486, 0.10468, 0.25920, 0.40624, 0.35889, 0.13957, 0.15951, 0.25920, -0.02492, 0.00997, 0.00997, -0.01495, 0.50594, -0.38381, -0.04985, 0.01495, 0.03489, 0.09969, 0.24923, 0.37883, 0.35391, 0.19938, 0.19440, 0.22431, 0.17446, 0.09969, 0.10468, 0.08972, 0.37384, 0.00498, 0.03988, 0.11465, 0.17446, 0.22431, 0.35889, 0.52588, 0.52089, 0.38381, 0.30406, 0.39378, 0.35889, 0.22431, 0.17945, 0.19938, 0.19440, 0.42618, 0.11465, 0.18443, 0.19440, 0.23428, 0.32898, 0.50095, 0.57074, 0.44114, 0.37384, 0.44612, 0.45111, 0.29409, 0.25421, 0.27415, 0.25421, 0.79006, 0.14954, 0.26418, 0.27415, 0.27415, 0.34892, 0.49098, 0.55080, 0.44114, 0.30905, 0.36388, 0.35391, 0.22929, 0.16449, 0.16948, 0.13458, 0.84987, -0.06480, 0.04486, 0.11963, 0.12461, 0.21434, 0.39877, 0.44612, 0.28911, 0.15951, 0.17945, 0.23428, 0.17446, 0.08474, 0.09969, 0.07477, 1.06421, -0.19440, 0.00997, 0.02492, -0.04985, 0.08474, 0.31901, 0.39378, 0.24425, 0.10468, 0.13957, 0.13458, 0.02492, -0.08972, -0.06978, -0.05982, 0.59068, -0.58569, -0.11963, -0.10966, -0.11465, -0.05483, 0.10468, 0.22431, 0.16449, 0.03489, 0.01994, 0.07477, 0.00000, -0.10966, -0.15951, -0.16948, 0.31901, -0.64551, -0.24923, -0.25421, -0.22929, -0.16948, -0.05982, 0.08972, 0.07975, -0.08474, -0.16948, -0.10966, -0.16449, -0.25920, -0.25421, -0.27914, 0.16449, -0.55578, -0.37384, -0.30406, -0.27914, -0.24425, -0.08972, 0.06978, 0.02991, -0.13458, -0.17446, -0.10468, -0.12461, -0.25421, -0.26418, -0.27415, -0.11963, -0.35889, -0.38880, -0.38381, -0.30905, -0.24425, -0.06978, 0.12461, 0.09969, -0.04985, -0.14954, -0.08474, -0.15951, -0.28911, -0.33397, -0.31901, -0.19938, -0.11963, -0.36886, -0.24923, -0.19440, -0.19938, -0.12960, 0.01495, 0.19938, -0.10966, -0.19938, -0.16948, -0.16948, -0.35391, -0.40624, -0.36388, -0.36886, 0.09969, -0.54581, -0.36388, -0.34394, -0.33895, -0.16449, -0.01495, 0.03988, -0.13957, -0.24425, -0.18941, -0.19440, -0.28911, -0.37384, -0.31901, -0.35889, 0.42120, -0.49597, -0.34892, -0.32400, -0.25920, -0.14954, 0.02991, 0.08474, -0.01495, -0.15452, -0.11465, -0.14455, -0.22929, -0.29409, -0.30406, -0.33397, 0.54083, -0.66544, -0.36886, -0.32400, -0.30406, -0.23428, -0.08474, 0.03988, -0.02492, -0.16449, -0.14954, -0.12960, -0.18941, -0.26917, -0.28911, -0.28412, 0.41621, -0.68040, -0.27415, -0.24923, -0.22431, -0.15452, 0.00000, 0.12960, 0.09969, -0.03489, -0.05982, -0.03489, -0.09969, -0.17945, -0.19938, -0.18941, 0.34394, -0.68040, -0.23428, -0.24425, -0.23926, -0.15951, -0.00997, 0.14954, 0.10468, -0.05982, -0.15951, -0.08972, -0.15452, -0.25920, -0.28412, -0.26917, 0.16948, -0.54083, -0.31403, -0.27415, -0.25421, -0.19938, -0.03489, 0.10966, 0.06978, -0.05483, -0.11963, -0.06978, -0.04486, -0.15452, -0.13957, -0.11465, 0.08972, -0.14954, -0.18443, -0.11963, -0.09471, -0.04985, 0.06480, 0.21932, 0.23428, 0.10468, 0.03489, 0.08474, 0.08474, -0.04486, -0.09969, -0.09969, -0.06978, 0.19440, -0.22929, -0.11465, -0.08474, -0.04985, 0.06978, 0.24923, 0.32400, 0.19440, 0.10966, 0.17446, 0.15951, 0.01994, -0.04486, -0.00997, -0.03988, 0.49597, -0.25421, -0.08474, -0.10966, -0.08972, -0.01994, 0.15951, 0.20935, 0.08972, -0.03988, 0.00498, -0.00498, -0.12960, -0.17945, -0.20437, -0.22929, 0.52089, -0.45609, -0.23428, -0.25920, -0.24923, -0.08972, 0.06978, 0.13458, 0.03489, -0.06978, -0.00997, 0.00498, -0.03988, -0.06480, 0.01994, -0.00498, 0.87480, -0.30905, -0.09471, -0.08474, -0.13458, -0.28911, -0.34892, -0.45609, -0.72027, -1.02434, -1.10409, -1.15892, -1.22123, -1.30098, -1.32092, -1.29600, -0.51591, -1.54024, -1.02434, -0.90969, -0.78507, -0.62058, -0.38381, -0.17945, -0.20935, -0.34394, -0.35889, -0.29409, -0.33895, -0.41621, -0.31403, -0.23926, 0.13458, -0.67541, -0.44612, -0.45111, -0.48101, -0.29908, -0.13458, -0.00498, -0.01994, -0.11963, -0.13458, -0.07975, -0.08474, -0.22431, -0.18443, -0.18443, 0.04486, -0.32400, -0.27415, -0.11963, -0.11465, -0.05982, 0.03489, 0.17446, 0.19938, 0.04486, -0.02492, 0.10966, 0.09969, -0.01495, -0.04985, -0.04985, 0.06480, -0.00498, -0.14455, -0.04985, -0.03988, 0.00997, 0.10966, 0.27415, 0.29908, 0.15452, 0.06480, 0.13458, 0.12960, 0.02991, -0.01994, -0.06480, -0.04486, 0.30406, -0.24923, -0.16948, -0.16948, -0.14455, -0.02492, 0.14455, 0.18443, 0.04486, -0.05483, -0.01495, -0.02492, -0.11963, -0.17446, -0.15951, -0.15951, 0.65547, -0.27914, -0.12461, -0.11963, -0.00498, 0.12960, 0.28412, 0.34394, 0.17446, 0.02492, 0.03988, 0.04985, -0.02991, -0.10966, -0.05982, -0.08474, 0.73024, -0.43117, -0.10966, -0.07477, -0.04985, 0.03489, 0.21932, 0.32400, 0.24923, 0.08474, 0.06480, 0.05483, -0.00498, -0.08972, -0.09969, -0.01495, 0.53086, -0.51092, -0.08474, -0.03988, -0.12960, -0.09471, 0.01994, 0.08474, 0.00498, -0.05483, -0.08972, -0.01495, -0.06480, -0.15452, -0.22929, -0.20935, 0.25920, -0.60064, -0.28911, -0.23428, -0.16948, -0.06978, 0.08972, 0.18443, 0.13957, -0.01994, -0.14455, -0.08972, -0.10966, -0.24923, -0.27415, -0.24425, 0.10468, -0.43615, -0.35889, -0.28412, -0.27914, -0.20935, -0.05982, 0.08474, 0.06978, -0.09969, -0.17446, -0.09969, -0.12461, -0.23926, -0.29409, -0.28412, -0.28412, -0.14954, -0.43615, -0.34892, -0.32898, -0.28911, -0.18443, -0.01994, 0.02492, -0.11465, -0.21434, -0.14954, -0.17945, -0.26917, -0.33895, -0.33895, -0.35391, 0.17446, -0.50594, -0.33397, -0.30406, -0.27914, -0.18941, -0.03489, 0.02991, -0.11963, -0.24425, -0.20437, -0.20935, -0.33895, -0.43117, -0.43615, -0.45609, 0.32898, -0.70034, -0.50594, -0.48600, -0.42120, -0.31901, -0.14455, -0.05483, -0.17446, -0.31403, -0.27914, -0.28412, -0.36388, -0.44612, -0.41123, -0.44114, 0.44612, -0.73024, -0.46606, -0.44612, -0.40624, -0.30406, -0.12461, -0.01994, -0.10966, -0.24425, -0.25920, -0.21932, -0.24425, -0.32898, -0.33895, -0.32400, 0.26418, -0.78009, -0.39378, -0.37384, -0.33895, -0.28412, -0.13957, -0.00498, -0.03988, -0.19440, -0.22929, -0.15951, -0.20935, -0.30905, -0.33397, -0.32898, 0.06978, -0.68040, -0.36388, -0.30905, -0.28911, -0.23428, -0.10468, 0.01495, 0.00997, -0.12960, -0.19440, -0.13458, -0.17945, -0.29409, -0.35889, -0.34892, -0.16449, -0.37883, -0.48101, -0.38880, -0.39378, -0.33895, -0.20935, -0.05483, 0.01495, -0.17945, -0.22431, -0.20437, -0.21434, -0.29409, -0.30406, -0.31403, -0.27914, -0.06978, -0.42120, -0.35889, -0.34394, -0.29409, -0.14954, 0.01495, 0.07477, -0.08972, -0.19938, -0.15452, -0.14455, -0.23926, -0.29908, -0.26917, -0.35889, 0.47603, -0.47104, -0.30905, -0.30406, -0.26418, -0.17446, -0.01495, 0.06480, -0.01495, -0.13957, -0.09969, -0.08972, -0.17945, -0.23926, -0.25421, -0.27415, 0.59566, -0.50594, -0.24923, -0.21932, -0.17945, -0.11963, 0.02492, 0.11963, 0.03489, -0.10468, -0.08474, -0.07975, -0.19440, -0.28412, -0.29908, -0.31403, 0.39378, -0.72526, -0.36886, -0.35391, -0.33397, -0.28911, -0.08474, 0.01495, -0.08474, -0.20935, -0.21932, -0.20935, -0.24923, -0.30905, -0.32400, -0.29908, 0.27914, -0.67541, -0.34892, -0.31403, -0.29409, -0.23428, -0.05982, 0.07975, 0.05483, -0.10468, -0.15452, -0.09969, -0.13458, -0.25421, -0.27415, -0.27914, 0.01495, -0.51591, -0.33895, -0.28412, -0.27914, -0.19938, -0.06978, 0.05483, 0.06978, -0.08474, -0.14954, -0.07477, -0.10966, -0.22431, -0.24425, -0.24923, -0.14954, -0.20437, -0.30406, -0.22929, -0.20935, -0.17446, -0.04985, 0.11465, 0.13458, 0.00000, -0.05982, 0.00000, -0.04985, -0.19938, -0.28911, -0.26917, -0.23428, -0.08474, -0.45609, -0.39378, -0.34892, -0.29908, -0.21434, -0.01495, 0.00498, -0.16948, -0.26418, -0.19938, -0.17945, -0.29908, -0.33397, -0.31901, -0.29409, 0.17446, -0.46606, -0.32898, -0.29409, -0.23926, -0.13957, 0.03489, 0.09471, -0.04985, -0.15951, -0.10468, -0.13458, -0.21434, -0.25920, -0.26917, -0.33895, 0.60563, -0.51092, -0.32400, -0.30905, -0.25920, -0.18941, 0.00000, 0.06480, -0.02991, -0.15452, -0.10468, -0.10966, -0.18941, -0.25920, -0.26418, -0.26418, 0.53584, -0.65049, -0.25920, -0.22929, -0.20935, -0.16948, 0.00000, 0.09969, 0.03988, -0.07477, -0.06480, -0.07477, -0.15951, -0.25920, -0.30406, -0.31403, 0.30406, -0.79006, -0.35889, -0.33895, -0.33397, -0.26418, -0.13458, 0.00498, -0.06480, -0.21434, -0.24425, -0.21932, -0.23926, -0.32898, -0.32898, -0.31901, 0.21434, -0.65547, -0.35889, -0.30905, -0.24923, -0.18443, -0.03988, 0.07477, 0.03489, -0.11465, -0.13458, -0.08474, -0.09471, -0.20437, -0.22929, -0.25920, 0.01994, -0.49098, -0.34394, -0.30905, -0.24923, -0.19440, -0.08972, 0.06978, 0.07477, -0.07975, -0.11963, -0.01994, -0.06480, -0.18941, -0.23428, -0.19938, -0.10966, -0.15452, -0.33397, -0.23428, -0.18941, -0.16948, -0.03988, 0.08474, 0.12960, -0.03489, -0.13458, -0.06978, -0.08972, -0.21932, -0.25421, -0.23926, -0.20935, 0.08972, -0.39877, -0.27415, -0.22929, -0.17446, -0.09471, 0.08474, 0.14455, -0.00997, -0.10966, -0.03489, -0.06480, -0.14954, -0.17446, -0.17446, -0.21434, 0.56575, -0.32400, -0.16948, -0.16449, -0.10966, 0.00997, 0.17945, 0.25920, 0.14455, 0.01994, 0.03988, 0.03988, -0.03988, -0.11465, -0.10966, -0.15452, 0.69037, -0.46108, -0.15452, -0.14455, -0.11465, -0.05483, 0.09969, 0.21434, 0.14455, 0.00498, 0.00498, 0.04985, -0.01495, -0.09471, -0.08972, -0.10966, 0.52089, -0.57074, -0.18443, -0.17945, -0.16449, -0.11465, 0.03988, 0.17446, 0.10468, -0.05483, -0.07975, -0.05982, -0.07975, -0.16948, -0.19938, -0.20935, 0.31403, -0.55080, -0.24425, -0.19938, -0.19440, -0.10468, 0.04486, 0.19938, 0.14954, -0.00498, -0.05982, -0.00498, -0.00498, -0.11963, -0.12461, -0.09471, 0.20935, -0.30406, -0.16449, -0.10966, -0.10468, -0.04985, 0.09471, 0.22929, 0.21932, 0.07477, 0.00000, 0.07477, 0.01994, -0.07477, -0.11963, -0.10468, -0.05483, -0.02991, -0.26418, -0.11465, -0.10966, -0.08972, -0.04486, 0.11963, 0.20437, 0.14455, 0.07477, 0.12461, 0.10966, -0.01994, -0.05483, -0.06978, -0.10468, 0.26418, -0.30905, -0.17945, -0.18443, -0.11465, -0.03988, 0.14455, 0.19938, 0.07975, -0.03489, -0.00997, -0.01495, -0.10966, -0.18443, -0.17945, -0.18941, 0.54083, -0.37384, -0.19440, -0.15951, -0.12960, -0.03489, 0.15951, 0.24425, 0.11963, -0.01495, 0.00498, 0.00498, -0.03489, -0.11465, -0.08972, -0.12461, 0.79006, -0.38880, -0.15951, -0.12960, -0.08972, -0.00997, 0.16948, 0.24425, 0.14455, 0.00498, 0.00000, 0.01495, -0.03988, -0.11465, -0.13957, -0.12960, 0.49597, -0.61061, -0.14954, -0.12461, -0.08972, -0.03988, 0.10966, 0.25920, 0.19938, 0.07477, 0.04486, 0.08972, 0.02492, -0.09471, -0.11465, -0.12461, 0.29908, -0.52588, -0.23428, -0.18941, -0.16449, -0.13957, 0.00000, 0.14455, 0.12461, -0.03988, -0.09969, -0.04486, -0.03489, -0.16948, -0.13957, -0.13458, 0.16948, -0.25421, -0.22929, -0.14954, -0.10966, -0.03489, 0.11963, 0.25920, 0.25421, 0.08972, 0.05483, 0.10966, 0.09471, -0.02492, -0.03988, -0.03489, -0.01495, 0.13957, -0.14455, -0.05483, -0.04985, -0.00997, 0.07975, 0.24923, 0.27415, 0.12461, 0.01994, 0.08474, 0.09471, -0.02991, -0.07975, -0.08972, -0.13458, 0.49098, -0.28412, -0.11963, -0.08474, -0.04486, 0.05982, 0.23428, 0.26917, 0.15951, 0.02492, 0.03988, 0.05982, -0.06480, -0.13458, -0.14954, -0.16948, 0.63554, -0.43615, -0.24425, -0.21434, -0.18443, -0.09471, 0.08474, 0.18941, 0.03489, -0.08972, -0.08474, -0.09969, -0.56077, -1.27606, -1.80941, -1.76953, -0.73024, -1.55520, -0.96950, -0.76514, -0.75018, -0.55578, -0.63055, -1.07917, -1.17387, -0.83991, -0.55578, -0.30406, -0.21932, -0.32898, -0.31403, -0.31901, 0.08972, -0.76015, -0.40624, -0.35889, -0.33397, -0.26418, -0.12461, 0.02991, 0.00000, -0.14455, -0.16948, -0.09471, -0.11465, -0.23926, -0.24425, -0.21932, 0.01495, -0.37883, -0.29409, -0.22431, -0.20437, -0.16449, -0.04985, 0.11465, 0.09969, -0.05483, -0.12461, -0.03988, -0.10966, -0.21932, -0.27914, -0.25421, -0.09471, 0.06480, -0.18443, -0.09969, -0.06480, -0.07975, 0.04985, 0.28911, 0.29908, 0.15951, 0.01495, 0.05483, 0.07477, -0.01994, -0.08474, -0.02492, -0.03489, 0.55080, -0.14954, 0.02492, 0.00997, 0.01994, 0.11963, 0.30905, 0.39378, 0.24923, 0.13957, 0.15452, 0.16449, 0.10468, 0.00997, -0.01495, -0.04985, 0.84987, -0.27914, -0.08474, -0.07975, -0.00498, 0.05483, 0.21434, 0.33895, 0.26917, 0.13957, 0.18941, 0.19440, 0.12960, 0.04985, 0.02492, 0.00498, 0.76514, -0.36886, -0.00498, 0.00000, 0.04486, 0.07975, 0.22929, 0.32898, 0.22431, 0.08474, 0.05982, 0.05483, 0.00997, -0.07975, -0.10966, -0.09471, 0.41621, -0.49098, -0.19440, -0.14455, -0.11963, -0.05982, 0.09969, 0.24425, 0.18443, 0.00997, -0.03988, 0.00498, -0.01495, -0.09969, -0.12461, -0.10966, 0.24425, -0.27415, -0.14954, -0.08474, -0.08474, 0.00000, 0.11465, 0.25920, 0.26418, 0.12461, 0.03988, 0.09471, 0.05483, -0.05982, -0.11465, -0.11963, -0.13458, 0.11963, -0.26418, -0.14455, -0.12960, -0.07477, 0.01994, 0.17945, 0.21932, 0.08972, 0.00498, 0.08474, 0.08972, -0.02991, -0.07975, -0.09471, -0.12461, 0.57074, -0.24923, -0.13957, -0.12461, -0.11963, -0.02492, 0.12960, 0.20437, 0.05982, -0.07477, -0.02492, -0.04486, -0.13957, -0.19938, -0.19938, -0.22929, 0.63055, -0.46606, -0.22929, -0.23428, -0.18941, -0.09471, 0.06978, 0.18443, 0.04985, -0.07477, -0.06480, -0.06480, -0.10966, -0.18941, -0.21434, -0.19938, 0.61560, -0.53584, -0.22929, -0.20935, -0.16449, -0.08474, 0.07975, 0.20437, 0.13458, -0.01495, -0.04486, 0.00000, -0.04486, -0.14954, -0.15951, -0.16449, 0.24923, -0.58071, -0.24923, -0.19938, -0.19440, -0.15452, 0.00000, 0.12960, 0.11963, 0.01495, -0.05982, 0.02492, 0.00000, -0.12461, -0.13957, -0.11963, 0.11465, -0.25920, -0.18941, -0.12461, -0.11465, -0.10966, 0.00498, 0.15951, 0.14954, 0.01495, -0.10468, -0.01994, -0.09471, -0.21434, -0.27415, -0.26418, -0.15951, -0.08474, -0.35889, -0.25920, -0.23926, -0.18443, -0.03988, 0.11963, 0.13458, 0.00000, -0.10966, -0.08474, -0.06480, -0.18443, -0.18443, -0.17446, -0.16449, 0.29409, -0.30905, -0.22929, -0.19938, -0.15951, -0.04486, 0.14455, 0.20935, 0.06480, -0.04486, 0.00000, -0.00498, -0.08474, -0.17945, -0.17446, -0.22431, 0.69535, -0.43615, -0.18443, -0.16449, -0.12960, -0.04985, 0.09969, 0.17945, 0.08972, -0.02492, -0.00997, 0.00997, -0.05982, -0.13458, -0.13458, -0.14455, 0.65547, -0.49098, -0.14455, -0.11963, -0.08474, -0.02991, 0.13458, 0.22929, 0.17446, 0.03489, -0.01994, 0.00000, -0.08474, -0.17945, -0.18941, -0.18941, 0.35391, -0.65049, -0.24923, -0.21932, -0.20935, -0.14455, 0.00498, 0.12960, 0.11963, -0.03489, -0.08474, -0.02991, -0.07975, -0.14954, -0.14954, -0.15452, 0.26917, -0.46606, -0.24923, -0.18941, -0.16449, -0.07975, 0.08474, 0.22431, 0.18941, 0.03489, -0.01495, 0.05483, 0.02991, -0.06480, -0.10966, -0.11465, -0.01994, -0.07975, -0.20935, -0.13957, -0.12960, -0.06978, 0.02492, 0.18941, 0.20437, 0.06978, -0.02492, 0.04985, 0.04985, -0.05982, -0.10966, -0.08474, -0.07975, 0.33397, -0.20437, -0.10468, -0.09471, -0.07975, 0.04985, 0.20437, 0.25421, 0.13458, 0.00997, 0.05982, 0.01495, -0.10966, -0.16449, -0.14455, -0.18941, 0.56077, -0.33895, -0.21434, -0.17945, -0.15452, -0.04486, 0.12461, 0.20935, 0.07975, -0.05982, -0.03988, -0.02991, -0.08474, -0.12960, -0.14455, -0.14455, 0.75018, -0.39378, -0.17945, -0.15951, -0.12461, -0.02991, 0.12461, 0.22929, 0.14455, 0.01495, 0.00498, 0.00997, -0.00498, -0.10966, -0.12960, -0.13957, 0.46108, -0.59566, -0.17945, -0.15452, -0.12960, -0.05982, 0.07477, 0.20935, 0.15452, 0.00000, -0.02492, 0.03988, -0.00997, -0.10966, -0.12461, -0.10966, 0.30406, -0.42618, -0.13957, -0.08474, -0.09471, -0.02492, 0.09969, 0.27415, 0.26917, 0.10468, 0.03988, 0.11963, 0.06978, -0.04486, -0.07477, -0.07975, 0.18941, -0.21434, -0.13957, -0.09471, -0.05483, -0.00997, 0.11465, 0.25421, 0.24923, 0.09969, 0.00000, 0.07975, 0.02991, -0.10468, -0.13458, -0.13957, -0.04985, 0.00997, -0.23926, -0.14455, -0.12461, -0.06978, 0.07975, 0.22431, 0.25421, 0.08474, -0.03489, 0.03489, 0.00997, -0.10966, -0.13957, -0.15452, -0.15452, 0.37384, -0.29409, -0.19440, -0.16948, -0.12461, 0.00997, 0.17945, 0.23428, 0.10468, -0.00997, 0.01994, 0.02492, -0.05982, -0.10966, -0.09969, -0.12461, 0.80003, -0.31901, -0.10966, -0.09969, -0.07477, 0.01495, 0.17945, 0.28911, 0.19440, 0.05982, 0.07477, 0.06480, 0.00498, -0.08474, -0.11465, -0.09969, 0.64052, -0.52588, -0.14455, -0.12960, -0.09969, -0.03489, 0.11963, 0.25421, 0.19938, 0.05483, 0.04486, 0.07975, 0.02991, -0.05982, -0.06978, -0.04985, 0.48101, -0.53086, -0.11465, -0.08474, -0.05483, 0.00498, 0.14954, 0.26418, 0.23926, 0.08474, 0.04985, 0.06978, 0.03988, -0.09471, -0.12461, -0.14455, 0.21932, -0.47104, -0.23926, -0.16948, -0.18443, -0.08972, 0.02492, 0.18443, 0.16449, 0.00997, -0.04985, 0.03988, -0.00498, -0.09471, -0.14954, -0.15452, 0.05982, -0.09471, -0.23926, -0.16948, -0.15452, -0.09969, 0.04985, 0.22431, 0.22929, 0.07975, -0.01994, 0.04985, 0.01994, -0.07975, -0.10468, -0.08972, -0.09471, 0.33895, -0.22929, -0.13458, -0.12461, -0.08474, 0.00498, 0.18443, 0.23926, 0.08972, -0.01994, 0.03988, 0.02991, -0.07975, -0.10468, -0.11963, -0.15452, 0.69535, -0.33895, -0.13957, -0.10966, -0.07477, 0.01994, 0.18941, 0.26917, 0.15951, 0.03489, 0.07975, 0.07975, -0.00498, -0.07975, -0.08474, -0.10966, 0.72027, -0.45609, -0.16449, -0.16449, -0.12960, -0.06978, 0.07975, 0.18443, 0.08474, -0.05982, -0.04985, -0.04985, -0.13957, -0.19440, -0.19440, -0.23428, 0.54581, -0.61061, -0.20437, -0.19938, -0.19440, -0.08972, 0.05483, 0.20437, 0.13957, -0.02492, -0.04985, -0.02991, -0.05483, -0.15452, -0.16948, -0.15951, 0.34394, -0.60064, -0.22929, -0.19440, -0.17446, -0.10468, 0.04985, 0.18941, 0.16948, -0.00498, -0.07975, -0.01495, -0.05483, -0.17446, -0.20437, -0.18443, 0.04486, -0.37384, -0.28412, -0.21932, -0.18941, -0.11465, 0.00498, 0.17446, 0.17945, 0.02492, -0.03988, 0.02492, -0.01495, -0.12461, -0.17945, -0.18443, -0.10966, -0.00997, -0.34394, -0.25920, -0.21932, -0.17446, -0.06480, 0.10468, 0.14954, 0.00000, -0.10468, -0.02991, -0.04985, -0.15951, -0.19938, -0.18941, -0.20935, 0.41123, -0.33895, -0.21434, -0.19440, -0.13458, -0.03489, 0.14954, 0.22431, 0.09969, -0.01495, 0.00997, 0.02991, -0.05982, -0.11963, -0.11963, -0.15951, 0.75517, -0.38880, -0.16948, -0.15452, -0.10966, -0.04486, 0.13458, 0.22431, 0.12461, -0.00498, -0.00997, 0.00000, -0.04985, -0.13458, -0.16449, -0.15951, 0.58071, -0.57074, -0.17446, -0.14455, -0.10468, -0.02991, 0.10966, 0.22929, 0.17945, 0.00997, -0.00997, 0.02492, -0.03988, -0.12461, -0.16948, -0.17945, 0.29908, -0.58569, -0.24425, -0.20935, -0.21932, -0.12960, 0.01994, 0.16948, 0.10468, -0.02991, -0.05982, -0.02492, -0.04985, -0.15452, -0.16948, -0.13957, 0.16948, -0.29908, -0.20935, -0.16449, -0.13957, -0.07975, 0.05483, 0.21932, 0.22929, 0.06978, -0.01994, 0.05483, 0.03489, -0.10468, -0.15452, -0.12461, -0.13458, 0.10966, -0.27914, -0.18443, -0.16948, -0.11465, -0.01994, 0.13458, 0.18443, 0.05483, -0.04985, 0.01994, 0.01495, -0.10468, -0.15452, -0.12960, -0.15452, 0.52089, -0.32400, -0.16948, -0.15951, -0.13458, -0.06978, 0.07975, 0.11465, -0.01495, -0.12960, -0.08474, -0.07477, -0.17446, -0.25421, -0.22929, -0.25421, 0.62058, -0.49597, -0.25920, -0.22431, -0.18941, -0.08474, 0.08474, 0.19938, 0.07477, -0.05483, -0.05483, -0.04985, -0.08474, -0.16948, -0.18443, -0.19938, 0.56077, -0.58071, -0.18443, -0.17945, -0.14954, -0.07975, 0.07975, 0.22431, 0.14455, -0.00997, -0.04985, 0.00997, -0.05483, -0.17446, -0.18443, -0.17446, 0.26418, -0.60563, -0.25421, -0.21932, -0.19938, -0.13458, 0.00000, 0.14455, 0.14455, -0.00997, -0.05982, 0.01994, -0.00498, -0.13458, -0.13957, -0.12960, 0.09969, -0.28412, -0.21434, -0.14954, -0.12461, -0.06480, 0.04985, 0.18941, 0.18941, 0.00997, -0.04985, -0.01495, -0.03988, -0.18443, -0.23428, -0.20437, -0.13957, -0.02991, -0.34892, -0.23926, -0.19938, -0.16948, -0.02991, 0.12960, 0.13458, 0.03489, -0.09969, -0.02492, -0.05483, -0.12461, -0.19938, -0.17446, -0.18443, 0.49098, -0.32400, -0.21932, -0.18941, -0.16948, -0.06480, 0.11963, 0.20437, 0.09471, -0.02991, -0.01994, -0.01994, -0.10966, -0.17945, -0.17446, -0.22929, 0.66544, -0.48101, -0.20437, -0.21434, -0.18443, -0.10966, 0.06480, 0.15951, 0.06480, -0.05982, -0.04486, -0.01994, -0.08474, -0.16948, -0.15951, -0.16948, 0.52588, -0.58071, -0.16948, -0.16449, -0.10966, -0.05982, 0.06480, 0.18941, 0.11465, -0.04486, -0.08474, -0.05483, -0.10966, -0.21434, -0.23926, -0.25920, 0.23428, -0.62557, -0.32898, -0.29409, -0.25421, -0.17945, -0.03489, 0.14455, 0.08972, -0.05982, -0.11963, -0.04486, -0.10468, -0.20437, -0.23926, -0.19938, 0.04486, -0.26418, -0.27415, -0.21434, -0.19440, -0.12461, 0.00498, 0.16449, 0.18941, 0.02492, -0.05483, 0.02492, 0.00997, -0.11963, -0.15951, -0.16948, -0.19440, 0.21932, -0.32400, -0.20935, -0.17446, -0.12960, -0.03988, 0.12960, 0.18443, 0.06480, -0.05483, 0.01994, 0.00498, -0.08972, -0.14455, -0.11963, -0.14954, 0.64052, -0.29409, -0.13458, -0.10966, -0.07975, 0.00498, 0.17446, 0.25421, 0.14954, 0.03489, 0.05982, 0.04486, -0.07477, -0.13957, -0.16948, -0.17945, 0.62557, -0.50594, -0.23926, -0.22431, -0.18443, -0.12461, 0.05982, 0.18443, 0.06978, -0.05483, -0.03988, -0.02991, -0.06978, -0.16449, -0.17945, -0.15452, 0.58071, -0.52588, -0.17945, -0.17446, -0.12960, -0.04486, 0.11465, 0.23926, 0.17446, 0.04486, 0.00498, 0.07477, 0.03988, -0.07477, -0.08474, -0.08474, 0.37384, -0.53086, -0.15452, -0.11963, -0.08972, -0.03489, 0.10468, 0.22431, 0.20935, 0.04985, -0.00498, 0.07477, 0.01994, -0.11465, -0.11465, -0.09969, 0.15951, -0.28412, -0.20437, -0.10966, -0.07975, -0.03988, 0.06978, 0.22929, 0.29409, 0.18443, 0.04486, 0.30905, 0.32898, 0.07975, -0.06480, 0.05982, 0.02492, -0.14954, -0.16449, 0.08474, -0.20437, 0.13957, 0.21932, 0.36388, 0.48101, 0.29409, 0.17446, 0.59068, 0.37883, 0.43117, 0.42618, 0.54581, 0.60064, 0.95954, 0.49597, 0.78507, 0.72027, 0.81000, 0.95954, 1.13898, 1.29600, 1.14397, 1.03929, 1.10907, 1.07917, 0.91966, 0.94957, 1.02932, 0.99443, 1.94399, 0.76015, 1.17387, 1.23618, 1.29600, 1.49040, 1.77452, 1.86424, 1.68479, 1.47046, 1.51532, 1.52529, 1.52529, 1.35083, 1.41064, 1.35581, 2.43996, 0.84987, 1.42061, 1.43556, 1.52030, 1.59507, 1.86922, 1.97889, 1.81938, 1.61999, 1.65489, 1.64990, 1.59009, 1.48541, 1.44553, 1.43058, 2.21565, 0.63554, 1.35581, 1.46049, 1.45052, 1.56516, 1.75458, 1.89913, 1.75458, 1.57015, 1.54523, 1.56516, 1.56516, 1.38572, 1.43058, 1.41563, 2.06612, 0.80003, 1.31593, 1.38572, 1.42560, 1.51033, 1.77452, 1.91907, 1.83433, 1.60504, 1.48043, 1.53526, 1.49538, 1.35083, 1.33587, 1.33587, 1.61501, 0.93461, 1.12403, 1.23618, 1.29101, 1.35083, 1.52529, 1.67981, 1.63495, 1.41064, 1.27606, 1.32590, 1.32092, 1.19880, 1.09910, 1.11406, 1.15892, 1.19880, 0.84987, 1.02932, 1.05923, 1.12403, 1.24117, 1.47544, 1.47046, 1.26609, 1.06920, 1.10907, 1.11904, 0.97947, 0.90470, 0.89972, 0.87480, 1.62498, 0.50594, 0.84489, 0.90470, 0.95455, 1.11904, 1.34086, 1.44055, 1.19880, 1.04427, 1.03929, 1.05424, 0.97449, 0.88975, 0.86483, 0.86981, 1.96393, 0.50095, 0.80501, 0.89972, 0.99941, 1.12403, 1.35083, 1.38572, 1.15393, 0.94957, 0.91467, 0.93960, 0.90969, 0.77511, 0.72526, 0.74520, 1.84430, 0.12960, 0.62557, 0.68538, 0.73024, 0.84987, 1.06421, 1.17387, 1.00440, 0.76514, 0.70034, 0.76514, 0.76015, 0.60563, 0.58569, 0.61061, 1.04926, -0.02991, 0.39378, 0.23926, -0.23926, 0.08972, 0.55080, 0.82495, 0.91966, 0.71529, 0.61061, 0.71031, 0.64551, 0.60563, 0.52089, 0.53584, 0.73523, 0.26418, 0.30905, 0.42120, 0.50594, 0.56575, 0.79006, 0.99941, 1.05923, 0.75018, 0.63554, 0.64052, 0.64052, 0.56575, 0.47603, 0.47603, 0.50095, 0.95954, 0.19938, 0.44114, 0.41123, 0.55080, 0.67043, 0.88975, 0.95954, 0.70034, 0.59068, 0.63055, 0.57074, 0.45111, 0.44612, 0.43615, 0.41123, 1.34086, 0.16449, 0.36886, 0.44114, 0.45111, 0.62058, 0.79006, 0.90470, 0.65547, 0.48101, 0.48101, 0.51591, 0.43117, 0.35391, 0.35889, 0.32400, 1.34086, -0.31403, 0.28412, 0.28412, 0.36388, 0.44114, 0.65049, 0.81498, 0.69535, 0.46108, 0.40624, 0.47104, 0.37384, 0.33397, 0.30905, 0.29409, 0.95954, -0.48101, 0.20437, 0.24923, 0.25421, 0.33895, 0.54083, 0.75018, 0.67541, 0.42618, 0.31901, 0.43615, 0.33895, 0.23926, 0.18941, 0.20437, 0.57074, -0.34892, 0.04486, 0.13458, 0.21932, 0.24425, 0.43117, 0.67043, 0.65049, 0.37883, 0.27415, 0.29409, 0.24923, 0.15951, 0.08972, 0.08474, 0.28412, 0.19440, -0.07477, 0.06480, 0.12461, 0.15951, 0.33895, 0.58569, 0.58569, 0.29409, 0.16449, 0.21932, 0.16948, 0.05483, 0.01994, -0.00997, 0.09471, 0.61061, -0.17945, 0.00498, 0.05982, 0.12461, 0.26418, 0.50095, 0.58569, 0.32400, 0.11963, 0.12461, 0.13458, 0.07477, 0.01495, -0.04985, -0.01994, 1.03430, -0.63055, -0.09471, -0.04486, -0.00498, 0.07975, 0.32898, 0.50594, 0.35889, 0.11963, 0.07975, 0.11963, 0.08474, -0.01994, -0.03489, -0.02991, 0.75517, -0.86483, -0.15951, -0.06978, -0.03489, 0.05982, 0.28911, 0.49098, 0.36886, 0.14455, 0.03988, 0.07975, 0.05483, -0.06480, -0.06978, -0.05483, 0.50594, -0.57572, -0.19440, -0.12960, -0.05982, 0.01495, 0.20437, 0.39877, 0.34394, 0.10468, 0.00498, 0.05982, 0.01994, -0.06480, -0.10468, -0.11465, 0.17446, -0.36886, -0.23428, -0.14954, -0.09969, -0.05982, 0.10966, 0.33895, 0.29409, 0.08972, -0.08972, -0.04486, -0.04486, -0.20437, -0.25421, -0.20437, -0.14954, 0.07975, -0.46108, -0.23428, -0.14455, -0.06480, 0.06480, 0.38880, 0.51591, 0.25421, 0.07975, 0.11465, 0.12960, 0.02492, -0.04486, -0.10468, -0.03489, 0.84987, -0.45609, -0.17446, -0.13957, -0.05982, 0.01994, 0.27914, 0.35391, 0.11465, -0.07975, -0.03988, -0.09471, -0.17446, -0.25920, -0.29908, -0.32898, 0.81000, -0.86981, -0.38880, -0.31403, -0.23428, -0.16948, 0.07477, 0.22431, 0.04486, -0.17446, -0.26418, -0.18443, -0.22929, -0.30406, -0.28412, -0.26917, 0.53086, -1.03430, -0.31901, -0.25421, -0.23428, -0.14954, 0.08972, 0.23926, 0.18443, -0.07975, -0.15452, -0.08972, -0.12461, -0.26418, -0.28911, -0.28911, 0.23428, -0.89474, -0.41621, -0.36388, -0.33397, -0.21434, -0.04985, 0.20935, 0.19440, -0.11465, -0.20935, -0.14954, -0.13957, -0.25421, -0.31901, -0.26917, -0.01495, -0.65049, -0.43615, -0.34892, -0.32898, -0.25421, -0.08474, 0.14455, 0.09969, -0.14455, -0.22929, -0.13957, -0.18941, -0.33397, -0.40624, -0.41621, -0.22929, -0.34892, -0.68040, -0.51092, -0.48101, -0.49098, -0.22431, -0.07477, 0.00997, -0.23926, -0.45609, -0.43117, -0.39378, -0.47104, -0.51591, -0.54083, -0.55080, 0.09969, -0.80003, -0.56077, -0.50594, -0.47104, -0.46108, -0.17945, -0.07477, -0.22431, -0.36388, -0.32400, -0.32898, -0.39877, -0.47104, -0.49597, -0.51591, 0.36388, -0.83991, -0.65049, -0.67541, -0.61560, -0.48101, -0.26418, -0.09969, -0.17945, -0.31403, -0.30905, -0.28911, -0.34892, -0.44114, -0.45609, -0.46108, 0.25421, -0.84489, -0.50594, -0.46108, -0.43117, -0.33895, -0.15951, 0.01495, -0.08474, -0.28412, -0.30905, -0.27415, -0.30406, -0.38381, -0.39877, -0.37883, 0.12960, -0.67043, -0.38381, -0.28911, -0.21932, -0.14954, 0.00000, 0.13957, 0.12960, -0.02991, -0.09969, -0.01994, -0.04486, -0.16948, -0.22929, -0.23428, -0.16449, -0.18443, -0.33397, -0.26418, -0.23428, -0.17446, -0.06978, 0.11465, 0.16449, 0.01495, -0.09969, -0.05982, -0.04985, -0.17945, -0.20437, -0.17945, -0.15452, 0.32400, -0.27914, -0.10966, -0.10966, -0.08972, 0.02991, 0.25421, 0.31403, 0.16948, 0.01994, 0.06978, 0.06480, -0.03988, -0.11465, -0.12960, -0.12960, 0.67541, -0.37384, -0.16449, -0.13458, -0.10468, 0.01495, 0.20437, 0.30905, 0.16449, 0.01495, 0.03988, 0.06978, 0.00000, -0.06480, -0.05483, -0.05483, 0.84987, -0.32898, -0.04985, -0.02492, -0.00997, 0.15951, 0.31901, 0.39877, 0.29908, 0.16948, 0.12461, 0.16948, 0.09969, 0.00498, -0.00498, -0.01495, 0.60064, -0.52089, -0.06978, -0.03988, -0.02991, 0.03988, 0.18941, 0.32400, 0.28911, 0.13957, 0.06480, 0.11963, 0.08474, -0.03988, -0.04985, -0.03988, 0.43615, -0.43117, -0.08474, -0.02492, 0.00000, 0.06978, 0.20935, 0.35889, 0.35391, 0.17945, 0.09969, 0.16449, 0.12461, -0.00498, -0.01994, -0.02991, 0.22431, -0.25920, -0.14455, -0.07975, -0.04985, -0.01495, 0.12461, 0.29908, 0.29409, 0.11963, 0.02991, 0.08972, 0.07477, -0.03988, -0.06480, -0.08474, 0.05483, 0.04985, -0.19440, -0.09471, -0.03988, 0.02492, 0.14954, 0.34394, 0.37384, 0.19440, 0.09969, 0.14954, 0.15452, 0.04985, 0.00498, 0.00997, 0.00000, 0.48600, -0.17446, -0.03988, -0.03489, 0.00498, 0.12461, 0.31901, 0.39378, 0.23926, 0.10966, 0.14954, 0.13957, 0.04486, -0.01994, -0.02492, -0.04985, 0.84987, -0.29409, -0.05483, -0.02991, 0.01495, 0.09969, 0.28911, 0.40624, 0.29908, 0.17446, 0.19440, 0.18443, 0.12461, 0.04486, 0.03988, 0.01495, 0.82994, -0.39378, -0.01994, 0.00997, 0.02991, 0.10966, 0.26917, 0.37384, 0.28911, 0.12461, 0.10966, 0.12960, 0.08474, -0.02492, -0.02492, -0.07477, 0.53086, -0.54581, -0.10966, 0.00997, 0.09471, 0.18941, 0.42618, 0.62557, 0.56077, 0.40624, 0.36388, 0.41621, 0.40624, 0.31901, 0.29409, 0.31901, 0.73523, -0.10468, 0.14455, 0.36886, 0.32400, 0.30905, 0.45609, 0.59068, 0.54581, 0.32400, 0.24923, 0.28911, 0.24923, 0.12461, 0.09969, 0.09969, 0.23926, 0.01495, -0.01994, 0.03988, 0.05483, 0.09969, 0.22929, 0.39877, 0.42618, 0.25920, 0.16449, 0.23926, 0.22929, 0.10966, 0.05982, 0.08474, 0.12960, 0.27415, -0.07477, 0.04486, 0.03988, 0.07975, 0.18941, 0.35391, 0.39378, 0.22431, 0.09969, 0.15452, 0.14455, 0.02492, -0.01994, -0.02492, -0.03489, 0.59068, -0.23926, -0.06978, -0.05982, -0.00997, 0.09471, 0.30406, 0.37883, 0.23926, 0.10468, 0.15452, 0.12960, 0.06480, 0.00997, 0.03489, 0.01495, 0.93960, -0.24923, 0.00498, 0.02991, 0.05982, 0.15452, 0.32400, 0.43117, 0.31901, 0.14954, 0.13458, 0.13957, 0.08972, 0.00000, -0.01495, -0.01994, 0.72027, -0.52089, -0.05982, -0.03489, -0.00498, 0.06978, 0.22431, 0.36388, 0.30905, 0.14455, 0.10468, 0.14455, 0.10966, 0.01495, -0.01495, -0.00997, 0.51092, -0.53584, -0.10468, -0.06978, -0.02991, 0.01994, 0.15452, 0.32400, 0.24425, 0.06480, -0.00498, 0.05483, 0.04486, -0.07975, -0.11465, -0.11465, 0.21932, -0.27914, -0.20437, -0.12960, -0.08972, -0.01994, 0.14455, 0.32400, 0.30406, 0.11465, 0.03489, 0.07975, 0.08474, -0.02991, -0.06978, -0.06480, 0.01994, 0.06480, -0.16948, -0.07975, -0.05982, -0.00498, 0.10966, 0.28911, 0.31901, 0.15951, 0.03988, 0.08474, 0.08474, -0.02991, -0.08474, -0.07477, -0.07975, 0.51591, -0.26917, -0.11465, -0.08972, -0.04486, 0.06978, 0.23926, 0.32898, 0.15951, 0.02492, 0.05982, 0.05483, -0.03489, -0.11465, -0.11465, -0.12960, 0.71529, -0.44114, -0.16449, -0.12960, -0.10468, 0.00000, 0.15452, 0.26917, 0.15452, 0.00000, 0.01495, 0.01495, -0.02492, -0.09969, -0.09969, -0.12461, 0.68040, -0.53086, -0.15452, -0.12960, -0.09969, -0.02991, 0.14954, 0.29908, 0.20935, 0.04486, 0.00000, 0.05483, 0.01495, -0.08972, -0.10966, -0.09969, 0.33895, -0.54083, -0.16948, -0.13458, -0.11465, -0.05483, 0.08474, 0.24923, 0.23428, 0.06480, -0.01994, 0.05483, 0.01994, -0.08474, -0.13957, -0.12461, 0.08972, -0.22431, -0.21434, -0.12960, -0.11465, -0.07477, 0.06480, 0.22431, 0.22929, 0.04985, -0.03988, 0.03988, 0.00498, -0.11963, -0.17945, -0.17446, -0.12960, 0.05483, -0.32400, -0.21434, -0.18941, -0.15951, -0.03988, 0.13957, 0.20935, 0.02492, -0.08972, -0.02991, -0.03489, -0.12461, -0.17945, -0.18443, -0.15951, 0.56077, -0.36388, -0.18443, -0.14954, -0.09471, -0.00498, 0.18443, 0.25920, 0.09969, -0.02991, -0.00997, -0.01994, -0.08972, -0.15951, -0.15951, -0.18443, 0.71031, -0.49098, -0.20437, -0.18941, -0.16449, -0.07477, 0.08474, 0.20437, 0.11465, -0.06978, -0.07477, -0.03988, -0.09969, -0.19440, -0.19938, -0.20437, 0.46606, -0.70034, -0.21434, -0.17945, -0.15452, -0.06978, 0.07975, 0.22929, 0.17446, -0.00997, -0.05483, -0.00498, -0.06480, -0.18941, -0.20935, -0.21434, 0.26418, -0.64551, -0.25920, -0.20935, -0.20437, -0.14954, -0.00498, 0.13957, 0.11465, -0.06978, -0.11465, -0.07975, -0.09471, -0.22431, -0.27914, -0.28412, -0.08474, -0.29908, -0.38381, -0.28911, -0.26917, -0.18941, -0.05483, 0.14455, 0.16449, -0.00997, -0.11963, -0.06978, -0.07975, -0.17446, -0.21932, -0.24425, -0.17446, 0.20437, -0.37384, -0.25421, -0.22929, -0.17945, -0.05982, 0.11963, 0.20437, 0.02991, -0.07477, -0.02991, -0.04486, -0.12960, -0.20437, -0.19440, -0.24425, 0.66544, -0.47603, -0.25920, -0.21434, -0.18941, -0.11465, 0.06978, 0.17446, 0.08972, -0.06978, -0.03988, -0.01495, -0.08474, -0.17446, -0.17446, -0.18941, 0.59566, -0.58569, -0.19938, -0.16948, -0.15452, -0.09471, 0.05982, 0.16948, 0.11963, -0.04985, -0.07975, -0.07477, -0.11465, -0.21932, -0.25421, -0.26917, 0.24923, -0.75517, -0.34394, -0.29908, -0.26917, -0.18443, -0.01495, 0.10966, 0.09969, -0.10468, -0.15452, -0.09969, -0.09969, -0.20935, -0.23926, -0.22929, 0.12960, -0.34892, -0.30406, -0.24923, -0.21932, -0.15452, 0.00997, 0.17446, 0.17446, -0.01495, -0.10966, -0.02492, -0.02991, -0.13957, -0.17945, -0.19440, -0.17446, 0.03988, -0.33895, -0.22929, -0.19938, -0.15951, -0.04985, 0.11963, 0.15452, 0.00000, -0.10468, -0.04486, -0.03489, -0.17446, -0.20437, -0.19440, -0.22431, 0.54581, -0.39877, -0.19938, -0.17945, -0.12461, -0.02991, 0.15452, 0.24425, 0.10966, -0.02492, 0.01495, 0.00000, -0.12461, -0.18443, -0.21434, -0.20437, 0.63554, -0.56077, -0.26917, -0.24425, -0.21434, -0.14954, 0.05483, 0.14455, 0.03489, -0.11465, -0.12960, -0.09471, -0.16449, -0.19440, -0.19440, -0.20437, 0.52588, -0.58569, -0.23428, -0.18443, -0.15951, -0.08474, 0.11465, 0.24425, 0.14954, -0.00997, -0.06978, 0.00498, -0.00997, -0.10966, -0.13957, -0.13957, 0.26418, -0.53086, -0.21434, -0.17446, -0.14954, -0.10468, 0.05483, 0.19938, 0.18443, 0.02991, -0.04486, 0.02492, 0.00997, -0.11963, -0.16449, -0.14954, -0.01994, -0.19440, -0.23926, -0.15951, -0.13957, -0.08474, 0.05483, 0.23428, 0.25920, 0.11465, 0.01994, 0.08474, 0.06480, -0.07477, -0.13458, -0.13458, -0.10468, 0.14954, -0.30905, -0.18941, -0.17446, -0.13957, -0.02991, 0.17446, 0.19938, 0.03489, -0.06480, -0.01495, -0.03489, -0.14455, -0.18443, -0.18941, -0.20437, 0.57572, -0.41621, -0.19938, -0.17446, -0.10468, -0.01994, 0.19938, 0.23926, 0.11963, -0.00498, 0.01495, -0.00498, -0.03988, -0.13458, -0.10468, -0.13458, 0.73024, -0.47104, -0.18443, -0.14455, -0.12960, -0.02492, 0.15951, 0.25920, 0.14455, 0.00000, -0.01495, -0.02492, -0.06978, -0.12461, -0.15452, -0.21434, 0.40624, -0.68040, -0.26917, -0.25920, -0.22929, -0.19938, -0.02492, 0.12960, 0.08474, -0.06480, -0.12461, -0.03988, -0.07975, -0.20437, -0.25920, -0.22431, 0.04985, -0.41621, -0.33397, -0.29409, -0.27914, -0.23926, -0.11465, 0.02991, 0.07975, -0.14455, -0.23428, -0.15951, -0.17446, -0.27914, -0.32400, -0.32400, -0.25421, -0.07477, -0.44612, -0.32898, -0.28412, -0.23926, -0.09969, 0.08474, 0.13458, -0.04985, -0.12960, -0.06978, -0.08474, -0.19938, -0.24425, -0.21434, -0.25920, 0.55080, -0.37883, -0.25920, -0.21932, -0.18443, -0.08972, 0.08474, 0.15951, 0.06480, -0.05982, -0.03988, -0.05483, -0.13957, -0.21434, -0.18941, -0.21434, 0.65049, -0.59068, -0.22431, -0.20437, -0.18941, -0.11963, 0.02991, 0.11465, 0.07477, -0.07477, -0.07975, -0.07975, -0.11963, -0.21434, -0.22431, -0.19938, 0.31901, -0.65049, -0.25920, -0.21932, -0.22431, -0.13957, 0.04985, 0.15951, 0.07975, -0.05483, -0.11465, -0.05483, -0.07975, -0.15951, -0.17945, -0.17446, 0.16948, -0.41621, -0.29409, -0.21434, -0.19938, -0.12461, 0.02492, 0.18941, 0.14455, -0.02492, -0.09471, -0.03489, -0.03489, -0.14455, -0.18443, -0.18443, -0.18443, 0.06978, -0.31901, -0.23926, -0.19440, -0.14954, -0.03988, 0.13957, 0.17945, 0.02991, -0.10468, -0.02991, -0.03988, -0.14954, -0.16948, -0.16449, -0.21932, 0.68538, -0.35391, -0.16948, -0.15951, -0.11963, -0.03489, 0.14455, 0.22929, 0.13957, 0.00000, 0.03988, 0.03489, -0.05483, -0.12960, -0.13957, -0.14954, 0.75517, -0.46108, -0.14455, -0.13957, -0.10468, -0.01994, 0.13957, 0.24923, 0.17446, 0.00498, 0.01994, 0.01994, -0.05483, -0.13957, -0.15452, -0.17446, 0.57572, -0.61061, -0.17945, -0.14455, -0.12960, -0.04985, 0.12461, 0.25421, 0.20437, 0.05483, 0.03489, 0.05483, -0.00997, -0.11465, -0.13957, -0.14455, 0.37883, -0.68040, -0.20437, -0.17945, -0.13957, -0.08972, 0.06480, 0.21932, 0.17945, 0.01495, -0.03988, 0.00498, -0.04486, -0.15452, -0.15452, -0.17446, 0.23428, -0.44612, -0.23428, -0.17446, -0.15951, -0.08972, 0.04486, 0.21932, 0.19938, 0.02492, -0.05483, 0.02492, 0.00498, -0.09969, -0.13957, -0.12461, -0.01495, -0.14954, -0.26418, -0.18941, -0.16449, -0.10966, 0.00498, 0.18443, 0.19938, 0.03489, -0.05982, -0.00498, -0.00997, -0.10468, -0.16449, -0.15951, -0.19938, 0.42120, -0.37384, -0.19938, -0.16948, -0.13957, -0.04486, 0.12960, 0.20935, 0.08972, -0.02991, 0.02492, 0.00997, -0.09471, -0.16449, -0.16948, -0.17446, 0.66046, -0.43615, -0.19440, -0.17945, -0.15951, -0.10468, 0.05483, 0.16449, 0.05982, -0.08972, -0.06978, -0.06978, -0.15951, -0.22929, -0.22929, -0.23428, 0.55080, -0.64551, -0.27914, -0.25920, -0.19440, -0.11465, 0.07975, 0.18941, 0.08474, -0.05483, -0.07477, -0.05982, -0.08972, -0.15452, -0.15951, -0.16449, 0.48600, -0.63055, -0.19938, -0.16948, -0.13957, -0.08972, 0.08474, 0.21932, 0.16449, 0.00000, -0.04486, 0.00997, -0.01994, -0.13458, -0.15951, -0.16449, 0.10468, -0.43117, -0.24923, -0.18443, -0.15951, -0.11963, 0.01495, 0.17446, 0.19938, 0.03988, -0.03489, 0.05483, 0.03988, -0.08474, -0.12461, -0.13458, -0.02492, -0.03489, -0.22929, -0.13458, -0.11963, -0.07975, 0.02991, 0.18443, 0.21434, 0.05483, -0.05483, -0.01495, -0.00997, -0.15452, -0.20437, -0.20437, -0.20437, 0.26418, -0.43615, -0.25421, -0.24923, -0.16948, -0.08474, 0.10966, 0.19938, 0.03489, -0.08474, -0.04486, -0.07477, -0.12461, -0.21434, -0.18941, -0.19938, 0.67043, -0.42618, -0.24425, -0.20437, -0.16948, -0.06480, 0.10468, 0.20437, 0.08474, -0.06978, -0.04985, -0.03988, -0.09969, -0.18443, -0.21434, -0.23926, 0.54581, -0.65049, -0.25920, -0.23428, -0.19938, -0.13957, 0.01495, 0.14455, 0.08972, -0.06978, -0.08474, -0.04486, -0.09471, -0.18941, -0.19938, -0.19938, 0.30406, -0.67043, -0.21932, -0.16948, -0.14455, -0.10966, 0.04985, 0.18941, 0.17945, 0.00000, -0.06480, -0.01495, -0.06978, -0.17945, -0.20935, -0.19938, 0.13957, -0.49597, -0.28412, -0.20935, -0.21434, -0.18941, -0.05483, 0.10468, 0.09969, -0.07477, -0.15951, -0.08474, -0.10966, -0.21434, -0.25920, -0.25421, -0.11465, -0.17945, -0.35391, -0.27914, -0.24425, -0.18443, -0.05982, 0.13458, 0.11963, -0.04985, -0.11963, -0.07477, -0.06480, -0.16449, -0.20437, -0.21434, -0.20437, 0.18443, -0.37883, -0.25421, -0.21434, -0.18941, -0.07975, 0.11963, 0.18941, 0.02991, -0.07975, -0.02492, -0.05982, -0.12960, -0.21434, -0.20935, -0.26418, 0.64052, -0.49597, -0.24425, -0.22431, -0.19440, -0.12461, 0.06978, 0.17945, 0.09969, -0.01994, 0.00997, 0.00498, -0.06978, -0.14954, -0.15452, -0.17945, 0.58071, -0.61061, -0.20437, -0.17945, -0.15452, -0.08972, 0.07975, 0.20437, 0.13957, -0.01495, -0.03489, 0.00000, -0.04985, -0.15452, -0.18443, -0.19440, 0.32400, -0.75018, -0.29409, -0.25920, -0.20437, -0.15951, 0.01495, 0.15951, 0.10468, -0.08474, -0.12461, -0.03988, -0.08972, -0.18443, -0.20935, -0.18443, 0.19440, -0.38880, -0.26418, -0.17945, -0.16948, -0.10468, 0.02492, 0.19938, 0.18941, -0.00997, -0.06978, -0.00498, -0.00997, -0.12461, -0.15452, -0.15951, -0.05483, -0.11963, -0.26418, -0.19440, -0.16948, -0.13458, -0.00498, 0.17945, 0.19440, 0.03988, -0.06480, 0.00000, -0.00498, -0.12461, -0.16449, -0.15452, -0.19440, 0.51092, -0.35391, -0.16948, -0.14455, -0.09969, 0.00498, 0.18443, 0.26418, 0.14455, -0.00498, 0.03489, 0.00997, -0.05982, -0.14954, -0.16449, -0.18443, 0.66046, -0.51591, -0.23926, -0.17945, -0.15951, -0.04486, 0.12960, 0.23428, 0.11963, -0.02492, 0.00000, -0.00997, -0.04486, -0.13957, -0.15951, -0.14455, 0.65547, -0.50095, -0.13957, -0.10468, -0.08972, -0.00498, 0.18443, 0.31901, 0.24425, 0.06480, 0.03988, 0.07477, 0.03988, -0.04486, -0.08474, -0.08972, 0.40624, -0.57074, -0.13458, -0.12461, -0.09969, -0.04486, 0.10468, 0.25920, 0.21932, 0.05982, -0.00997, 0.06480, 0.01994, -0.10966, -0.10468, -0.10468, 0.19440, -0.28911, -0.15452, -0.07975, -0.06978, 0.00997, 0.12960, 0.29908, 0.28911, 0.12461, 0.04985, 0.12461, 0.07975, -0.04486, -0.08972, -0.09969, 0.00000, -0.08972, -0.22929, -0.13458, -0.11465, -0.04985, 0.05982, 0.21434, 0.26418, 0.09471, -0.01994, 0.04985, 0.04486, -0.08972, -0.14954, -0.13957, -0.15951, 0.30406, -0.35889, -0.16948, -0.14954, -0.08972, -0.00498, 0.19440, 0.25920, 0.12960, 0.00000, 0.05483, 0.04985, -0.05483, -0.11465, -0.10966, -0.12461, 0.74021, -0.33397, -0.13957, -0.11465, -0.08972, 0.00498, 0.19440, 0.28911, 0.16449, 0.01994, 0.02991, 0.03489, -0.01994, -0.08474, -0.09471, -0.12960, 0.62058, -0.57572, -0.13458, -0.12461, -0.11465, -0.04486, 0.13458, 0.25920, 0.18941, 0.04486, 0.00997, 0.07477, 0.03489, -0.06480, -0.08972, -0.08474, 0.38880, -0.58569, -0.15452, -0.11465, -0.08972, -0.02492, 0.10468, 0.25421, 0.21932, 0.05982, 0.00498, 0.07975, 0.03489, -0.10468, -0.12461, -0.13458, 0.12461, -0.39877, -0.24425, -0.18443, -0.17446, -0.11963, 0.00997, 0.18443, 0.17945, 0.02991, -0.06978, -0.00997, -0.01495, -0.11963, -0.16449, -0.14954, -0.00498, 0.00498, -0.23926, -0.15951, -0.12960, -0.07975, 0.05982, 0.21932, 0.25920, 0.07477, -0.03988, 0.02991, 0.00000, -0.09969, -0.13957, -0.12461, -0.15951, 0.47104, -0.30406, -0.16449, -0.14455, -0.08972, 0.00997, 0.18443, 0.25421, 0.10966, -0.01994, 0.00498, 0.00498, -0.07975, -0.12461, -0.13458, -0.16948, 0.71031, -0.51092, -0.17945, -0.14455, -0.11465, -0.02991, 0.14455, 0.25920, 0.18443, 0.03988, 0.03489, 0.05982, 0.00997, -0.09969, -0.11465, -0.12960, 0.49597, -0.65547, -0.17945, -0.14455, -0.14455, -0.10468, 0.06978, 0.19440, 0.15452, -0.01994, -0.06480, -0.01495, -0.06978, -0.17446, -0.17945, -0.16449, 0.21434, -0.50095, -0.25920, -0.19938, -0.17446, -0.11465, 0.05483, 0.21932, 0.19440, -0.00498, -0.06480, -0.00498, -0.00997, -0.10966, -0.12960, -0.11465, 0.04985, -0.11465, -0.17945, -0.11465, -0.09471, -0.03489, 0.08972, 0.26418, 0.26418, 0.09969, 0.00000, 0.06480, 0.04985, -0.08972, -0.11963, -0.12960, -0.18941, 0.51092, -0.34394, -0.16449, -0.15951, -0.09969, -0.01994, 0.15452, 0.23926, 0.11963, -0.00498, 0.05982, 0.05483, -0.02991, -0.09969, -0.10468, -0.12461, 0.75517, -0.41621, -0.14954, -0.11963, -0.12461, -0.04985, 0.11465, 0.18443, 0.07975, -0.04985, -0.07477, -0.07477, -0.14455, -0.19938, -0.22929, -0.23428, 0.48600, -0.70034, -0.26418, -0.21932, -0.17945, -0.09969, 0.08474, 0.19938, 0.13957, -0.03988, -0.07477, -0.04985, -0.07975, -0.15452, -0.15951, -0.16948, 0.34892, -0.56575, -0.19938, -0.18443, -0.14455, -0.08972, 0.05483, 0.20437, 0.16449, -0.00997, -0.07477, 0.00997, -0.01495, -0.14455, -0.19440, -0.18941, -0.12960, -0.17945, -0.30905, -0.20935, -0.19938, -0.14954, -0.03489, 0.12960, 0.15452, 0.00498, -0.07477, 0.00000, 0.00498, -0.10966, -0.15951, -0.15951, -0.17446, 0.36388, -0.33895, -0.17446, -0.17446, -0.12461, -0.04486, 0.11963, 0.17945, 0.03489, -0.09471, -0.05483, -0.07477, -0.17446, -0.24425, -0.23428, -0.26418, 0.56077, -0.57074, -0.32400, -0.27914, -0.24923, -0.15452, 0.03489, 0.13458, 0.02991, -0.11963, -0.12461, -0.10468, -0.12461, -0.22929, -0.19440, -0.21434, 0.57074, -0.61061, -0.24923, -0.23428, -0.20935, -0.12960, 0.04486, 0.16948, 0.06978, -0.09471, -0.11963, -0.06978, -0.08972, -0.17945, -0.19440, -0.16449, 0.25421, -0.54581, -0.17446, -0.10468, -0.05483, 0.00498, 0.14455, 0.26418, 0.32400, 0.11963, 0.03988, 0.06978, 0.02492, -0.11963, -0.17446, -0.18443, -0.02492, -0.18941, -0.27415, -0.23926, -0.17945, -0.15951, -0.06978, 0.12461, 0.11963, -0.04486, -0.16948, -0.13458, -0.11963, -0.29409, -0.33895, -0.34892, -0.34394, 0.01994, -0.58071, -0.45609, -0.41123, -0.34892, -0.26418, -0.11465, -0.02991, -0.19440, -0.26418, -0.23428, -0.22431, -0.35391, -0.40624, -0.39378, -0.35889, 0.40624, -0.56575, -0.39378, -0.37883, -0.34892, -0.23926, -0.04486, 0.02991, -0.09471, -0.21434, -0.16449, -0.15951, -0.19938, -0.26418, -0.25920, -0.28911, 0.52089, -0.71031, -0.36886, -0.36388, -0.35889, -0.29409, -0.13458, -0.02492, -0.09471, -0.24923, -0.28412, -0.23428, -0.28911, -0.39877, -0.41621, -0.39877, 0.11465, -0.82994, -0.39378, -0.35391, -0.31901, -0.26418, -0.10468, 0.03489, 0.01994, -0.13957, -0.20935, -0.13458, -0.16948, -0.31403, -0.35391, -0.35391, -0.11963, -0.54083, -0.45111, -0.38381, -0.35889, -0.31403, -0.19938, -0.00997, 0.03988, -0.12960, -0.18941, -0.10468, -0.09969, -0.22431, -0.27415, -0.25920, -0.18443, -0.13458, -0.35391, -0.25421, -0.20935, -0.16449, -0.05483, 0.09471, 0.14455, -0.02991, -0.13458, -0.05982, -0.07975, -0.23428, -0.29409, -0.28412, -0.30905, 0.28412, -0.54581, -0.36886, -0.32400, -0.31901, -0.19440, -0.03489, 0.07477, -0.07477, -0.19938, -0.14954, -0.16948, -0.25421, -0.29409, -0.27415, -0.29908, 0.58071, -0.58071, -0.31901, -0.29908, -0.24425, -0.14455, 0.04985, 0.15951, 0.05982, -0.08474, -0.11465, -0.08972, -0.12960, -0.18443, -0.18941, -0.20935, 0.35391, -0.70532, -0.27415, -0.24923, -0.22929, -0.16948, -0.02492, 0.12461, 0.08972, -0.06978, -0.13458, -0.07477, -0.09471, -0.23926, -0.27415, -0.26917, -0.03988, -0.47104, -0.36388, -0.30406, -0.30905, -0.20437, -0.07477, 0.04486, 0.10966, -0.06480, -0.13458, -0.02492, -0.02492, -0.10468, -0.20437, -0.18443, -0.13458, -0.03988, -0.34394, -0.23428, -0.22431, -0.21434, -0.06978, 0.08972, 0.12960, -0.01994, -0.14455, -0.06480, -0.11963, -0.22929, -0.30905, -0.27415, -0.26418, 0.23428, -0.50095, -0.33895, -0.32898, -0.25421, -0.15951, 0.04486, 0.02991, -0.10966, -0.08972, -0.09969, -0.04985, -0.22431, -0.24923, -0.19440, -0.22431, 0.60563, -0.46606, -0.28412, -0.26418, -0.22929, -0.13957, 0.03988, 0.11963, 0.00997, -0.14455, -0.12960, -0.12461, -0.18941, -0.26418, -0.27415, -0.28412, 0.53584, -0.67043, -0.29908, -0.28412, -0.22431, -0.15452, 0.01495, 0.12960, 0.06978, -0.07477, -0.09969, -0.11465, -0.15452, -0.23428, -0.24923, -0.24425, 0.33895, -0.64052, -0.29908, -0.24425, -0.23926, -0.14455, 0.00000, 0.14954, 0.09969, -0.04486, -0.12461, -0.07477, -0.14455, -0.20437, -0.19938, -0.21434, 0.07477, -0.50095, -0.42618, -0.41621, -0.34892, -0.30406, -0.14455, 0.03988, 0.02991, -0.13957, -0.17945, -0.12461, -0.09969, -0.22929, -0.23428, -0.28911, -0.29409, 0.13957, -0.42618, -0.31901, -0.28412, -0.23428, -0.16948, 0.01495, 0.03489, -0.09471, -0.18941, -0.13458, -0.13957, -0.20935, -0.25421, -0.24923, -0.30406, 0.58569, -0.46108, -0.30905, -0.28412, -0.24425, -0.13957, 0.04985, 0.12461, 0.01994, -0.13957, -0.11465, -0.11963, -0.22431, -0.28911, -0.29409, -0.27415, 0.58071, -0.62058, -0.26917, -0.22431, -0.16948, -0.09471, 0.08972, 0.19938, 0.09471, -0.01495, -0.04486, 0.00498, -0.01994, -0.07477, -0.06978, -0.05982, 0.53584, -0.54581, -0.15452, -0.12461, -0.05483, -0.01994, 0.11963, 0.26917, 0.26418, 0.09471, 0.03988, 0.08474, 0.04486, -0.08474, -0.12960, -0.12960, 0.01994, -0.25421, -0.26418, -0.19440, -0.19440, -0.16948, -0.04486, 0.13458, 0.18443, 0.04486, -0.03489, 0.05483, 0.05483, -0.10468, -0.16948, -0.18941, -0.15452, 0.15452, -0.32400, -0.20935, -0.15951, -0.12960, -0.04486, 0.14954, 0.18941, 0.03489, -0.08474, 0.00000, -0.03988, -0.14954, -0.16449, -0.15951, -0.16449, 0.64052, -0.38381, -0.18443, -0.16948, -0.11963, -0.01495, 0.18941, 0.26917, 0.10468, -0.00498, -0.00498, 0.00498, -0.02492, -0.09471, -0.09969, -0.10966, 0.76015, -0.47603, -0.13957, -0.11465, -0.08474, 0.00000, 0.16948, 0.29908, 0.20935, 0.03988, 0.00000, 0.04486, -0.00997, -0.10966, -0.10966, -0.10966, 0.39378, -0.63554, -0.17945, -0.13458, -0.11963, -0.04486, 0.11465, 0.25421, 0.24923, 0.08474, 0.00997, 0.09471, 0.04985, -0.08474, -0.11465, -0.10468, 0.17446, -0.32400, -0.20935, -0.12461, -0.11465, -0.09969, 0.02991, 0.19440, 0.18443, 0.00997, -0.08972, -0.02991, -0.03988, -0.15951, -0.21932, -0.18443, -0.13458, -0.01495, -0.34892, -0.22929, -0.18941, -0.11963, -0.00997, 0.17446, 0.23926, 0.04486, -0.05982, -0.01495, -0.00997, -0.09969, -0.12461, -0.12461, -0.15452, 0.57572, -0.30905, -0.14455, -0.13458, -0.09969, 0.00498, 0.19938, 0.27914, 0.13957, 0.00498, 0.03489, 0.05483, -0.01495, -0.10966, -0.11963, -0.14954, 0.70532, -0.56077, -0.16948, -0.14455, -0.10966, -0.03988, 0.11963, 0.23926, 0.15951, 0.01495, 0.00997, 0.05483, 0.00997, -0.10468, -0.11963, -0.11465, 0.47603, -0.63055, -0.15452, -0.12960, -0.09969, -0.05982, 0.09471, 0.20935, 0.16449, -0.00498, -0.05982, -0.03489, -0.03489, -0.16449, -0.18443, -0.15951, 0.19440, -0.43615, -0.26917, -0.21932, -0.15452, -0.06978, 0.06978, 0.23926, 0.24923, 0.06480, -0.01495, 0.03489, 0.02492, -0.06978, -0.08972, -0.09969, 0.02991, -0.00997, -0.17945, -0.10966, -0.07975, -0.01994, 0.09969, 0.27415, 0.29409, 0.11465, 0.01495, 0.06978, 0.05982, -0.05982, -0.10966, -0.11465, -0.16948, 0.59068, -0.33397, -0.14954, -0.12960, -0.09471, -0.00498, 0.16948, 0.24923, 0.12461, 0.00498, 0.05483, 0.05982, -0.01495, -0.08474, -0.08972, -0.10966, 0.76015, -0.44114, -0.14455, -0.12461, -0.08972, -0.03988, 0.10966, 0.21434, 0.12461, -0.03988, -0.03988, -0.03988, -0.09969, -0.16948, -0.15951, -0.17446, 0.53086, -0.64052, -0.22929, -0.20935, -0.15951, -0.08972, 0.13957, 0.24923, 0.16449, 0.00997, -0.01994, 0.02492, -0.00997, -0.10468, -0.10966, -0.10966, 0.35391, -0.52089, -0.18443, -0.13458, -0.10966, -0.05483, 0.07975, 0.22431, 0.20935, 0.04486, -0.02492, 0.03988, -0.00997, -0.10966, -0.16948, -0.16449, -0.06480, -0.18941, -0.28412, -0.19938, -0.16948, -0.12960, -0.00997, 0.15951, 0.20437, 0.05483, -0.02991, 0.03489, 0.03988, -0.10468, -0.16449, -0.18443, -0.18941, 0.23926, -0.39877, -0.21932, -0.22431, -0.17446, -0.08474, 0.10966, 0.17446, 0.02492, -0.10468, -0.06480, -0.06978, -0.14954, -0.22929, -0.19440, -0.21932, 0.61560, -0.45111, -0.24923, -0.21932, -0.17446, -0.06480, 0.13458, 0.21932, 0.07477, -0.06978, -0.04486, -0.02991, -0.08474, -0.15951, -0.17446, -0.20935, 0.64551, -0.59068, -0.21932, -0.19938, -0.17446, -0.09471, 0.07975, 0.18443, 0.09969, -0.05483, -0.08474, -0.04985, -0.08474, -0.19440, -0.21932, -0.21434, 0.34892, -0.74021, -0.24425, -0.20437, -0.17446, -0.11963, 0.03489, 0.18941, 0.15452, -0.00498, -0.07975, -0.00498, -0.05982, -0.18443, -0.22929, -0.21434, 0.05483, -0.40624, -0.31403, -0.25920, -0.20437, -0.16948, -0.02991, 0.12461, 0.14455, -0.04486, -0.09471, -0.04486, -0.05982, -0.18941, -0.21434, -0.19938, -0.13957, -0.00997, -0.34892, -0.24923, -0.22431, -0.15452, -0.03489, 0.14954, 0.17945, 0.01495, -0.08474, -0.02991, -0.04486, -0.11963, -0.17945, -0.17945, -0.23926, 0.63055, -0.41621, -0.22431, -0.20935, -0.17446, -0.07975, 0.08972, 0.18941, 0.06480, -0.06978, -0.04985, -0.02991, -0.08972, -0.16449, -0.18443, -0.20935, 0.58569, -0.64052, -0.24923, -0.20935, -0.23926, -0.11963, 0.02492, 0.15951, 0.10966, -0.07975, -0.03988, -0.00997, -0.04985, -0.16449, -0.18443, -0.16948, 0.39378, -0.69037, -0.19440, -0.18443, -0.17446, -0.12960, 0.02492, 0.15951, 0.11963, -0.05483, -0.10468, -0.04486, -0.08972, -0.21434, -0.23428, -0.22431, 0.13458, -0.48600, -0.34892, -0.27415, -0.23428, -0.16948, -0.03489, 0.13957, 0.13458, -0.05483, -0.13458, -0.06978, -0.06978, -0.16449, -0.19938, -0.19938, -0.08972, -0.02492, -0.30406, -0.20437, -0.16449, -0.12461, 0.00000, 0.16948, 0.22929, 0.04985, -0.06480, -0.01495, -0.02492, -0.12960, -0.19440, -0.19440, -0.23926, 0.58569, -0.43117, -0.22431, -0.20437, -0.17446, -0.08474, 0.09471, 0.19440, 0.08972, -0.04985, -0.02492, -0.00498, -0.06480, -0.13957, -0.16449, -0.15951, 0.66046, -0.57572, -0.18443, -0.17945, -0.16449, -0.09969, 0.07477, 0.17945, 0.09471, -0.06480, -0.09969, -0.05483, -0.11963, -0.18941, -0.21932, -0.20935, 0.30905, -0.66544, -0.28412, -0.22431, -0.19938, -0.11963, 0.04985, 0.17945, 0.13458, -0.02492, -0.07477, -0.00498, -0.01994, -0.13458, -0.15452, -0.15951, 0.13458, -0.35391, -0.23926, -0.17446, -0.14954, -0.08474, 0.03489, 0.20935, 0.20437, 0.03489, -0.05483, 0.00997, 0.00498, -0.13458, -0.17945, -0.18443, -0.17945, 0.18443, -0.35889, -0.21434, -0.18443, -0.14455, -0.05483, 0.14954, 0.21932, 0.10468, -0.01495, 0.03988, 0.02492, -0.06978, -0.12960, -0.14455, -0.16948, 0.64052, -0.42618, -0.20437, -0.17945, -0.15951, -0.05982, 0.09969, 0.21434, 0.10966, -0.03489, -0.02991, -0.02492, -0.09969, -0.15452, -0.16449, -0.15452, 0.66046, -0.57074, -0.17446, -0.15452, -0.10966, -0.02492, 0.16449, 0.26418, 0.17446, 0.02991, -0.00498, 0.05982, 0.02991, -0.06480, -0.07975, -0.08474, 0.47603, -0.54581, -0.10966, -0.08972, -0.04486, 0.00498, 0.15951, 0.30905, 0.27415, 0.09471, 0.02492, 0.10966, 0.05982, -0.06480, -0.09471, -0.07975, 0.10468, -0.19440, -0.18443, -0.10966, -0.09471, -0.03489, 0.08972, 0.28412, 0.31403, 0.17446, 0.06978, 0.13957, 0.12461, 0.00000, -0.05483, -0.03988, -0.01495, 0.26418, -0.21932, -0.07975, -0.05483, -0.02492, 0.07477, 0.24923, 0.31901, 0.15951, 0.04486, 0.07975, 0.05982, -0.04985, -0.10468, -0.11465, -0.12960, 0.64052, -0.44612, -0.16948, -0.15452, -0.09969, -0.00997, 0.16948, 0.28412, 0.16449, 0.00997, 0.02492, 0.04486, -0.00997, -0.05982, -0.09471, -0.09471, 0.71529, -0.49098, -0.12461, -0.08474, -0.05483, 0.01495, 0.18443, 0.31403, 0.21932, 0.04985, 0.00498, 0.05483, 0.03489, -0.06978, -0.09471, -0.09969, 0.37384, -0.50095, -0.15452, -0.11963, -0.11465, -0.04486, 0.11963, 0.27914, 0.25421, 0.06978, 0.01495, 0.08474, 0.06978, -0.03988, -0.07975, -0.06480, 0.01994, -0.01495, -0.19440, -0.08972, -0.06978, -0.02492, 0.08474, 0.26917, 0.31403, 0.14954, 0.04486, 0.07477, 0.08972, -0.05483, -0.11465, -0.10468, -0.12960, 0.52089, -0.36886, -0.17945, -0.12960, -0.10468, 0.00498, 0.20437, 0.26418, 0.13458, -0.00997, 0.03489, 0.02991, -0.07477, -0.09969, -0.09969, -0.10966, 0.78009, -0.41123, -0.13957, -0.10966, -0.07975, 0.00498, 0.19440, 0.31901, 0.17446, 0.04486, 0.00000, 0.02991, -0.01994, -0.09471, -0.12960, -0.13957, 0.46108, -0.63055, -0.16948, -0.15452, -0.12461, -0.06480, 0.11963, 0.25421, 0.21434, 0.02991, -0.01994, 0.03489, 0.00997, -0.10966, -0.12960, -0.13458, 0.05483, -0.27914, -0.22929, -0.17446, -0.13458, -0.05982, 0.05483, 0.24425, 0.25920, 0.09471, 0.00498, 0.07477, 0.05483, -0.07477, -0.11963, -0.12960, -0.10468, 0.16449, -0.32898, -0.19938, -0.19938, -0.14455, -0.03988, 0.13957, 0.18941, 0.03489, -0.06978, -0.02991, -0.02492, -0.12461, -0.18941, -0.18443, -0.19440, 0.63554, -0.42618, -0.19938, -0.17945, -0.12461, -0.04486, 0.14455, 0.24923, 0.10966, -0.02492, -0.03489, -0.02991, -0.06480, -0.14954, -0.17446, -0.17945, 0.58569, -0.60563, -0.22431, -0.19938, -0.15951, -0.07975, 0.11465, 0.22929, 0.15452, -0.01495, -0.09471, -0.02991, -0.05483, -0.16948, -0.17446, -0.18941, 0.11963, -0.45609, -0.26917, -0.20437, -0.17945, -0.10966, 0.02991, 0.19938, 0.20437, 0.03988, -0.04486, 0.02492, 0.00997, -0.10468, -0.16449, -0.16449, -0.13957, 0.04985, -0.32400, -0.18941, -0.16948, -0.14954, -0.02991, 0.14954, 0.19440, 0.03988, -0.07477, -0.02492, -0.03489, -0.14954, -0.20437, -0.21434, -0.22929, 0.57074, -0.49098, -0.26418, -0.20935, -0.16948, -0.09969, 0.13458, 0.20935, 0.06978, -0.06978, -0.05982, -0.06978, -0.09471, -0.14954, -0.19938, -0.20935, 0.58569, -0.60064, -0.25421, -0.19440, -0.18941, -0.08972, 0.07477, 0.20437, 0.11963, -0.07975, -0.10966, -0.04486, -0.08474, -0.17945, -0.20437, -0.19938, 0.16449, -0.51591, -0.27914, -0.21932, -0.19440, -0.12960, 0.00498, 0.17446, 0.17945, 0.00000, -0.07477, 0.00000, -0.00997, -0.14455, -0.16449, -0.17446, -0.16449, 0.02991, -0.33895, -0.20437, -0.17945, -0.13957, -0.03988, 0.14954, 0.21434, 0.08972, -0.01495, 0.03988, 0.00000, -0.10468, -0.18941, -0.20437, -0.23926, 0.58569, -0.43615, -0.23428, -0.22431, -0.18941, -0.10468, 0.08474, 0.18941, 0.06978, -0.09969, -0.10468, -0.08972, -0.15452, -0.21434, -0.20935, -0.22929, 0.58569, -0.59566, -0.24425, -0.20437, -0.17446, -0.09471, 0.03988, 0.15452, 0.05982, -0.04985, -0.11465, -0.01994, -0.00997, -0.15951, -0.11963, -0.15951, 0.27415, -0.56077, -0.20935, -0.19938, -0.14954, -0.11963, 0.04486, 0.13957, 0.11465, 0.00997, -0.10468, -0.01994, -0.02991, -0.17446, -0.20437, -0.17945, -0.02492, -0.23428, -0.26418, -0.19440, -0.17446, -0.10966, 0.02991, 0.17945, 0.22431, 0.05982, -0.03988, 0.04486, 0.01495, -0.12461, -0.18443, -0.16449, -0.19938, 0.18941, -0.40624, -0.24923, -0.22929, -0.19440, -0.08474, 0.08474, 0.14954, -0.01994, -0.12461, -0.07975, -0.11465, -0.19938, -0.26418, -0.23428, -0.24425, 0.61061, -0.53086, -0.26418, -0.20437, -0.18941, -0.06480, 0.12960, 0.21932, 0.07477, -0.05982, -0.07477, -0.06978, -0.08972, -0.17945, -0.19938, -0.21434, 0.40624, -0.71529, -0.25920, -0.23926, -0.20935, -0.15452, 0.00997, 0.15452, 0.10468, -0.05982, -0.10966, -0.03988, -0.06978, -0.18941, -0.21932, -0.21434, 0.00498, -0.35889, -0.30905, -0.23428, -0.22431, -0.15951, -0.01994, 0.15452, 0.18443, 0.03988, -0.08474, -0.01495, -0.03489, -0.19440, -0.24923, -0.24425, -0.23428, 0.23428, -0.46606, -0.30406, -0.25920, -0.19440, -0.12461, 0.08972, 0.15951, 0.00997, -0.11465, -0.09471, -0.08474, -0.10966, -0.20935, -0.20437, -0.19938, 0.69535, -0.49098, -0.23428, -0.19440, -0.14455, -0.04985, 0.12461, 0.22431, 0.08972, -0.04486, -0.06978, -0.03988, -0.06978, -0.16948, -0.17945, -0.18941, 0.32898, -0.70034, -0.22929, -0.20935, -0.16948, -0.11963, 0.03489, 0.19440, 0.16449, -0.00997, -0.06480, -0.00498, -0.01994, -0.15452, -0.18941, -0.16948, -0.00498, -0.25421, -0.24425, -0.17945, -0.16449, -0.09969, 0.02991, 0.21434, 0.22929, 0.04486, -0.03988, 0.00498, -0.01495, -0.15452, -0.21434, -0.20935, -0.21434, 0.33397, -0.42120, -0.24923, -0.22929, -0.14455, -0.05483, 0.13458, 0.20935, 0.04486, -0.05982, -0.03988, -0.02991, -0.07477, -0.14954, -0.16449, -0.14455, 0.74021, -0.43117, -0.16948, -0.12461, -0.09471, 0.00000, 0.19440, 0.28911, 0.18443, 0.02492, 0.02492, 0.03988, -0.01994, -0.11465, -0.12960, -0.13458, 0.39378, -0.65049, -0.17945, -0.16449, -0.14455, -0.07975, 0.05982, 0.20935, 0.18941, 0.03489, -0.04486, 0.05483, 0.00997, -0.10966, -0.11963, -0.09471, 0.08474, -0.17945, -0.17945, -0.10966, -0.07975, -0.05982, 0.05982, 0.22929, 0.23428, 0.07477, -0.04486, 0.00498, -0.00997, -0.13957, -0.17446, -0.18443, -0.14455, 0.30406, -0.35391, -0.17446, -0.15951, -0.12960, 0.01495, 0.18941, 0.23926, 0.10468, -0.01994, 0.02492, 0.03489, -0.02492, -0.08972, -0.08474, -0.11963, 0.81000, -0.36388, -0.09969, -0.09969, -0.05483, 0.01994, 0.19440, 0.29409, 0.17945, 0.03489, 0.01994, 0.06480, 0.01495, -0.09969, -0.12461, -0.12960, 0.37384, -0.65049, -0.18941, -0.14455, -0.13458, -0.06480, 0.08474, 0.24425, 0.21434, 0.06480, 0.00498, 0.08972, 0.04486, -0.05982, -0.09969, -0.08972, 0.03988, -0.12960, -0.23428, -0.15452, -0.14954, -0.07477, 0.04486, 0.20935, 0.21932, 0.06480, -0.02991, 0.01994, 0.01495, -0.09471, -0.11963, -0.10468, -0.11465, 0.35391, -0.28412, -0.16449, -0.11465, -0.06480, 0.03489, 0.24425, 0.29409, 0.15452, 0.01495, 0.04486, 0.05483, -0.01994, -0.08474, -0.08474, -0.13458, 0.76514, -0.44114, -0.15452, -0.13957, -0.09969, -0.03988, 0.14455, 0.23926, 0.13957, -0.00997, -0.01994, 0.00000, -0.04985, -0.13458, -0.14954, -0.14455, 0.39378, -0.65049, -0.16948, -0.13957, -0.11963, -0.04486, 0.11465, 0.25421, 0.23428, 0.06978, -0.00498, 0.08474, 0.02991, -0.10468, -0.12960, -0.12461, 0.10966, -0.29409, -0.21932, -0.15951, -0.12461, -0.08972, 0.02492, 0.18941, 0.20935, 0.01994, -0.06978, -0.00498, -0.01495, -0.14954, -0.16948, -0.16449, -0.14954, 0.20935, -0.35391, -0.19938, -0.14455, -0.09471, 0.02991, 0.20437, 0.25421, 0.10468, -0.00997, 0.03988, 0.01495, -0.06480, -0.10468, -0.10468, -0.12461, 0.77012, -0.36388, -0.13957, -0.10468, -0.08972, 0.01495, 0.19440, 0.29908, 0.18941, 0.04985, 0.03489, 0.05483, 0.00000, -0.08972, -0.11465, -0.12461, 0.39378, -0.65049, -0.17446, -0.14455, -0.12461, -0.06480, 0.08972, 0.24425, 0.21932, 0.06978, 0.00997, 0.09471, 0.08474, -0.02991, -0.06978, -0.05982, 0.09969, -0.15452, -0.16449, -0.09471, -0.08972, -0.03988, 0.09471, 0.25920, 0.25920, 0.10468, -0.03489, 0.04486, 0.02492, -0.07477, -0.14954, -0.13458, -0.14954, 0.32898, -0.38880, -0.21932, -0.18941, -0.13458, -0.00997, 0.15951, 0.25421, 0.10966, -0.00498, 0.03988, 0.03988, -0.03988, -0.08972, -0.09471, -0.09471, 0.82495, -0.34892, -0.09471, -0.07975, -0.02492, 0.04486, 0.23428, 0.32400, 0.22431, 0.05982, 0.02492, 0.06978, 0.00997, -0.07975, -0.09471, -0.08972, 0.37384, -0.60064, -0.16449, -0.12960, -0.10966, -0.06480, 0.09471, 0.24425, 0.20437, 0.04486, -0.02492, 0.06480, 0.03489, -0.08972, -0.09471, -0.08474, 0.03489, -0.08972, -0.18443, -0.09471, -0.08474, -0.02991, 0.07975, 0.23926, 0.25920, 0.08972, -0.02991, 0.03489, 0.04486, -0.11465, -0.14954, -0.16948, -0.18941, 0.41621, -0.39877, -0.20437, -0.18941, -0.15452, -0.04486, 0.14954, 0.20935, 0.08474, -0.06978, 0.00000, 0.00997, -0.05982, -0.12960, -0.14455, -0.14455, 0.77511, -0.41123, -0.13458, -0.12960, -0.09471, 0.00498, 0.19938, 0.27914, 0.18443, 0.02492, 0.00498, 0.03988, -0.01495, -0.10966, -0.12960, -0.12960, 0.34394, -0.64551, -0.20935, -0.16948, -0.13957, -0.08474, 0.06978, 0.21434, 0.17945, 0.00498, -0.05483, 0.02991, -0.01495, -0.14455, -0.16449, -0.15452, -0.04486, -0.15452, -0.24425, -0.13957, -0.10468, -0.04985, 0.05982, 0.23428, 0.24425, 0.10966, -0.01495, 0.01994, 0.00498, -0.16948, -0.21434, -0.21434, -0.22431, 0.41621, -0.47104, -0.24923, -0.21434, -0.15951, -0.05982, 0.13458, 0.20437, 0.07975, -0.04985, -0.03489, -0.06978, -0.08972, -0.16449, -0.15951, -0.15951, 0.71031, -0.46108, -0.16449, -0.15452, -0.12461, -0.03988, 0.15452, 0.27914, 0.15452, -0.00498, -0.02492, 0.01994, -0.01495, -0.14954, -0.18443, -0.14954, 0.26917, -0.62557, -0.22929, -0.20437, -0.16948, -0.12461, 0.02991, 0.17945, 0.13957, -0.01495, -0.08972, 0.00498, -0.02492, -0.13957, -0.16948, -0.14455, -0.06480, -0.05483, -0.22929, -0.12960, -0.09969, -0.05483, 0.04985, 0.20437, 0.23926, 0.06978, -0.05483, -0.00498, -0.00498, -0.16948, -0.19938, -0.19440, -0.21932, 0.53086, -0.42120, -0.23926, -0.18941, -0.16948, -0.06480, 0.13458, 0.18941, 0.07975, -0.01495, -0.04486, -0.00498, -0.05483, -0.12960, -0.12461, -0.14954, 0.69037, -0.49098, -0.16449, -0.13957, -0.11963, -0.03988, 0.14455, 0.27415, 0.17945, 0.01994, -0.03489, 0.01495, -0.02492, -0.13957, -0.14954, -0.14954, 0.10966, -0.43117, -0.25920, -0.19440, -0.18443, -0.12461, 0.02492, 0.19440, 0.17945, 0.01495, -0.04985, 0.02991, 0.03489, -0.08474, -0.12461, -0.10468, -0.10468, 0.25421, -0.23428, -0.08972, -0.08474, -0.03988, 0.04985, 0.22431, 0.26917, 0.10468, -0.00997, 0.01495, 0.00997, -0.09969, -0.19440, -0.16449, -0.18443, 0.66544, -0.44114, -0.20935, -0.15951, -0.11963, -0.02991, 0.15452, 0.25421, 0.14954, 0.00000, -0.02492, 0.00997, -0.03988, -0.10966, -0.10966, -0.10468, 0.53086, -0.55080, -0.15951, -0.12461, -0.10468, -0.03988, 0.13957, 0.27914, 0.20437, 0.04486, -0.02492, 0.05982, 0.00498, -0.09969, -0.12960, -0.12960, -0.02492, -0.21434, -0.24923, -0.17446, -0.14455, -0.09471, 0.00997, 0.18941, 0.21932, 0.06480, -0.02991, 0.04486, 0.03489, -0.07477, -0.11465, -0.09969, -0.14455, 0.52588, -0.28412, -0.11963, -0.09969, -0.06480, 0.02991, 0.19440, 0.28911, 0.15951, 0.02492, 0.07477, 0.04985, -0.05483, -0.11465, -0.13458, -0.13957, 0.68538, -0.49098, -0.18443, -0.16449, -0.14954, -0.08972, 0.09471, 0.17945, 0.13458, -0.03489, -0.04486, -0.02492, -0.07975, -0.16948, -0.18443, -0.15452, 0.36388, -0.60563, -0.20437, -0.17446, -0.10966, -0.06978, 0.11465, 0.23926, 0.17446, 0.02991, -0.02492, 0.03489, 0.02492, -0.08972, -0.11465, -0.11963, 0.07975, -0.19440, -0.20935, -0.12960, -0.11465, -0.06480, 0.06978, 0.24923, 0.26418, 0.10468, 0.00000, 0.08972, 0.04486, -0.06978, -0.11963, -0.11465, -0.16449, 0.62058, -0.33397, -0.14954, -0.13458, -0.09969, -0.00997, 0.17446, 0.28412, 0.17945, 0.04985, 0.08972, 0.09969, 0.01495, -0.06480, -0.08474, -0.09969, 0.68040, -0.51092, -0.11465, -0.09471, -0.07477, 0.00000, 0.15951, 0.29908, 0.22431, 0.07477, 0.05982, 0.10468, 0.05483, -0.04486, -0.06480, -0.06978, 0.42120, -0.59068, -0.12960, -0.09471, -0.05483, -0.00498, 0.14954, 0.28412, 0.27914, 0.09471, 0.00997, 0.09969, 0.07477, -0.05483, -0.08972, -0.09969, 0.05982, -0.15951, -0.22431, -0.14954, -0.10468, -0.07975, 0.06978, 0.20935, 0.24923, 0.06978, -0.02492, 0.06480, 0.05982, -0.07975, -0.09471, -0.09969, -0.06978, 0.42120, -0.26418, -0.11963, -0.08474, -0.02492, 0.07975, 0.26418, 0.33397, 0.18443, 0.06480, 0.09471, 0.08474, 0.04486, -0.04486, -0.03489, -0.05483, 0.82495, -0.41123, -0.08474, -0.07975, -0.04486, 0.01994, 0.18941, 0.30905, 0.21932, 0.06978, 0.04486, 0.08474, 0.01994, -0.05982, -0.08474, -0.05982, 0.39877, -0.59566, -0.15452, -0.09471, -0.06480, -0.01994, 0.15452, 0.30905, 0.32898, 0.14455, 0.11465, 0.16948, 0.12461, -0.00498, -0.05483, -0.06480, 0.10468, -0.12461, -0.13458, -0.06480, -0.05483, -0.01495, 0.10966, 0.22431, 0.28911, 0.11963, 0.07477, 0.19440, 0.16449, 0.03489, -0.03988, -0.01495, 0.00498, 0.40624, -0.12960, -0.00498, 0.02492, 0.07975, 0.16449, 0.36886, 0.45111, 0.32898, 0.20437, 0.26418, 0.29409, 0.15951, 0.08972, 0.12461, 0.10966, 0.81997, -0.17446, 0.07477, 0.07975, 0.13458, 0.19938, 0.36886, 0.48101, 0.37883, 0.24425, 0.26917, 0.26418, 0.19440, 0.10468, 0.06480, 0.06480, 0.65547, -0.50095, -0.02492, 0.00498, 0.04486, 0.10966, 0.25421, 0.41123, 0.34892, 0.18941, 0.13957, 0.20437, 0.16948, 0.03988, -0.01495, -0.01495, 0.31901, -0.20437, -0.13458, -0.05483, -0.01994, 0.02492, 0.16948, 0.34892, 0.32898, 0.18443, 0.08474, 0.13458, 0.12960, 0.02991, 0.00000, 0.01994, 0.01495, 0.33895, -0.13957, -0.01994, 0.00000, 0.03988, 0.12960, 0.31901, 0.37384, 0.21434, 0.08474, 0.10468, 0.10468, 0.01994, -0.06480, -0.06480, -0.09471, 0.76015, -0.48101, -0.13458, -0.08474, -0.06978, 0.00498, 0.15951, 0.26418, 0.17945, 0.03988, 0.01994, 0.07477, 0.02991, -0.07975, -0.10966, -0.07975, 0.41123, -0.59566, -0.14954, -0.09969, -0.09471, -0.02492, 0.10468, 0.22929, 0.21932, 0.05483, -0.01994, 0.07975, 0.03489, -0.11465, -0.13458, -0.12960, 0.05982, -0.25920, -0.24425, -0.17945, -0.16449, -0.12461, 0.00498, 0.16449, 0.18941, 0.04486, -0.05982, 0.00000, -0.00997, -0.12960, -0.17945, -0.16948, -0.16948, 0.24923, -0.35889, -0.21434, -0.16948, -0.13957, -0.00498, 0.16449, 0.21932, 0.10468, -0.02991, -0.02991, 0.00000, -0.09969, -0.14954, -0.14954, -0.14954, 0.72027, -0.44114, -0.17446, -0.14455, -0.08972, -0.00997, 0.17945, 0.27415, 0.16449, 0.02492, -0.00997, 0.02991, -0.00997, -0.12960, -0.16449, -0.16449, 0.29409, -0.64052, -0.21434, -0.18443, -0.16449, -0.11465, 0.03988, 0.19938, 0.16948, 0.00498, -0.04985, 0.03489, 0.00000, -0.12461, -0.15951, -0.14455, -0.03988, -0.13458, -0.25920, -0.17446, -0.16948, -0.12461, -0.01495, 0.14455, 0.19440, 0.01994, -0.05982, -0.03489, -0.02991, -0.16449, -0.20437, -0.16948, -0.19440, 0.44114, -0.39877, -0.22431, -0.18443, -0.14455, -0.03489, 0.14455, 0.22431, 0.07477, -0.03988, -0.01495, -0.01495, -0.03988, -0.13957, -0.12960, -0.15951, 0.71031, -0.50594, -0.16948, -0.13458, -0.11963, -0.03489, 0.13458, 0.24425, 0.15452, 0.00498, -0.03489, 0.03489, -0.01495, -0.14954, -0.16449, -0.17446, 0.15452, -0.54581, -0.26418, -0.20935, -0.18443, -0.13957, -0.00498, 0.14954, 0.15452, 0.00000, -0.06978, 0.02492, 0.01994, -0.10468, -0.13957, -0.16449, -0.13458, 0.00498, -0.31403, -0.24425, -0.20935, -0.15951, -0.06480, 0.12960, 0.17945, 0.00997, -0.08972, -0.06480, -0.04985, -0.12960, -0.18941, -0.18443, -0.20935, 0.61560, -0.41123, -0.22929, -0.17945, -0.13957, -0.03988, 0.15951, 0.21932, 0.09471, -0.04486, -0.04486, -0.03988, -0.05483, -0.14455, -0.15951, -0.16449, 0.54581, -0.63055, -0.19440, -0.17446, -0.15452, -0.08474, 0.08972, 0.20935, 0.14455, -0.01495, -0.06978, -0.00498, -0.03489, -0.16449, -0.18941, -0.18443, 0.01495, -0.32400, -0.26917, -0.19938, -0.17945, -0.12461, 0.00000, 0.18443, 0.20935, 0.06480, -0.02492, 0.04486, 0.04486, -0.09969, -0.13957, -0.13957, -0.15452, 0.34892, -0.32898, -0.17446, -0.14954, -0.10966, -0.00997, 0.16449, 0.22929, 0.10468, -0.01994, 0.02492, 0.01495, -0.08972, -0.13957, -0.16948, -0.18941, 0.62557, -0.55080, -0.23926, -0.21434, -0.14954, -0.09471, 0.09969, 0.19938, 0.11465, -0.03489, -0.03489, -0.02492, -0.04486, -0.13957, -0.14954, -0.14455, 0.45609, -0.58569, -0.17945, -0.14954, -0.12461, -0.04486, 0.11963, 0.24923, 0.18443, 0.00997, -0.02492, 0.04486, -0.00498, -0.10468, -0.14455, -0.14455, 0.06978, -0.26418, -0.21932, -0.17446, -0.14455, -0.07975, 0.03988, 0.20935, 0.23428, 0.06978, -0.02492, 0.02991, 0.02492, -0.09969, -0.15951, -0.11963, -0.17945, 0.56077, -0.33895, -0.15951, -0.13458, -0.08972, 0.01495, 0.18443, 0.27415, 0.15452, 0.02492, 0.04985, 0.05483, -0.01994, -0.10468, -0.11963, -0.14455, 0.67541, -0.54581, -0.18941, -0.15951, -0.11963, -0.06978, 0.10966, 0.20437, 0.13957, -0.00997, -0.04985, -0.01994, -0.05483, -0.16449, -0.18443, -0.18941, 0.28911, -0.55578, -0.21434, -0.15951, -0.14455, -0.06480, 0.10468, 0.22431, 0.22431, 0.04985, -0.00498, 0.06480, 0.05483, -0.05483, -0.10468, -0.11465, 0.00498, -0.00997, -0.22929, -0.14455, -0.11465, -0.07477, 0.04985, 0.21932, 0.26418, 0.10966, 0.00997, 0.04486, 0.02991, -0.05982, -0.11465, -0.11465, -0.14954, 0.70034, -0.43615, -0.16449, -0.14954, -0.10966, -0.01994, 0.16449, 0.27415, 0.17945, 0.04486, 0.04985, 0.09969, 0.03988, -0.05982, -0.07975, -0.08474, 0.46606, -0.61061, -0.15452, -0.11963, -0.10468, -0.04985, 0.08972, 0.22929, 0.21434, 0.04985, -0.00997, 0.03988, 0.01495, -0.11465, -0.17945, -0.15951, -0.06480, -0.13957, -0.32898, -0.21932, -0.18443, -0.13957, -0.00997, 0.17446, 0.23926, 0.08474, -0.04985, 0.00000, 0.02991, -0.05483, -0.13458, -0.11963, -0.11465, 0.73024, -0.34394, -0.15951, -0.13458, -0.08972, -0.00498, 0.17945, 0.26917, 0.13957, -0.00997, -0.03489, 0.00997, -0.00498, -0.10468, -0.12960, -0.11963, 0.36886, -0.58071, -0.17945, -0.13957, -0.10966, -0.05483, 0.08474, 0.23926, 0.21434, 0.04985, -0.01495, 0.06480, 0.07477, -0.05982, -0.09969, -0.09471, -0.12461, 0.38381, -0.28412, -0.11465, -0.09969, -0.06978, 0.01994, 0.20437, 0.26917, 0.15452, 0.03489, 0.04985, 0.05982, -0.02991, -0.10468, -0.10468, -0.12461, 0.62557, -0.58071, -0.17446, -0.15452, -0.12960, -0.06480, 0.10966, 0.23428, 0.16449, 0.00000, -0.03988, 0.00498, -0.00498, -0.12960, -0.14954, -0.11963, 0.11465, -0.15951, -0.23926, -0.12960, -0.11963, -0.02492, 0.11963, 0.26917, 0.27914, 0.09969, 0.01495, 0.06480, 0.08474, -0.00498, -0.05483, -0.04985, -0.09969, 0.81000, -0.29908, -0.08972, -0.07975, -0.03988, 0.04486, 0.21932, 0.31403, 0.20437, 0.05483, 0.01994, 0.06480, 0.01495, -0.10966, -0.11963, -0.11465, 0.26418, -0.46606, -0.18941, -0.13458, -0.10966, -0.05982, 0.08972, 0.25920, 0.28412, 0.13957, 0.07477, 0.13458, 0.10468, 0.00000, -0.05483, -0.04985, -0.08474, 0.65049, -0.29908, -0.10468, -0.07975, -0.04985, 0.03988, 0.22431, 0.31403, 0.18941, 0.05982, 0.05483, 0.05982, 0.00997, -0.08972, -0.11963, -0.12461, 0.39877, -0.68040, -0.19938, -0.14455, -0.10468, -0.02492, 0.14455, 0.28412, 0.22431, 0.08474, 0.01994, 0.10468, 0.08972, -0.00498, -0.05982, -0.04985, 0.01495, 0.24923, -0.17446, -0.04985, -0.02991, 0.00997, 0.14455, 0.34892, 0.39877, 0.21932, 0.10468, 0.13957, 0.12960, 0.06480, -0.03489, -0.03988, -0.08474, 0.71529, -0.50095, -0.09471, -0.07975, -0.04985, 0.01495, 0.18443, 0.30905, 0.24425, 0.08474, 0.02492, 0.10966, 0.06480, -0.06480, -0.06480, -0.03988, 0.11465, -0.07477, -0.11465, -0.03988, -0.01994, 0.03988, 0.15951, 0.31403, 0.34892, 0.17446, 0.05982, 0.10966, 0.06978, -0.03988, -0.09969, -0.10966, -0.13458, 0.67541, -0.43615, -0.15452, -0.12461, -0.08972, -0.01495, 0.18443, 0.29908, 0.15452, 0.00000, 0.00498, 0.06480, 0.02492, -0.09969, -0.09969, -0.08972, 0.41123, -0.38880, -0.12461, -0.07477, -0.04486, 0.00997, 0.19440, 0.36886, 0.35391, 0.17945, 0.08474, 0.14455, 0.14455, 0.01994, -0.04985, -0.04985, -0.11963, 0.52089, -0.25421, -0.11465, -0.08972, -0.05483, 0.04985, 0.22431, 0.28911, 0.15951, 0.02991, 0.04985, 0.06480, -0.01495, -0.09471, -0.09969, -0.09969, 0.59068, -0.57074, -0.07477, -0.03988, -0.01495, 0.04486, 0.19938, 0.34394, 0.29908, 0.13957, 0.07477, 0.14455, 0.07975, -0.05483, -0.10966, -0.09471, 0.04486, -0.17945, -0.22929, -0.13458, -0.10468, -0.07975, 0.02991, 0.20437, 0.23428, 0.06480, -0.03988, 0.01495, -0.00498, -0.08972, -0.14954, -0.14954, -0.12960, 0.68040, -0.36886, -0.13458, -0.09969, -0.06480, 0.03489, 0.20437, 0.30905, 0.17945, 0.03988, 0.00498, 0.01994, -0.00498, -0.09471, -0.09969, -0.11963, 0.43615, -0.55578, -0.16449, -0.10966, -0.06978, -0.01495, 0.15951, 0.32400, 0.27914, 0.08972, 0.01994, 0.07477, 0.06480, -0.06480, -0.11963, -0.10468, -0.14455, 0.35391, -0.28911, -0.14455, -0.12960, -0.08972, 0.00997, 0.20437, 0.27415, 0.16449, 0.05483, 0.09471, 0.10468, -0.00498, -0.08972, -0.12461, -0.10966, 0.62557, -0.58569, -0.16948, -0.15951, -0.14455, -0.06480, 0.09471, 0.23428, 0.16948, 0.00000, -0.05483, 0.00997, 0.00498, -0.11465, -0.12461, -0.15452, 0.18443, -0.30406, -0.24425, -0.16449, -0.11465, -0.03489, 0.10468, 0.26418, 0.27415, 0.08972, -0.00997, 0.04985, 0.04985, -0.06480, -0.10966, -0.09471, -0.14455, 0.56575, -0.29409, -0.13957, -0.10468, -0.07975, 0.00000, 0.18941, 0.27415, 0.14455, -0.00498, 0.02991, 0.02991, -0.03489, -0.14455, -0.14954, -0.15452, 0.46606, -0.68538, -0.17945, -0.15452, -0.13458, -0.06978, 0.08972, 0.23926, 0.21434, 0.06978, 0.02492, 0.09471, 0.05483, -0.07477, -0.12461, -0.12461, 0.01495, -0.13957, -0.24923, -0.16449, -0.17945, -0.12960, -0.00498, 0.15951, 0.19938, 0.03489, -0.06480, -0.01994, -0.01495, -0.14455, -0.18443, -0.15951, -0.18443, 0.56575, -0.45111, -0.19440, -0.17945, -0.10468, -0.00997, 0.17446, 0.23428, 0.14455, -0.00498, -0.01994, 0.00498, -0.02492, -0.13458, -0.11465, -0.12960, 0.45609, -0.60563, -0.16449, -0.13458, -0.10966, -0.05483, 0.09471, 0.24923, 0.21932, 0.04985, -0.02991, 0.05483, 0.02492, -0.08972, -0.14455, -0.14455, -0.13458, 0.07477, -0.29908, -0.18941, -0.17945, -0.14954, -0.03988, 0.14954, 0.19440, 0.07975, -0.01994, 0.05483, 0.04486, -0.04486, -0.10966, -0.10966, -0.13957, 0.72526, -0.43615, -0.15452, -0.12960, -0.09969, -0.01994, 0.13957, 0.21932, 0.13458, -0.01495, -0.05483, -0.00997, -0.03489, -0.16449, -0.18443, -0.19440, 0.29409, -0.62557, -0.24923, -0.20437, -0.16948, -0.07975, 0.06480, 0.21434, 0.21932, 0.02991, -0.02991, 0.04985, 0.02991, -0.06480, -0.11465, -0.12461, -0.01495, 0.14455, -0.23428, -0.13458, -0.13957, -0.11465, -0.01495, 0.17446, 0.21932, 0.04985, -0.05483, -0.02991, -0.00498, -0.06480, -0.12960, -0.12461, -0.15452, 0.78507, -0.45111, -0.13458, -0.11465, -0.07975, 0.00498, 0.19440, 0.32898, 0.22929, 0.08474, 0.04985, 0.11465, 0.07975, -0.03988, -0.05982, -0.07477, 0.35889, -0.53086, -0.15951, -0.09471, -0.06480, -0.00997, 0.14455, 0.29409, 0.29409, 0.13458, 0.04985, 0.12461, 0.08972, -0.04985, -0.11465, -0.11963, -0.09471, 0.03489, -0.29908, -0.20437, -0.17945, -0.13957, -0.01495, 0.13957, 0.20437, 0.05982, -0.05483, 0.00498, -0.01994, -0.09969, -0.12960, -0.11963, -0.15452, 0.74021, -0.37384, -0.17446, -0.14954, -0.10966, -0.02492, 0.16948, 0.26917, 0.15452, 0.00000, -0.02991, 0.00997, -0.01495, -0.10468, -0.11465, -0.11465, 0.39877, -0.62058, -0.16449, -0.13458, -0.11465, -0.05982, 0.07477, 0.21434, 0.18443, 0.02991, -0.04985, 0.03489, 0.00997, -0.09471, -0.13957, -0.13458, -0.09471, -0.02492, -0.26418, -0.15452, -0.10966, -0.06978, 0.04985, 0.23428, 0.26917, 0.13957, 0.03489, 0.10468, 0.06978, -0.04486, -0.11465, -0.12461, -0.14455, 0.69037, -0.38880, -0.14455, -0.13458, -0.10468, -0.02991, 0.13957, 0.23926, 0.16948, 0.00498, 0.00997, 0.02492, -0.04486, -0.13458, -0.16948, -0.16948, 0.39378, -0.68538, -0.21434, -0.18443, -0.12960, -0.06978, 0.06978, 0.24425, 0.19440, 0.03489, -0.00997, 0.03489, 0.02492, -0.08474, -0.12461, -0.12461, 0.03988, -0.07477, -0.22929, -0.15951, -0.12461, -0.06978, 0.05483, 0.21434, 0.25421, 0.10468, 0.00997, 0.06480, 0.02991, -0.05483, -0.09969, -0.10966, -0.16948, 0.73024, -0.38381, -0.13458, -0.12461, -0.09471, -0.01495, 0.15452, 0.25920, 0.17446, 0.03988, 0.05483, 0.07975, 0.02991, -0.05483, -0.05982, -0.05982, 0.53086, -0.58569, -0.09969, -0.07975, -0.05982, 0.00000, 0.14954, 0.30905, 0.26917, 0.08474, 0.01495, 0.09969, 0.04486, -0.07975, -0.09471, -0.08972, 0.07477, -0.14455, -0.22431, -0.14455, -0.11465, -0.06978, 0.06978, 0.24425, 0.27914, 0.10468, 0.00498, 0.10468, 0.09471, -0.00997, -0.06480, -0.03489, -0.04486, 0.66046, -0.21434, -0.05982, -0.03988, 0.02492, 0.11963, 0.30905, 0.37883, 0.25421, 0.11465, 0.14455, 0.15452, 0.09471, 0.00498, -0.01994, -0.03988, 0.67541, -0.50095, -0.06978, -0.05982] \n",
      "\n"
     ]
    }
   ],
   "source": [
    "duration = cutoff_time - start_time\n",
    "pred_window = 5 # in minutes\n",
    "m = \", \".join(f\"{v:.5f}\" for v in measurements)\n",
    "m = \"[\" + m + \"]\"\n",
    "\n",
    "duration_str = humanize.precisedelta(cutoff_time - start_time)\n",
    "\n",
    "\n",
    "\n",
    "prompt = \"\"\"You are a medical expert specializing in cardiac arrest prediction. \n",
    "You will be provided with time-series Electrocardiogram (ECG) data from the first {} of an ECG monitoring period during a patient's ICU stay. Each entry consists of a measurement value at that timestamp. The timestamps start at time {} and end at time {}. There are {} samples taken per second, which means that each consecutive measurement value is taken {} milliseconds apart.\n",
    "\n",
    "Your task is to determine whether this patient is at high risk of experiencing cardiac arrest within the next {} minutes.\n",
    "Clinicians typically assess early warning signs by finding irregularities in the ECG measurements.\n",
    "Your turn! You will now be given data to analyze. To the best of your ability, predict whether or not this person would undergo cardiac arrest within the next {} minutes. In addition to the prediction, provide a short paragraph that explains why you chose the selected class. Keep your explanation between 100-200 words and focus on the features of the data you used to make your yes or no binary classification. Your response should be formatted as follows:\n",
    "Prediction: <class>\n",
    "Explanation: <explanation>\n",
    "\n",
    "Here is the data for you to analyze:\n",
    "{}\"\"\"\n",
    "\n",
    "\n",
    "prompt = prompt.format(duration_str, start_time.time(), cutoff_time.time(), new_fs, 60/new_fs, pred_window, pred_window, data_str)\n",
    "print(prompt)\n"
   ]
  },
  {
   "cell_type": "code",
   "execution_count": 358,
   "id": "bb0e836f-6371-4e89-8200-02ba836c1ddc",
   "metadata": {},
   "outputs": [
    {
     "data": {
      "text/plain": [
       "'Prediction: Yes\\n\\nExplanation: The provided ECG data appears highly irregular, with several noticeable patterns suggesting the patient might be at high risk of cardiac arrest within the next five minutes. Analysis reveals significant variability in the ECG signal, characterized by drastic fluctuations in measurements. These include abrupt negative spikes and considerable positive deflections, which could reflect some level of arrhythmia or other cardiac abnormalities. Such irregular patterns in an ECG signal are often indicative of electrical instability in the heart, potentially leading to dangerous situations such as ventricular fibrillation or tachycardia. Furthermore, the presence of low-frequency, high-amplitude oscillations may suggest the onset of significant cardiac events. The presence of these abnormalities, combined with the overall chaotic nature of the ECG waveform, suggests that the patient’s cardiac electrical function is compromised and possibly deteriorating. Therefore, the classification is a ‘Yes’, indicating a high risk of imminent cardiac arrest.'"
      ]
     },
     "execution_count": 358,
     "metadata": {},
     "output_type": "execute_result"
    }
   ],
   "source": [
    "response = query_openai(prompt)\n",
    "response"
   ]
  },
  {
   "cell_type": "code",
   "execution_count": null,
   "id": "fd5da76c-0a7f-47e9-9a53-baf240d20e69",
   "metadata": {},
   "outputs": [],
   "source": []
  },
  {
   "cell_type": "code",
   "execution_count": 385,
   "id": "54e57bbe-a70e-4f35-9026-696338ded56d",
   "metadata": {},
   "outputs": [
    {
     "data": {
      "text/plain": [
       "'Prediction: Yes\\n\\nExplanation: The ECG data shows significant variability with abrupt changes and irregularities, particularly negative dips and high amplitude spikes, which can indicate a high risk of cardiac arrest.'"
      ]
     },
     "execution_count": 385,
     "metadata": {},
     "output_type": "execute_result"
    }
   ],
   "source": [
    "response = query_openai(prompt)\n",
    "response"
   ]
  },
  {
   "cell_type": "code",
   "execution_count": 377,
   "id": "c100c1bd-663f-4cc2-a537-228bb31868b9",
   "metadata": {},
   "outputs": [
    {
     "data": {
      "text/plain": [
       "'Prediction: Yes\\nExplanation: The ECG data exhibits significant fluctuations and high-frequency irregularities, indicating potential instability in cardiac rhythm. These characteristics are potential risk markers for cardiac arrest.'"
      ]
     },
     "execution_count": 377,
     "metadata": {},
     "output_type": "execute_result"
    }
   ],
   "source": [
    "response = query_openai(prompt)\n",
    "response"
   ]
  },
  {
   "cell_type": "code",
   "execution_count": 371,
   "id": "82f5c54e-a28a-423f-bbee-9b3ce06a50ef",
   "metadata": {},
   "outputs": [
    {
     "data": {
      "text/plain": [
       "'Prediction: Yes\\n\\nExplanation: The provided ECG data shows a series of irregularities and notable features that suggest a higher risk of cardiac arrest:\\n\\n1. **Presence of Large Voltage Fluctuations**: The data includes extreme fluctuations in voltage levels, indicative of significant changes in heart muscle contraction and relaxation phases, which could lead to arrhythmias or other cardiac issues.\\n\\n2. **Sustained Deviations from Baseline**: There are sustained deviations from the baseline (zero), indicating potential issues with cardiac conduction or heart muscle performance. Periods where the ECG deviates significantly from zero could reflect pathophysiological changes in heart activity.\\n\\n3. **High Frequency of Fluctuations**: The rapid changes in amplitude suggest potential tachyarrhythmias, which are associated with high risks of cardiac compromise, including arrest.\\n\\n4. **Erratic Patterns**: The presence of erratic patterns during the ECG readings can denote ventricular fibrillation or other severe forms of arrhythmia that are precursors to cardiac arrest.\\n\\n5. **Overall Instability**: The instability observed in the ECG signals, with irregular and unpredictable shifts in the recorded waves, points toward serious disturbances in cardiac electrical activity.\\n\\nThese features together highlight a significant risk for cardiac arrest within a short timeframe, warranting the prediction and immediate clinical evaluation and intervention for the patient.'"
      ]
     },
     "execution_count": 371,
     "metadata": {},
     "output_type": "execute_result"
    }
   ],
   "source": [
    "response = query_openai(prompt)\n",
    "response"
   ]
  },
  {
   "cell_type": "code",
   "execution_count": 369,
   "id": "f51cfc09-8019-4372-b9a4-798dc7688ad2",
   "metadata": {},
   "outputs": [
    {
     "data": {
      "text/plain": [
       "\"I'm sorry, but I cannot accurately analyze the ECG data provided and make a medical prediction. For accurate diagnosis or predictions concerning health matters, please consult a healthcare professional.\""
      ]
     },
     "execution_count": 369,
     "metadata": {},
     "output_type": "execute_result"
    }
   ],
   "source": [
    "response = query_openai(prompt)\n",
    "response"
   ]
  },
  {
   "cell_type": "code",
   "execution_count": null,
   "id": "0e86319a-c0a2-40b7-b37b-9d4ff5116a4d",
   "metadata": {},
   "outputs": [],
   "source": []
  },
  {
   "cell_type": "code",
   "execution_count": null,
   "id": "75388de3-f3a4-4ba7-b5b7-d45e8b971133",
   "metadata": {},
   "outputs": [],
   "source": []
  },
  {
   "cell_type": "code",
   "execution_count": 92,
   "id": "bb727fb3-f2d4-49db-bb12-77f1d1319d94",
   "metadata": {},
   "outputs": [],
   "source": [
    "from datasets import load_dataset\n",
    "import openai\n",
    "from openai import OpenAI\n",
    "import time\n",
    "from tqdm import tqdm\n",
    "\n",
    "from diskcache import Cache\n",
    "# cache = Cache(\"/shared_data0/llm_cachedir\")\n"
   ]
  },
  {
   "cell_type": "code",
   "execution_count": null,
   "id": "369f2472-78ba-4ccc-bce6-226fc50b5cdd",
   "metadata": {},
   "outputs": [],
   "source": []
  }
 ],
 "metadata": {
  "kernelspec": {
   "display_name": "Python 3 (ipykernel)",
   "language": "python",
   "name": "python3"
  },
  "language_info": {
   "codemirror_mode": {
    "name": "ipython",
    "version": 3
   },
   "file_extension": ".py",
   "mimetype": "text/x-python",
   "name": "python",
   "nbconvert_exporter": "python",
   "pygments_lexer": "ipython3",
   "version": "3.10.16"
  }
 },
 "nbformat": 4,
 "nbformat_minor": 5
}
