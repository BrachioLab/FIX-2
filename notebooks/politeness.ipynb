{
 "cells": [
  {
   "cell_type": "code",
   "execution_count": 40,
   "metadata": {},
   "outputs": [],
   "source": [
    "import pandas as pd\n",
    "import numpy as np\n",
    "from datasets import load_dataset\n",
    "import openai\n",
    "from openai import OpenAI\n",
    "import time\n",
    "from tqdm import tqdm\n",
    "\n",
    "import importlib\n",
    "import sys; sys.path.append(\"../src\")\n",
    "import politeness\n",
    "importlib.reload(politeness)\n",
    "from politeness import PolitenessExample, get_llm_generated_answer, isolate_individual_features, distill_relevant_features, calculate_expert_alignment_score"
   ]
  },
  {
   "cell_type": "markdown",
   "metadata": {},
   "source": [
    "### Load Politeness Data"
   ]
  },
  {
   "cell_type": "code",
   "execution_count": 2,
   "metadata": {},
   "outputs": [],
   "source": [
    "politeness_data =  load_dataset(\"BrachioLab/multilingual_politeness\")\n",
    "politeness_data = politeness_data['train'].to_pandas()\n",
    "politeness_data = politeness_data[politeness_data['language'] == \"english\"].sample(3, random_state=11).reset_index(drop=True)"
   ]
  },
  {
   "cell_type": "code",
   "execution_count": 3,
   "metadata": {},
   "outputs": [
    {
     "data": {
      "text/plain": [
       "'This talk page is not the 2004 film version, this page is based on the story. But anyway, the film was great. I think some people are too critical about some things.'"
      ]
     },
     "execution_count": 3,
     "metadata": {},
     "output_type": "execute_result"
    }
   ],
   "source": [
    "politeness_data['Utterance'][0]"
   ]
  },
  {
   "cell_type": "markdown",
   "metadata": {},
   "source": [
    "### Stage 0: Get LLM Explanations"
   ]
  },
  {
   "cell_type": "code",
   "execution_count": 4,
   "metadata": {},
   "outputs": [
    {
     "name": "stderr",
     "output_type": "stream",
     "text": [
      "3it [00:06,  2.03s/it]\n"
     ]
    }
   ],
   "source": [
    "politeness_examples = []\n",
    "for idx,row in tqdm(politeness_data.iterrows()):\n",
    "    rating, explanation = get_llm_generated_answer(row['Utterance'])\n",
    "    if rating is None:\n",
    "        continue\n",
    "    politeness_examples.append(PolitenessExample(\n",
    "        utterance=row['Utterance'],\n",
    "        ground_truth=float(row['politeness']) + 3,\n",
    "        llm_score=rating,\n",
    "        llm_explanation=explanation\n",
    "    ))"
   ]
  },
  {
   "cell_type": "code",
   "execution_count": 5,
   "metadata": {},
   "outputs": [
    {
     "data": {
      "text/plain": [
       "'3'"
      ]
     },
     "execution_count": 5,
     "metadata": {},
     "output_type": "execute_result"
    }
   ],
   "source": [
    "politeness_examples[0].llm_score"
   ]
  },
  {
   "cell_type": "code",
   "execution_count": 6,
   "metadata": {},
   "outputs": [
    {
     "data": {
      "text/plain": [
       "\"The utterance is neutral, as it simply conveys information and personal opinion without any language indicative of politeness or rudeness. The speaker's choice of words does not offend, but also lacks markers of politeness such as gratitude or apology.\""
      ]
     },
     "execution_count": 6,
     "metadata": {},
     "output_type": "execute_result"
    }
   ],
   "source": [
    "politeness_examples[0].llm_explanation"
   ]
  },
  {
   "cell_type": "markdown",
   "metadata": {},
   "source": [
    "### Stage 1: Atomic claim extraction"
   ]
  },
  {
   "cell_type": "code",
   "execution_count": 7,
   "metadata": {},
   "outputs": [],
   "source": [
    "for example in politeness_examples:\n",
    "    claims = isolate_individual_features(example.llm_explanation)\n",
    "    if claims is None:\n",
    "        continue\n",
    "    example.claims = [claim.strip() for claim in claims]"
   ]
  },
  {
   "cell_type": "code",
   "execution_count": 8,
   "metadata": {},
   "outputs": [
    {
     "data": {
      "text/plain": [
       "['The utterance is neutral.',\n",
       " 'The utterance simply conveys information and personal opinion.',\n",
       " 'The utterance contains no language indicative of politeness.',\n",
       " 'The utterance contains no language indicative of rudeness.',\n",
       " \"The speaker's choice of words does not offend.\",\n",
       " 'The utterance lacks markers of politeness such as gratitude or apology.']"
      ]
     },
     "execution_count": 8,
     "metadata": {},
     "output_type": "execute_result"
    }
   ],
   "source": [
    "politeness_examples[0].claims"
   ]
  },
  {
   "cell_type": "markdown",
   "metadata": {},
   "source": [
    "### Stage 2: Distill relevant claims"
   ]
  },
  {
   "cell_type": "code",
   "execution_count": 9,
   "metadata": {},
   "outputs": [
    {
     "name": "stderr",
     "output_type": "stream",
     "text": [
      "100%|██████████| 6/6 [00:13<00:00,  2.31s/it]\n",
      "100%|██████████| 6/6 [00:12<00:00,  2.04s/it]\n",
      "100%|██████████| 7/7 [00:16<00:00,  2.32s/it]\n"
     ]
    }
   ],
   "source": [
    "for example in politeness_examples:\n",
    "    relevant_claims = distill_relevant_features(example)\n",
    "    example.relevant_claims = relevant_claims"
   ]
  },
  {
   "cell_type": "code",
   "execution_count": 10,
   "metadata": {},
   "outputs": [
    {
     "data": {
      "text/plain": [
       "['The utterance simply conveys information and personal opinion.',\n",
       " 'The utterance contains no language indicative of rudeness.',\n",
       " 'The utterance lacks markers of politeness such as gratitude or apology.']"
      ]
     },
     "execution_count": 10,
     "metadata": {},
     "output_type": "execute_result"
    }
   ],
   "source": [
    "politeness_examples[0].relevant_claims"
   ]
  },
  {
   "cell_type": "markdown",
   "metadata": {},
   "source": [
    "### Stage 3: Calculate alignment scores"
   ]
  },
  {
   "cell_type": "code",
   "execution_count": null,
   "metadata": {},
   "outputs": [
    {
     "name": "stderr",
     "output_type": "stream",
     "text": [
      "100%|██████████| 3/3 [00:00<00:00, 1106.77it/s]\n",
      "100%|██████████| 5/5 [00:00<00:00, 1428.97it/s]\n",
      "100%|██████████| 5/5 [00:00<00:00, 1522.32it/s]\n"
     ]
    }
   ],
   "source": [
    "for example in politeness_examples:\n",
    "    alignment_scores = []\n",
    "    alignment_categories = []\n",
    "    for claim in tqdm(example.relevant_claims):\n",
    "        category, alignment_score, reasoning = calculate_expert_alignment_score(claim)\n",
    "        if category is None:\n",
    "            continue\n",
    "        alignment_scores.append(alignment_score)\n",
    "        alignment_categories.append(category)\n",
    "    example.alignment_scores = alignment_scores\n",
    "    example.alignment_categories = alignment_categories\n",
    "    example.final_alignment = np.mean(alignment_scores)\n",
    "    "
   ]
  },
  {
   "cell_type": "code",
   "execution_count": 42,
   "metadata": {},
   "outputs": [
    {
     "data": {
      "text/plain": [
       "[0.8, 0.8, 0.8]"
      ]
     },
     "execution_count": 42,
     "metadata": {},
     "output_type": "execute_result"
    }
   ],
   "source": [
    "politeness_examples[0].alignment_scores"
   ]
  },
  {
   "cell_type": "code",
   "execution_count": 43,
   "metadata": {},
   "outputs": [
    {
     "data": {
      "text/plain": [
       "['First-Person Subjectivity Markers',\n",
       " 'Avoidance of Profanity or Negative Emotion',\n",
       " 'Gratitude Expressions']"
      ]
     },
     "execution_count": 43,
     "metadata": {},
     "output_type": "execute_result"
    }
   ],
   "source": [
    "politeness_examples[0].alignment_categories"
   ]
  },
  {
   "cell_type": "code",
   "execution_count": 14,
   "metadata": {},
   "outputs": [
    {
     "data": {
      "text/plain": [
       "0.6999999999999998"
      ]
     },
     "execution_count": 14,
     "metadata": {},
     "output_type": "execute_result"
    }
   ],
   "source": [
    "politeness_examples[0].final_alignment"
   ]
  }
 ],
 "metadata": {
  "kernelspec": {
   "display_name": "base",
   "language": "python",
   "name": "python3"
  },
  "language_info": {
   "codemirror_mode": {
    "name": "ipython",
    "version": 3
   },
   "file_extension": ".py",
   "mimetype": "text/x-python",
   "name": "python",
   "nbconvert_exporter": "python",
   "pygments_lexer": "ipython3",
   "version": "3.11.4"
  }
 },
 "nbformat": 4,
 "nbformat_minor": 2
}
