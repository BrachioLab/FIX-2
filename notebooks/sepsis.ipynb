{
 "cells": [
  {
   "cell_type": "code",
   "execution_count": 1,
   "id": "1e7b0b1f-b3c2-4f77-91d7-293a31468e55",
   "metadata": {},
   "outputs": [],
   "source": [
    "import pandas as pd\n",
    "import numpy as np\n",
    "from datasets import load_dataset\n",
    "import openai\n",
    "from openai import OpenAI\n",
    "import time\n",
    "from tqdm import tqdm\n",
    "\n",
    "import importlib\n",
    "import sys; sys.path.append(\"../src\")\n",
    "import sepsis\n",
    "importlib.reload(sepsis)\n",
    "from sepsis import SepsisExample, get_llm_generated_answer, isolate_individual_features, distill_relevant_features, calculate_expert_alignment_score, parse_measurement_string, format_time_series_for_prompt, query_openai"
   ]
  },
  {
   "cell_type": "markdown",
   "id": "ad79cdb9-a2f7-44a1-a22f-9ced819bd830",
   "metadata": {},
   "source": [
    "### Load Sepsis Data"
   ]
  },
  {
   "cell_type": "code",
   "execution_count": 2,
   "id": "c283057c-284a-4d61-8e70-d0fa763a3464",
   "metadata": {},
   "outputs": [],
   "source": [
    "sepsis_data = load_dataset(\"BrachioLab/mcmed-sepsis\")\n",
    "sepsis_data = sepsis_data['test'].to_pandas()\n",
    "sepsis_data = sepsis_data.sample(3, random_state=11).reset_index(drop=True)"
   ]
  },
  {
   "cell_type": "markdown",
   "id": "eb7bb40e-6f19-4790-a9cd-36acc0402415",
   "metadata": {},
   "source": [
    "### Stage 0: Get LLM Explanations"
   ]
  },
  {
   "cell_type": "code",
   "execution_count": 3,
   "id": "69b2f117-faac-40e3-9676-f33da70f7a12",
   "metadata": {},
   "outputs": [
    {
     "name": "stderr",
     "output_type": "stream",
     "text": [
      "Processing Rows: 100% 3/3 [00:00<00:00, 168.55it/s]\n"
     ]
    }
   ],
   "source": [
    "sepsis_examples = []\n",
    "for idx, row in tqdm(sepsis_data.iterrows(), total=sepsis_data.shape[0], desc=\"Processing Rows\"):\n",
    "    time_series_string = row['data']\n",
    "    time_series_dict = parse_measurement_string(time_series_string)\n",
    "    llm_label, explanation = get_llm_generated_answer(time_series_dict)\n",
    "    if llm_label is None:\n",
    "        continue\n",
    "    sepsis_examples.append(SepsisExample(\n",
    "        time_series_text=time_series_string,\n",
    "        time_series_data=time_series_dict,\n",
    "        ground_truth=row['label'],\n",
    "        llm_label=llm_label,\n",
    "        llm_explanation=explanation\n",
    "    ))"
   ]
  },
  {
   "cell_type": "code",
   "execution_count": 4,
   "id": "36648221-90f1-481f-8c2e-1f7a06c0f5df",
   "metadata": {
    "scrolled": true
   },
   "outputs": [
    {
     "data": {
      "text/plain": [
       "'Elevated HR, signs of systemic inflammation, and oxygen saturation decline suggest high sepsis risk.'"
      ]
     },
     "execution_count": 4,
     "metadata": {},
     "output_type": "execute_result"
    }
   ],
   "source": [
    "sepsis_examples[0].llm_explanation"
   ]
  },
  {
   "cell_type": "markdown",
   "id": "793e05f5-5a5f-41a5-acc9-00958436dae8",
   "metadata": {},
   "source": [
    "### Stage 1: Atomic claim extraction"
   ]
  },
  {
   "cell_type": "code",
   "execution_count": 5,
   "id": "cdf355ae-93f3-45db-9570-e3815445bb7f",
   "metadata": {},
   "outputs": [],
   "source": [
    "for example in sepsis_examples:\n",
    "    claims = isolate_individual_features(example.llm_explanation)\n",
    "    if claims is None:\n",
    "        continue\n",
    "    example.claims = [claim.strip() for claim in claims]"
   ]
  },
  {
   "cell_type": "code",
   "execution_count": 6,
   "id": "7b7e63e3-ed71-48ba-abff-72b98346d620",
   "metadata": {},
   "outputs": [
    {
     "data": {
      "text/plain": [
       "['Elevated heart rate suggests high sepsis risk.',\n",
       " 'Signs of systemic inflammation suggest high sepsis risk.',\n",
       " 'Oxygen saturation decline suggests high sepsis risk.']"
      ]
     },
     "execution_count": 6,
     "metadata": {},
     "output_type": "execute_result"
    }
   ],
   "source": [
    "sepsis_examples[0].claims"
   ]
  },
  {
   "cell_type": "markdown",
   "id": "ea1beacc-9675-41eb-9b2f-d1cb748eba84",
   "metadata": {},
   "source": [
    "### Stage 2: Distill relevant claims"
   ]
  },
  {
   "cell_type": "code",
   "execution_count": 7,
   "id": "add96559-b342-46ee-b107-56ffdd3b0051",
   "metadata": {
    "scrolled": true
   },
   "outputs": [
    {
     "name": "stderr",
     "output_type": "stream",
     "text": [
      "100% 3/3 [00:11<00:00,  3.82s/it]\n",
      "100% 4/4 [00:11<00:00,  2.81s/it]\n",
      "100% 5/5 [00:14<00:00,  2.90s/it]\n"
     ]
    }
   ],
   "source": [
    "for example in sepsis_examples:\n",
    "    relevant_claims = distill_relevant_features(example)\n",
    "    example.relevant_claims = relevant_claims"
   ]
  },
  {
   "cell_type": "code",
   "execution_count": 8,
   "id": "629eb81e-27ce-44e4-bd2d-17089f508ee8",
   "metadata": {},
   "outputs": [
    {
     "data": {
      "text/plain": [
       "['Elevated heart rate suggests high sepsis risk.',\n",
       " 'Signs of systemic inflammation suggest high sepsis risk.',\n",
       " 'Oxygen saturation decline suggests high sepsis risk.']"
      ]
     },
     "execution_count": 8,
     "metadata": {},
     "output_type": "execute_result"
    }
   ],
   "source": [
    "sepsis_examples[0].relevant_claims"
   ]
  },
  {
   "cell_type": "markdown",
   "id": "90b1c759-e3b6-47ef-8cb6-422272898245",
   "metadata": {},
   "source": [
    "### Stage 3: Calculate alignment scores"
   ]
  },
  {
   "cell_type": "code",
   "execution_count": 9,
   "id": "ff066e66-912f-45f2-b094-48df787dda2b",
   "metadata": {},
   "outputs": [
    {
     "name": "stderr",
     "output_type": "stream",
     "text": [
      "100% 3/3 [00:00<00:00,  3.19it/s]\n",
      "100% 1/1 [00:04<00:00,  4.57s/it]\n",
      "100% 2/2 [00:00<00:00, 19.85it/s]\n"
     ]
    }
   ],
   "source": [
    "for example in sepsis_examples:\n",
    "    alignment_scores = []\n",
    "    alignment_categories = []\n",
    "    reasonings = []\n",
    "    for claim in tqdm(example.relevant_claims):\n",
    "        category, alignment_score, reasoning = calculate_expert_alignment_score(claim)\n",
    "        if category is None:\n",
    "            continue\n",
    "        alignment_scores.append(alignment_score)\n",
    "        alignment_categories.append(category)\n",
    "    example.alignment_scores = alignment_scores\n",
    "    example.alignment_categories = alignment_categories\n",
    "    example.final_alignment = np.mean(alignment_scores)"
   ]
  },
  {
   "cell_type": "code",
   "execution_count": 10,
   "id": "9da6bb4b-74f5-4e5d-92f8-a8bc52c06ab0",
   "metadata": {},
   "outputs": [
    {
     "data": {
      "text/plain": [
       "[0.8, 0.8, 0.7]"
      ]
     },
     "execution_count": 10,
     "metadata": {},
     "output_type": "execute_result"
    }
   ],
   "source": [
    "sepsis_examples[0].alignment_scores"
   ]
  },
  {
   "cell_type": "code",
   "execution_count": 11,
   "id": "23a4622d-aaea-40b3-8ab7-0f61b4e34e8f",
   "metadata": {},
   "outputs": [
    {
     "data": {
      "text/plain": [
       "['Presence of\\u202f≥\\u202f2 SIRS criteria—temperature\\u202f>\\u202f38\\u202f°C or\\u202f<\\u202f36\\u202f°C, heart\\u202frate\\u202f>\\u202f90\\u202fbpm, respiratory\\u202frate\\u202f>\\u202f20\\u202f/min or PaCO₂\\u202f<\\u202f32\\u202fmm\\u202fHg, or WBC\\u202f>\\u202f12\\u202f000/µL or\\u202f<\\u202f4\\u202f000/µL—identifies systemic inflammation consistent with early sepsis.',\n",
       " 'Presence of\\u202f≥\\u202f2 SIRS criteria—temperature\\u202f>\\u202f38\\u202f°C or\\u202f<\\u202f36\\u202f°C, heart\\u202frate\\u202f>\\u202f90\\u202fbpm, respiratory\\u202frate\\u202f>\\u202f20\\u202f/min or PaCO₂\\u202f<\\u202f32\\u202fmm\\u202fHg, or WBC\\u202f>\\u202f12\\u202f000/µL or\\u202f<\\u202f4\\u202f000/µL—identifies systemic inflammation consistent with early sepsis.',\n",
       " 'An increase of\\u202f≥\\u202f2\\u202fpoints in any SOFA component—e.g., PaO₂/FiO₂\\u202f<\\u202f300, platelets\\u202f<\\u202f100\\u202f×\\u202f10⁹/L, bilirubin\\u202f>\\u202f2\\u202fmg/dL, creatinine\\u202f>\\u202f2\\u202fmg/dL, or GCS\\u202f<\\u202f12—confirms new organ dysfunction and high sepsis risk.']"
      ]
     },
     "execution_count": 11,
     "metadata": {},
     "output_type": "execute_result"
    }
   ],
   "source": [
    "sepsis_examples[0].alignment_categories"
   ]
  },
  {
   "cell_type": "code",
   "execution_count": null,
   "id": "85d34965-ebdb-4bf9-993c-4716db26b1cd",
   "metadata": {},
   "outputs": [],
   "source": []
  }
 ],
 "metadata": {
  "kernelspec": {
   "display_name": "Python 3 (ipykernel)",
   "language": "python",
   "name": "python3"
  },
  "language_info": {
   "codemirror_mode": {
    "name": "ipython",
    "version": 3
   },
   "file_extension": ".py",
   "mimetype": "text/x-python",
   "name": "python",
   "nbconvert_exporter": "python",
   "pygments_lexer": "ipython3",
   "version": "3.10.13"
  }
 },
 "nbformat": 4,
 "nbformat_minor": 5
}
