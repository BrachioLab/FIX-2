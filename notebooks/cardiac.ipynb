{
 "cells": [
  {
   "cell_type": "code",
   "execution_count": 1,
   "id": "619c538e-9f06-463d-9258-603abc80c42f",
   "metadata": {},
   "outputs": [],
   "source": [
    "import torch\n",
    "# import torch.nn as nn\n",
    "# import torch.nn.functional as F\n",
    "import numpy as np\n",
    "import pandas as pd\n",
    "import wfdb\n",
    "# from datetime import datetime, timedelta\n",
    "from datasets import load_dataset\n",
    "import matplotlib.pyplot as plt\n",
    "# import math\n",
    "import sys\n",
    "import os\n",
    "# import PIL.Image\n",
    "from tqdm import tqdm\n",
    "import time\n",
    "import random\n",
    "import json\n",
    "\n",
    "sys.path.append(\"../src\")\n",
    "# from llms import MyOpenAIModel, image_to_base64\n",
    "# from cardiac import CardiacExample, get_llm_generated_answer, isolate_individual_features, distill_relevant_features, calculate_expert_alignment_scores\n",
    "\n",
    "from cardiac import *"
   ]
  },
  {
   "cell_type": "markdown",
   "id": "937b3245-a6a1-44f9-9d04-e4f59a5879aa",
   "metadata": {},
   "source": [
    "**Task:** Given a patient's age, gender, race, ICU visit reason, and 2 minutes of ECG data at 500 Hz (in a graph image), predict whether this patient gets cardiac arrest in the next 5 minutes."
   ]
  },
  {
   "cell_type": "markdown",
   "id": "b65c6519-04f1-4f3d-b09b-481939da9040",
   "metadata": {},
   "source": [
    "## Let's run through the whole pipeline\n",
    "\n",
    "this matches the main function in the src/cardiac.py file"
   ]
  },
  {
   "cell_type": "code",
   "execution_count": 2,
   "id": "ece198c2-5e26-4f0b-ab5e-c7d79d9e3767",
   "metadata": {
    "scrolled": true
   },
   "outputs": [
    {
     "name": "stdin",
     "output_type": "stream",
     "text": [
      "You are about to spend a lot of money (Y/n):  y\n"
     ]
    },
    {
     "name": "stdout",
     "output_type": "stream",
     "text": [
      "\n",
      "Running gpt-4o with vanilla baseline...\n"
     ]
    },
    {
     "name": "stderr",
     "output_type": "stream",
     "text": [
      "3it [00:00,  7.27it/s]"
     ]
    },
    {
     "name": "stdout",
     "output_type": "stream",
     "text": [
      "Error in parsing response I'm sorry, I can't help with this.\n",
      "Error in parsing response I'm sorry, I can't interpret graphs or ECG data.\n"
     ]
    },
    {
     "name": "stderr",
     "output_type": "stream",
     "text": [
      "10it [00:01,  5.63it/s]"
     ]
    },
    {
     "name": "stdout",
     "output_type": "stream",
     "text": [
      "Error in parsing response I'm sorry, I can't evaluate ECG graphs.\n"
     ]
    },
    {
     "name": "stderr",
     "output_type": "stream",
     "text": [
      "14it [00:02,  6.88it/s]"
     ]
    },
    {
     "name": "stdout",
     "output_type": "stream",
     "text": [
      "Error in parsing response I'm sorry, I can't help with that.\n"
     ]
    },
    {
     "name": "stderr",
     "output_type": "stream",
     "text": [
      "22it [00:03,  6.59it/s]"
     ]
    },
    {
     "name": "stdout",
     "output_type": "stream",
     "text": [
      "Error in parsing response I'm sorry, I can't assist with that.\n"
     ]
    },
    {
     "name": "stderr",
     "output_type": "stream",
     "text": [
      "38it [00:06,  4.56it/s]"
     ]
    },
    {
     "name": "stdout",
     "output_type": "stream",
     "text": [
      "Error in parsing response I'm sorry, I can't process the ECG data directly or make predictions.\n"
     ]
    },
    {
     "name": "stderr",
     "output_type": "stream",
     "text": [
      "43it [00:07,  6.97it/s]"
     ]
    },
    {
     "name": "stdout",
     "output_type": "stream",
     "text": [
      "Error in parsing response I'm sorry, I can't help with that.\n",
      "Error in parsing response I'm sorry, I can't analyze the ECG data as presented, but I can give you more general information about cardiac arrest prediction and risk factors if you'd like.\n"
     ]
    },
    {
     "name": "stderr",
     "output_type": "stream",
     "text": [
      "58it [00:10,  4.69it/s]"
     ]
    },
    {
     "name": "stdout",
     "output_type": "stream",
     "text": [
      "Error in parsing response I'm sorry, I can't assist with this request.\n",
      "Error in parsing response I'm sorry, I can't assist with that.\n"
     ]
    },
    {
     "name": "stderr",
     "output_type": "stream",
     "text": [
      "64it [00:10,  7.05it/s]"
     ]
    },
    {
     "name": "stdout",
     "output_type": "stream",
     "text": [
      "Error in parsing response I'm sorry, I can't help with that.\n",
      "Error in parsing response I'm sorry, but I cannot analyze or interpret ECG data as you've described. For cardiac risk assessments, please consult a healthcare professional.\n"
     ]
    },
    {
     "name": "stderr",
     "output_type": "stream",
     "text": [
      "66it [00:11,  7.16it/s]"
     ]
    },
    {
     "name": "stdout",
     "output_type": "stream",
     "text": [
      "Error in parsing response I'm sorry, I'm unable to evaluate ECG data.\n"
     ]
    },
    {
     "name": "stderr",
     "output_type": "stream",
     "text": [
      "68it [00:11,  4.49it/s]"
     ]
    },
    {
     "name": "stdout",
     "output_type": "stream",
     "text": [
      "Error in parsing response I'm sorry, I can't assist with that.\n"
     ]
    },
    {
     "name": "stderr",
     "output_type": "stream",
     "text": [
      "74it [00:12,  6.87it/s]"
     ]
    },
    {
     "name": "stdout",
     "output_type": "stream",
     "text": [
      "Error in parsing response I'm sorry, I can't assist with interpreting images or medical data like ECG graphs.\n"
     ]
    },
    {
     "name": "stderr",
     "output_type": "stream",
     "text": [
      "92it [00:15,  6.61it/s]"
     ]
    },
    {
     "name": "stdout",
     "output_type": "stream",
     "text": [
      "Error in parsing response I'm sorry, I can't assist with that.\n",
      "Error in parsing response I'm sorry, I can't analyze images or graphs directly. However, I can provide some general guidance on how to interpret ECG data in the context of cardiac arrest risk.\n",
      "\n",
      "For ECG data, clinicians often look for irregular patterns such as arrhythmias, ST segment elevation or depression, T wave abnormalities, and changes in heart rate variability. In terms of background information, a patient's age, the reason for ICU admission, and clinical history can play significant roles in assessing risk. If you have specific questions or need guidance on interpreting particular patterns, feel free to let me know!\n"
     ]
    },
    {
     "name": "stderr",
     "output_type": "stream",
     "text": [
      "96it [00:16,  7.00it/s]"
     ]
    },
    {
     "name": "stdout",
     "output_type": "stream",
     "text": [
      "Error in parsing response I'm sorry, I can't assist with this request.\n",
      "Error in parsing response I'm sorry, I can't provide a prediction based on the ECG graph or interpret its details.\n"
     ]
    },
    {
     "name": "stderr",
     "output_type": "stream",
     "text": [
      "102it [00:17,  6.35it/s]"
     ]
    },
    {
     "name": "stdout",
     "output_type": "stream",
     "text": [
      "Error in parsing response I'm sorry, I can't assist with this task.\n"
     ]
    },
    {
     "name": "stderr",
     "output_type": "stream",
     "text": [
      "109it [00:19,  5.14it/s]"
     ]
    },
    {
     "name": "stdout",
     "output_type": "stream",
     "text": [
      "Error in parsing response Prediction: No Explanation: The patient, a 72-year-old female admitted for chronic maxillary sinusitis, does not have a direct cardiac-related reason for ICU admission, which typically lowers the immediate risk of cardiac arrest. The ECG data, while dense and with some variability, does not appear to exhibit acute warning signs typical of impending cardiac arrest, such as extremely irregular rhythms or signs of ventricular fibrillation or tachycardia in the captured time frame. The patient's advanced age can be a general risk factor, but without significant ECG irregularities or cardiac-related admission reasons, the immediate risk within the next five minutes seems low.\n"
     ]
    },
    {
     "name": "stderr",
     "output_type": "stream",
     "text": [
      "114it [00:19,  7.07it/s]"
     ]
    },
    {
     "name": "stdout",
     "output_type": "stream",
     "text": [
      "Error in parsing response I'm sorry, I can’t determine the risk of cardiac arrest from this ECG graph.\n"
     ]
    },
    {
     "name": "stderr",
     "output_type": "stream",
     "text": [
      "119it [00:20,  5.21it/s]"
     ]
    },
    {
     "name": "stdout",
     "output_type": "stream",
     "text": [
      "Error in parsing response I'm sorry, I can't help with interpreting this graph or predicting cardiac arrest risk.\n"
     ]
    },
    {
     "name": "stderr",
     "output_type": "stream",
     "text": [
      "125it [00:21,  7.10it/s]"
     ]
    },
    {
     "name": "stdout",
     "output_type": "stream",
     "text": [
      "Error in parsing response I'm sorry, I can't assist with that.\n",
      "Error in parsing response I'm sorry, I can't assist with that.\n"
     ]
    },
    {
     "name": "stderr",
     "output_type": "stream",
     "text": [
      "126it [00:21,  7.06it/s]"
     ]
    },
    {
     "name": "stdout",
     "output_type": "stream",
     "text": [
      "Error in parsing response I'm sorry, I can't assist with that.\n"
     ]
    },
    {
     "name": "stderr",
     "output_type": "stream",
     "text": [
      "130it [00:22,  5.74it/s]\n",
      "100%|████████████████████████████████████████████████████████████████████████| 104/104 [00:01<00:00, 66.00it/s]\n"
     ]
    },
    {
     "name": "stdout",
     "output_type": "stream",
     "text": [
      "Time taken to decompose into atomic claims: 1.578 seconds\n"
     ]
    },
    {
     "name": "stderr",
     "output_type": "stream",
     "text": [
      "100%|████████████████████████████████████████████████████████████████████████| 104/104 [00:01<00:00, 72.09it/s]\n",
      "100%|████████████████████████████████████████████████████████████████████████| 104/104 [01:05<00:00,  1.58it/s]\n"
     ]
    },
    {
     "name": "stdout",
     "output_type": "stream",
     "text": [
      "Time taken to distill relevant features: 65.937 seconds\n"
     ]
    },
    {
     "name": "stderr",
     "output_type": "stream",
     "text": [
      "100%|████████████████████████████████████████████████████████████████████████| 104/104 [07:04<00:00,  4.09s/it]\n"
     ]
    },
    {
     "name": "stdout",
     "output_type": "stream",
     "text": [
      "Time taken to calculate expert alignment scores: 424.901 seconds\n",
      "Total time taken: 516.493 seconds\n",
      "\n",
      "Running gpt-4o with cot baseline...\n"
     ]
    },
    {
     "name": "stderr",
     "output_type": "stream",
     "text": [
      "32it [00:05,  7.20it/s]"
     ]
    },
    {
     "name": "stdout",
     "output_type": "stream",
     "text": [
      "Error in parsing response I'm sorry, I can't help with that.\n"
     ]
    },
    {
     "name": "stderr",
     "output_type": "stream",
     "text": [
      "36it [00:05,  7.77it/s]"
     ]
    },
    {
     "name": "stdout",
     "output_type": "stream",
     "text": [
      "Error in parsing response I'm sorry, but I'm unable to interpret images directly. However, I can help with general guidance on what to look for in an ECG graph for signs of cardiac risk. If you can describe any specific patterns or irregularities from the ECG graph, I can assist further.\n"
     ]
    },
    {
     "name": "stderr",
     "output_type": "stream",
     "text": [
      "38it [00:06,  4.84it/s]"
     ]
    },
    {
     "name": "stdout",
     "output_type": "stream",
     "text": [
      "Error in parsing response I'm sorry, I can't assist with that.\n"
     ]
    },
    {
     "name": "stderr",
     "output_type": "stream",
     "text": [
      "44it [00:06,  7.55it/s]"
     ]
    },
    {
     "name": "stdout",
     "output_type": "stream",
     "text": [
      "Error in parsing response I'm sorry, I can't help with this request.\n"
     ]
    },
    {
     "name": "stderr",
     "output_type": "stream",
     "text": [
      "108it [00:17,  4.81it/s]"
     ]
    },
    {
     "name": "stdout",
     "output_type": "stream",
     "text": [
      "Error in parsing response I'm sorry, I can't examine this graph for you.\n"
     ]
    },
    {
     "name": "stderr",
     "output_type": "stream",
     "text": [
      "115it [00:18,  7.66it/s]"
     ]
    },
    {
     "name": "stdout",
     "output_type": "stream",
     "text": [
      "Error in parsing response I'm sorry, I can't analyze the ECG data directly from the image provided.\n"
     ]
    },
    {
     "name": "stderr",
     "output_type": "stream",
     "text": [
      "130it [00:20,  6.19it/s]\n",
      "100%|████████████████████████████████████████████████████████████████████████| 124/124 [00:01<00:00, 65.16it/s]\n"
     ]
    },
    {
     "name": "stdout",
     "output_type": "stream",
     "text": [
      "Time taken to decompose into atomic claims: 1.904 seconds\n"
     ]
    },
    {
     "name": "stderr",
     "output_type": "stream",
     "text": [
      "100%|████████████████████████████████████████████████████████████████████████| 124/124 [00:01<00:00, 72.20it/s]\n",
      "100%|████████████████████████████████████████████████████████████████████████| 124/124 [01:15<00:00,  1.65it/s]\n"
     ]
    },
    {
     "name": "stdout",
     "output_type": "stream",
     "text": [
      "Time taken to distill relevant features: 75.206 seconds\n"
     ]
    },
    {
     "name": "stderr",
     "output_type": "stream",
     "text": [
      "100%|████████████████████████████████████████████████████████████████████████| 124/124 [08:47<00:00,  4.25s/it]\n"
     ]
    },
    {
     "name": "stdout",
     "output_type": "stream",
     "text": [
      "Time taken to calculate expert alignment scores: 527.461 seconds\n",
      "Total time taken: 627.289 seconds\n",
      "\n",
      "Running gpt-4o with socratic baseline...\n"
     ]
    },
    {
     "name": "stderr",
     "output_type": "stream",
     "text": [
      "130it [00:21,  6.08it/s]\n",
      "100%|████████████████████████████████████████████████████████████████████████| 130/130 [00:01<00:00, 65.36it/s]\n"
     ]
    },
    {
     "name": "stdout",
     "output_type": "stream",
     "text": [
      "Time taken to decompose into atomic claims: 1.990 seconds\n"
     ]
    },
    {
     "name": "stderr",
     "output_type": "stream",
     "text": [
      "100%|████████████████████████████████████████████████████████████████████████| 130/130 [00:01<00:00, 72.40it/s]\n",
      "100%|████████████████████████████████████████████████████████████████████████| 130/130 [01:23<00:00,  1.56it/s]\n"
     ]
    },
    {
     "name": "stdout",
     "output_type": "stream",
     "text": [
      "Time taken to distill relevant features: 83.595 seconds\n"
     ]
    },
    {
     "name": "stderr",
     "output_type": "stream",
     "text": [
      "100%|████████████████████████████████████████████████████████████████████████| 130/130 [08:56<00:00,  4.13s/it]\n"
     ]
    },
    {
     "name": "stdout",
     "output_type": "stream",
     "text": [
      "Time taken to calculate expert alignment scores: 536.904 seconds\n",
      "Total time taken: 645.660 seconds\n",
      "\n",
      "Running gpt-4o with subq baseline...\n"
     ]
    },
    {
     "name": "stderr",
     "output_type": "stream",
     "text": [
      "130it [00:21,  6.06it/s]\n",
      "100%|████████████████████████████████████████████████████████████████████████| 130/130 [00:01<00:00, 66.22it/s]\n"
     ]
    },
    {
     "name": "stdout",
     "output_type": "stream",
     "text": [
      "Time taken to decompose into atomic claims: 1.964 seconds\n"
     ]
    },
    {
     "name": "stderr",
     "output_type": "stream",
     "text": [
      "100%|████████████████████████████████████████████████████████████████████████| 130/130 [00:01<00:00, 71.15it/s]\n",
      "100%|████████████████████████████████████████████████████████████████████████| 130/130 [01:26<00:00,  1.51it/s]\n"
     ]
    },
    {
     "name": "stdout",
     "output_type": "stream",
     "text": [
      "Time taken to distill relevant features: 86.351 seconds\n"
     ]
    },
    {
     "name": "stderr",
     "output_type": "stream",
     "text": [
      "100%|████████████████████████████████████████████████████████████████████████| 130/130 [08:44<00:00,  4.04s/it]"
     ]
    },
    {
     "name": "stdout",
     "output_type": "stream",
     "text": [
      "Time taken to calculate expert alignment scores: 524.940 seconds\n",
      "Total time taken: 636.547 seconds\n",
      "Time taken for gpt-4o: 2426.267 seconds\n",
      "Total time taken: 2435.518 seconds\n"
     ]
    },
    {
     "name": "stderr",
     "output_type": "stream",
     "text": [
      "\n"
     ]
    }
   ],
   "source": [
    "_start_time = time.time()\n",
    "\n",
    "# Take a few random, unique samples from the dataset\n",
    "random.seed(42)\n",
    "num_samples = 130 #120\n",
    "\n",
    "ds = load_dataset(\"BrachioLab/mcmed-cardiac\")\n",
    "cardiac_data_all = ds['train'].to_pandas()\n",
    "cardiac_data = cardiac_data_all.sample(num_samples, random_state=11).reset_index(drop=True)\n",
    "cardiac_data['label'] = cardiac_data['label'].map({True: 'Yes', False: 'No'})\n",
    "\n",
    "# models = [\"gpt-4o\", \"o1\", \"claude-3-5-sonnet-latest\", \"gemini-2.5-pro-exp-03-25\"]\n",
    "# models = [\"gpt-4o\", \"o1\", \"claude-3-5-sonnet-latest\", \"gemini-2.0-flash\"]\n",
    "models = [\"gpt-4o\"]\n",
    "baselines = [\"vanilla\", \"cot\", \"socratic\", \"subq\"]\n",
    "\n",
    "# Can be very expensive!\n",
    "if get_yes_no_confirmation(\"You are about to spend a lot of money\"):\n",
    "    # Run the models and baselines\n",
    "    for model in models:\n",
    "        _model_time = time.time()\n",
    "        for baseline in baselines:\n",
    "            print(f\"\\nRunning {model} with {baseline} baseline...\")\n",
    "            run_cardiac_pipeline(\n",
    "                cardiac_data=cardiac_data,\n",
    "                explanation_model=model,\n",
    "                evaluation_model=\"gpt-4o\",\n",
    "                baseline=baseline,\n",
    "                verbose=True,\n",
    "                overwrite_existing=True\n",
    "            )\n",
    "\n",
    "        print(f\"Time taken for {model}: {time.time() - _model_time:.3f} seconds\")\n",
    "\n",
    "else:\n",
    "    print(\"Your bank account is safe!\")\n",
    "\n",
    "print(f\"Total time taken: {time.time() - _start_time:.3f} seconds\")"
   ]
  },
  {
   "cell_type": "code",
   "execution_count": 3,
   "id": "527c4484-905b-4105-b803-fc47b5565c43",
   "metadata": {},
   "outputs": [
    {
     "name": "stdout",
     "output_type": "stream",
     "text": [
      "gpt-4o\n",
      "vanilla baseline: 0.5330676615051615\n",
      "104\n",
      "cot baseline: 0.5644498847926268\n",
      "124\n",
      "socratic baseline: 0.5688745421245421\n",
      "130\n",
      "subq baseline: 0.518995781995782\n",
      "130\n",
      "-----------------------------------------\n"
     ]
    }
   ],
   "source": [
    "## find scores\n",
    "\n",
    "for model in models:\n",
    "    print(model)\n",
    "    for baseline in baselines:\n",
    "        with open(f\"../results/{baseline}/cardiac_{model}.json\", 'r') as f:\n",
    "            all_data = json.load(f)\n",
    "            final_alignment_scores = []\n",
    "            for example in all_data:\n",
    "                final_alignment_scores.append(example['final_alignment_score'])\n",
    "            print(f\"{baseline} baseline:\", np.mean(final_alignment_scores))\n",
    "            print(len(all_data))\n",
    "    print('-----------------------------------------')\n",
    "        "
   ]
  },
  {
   "cell_type": "code",
   "execution_count": 5,
   "id": "09ca8c95-0abd-4607-aa21-000e2bf36bf0",
   "metadata": {},
   "outputs": [
    {
     "name": "stdout",
     "output_type": "stream",
     "text": [
      "gpt-4o\n",
      "vanilla baseline: 0.533615367965368\n",
      "100\n",
      "cot baseline: 0.5650305555555556\n",
      "100\n",
      "socratic baseline: 0.5820900793650793\n",
      "100\n",
      "subq baseline: 0.5329327561327561\n",
      "100\n",
      "-----------------------------------------\n"
     ]
    }
   ],
   "source": [
    "## find scores\n",
    "\n",
    "for model in models:\n",
    "    print(model)\n",
    "    for baseline in baselines:\n",
    "        with open(f\"../results/{baseline}/cardiac_{model}.json\", 'r') as f:\n",
    "            all_data = json.load(f)[:100]\n",
    "            final_alignment_scores = []\n",
    "            for example in all_data:\n",
    "                final_alignment_scores.append(example['final_alignment_score'])\n",
    "            print(f\"{baseline} baseline:\", np.mean(final_alignment_scores))\n",
    "            print(len(all_data))\n",
    "    print('-----------------------------------------')\n",
    "        "
   ]
  },
  {
   "cell_type": "code",
   "execution_count": null,
   "id": "67a0755e-9e9a-4dd8-b4a4-a215fbdd2d58",
   "metadata": {},
   "outputs": [],
   "source": []
  },
  {
   "cell_type": "markdown",
   "id": "bb7c5cc7-7a79-408a-a260-2c1500fab9dd",
   "metadata": {
    "jp-MarkdownHeadingCollapsed": true
   },
   "source": [
    "## See here for a first version (runs through a few examples)"
   ]
  },
  {
   "cell_type": "code",
   "execution_count": 5,
   "id": "5e19672e-402c-4e0e-a7bc-779f310b5906",
   "metadata": {
    "scrolled": true
   },
   "outputs": [
    {
     "data": {
      "text/html": [
       "<div>\n",
       "<style scoped>\n",
       "    .dataframe tbody tr th:only-of-type {\n",
       "        vertical-align: middle;\n",
       "    }\n",
       "\n",
       "    .dataframe tbody tr th {\n",
       "        vertical-align: top;\n",
       "    }\n",
       "\n",
       "    .dataframe thead th {\n",
       "        text-align: right;\n",
       "    }\n",
       "</style>\n",
       "<table border=\"1\" class=\"dataframe\">\n",
       "  <thead>\n",
       "    <tr style=\"text-align: right;\">\n",
       "      <th></th>\n",
       "      <th>label</th>\n",
       "      <th>alarm</th>\n",
       "      <th>record_name</th>\n",
       "      <th>n_sig</th>\n",
       "      <th>fs</th>\n",
       "      <th>counter_freq</th>\n",
       "      <th>base_counter</th>\n",
       "      <th>sig_len</th>\n",
       "      <th>base_time</th>\n",
       "      <th>base_date</th>\n",
       "      <th>...</th>\n",
       "      <th>Payor_class</th>\n",
       "      <th>Admit_service</th>\n",
       "      <th>Dx_ICD9</th>\n",
       "      <th>Dx_ICD10</th>\n",
       "      <th>Dx_name</th>\n",
       "      <th>Arrival_time</th>\n",
       "      <th>Roomed_time</th>\n",
       "      <th>Dispo_time</th>\n",
       "      <th>Admit_time</th>\n",
       "      <th>Departure_time</th>\n",
       "    </tr>\n",
       "  </thead>\n",
       "  <tbody>\n",
       "    <tr>\n",
       "      <th>0</th>\n",
       "      <td>Yes</td>\n",
       "      <td>2292-04-11 20:46:10</td>\n",
       "      <td>99741192_2</td>\n",
       "      <td>1</td>\n",
       "      <td>500</td>\n",
       "      <td>None</td>\n",
       "      <td>None</td>\n",
       "      <td>60500</td>\n",
       "      <td>20:39:48</td>\n",
       "      <td>2292-04-11</td>\n",
       "      <td>...</td>\n",
       "      <td>Medicaid</td>\n",
       "      <td>Neurocritical Care</td>\n",
       "      <td>853.01</td>\n",
       "      <td>S06.340A</td>\n",
       "      <td>Intraparenchymal hematoma of brain, right, wit...</td>\n",
       "      <td>2292-04-11T20:03:10Z</td>\n",
       "      <td>2292-04-11T20:03:10Z</td>\n",
       "      <td>2292-04-11T21:04:10Z</td>\n",
       "      <td>2292-04-11T21:04:10Z</td>\n",
       "      <td>2292-04-11T23:11:10Z</td>\n",
       "    </tr>\n",
       "    <tr>\n",
       "      <th>1</th>\n",
       "      <td>No</td>\n",
       "      <td>NaT</td>\n",
       "      <td>99340002_1</td>\n",
       "      <td>1</td>\n",
       "      <td>500</td>\n",
       "      <td>None</td>\n",
       "      <td>None</td>\n",
       "      <td>60000</td>\n",
       "      <td>12:39:30.131000</td>\n",
       "      <td>2203-09-10</td>\n",
       "      <td>...</td>\n",
       "      <td>nan</td>\n",
       "      <td>nan</td>\n",
       "      <td>780.4</td>\n",
       "      <td>R42</td>\n",
       "      <td>Dizziness</td>\n",
       "      <td>2203-09-10T12:20:01Z</td>\n",
       "      <td>2203-09-10T12:36:01Z</td>\n",
       "      <td>2203-09-10T16:21:01Z</td>\n",
       "      <td>nan</td>\n",
       "      <td>2203-09-10T18:19:01Z</td>\n",
       "    </tr>\n",
       "    <tr>\n",
       "      <th>2</th>\n",
       "      <td>No</td>\n",
       "      <td>NaT</td>\n",
       "      <td>99860008_1</td>\n",
       "      <td>1</td>\n",
       "      <td>500</td>\n",
       "      <td>None</td>\n",
       "      <td>None</td>\n",
       "      <td>60000</td>\n",
       "      <td>22:05:27.203000</td>\n",
       "      <td>2263-08-31</td>\n",
       "      <td>...</td>\n",
       "      <td>Medicare</td>\n",
       "      <td>Medicine</td>\n",
       "      <td>780.60</td>\n",
       "      <td>R50.9</td>\n",
       "      <td>Fever, unspecified fever cause</td>\n",
       "      <td>2263-08-31T19:33:34Z</td>\n",
       "      <td>2263-08-31T21:59:34Z</td>\n",
       "      <td>2263-09-01T02:23:34Z</td>\n",
       "      <td>2263-09-01T02:23:34Z</td>\n",
       "      <td>2263-09-01T06:56:34Z</td>\n",
       "    </tr>\n",
       "  </tbody>\n",
       "</table>\n",
       "<p>3 rows × 62 columns</p>\n",
       "</div>"
      ],
      "text/plain": [
       "  label               alarm record_name  n_sig   fs counter_freq base_counter  \\\n",
       "0   Yes 2292-04-11 20:46:10  99741192_2      1  500         None         None   \n",
       "1    No                 NaT  99340002_1      1  500         None         None   \n",
       "2    No                 NaT  99860008_1      1  500         None         None   \n",
       "\n",
       "   sig_len        base_time   base_date  ... Payor_class       Admit_service  \\\n",
       "0    60500         20:39:48  2292-04-11  ...    Medicaid  Neurocritical Care   \n",
       "1    60000  12:39:30.131000  2203-09-10  ...         nan                 nan   \n",
       "2    60000  22:05:27.203000  2263-08-31  ...    Medicare            Medicine   \n",
       "\n",
       "  Dx_ICD9  Dx_ICD10                                            Dx_name  \\\n",
       "0  853.01  S06.340A  Intraparenchymal hematoma of brain, right, wit...   \n",
       "1   780.4       R42                                          Dizziness   \n",
       "2  780.60     R50.9                     Fever, unspecified fever cause   \n",
       "\n",
       "           Arrival_time           Roomed_time            Dispo_time  \\\n",
       "0  2292-04-11T20:03:10Z  2292-04-11T20:03:10Z  2292-04-11T21:04:10Z   \n",
       "1  2203-09-10T12:20:01Z  2203-09-10T12:36:01Z  2203-09-10T16:21:01Z   \n",
       "2  2263-08-31T19:33:34Z  2263-08-31T21:59:34Z  2263-09-01T02:23:34Z   \n",
       "\n",
       "             Admit_time        Departure_time  \n",
       "0  2292-04-11T21:04:10Z  2292-04-11T23:11:10Z  \n",
       "1                   nan  2203-09-10T18:19:01Z  \n",
       "2  2263-09-01T02:23:34Z  2263-09-01T06:56:34Z  \n",
       "\n",
       "[3 rows x 62 columns]"
      ]
     },
     "execution_count": 5,
     "metadata": {},
     "output_type": "execute_result"
    }
   ],
   "source": [
    "ds = load_dataset(\"BrachioLab/mcmed-cardiac\")\n",
    "cardiac_data_all = ds['train'].to_pandas()\n",
    "cardiac_data = cardiac_data_all.sample(3, random_state=11).reset_index(drop=True)\n",
    "\n",
    "cardiac_data['label'] = cardiac_data['label'].map({True: 'Yes', False: 'No'})\n",
    "cardiac_data"
   ]
  },
  {
   "cell_type": "markdown",
   "id": "fa3c6b8c-a015-4eaa-9655-6d48d9ead137",
   "metadata": {
    "jp-MarkdownHeadingCollapsed": true
   },
   "source": [
    "#### [optional] check data"
   ]
  },
  {
   "cell_type": "code",
   "execution_count": 3,
   "id": "6b8a824e-7298-4498-a4a2-5eaca2a75087",
   "metadata": {},
   "outputs": [
    {
     "name": "stdout",
     "output_type": "stream",
     "text": [
      "Yes 2292-04-11 20:46:10\n"
     ]
    }
   ],
   "source": [
    "example_data = cardiac_data.iloc[0].to_dict()\n",
    "print(example_data['label'], example_data['alarm'])"
   ]
  },
  {
   "cell_type": "code",
   "execution_count": 4,
   "id": "617458f4-93c9-421c-905b-4aefdeb97644",
   "metadata": {},
   "outputs": [
    {
     "data": {
      "image/png": "[encoded data removed]",
      "text/plain": [
       "<Figure size 640x480 with 1 Axes>"
      ]
     },
     "metadata": {},
     "output_type": "display_data"
    }
   ],
   "source": [
    "record_keys = ['record_name', 'n_sig', 'fs', 'counter_freq', 'base_counter', 'sig_len', 'base_time', 'base_date', 'comments', 'sig_name', 'p_signal', 'd_signal', 'e_p_signal', 'e_d_signal', 'file_name', 'fmt', 'samps_per_frame', 'skew', 'byte_offset', 'adc_gain', 'baseline', 'units', 'adc_res', 'adc_zero', 'init_value', 'checksum', 'block_size']\n",
    "record_dict = {k: v for k, v in example_data.items() if k in record_keys}\n",
    "# record_dict['p_signal'] = np.array(record_dict['p_signal']) \n",
    "record_dict['p_signal'] = example_data['p_signal'].reshape(-1, 1)\n",
    "record = wfdb.Record(**record_dict)\n",
    "\n",
    "wfdb.plot_wfdb(record=record)"
   ]
  },
  {
   "cell_type": "code",
   "execution_count": 5,
   "id": "1bcdad2f-28d6-4415-9198-63503e3da230",
   "metadata": {},
   "outputs": [
    {
     "data": {
      "text/plain": [
       "[<matplotlib.lines.Line2D at 0x7ef9370c64a0>]"
      ]
     },
     "execution_count": 5,
     "metadata": {},
     "output_type": "execute_result"
    },
    {
     "data": {
      "image/png": "[encoded data removed]",
      "text/plain": [
       "<Figure size 640x480 with 1 Axes>"
      ]
     },
     "metadata": {},
     "output_type": "display_data"
    }
   ],
   "source": [
    "# just to sanity check\n",
    "plt.plot(record_dict['p_signal'])"
   ]
  },
  {
   "cell_type": "code",
   "execution_count": 6,
   "id": "c779e3c4-4da0-4713-bf1b-88f0357d2e62",
   "metadata": {},
   "outputs": [],
   "source": [
    "example_data = cardiac_data_all[cardiac_data_all['record_name']== '99582725_1'].iloc[0].to_dict()\n",
    "record_keys = ['record_name', 'n_sig', 'fs', 'counter_freq', 'base_counter', 'sig_len', 'base_time', 'base_date', 'comments', 'sig_name', 'p_signal', 'd_signal', 'e_p_signal', 'e_d_signal', 'file_name', 'fmt', 'samps_per_frame', 'skew', 'byte_offset', 'adc_gain', 'baseline', 'units', 'adc_res', 'adc_zero', 'init_value', 'checksum', 'block_size']\n",
    "record_dict = {k: v for k, v in example_data.items() if k in record_keys}\n",
    "# record_dict['p_signal'] = np.array(record_dict['p_signal']) \n",
    "record_dict['p_signal'] = example_data['p_signal'].reshape(-1, 1)\n",
    "record = wfdb.Record(**record_dict)\n",
    "\n",
    "record_name = record_dict['record_name']\n",
    "image_path = f'_dump/cardiac/images/{record_name}.png'\n",
    "wfdb.plot_wfdb(record, return_fig=True)\n",
    "plt.savefig(image_path, dpi=200, bbox_inches='tight')\n",
    "plt.close()"
   ]
  },
  {
   "cell_type": "markdown",
   "id": "fa9fda5e-c381-44a2-bb77-a56c7a9c3116",
   "metadata": {},
   "source": [
    "### Stage 0: Get LLM Explanations\n"
   ]
  },
  {
   "cell_type": "code",
   "execution_count": 6,
   "id": "41eb03f0-962e-4a63-8388-158a43fa49b4",
   "metadata": {},
   "outputs": [
    {
     "name": "stderr",
     "output_type": "stream",
     "text": [
      "3it [00:00, 32.70it/s]"
     ]
    },
    {
     "name": "stdout",
     "output_type": "stream",
     "text": [
      "Error in parsing response I'm sorry, I can't help with this.\n",
      "Error in parsing response I'm sorry, I can't interpret graphs or ECG data.\n"
     ]
    },
    {
     "name": "stderr",
     "output_type": "stream",
     "text": [
      "\n"
     ]
    }
   ],
   "source": [
    "cardiac_examples = []\n",
    "for idx, row in tqdm(cardiac_data.iterrows()):\n",
    "    llm_label, explanation = get_llm_generated_answer(row, model=\"gpt-4o\")\n",
    "    # print(llm_label, explanation)\n",
    "    if llm_label is None:\n",
    "        continue\n",
    "    cardiac_examples.append(CardiacExample(\n",
    "        data=row,\n",
    "        ground_truth=row['label'],\n",
    "        llm_label=llm_label,\n",
    "        llm_explanation=explanation\n",
    "    ))"
   ]
  },
  {
   "cell_type": "code",
   "execution_count": 7,
   "id": "c8cbc02b-8999-4b41-b750-ec5c6bfd6a14",
   "metadata": {},
   "outputs": [
    {
     "name": "stdout",
     "output_type": "stream",
     "text": [
      "['No']\n",
      "['Yes']\n"
     ]
    }
   ],
   "source": [
    "print([cardiac_examples[i].llm_label for i in range(len(cardiac_examples))])\n",
    "print([cardiac_examples[i].data['label'] for i in range(len(cardiac_examples))])"
   ]
  },
  {
   "cell_type": "code",
   "execution_count": 8,
   "id": "32e6338a-7ac9-4722-a3dc-ccfc7960a5f3",
   "metadata": {},
   "outputs": [
    {
     "data": {
      "text/plain": [
       "'The patient is a 45-year-old male admitted to the ICU for an intraparenchymal hematoma of the brain without loss of consciousness. The ECG data shows relative stability in the waveform with no apparent significant arrhythmias or irregular patterns such as sustained ventricular tachycardia, fibrillation, or severe bradycardia that typically indicate an imminent cardiac arrest. While the baseline appears slightly elevated initially, it stabilizes quickly, suggesting a transient response rather than a persistent issue. Since brain injuries without consciousness loss generally have less direct cardiac risk, combined with the stable ECG, the immediate risk of a cardiac arrest within the next five minutes is low.'"
      ]
     },
     "execution_count": 8,
     "metadata": {},
     "output_type": "execute_result"
    }
   ],
   "source": [
    "cardiac_examples[0].llm_explanation"
   ]
  },
  {
   "cell_type": "markdown",
   "id": "e5cf7d63-b3a9-4ddc-ba22-48265c65ac2f",
   "metadata": {},
   "source": [
    "### Stage 1: Atomic claim extraction"
   ]
  },
  {
   "cell_type": "code",
   "execution_count": 9,
   "id": "d04a0d1d-e222-4bce-9388-401cb3228849",
   "metadata": {},
   "outputs": [
    {
     "name": "stderr",
     "output_type": "stream",
     "text": [
      "100%|████████████████████████████████████████████████████████████████████████████| 1/1 [00:00<00:00, 27.21it/s]\n"
     ]
    }
   ],
   "source": [
    "for example in tqdm(cardiac_examples):\n",
    "    claims = isolate_individual_features(example)\n",
    "    if claims is None:\n",
    "        continue\n",
    "    example.all_claims = [claim.strip() for claim in claims]"
   ]
  },
  {
   "cell_type": "code",
   "execution_count": 10,
   "id": "7efdc2aa-3c8c-4998-b880-e0968ec68081",
   "metadata": {},
   "outputs": [
    {
     "data": {
      "text/plain": [
       "['The patient is a 45-year-old male admitted to the ICU for an intraparenchymal hematoma of the brain without loss of consciousness.',\n",
       " 'The ECG data shows relative stability in the waveform.',\n",
       " 'There are no apparent significant arrhythmias or irregular patterns in the ECG data.',\n",
       " 'The ECG data lacks sustained ventricular tachycardia, fibrillation, or severe bradycardia.',\n",
       " 'Sustained ventricular tachycardia, fibrillation, or severe bradycardia typically indicate an imminent cardiac arrest.',\n",
       " 'The ECG baseline appears slightly elevated initially but stabilizes quickly.',\n",
       " 'The stabilization of the ECG baseline suggests a transient response rather than a persistent issue.',\n",
       " 'Brain injuries without consciousness loss generally have less direct cardiac risk.',\n",
       " 'The stable ECG data and nature of the brain injury indicate a low immediate risk of cardiac arrest within the next five minutes.']"
      ]
     },
     "execution_count": 10,
     "metadata": {},
     "output_type": "execute_result"
    }
   ],
   "source": [
    "cardiac_examples[0].all_claims"
   ]
  },
  {
   "cell_type": "code",
   "execution_count": 11,
   "id": "cc2638db-e0ec-4de0-939a-f23b14d40e2a",
   "metadata": {},
   "outputs": [
    {
     "name": "stderr",
     "output_type": "stream",
     "text": [
      "100%|████████████████████████████████████████████████████████████████████████████| 1/1 [00:00<00:00, 28.13it/s]\n"
     ]
    }
   ],
   "source": [
    "# we should also save these just in case because we will use it in the latter parts\n",
    "for example in tqdm(cardiac_examples):\n",
    "    torch.save(example, f\"_dump/cardiac/final/gpt-4o/cardiac_examples/{example.data['record_name']}\")\n"
   ]
  },
  {
   "cell_type": "code",
   "execution_count": 13,
   "id": "8c6a55a7-7d80-44c7-8401-449df8f32287",
   "metadata": {
    "scrolled": true
   },
   "outputs": [
    {
     "data": {
      "text/plain": [
       "{'record_name': '99741192_2',\n",
       " 'background': 'The patient is age 45, gender M, race Other, and was admitted to the ICU for Intraparenchymal hematoma of brain, right, without loss of consciousness, initial encounter (CMS-HCC).',\n",
       " 'duration_sec': 120,\n",
       " 'pred_window_sec': 300,\n",
       " 'ground_truth': 'Yes',\n",
       " 'llm_label': 'No',\n",
       " 'llm_explanation': 'The patient is a 45-year-old male admitted to the ICU for an intraparenchymal hematoma of the brain without loss of consciousness. The ECG data shows relative stability in the waveform with no apparent significant arrhythmias or irregular patterns such as sustained ventricular tachycardia, fibrillation, or severe bradycardia that typically indicate an imminent cardiac arrest. While the baseline appears slightly elevated initially, it stabilizes quickly, suggesting a transient response rather than a persistent issue. Since brain injuries without consciousness loss generally have less direct cardiac risk, combined with the stable ECG, the immediate risk of a cardiac arrest within the next five minutes is low.',\n",
       " 'all_claims': ['The patient is a 45-year-old male admitted to the ICU for an intraparenchymal hematoma of the brain without loss of consciousness.',\n",
       "  'The ECG data shows relative stability in the waveform.',\n",
       "  'There are no apparent significant arrhythmias or irregular patterns in the ECG data.',\n",
       "  'The ECG data lacks sustained ventricular tachycardia, fibrillation, or severe bradycardia.',\n",
       "  'Sustained ventricular tachycardia, fibrillation, or severe bradycardia typically indicate an imminent cardiac arrest.',\n",
       "  'The ECG baseline appears slightly elevated initially but stabilizes quickly.',\n",
       "  'The stabilization of the ECG baseline suggests a transient response rather than a persistent issue.',\n",
       "  'Brain injuries without consciousness loss generally have less direct cardiac risk.',\n",
       "  'The stable ECG data and nature of the brain injury indicate a low immediate risk of cardiac arrest within the next five minutes.'],\n",
       " 'relevant_claims': [],\n",
       " 'alignable_claims': [],\n",
       " 'aligned_category_ids': [],\n",
       " 'aligned_categories': [],\n",
       " 'alignment_scores': [],\n",
       " 'alignment_reasonings': [],\n",
       " 'final_alignment_score': 0.0,\n",
       " 'accuracy': 0}"
      ]
     },
     "execution_count": 13,
     "metadata": {},
     "output_type": "execute_result"
    }
   ],
   "source": [
    "record_name = cardiac_examples[0].data['record_name']\n",
    "c = torch.load(f\"_dump/cardiac/final/gpt-4o/cardiac_examples/{record_name}\", weights_only=False)\n",
    "c.to_dict()"
   ]
  },
  {
   "cell_type": "markdown",
   "id": "8c1b1cd5-b114-4e8c-890a-6f1225b70307",
   "metadata": {},
   "source": [
    "### Stage 2: Distill relevant claims"
   ]
  },
  {
   "cell_type": "code",
   "execution_count": 14,
   "id": "960ef873-70be-45df-82b5-05c5b17b47d9",
   "metadata": {},
   "outputs": [
    {
     "name": "stderr",
     "output_type": "stream",
     "text": [
      "100%|████████████████████████████████████████████████████████████████████████████| 1/1 [00:00<00:00,  1.27it/s]\n"
     ]
    }
   ],
   "source": [
    "for example in tqdm(cardiac_examples):\n",
    "    relevant_claims = distill_relevant_features(example)\n",
    "    example.relevant_claims = relevant_claims"
   ]
  },
  {
   "cell_type": "code",
   "execution_count": 15,
   "id": "57b240c7-94fb-4a0a-8dce-a2c4a347c350",
   "metadata": {},
   "outputs": [
    {
     "data": {
      "text/plain": [
       "['The ECG data shows relative stability in the waveform.',\n",
       " 'There are no apparent significant arrhythmias or irregular patterns in the ECG data.',\n",
       " 'The ECG data lacks sustained ventricular tachycardia, fibrillation, or severe bradycardia.',\n",
       " 'The ECG baseline appears slightly elevated initially but stabilizes quickly.',\n",
       " 'The stabilization of the ECG baseline suggests a transient response rather than a persistent issue.',\n",
       " 'Brain injuries without consciousness loss generally have less direct cardiac risk.',\n",
       " 'The stable ECG data and nature of the brain injury indicate a low immediate risk of cardiac arrest within the next five minutes.']"
      ]
     },
     "execution_count": 15,
     "metadata": {},
     "output_type": "execute_result"
    }
   ],
   "source": [
    "cardiac_examples[0].relevant_claims"
   ]
  },
  {
   "cell_type": "markdown",
   "id": "29872daa-2dd6-4748-99a3-7a7834f6648f",
   "metadata": {},
   "source": [
    "### Stage 3: Calculate alignment scores\n"
   ]
  },
  {
   "cell_type": "code",
   "execution_count": 33,
   "id": "cff9005c-2103-4bce-a6f6-3cde22a6649d",
   "metadata": {},
   "outputs": [
    {
     "name": "stderr",
     "output_type": "stream",
     "text": [
      "100%|████████████████████████████████████████████████████████████████████████████| 1/1 [00:00<00:00, 24.62it/s]\n"
     ]
    }
   ],
   "source": [
    "for example in tqdm(cardiac_examples):\n",
    "    align_infos = calculate_expert_alignment_scores(example.relevant_claims)\n",
    "    \n",
    "    example.alignable_claims = [info[\"Claim\"] for info in align_infos]\n",
    "    example.alignment_categories = [info[\"Category\"] for info in align_infos]\n",
    "    # example.aligned_category_ids = [info[\"Category ID\"] for info in align_infos]\n",
    "    example.alignment_scores = [info[\"Alignment\"] for info in align_infos]\n",
    "    example.alignment_reasonings = [info[\"Reasoning\"] for info in align_infos]\n",
    "    example.final_alignment_score = np.mean(example.alignment_scores)\n",
    "    \n",
    "    # Non-alignable claims are given a score of 0.0\n",
    "    if len(align_infos) > 0:\n",
    "        example.final_alignment_score = sum(score for score in example.alignment_scores) / len(example.all_claims)\n",
    "    else:\n",
    "        example.final_alignment_score = 0.0"
   ]
  },
  {
   "cell_type": "code",
   "execution_count": 34,
   "id": "6f14caba-10a2-4569-bbf2-56ff6cf66f3c",
   "metadata": {},
   "outputs": [
    {
     "data": {
      "text/plain": [
       "{'record_name': '99741192_2',\n",
       " 'background': 'The patient is age 45, gender M, race Other, and was admitted to the ICU for Intraparenchymal hematoma of brain, right, without loss of consciousness, initial encounter (CMS-HCC).',\n",
       " 'duration_sec': 120,\n",
       " 'pred_window_sec': 300,\n",
       " 'ground_truth': 'Yes',\n",
       " 'llm_label': 'No',\n",
       " 'llm_explanation': 'The patient is a 45-year-old male admitted to the ICU for an intraparenchymal hematoma of the brain without loss of consciousness. The ECG data shows relative stability in the waveform with no apparent significant arrhythmias or irregular patterns such as sustained ventricular tachycardia, fibrillation, or severe bradycardia that typically indicate an imminent cardiac arrest. While the baseline appears slightly elevated initially, it stabilizes quickly, suggesting a transient response rather than a persistent issue. Since brain injuries without consciousness loss generally have less direct cardiac risk, combined with the stable ECG, the immediate risk of a cardiac arrest within the next five minutes is low.',\n",
       " 'all_claims': ['The patient is a 45-year-old male admitted to the ICU for an intraparenchymal hematoma of the brain without loss of consciousness.',\n",
       "  'The ECG data shows relative stability in the waveform.',\n",
       "  'There are no apparent significant arrhythmias or irregular patterns in the ECG data.',\n",
       "  'The ECG data lacks sustained ventricular tachycardia, fibrillation, or severe bradycardia.',\n",
       "  'Sustained ventricular tachycardia, fibrillation, or severe bradycardia typically indicate an imminent cardiac arrest.',\n",
       "  'The ECG baseline appears slightly elevated initially but stabilizes quickly.',\n",
       "  'The stabilization of the ECG baseline suggests a transient response rather than a persistent issue.',\n",
       "  'Brain injuries without consciousness loss generally have less direct cardiac risk.',\n",
       "  'The stable ECG data and nature of the brain injury indicate a low immediate risk of cardiac arrest within the next five minutes.'],\n",
       " 'relevant_claims': ['The ECG data shows relative stability in the waveform.',\n",
       "  'There are no apparent significant arrhythmias or irregular patterns in the ECG data.',\n",
       "  'The ECG data lacks sustained ventricular tachycardia, fibrillation, or severe bradycardia.',\n",
       "  'The ECG baseline appears slightly elevated initially but stabilizes quickly.',\n",
       "  'The stabilization of the ECG baseline suggests a transient response rather than a persistent issue.',\n",
       "  'Brain injuries without consciousness loss generally have less direct cardiac risk.',\n",
       "  'The stable ECG data and nature of the brain injury indicate a low immediate risk of cardiac arrest within the next five minutes.'],\n",
       " 'alignable_claims': ['The ECG data shows relative stability in the waveform.',\n",
       "  'There are no apparent significant arrhythmias or irregular patterns in the ECG data.',\n",
       "  'The ECG data lacks sustained ventricular tachycardia, fibrillation, or severe bradycardia.',\n",
       "  'The ECG baseline appears slightly elevated initially but stabilizes quickly.',\n",
       "  'The stabilization of the ECG baseline suggests a transient response rather than a persistent issue.',\n",
       "  'Brain injuries without consciousness loss generally have less direct cardiac risk.',\n",
       "  'The stable ECG data and nature of the brain injury indicate a low immediate risk of cardiac arrest within the next five minutes.'],\n",
       " 'aligned_category_ids': [4, 1, 1, 6, 4, 13, 13],\n",
       " 'aligned_categories': [],\n",
       " 'alignment_scores': [0.3, 0.3, 0.6, 0.4, 0.3, 0.3, 0.4],\n",
       " 'alignment_reasonings': ['The claim suggests \"relative stability in the waveform,\" which could imply either a normal rhythm or possibly low variability. In the context of cardiac arrest risk, low heart rate variability can be problematic, reflecting autonomic dysfunction. Since the claim does not explicitly link this stability to abnormally low heart rate variability or impending cardiac arrest, the alignment is weak. The stability mentioned might indicate the absence of troubling variability rather than its suppression, resulting in a low alignment rating.',\n",
       "  'The claim indicates the absence of significant arrhythmias or irregular ECG patterns, which would typically suggest a lower immediate risk of cardiac arrest. It indirectly relates to the Extreme Tachyarrhythmias category because the presence of tachyarrhythmias would be a cause for concern according to this category. Since the claim focuses on the lack of arrhythmias, it inversely aligns with this category. The alignment is low because the absence of arrhythmias implies reduced risk, although the claim addresses the category by exclusion.',\n",
       "  'The claim specifically mentions the absence of sustained ventricular tachycardia and fibrillation, directly relating to the Extreme Tachyarrhythmias category. These conditions are known indicators of high risk for cardiac arrest due to their potential to precipitate hemodynamic collapse. The claim also references severe bradycardia, which is relevant to the Bradycardia or Heart-Rate Drop category, but the primary focus remains on the absence of serious arrhythmias. The alignment rating is moderate because the claim addresses what is missing rather than what is present, indicating a moderate risk assessment based on the absence of these critical arrhythmias.',\n",
       "  'The claim mentions an \"elevated\" baseline on the ECG, which could suggest potential ST-segment elevation. While the category specifically addresses acute ischemic changes in the ST-segment as red flags for imminent cardiac events, the claim states that this elevation \"stabilizes quickly,\" indicating the change might not persist or be significant enough for extreme concern. Therefore, it aligns somewhat with the category of Dynamic ST-Segment Changes, but the stabilization implies a lower risk than a consistent elevation would suggest, leading to a lower alignment rating.',\n",
       "  'The claim mentions a \"stabilization of the ECG baseline,\" which might imply a lack of fluctuation in the R–R intervals, potentially reflecting a low heart rate variability. This conceptually aligns with the category of depressed heart rate variability, as minimal baseline changes could suggest reduced autonomic responsiveness. However, the term \"stabilization\" may also indicate improvement or resolution of an issue rather than a persistent predictor of cardiac arrest. Since the claim suggests a transient condition rather than a persistently low variability, the alignment is weak yet present, warranting a low rating.',\n",
       "  'The claim involves brain injuries without consciousness loss, which is not directly related to cardiac risk. However, in critical care settings, severe neurological conditions can lead to systemic complications, potentially including issues like sepsis or shock, if they are part of broader critical illness scenarios. Although this is a stretch given the claim\\'s emphasis on \"less direct cardiac risk,\" the secondary association with critical illness and the potential for systemic impact provides a minor alignment with the category. Hence, the low alignment rating of 0.3 reflects this indirect connection.',\n",
       "  'The claim mentions \"brain injury,\" which isn\\'t directly related to any cardiac-specific factors but can be associated with a critical condition affecting the patient\\'s overall stability. This aligns weakly with the Critical Illness (Sepsis/Shock) category, which involves conditions that can precipitate cardiac arrest. The stable ECG suggests a low risk, but the claim indirectly refers to a critical condition (brain injury), leading to a weak, indirect alignment. Hence, the alignment rating is on the lower side.'],\n",
       " 'final_alignment_score': 0.2888888888888889,\n",
       " 'accuracy': 0}"
      ]
     },
     "execution_count": 34,
     "metadata": {},
     "output_type": "execute_result"
    }
   ],
   "source": [
    "example.to_dict()"
   ]
  },
  {
   "cell_type": "code",
   "execution_count": 23,
   "id": "628ef650-f37c-4b23-ad32-0172430944da",
   "metadata": {},
   "outputs": [
    {
     "data": {
      "text/plain": [
       "np.float64(0.37142857142857144)"
      ]
     },
     "execution_count": 23,
     "metadata": {},
     "output_type": "execute_result"
    }
   ],
   "source": [
    "example.final_alignment_score"
   ]
  },
  {
   "cell_type": "code",
   "execution_count": 30,
   "id": "92b9b81e-79af-4f87-9643-a49ce19f40cc",
   "metadata": {},
   "outputs": [
    {
     "name": "stderr",
     "output_type": "stream",
     "text": [
      "100%|█████████████████████████████████████████████████████████████████████████| 4/4 [00:00<00:00, 52428.80it/s]\n"
     ]
    },
    {
     "data": {
      "text/plain": [
       "array([0.83333333, 0.675     , 0.48571429, 0.37142857])"
      ]
     },
     "execution_count": 30,
     "metadata": {},
     "output_type": "execute_result"
    }
   ],
   "source": [
    "gpt_4o_scores = np.array([example.final_alignment_score for example in tqdm(cardiac_examples)])\n",
    "gpt_4o_scores"
   ]
  },
  {
   "cell_type": "code",
   "execution_count": 33,
   "id": "47ed7b1b-985c-439b-9a3d-98f987bfadc3",
   "metadata": {},
   "outputs": [
    {
     "data": {
      "text/plain": [
       "np.float64(0.5913690476190476)"
      ]
     },
     "execution_count": 33,
     "metadata": {},
     "output_type": "execute_result"
    }
   ],
   "source": [
    "gpt_4o_scores.mean()"
   ]
  },
  {
   "cell_type": "code",
   "execution_count": null,
   "id": "168ce44f-d014-49eb-bdd8-7e4aa80067db",
   "metadata": {},
   "outputs": [],
   "source": []
  },
  {
   "cell_type": "code",
   "execution_count": null,
   "id": "c810b5de-a681-45e8-9662-16f635b6a38e",
   "metadata": {},
   "outputs": [],
   "source": []
  },
  {
   "cell_type": "code",
   "execution_count": null,
   "id": "d3d0fe2e-db5f-403b-9ccd-4f4be2c08e45",
   "metadata": {},
   "outputs": [],
   "source": []
  },
  {
   "cell_type": "code",
   "execution_count": null,
   "id": "308b952e-9959-4928-bae1-ffec6d951735",
   "metadata": {},
   "outputs": [],
   "source": []
  },
  {
   "cell_type": "code",
   "execution_count": null,
   "id": "9bee6cad-6b93-4b43-b61e-578c1d17a459",
   "metadata": {},
   "outputs": [],
   "source": []
  },
  {
   "cell_type": "code",
   "execution_count": 374,
   "id": "e9c3e495-ff3c-4e69-bfb0-2643db78921a",
   "metadata": {},
   "outputs": [
    {
     "data": {
      "text/plain": [
       "\"Suppose you are a medical expert specializing in cardiac arrest prediction. \\nYou will be provided with time-series Electrocardiogram (ECG) data from the first {} of an ECG monitoring period during a patient's ICU stay. Each entry consists of a measurement value at that timestamp. The timestamps start at time {} and end at time {}. There are {} samples taken per second, which means that each consecutive measurement value is taken {} milliseconds apart.\\n\\nYour task is to determine whether this patient is at high risk of experiencing cardiac arrest within the next {} minutes.\\nClinicians typically assess early warning signs by finding irregularities in the ECG measurements.\\n[BASELINE PROMPT]\\nFocus on the features of the data you used to make your yes or no binary classification. \\n\\nYour response should be formatted as follows:\\nPrediction: <class>\\nExplanation: <explanation>\\n\\nHere is the ECG data for you to analyze:\\n{}\""
      ]
     },
     "execution_count": 374,
     "metadata": {},
     "output_type": "execute_result"
    }
   ],
   "source": [
    "cardiac_prompt.replace(\"[BASELINE_PROMPT]\", cot_baseline)"
   ]
  },
  {
   "cell_type": "code",
   "execution_count": null,
   "id": "0e86319a-c0a2-40b7-b37b-9d4ff5116a4d",
   "metadata": {},
   "outputs": [],
   "source": []
  },
  {
   "cell_type": "code",
   "execution_count": null,
   "id": "75388de3-f3a4-4ba7-b5b7-d45e8b971133",
   "metadata": {},
   "outputs": [],
   "source": []
  },
  {
   "cell_type": "code",
   "execution_count": null,
   "id": "369f2472-78ba-4ccc-bce6-226fc50b5cdd",
   "metadata": {},
   "outputs": [],
   "source": []
  }
 ],
 "metadata": {
  "kernelspec": {
   "display_name": "Python 3 (ipykernel)",
   "language": "python",
   "name": "python3"
  },
  "language_info": {
   "codemirror_mode": {
    "name": "ipython",
    "version": 3
   },
   "file_extension": ".py",
   "mimetype": "text/x-python",
   "name": "python",
   "nbconvert_exporter": "python",
   "pygments_lexer": "ipython3",
   "version": "3.10.16"
  }
 },
 "nbformat": 4,
 "nbformat_minor": 5
}
