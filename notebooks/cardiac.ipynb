{
 "cells": [
  {
   "cell_type": "code",
   "execution_count": 1,
   "id": "619c538e-9f06-463d-9258-603abc80c42f",
   "metadata": {},
   "outputs": [],
   "source": [
    "import torch\n",
    "import numpy as np\n",
    "import pandas as pd\n",
    "import wfdb\n"
   ]
  },
  {
   "cell_type": "code",
   "execution_count": 32,
   "id": "a07dc49b-6b44-44c1-980e-86ccfd741edf",
   "metadata": {},
   "outputs": [
    {
     "data": {
      "text/html": [
       "<div>\n",
       "<style scoped>\n",
       "    .dataframe tbody tr th:only-of-type {\n",
       "        vertical-align: middle;\n",
       "    }\n",
       "\n",
       "    .dataframe tbody tr th {\n",
       "        vertical-align: top;\n",
       "    }\n",
       "\n",
       "    .dataframe thead th {\n",
       "        text-align: right;\n",
       "    }\n",
       "</style>\n",
       "<table border=\"1\" class=\"dataframe\">\n",
       "  <thead>\n",
       "    <tr style=\"text-align: right;\">\n",
       "      <th></th>\n",
       "      <th>CSN</th>\n",
       "      <th>Type</th>\n",
       "      <th>Segments</th>\n",
       "      <th>Duration</th>\n",
       "    </tr>\n",
       "  </thead>\n",
       "  <tbody>\n",
       "    <tr>\n",
       "      <th>0</th>\n",
       "      <td>99633476</td>\n",
       "      <td>II</td>\n",
       "      <td>1</td>\n",
       "      <td>2204.742</td>\n",
       "    </tr>\n",
       "    <tr>\n",
       "      <th>4</th>\n",
       "      <td>99960476</td>\n",
       "      <td>II</td>\n",
       "      <td>4</td>\n",
       "      <td>12818.304</td>\n",
       "    </tr>\n",
       "    <tr>\n",
       "      <th>7</th>\n",
       "      <td>99470476</td>\n",
       "      <td>II</td>\n",
       "      <td>2</td>\n",
       "      <td>13918.498</td>\n",
       "    </tr>\n",
       "    <tr>\n",
       "      <th>11</th>\n",
       "      <td>99438476</td>\n",
       "      <td>II</td>\n",
       "      <td>2</td>\n",
       "      <td>11579.046</td>\n",
       "    </tr>\n",
       "    <tr>\n",
       "      <th>15</th>\n",
       "      <td>99439476</td>\n",
       "      <td>II</td>\n",
       "      <td>3</td>\n",
       "      <td>2853.788</td>\n",
       "    </tr>\n",
       "  </tbody>\n",
       "</table>\n",
       "</div>"
      ],
      "text/plain": [
       "         CSN Type  Segments   Duration\n",
       "0   99633476   II         1   2204.742\n",
       "4   99960476   II         4  12818.304\n",
       "7   99470476   II         2  13918.498\n",
       "11  99438476   II         2  11579.046\n",
       "15  99439476   II         3   2853.788"
      ]
     },
     "execution_count": 32,
     "metadata": {},
     "output_type": "execute_result"
    }
   ],
   "source": [
    "# work done in hylian machine\n",
    "\n",
    "waveform_summary = pd.read_csv(\"/tmp/mc-med-1.0.0/data/waveform_summary.csv\")\n",
    "waveform_summary = waveform_summary[waveform_summary['Type'] == 'II']\n",
    "waveform_summary.head()"
   ]
  },
  {
   "cell_type": "code",
   "execution_count": 3,
   "id": "693ecb6e-3af7-4f9a-bc1c-a4018feab458",
   "metadata": {},
   "outputs": [
    {
     "data": {
      "text/plain": [
       "0         99633476\n",
       "4         99960476\n",
       "7         99470476\n",
       "11        99438476\n",
       "15        99439476\n",
       "            ...   \n",
       "188298    99413106\n",
       "188306    99876106\n",
       "188307    99539106\n",
       "188310    99647106\n",
       "188314    99289106\n",
       "Name: CSN, Length: 55160, dtype: int64"
      ]
     },
     "execution_count": 3,
     "metadata": {},
     "output_type": "execute_result"
    }
   ],
   "source": [
    "waveform_summary['CSN']"
   ]
  },
  {
   "cell_type": "code",
   "execution_count": 4,
   "id": "0d23a944-8411-4574-bbdf-d032f8f99e0f",
   "metadata": {},
   "outputs": [],
   "source": [
    "Full_CSN = 99016000"
   ]
  },
  {
   "cell_type": "code",
   "execution_count": 5,
   "id": "5f556076-79af-46ff-a021-674a7b0526a4",
   "metadata": {},
   "outputs": [
    {
     "data": {
      "text/html": [
       "<div>\n",
       "<style scoped>\n",
       "    .dataframe tbody tr th:only-of-type {\n",
       "        vertical-align: middle;\n",
       "    }\n",
       "\n",
       "    .dataframe tbody tr th {\n",
       "        vertical-align: top;\n",
       "    }\n",
       "\n",
       "    .dataframe thead th {\n",
       "        text-align: right;\n",
       "    }\n",
       "</style>\n",
       "<table border=\"1\" class=\"dataframe\">\n",
       "  <thead>\n",
       "    <tr style=\"text-align: right;\">\n",
       "      <th></th>\n",
       "      <th>CSN</th>\n",
       "      <th>Type</th>\n",
       "      <th>Segments</th>\n",
       "      <th>Duration</th>\n",
       "    </tr>\n",
       "  </thead>\n",
       "  <tbody>\n",
       "    <tr>\n",
       "      <th>58946</th>\n",
       "      <td>99016000</td>\n",
       "      <td>II</td>\n",
       "      <td>2</td>\n",
       "      <td>1166.926</td>\n",
       "    </tr>\n",
       "  </tbody>\n",
       "</table>\n",
       "</div>"
      ],
      "text/plain": [
       "            CSN Type  Segments  Duration\n",
       "58946  99016000   II         2  1166.926"
      ]
     },
     "execution_count": 5,
     "metadata": {},
     "output_type": "execute_result"
    }
   ],
   "source": [
    "waveform_summary[waveform_summary['CSN'] == Full_CSN]"
   ]
  },
  {
   "cell_type": "markdown",
   "id": "bb46bf67-1dd4-49c7-9d75-9f00651cbbff",
   "metadata": {},
   "source": [
    "## Waveform Data -- we use ECG\n",
    "The data are organized into compressed archives (waveforms_0xx.zip, waveforms_1xx.zip, etc.) based on the last three digits of each Visit ID (CSN). Each ZIP archive extracts to a nested folder structure:\n",
    "\n",
    "```\n",
    "    {CSN_suffix}/              # Folder named by last three digits of the CSN\n",
    "        {Full_CSN}/            # Folder named by the full CSN (visit identifier)\n",
    "            II/                # ECG waveform segments\n",
    "                {Full_CSN}_{segment_number}.dat\n",
    "                {Full_CSN}_{segment_number}.hea\n",
    "            Pleth/             # PPG waveform segments\n",
    "                {Full_CSN}_{segment_number}.dat\n",
    "                {Full_CSN}_{segment_number}.hea\n",
    "                ...\n",
    "            Resp/              # Respiration waveform segments\n",
    "                {Full_CSN}_{segment_number}.dat\n",
    "                {Full_CSN}_{segment_number}.hea\n",
    "```"
   ]
  },
  {
   "cell_type": "markdown",
   "id": "3e1a0483-c0d7-4174-9607-3b8838eaaba0",
   "metadata": {},
   "source": [
    "### Some pre-processing"
   ]
  },
  {
   "cell_type": "code",
   "execution_count": 29,
   "id": "b733e792-09b6-4316-8d8a-6d82d3cb769e",
   "metadata": {
    "scrolled": true
   },
   "outputs": [],
   "source": [
    "CSN_suffix = '000'\n",
    "waveform_type = 'II'\n",
    "records_path = f\"/tmp/mc-med-1.0.0/data/waveforms/{CSN_suffix}/RECORDS\"\n",
    "\n",
    "with open(records_path, \"r\") as f:\n",
    "    lines = f.read().split('\\n')\n",
    "\n",
    "segment_paths = [line for line in lines if waveform_type in line]\n",
    "# segment_paths"
   ]
  },
  {
   "cell_type": "code",
   "execution_count": 7,
   "id": "d2b24f95-42df-4077-afc4-2ee594a2c386",
   "metadata": {},
   "outputs": [
    {
     "name": "stdout",
     "output_type": "stream",
     "text": [
      "torch.Size([53])\n"
     ]
    },
    {
     "data": {
      "text/plain": [
       "tensor([99016000, 99056000, 99062000, 99082000, 99085000, 99090000, 99096000,\n",
       "        99110000, 99140000, 99153000, 99164000, 99180000, 99184000, 99260000,\n",
       "        99261000, 99327000, 99332000, 99339000, 99373000, 99386000, 99417000,\n",
       "        99423000, 99447000, 99474000, 99480000, 99485000, 99497000, 99499000,\n",
       "        99509000, 99528000, 99553000, 99569000, 99571000, 99632000, 99650000,\n",
       "        99660000, 99708000, 99713000, 99743000, 99761000, 99772000, 99782000,\n",
       "        99831000, 99848000, 99855000, 99865000, 99867000, 99879000, 99890000,\n",
       "        99896000, 99923000, 99982000, 99998000])"
      ]
     },
     "execution_count": 7,
     "metadata": {},
     "output_type": "execute_result"
    }
   ],
   "source": [
    "patient_ids = torch.tensor([int(segment_path[:8]) for segment_path in segment_paths]).unique()\n",
    "print(patient_ids.shape)\n",
    "patient_ids"
   ]
  },
  {
   "cell_type": "code",
   "execution_count": 30,
   "id": "6b7467be-483f-45bb-a957-99dc8cfa42f3",
   "metadata": {
    "scrolled": true
   },
   "outputs": [],
   "source": [
    "patients_segments_dict = {}\n",
    "\n",
    "for patient_id in patient_ids:\n",
    "    patients_segments_dict[patient_id.item()] = [segment_path for segment_path in segment_paths if int(segment_path[:8]) == patient_id.item()]\n",
    "\n",
    "# patients_segments_dict"
   ]
  },
  {
   "cell_type": "code",
   "execution_count": 31,
   "id": "5c246b3c-0ab4-404e-80f4-ed9b97994486",
   "metadata": {
    "scrolled": true
   },
   "outputs": [],
   "source": [
    "patients_records_dict = {}\n",
    "\n",
    "for patient_id in patients_segments_dict:\n",
    "    record_list = []\n",
    "    for segment_path in patients_segments_dict[patient_id]:\n",
    "        data_path = f\"/tmp/mc-med-1.0.0/data/waveforms/{CSN_suffix}/{segment_path}\"\n",
    "        # Read the record\n",
    "        record = wfdb.rdrecord(data_path)\n",
    "        record_list.append(record)\n",
    "    patients_records_dict[patient_id] = record_list\n",
    "\n",
    "# patients_records_dict"
   ]
  },
  {
   "cell_type": "markdown",
   "id": "016ef9f0-0aa2-48b6-93fc-2dacadc2947e",
   "metadata": {},
   "source": [
    "### ok we are ready to go!"
   ]
  },
  {
   "cell_type": "code",
   "execution_count": 20,
   "id": "65eb813a-80e3-430d-9c69-290105164484",
   "metadata": {},
   "outputs": [
    {
     "data": {
      "text/plain": [
       "[<wfdb.io.record.Record at 0x7f46f270e800>,\n",
       " <wfdb.io.record.Record at 0x7f46f270edd0>]"
      ]
     },
     "execution_count": 20,
     "metadata": {},
     "output_type": "execute_result"
    }
   ],
   "source": [
    "Full_CSN = 99016000 # Full_CSN is another name for patient_id\n",
    "\n",
    "patients_records_dict[Full_CSN]"
   ]
  },
  {
   "cell_type": "code",
   "execution_count": 21,
   "id": "62312b5f-3705-431b-9a5e-3d6c24a54a15",
   "metadata": {},
   "outputs": [
    {
     "name": "stdout",
     "output_type": "stream",
     "text": [
      "{'record_name': '99016000_1', 'n_sig': 1, 'fs': 500, 'counter_freq': None, 'base_counter': None, 'sig_len': 11089, 'base_time': datetime.time(6, 48, 20, 721000), 'base_date': datetime.date(2294, 9, 18), 'comments': [], 'sig_name': ['II'], 'p_signal': array([[-0.85953552],\n",
      "       [-0.85508197],\n",
      "       [-0.85953552],\n",
      "       ...,\n",
      "       [ 1.54092896],\n",
      "       [ 1.60995902],\n",
      "       [ 1.67008197]]), 'd_signal': None, 'e_p_signal': None, 'e_d_signal': None, 'file_name': ['99016000_1.dat'], 'fmt': ['212'], 'samps_per_frame': [1], 'skew': [None], 'byte_offset': [None], 'adc_gain': [449.079754601227], 'baseline': [149], 'units': ['mV'], 'adc_res': [12], 'adc_zero': [0], 'init_value': [-237], 'checksum': [12774], 'block_size': [0]}\n"
     ]
    }
   ],
   "source": [
    "record1 = patients_records_dict[Full_CSN][0]\n",
    "print(record1.__dict__)"
   ]
  },
  {
   "cell_type": "code",
   "execution_count": 25,
   "id": "7b90d881-cc7c-486f-baba-adf826e462ef",
   "metadata": {},
   "outputs": [
    {
     "name": "stdout",
     "output_type": "stream",
     "text": [
      "Start time: 06:48:20.721000\n",
      "End time: 07:49:33.625000\n"
     ]
    }
   ],
   "source": [
    "from datetime import datetime, timedelta\n",
    "\n",
    "start_dt = datetime.combine(datetime.today(), record1.base_time)\n",
    "duration_sec = record.sig_len / record.fs\n",
    "end_dt = start_dt + timedelta(seconds=duration_sec)\n",
    "\n",
    "print(\"Start time:\", record1.base_time)\n",
    "print(\"End time:\", end_dt.time())\n"
   ]
  },
  {
   "cell_type": "code",
   "execution_count": 23,
   "id": "60521fe2-c959-40d1-99cd-fdc27adbd089",
   "metadata": {},
   "outputs": [
    {
     "data": {
      "image/png": "[encoded data removed]",
      "text/plain": [
       "<Figure size 640x480 with 1 Axes>"
      ]
     },
     "metadata": {},
     "output_type": "display_data"
    }
   ],
   "source": [
    "wfdb.plot_wfdb(record=record1)"
   ]
  },
  {
   "cell_type": "code",
   "execution_count": 22,
   "id": "af215de0-e9f7-483b-a2ff-af3dc25fa620",
   "metadata": {},
   "outputs": [
    {
     "name": "stdout",
     "output_type": "stream",
     "text": [
      "{'record_name': '99016000_2', 'n_sig': 1, 'fs': 500, 'counter_freq': None, 'base_counter': None, 'sig_len': 572374, 'base_time': datetime.time(8, 19, 58, 121000), 'base_date': datetime.date(2294, 9, 18), 'comments': [], 'sig_name': ['II'], 'p_signal': array([[-0.01028235],\n",
      "       [-0.02523849],\n",
      "       [-0.01028235],\n",
      "       ...,\n",
      "       [-0.93475877],\n",
      "       [-0.87026042],\n",
      "       [-0.85997807]]), 'd_signal': None, 'e_p_signal': None, 'e_d_signal': None, 'file_name': ['99016000_2.dat'], 'fmt': ['212'], 'samps_per_frame': [1], 'skew': [None], 'byte_offset': [None], 'adc_gain': [1069.7947214076246], 'baseline': [-223], 'units': ['mV'], 'adc_res': [12], 'adc_zero': [0], 'init_value': [-234], 'checksum': [53235], 'block_size': [0]}\n"
     ]
    }
   ],
   "source": [
    "record2 = patients_records_dict[Full_CSN][1]\n",
    "print(record2.__dict__)"
   ]
  },
  {
   "cell_type": "code",
   "execution_count": 26,
   "id": "d19d9adb-695d-4d7b-9242-21f1223fb28b",
   "metadata": {},
   "outputs": [
    {
     "name": "stdout",
     "output_type": "stream",
     "text": [
      "Start time: 08:19:58.121000\n",
      "End time: 09:21:11.025000\n"
     ]
    }
   ],
   "source": [
    "from datetime import datetime, timedelta\n",
    "\n",
    "start_dt = datetime.combine(datetime.today(), record2.base_time)\n",
    "duration_sec = record.sig_len / record.fs\n",
    "end_dt = start_dt + timedelta(seconds=duration_sec)\n",
    "\n",
    "print(\"Start time:\", record2.base_time)\n",
    "print(\"End time:\", end_dt.time())\n"
   ]
  },
  {
   "cell_type": "code",
   "execution_count": 24,
   "id": "748d3fb3-096c-49bc-a3b3-4416f32c789f",
   "metadata": {},
   "outputs": [
    {
     "data": {
      "image/png": "[encoded data removed]",
      "text/plain": [
       "<Figure size 640x480 with 1 Axes>"
      ]
     },
     "metadata": {},
     "output_type": "display_data"
    }
   ],
   "source": [
    "wfdb.plot_wfdb(record=record2)"
   ]
  },
  {
   "cell_type": "code",
   "execution_count": 36,
   "id": "f32053d7-2b63-49d2-8d44-6fc4d7010b87",
   "metadata": {},
   "outputs": [
    {
     "name": "stdout",
     "output_type": "stream",
     "text": [
      "Signal shape: (11089, 1)\n",
      "Sampling Frequency: 500\n",
      "{'record_name': '99016000_1', 'n_sig': 1, 'fs': 500, 'counter_freq': None, 'base_counter': None, 'sig_len': 11089, 'base_time': datetime.time(6, 48, 20, 721000), 'base_date': datetime.date(2294, 9, 18), 'comments': [], 'sig_name': ['II'], 'p_signal': array([[-0.85953552],\n",
      "       [-0.85508197],\n",
      "       [-0.85953552],\n",
      "       ...,\n",
      "       [ 1.54092896],\n",
      "       [ 1.60995902],\n",
      "       [ 1.67008197]]), 'd_signal': None, 'e_p_signal': None, 'e_d_signal': None, 'file_name': ['99016000_1.dat'], 'fmt': ['212'], 'samps_per_frame': [1], 'skew': [None], 'byte_offset': [None], 'adc_gain': [449.079754601227], 'baseline': [149], 'units': ['mV'], 'adc_res': [12], 'adc_zero': [0], 'init_value': [-237], 'checksum': [12774], 'block_size': [0]}\n"
     ]
    }
   ],
   "source": [
    "# Read the record\n",
    "record = wfdb.rdrecord(ecg_waveform_data_path)\n",
    "\n",
    "# Access signal data\n",
    "signal = record.p_signal  # shape: (samples, channels)\n",
    "print(\"Signal shape:\", signal.shape)\n",
    "\n",
    "# Print sampling frequency and signal names\n",
    "print(\"Sampling Frequency:\", record.fs)\n",
    "# print(\"Signal Names:\", record.sig_name)\n",
    "\n",
    "# View metadata\n",
    "print(record.__dict__)"
   ]
  },
  {
   "cell_type": "code",
   "execution_count": 37,
   "id": "ca6cdf57-be3e-434d-9269-050ba61cbde4",
   "metadata": {},
   "outputs": [
    {
     "data": {
      "text/plain": [
       "dict_keys(['record_name', 'n_sig', 'fs', 'counter_freq', 'base_counter', 'sig_len', 'base_time', 'base_date', 'comments', 'sig_name', 'p_signal', 'd_signal', 'e_p_signal', 'e_d_signal', 'file_name', 'fmt', 'samps_per_frame', 'skew', 'byte_offset', 'adc_gain', 'baseline', 'units', 'adc_res', 'adc_zero', 'init_value', 'checksum', 'block_size'])"
      ]
     },
     "execution_count": 37,
     "metadata": {},
     "output_type": "execute_result"
    }
   ],
   "source": [
    "record.__dict__.keys()"
   ]
  },
  {
   "cell_type": "markdown",
   "id": "9b07100d-c432-4226-82a6-d6a7168a545d",
   "metadata": {},
   "source": [
    "### import alarm data"
   ]
  },
  {
   "cell_type": "code",
   "execution_count": 27,
   "id": "4808212f-5a64-4cfb-9d32-7d70b017f6bb",
   "metadata": {},
   "outputs": [],
   "source": [
    "import pandas as pd\n",
    "\n",
    "alarms_df = pd.read_parquet('../data/sick_time.parquet', engine='pyarrow') "
   ]
  },
  {
   "cell_type": "code",
   "execution_count": 28,
   "id": "0321dbc3-9b4a-402c-8783-80c7b59b0d37",
   "metadata": {},
   "outputs": [
    {
     "data": {
      "text/html": [
       "<div>\n",
       "<style scoped>\n",
       "    .dataframe tbody tr th:only-of-type {\n",
       "        vertical-align: middle;\n",
       "    }\n",
       "\n",
       "    .dataframe tbody tr th {\n",
       "        vertical-align: top;\n",
       "    }\n",
       "\n",
       "    .dataframe thead th {\n",
       "        text-align: right;\n",
       "    }\n",
       "</style>\n",
       "<table border=\"1\" class=\"dataframe\">\n",
       "  <thead>\n",
       "    <tr style=\"text-align: right;\">\n",
       "      <th></th>\n",
       "      <th>CSN</th>\n",
       "      <th>Alarm</th>\n",
       "    </tr>\n",
       "  </thead>\n",
       "  <tbody>\n",
       "    <tr>\n",
       "      <th>0</th>\n",
       "      <td>98974916</td>\n",
       "      <td>2288-12-08 10:17:39</td>\n",
       "    </tr>\n",
       "    <tr>\n",
       "      <th>1</th>\n",
       "      <td>98975250</td>\n",
       "      <td>2279-10-24 08:40:37</td>\n",
       "    </tr>\n",
       "    <tr>\n",
       "      <th>2</th>\n",
       "      <td>98982225</td>\n",
       "      <td>2238-07-19 10:31:15</td>\n",
       "    </tr>\n",
       "    <tr>\n",
       "      <th>3</th>\n",
       "      <td>98990360</td>\n",
       "      <td>2242-01-14 19:43:37</td>\n",
       "    </tr>\n",
       "    <tr>\n",
       "      <th>4</th>\n",
       "      <td>98995384</td>\n",
       "      <td>2276-05-18 10:59:45</td>\n",
       "    </tr>\n",
       "    <tr>\n",
       "      <th>...</th>\n",
       "      <td>...</td>\n",
       "      <td>...</td>\n",
       "    </tr>\n",
       "    <tr>\n",
       "      <th>438</th>\n",
       "      <td>99994144</td>\n",
       "      <td>2228-04-08 15:13:19</td>\n",
       "    </tr>\n",
       "    <tr>\n",
       "      <th>439</th>\n",
       "      <td>99995451</td>\n",
       "      <td>2273-04-24 12:04:55</td>\n",
       "    </tr>\n",
       "    <tr>\n",
       "      <th>440</th>\n",
       "      <td>99996003</td>\n",
       "      <td>2225-03-31 12:08:57</td>\n",
       "    </tr>\n",
       "    <tr>\n",
       "      <th>442</th>\n",
       "      <td>99997362</td>\n",
       "      <td>2205-12-12 16:44:12</td>\n",
       "    </tr>\n",
       "    <tr>\n",
       "      <th>443</th>\n",
       "      <td>99999769</td>\n",
       "      <td>2278-12-05 02:03:58</td>\n",
       "    </tr>\n",
       "  </tbody>\n",
       "</table>\n",
       "<p>425 rows × 2 columns</p>\n",
       "</div>"
      ],
      "text/plain": [
       "          CSN               Alarm\n",
       "0    98974916 2288-12-08 10:17:39\n",
       "1    98975250 2279-10-24 08:40:37\n",
       "2    98982225 2238-07-19 10:31:15\n",
       "3    98990360 2242-01-14 19:43:37\n",
       "4    98995384 2276-05-18 10:59:45\n",
       "..        ...                 ...\n",
       "438  99994144 2228-04-08 15:13:19\n",
       "439  99995451 2273-04-24 12:04:55\n",
       "440  99996003 2225-03-31 12:08:57\n",
       "442  99997362 2205-12-12 16:44:12\n",
       "443  99999769 2278-12-05 02:03:58\n",
       "\n",
       "[425 rows x 2 columns]"
      ]
     },
     "execution_count": 28,
     "metadata": {},
     "output_type": "execute_result"
    }
   ],
   "source": [
    "alarms_df"
   ]
  },
  {
   "cell_type": "code",
   "execution_count": 13,
   "id": "f47d8f5e-d3f8-4ba3-b803-acc248a3b3d5",
   "metadata": {},
   "outputs": [
    {
     "data": {
      "text/plain": [
       "99016000"
      ]
     },
     "execution_count": 13,
     "metadata": {},
     "output_type": "execute_result"
    }
   ],
   "source": [
    "Full_CSN"
   ]
  },
  {
   "cell_type": "code",
   "execution_count": 12,
   "id": "73071869-956a-4e7e-af61-7f1a1d52f942",
   "metadata": {},
   "outputs": [
    {
     "data": {
      "text/html": [
       "<div>\n",
       "<style scoped>\n",
       "    .dataframe tbody tr th:only-of-type {\n",
       "        vertical-align: middle;\n",
       "    }\n",
       "\n",
       "    .dataframe tbody tr th {\n",
       "        vertical-align: top;\n",
       "    }\n",
       "\n",
       "    .dataframe thead th {\n",
       "        text-align: right;\n",
       "    }\n",
       "</style>\n",
       "<table border=\"1\" class=\"dataframe\">\n",
       "  <thead>\n",
       "    <tr style=\"text-align: right;\">\n",
       "      <th></th>\n",
       "      <th>CSN</th>\n",
       "      <th>Alarm</th>\n",
       "    </tr>\n",
       "  </thead>\n",
       "  <tbody>\n",
       "  </tbody>\n",
       "</table>\n",
       "</div>"
      ],
      "text/plain": [
       "Empty DataFrame\n",
       "Columns: [CSN, Alarm]\n",
       "Index: []"
      ]
     },
     "execution_count": 12,
     "metadata": {},
     "output_type": "execute_result"
    }
   ],
   "source": [
    "df[df['CSN'] == Full_CSN]"
   ]
  }
 ],
 "metadata": {
  "kernelspec": {
   "display_name": "Python 3 (ipykernel)",
   "language": "python",
   "name": "python3"
  },
  "language_info": {
   "codemirror_mode": {
    "name": "ipython",
    "version": 3
   },
   "file_extension": ".py",
   "mimetype": "text/x-python",
   "name": "python",
   "nbconvert_exporter": "python",
   "pygments_lexer": "ipython3",
   "version": "3.10.16"
  }
 },
 "nbformat": 4,
 "nbformat_minor": 5
}
