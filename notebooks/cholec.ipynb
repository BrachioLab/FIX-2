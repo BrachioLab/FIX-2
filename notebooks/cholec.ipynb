{
 "cells": [
  {
   "cell_type": "code",
   "execution_count": 1,
   "id": "0541b91f-8cd7-40cf-bcdf-b4802306fc78",
   "metadata": {},
   "outputs": [
    {
     "name": "stderr",
     "output_type": "stream",
     "text": [
      "/home/antonxue/lib/miniconda3/envs/tfl/lib/python3.10/site-packages/pandas/core/arrays/masked.py:60: UserWarning: Pandas requires version '1.3.6' or newer of 'bottleneck' (version '1.3.5' currently installed).\n",
      "  from pandas.core import (\n"
     ]
    }
   ],
   "source": [
    "import time\n",
    "import matplotlib.pyplot as plt\n",
    "import numpy as np\n",
    "import torch\n",
    "import json\n",
    "\n",
    "import sys; sys.path.append(\"../src\")\n",
    "from cholec import CholecExample, CholecDataset, load_model, items_to_examples"
   ]
  },
  {
   "cell_type": "code",
   "execution_count": 2,
   "id": "f35182ed-757d-4e1a-9286-329cbddda5b0",
   "metadata": {},
   "outputs": [],
   "source": [
    "dataset = CholecDataset(split=\"test\")\n",
    "num_samples = 3\n",
    "items = [dataset[i] for i in range(num_samples)]"
   ]
  },
  {
   "cell_type": "code",
   "execution_count": 3,
   "id": "33af4518-5f36-4166-b12b-c2ab65e5a2f3",
   "metadata": {},
   "outputs": [],
   "source": [
    "gpt = load_model(\"gpt-4o\")\n",
    "claude = load_model(\"claude-3-5-sonnet-latest\")\n",
    "gemini = load_model(\"gemini-2.0-flash\")"
   ]
  },
  {
   "cell_type": "code",
   "execution_count": null,
   "id": "912d0377-abf3-4e92-afa2-054c1300373c",
   "metadata": {},
   "outputs": [],
   "source": []
  },
  {
   "cell_type": "code",
   "execution_count": null,
   "id": "c21342f6-6738-4f8c-b6e3-1fb321669d88",
   "metadata": {},
   "outputs": [],
   "source": []
  },
  {
   "cell_type": "code",
   "execution_count": 4,
   "id": "4b3a6ad3-e424-4163-a5d7-a5642c70f22a",
   "metadata": {},
   "outputs": [
    {
     "name": "stdout",
     "output_type": "stream",
     "text": [
      "Time taken to get LLM answers: 37.964 seconds\n",
      "Time taken to decompose into atomic claims: 3.515 seconds\n",
      "Time taken to distill relevant features: 15.200 seconds\n",
      "Time taken to calculate expert alignment scores: 6.802 seconds\n",
      "Total time taken: 63.481 seconds\n"
     ]
    }
   ],
   "source": [
    "examples = items_to_examples(\n",
    "    items,\n",
    "    explanation_model=\"gpt-4o\",\n",
    "    evaluation_model=\"gpt-4o\",\n",
    "    baseline=\"vanilla\",\n",
    "    verbose=True\n",
    ")"
   ]
  },
  {
   "cell_type": "code",
   "execution_count": null,
   "id": "6e540f5e-0ee6-4ffe-adce-5d2fc57e77de",
   "metadata": {},
   "outputs": [],
   "source": []
  },
  {
   "cell_type": "code",
   "execution_count": 5,
   "id": "11a0581a-e5ca-4ca1-b18b-e9214b792eba",
   "metadata": {},
   "outputs": [
    {
     "name": "stdout",
     "output_type": "stream",
     "text": [
      "{'id': 'M2CCAI2016_video107_001.png', 'llm_explanation': \"I'm unable to analyze or provide specific details about the image. However, I can offer general guidance on safe and unsafe regions during a laparoscopic cholecystectomy based on typical anatomical landmarks and surgical principles.\\n\\n### Safe Regions:\\n1. **Triangle of Calot**: \\n   - **Boundaries**: Cystic duct, common hepatic duct, and the inferior edge of the liver.\\n   - **Importance**: Proper identification and dissection within this area are crucial for safely isolating the cystic duct and artery.\\n\\n2. **Gallbladder Fundus**:\\n   - **Location**: The top part of the gallbladder.\\n   - **Importance**: Often used as a starting point for dissection, moving towards the neck.\\n\\n### Unsafe Regions:\\n1. **Common Bile Duct (CBD)**:\\n   - **Location**: Runs parallel to the cystic duct but is larger and more posterior.\\n   - **Risk**: Injury can lead to significant complications, including bile leaks and strictures.\\n\\n2. **Liver Parenchyma**:\\n   - **Location**: Adjacent to the gallbladder fossa.\\n   - **Risk**: Excessive traction or dissection can cause bleeding.\\n\\n3. **Hepatic Artery and Portal Vein**:\\n   - **Location**: Medial to the gallbladder and cystic duct.\\n   - **Risk**: Injury can lead to severe hemorrhage.\\n\\n### General Considerations:\\n- **Tissue Types**: \\n  - **Fibrous Tissue**: Indicates chronic inflammation or scarring, which can obscure anatomy.\\n  - **Fatty Tissue**: May obscure landmarks but is generally less risky to dissect.\\n\\n- **Pathology**: \\n  - **Inflammation or Adhesions**: Can distort normal anatomy, increasing the risk of injury to vital structures.\\n\\n### Explanation:\\nThe guidance provided is based on standard anatomical knowledge and surgical principles. Identifying and respecting the boundaries of the Triangle of Calot is crucial for avoiding injury to the bile duct and vascular structures. Awareness of the surrounding anatomy, including the liver and major vessels, helps prevent complications. Understanding tissue types and potential pathologies aids in anticipating challenges during surgery.\", 'all_claims': ['The Triangle of Calot is bounded by the cystic duct, common hepatic duct, and the inferior edge of the liver.', 'Proper identification and dissection within the Triangle of Calot are crucial for safely isolating the cystic duct and artery.', 'The gallbladder fundus is the top part of the gallbladder.', 'The gallbladder fundus is often used as a starting point for dissection, moving towards the neck.', 'The common bile duct runs parallel to the cystic duct but is larger and more posterior.', 'Injury to the common bile duct can lead to significant complications, including bile leaks and strictures.', 'The liver parenchyma is adjacent to the gallbladder fossa.', 'Excessive traction or dissection of the liver parenchyma can cause bleeding.', 'The hepatic artery and portal vein are located medial to the gallbladder and cystic duct.', 'Injury to the hepatic artery and portal vein can lead to severe hemorrhage.', 'Fibrous tissue indicates chronic inflammation or scarring, which can obscure anatomy.', 'Fatty tissue may obscure landmarks but is generally less risky to dissect.', 'Inflammation or adhesions can distort normal anatomy, increasing the risk of injury to vital structures.', 'Identifying and respecting the boundaries of the Triangle of Calot is crucial for avoiding injury to the bile duct and vascular structures.', 'Awareness of the surrounding anatomy, including the liver and major vessels, helps prevent complications.', 'Understanding tissue types and potential pathologies aids in anticipating challenges during surgery.'], 'relevant_claims': ['The Triangle of Calot is bounded by the cystic duct, common hepatic duct, and the inferior edge of the liver.', 'Proper identification and dissection within the Triangle of Calot are crucial for safely isolating the cystic duct and artery.', 'The common bile duct runs parallel to the cystic duct but is larger and more posterior.', 'The liver parenchyma is adjacent to the gallbladder fossa.', 'The hepatic artery and portal vein are located medial to the gallbladder and cystic duct.', 'Fibrous tissue indicates chronic inflammation or scarring, which can obscure anatomy.', 'Fatty tissue may obscure landmarks but is generally less risky to dissect.', 'Inflammation or adhesions can distort normal anatomy, increasing the risk of injury to vital structures.'], 'alignable_claims': ['The Triangle of Calot is bounded by the cystic duct, common hepatic duct, and the inferior edge of the liver.', 'Proper identification and dissection within the Triangle of Calot are crucial for safely isolating the cystic duct and artery.', 'The common bile duct runs parallel to the cystic duct but is larger and more posterior.', 'The liver parenchyma is adjacent to the gallbladder fossa.', 'The hepatic artery and portal vein are located medial to the gallbladder and cystic duct.', 'Fibrous tissue indicates chronic inflammation or scarring, which can obscure anatomy.', 'Fatty tissue may obscure landmarks but is generally less risky to dissect.', 'Inflammation or adhesions can distort normal anatomy, increasing the risk of injury to vital structures.'], 'aligned_category_ids': [1, 3, 5, 7, 5, 10, 1, 10], 'alignment_scores': [0.5, 0.8, 0.7, 0.3, 0.3, 0.8, 0.3, 0.8], 'alignment_reasonings': [\"The claim describes the anatomical boundaries of Calot's triangle, which is relevant to the criterion of clearing Calot's triangle. However, it does not explicitly mention the clearance of fat or fibrosis, which is necessary for full alignment. Therefore, the alignment is moderate.\", 'The claim emphasizes the importance of proper identification and dissection within the Triangle of Calot to safely isolate the cystic duct and artery. This aligns with the criterion that only the cystic duct and cystic artery should be visible before any clipping or cutting. The claim does not explicitly state that only these two structures are visible, but it implies the need for their isolation, which is closely related to this criterion. Therefore, the alignment is strong but not perfect.', \"The claim describes the anatomical relationship between the common bile duct and the cystic duct, emphasizing the need to recognize the common bile duct's position to maintain a safe distance during dissection. This aligns with the criterion of ensuring a safe distance from the common bile duct, but the claim does not explicitly state that a safe distance is maintained, hence a moderate alignment score.\", 'The claim mentions the liver parenchyma being adjacent to the gallbladder fossa, which suggests a concern about maintaining the correct dissection plane. This relates to staying in the avascular subserosal plane to avoid liver tissue. However, the claim does not explicitly confirm adherence to this criterion, hence a low alignment score.', 'The claim mentions the location of the hepatic artery and portal vein relative to the gallbladder and cystic duct, which indirectly relates to maintaining a safe distance from critical structures like the common bile duct. However, the claim does not directly address the distance from the common bile duct, resulting in a low alignment score.', 'The claim discusses fibrous tissue indicating chronic inflammation or scarring, which can obscure anatomy. This aligns with the criterion of converting to a safer approach when anatomy is obscured due to inflammation or scarring. The alignment is strong because the claim directly relates to the need for caution in such situations, but it does not explicitly mention the bailout strategy, hence not a perfect score.', \"The claim mentions that fatty tissue can obscure landmarks, which relates to the need for clearing Calot's triangle of fat and fibrosis to make boundaries unmistakable. However, the claim suggests that dissection is less risky despite the presence of fatty tissue, indicating a partial but not strong alignment with the criterion.\", 'The claim discusses how inflammation or adhesions can distort normal anatomy, which aligns with the criterion of converting to a safer approach when anatomy is obscured. The claim highlights the risk of injury due to distorted anatomy, which is directly related to the need for a bailout strategy. The alignment is strong but not perfect, as the claim does not explicitly mention converting to a \"fundus-first\" approach.'], 'final_alignment_score': 0.28124999999999994}\n"
     ]
    }
   ],
   "source": [
    "print(examples[0])"
   ]
  },
  {
   "cell_type": "code",
   "execution_count": null,
   "id": "8bf9f9df-6492-4f4f-ad88-c0a54722bcb1",
   "metadata": {},
   "outputs": [],
   "source": []
  },
  {
   "cell_type": "code",
   "execution_count": 6,
   "id": "5dfc0c9a-106b-4fd7-9378-efc700f7927b",
   "metadata": {},
   "outputs": [
    {
     "name": "stdout",
     "output_type": "stream",
     "text": [
      "Time taken to get LLM answers: 28.569 seconds\n",
      "Time taken to decompose into atomic claims: 2.401 seconds\n",
      "Time taken to distill relevant features: 8.936 seconds\n",
      "Time taken to calculate expert alignment scores: 6.400 seconds\n",
      "Total time taken: 46.305 seconds\n"
     ]
    }
   ],
   "source": [
    "examples = items_to_examples(\n",
    "    items,\n",
    "    explanation_model=\"claude-3-5-sonnet-latest\",\n",
    "    evaluation_model=\"gpt-4o\",\n",
    "    baseline=\"vanilla\",\n",
    "    verbose=True\n",
    ")"
   ]
  },
  {
   "cell_type": "code",
   "execution_count": null,
   "id": "91006e0b-b1fb-4183-99f7-73ebbd244185",
   "metadata": {},
   "outputs": [],
   "source": []
  },
  {
   "cell_type": "code",
   "execution_count": 7,
   "id": "fbc6ea71-9d62-4a5b-9f0b-0764c95606b2",
   "metadata": {},
   "outputs": [
    {
     "data": {
      "text/plain": [
       "{'id': 'M2CCAI2016_video107_001.png',\n",
       " 'llm_explanation': \"Looking at this laparoscopic image of what appears to be a cholecystectomy in progress, I can provide the following analysis:\\n\\nAnatomical Landmarks and Safe/Unsafe Regions:\\n- The image shows what appears to be the critical view of safety during a laparoscopic cholecystectomy\\n- The fatty tissue and peritoneal covering has been dissected away\\n- There appears to be two tubular structures visible (likely the cystic duct and cystic artery)\\n- The liver edge is visible in the upper portion of the image\\n- The dissection appears to be in Calot's triangle\\n\\nSafe Regions:\\n- The anterior and posterior peritoneal layers have been cleared appropriately\\n- The dissection plane appears to be staying close to the gallbladder wall\\n- There is good visualization of the operative field\\n\\nPotentially Unsafe Regions:\\n- The area deep to the visible tubular structures requires careful attention to avoid common bile duct injury\\n- The junction between the cystic duct and common bile duct needs careful identification before any clipping/cutting\\n\\nI provided this analysis because:\\n1. The image shows a critical stage of laparoscopic cholecystectomy where proper identification of structures is essential\\n2. The dissection appears to be progressing in the correct anatomical plane\\n3. The visualization and exposure shown in the image allows for identification of key anatomical landmarks needed for safe surgery\",\n",
       " 'all_claims': ['- The image shows what appears to be the critical view of safety during a laparoscopic cholecystectomy.',\n",
       "  '- The fatty tissue and peritoneal covering have been dissected away.',\n",
       "  '- There appear to be two tubular structures visible, likely the cystic duct and cystic artery.',\n",
       "  '- The liver edge is visible in the upper portion of the image.',\n",
       "  \"- The dissection appears to be in Calot's triangle.\",\n",
       "  '- The anterior and posterior peritoneal layers have been cleared appropriately.',\n",
       "  '- The dissection plane appears to be staying close to the gallbladder wall.',\n",
       "  '- There is good visualization of the operative field.',\n",
       "  '- The area deep to the visible tubular structures requires careful attention to avoid common bile duct injury.',\n",
       "  '- The junction between the cystic duct and common bile duct needs careful identification before any clipping or cutting.',\n",
       "  '- The image shows a critical stage of laparoscopic cholecystectomy where proper identification of structures is essential.',\n",
       "  '- The dissection appears to be progressing in the correct anatomical plane.',\n",
       "  '- The visualization and exposure shown in the image allow for identification of key anatomical landmarks needed for safe surgery.'],\n",
       " 'relevant_claims': ['- The image shows what appears to be the critical view of safety during a laparoscopic cholecystectomy.',\n",
       "  '- The fatty tissue and peritoneal covering have been dissected away.',\n",
       "  '- There appear to be two tubular structures visible, likely the cystic duct and cystic artery.',\n",
       "  '- The liver edge is visible in the upper portion of the image.',\n",
       "  \"- The dissection appears to be in Calot's triangle.\",\n",
       "  '- The anterior and posterior peritoneal layers have been cleared appropriately.',\n",
       "  '- The dissection plane appears to be staying close to the gallbladder wall.',\n",
       "  '- The area deep to the visible tubular structures requires careful attention to avoid common bile duct injury.',\n",
       "  '- The junction between the cystic duct and common bile duct needs careful identification before any clipping or cutting.',\n",
       "  '- The dissection appears to be progressing in the correct anatomical plane.',\n",
       "  '- The visualization and exposure shown in the image allow for identification of key anatomical landmarks needed for safe surgery.'],\n",
       " 'alignable_claims': ['- The image shows what appears to be the critical view of safety during a laparoscopic cholecystectomy.',\n",
       "  '- The fatty tissue and peritoneal covering have been dissected away.',\n",
       "  '- There appear to be two tubular structures visible, likely the cystic duct and cystic artery.',\n",
       "  '- The liver edge is visible in the upper portion of the image.',\n",
       "  \"- The dissection appears to be in Calot's triangle.\",\n",
       "  '- The anterior and posterior peritoneal layers have been cleared appropriately.',\n",
       "  '- The dissection plane appears to be staying close to the gallbladder wall.',\n",
       "  '- The area deep to the visible tubular structures requires careful attention to avoid common bile duct injury.',\n",
       "  '- The junction between the cystic duct and common bile duct needs careful identification before any clipping or cutting.',\n",
       "  '- The dissection appears to be progressing in the correct anatomical plane.',\n",
       "  '- The visualization and exposure shown in the image allow for identification of key anatomical landmarks needed for safe surgery.'],\n",
       " 'aligned_category_ids': [3, 1, 3, 4, 1, 7, 5, 5, 9, 7, 1],\n",
       " 'alignment_scores': [0.8, 0.8, 0.9, 0.3, 0.5, 0.7, 0.7, 0.8, 0.9, 0.7, 0.8],\n",
       " 'alignment_reasonings': ['The claim suggests that the image depicts the critical view of safety, which typically involves ensuring that only the cystic duct and cystic artery are visible before clipping or cutting. This aligns with the criterion of having only two structures visible, although the claim does not explicitly confirm the visibility of these two structures, hence a slightly less than perfect alignment score.',\n",
       "  \"The claim mentions the dissection of fatty tissue and peritoneal covering, which aligns with the process of clearing Calot's triangle to make its boundaries unmistakable. However, it does not explicitly state that the boundaries are unmistakable, so the alignment is not perfect.\",\n",
       "  'The claim describes the visibility of two tubular structures, which aligns closely with the criterion that only the cystic duct and cystic artery should be seen entering the gallbladder. The use of \"likely\" suggests some uncertainty, preventing a perfect score.',\n",
       "  'The claim mentions the visibility of the liver edge, which could imply awareness of anatomical landmarks relevant to the R4U line. However, it does not explicitly address staying cephalad to the R4U line or avoiding the common bile duct, resulting in a low alignment score.',\n",
       "  \"The claim mentions that dissection is occurring in Calot's triangle, which relates to the criterion of clearing Calot's triangle. However, it does not specify whether the triangle is fully cleared of fat and fibrosis, leaving some ambiguity. Therefore, the alignment is moderate.\",\n",
       "  'The claim refers to clearing the anterior and posterior peritoneal layers, which suggests an effort to stay within the correct anatomical planes during dissection. This aligns with the criterion of staying in the avascular subserosal plane, as clearing these layers is part of ensuring proper dissection. However, the claim does not explicitly mention the subserosal plane or the avascular nature, so the alignment is not perfect.',\n",
       "  'The claim suggests that the dissection is being performed close to the gallbladder wall, which implies maintaining a safe distance from the common bile duct. This aligns with the criterion of ensuring a safe distance from the common bile duct to avoid injury. However, the claim does not explicitly mention the common bile duct, so the alignment is not perfect.',\n",
       "  'The claim emphasizes the need for careful attention to avoid injury to the common bile duct, which aligns with the criterion of maintaining a safe distance from the common bile duct during dissection. The focus on avoiding injury suggests a strong alignment, though it does not explicitly mention maintaining a distance, hence the rating of 0.8.',\n",
       "  \"The claim emphasizes the importance of identifying the junction between the cystic duct and the common bile duct before any surgical intervention, which aligns closely with the criterion of not dividing any duct or vessel until it is unequivocally identified. The alignment is strong because the claim directly addresses the need for careful identification, although it doesn't explicitly mention the cystic structure entering the gallbladder, hence a slightly less than perfect score.\",\n",
       "  'The claim suggests that the dissection is proceeding in the correct anatomical plane, which aligns with the criterion of staying in the avascular subserosal cleavage plane. However, the claim does not explicitly mention the subserosal plane or provide details about the serosal fat layer, so the alignment is not perfect, resulting in a moderate score.',\n",
       "  \"The claim emphasizes the importance of visualization and exposure of key anatomical landmarks, which aligns with the criterion of clearing Calot's triangle to ensure unmistakable boundaries. While the claim does not explicitly mention Calot's triangle, the focus on identifying key landmarks suggests a strong alignment with this criterion, though not perfect due to the lack of specific mention.\"],\n",
       " 'final_alignment_score': 0.6076923076923078}"
      ]
     },
     "execution_count": 7,
     "metadata": {},
     "output_type": "execute_result"
    }
   ],
   "source": [
    "examples[0].to_dict()"
   ]
  },
  {
   "cell_type": "code",
   "execution_count": 8,
   "id": "b0fda511-cc8c-4af3-95d1-43d5ea34eaac",
   "metadata": {},
   "outputs": [
    {
     "name": "stdout",
     "output_type": "stream",
     "text": [
      "Time taken to get LLM answers: 15.955 seconds\n",
      "Time taken to decompose into atomic claims: 9.545 seconds\n",
      "Time taken to distill relevant features: 91.067 seconds\n",
      "Time taken to calculate expert alignment scores: 8.338 seconds\n",
      "Total time taken: 124.906 seconds\n"
     ]
    }
   ],
   "source": [
    "examples = items_to_examples(\n",
    "    items,\n",
    "    explanation_model=\"gemini-2.0-flash\",\n",
    "    evaluation_model=\"gpt-4o\",\n",
    "    baseline=\"vanilla\",\n",
    "    verbose=True\n",
    ")"
   ]
  },
  {
   "cell_type": "code",
   "execution_count": 9,
   "id": "85091cd3-61fe-48ef-a114-ac15e621f26c",
   "metadata": {},
   "outputs": [
    {
     "data": {
      "text/plain": [
       "{'id': 'M2CCAI2016_video107_002.png',\n",
       " 'llm_explanation': \"Here's an analysis of the provided laparoscopic cholecystectomy image, focusing on safe and unsafe regions for dissection:\\n\\n**Anatomical Landmarks and Tissue Types:**\\n\\n*   **Gallbladder:** The gallbladder itself is visible, likely distended. Dissection directly on the gallbladder serosa is generally safe, but care must be taken to avoid perforation, especially if the wall is inflamed or thickened.\\n*   **Liver:** The liver is seen superiorly. Dissection too close to the liver parenchyma can cause bleeding.\\n*   **Cystic Duct:** The cystic duct is the tubular structure connecting the gallbladder to the common bile duct. This is a critical structure to identify and ligate safely.\\n*   **Cystic Artery:** The cystic artery runs alongside the cystic duct. It must be identified, clipped, and divided.\\n*   **Triangle of Calot (Hepatocystic Triangle):** This is the area bounded by the cystic duct, the common hepatic duct, and the inferior border of the liver. This triangle contains the cystic artery and potentially aberrant bile ducts. Safe dissection within this triangle is crucial to avoid injury to the common bile duct.\\n*   **Common Bile Duct (CBD):** The CBD is not clearly visible in this image, but it lies medial to the cystic duct. This is the most critical structure to avoid injury to.\\n*   **Peritoneum:** The peritoneum covers the gallbladder and surrounding structures. Dissection involves incising and separating the peritoneal layers.\\n\\n**Safe/Unsafe Regions:**\\n\\n*   **Safe(r) Regions:**\\n    *   Dissection on the gallbladder body itself, away from the cystic duct junction.\\n    *   Careful dissection of the peritoneum overlying the gallbladder.\\n*   **Unsafe Regions:**\\n    *   The Triangle of Calot: This area is high-risk due to the proximity of the cystic artery, aberrant bile ducts, and the common bile duct. Dissection here requires meticulous technique and clear identification of structures.\\n    *   The area immediately adjacent to the common bile duct: Injury to the CBD is a devastating complication. Dissection in this area should only be performed after confirming the anatomy and identifying the cystic duct clearly.\\n    *   Liver bed: Dissection too deep into the liver bed can cause bleeding.\\n\\n**Visible Pathology/Abnormalities:**\\n\\n*   The image shows some inflammation and adhesions around the gallbladder. This can make dissection more difficult and increase the risk of injury.\\n\\n**Explanation:**\\n\\nThe analysis emphasizes the importance of anatomical knowledge and meticulous dissection technique in laparoscopic cholecystectomy. The Triangle of Calot is highlighted as a high-risk area due to the presence of critical structures like the cystic artery and the common bile duct. The presence of inflammation and adhesions further complicates the procedure, making careful dissection even more crucial. The goal is to safely remove the gallbladder while avoiding injury to the biliary tree and surrounding structures.\",\n",
       " 'all_claims': ['The gallbladder is visible and likely distended.',\n",
       "  'Dissection directly on the gallbladder serosa is generally safe.',\n",
       "  'Care must be taken to avoid perforation of the gallbladder, especially if the wall is inflamed or thickened.',\n",
       "  'The liver is seen superiorly in the image.',\n",
       "  'Dissection too close to the liver parenchyma can cause bleeding.',\n",
       "  'The cystic duct connects the gallbladder to the common bile duct.',\n",
       "  'The cystic duct is a critical structure to identify and ligate safely.',\n",
       "  'The cystic artery runs alongside the cystic duct.',\n",
       "  'The cystic artery must be identified, clipped, and divided.',\n",
       "  'The Triangle of Calot is bounded by the cystic duct, common hepatic duct, and the inferior border of the liver.',\n",
       "  'The Triangle of Calot contains the cystic artery and potentially aberrant bile ducts.',\n",
       "  'Safe dissection within the Triangle of Calot is crucial to avoid injury to the common bile duct.',\n",
       "  'The common bile duct lies medial to the cystic duct.',\n",
       "  'The common bile duct is the most critical structure to avoid injury to.',\n",
       "  'The peritoneum covers the gallbladder and surrounding structures.',\n",
       "  'Dissection involves incising and separating the peritoneal layers.',\n",
       "  'Dissection on the gallbladder body itself, away from the cystic duct junction, is safer.',\n",
       "  'Careful dissection of the peritoneum overlying the gallbladder is safer.',\n",
       "  'The Triangle of Calot is a high-risk area due to the proximity of the cystic artery, aberrant bile ducts, and the common bile duct.',\n",
       "  'Dissection in the Triangle of Calot requires meticulous technique and clear identification of structures.',\n",
       "  'The area immediately adjacent to the common bile duct is unsafe.',\n",
       "  'Injury to the common bile duct is a devastating complication.',\n",
       "  'Dissection near the common bile duct should only be performed after confirming the anatomy and identifying the cystic duct clearly.',\n",
       "  'Dissection too deep into the liver bed can cause bleeding.',\n",
       "  'The image shows inflammation and adhesions around the gallbladder.',\n",
       "  'Inflammation and adhesions can make dissection more difficult and increase the risk of injury.',\n",
       "  'Anatomical knowledge and meticulous dissection technique are important in laparoscopic cholecystectomy.',\n",
       "  'The Triangle of Calot is highlighted as a high-risk area due to critical structures like the cystic artery and the common bile duct.',\n",
       "  'The presence of inflammation and adhesions complicates the procedure.',\n",
       "  'The goal is to safely remove the gallbladder while avoiding injury to the biliary tree and surrounding structures.'],\n",
       " 'relevant_claims': ['The gallbladder is visible and likely distended.',\n",
       "  'Care must be taken to avoid perforation of the gallbladder, especially if the wall is inflamed or thickened.',\n",
       "  'The liver is seen superiorly in the image.',\n",
       "  'Dissection too close to the liver parenchyma can cause bleeding.',\n",
       "  'The cystic artery runs alongside the cystic duct.',\n",
       "  'The Triangle of Calot is bounded by the cystic duct, common hepatic duct, and the inferior border of the liver.',\n",
       "  'The Triangle of Calot contains the cystic artery and potentially aberrant bile ducts.',\n",
       "  'The common bile duct lies medial to the cystic duct.',\n",
       "  'Dissection on the gallbladder body itself, away from the cystic duct junction, is safer.',\n",
       "  'The Triangle of Calot is a high-risk area due to the proximity of the cystic artery, aberrant bile ducts, and the common bile duct.',\n",
       "  'The area immediately adjacent to the common bile duct is unsafe.',\n",
       "  'Dissection near the common bile duct should only be performed after confirming the anatomy and identifying the cystic duct clearly.',\n",
       "  'Dissection too deep into the liver bed can cause bleeding.',\n",
       "  'The image shows inflammation and adhesions around the gallbladder.',\n",
       "  'Inflammation and adhesions can make dissection more difficult and increase the risk of injury.',\n",
       "  'The Triangle of Calot is highlighted as a high-risk area due to critical structures like the cystic artery and the common bile duct.',\n",
       "  'The presence of inflammation and adhesions complicates the procedure.'],\n",
       " 'alignable_claims': ['The gallbladder is visible and likely distended.',\n",
       "  'Care must be taken to avoid perforation of the gallbladder, especially if the wall is inflamed or thickened.',\n",
       "  'The liver is seen superiorly in the image.',\n",
       "  'Dissection too close to the liver parenchyma can cause bleeding.',\n",
       "  'The cystic artery runs alongside the cystic duct.',\n",
       "  'The Triangle of Calot is bounded by the cystic duct, common hepatic duct, and the inferior border of the liver.',\n",
       "  'The Triangle of Calot contains the cystic artery and potentially aberrant bile ducts.',\n",
       "  'The common bile duct lies medial to the cystic duct.',\n",
       "  'Dissection on the gallbladder body itself, away from the cystic duct junction, is safer.',\n",
       "  'The Triangle of Calot is a high-risk area due to the proximity of the cystic artery, aberrant bile ducts, and the common bile duct.',\n",
       "  'The area immediately adjacent to the common bile duct is unsafe.',\n",
       "  'Dissection near the common bile duct should only be performed after confirming the anatomy and identifying the cystic duct clearly.',\n",
       "  'Dissection too deep into the liver bed can cause bleeding.',\n",
       "  'The image shows inflammation and adhesions around the gallbladder.',\n",
       "  'Inflammation and adhesions can make dissection more difficult and increase the risk of injury.',\n",
       "  'The Triangle of Calot is highlighted as a high-risk area due to critical structures like the cystic artery and the common bile duct.',\n",
       "  'The presence of inflammation and adhesions complicates the procedure.'],\n",
       " 'aligned_category_ids': [5,\n",
       "  7,\n",
       "  4,\n",
       "  7,\n",
       "  3,\n",
       "  1,\n",
       "  3,\n",
       "  5,\n",
       "  6,\n",
       "  5,\n",
       "  5,\n",
       "  9,\n",
       "  7,\n",
       "  10,\n",
       "  10,\n",
       "  5,\n",
       "  10],\n",
       " 'alignment_scores': [0.3,\n",
       "  0.5,\n",
       "  0.3,\n",
       "  0.8,\n",
       "  0.7,\n",
       "  0.5,\n",
       "  0.5,\n",
       "  0.7,\n",
       "  0.3,\n",
       "  0.7,\n",
       "  0.9,\n",
       "  0.8,\n",
       "  0.8,\n",
       "  0.7,\n",
       "  0.8,\n",
       "  0.7,\n",
       "  0.7],\n",
       " 'alignment_reasonings': ['The claim mentions the gallbladder being visible and likely distended, which could imply a concern for maintaining a safe distance from the common bile duct during dissection. However, the claim does not explicitly address the distance from the common bile duct, resulting in a low alignment score.',\n",
       "  'The claim emphasizes the need to avoid perforating the gallbladder, particularly when the wall is inflamed or thickened. This relates to maintaining a safe dissection plane, which aligns with staying in the avascular subserosal plane to prevent damage. However, the claim does not explicitly mention the subserosal plane, so the alignment is moderate.',\n",
       "  'The claim mentions the liver being seen superiorly, which could imply that the dissection is being conducted in a cephalad direction, potentially aligning with the criterion of staying above the R4U line. However, the claim does not explicitly mention the R4U line or the avoidance of the common bile duct, resulting in a low alignment score.',\n",
       "  'The claim highlights the risk of bleeding when dissection is too close to the liver parenchyma, which aligns with the criterion of staying in the avascular subserosal plane. This ensures that dissection remains in a safe tissue plane, minimizing the risk of bleeding. The alignment is strong but not perfect, as the claim does not explicitly mention the subserosal plane, hence a rating of 0.8.',\n",
       "  'The claim mentions the cystic artery running alongside the cystic duct, which aligns with the criterion that only these two structures should be visible entering the gallbladder. However, the claim does not explicitly state that these are the only structures visible, so the alignment is not perfect.',\n",
       "  \"The claim describes the anatomical boundaries of Calot's triangle, which is relevant to the criterion of clearing Calot's triangle. However, it does not explicitly state that the triangle has been cleared of fat and fibrosis, so the alignment is moderate.\",\n",
       "  'The claim mentions the presence of the cystic artery and potentially aberrant bile ducts within the Triangle of Calot. This relates to the criterion that only the cystic duct and cystic artery should be visible before clipping or cutting. However, the mention of \"potentially aberrant bile ducts\" suggests that more than two structures might be visible, indicating partial alignment with the criterion.',\n",
       "  'The claim mentions the position of the common bile duct relative to the cystic duct, which relates to ensuring a safe distance from the common bile duct during dissection. While the claim does not explicitly state that a safe distance is maintained, it provides relevant positional information, suggesting awareness of the relationship between these structures. Therefore, it aligns moderately well with the criterion.',\n",
       "  'The claim suggests that dissection on the gallbladder body, away from the cystic duct junction, is safer. This is somewhat related to the criterion that emphasizes starting dissection at the gallbladder infundibulum-cystic duct junction to stay in safe tissue planes. However, the claim contradicts the recommended starting point, indicating a misunderstanding or deviation from the criterion, resulting in a low alignment score.',\n",
       "  'The claim highlights the high-risk nature of the Triangle of Calot due to the proximity of critical structures, including the common bile duct. This aligns with the criterion emphasizing the need for a safe distance from the common bile duct to ensure safe dissection. The alignment is not perfect because the claim does not explicitly mention maintaining a safe distance, but it does imply the importance of awareness of these structures, warranting a moderately high score.',\n",
       "  'The claim highlights the importance of maintaining a safe distance from the common bile duct, which directly aligns with this criterion. The claim emphasizes the risk associated with proximity to the common bile duct, suggesting a strong alignment with the need for a safe distance, hence a high score.',\n",
       "  'The claim emphasizes the importance of confirming anatomy and identifying the cystic duct before proceeding with dissection near the common bile duct. This aligns with the criterion of not dividing any duct or vessel until it is unequivocally identified as the cystic structure. The alignment is strong because the claim supports the principle of identification before division, although it specifically mentions the common bile duct, which slightly broadens the focus beyond just the cystic structures.',\n",
       "  'The claim highlights the risk of bleeding when dissection goes too deep into the liver bed, which aligns with the criterion of staying in the avascular subserosal plane. This ensures that dissection remains in a safe tissue plane, minimizing bleeding risk. The alignment is strong but not perfect, as the claim does not explicitly mention the subserosal plane.',\n",
       "  'The claim describes inflammation and adhesions around the gallbladder, which aligns with the criterion of considering a bailout approach in the presence of dense scarring or distorted anatomy. While the claim does not explicitly mention converting to a \"fundus-first\" approach, the presence of inflammation and adhesions suggests a situation where this criterion is relevant, hence a moderately high alignment score.',\n",
       "  'The claim discusses inflammation and adhesions, which can complicate dissection and increase injury risk. This aligns with the \"Inflammation bailout\" criterion, which advises converting to a safer approach when anatomy is obscured by scarring or inflammation. The alignment is strong because the claim highlights the risk factors that this criterion addresses, though it does not explicitly mention the bailout strategy.',\n",
       "  'The claim emphasizes the high-risk nature of the Triangle of Calot due to the proximity of critical structures, including the common bile duct. This aligns with the criterion of maintaining a safe distance from the common bile duct to ensure safe dissection. The alignment is not perfect because the claim does not explicitly mention maintaining a safe distance, but it does highlight the importance of being cautious in this area.',\n",
       "  'The claim mentions inflammation and adhesions, which can obscure Calot\\'s triangle and complicate the procedure. This aligns with the \"Inflammation bailout\" criterion, which advises converting to a safer approach in such situations. The alignment is not perfect because the claim does not explicitly mention converting to a different approach, but it does indicate a situation where this criterion would be relevant.'],\n",
       " 'final_alignment_score': 0.35666666666666663}"
      ]
     },
     "execution_count": 9,
     "metadata": {},
     "output_type": "execute_result"
    }
   ],
   "source": [
    "examples[1].to_dict()"
   ]
  },
  {
   "cell_type": "code",
   "execution_count": null,
   "id": "515eb311-7383-4de4-924a-5c5a2f751040",
   "metadata": {},
   "outputs": [],
   "source": [
    "claude(\"Tell me something!\")"
   ]
  },
  {
   "cell_type": "code",
   "execution_count": null,
   "id": "f7e2862f-5e6a-4e46-a0fc-1398cea6fa5f",
   "metadata": {},
   "outputs": [],
   "source": []
  }
 ],
 "metadata": {
  "kernelspec": {
   "display_name": "Python 3 (ipykernel)",
   "language": "python",
   "name": "python3"
  },
  "language_info": {
   "codemirror_mode": {
    "name": "ipython",
    "version": 3
   },
   "file_extension": ".py",
   "mimetype": "text/x-python",
   "name": "python",
   "nbconvert_exporter": "python",
   "pygments_lexer": "ipython3",
   "version": "3.10.13"
  }
 },
 "nbformat": 4,
 "nbformat_minor": 5
}
