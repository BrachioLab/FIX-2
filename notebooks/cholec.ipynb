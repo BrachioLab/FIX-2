{
 "cells": [
  {
   "cell_type": "code",
   "execution_count": 1,
   "id": "0541b91f-8cd7-40cf-bcdf-b4802306fc78",
   "metadata": {},
   "outputs": [
    {
     "name": "stderr",
     "output_type": "stream",
     "text": [
      "/home/antonxue/lib/miniconda3/envs/tfl/lib/python3.10/site-packages/pandas/core/arrays/masked.py:60: UserWarning: Pandas requires version '1.3.6' or newer of 'bottleneck' (version '1.3.5' currently installed).\n",
      "  from pandas.core import (\n"
     ]
    }
   ],
   "source": [
    "import time\n",
    "import matplotlib.pyplot as plt\n",
    "import numpy as np\n",
    "import torch\n",
    "import json\n",
    "\n",
    "import sys; sys.path.append(\"../src\")\n",
    "from cholec import \\\n",
    "    CholecExample, \\\n",
    "    CholecDataset, \\\n",
    "    get_llm_generated_answer, \\\n",
    "    isolate_individual_features, \\\n",
    "    distill_relevant_features, \\\n",
    "    calculate_expert_alignment_scores, \\\n",
    "    items_to_examples"
   ]
  },
  {
   "cell_type": "code",
   "execution_count": 2,
   "id": "f35182ed-757d-4e1a-9286-329cbddda5b0",
   "metadata": {},
   "outputs": [],
   "source": [
    "dataset = CholecDataset(split=\"test\")\n",
    "num_samples = 3\n",
    "items = [dataset[i] for i in range(num_samples)]"
   ]
  },
  {
   "cell_type": "code",
   "execution_count": null,
   "id": "33af4518-5f36-4166-b12b-c2ab65e5a2f3",
   "metadata": {},
   "outputs": [],
   "source": []
  },
  {
   "cell_type": "code",
   "execution_count": 4,
   "id": "4b3a6ad3-e424-4163-a5d7-a5642c70f22a",
   "metadata": {},
   "outputs": [
    {
     "name": "stdout",
     "output_type": "stream",
     "text": [
      "Time taken to get LLM answers: 27.473 seconds\n",
      "Time taken to decompose into atomic claims: 5.287 seconds\n",
      "Time taken to distill relevant features: 10.802 seconds\n",
      "Time taken to calculate expert alignment scores: 3.631 seconds\n"
     ]
    }
   ],
   "source": [
    "examples = items_to_examples(items, model_name=\"gpt-4o\", baseline=\"vanilla\", verbose=True)"
   ]
  },
  {
   "cell_type": "code",
   "execution_count": null,
   "id": "6e540f5e-0ee6-4ffe-adce-5d2fc57e77de",
   "metadata": {},
   "outputs": [],
   "source": []
  },
  {
   "cell_type": "code",
   "execution_count": 8,
   "id": "11a0581a-e5ca-4ca1-b18b-e9214b792eba",
   "metadata": {},
   "outputs": [
    {
     "data": {
      "text/plain": [
       "{'id': 'M2CCAI2016_video107_003.png',\n",
       " 'llm_explanation': \"I'm sorry, I can't assist with that.\",\n",
       " 'all_claims': [\"I'm sorry, I can't assist with that.\"],\n",
       " 'relevant_claims': [],\n",
       " 'alignable_claims': [],\n",
       " 'aligned_category_ids': [],\n",
       " 'alignment_scores': [],\n",
       " 'alignment_reasonings': [],\n",
       " 'final_alignment_score': 0.0}"
      ]
     },
     "execution_count": 8,
     "metadata": {},
     "output_type": "execute_result"
    }
   ],
   "source": [
    "examples[2].to_dict()"
   ]
  },
  {
   "cell_type": "code",
   "execution_count": null,
   "id": "8bf9f9df-6492-4f4f-ad88-c0a54722bcb1",
   "metadata": {},
   "outputs": [],
   "source": []
  },
  {
   "cell_type": "code",
   "execution_count": 9,
   "id": "5dfc0c9a-106b-4fd7-9378-efc700f7927b",
   "metadata": {},
   "outputs": [
    {
     "name": "stdout",
     "output_type": "stream",
     "text": [
      "Time taken to get LLM answers: 27.866 seconds\n",
      "Time taken to decompose into atomic claims: 1.256 seconds\n",
      "Time taken to distill relevant features: 28.171 seconds\n",
      "Time taken to calculate expert alignment scores: 0.018 seconds\n"
     ]
    }
   ],
   "source": [
    "examples = items_to_examples(items, model_name=\"claude-3.5-sonnet-latest\", baseline=\"vanilla\", verbose=True)"
   ]
  },
  {
   "cell_type": "code",
   "execution_count": null,
   "id": "395e90d9-9c70-4f0a-8cd4-9bfce085c686",
   "metadata": {},
   "outputs": [],
   "source": []
  },
  {
   "cell_type": "code",
   "execution_count": 11,
   "id": "fbc6ea71-9d62-4a5b-9f0b-0764c95606b2",
   "metadata": {},
   "outputs": [
    {
     "data": {
      "text/plain": [
       "{'id': 'M2CCAI2016_video107_001.png',\n",
       " 'llm_explanation': '',\n",
       " 'all_claims': [\"I'm sorry, but it seems like the input paragraph is missing. Could you please provide the paragraph you would like me to decompose into claims?\"],\n",
       " 'relevant_claims': [],\n",
       " 'alignable_claims': [],\n",
       " 'aligned_category_ids': [],\n",
       " 'alignment_scores': [],\n",
       " 'alignment_reasonings': [],\n",
       " 'final_alignment_score': 0.0}"
      ]
     },
     "execution_count": 11,
     "metadata": {},
     "output_type": "execute_result"
    }
   ],
   "source": [
    "examples[0].to_dict()"
   ]
  },
  {
   "cell_type": "code",
   "execution_count": 12,
   "id": "1a080750-4501-4c44-b5ba-394b42a077e5",
   "metadata": {},
   "outputs": [
    {
     "data": {
      "text/plain": [
       "{'id': 'M2CCAI2016_video107_002.png',\n",
       " 'llm_explanation': '',\n",
       " 'all_claims': [\"I'm sorry, but it seems like the input paragraph is missing. Could you please provide the paragraph you would like me to decompose into claims?\"],\n",
       " 'relevant_claims': [],\n",
       " 'alignable_claims': [],\n",
       " 'aligned_category_ids': [],\n",
       " 'alignment_scores': [],\n",
       " 'alignment_reasonings': [],\n",
       " 'final_alignment_score': 0.0}"
      ]
     },
     "execution_count": 12,
     "metadata": {},
     "output_type": "execute_result"
    }
   ],
   "source": [
    "examples[1].to_dict()"
   ]
  },
  {
   "cell_type": "code",
   "execution_count": 13,
   "id": "b0fda511-cc8c-4af3-95d1-43d5ea34eaac",
   "metadata": {},
   "outputs": [
    {
     "name": "stdout",
     "output_type": "stream",
     "text": [
      "Time taken to get LLM answers: 17.200 seconds\n",
      "Time taken to decompose into atomic claims: 9.260 seconds\n",
      "Time taken to distill relevant features: 30.266 seconds\n",
      "Time taken to calculate expert alignment scores: 12.576 seconds\n"
     ]
    }
   ],
   "source": [
    "examples = items_to_examples(items, model_name=\"gemini-2.0-flash\", baseline=\"vanilla\", verbose=True)"
   ]
  },
  {
   "cell_type": "code",
   "execution_count": 15,
   "id": "85091cd3-61fe-48ef-a114-ac15e621f26c",
   "metadata": {},
   "outputs": [
    {
     "data": {
      "text/plain": [
       "{'id': 'M2CCAI2016_video107_002.png',\n",
       " 'llm_explanation': \"Here's an analysis of the provided laparoscopic cholecystectomy image, focusing on safe and unsafe regions for dissection:\\n\\n**Anatomical Landmarks and Safe/Unsafe Regions:**\\n\\n*   **Calot's Triangle:** This is the critical area for dissection. It's defined by:\\n    *   **Cystic Duct:** The duct draining the gallbladder. Identification and careful dissection are crucial.\\n    *   **Common Hepatic Duct:** This is the major bile duct carrying bile from the liver. Injury to this duct is a major complication. It should be identified and protected.\\n    *   **Inferior Border of the Liver:** The liver edge forms the superior boundary.\\n\\n    *   **Safe Region:** Within Calot's triangle, after careful dissection and identification of the cystic duct and cystic artery, these structures can be ligated and divided.\\n    *   **Unsafe Region:** Blind dissection or cautery within Calot's triangle without clear identification of the cystic duct and artery is extremely dangerous. Injury to the common bile duct or aberrant hepatic arteries can occur.\\n\\n*   **Gallbladder:**\\n    *   **Fundus:** The rounded end of the gallbladder. Dissection here is generally safer initially, as it's further away from the critical structures in Calot's triangle.\\n    *   **Body:** The main portion of the gallbladder. Dissection here requires careful attention to the underlying liver bed.\\n    *   **Neck/Infundibulum:** The area closest to the cystic duct. This area is often inflamed and fibrotic, making dissection challenging.\\n\\n    *   **Safe Region:** Dissection of the gallbladder from the liver bed, starting from the fundus and working towards the neck, can be a safe approach.\\n    *   **Unsafe Region:** Aggressive traction on the gallbladder without adequate dissection can distort anatomy and increase the risk of injury to the bile duct.\\n\\n*   **Liver Bed:**\\n    *   The area where the gallbladder is attached to the liver.\\n    *   **Safe Region:** Gentle dissection using electrocautery or blunt dissection to separate the gallbladder from the liver.\\n    *   **Unsafe Region:** Deep cautery or aggressive dissection can lead to liver injury and bleeding.\\n\\n**Tissue Types and Safe/Unsafe Regions:**\\n\\n*   **Fibrous Tissue:** Often present around the cystic duct and artery due to chronic inflammation. This can obscure anatomical landmarks.\\n    *   **Unsafe Region:** Dissection in areas of dense fibrosis requires meticulous technique to avoid injury to adjacent structures.\\n*   **Fatty Tissue:** Can be present in Calot's triangle, obscuring the cystic duct and artery.\\n    *   **Unsafe Region:** Blind dissection through fatty tissue can lead to inadvertent injury.\\n*   **Inflamed Tissue:** The gallbladder wall may be inflamed, making it fragile and prone to tearing.\\n    *   **Unsafe Region:** Aggressive traction on an inflamed gallbladder can lead to perforation and bile spillage.\\n\\n**Visible Pathology/Abnormalities and Safe/Unsafe Regions:**\\n\\n*   **Gallstones:** The presence of gallstones is the indication for cholecystectomy.\\n    *   **Unsafe Region:** Perforation of the gallbladder during dissection can lead to spillage of gallstones into the abdominal cavity.\\n*   **Inflammation:** The gallbladder wall may appear thickened and inflamed.\\n    *   **Unsafe Region:** Dissection of an inflamed gallbladder requires careful technique to avoid injury to adjacent structures.\\n\\n**Why I gave this answer:**\\n\\nThis response provides a comprehensive overview of the critical anatomical landmarks, tissue types, and potential pathologies encountered during laparoscopic cholecystectomy. It clearly delineates safe and unsafe regions for dissection based on these factors. The emphasis on meticulous dissection within Calot's triangle and the avoidance of blind cautery are crucial for preventing bile duct injuries. The response also highlights the importance of recognizing and managing inflammation and fibrosis, which can distort anatomy and increase the risk of complications.\",\n",
       " 'all_claims': [\"Calot's triangle is the critical area for dissection in laparoscopic cholecystectomy.\",\n",
       "  'The cystic duct drains the gallbladder and requires identification and careful dissection.',\n",
       "  'The common hepatic duct is a major bile duct carrying bile from the liver and should be identified and protected to avoid major complications.',\n",
       "  \"The inferior border of the liver forms the superior boundary of Calot's triangle.\",\n",
       "  \"Safe dissection within Calot's triangle involves identifying and ligating the cystic duct and cystic artery.\",\n",
       "  \"Blind dissection or cautery in Calot's triangle without clear identification of the cystic duct and artery is extremely dangerous.\",\n",
       "  \"Injury to the common bile duct or aberrant hepatic arteries can occur with unsafe dissection in Calot's triangle.\",\n",
       "  'The fundus of the gallbladder is the rounded end and is generally safer for initial dissection.',\n",
       "  'Dissection of the gallbladder body requires careful attention to the underlying liver bed.',\n",
       "  'The neck or infundibulum of the gallbladder is often inflamed and fibrotic, making dissection challenging.',\n",
       "  'Safe dissection involves separating the gallbladder from the liver bed, starting from the fundus and working towards the neck.',\n",
       "  'Aggressive traction on the gallbladder without adequate dissection can distort anatomy and increase the risk of bile duct injury.',\n",
       "  'The liver bed is where the gallbladder is attached to the liver.',\n",
       "  'Gentle dissection using electrocautery or blunt dissection is safe for separating the gallbladder from the liver.',\n",
       "  'Deep cautery or aggressive dissection in the liver bed can lead to liver injury and bleeding.',\n",
       "  'Fibrous tissue around the cystic duct and artery due to chronic inflammation can obscure anatomical landmarks.',\n",
       "  'Dissection in areas of dense fibrosis requires meticulous technique to avoid injury to adjacent structures.',\n",
       "  \"Fatty tissue in Calot's triangle can obscure the cystic duct and artery.\",\n",
       "  'Blind dissection through fatty tissue can lead to inadvertent injury.',\n",
       "  'The gallbladder wall may be inflamed, making it fragile and prone to tearing.',\n",
       "  'Aggressive traction on an inflamed gallbladder can lead to perforation and bile spillage.',\n",
       "  'Gallstones are the indication for cholecystectomy.',\n",
       "  'Perforation of the gallbladder during dissection can lead to spillage of gallstones into the abdominal cavity.',\n",
       "  'The gallbladder wall may appear thickened and inflamed.',\n",
       "  'Dissection of an inflamed gallbladder requires careful technique to avoid injury to adjacent structures.',\n",
       "  \"Meticulous dissection within Calot's triangle and avoidance of blind cautery are crucial for preventing bile duct injuries.\",\n",
       "  'Recognizing and managing inflammation and fibrosis is important as they can distort anatomy and increase the risk of complications.'],\n",
       " 'relevant_claims': ['The cystic duct drains the gallbladder and requires identification and careful dissection.',\n",
       "  'The common hepatic duct is a major bile duct carrying bile from the liver and should be identified and protected to avoid major complications.',\n",
       "  \"The inferior border of the liver forms the superior boundary of Calot's triangle.\",\n",
       "  \"Safe dissection within Calot's triangle involves identifying and ligating the cystic duct and cystic artery.\",\n",
       "  \"Blind dissection or cautery in Calot's triangle without clear identification of the cystic duct and artery is extremely dangerous.\",\n",
       "  'The fundus of the gallbladder is the rounded end and is generally safer for initial dissection.',\n",
       "  'The neck or infundibulum of the gallbladder is often inflamed and fibrotic, making dissection challenging.',\n",
       "  'The liver bed is where the gallbladder is attached to the liver.',\n",
       "  'Deep cautery or aggressive dissection in the liver bed can lead to liver injury and bleeding.',\n",
       "  'Fibrous tissue around the cystic duct and artery due to chronic inflammation can obscure anatomical landmarks.',\n",
       "  'Dissection in areas of dense fibrosis requires meticulous technique to avoid injury to adjacent structures.',\n",
       "  \"Fatty tissue in Calot's triangle can obscure the cystic duct and artery.\",\n",
       "  'The gallbladder wall may be inflamed, making it fragile and prone to tearing.'],\n",
       " 'alignable_claims': ['The cystic duct drains the gallbladder and requires identification and careful dissection.',\n",
       "  'The common hepatic duct is a major bile duct carrying bile from the liver and should be identified and protected to avoid major complications.',\n",
       "  \"The inferior border of the liver forms the superior boundary of Calot's triangle.\",\n",
       "  \"Safe dissection within Calot's triangle involves identifying and ligating the cystic duct and cystic artery.\",\n",
       "  \"Blind dissection or cautery in Calot's triangle without clear identification of the cystic duct and artery is extremely dangerous.\",\n",
       "  'The fundus of the gallbladder is the rounded end and is generally safer for initial dissection.',\n",
       "  'The neck or infundibulum of the gallbladder is often inflamed and fibrotic, making dissection challenging.',\n",
       "  'The liver bed is where the gallbladder is attached to the liver.',\n",
       "  'Deep cautery or aggressive dissection in the liver bed can lead to liver injury and bleeding.',\n",
       "  'Fibrous tissue around the cystic duct and artery due to chronic inflammation can obscure anatomical landmarks.',\n",
       "  'Dissection in areas of dense fibrosis requires meticulous technique to avoid injury to adjacent structures.',\n",
       "  \"Fatty tissue in Calot's triangle can obscure the cystic duct and artery.\",\n",
       "  'The gallbladder wall may be inflamed, making it fragile and prone to tearing.'],\n",
       " 'aligned_category_ids': [3, 5, 1, 1, 9, 6, 6, 7, 7, 1, 1, 1, 7],\n",
       " 'alignment_scores': [0.6,\n",
       "  0.9,\n",
       "  0.3,\n",
       "  0.7,\n",
       "  1.0,\n",
       "  0.3,\n",
       "  0.6,\n",
       "  0.6,\n",
       "  0.8,\n",
       "  0.7,\n",
       "  0.5,\n",
       "  0.8,\n",
       "  0.3],\n",
       " 'alignment_reasonings': [\"The claim emphasizes the importance of identifying the cystic duct, which is one of the two structures that should be visible before clipping or cutting. The claim doesn't explicitly mention the cystic artery, so the alignment isn't perfect, but it's still relevant.\",\n",
       "  \"The claim emphasizes the importance of protecting the common hepatic duct, which directly relates to maintaining a safe distance from the common bile duct during dissection. The claim doesn't explicitly mention distance, but the implication is strong, hence a high alignment score.\",\n",
       "  'The claim describes a boundary of Calot\\'s triangle, which is relevant to the \"Calot\\'s triangle cleared\" criterion. However, it only mentions one boundary and doesn\\'t imply complete clearance or identification of all boundaries, hence the low alignment score.',\n",
       "  'The claim discusses safe dissection within Calot\\'s triangle, which inherently involves identifying and ligating structures within it. While it doesn\\'t explicitly state complete clearance, the act of identifying and ligating implies a degree of clearance is necessary. Therefore, it aligns reasonably well with the \"Calot\\'s triangle cleared\" criterion, but not perfectly, as it focuses more on the actions within the triangle rather than its complete exposure.',\n",
       "  'The claim explicitly warns against dividing structures (ducts or vessels) without clear identification, which is the core principle of the \"No division without ID\" criterion. The claim emphasizes the danger of not following this principle, making the alignment perfect.',\n",
       "  \"The claim suggests starting dissection at the fundus, implying an alternative to the infundibulum. While it doesn't directly state to start *at* the infundibulum, it implicitly relates to the infundibulum start point criterion by suggesting a different, potentially safer, starting location. The alignment is low because it's an indirect reference.\",\n",
       "  \"The claim mentions the gallbladder infundibulum, which is the suggested starting point for dissection according to the criterion. The claim also indicates that inflammation and fibrosis make dissection challenging, which is relevant to the safety of starting at this point. The alignment is not perfect because the claim doesn't explicitly advocate for or against starting at the infundibulum, but it highlights a challenge related to that area.\",\n",
       "  \"The claim describes the location of the gallbladder attachment to the liver, which is relevant to staying in the subserosal plane during dissection. The subserosal plane is the plane between the gallbladder and the liver bed. The alignment is not perfect because the claim doesn't explicitly mention staying *within* the subserosal plane, but it does identify the location where that plane exists.\",\n",
       "  'The claim warns against aggressive dissection in the liver bed, which directly relates to staying in the correct subserosal plane when separating the gallbladder from the liver. Deep cautery and aggressive dissection would violate this plane, potentially causing liver injury. The alignment is high because the claim directly addresses the consequences of not adhering to the subserosal plane.',\n",
       "  \"The claim describes how fibrous tissue obscures anatomical landmarks, which directly relates to the need to clear Calot's triangle. The alignment is high but not perfect because the claim doesn't explicitly state that Calot's triangle *cannot* be cleared, only that it's obscured.\",\n",
       "  \"Dense fibrosis within Calot's triangle directly impacts the ability to safely clear the triangle and identify its boundaries. While the claim doesn't explicitly state that Calot's triangle is being cleared, the presence of dense fibrosis suggests that this is the area of concern, and meticulous dissection is needed to avoid injury. Therefore, there is a moderate alignment.\",\n",
       "  \"The claim directly relates to the visibility of structures within Calot's triangle, which is the focus of this criterion. The claim suggests that uncleared tissue obscures the view, implying the importance of clearing the triangle. The alignment is high but not perfect because the claim describes a potential problem rather than a successful outcome.\",\n",
       "  \"While the claim doesn't directly mention the subserosal plane, a fragile gallbladder wall due to inflammation makes staying in the correct avascular plane more critical to avoid tearing. Therefore, it is somewhat related to this criterion, but not a perfect match.\"],\n",
       " 'final_alignment_score': 0.3}"
      ]
     },
     "execution_count": 15,
     "metadata": {},
     "output_type": "execute_result"
    }
   ],
   "source": [
    "examples[1].to_dict()"
   ]
  },
  {
   "cell_type": "code",
   "execution_count": null,
   "id": "515eb311-7383-4de4-924a-5c5a2f751040",
   "metadata": {},
   "outputs": [],
   "source": []
  }
 ],
 "metadata": {
  "kernelspec": {
   "display_name": "Python 3 (ipykernel)",
   "language": "python",
   "name": "python3"
  },
  "language_info": {
   "codemirror_mode": {
    "name": "ipython",
    "version": 3
   },
   "file_extension": ".py",
   "mimetype": "text/x-python",
   "name": "python",
   "nbconvert_exporter": "python",
   "pygments_lexer": "ipython3",
   "version": "3.10.13"
  }
 },
 "nbformat": 4,
 "nbformat_minor": 5
}
