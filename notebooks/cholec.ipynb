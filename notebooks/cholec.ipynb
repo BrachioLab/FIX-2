{
 "cells": [
  {
   "cell_type": "code",
   "execution_count": 1,
   "id": "0541b91f-8cd7-40cf-bcdf-b4802306fc78",
   "metadata": {},
   "outputs": [
    {
     "name": "stderr",
     "output_type": "stream",
     "text": [
      "/home/antonxue/lib/miniconda3/envs/tfl/lib/python3.10/site-packages/torchvision/io/image.py:13: UserWarning: Failed to load image Python extension: '/home/antonxue/lib/miniconda3/envs/tfl/lib/python3.10/site-packages/torchvision/image.so: undefined symbol: _ZN5torch3jit17parseSchemaOrNameERKNSt7__cxx1112basic_stringIcSt11char_traitsIcESaIcEEE'If you don't plan on using image functionality from `torchvision.io`, you can ignore this warning. Otherwise, there might be something wrong with your environment. Did you have `libjpeg` or `libpng` installed before building `torchvision` from source?\n",
      "  warn(\n",
      "/home/antonxue/lib/miniconda3/envs/tfl/lib/python3.10/site-packages/pandas/core/arrays/masked.py:60: UserWarning: Pandas requires version '1.3.6' or newer of 'bottleneck' (version '1.3.5' currently installed).\n",
      "  from pandas.core import (\n"
     ]
    }
   ],
   "source": [
    "import time\n",
    "import matplotlib.pyplot as plt\n",
    "import numpy as np\n",
    "import torch\n",
    "import json\n",
    "\n",
    "import sys; sys.path.append(\"../src\")\n",
    "from cholec import CholecExample, CholecDataset, load_model, items_to_examples"
   ]
  },
  {
   "cell_type": "code",
   "execution_count": 2,
   "id": "f35182ed-757d-4e1a-9286-329cbddda5b0",
   "metadata": {},
   "outputs": [
    {
     "name": "stderr",
     "output_type": "stream",
     "text": [
      "/home/antonxue/lib/miniconda3/envs/tfl/lib/python3.10/site-packages/torchvision/transforms/functional.py:1603: UserWarning: The default value of the antialias parameter of all the resizing transforms (Resize(), RandomResizedCrop(), etc.) will change from None to True in v0.17, in order to be consistent across the PIL and Tensor backends. To suppress this warning, directly pass antialias=True (recommended, future default), antialias=None (current default, which means False for Tensors and True for PIL), or antialias=False (only works on Tensors - PIL will still use antialiasing). This also applies if you are using the inference transforms from the models weights: update the call to weights.transforms(antialias=True).\n",
      "  warnings.warn(\n"
     ]
    }
   ],
   "source": [
    "dataset = CholecDataset(split=\"test\")\n",
    "num_samples = 3\n",
    "items = [dataset[i] for i in range(num_samples)]"
   ]
  },
  {
   "cell_type": "code",
   "execution_count": 3,
   "id": "33af4518-5f36-4166-b12b-c2ab65e5a2f3",
   "metadata": {},
   "outputs": [],
   "source": [
    "gpt = load_model(\"gpt-4o\")\n",
    "claude = load_model(\"claude-3-5-sonnet-latest\")\n",
    "gemini = load_model(\"gemini-2.0-flash\")"
   ]
  },
  {
   "cell_type": "code",
   "execution_count": null,
   "id": "63694c66-1a6d-4fc6-8211-29d8feeaed90",
   "metadata": {},
   "outputs": [],
   "source": []
  },
  {
   "cell_type": "code",
   "execution_count": 4,
   "id": "4b3a6ad3-e424-4163-a5d7-a5642c70f22a",
   "metadata": {},
   "outputs": [
    {
     "name": "stdout",
     "output_type": "stream",
     "text": [
      "Time taken to get LLM answers: 39.943 seconds\n",
      "Time taken to decompose into atomic claims: 4.449 seconds\n",
      "Time taken to distill relevant features: 10.988 seconds\n",
      "Time taken to calculate expert alignment scores: 10.133 seconds\n",
      "Total time taken: 65.513 seconds\n"
     ]
    }
   ],
   "source": [
    "examples = items_to_examples(\n",
    "    items,\n",
    "    explanation_model=\"gpt-4o\",\n",
    "    evaluation_model=\"gpt-4o\",\n",
    "    baseline=\"vanilla\",\n",
    "    verbose=True\n",
    ")"
   ]
  },
  {
   "cell_type": "code",
   "execution_count": null,
   "id": "6e540f5e-0ee6-4ffe-adce-5d2fc57e77de",
   "metadata": {},
   "outputs": [],
   "source": []
  },
  {
   "cell_type": "code",
   "execution_count": 5,
   "id": "11a0581a-e5ca-4ca1-b18b-e9214b792eba",
   "metadata": {},
   "outputs": [
    {
     "name": "stdout",
     "output_type": "stream",
     "text": [
      "{'id': 'M2CCAI2016_video107_001.png', 'llm_explanation': 'I\\'m unable to analyze specific images, but I can provide general guidance on safe and unsafe regions during a laparoscopic cholecystectomy based on typical anatomical landmarks and surgical principles.\\n\\n### Safe Regions:\\n1. **Cystic Duct and Artery:**\\n   - Identification of the cystic duct and artery is crucial. These structures should be clearly dissected and isolated before clipping or cutting.\\n   - The \"Critical View of Safety\" should be achieved, where only the cystic duct and artery are entering the gallbladder.\\n\\n2. **Gallbladder Fundus:**\\n   - Dissection should start at the fundus and proceed towards the neck, staying close to the gallbladder to avoid injury to surrounding structures.\\n\\n### Unsafe Regions:\\n1. **Common Bile Duct (CBD):**\\n   - Avoid dissection near the CBD to prevent injury. Misidentification of the cystic duct can lead to CBD injury.\\n\\n2. **Liver Parenchyma:**\\n   - Avoid deep dissection into the liver bed to prevent bleeding and liver injury.\\n\\n3. **Hepatoduodenal Ligament:**\\n   - Contains vital structures like the portal vein and hepatic artery. Dissection in this area should be avoided unless absolutely necessary.\\n\\n### Tissue Types:\\n- **Fibrous Tissue:**\\n  - Found around the gallbladder neck and cystic duct. Careful dissection is needed to avoid injury to the CBD.\\n  \\n- **Fatty Tissue:**\\n  - Can obscure important structures. Proper retraction and dissection are needed to visualize the anatomy clearly.\\n\\n### Pathology/Abnormalities:\\n- **Inflammation or Adhesions:**\\n  - Can distort normal anatomy, making identification of structures challenging. Extra caution is needed to avoid injury.\\n\\n- **Gallstones:**\\n  - May be present and can cause inflammation or obstruction. Ensure clear visualization and removal if necessary.\\n\\n### Explanation:\\nThe guidance provided is based on standard surgical practices and anatomical knowledge essential for safe laparoscopic cholecystectomy. Understanding the critical view of safety and recognizing key anatomical landmarks are vital to avoid complications such as bile duct injury. Awareness of tissue types and potential pathologies helps in planning the dissection and ensuring patient safety.', 'all_claims': ['Identification of the cystic duct and artery is crucial during laparoscopic cholecystectomy.', 'The cystic duct and artery should be clearly dissected and isolated before clipping or cutting.', 'The \"Critical View of Safety\" should be achieved, where only the cystic duct and artery are entering the gallbladder.', 'Dissection should start at the gallbladder fundus and proceed towards the neck.', 'Dissection should stay close to the gallbladder to avoid injury to surrounding structures.', 'Avoid dissection near the common bile duct to prevent injury.', 'Misidentification of the cystic duct can lead to common bile duct injury.', 'Avoid deep dissection into the liver bed to prevent bleeding and liver injury.', 'The hepatoduodenal ligament contains vital structures like the portal vein and hepatic artery.', 'Dissection in the hepatoduodenal ligament area should be avoided unless absolutely necessary.', 'Fibrous tissue is found around the gallbladder neck and cystic duct.', 'Careful dissection of fibrous tissue is needed to avoid injury to the common bile duct.', 'Fatty tissue can obscure important structures during laparoscopic cholecystectomy.', 'Proper retraction and dissection are needed to visualize the anatomy clearly when fatty tissue is present.', 'Inflammation or adhesions can distort normal anatomy during laparoscopic cholecystectomy.', 'Extra caution is needed to avoid injury when inflammation or adhesions are present.', 'Gallstones may be present and can cause inflammation or obstruction.', 'Clear visualization and removal of gallstones are necessary if they are present.', 'The guidance is based on standard surgical practices and anatomical knowledge essential for safe laparoscopic cholecystectomy.', 'Understanding the critical view of safety and recognizing key anatomical landmarks are vital to avoid complications such as bile duct injury.', 'Awareness of tissue types and potential pathologies helps in planning the dissection and ensuring patient safety.'], 'relevant_claims': ['The \"Critical View of Safety\" should be achieved, where only the cystic duct and artery are entering the gallbladder.', 'Dissection should stay close to the gallbladder to avoid injury to surrounding structures.', 'Avoid dissection near the common bile duct to prevent injury.', 'Avoid deep dissection into the liver bed to prevent bleeding and liver injury.', 'Fibrous tissue is found around the gallbladder neck and cystic duct.', 'Careful dissection of fibrous tissue is needed to avoid injury to the common bile duct.', 'Fatty tissue can obscure important structures during laparoscopic cholecystectomy.'], 'alignable_claims': ['The \"Critical View of Safety\" should be achieved, where only the cystic duct and artery are entering the gallbladder.', 'Dissection should stay close to the gallbladder to avoid injury to surrounding structures.', 'Avoid dissection near the common bile duct to prevent injury.', 'Avoid deep dissection into the liver bed to prevent bleeding and liver injury.', 'Fibrous tissue is found around the gallbladder neck and cystic duct.', 'Careful dissection of fibrous tissue is needed to avoid injury to the common bile duct.', 'Fatty tissue can obscure important structures during laparoscopic cholecystectomy.'], 'aligned_category_ids': [3, 5, 5, 7, 1, 5, 1], 'alignment_scores': [1.0, 0.8, 1.0, 0.8, 0.4, 0.8, 0.5], 'alignment_reasonings': ['The claim directly refers to achieving the \"Critical View of Safety,\" which involves ensuring that only the cystic duct and cystic artery are visible entering the gallbladder. This aligns perfectly with the criterion that specifies only these two structures should be seen before any clipping or cutting.', 'The claim emphasizes staying close to the gallbladder to prevent injury to surrounding structures, which aligns with maintaining a safe distance from the common bile duct. This criterion is about ensuring safe dissection by avoiding nearby critical structures, which the claim supports. However, the claim does not explicitly mention the common bile duct, so the alignment is not perfect.', 'The claim explicitly advises avoiding dissection near the common bile duct to prevent injury, which aligns perfectly with the criterion of maintaining a safe distance from the common bile duct.', 'The claim advises against deep dissection into the liver bed, which aligns with the criterion of staying in the avascular subserosal plane to avoid bleeding and liver injury. The alignment is strong because the claim emphasizes avoiding deeper planes, which is consistent with maintaining the correct dissection plane, but it does not explicitly mention the subserosal plane, hence not a perfect score.', \"The claim mentions fibrous tissue around the gallbladder neck and cystic duct, which suggests that Calot's triangle may not be fully cleared. This relates to the criterion of clearing Calot's triangle, but the presence of fibrous tissue indicates incomplete clearance, resulting in a low alignment score.\", 'The claim emphasizes the need for careful dissection to avoid injury to the common bile duct, which aligns with the criterion of maintaining a safe distance from the common bile duct. The focus on avoiding injury suggests awareness of the proximity to the common bile duct, which is central to this criterion. However, the claim does not explicitly mention maintaining a distance, so the alignment is not perfect.', \"The claim highlights the issue of fatty tissue obscuring important structures, which relates to the need for clearing Calot's triangle of fat and fibrosis to ensure clear visibility of its boundaries. However, the claim does not explicitly state that Calot's triangle has been cleared, so the alignment is moderate.\"], 'final_alignment_score': 0.2523809523809524}\n"
     ]
    }
   ],
   "source": [
    "print(examples[0])"
   ]
  },
  {
   "cell_type": "code",
   "execution_count": null,
   "id": "8bf9f9df-6492-4f4f-ad88-c0a54722bcb1",
   "metadata": {},
   "outputs": [],
   "source": []
  },
  {
   "cell_type": "code",
   "execution_count": 6,
   "id": "5dfc0c9a-106b-4fd7-9378-efc700f7927b",
   "metadata": {},
   "outputs": [
    {
     "name": "stdout",
     "output_type": "stream",
     "text": [
      "Time taken to get LLM answers: 26.700 seconds\n",
      "Time taken to decompose into atomic claims: 2.685 seconds\n",
      "Time taken to distill relevant features: 9.992 seconds\n",
      "Time taken to calculate expert alignment scores: 6.924 seconds\n",
      "Total time taken: 46.302 seconds\n"
     ]
    }
   ],
   "source": [
    "examples = items_to_examples(\n",
    "    items,\n",
    "    explanation_model=\"claude-3-5-sonnet-latest\",\n",
    "    evaluation_model=\"gpt-4o\",\n",
    "    baseline=\"vanilla\",\n",
    "    verbose=True\n",
    ")"
   ]
  },
  {
   "cell_type": "code",
   "execution_count": null,
   "id": "91006e0b-b1fb-4183-99f7-73ebbd244185",
   "metadata": {},
   "outputs": [],
   "source": []
  },
  {
   "cell_type": "code",
   "execution_count": 7,
   "id": "fbc6ea71-9d62-4a5b-9f0b-0764c95606b2",
   "metadata": {},
   "outputs": [
    {
     "data": {
      "text/plain": [
       "{'id': 'M2CCAI2016_video107_001.png',\n",
       " 'llm_explanation': 'Looking at this laparoscopic view of a cholecystectomy, I can provide the following analysis:\\n\\nAnatomical Assessment:\\n- The image shows the hepatocystic triangle region during a laparoscopic cholecystectomy\\n- There appears to be some inflammatory tissue and adhesions in the field\\n- The critical view of safety is not yet fully achieved in this image\\n- The liver edge is visible in the superior aspect of the image\\n\\nSafe/Unsafe Regions:\\nSAFE:\\n- The superior aspect near the liver edge where tissue planes are clearer\\n- Areas where there is clear visualization of the serosa\\n\\nUNSAFE:\\n- The central portion where there appears to be inflammatory changes\\n- Areas where tissue planes are obscured by adhesions\\n- The deeper portions where critical structures may be hidden\\n\\nI provided this assessment because:\\n1. The image shows typical inflammatory changes that can make identification of critical structures more challenging\\n2. The presence of adhesions and altered anatomy requires careful dissection to avoid bile duct injury\\n3. Without achieving the critical view of safety, proceeding with clip placement would be premature and potentially dangerous\\n\\nThe key principle here is to carefully dissect the hepatocystic triangle to clearly identify the cystic duct and artery before any structures are divided. Further dissection appears necessary in this case to safely proceed.',\n",
       " 'all_claims': ['The image shows the hepatocystic triangle region during a laparoscopic cholecystectomy.',\n",
       "  'There appears to be some inflammatory tissue and adhesions in the field.',\n",
       "  'The critical view of safety is not yet fully achieved in this image.',\n",
       "  'The liver edge is visible in the superior aspect of the image.',\n",
       "  'The superior aspect near the liver edge is considered safe where tissue planes are clearer.',\n",
       "  'Areas where there is clear visualization of the serosa are considered safe.',\n",
       "  'The central portion where there appears to be inflammatory changes is considered unsafe.',\n",
       "  'Areas where tissue planes are obscured by adhesions are considered unsafe.',\n",
       "  'The deeper portions where critical structures may be hidden are considered unsafe.',\n",
       "  'Typical inflammatory changes can make identification of critical structures more challenging.',\n",
       "  'The presence of adhesions and altered anatomy requires careful dissection to avoid bile duct injury.',\n",
       "  'Without achieving the critical view of safety, proceeding with clip placement would be premature and potentially dangerous.',\n",
       "  'The key principle is to carefully dissect the hepatocystic triangle to clearly identify the cystic duct and artery before any structures are divided.',\n",
       "  'Further dissection appears necessary in this case to safely proceed.'],\n",
       " 'relevant_claims': ['The image shows the hepatocystic triangle region during a laparoscopic cholecystectomy.',\n",
       "  'There appears to be some inflammatory tissue and adhesions in the field.',\n",
       "  'The critical view of safety is not yet fully achieved in this image.',\n",
       "  'The liver edge is visible in the superior aspect of the image.',\n",
       "  'The superior aspect near the liver edge is considered safe where tissue planes are clearer.',\n",
       "  'Areas where there is clear visualization of the serosa are considered safe.',\n",
       "  'The central portion where there appears to be inflammatory changes is considered unsafe.',\n",
       "  'Areas where tissue planes are obscured by adhesions are considered unsafe.',\n",
       "  'The deeper portions where critical structures may be hidden are considered unsafe.',\n",
       "  'Typical inflammatory changes can make identification of critical structures more challenging.',\n",
       "  'The presence of adhesions and altered anatomy requires careful dissection to avoid bile duct injury.'],\n",
       " 'alignable_claims': ['The image shows the hepatocystic triangle region during a laparoscopic cholecystectomy.',\n",
       "  'There appears to be some inflammatory tissue and adhesions in the field.',\n",
       "  'The critical view of safety is not yet fully achieved in this image.',\n",
       "  'The liver edge is visible in the superior aspect of the image.',\n",
       "  'The superior aspect near the liver edge is considered safe where tissue planes are clearer.',\n",
       "  'Areas where there is clear visualization of the serosa are considered safe.',\n",
       "  'The central portion where there appears to be inflammatory changes is considered unsafe.',\n",
       "  'Areas where tissue planes are obscured by adhesions are considered unsafe.',\n",
       "  'The deeper portions where critical structures may be hidden are considered unsafe.',\n",
       "  'Typical inflammatory changes can make identification of critical structures more challenging.',\n",
       "  'The presence of adhesions and altered anatomy requires careful dissection to avoid bile duct injury.'],\n",
       " 'aligned_category_ids': [1, 10, 3, 4, 4, 7, 10, 10, 5, 10, 10],\n",
       " 'alignment_scores': [0.5, 0.5, 0.7, 0.3, 0.7, 0.8, 0.8, 0.9, 0.7, 0.7, 0.7],\n",
       " 'alignment_reasonings': [\"The claim mentions the hepatocystic triangle, which is synonymous with Calot's triangle, suggesting a focus on this area. However, it does not specify whether the triangle is cleared of fat and fibrosis, so the alignment is moderate.\",\n",
       "  'The claim mentions inflammatory tissue and adhesions, which can obscure Calot\\'s triangle and complicate dissection. This situation aligns with the criterion of considering a bailout approach in the presence of inflammation. However, the claim does not explicitly mention converting to a \"fundus-first\" approach, so the alignment is moderate.',\n",
       "  'The \"critical view of safety\" in laparoscopic cholecystectomy typically involves ensuring that only the cystic duct and cystic artery are visible entering the gallbladder, which aligns with the criterion of having only two structures visible. The claim indicates that this view is not fully achieved, suggesting partial alignment with the criterion, hence a moderate score.',\n",
       "  \"The claim mentions the visibility of the liver edge, which could relate to maintaining a safe dissection plane above the R4U line. However, the claim does not explicitly address the imaginary line from Rouviere's sulcus to liver segment IV, so the alignment is weak.\",\n",
       "  'The claim suggests that the superior aspect near the liver edge is considered safe due to clearer tissue planes, which aligns with the concept of staying cephalad to the R4U line to avoid the common bile duct. The mention of \"superior aspect\" and \"liver edge\" suggests a focus on maintaining a safe dissection plane, which is consistent with this criterion. However, the claim does not explicitly mention the R4U line, so the alignment is not perfect.',\n",
       "  'The claim emphasizes the importance of clear visualization of the serosa, which aligns with the criterion of staying in the avascular subserosal plane during dissection. This ensures that the dissection remains in a safe tissue plane, reducing the risk of injury. The alignment is strong but not perfect, as the claim does not explicitly mention staying in the subserosal plane, hence a rating of 0.8.',\n",
       "  'The claim highlights an area with inflammatory changes as unsafe, which aligns with the criterion of converting to a safer approach when inflammation obscures anatomy. The claim suggests recognizing the risk, aligning well with the criterion, but does not explicitly mention converting to a different approach, hence not a perfect alignment.',\n",
       "  'The claim highlights the risk associated with obscured tissue planes due to adhesions, which aligns closely with the criterion of converting to a safer approach when anatomy is distorted by scarring or inflammation. This criterion directly addresses the situation described in the claim, hence a high alignment score.',\n",
       "  'The claim refers to deeper portions where critical structures may be hidden as unsafe, which aligns with the need to maintain a safe distance from the common bile duct to avoid injuring critical structures. The alignment is not perfect because the claim does not explicitly mention the common bile duct, but it implies the importance of avoiding hidden critical structures, which is a key aspect of this criterion.',\n",
       "  'The claim discusses how inflammation can obscure critical structures, which aligns with the criterion of converting to a safer approach when anatomy is distorted by inflammation. The alignment is not perfect because the claim does not explicitly mention converting to a \"fundus-first\" approach, but it does highlight the challenge that inflammation poses, which is central to this criterion.',\n",
       "  'The claim highlights the presence of adhesions and altered anatomy, which aligns with the criterion of converting to a safer approach when anatomy is obscured. While it doesn\\'t explicitly mention converting to a \"fundus-first\" approach, the emphasis on careful dissection to avoid bile duct injury suggests a consideration of alternative strategies, aligning moderately with this criterion.'],\n",
       " 'final_alignment_score': 0.5214285714285715}"
      ]
     },
     "execution_count": 7,
     "metadata": {},
     "output_type": "execute_result"
    }
   ],
   "source": [
    "examples[0].to_dict()"
   ]
  },
  {
   "cell_type": "code",
   "execution_count": 8,
   "id": "b0fda511-cc8c-4af3-95d1-43d5ea34eaac",
   "metadata": {},
   "outputs": [
    {
     "name": "stdout",
     "output_type": "stream",
     "text": [
      "Time taken to get LLM answers: 17.452 seconds\n",
      "Time taken to decompose into atomic claims: 8.052 seconds\n",
      "Time taken to distill relevant features: 20.855 seconds\n",
      "Time taken to calculate expert alignment scores: 10.034 seconds\n",
      "Total time taken: 56.393 seconds\n"
     ]
    }
   ],
   "source": [
    "examples = items_to_examples(\n",
    "    items,\n",
    "    explanation_model=\"gemini-2.0-flash\",\n",
    "    evaluation_model=\"gpt-4o\",\n",
    "    baseline=\"vanilla\",\n",
    "    verbose=True\n",
    ")"
   ]
  },
  {
   "cell_type": "code",
   "execution_count": 9,
   "id": "85091cd3-61fe-48ef-a114-ac15e621f26c",
   "metadata": {},
   "outputs": [
    {
     "data": {
      "text/plain": [
       "{'id': 'M2CCAI2016_video107_002.png',\n",
       " 'llm_explanation': \"Here's a detailed analysis of the laparoscopic cholecystectomy image, focusing on safe and unsafe regions for dissection:\\n\\n**Anatomical Landmarks and Safe/Unsafe Regions:**\\n\\n1.  **Liver (Dark Brown Tissue):** The dark brown tissue at the top and left of the image is the liver. Dissection directly on the liver parenchyma should be avoided to minimize bleeding and bile leak.\\n\\n2.  **Gallbladder (Thin-Walled Sac):** The thin-walled sac is the gallbladder. The goal of the surgery is to remove this structure. Dissection should be focused around the gallbladder, but with careful attention to the structures entering and exiting it.\\n\\n3.  **Cystic Duct (Small Tubular Structure):** The cystic duct is the small tubular structure entering the gallbladder. This needs to be carefully dissected and clipped/ligated before dividing it. Premature division or injury to the common bile duct (CBD) is a major risk here.\\n\\n4.  **Cystic Artery (Small Vessel):** The cystic artery is the small vessel that supplies blood to the gallbladder. It usually runs parallel to the cystic duct. This also needs to be carefully dissected and clipped/ligated before dividing it.\\n\\n5.  **Calot's Triangle:** This is a critical anatomical space bounded by the cystic duct, the common hepatic duct (or common bile duct), and the inferior border of the liver. Dissection within Calot's triangle is essential to identify and isolate the cystic duct and artery. However, it is also the area where the common bile duct is most vulnerable to injury.\\n\\n6.  **Common Bile Duct (CBD):** Although not clearly visible in this image, the CBD is a critical structure that must be protected. It lies posterior to the cystic duct and artery. Injury to the CBD is a severe complication.\\n\\n**Tissue Types and Safe/Unsafe Regions:**\\n\\n*   **Serosa/Peritoneum:** The thin, translucent layer covering the gallbladder and surrounding structures. Dissection here is generally safe, but care must be taken to avoid injury to underlying structures.\\n*   **Fibrous Tissue:** Scar tissue or adhesions can be present, especially in cases of chronic cholecystitis. Dissection through fibrous tissue can be more challenging and increase the risk of bleeding or injury to adjacent structures.\\n*   **Vascular Tissue:** The cystic artery and other small vessels are present. These need to be carefully identified and controlled to prevent bleeding.\\n\\n**Visible Pathology/Abnormalities and Safe/Unsafe Regions:**\\n\\n*   **Inflammation/Edema:** The presence of inflammation or edema can make dissection more difficult and increase the risk of injury.\\n*   **Adhesions:** Adhesions to the omentum or other structures can obscure the anatomy and make dissection more challenging.\\n*   **Thickened Gallbladder Wall:** A thickened gallbladder wall can indicate chronic cholecystitis.\\n\\n**Safe Regions:**\\n\\n*   Careful dissection of the peritoneum overlying the gallbladder.\\n*   Blunt dissection to develop the plane between the gallbladder and the liver bed.\\n\\n**Unsafe Regions:**\\n\\n*   Blind dissection within Calot's triangle.\\n*   Dissection without clear identification of the cystic duct and artery.\\n*   Aggressive dissection near the common bile duct.\\n*   Dissection directly on the liver parenchyma.\\n\\n**Explanation:**\\n\\nThe analysis emphasizes the importance of anatomical knowledge and meticulous dissection technique in laparoscopic cholecystectomy. The safe regions are those where the surgeon can carefully dissect and develop planes without risking injury to critical structures. The unsafe regions are those where the anatomy is complex, and the risk of injury to the common bile duct or other structures is high. The presence of inflammation, adhesions, or other abnormalities can further complicate the dissection and increase the risk of complications.\",\n",
       " 'all_claims': ['The dark brown tissue at the top and left of the image is the liver.',\n",
       "  'Dissection directly on the liver parenchyma should be avoided to minimize bleeding and bile leak.',\n",
       "  'The thin-walled sac is the gallbladder.',\n",
       "  'The goal of the surgery is to remove the gallbladder.',\n",
       "  'Dissection should be focused around the gallbladder with careful attention to the structures entering and exiting it.',\n",
       "  'The cystic duct is the small tubular structure entering the gallbladder.',\n",
       "  'The cystic duct needs to be carefully dissected and clipped/ligated before dividing it.',\n",
       "  'Premature division or injury to the common bile duct is a major risk at the cystic duct.',\n",
       "  'The cystic artery is the small vessel that supplies blood to the gallbladder.',\n",
       "  'The cystic artery usually runs parallel to the cystic duct.',\n",
       "  'The cystic artery needs to be carefully dissected and clipped/ligated before dividing it.',\n",
       "  \"Calot's triangle is bounded by the cystic duct, the common hepatic duct (or common bile duct), and the inferior border of the liver.\",\n",
       "  \"Dissection within Calot's triangle is essential to identify and isolate the cystic duct and artery.\",\n",
       "  \"Calot's triangle is where the common bile duct is most vulnerable to injury.\",\n",
       "  'The common bile duct is a critical structure that must be protected.',\n",
       "  'The common bile duct lies posterior to the cystic duct and artery.',\n",
       "  'Injury to the common bile duct is a severe complication.',\n",
       "  'The serosa/peritoneum is the thin, translucent layer covering the gallbladder and surrounding structures.',\n",
       "  'Dissection in the serosa/peritoneum is generally safe but requires care to avoid injury to underlying structures.',\n",
       "  'Fibrous tissue or adhesions can be present, especially in cases of chronic cholecystitis.',\n",
       "  'Dissection through fibrous tissue can increase the risk of bleeding or injury to adjacent structures.',\n",
       "  'The cystic artery and other small vessels need to be carefully identified and controlled to prevent bleeding.',\n",
       "  'Inflammation or edema can make dissection more difficult and increase the risk of injury.',\n",
       "  'Adhesions to the omentum or other structures can obscure the anatomy and make dissection more challenging.',\n",
       "  'A thickened gallbladder wall can indicate chronic cholecystitis.',\n",
       "  'Careful dissection of the peritoneum overlying the gallbladder is a safe region.',\n",
       "  'Blunt dissection to develop the plane between the gallbladder and the liver bed is a safe region.',\n",
       "  \"Blind dissection within Calot's triangle is an unsafe region.\",\n",
       "  'Dissection without clear identification of the cystic duct and artery is an unsafe region.',\n",
       "  'Aggressive dissection near the common bile duct is an unsafe region.',\n",
       "  'Dissection directly on the liver parenchyma is an unsafe region.',\n",
       "  'Anatomical knowledge and meticulous dissection technique are important in laparoscopic cholecystectomy.',\n",
       "  'Safe regions allow careful dissection and development of planes without risking injury to critical structures.',\n",
       "  'Unsafe regions have complex anatomy and a high risk of injury to the common bile duct or other structures.',\n",
       "  'Inflammation, adhesions, or other abnormalities can complicate dissection and increase the risk of complications.'],\n",
       " 'relevant_claims': ['The dark brown tissue at the top and left of the image is the liver.',\n",
       "  'Dissection directly on the liver parenchyma should be avoided to minimize bleeding and bile leak.',\n",
       "  'The thin-walled sac is the gallbladder.',\n",
       "  'The cystic duct is the small tubular structure entering the gallbladder.',\n",
       "  'Premature division or injury to the common bile duct is a major risk at the cystic duct.',\n",
       "  \"Calot's triangle is bounded by the cystic duct, the common hepatic duct (or common bile duct), and the inferior border of the liver.\",\n",
       "  \"Dissection within Calot's triangle is essential to identify and isolate the cystic duct and artery.\",\n",
       "  \"Calot's triangle is where the common bile duct is most vulnerable to injury.\",\n",
       "  'The common bile duct lies posterior to the cystic duct and artery.',\n",
       "  'The serosa/peritoneum is the thin, translucent layer covering the gallbladder and surrounding structures.',\n",
       "  'Fibrous tissue or adhesions can be present, especially in cases of chronic cholecystitis.',\n",
       "  'Dissection through fibrous tissue can increase the risk of bleeding or injury to adjacent structures.',\n",
       "  'The cystic artery and other small vessels need to be carefully identified and controlled to prevent bleeding.',\n",
       "  'Inflammation or edema can make dissection more difficult and increase the risk of injury.',\n",
       "  'Adhesions to the omentum or other structures can obscure the anatomy and make dissection more challenging.',\n",
       "  'A thickened gallbladder wall can indicate chronic cholecystitis.',\n",
       "  'Careful dissection of the peritoneum overlying the gallbladder is a safe region.',\n",
       "  'Blunt dissection to develop the plane between the gallbladder and the liver bed is a safe region.',\n",
       "  \"Blind dissection within Calot's triangle is an unsafe region.\",\n",
       "  'Dissection without clear identification of the cystic duct and artery is an unsafe region.',\n",
       "  'Aggressive dissection near the common bile duct is an unsafe region.',\n",
       "  'Dissection directly on the liver parenchyma is an unsafe region.'],\n",
       " 'alignable_claims': ['The dark brown tissue at the top and left of the image is the liver.',\n",
       "  'Dissection directly on the liver parenchyma should be avoided to minimize bleeding and bile leak.',\n",
       "  'The thin-walled sac is the gallbladder.',\n",
       "  'The cystic duct is the small tubular structure entering the gallbladder.',\n",
       "  'Premature division or injury to the common bile duct is a major risk at the cystic duct.',\n",
       "  \"Calot's triangle is bounded by the cystic duct, the common hepatic duct (or common bile duct), and the inferior border of the liver.\",\n",
       "  \"Dissection within Calot's triangle is essential to identify and isolate the cystic duct and artery.\",\n",
       "  \"Calot's triangle is where the common bile duct is most vulnerable to injury.\",\n",
       "  'The common bile duct lies posterior to the cystic duct and artery.',\n",
       "  'The serosa/peritoneum is the thin, translucent layer covering the gallbladder and surrounding structures.',\n",
       "  'Fibrous tissue or adhesions can be present, especially in cases of chronic cholecystitis.',\n",
       "  'Dissection through fibrous tissue can increase the risk of bleeding or injury to adjacent structures.',\n",
       "  'The cystic artery and other small vessels need to be carefully identified and controlled to prevent bleeding.',\n",
       "  'Inflammation or edema can make dissection more difficult and increase the risk of injury.',\n",
       "  'Adhesions to the omentum or other structures can obscure the anatomy and make dissection more challenging.',\n",
       "  'A thickened gallbladder wall can indicate chronic cholecystitis.',\n",
       "  'Careful dissection of the peritoneum overlying the gallbladder is a safe region.',\n",
       "  'Blunt dissection to develop the plane between the gallbladder and the liver bed is a safe region.',\n",
       "  \"Blind dissection within Calot's triangle is an unsafe region.\",\n",
       "  'Dissection without clear identification of the cystic duct and artery is an unsafe region.',\n",
       "  'Aggressive dissection near the common bile duct is an unsafe region.',\n",
       "  'Dissection directly on the liver parenchyma is an unsafe region.'],\n",
       " 'aligned_category_ids': [2,\n",
       "  7,\n",
       "  9,\n",
       "  3,\n",
       "  5,\n",
       "  1,\n",
       "  3,\n",
       "  5,\n",
       "  5,\n",
       "  7,\n",
       "  10,\n",
       "  7,\n",
       "  9,\n",
       "  10,\n",
       "  10,\n",
       "  10,\n",
       "  7,\n",
       "  7,\n",
       "  9,\n",
       "  9,\n",
       "  5,\n",
       "  7],\n",
       " 'alignment_scores': [0.3,\n",
       "  0.8,\n",
       "  0.3,\n",
       "  0.7,\n",
       "  0.8,\n",
       "  0.8,\n",
       "  0.8,\n",
       "  0.7,\n",
       "  0.7,\n",
       "  0.3,\n",
       "  0.7,\n",
       "  0.7,\n",
       "  0.7,\n",
       "  0.8,\n",
       "  0.7,\n",
       "  0.3,\n",
       "  0.7,\n",
       "  0.9,\n",
       "  0.8,\n",
       "  1.0,\n",
       "  0.9,\n",
       "  0.9],\n",
       " 'alignment_reasonings': ['The claim mentions the liver, which is relevant to the criterion of exposing the cystic plate, as this involves dissecting the gallbladder off the liver. However, the claim does not explicitly discuss the exposure of the cystic plate or the dissection plane, resulting in a low alignment score.',\n",
       "  'The claim emphasizes avoiding dissection directly on the liver parenchyma, which aligns with the criterion of staying in the avascular subserosal plane to minimize complications like bleeding and bile leak. The alignment is strong but not perfect, as the claim does not explicitly mention the subserosal plane, hence a rating of 0.8.',\n",
       "  'The claim mentions identifying the gallbladder, which relates to the importance of identifying structures before division. However, it does not explicitly address the identification of ducts or vessels, resulting in a low alignment score.',\n",
       "  'The claim identifies the cystic duct as a structure entering the gallbladder, which aligns with the criterion that only the cystic duct and cystic artery should be visible before clipping or cutting. However, the claim does not mention the cystic artery or the visibility of only two structures, so the alignment is not perfect.',\n",
       "  'The claim highlights the risk of injury to the common bile duct during procedures involving the cystic duct. This aligns with the criterion of maintaining a safe distance from the common bile duct to prevent such injuries. The alignment is strong because the claim directly addresses the risk of premature division or injury, which is mitigated by ensuring a safe distance. However, it does not explicitly mention maintaining a distance, hence not a perfect score.',\n",
       "  \"The claim describes the anatomical boundaries of Calot's triangle, which is relevant to the criterion of clearing Calot's triangle. However, it does not explicitly state that the triangle has been cleared of fat and fibrosis, which is necessary for a perfect alignment. Therefore, the alignment is high but not perfect.\",\n",
       "  \"The claim emphasizes the importance of dissection within Calot's triangle to identify and isolate the cystic duct and artery, which aligns closely with the criterion that only these two structures should be visible before clipping or cutting. The alignment is strong because the claim focuses on the identification of these structures, but it does not explicitly state that only these two structures are visible, hence a slightly less than perfect score.\",\n",
       "  \"The claim highlights the vulnerability of the common bile duct in the area of Calot's triangle, which aligns with the criterion emphasizing the importance of maintaining a safe distance from the common bile duct during dissection. The alignment is not perfect because the claim does not explicitly mention maintaining a safe distance, but it does imply the need for caution in this area.\",\n",
       "  \"The claim mentions the position of the common bile duct relative to the cystic duct and artery, which relates to ensuring a safe distance from the common bile duct during dissection. While the claim does not explicitly state that a safe distance is maintained, it implies awareness of the duct's location, which is crucial for safety. Therefore, the alignment is moderately strong.\",\n",
       "  'The claim describes the serosa/peritoneum, which is relevant to the subserosal plane where dissection should occur. However, the claim does not specifically address staying in the subserosal plane during dissection, resulting in a low alignment score.',\n",
       "  'The claim mentions the presence of fibrous tissue or adhesions, which is a common scenario in chronic cholecystitis. This situation can obscure Calot\\'s triangle, aligning with the criterion that suggests converting to a subtotal \"fundus-first\" approach in such cases. The alignment is moderate because the claim does not explicitly mention the need for a bailout, but it implies a challenging dissection scenario that could necessitate it.',\n",
       "  'The claim highlights the risks associated with dissecting through fibrous tissue, which aligns with the criterion of staying in the avascular subserosal plane to avoid injury and bleeding. The alignment is not perfect because the claim does not explicitly mention the subserosal plane, but it implies the importance of avoiding fibrous tissue, which is related to this criterion.',\n",
       "  'The claim emphasizes the importance of identifying and controlling the cystic artery and other vessels, which aligns with the criterion of not dividing any duct or vessel until it is unequivocally identified. The focus on preventing bleeding by careful identification suggests a strong, but not perfect, alignment with this safety principle.',\n",
       "  \"The claim discusses inflammation and edema, which can complicate dissection and increase injury risk. This aligns with the criterion of converting to a safer approach when inflammation obscures anatomy. The alignment is strong because the claim highlights the risk factors that the criterion addresses, though it doesn't explicitly mention the bailout strategy.\",\n",
       "  'The claim discusses how adhesions can obscure anatomy, which aligns with the criterion of converting to a safer approach when anatomy is unclear due to scarring or distortion. While the claim does not explicitly mention converting to a \"fundus-first\" approach, it highlights the challenge of obscured anatomy, which is central to this criterion. Hence, a moderately high alignment rating is appropriate.',\n",
       "  'The claim mentions a thickened gallbladder wall, which can be associated with chronic cholecystitis and potentially lead to distorted anatomy. This situation may necessitate a bailout strategy, such as converting to a subtotal \"fundus-first\" approach, if the anatomy is obscured. However, the claim does not directly address the need for a bailout, so the alignment is low.',\n",
       "  \"The claim discusses careful dissection of the peritoneum overlying the gallbladder, which aligns with the concept of staying in the avascular subserosal plane. This criterion emphasizes maintaining a safe dissection plane under the serosal fat layer, which is related to the claim's focus on careful dissection in a safe region. The alignment is not perfect because the claim does not explicitly mention the subserosal plane, but it is closely related.\",\n",
       "  'The claim describes using blunt dissection to develop the plane between the gallbladder and the liver bed, which aligns with the criterion of staying in the avascular subserosal cleavage plane. This is considered a safe region for dissection, closely matching the intent of the criterion, hence a high alignment rating.',\n",
       "  \"The claim emphasizes the danger of blind dissection within Calot's triangle, which aligns with the principle of not dividing any duct or vessel until it is unequivocally identified. This criterion is about ensuring structures are clearly identified before cutting, which is closely related to avoiding blind dissection. The alignment is strong but not perfect because the claim does not explicitly mention identification before division, hence a rating of 0.8.\",\n",
       "  'The claim explicitly states that dissection without clear identification of the cystic duct and artery is unsafe, which directly aligns with the criterion that emphasizes the importance of unequivocally identifying these structures before division. This alignment is perfect as the claim directly supports the principle of this safety criterion.',\n",
       "  'The claim highlights the risk associated with aggressive dissection near the common bile duct, which aligns closely with the criterion emphasizing the need for a safe distance from the common bile duct to ensure safe dissection. The alignment is strong because the claim directly addresses the importance of maintaining a safe distance, although it does not specify the exact distance, hence a slightly less than perfect score.',\n",
       "  'The claim highlights the risk of dissecting directly on the liver parenchyma, which aligns with the criterion of staying in the avascular subserosal plane to avoid injury. The alignment is strong because the claim emphasizes avoiding unsafe dissection regions, which is the essence of this criterion. However, it does not explicitly mention the subserosal plane, so it is not a perfect match.'],\n",
       " 'final_alignment_score': 0.4371428571428572}"
      ]
     },
     "execution_count": 9,
     "metadata": {},
     "output_type": "execute_result"
    }
   ],
   "source": [
    "examples[1].to_dict()"
   ]
  },
  {
   "cell_type": "code",
   "execution_count": 10,
   "id": "515eb311-7383-4de4-924a-5c5a2f751040",
   "metadata": {},
   "outputs": [
    {
     "data": {
      "text/plain": [
       "\"Here's an interesting fact: Honeybees can recognize human faces! Scientists have discovered that despite their tiny brains, honeybees can be trained to distinguish between different human facial features and remember them later. They do this by breaking down faces into simpler patterns, similar to how facial recognition software works.\""
      ]
     },
     "execution_count": 10,
     "metadata": {},
     "output_type": "execute_result"
    }
   ],
   "source": [
    "claude(\"Tell me something!\")"
   ]
  },
  {
   "cell_type": "code",
   "execution_count": null,
   "id": "f7e2862f-5e6a-4e46-a0fc-1398cea6fa5f",
   "metadata": {},
   "outputs": [],
   "source": []
  }
 ],
 "metadata": {
  "kernelspec": {
   "display_name": "Python 3 (ipykernel)",
   "language": "python",
   "name": "python3"
  },
  "language_info": {
   "codemirror_mode": {
    "name": "ipython",
    "version": 3
   },
   "file_extension": ".py",
   "mimetype": "text/x-python",
   "name": "python",
   "nbconvert_exporter": "python",
   "pygments_lexer": "ipython3",
   "version": "3.10.13"
  }
 },
 "nbformat": 4,
 "nbformat_minor": 5
}
