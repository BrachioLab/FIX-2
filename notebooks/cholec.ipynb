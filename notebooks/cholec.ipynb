{
 "cells": [
  {
   "cell_type": "code",
   "execution_count": 1,
   "id": "0541b91f-8cd7-40cf-bcdf-b4802306fc78",
   "metadata": {},
   "outputs": [
    {
     "name": "stderr",
     "output_type": "stream",
     "text": [
      "/home/antonxue/lib/miniconda3/envs/tfl/lib/python3.10/site-packages/pandas/core/arrays/masked.py:60: UserWarning: Pandas requires version '1.3.6' or newer of 'bottleneck' (version '1.3.5' currently installed).\n",
      "  from pandas.core import (\n"
     ]
    }
   ],
   "source": [
    "import time\n",
    "import matplotlib.pyplot as plt\n",
    "import numpy as np\n",
    "import torch\n",
    "import json\n",
    "\n",
    "import sys; sys.path.append(\"../src\")\n",
    "from cholec import \\\n",
    "    CholecExample, \\\n",
    "    CholecDataset, \\\n",
    "    get_llm_generated_answer, \\\n",
    "    isolate_individual_features, \\\n",
    "    distill_relevant_features, \\\n",
    "    calculate_expert_alignment_scores"
   ]
  },
  {
   "cell_type": "code",
   "execution_count": 2,
   "id": "f35182ed-757d-4e1a-9286-329cbddda5b0",
   "metadata": {},
   "outputs": [],
   "source": [
    "dataset = CholecDataset(split=\"test\")\n",
    "num_samples = 3\n",
    "items = [dataset[i] for i in range(num_samples)]"
   ]
  },
  {
   "cell_type": "markdown",
   "id": "45f5afb4-f847-4a82-b15c-a8c4e1f08c81",
   "metadata": {},
   "source": [
    "### Stage 0: Get LLM explanations"
   ]
  },
  {
   "cell_type": "code",
   "execution_count": 3,
   "id": "3aeb289e-c9e4-4ea9-81ee-709af41825bf",
   "metadata": {},
   "outputs": [
    {
     "name": "stdout",
     "output_type": "stream",
     "text": [
      "Elapsed: 15.269\n"
     ]
    }
   ],
   "source": [
    "_t = time.time()\n",
    "# Parallelized calls to the LLM\n",
    "llm_answers = get_llm_generated_answer([item[\"image\"] for item in items])\n",
    "print(f\"Elapsed: {time.time() - _t:.3f}\")"
   ]
  },
  {
   "cell_type": "code",
   "execution_count": 4,
   "id": "2301489e-e2c2-49e0-99da-c9483b66aeb6",
   "metadata": {},
   "outputs": [],
   "source": [
    "examples = [\n",
    "    CholecExample(\n",
    "        id=item[\"id\"],\n",
    "        image=item[\"image\"],\n",
    "        organ_masks=[item[\"organs\"] == i for i in [0, 1, 2]],\n",
    "        gonogo_masks=[item[\"gonogo\"] == i for i in [0, 1, 2, 3]],\n",
    "        llm_explanation = llm_ans\n",
    "    )\n",
    "    for (item, llm_ans) in zip(items, llm_answers)\n",
    "]"
   ]
  },
  {
   "cell_type": "code",
   "execution_count": null,
   "id": "30087470-cf1a-48c4-a0d2-6a31df741ba1",
   "metadata": {},
   "outputs": [],
   "source": []
  },
  {
   "cell_type": "markdown",
   "id": "f9d57d1a-87e8-4a90-a1d0-07a92fdb19ce",
   "metadata": {},
   "source": [
    "### Stage 1: Atomic claim extraction"
   ]
  },
  {
   "cell_type": "code",
   "execution_count": 5,
   "id": "17499652-17eb-47f1-8b89-35e53e73d871",
   "metadata": {},
   "outputs": [
    {
     "name": "stdout",
     "output_type": "stream",
     "text": [
      "Elapsed: 4.357\n"
     ]
    }
   ],
   "source": [
    "_t = time.time()\n",
    "# Parallelized calls to get the list of list of claims\n",
    "all_all_claims = isolate_individual_features([example.llm_explanation for example in examples])\n",
    "print(f\"Elapsed: {time.time() - _t:.3f}\")"
   ]
  },
  {
   "cell_type": "code",
   "execution_count": 6,
   "id": "6ce91ec2-7b3f-4013-874f-7de6f67c4623",
   "metadata": {},
   "outputs": [],
   "source": [
    "for i in range(len(all_all_claims)):\n",
    "    examples[i].all_claims = all_all_claims[i]"
   ]
  },
  {
   "cell_type": "code",
   "execution_count": 7,
   "id": "4f95f2a2-383f-49e5-965a-32d7d849e398",
   "metadata": {},
   "outputs": [
    {
     "data": {
      "text/plain": [
       "(3, 3, [12, 13, 17])"
      ]
     },
     "execution_count": 7,
     "metadata": {},
     "output_type": "execute_result"
    }
   ],
   "source": [
    "len(examples), len(all_all_claims), [len(ac) for ac in all_all_claims]"
   ]
  },
  {
   "cell_type": "markdown",
   "id": "6324685a-6aed-4bc9-8911-036337253f12",
   "metadata": {},
   "source": [
    "### Stage 2: Distill relevant claims"
   ]
  },
  {
   "cell_type": "code",
   "execution_count": 8,
   "id": "f840dedb-c4b0-46c5-95a4-406e805306a6",
   "metadata": {},
   "outputs": [
    {
     "name": "stdout",
     "output_type": "stream",
     "text": [
      "Elapsed: 12.271\n"
     ]
    }
   ],
   "source": [
    "# There's several claims per example, so ful parallelization won't buy **that** much.\n",
    "_t = time.time()\n",
    "for example in examples:\n",
    "    example.relevant_claims = distill_relevant_features(example.image, example.all_claims)\n",
    "print(f\"Elapsed: {time.time() - _t:.3f}\")"
   ]
  },
  {
   "cell_type": "code",
   "execution_count": 9,
   "id": "2bb39a48-696e-445a-85ec-a7b1c1ce2249",
   "metadata": {},
   "outputs": [
    {
     "data": {
      "text/plain": [
       "[5, 5, 4]"
      ]
     },
     "execution_count": 9,
     "metadata": {},
     "output_type": "execute_result"
    }
   ],
   "source": [
    "[len(ex.relevant_claims) for ex in examples]"
   ]
  },
  {
   "cell_type": "markdown",
   "id": "802c01cb-7e94-4332-ad9a-1d2ef8be2a48",
   "metadata": {},
   "source": [
    "### Stage 3: Calculate alignment scores"
   ]
  },
  {
   "cell_type": "code",
   "execution_count": 10,
   "id": "19531b77-40b5-432a-86cb-edeabf8e4bd4",
   "metadata": {},
   "outputs": [
    {
     "name": "stdout",
     "output_type": "stream",
     "text": [
      "Elapsed 1/3: 2.035, score 0.840\n",
      "Elapsed 2/3: 4.380, score 0.720\n",
      "Elapsed 3/3: 6.081, score 0.525\n"
     ]
    }
   ],
   "source": [
    "_t = time.time()\n",
    "for i, ex in enumerate(examples):\n",
    "    align_infos = calculate_expert_alignment_scores(ex.relevant_claims)\n",
    "\n",
    "    if len(align_infos) > 0:\n",
    "        final_score = sum(info[\"Alignment\"] for info in align_infos) / len(align_infos)\n",
    "    else:\n",
    "        final_score = 0.0\n",
    "\n",
    "    ex.alignable_claims = [info[\"Claim\"] for info in align_infos]\n",
    "    ex.aligned_category_ids = [info[\"Category ID\"] for info in align_infos]\n",
    "    ex.alignment_scores = [info[\"Alignment\"] for info in align_infos]\n",
    "    ex.alignment_reasonings = [info[\"Reasoning\"] for info in align_infos]\n",
    "    ex.final_alignment_score = final_score\n",
    "    print(f\"Elapsed {i+1}/{len(examples)}: {time.time() - _t:.3f}, score {final_score:.3f}\")"
   ]
  },
  {
   "cell_type": "markdown",
   "id": "af6a11bb-2d48-4d8d-83b7-4266bb1e4ced",
   "metadata": {},
   "source": [
    "### Save to file"
   ]
  },
  {
   "cell_type": "code",
   "execution_count": 11,
   "id": "2bc89b6c-7ba6-41e7-8fae-61cd76f91ec8",
   "metadata": {},
   "outputs": [],
   "source": [
    "with open(f\"_dump/cholec_dump.json\", \"w\") as f:\n",
    "    json.dump([ex.to_dict() for ex in examples], f, indent=2)"
   ]
  },
  {
   "cell_type": "code",
   "execution_count": null,
   "id": "fbc6ea71-9d62-4a5b-9f0b-0764c95606b2",
   "metadata": {},
   "outputs": [],
   "source": []
  }
 ],
 "metadata": {
  "kernelspec": {
   "display_name": "Python 3 (ipykernel)",
   "language": "python",
   "name": "python3"
  },
  "language_info": {
   "codemirror_mode": {
    "name": "ipython",
    "version": 3
   },
   "file_extension": ".py",
   "mimetype": "text/x-python",
   "name": "python",
   "nbconvert_exporter": "python",
   "pygments_lexer": "ipython3",
   "version": "3.10.13"
  }
 },
 "nbformat": 4,
 "nbformat_minor": 5
}
