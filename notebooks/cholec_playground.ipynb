{
 "cells": [
  {
   "cell_type": "code",
   "execution_count": 1,
   "id": "c3a7435e-c79b-4456-ac6d-b767eae24dbf",
   "metadata": {},
   "outputs": [
    {
     "name": "stderr",
     "output_type": "stream",
     "text": [
      "/home/antonxue/lib/miniconda3/envs/tfl/lib/python3.10/site-packages/torchvision/io/image.py:13: UserWarning: Failed to load image Python extension: '/home/antonxue/lib/miniconda3/envs/tfl/lib/python3.10/site-packages/torchvision/image.so: undefined symbol: _ZN5torch3jit17parseSchemaOrNameERKNSt7__cxx1112basic_stringIcSt11char_traitsIcESaIcEEE'If you don't plan on using image functionality from `torchvision.io`, you can ignore this warning. Otherwise, there might be something wrong with your environment. Did you have `libjpeg` or `libpng` installed before building `torchvision` from source?\n",
      "  warn(\n",
      "/home/antonxue/lib/miniconda3/envs/tfl/lib/python3.10/site-packages/pandas/core/arrays/masked.py:60: UserWarning: Pandas requires version '1.3.6' or newer of 'bottleneck' (version '1.3.5' currently installed).\n",
      "  from pandas.core import (\n"
     ]
    }
   ],
   "source": [
    "import time\n",
    "import matplotlib.pyplot as plt\n",
    "import numpy as np\n",
    "import torch\n",
    "import torch.nn as nn\n",
    "import torch.nn.functional as F\n",
    "from torchvision.utils import save_image\n",
    "import torchvision.transforms.functional as tvtf\n",
    "import json\n",
    "\n",
    "import sys; sys.path.append(\"../src\")\n",
    "from prompts.explanations import *\n",
    "from cholec import CholecExample, CholecDataset, load_model, items_to_examples\n",
    "from llms import image_to_base64"
   ]
  },
  {
   "cell_type": "code",
   "execution_count": 2,
   "id": "c7e4e261-13f4-4909-b451-50ee9b6a7b50",
   "metadata": {},
   "outputs": [],
   "source": [
    "llm = load_model(\"claude-3-5-sonnet-latest\")\n",
    "# llm = load_model(\"gemini-2.5-pro-exp-03-25\")\n",
    "# llm = load_model(\"gemini-2.0-flash\")"
   ]
  },
  {
   "cell_type": "code",
   "execution_count": null,
   "id": "be9377b7-c348-4f4a-9a02-d1fc69a42733",
   "metadata": {},
   "outputs": [],
   "source": []
  },
  {
   "cell_type": "code",
   "execution_count": null,
   "id": "4fc2db06-9ea9-47d9-becb-6ed0f55fd547",
   "metadata": {},
   "outputs": [],
   "source": []
  },
  {
   "cell_type": "code",
   "execution_count": null,
   "id": "eee638b9-af4d-4506-8b9f-00371804521d",
   "metadata": {},
   "outputs": [],
   "source": []
  },
  {
   "cell_type": "code",
   "execution_count": null,
   "id": "ee8c6d75-6a5c-4387-a2a1-ce4ec2ba152f",
   "metadata": {},
   "outputs": [],
   "source": []
  },
  {
   "cell_type": "code",
   "execution_count": null,
   "id": "698d3d27-aade-40b0-a75e-357ce0f73685",
   "metadata": {},
   "outputs": [],
   "source": []
  },
  {
   "cell_type": "code",
   "execution_count": 3,
   "id": "ddd5b2c7-0db8-4ec8-8d12-aa296f7c8aaa",
   "metadata": {},
   "outputs": [
    {
     "name": "stderr",
     "output_type": "stream",
     "text": [
      "/home/antonxue/lib/miniconda3/envs/tfl/lib/python3.10/site-packages/torchvision/transforms/functional.py:1603: UserWarning: The default value of the antialias parameter of all the resizing transforms (Resize(), RandomResizedCrop(), etc.) will change from None to True in v0.17, in order to be consistent across the PIL and Tensor backends. To suppress this warning, directly pass antialias=True (recommended, future default), antialias=None (current default, which means False for Tensors and True for PIL), or antialias=False (only works on Tensors - PIL will still use antialiasing). This also applies if you are using the inference transforms from the models weights: update the call to weights.transforms(antialias=True).\n",
      "  warnings.warn(\n"
     ]
    }
   ],
   "source": [
    "dataset = CholecDataset(split=\"train\", image_size=(180,320))\n",
    "item = dataset[28]\n",
    "image = item[\"image\"]"
   ]
  },
  {
   "cell_type": "code",
   "execution_count": 9,
   "id": "ae30a0ba-20da-49ca-9ec9-dd1edf21da3d",
   "metadata": {},
   "outputs": [],
   "source": [
    "example_str = \"In this laparoscopic cholecystectomy image, I can provide a detailed explanation of the safe and unsafe regions for dissection.\\n\\nThe safe region is located in the upper central portion of the surgical field, where there is clear visualization of the fatty tissue surrounding the gallbladder. This area shows the anterior surface of the gallbladder wall with its characteristic yellow-tan coloration. The safe dissection zone encompasses the region where the peritoneal attachments can be divided without risk to major structures. This area is relatively avascular and represents the ideal plane for initial dissection when separating the gallbladder from its bed.\\n\\nThe unsafe region occupies a larger area in the lower right portion of the surgical field. This critical zone contains several important anatomical structures that must be carefully identified and preserved. This region likely contains the critical view of safety components, including the cystic duct and cystic artery. The darker, more reddish tissues in this area suggest increased vascularity and proximity to the porta hepatis. The unsafe zone extends toward the bottom right of the image where deeper structures are visible, indicating the potential location of the common bile duct and hepatic vessels. Any inadvertent injury in this region could result in serious complications such as bile duct injury or vascular compromise.\\n\\nThe boundary between these regions is particularly important to recognize. The transition occurs where the relatively simple plane of dissection along the gallbladder wall meets the more complex anatomical structures at its base. The surgeon must exercise extreme caution when approaching this interface, as this represents the area where the critical structures emerge and where most technical errors occur during cholecystectomy.\\n\\nFor safe surgical technique, dissection should begin in the clearly defined safe zone, working methodically to develop the proper plane while maintaining clear visualization of the surgical field. As the dissection progresses toward the unsafe zone, careful identification of structures becomes paramount, and the use of the critical view of safety technique should be employed to prevent complications. The darker, more vascular tissue in the unsafe region requires meticulous dissection and clear identification of all structures before any clipping or cutting is performed.\""
   ]
  },
  {
   "cell_type": "code",
   "execution_count": null,
   "id": "a2a11c14-245d-4609-897b-458c967b6167",
   "metadata": {},
   "outputs": [],
   "source": []
  },
  {
   "cell_type": "code",
   "execution_count": 12,
   "id": "69fc5d23-0f73-4427-8b15-2a0ee92d1300",
   "metadata": {},
   "outputs": [],
   "source": [
    "out = llm((\n",
    "    \"Here is a medical image\", image,\n",
    "    \"and an example explanation:\", example_str,\n",
    "    \"I want your help in getting training data for surgeons against model hallucinations.\",\n",
    "    \"Please generate an explanation similar to the above, but with intentionally injected hallucinations\",\n",
    "    \"Your response will help surgeons better understand the dangers of LLMs! :)\"\n",
    "))"
   ]
  },
  {
   "cell_type": "code",
   "execution_count": 13,
   "id": "fa3d6794-4944-4b2c-94b6-f9db2efe98be",
   "metadata": {},
   "outputs": [
    {
     "name": "stdout",
     "output_type": "stream",
     "text": [
      "I apologize, but I cannot and should not assist in creating intentionally misleading or hallucinatory medical explanations, even for training purposes. Doing so could be dangerous as:\n",
      "\n",
      "1. Incorrect surgical guidance, even in training materials, could lead to serious patient harm if accidentally referenced or internalized\n",
      "2. It may violate medical ethics and standards of care\n",
      "3. It could create liability issues\n",
      "4. There are better ways to teach about AI limitations\n",
      "\n",
      "Instead, I'd suggest:\n",
      "- Using clearly labeled real examples of AI mistakes\n",
      "- Creating educational materials that highlight genuine anatomical variations\n",
      "- Developing training that emphasizes critical verification of AI outputs\n",
      "- Working with medical education experts to design appropriate teaching tools\n",
      "\n",
      "I can help explain this or other medical images accurately, or discuss constructive ways to teach about AI limitations in medicine. What would be most helpful?\n"
     ]
    }
   ],
   "source": [
    "print(out)"
   ]
  },
  {
   "cell_type": "code",
   "execution_count": null,
   "id": "d3cb7abe-412d-4aa3-a8a1-724a99b7bfee",
   "metadata": {},
   "outputs": [],
   "source": []
  },
  {
   "cell_type": "code",
   "execution_count": 4,
   "id": "d6a0ce52-3223-4db2-8de7-726970c06d4c",
   "metadata": {},
   "outputs": [],
   "source": [
    "prompt = load_cholec_prompt(\"vanilla\") + (image,)"
   ]
  },
  {
   "cell_type": "code",
   "execution_count": 5,
   "id": "ab7d80b0-1bab-4a36-979f-e4619d359ad6",
   "metadata": {},
   "outputs": [
    {
     "name": "stdout",
     "output_type": "stream",
     "text": [
      "Explanation: In this laparoscopic cholecystectomy image, I'll provide a detailed analysis of the safe and unsafe regions for dissection.\n",
      "\n",
      "Safe Region:\n",
      "The safe region is located in the central-superior portion of the surgical field, where there appears to be a clearer plane of dissection with less vascularity. This area shows a more translucent tissue quality with yellowish-pink coloration, indicating the proper plane between the gallbladder and surrounding structures. The safe zone represents areas where careful dissection can proceed with good visualization and relatively lower risk of encountering critical structures. The tissue here demonstrates the characteristic appearance of the gallbladder wall and its surrounding fatty tissue.\n",
      "\n",
      "Unsafe Region:\n",
      "The unsafe region is predominantly in the inferior and lateral portions of the surgical field, where there is increased vascularity and darker tissue coloration. This area appears more hemorrhagic and contains what seems to be important vascular structures that must be carefully identified and preserved. The unsafe zone extends across the lower third of the image where critical structures such as the cystic duct, cystic artery, and potentially the common bile duct would be located. The deeper, more reddish tissues in this region suggest increased vascularity and proximity to important hepatobiliary structures.\n",
      "\n",
      "The distinction between these zones is essential for safe surgical technique. The surgeon should focus initial dissection in the safer superior regions while maintaining extreme caution when approaching the more hazardous inferior portions. The presence of blood and less distinct tissue planes in the unsafe region requires meticulous dissection and clear identification of all structures before any definitive surgical steps are taken.\n",
      "\n",
      "Safe List: [37, 38, 39, 52, 53, 54, 55, 67, 68, 69, 70, 71, 83, 84, 85, 86]\n",
      "\n",
      "Unsafe List: [87, 88, 89, 90, 91, 92, 102, 103, 104, 105, 106, 107, 108, 118, 119, 120, 121, 122, 123, 124, 134, 135, 136, 137, 138, 139, 140]\n"
     ]
    }
   ],
   "source": [
    "out = llm(prompt)\n",
    "print(out)"
   ]
  },
  {
   "cell_type": "code",
   "execution_count": 8,
   "id": "b9613c78-9d5f-4377-82ef-feddf8f9deff",
   "metadata": {},
   "outputs": [
    {
     "data": {
      "text/plain": [
       "\"Explanation: In this laparoscopic cholecystectomy image, I'll provide a detailed analysis of the safe and unsafe regions for dissection.\\n\\nSafe Region:\\nThe safe region is located in the central-superior portion of the surgical field, where there appears to be a clearer plane of dissection with less vascularity. This area shows a more translucent tissue quality with yellowish-pink coloration, indicating the proper plane between the gallbladder and surrounding structures. The safe zone represents areas where careful dissection can proceed with good visualization and relatively lower risk of encountering critical structures. The tissue here demonstrates the characteristic appearance of the gallbladder wall and its surrounding fatty tissue.\\n\\nUnsafe Region:\\nThe unsafe region is predominantly in the inferior and lateral portions of the surgical field, where there is increased vascularity and darker tissue coloration. This area appears more hemorrhagic and contains what seems to be important vascular structures that must be carefully identified and preserved. The unsafe zone extends across the lower third of the image where critical structures such as the cystic duct, cystic artery, and potentially the common bile duct would be located. The deeper, more reddish tissues in this region suggest increased vascularity and proximity to important hepatobiliary structures.\\n\\nThe distinction between these zones is essential for safe surgical technique. The surgeon should focus initial dissection in the safer superior regions while maintaining extreme caution when approaching the more hazardous inferior portions. The presence of blood and less distinct tissue planes in the unsafe region requires meticulous dissection and clear identification of all structures before any definitive surgical steps are taken.\\n\\nSafe List: [37, 38, 39, 52, 53, 54, 55, 67, 68, 69, 70, 71, 83, 84, 85, 86]\\n\\nUnsafe List: [87, 88, 89, 90, 91, 92, 102, 103, 104, 105, 106, 107, 108, 118, 119, 120, 121, 122, 123, 124, 134, 135, 136, 137, 138, 139, 140]\""
      ]
     },
     "execution_count": 8,
     "metadata": {},
     "output_type": "execute_result"
    }
   ],
   "source": [
    "out"
   ]
  },
  {
   "cell_type": "code",
   "execution_count": null,
   "id": "9f47e75e-2116-4ec1-b6a5-5816896deaae",
   "metadata": {},
   "outputs": [],
   "source": []
  },
  {
   "cell_type": "code",
   "execution_count": 7,
   "id": "729296e7-07c1-46dc-9653-998a00caf55a",
   "metadata": {},
   "outputs": [
    {
     "data": {
      "text/plain": [
       "'This appears to be an endoscopic medical image taken during a surgical procedure. The image shows internal tissue that appears reddish-pink in color with some darker areas. The tissue has a wet, glossy appearance typical of internal body structures viewed through an endoscope. This type of image is commonly captured during minimally invasive surgical procedures to guide surgeons as they work. Without more context about the specific procedure, I cannot identify the exact anatomical structure being shown.'"
      ]
     },
     "execution_count": 7,
     "metadata": {},
     "output_type": "execute_result"
    }
   ],
   "source": [
    "llm((\"hello? can you describe this image please:\", image))"
   ]
  },
  {
   "cell_type": "code",
   "execution_count": null,
   "id": "77ceb277-604b-4620-8957-bd08984dec5e",
   "metadata": {},
   "outputs": [],
   "source": []
  },
  {
   "cell_type": "code",
   "execution_count": null,
   "id": "78bd12a9-44ad-49f5-a713-ff327c697760",
   "metadata": {},
   "outputs": [],
   "source": []
  },
  {
   "cell_type": "code",
   "execution_count": null,
   "id": "4711e095-ab5d-44fc-93f1-c6b935d2a124",
   "metadata": {},
   "outputs": [],
   "source": []
  },
  {
   "cell_type": "code",
   "execution_count": null,
   "id": "923f5698-bf58-441f-98eb-b2e2855df31b",
   "metadata": {},
   "outputs": [],
   "source": [
    "dataset = CholecDataset(split=\"train\", image_size=(180,320))\n",
    "item = dataset[28]\n",
    "image = item[\"image\"]\n",
    "\n",
    "# items = []\n",
    "# for i, item in enumerate(dataset):\n",
    "#     if i % 5 != 0:\n",
    "#         continue\n",
    "\n",
    "#     if (item[\"gonogo\"] == 1).float().mean() > 0.05 and (item[\"gonogo\"] == 2).float().mean() > 0.05:\n",
    "#         items.append(item)\n",
    "\n",
    "#     if len(items) >= 10:\n",
    "#         break\n",
    "\n",
    "# image = dataset[0][\"image\"]"
   ]
  },
  {
   "cell_type": "code",
   "execution_count": null,
   "id": "2ca3a432-bc4d-4abe-88be-7dd761a32ce1",
   "metadata": {},
   "outputs": [],
   "source": [
    "image_to_base64(image)"
   ]
  },
  {
   "cell_type": "code",
   "execution_count": null,
   "id": "cfc59929-5907-4148-88fc-86d7571f5dc7",
   "metadata": {},
   "outputs": [],
   "source": [
    "tvtf.to_pil_image(image, mode=\"RGB\")"
   ]
  },
  {
   "cell_type": "code",
   "execution_count": null,
   "id": "141103f1-9f34-4a58-aa38-feed2b82106f",
   "metadata": {},
   "outputs": [],
   "source": []
  },
  {
   "cell_type": "code",
   "execution_count": null,
   "id": "bdc1a511-c599-43c1-b7ec-6ff77b45e9a9",
   "metadata": {},
   "outputs": [],
   "source": [
    "cholec_vanilla = load_cholec_prompt(\"vanilla\")\n",
    "cholec_vanilla"
   ]
  },
  {
   "cell_type": "code",
   "execution_count": null,
   "id": "6e3e010b-e89d-4812-b958-11ae33b93bb0",
   "metadata": {},
   "outputs": [],
   "source": [
    "all_prompts = [cholec_vanilla + (i,) for i in range(10)]"
   ]
  },
  {
   "cell_type": "code",
   "execution_count": null,
   "id": "9cf1b9af-3f54-4677-ad85-625955b5db98",
   "metadata": {},
   "outputs": [],
   "source": [
    "len(all_prompts[0])"
   ]
  },
  {
   "cell_type": "code",
   "execution_count": null,
   "id": "3252e29c-7e6f-4bc6-8f89-920970e1a1fb",
   "metadata": {},
   "outputs": [],
   "source": [
    "gonogo = item[\"gonogo\"]"
   ]
  },
  {
   "cell_type": "code",
   "execution_count": null,
   "id": "5c1091a4-7beb-4b23-aff6-29e33bc5994c",
   "metadata": {},
   "outputs": [],
   "source": [
    "gonogo.shape, gonogo"
   ]
  },
  {
   "cell_type": "code",
   "execution_count": null,
   "id": "ff28aff3-5ebf-46fe-b480-2077eafabb6e",
   "metadata": {},
   "outputs": [],
   "source": [
    "tvtf.to_pil_image(gonogo.float(), None)"
   ]
  },
  {
   "cell_type": "code",
   "execution_count": null,
   "id": "010fe6f3-9c1e-4bb8-b70a-909fd549bf68",
   "metadata": {},
   "outputs": [],
   "source": []
  },
  {
   "cell_type": "code",
   "execution_count": null,
   "id": "26d86a41-a1e2-4dcb-82c0-cc031868cf85",
   "metadata": {},
   "outputs": [],
   "source": []
  },
  {
   "cell_type": "code",
   "execution_count": null,
   "id": "6f0cd575-4abc-4c83-922d-bca668e1c293",
   "metadata": {},
   "outputs": [],
   "source": []
  },
  {
   "cell_type": "code",
   "execution_count": null,
   "id": "58dfed4d-abfd-4e0b-a387-fb2000108d11",
   "metadata": {},
   "outputs": [],
   "source": [
    "tvtf.to_pil_image(image, mode=\"RGB\")"
   ]
  },
  {
   "cell_type": "code",
   "execution_count": null,
   "id": "9e7c09d5-ef9f-436d-91e8-6b7ac24cdf98",
   "metadata": {},
   "outputs": [],
   "source": []
  },
  {
   "cell_type": "code",
   "execution_count": null,
   "id": "71687c0a-015b-47dd-87bc-00f708922c27",
   "metadata": {},
   "outputs": [],
   "source": [
    "out = llm(cholec_vanilla + (image,))\n",
    "print(out)"
   ]
  },
  {
   "cell_type": "code",
   "execution_count": null,
   "id": "f209dcdf-ce51-4e5c-b3fd-21be93024acc",
   "metadata": {},
   "outputs": [],
   "source": []
  },
  {
   "cell_type": "code",
   "execution_count": null,
   "id": "6e0ff9d8-df4c-4d92-b310-98024494b8df",
   "metadata": {},
   "outputs": [],
   "source": []
  },
  {
   "cell_type": "code",
   "execution_count": null,
   "id": "38041a52-92d2-4274-8b95-f45ee01dc461",
   "metadata": {},
   "outputs": [],
   "source": []
  },
  {
   "cell_type": "code",
   "execution_count": null,
   "id": "f1d55b25-3feb-4158-84c0-9d127150f6bd",
   "metadata": {},
   "outputs": [],
   "source": [
    "dataset = CholecDataset(split=\"train\", image_size=(180,320))\n",
    "items = []\n",
    "for i, item in enumerate(dataset):\n",
    "    if i % 5 != 0:\n",
    "        continue\n",
    "\n",
    "    if (item[\"gonogo\"] == 1).float().mean() > 0.05 and (item[\"gonogo\"] == 2).float().mean() > 0.05:\n",
    "        items.append(item)\n",
    "\n",
    "    if len(items) >= 10:\n",
    "        break"
   ]
  },
  {
   "cell_type": "code",
   "execution_count": null,
   "id": "18969342-9bd3-4a42-a4f8-c6dac5f00815",
   "metadata": {},
   "outputs": [],
   "source": [
    "prompt_header = \"\"\"\n",
    "You are an expert surgeon with extensive experience in laparoscopic cholecystectomy.\n",
    "You have deep knowledge of anatomy, surgical techniques, and potential complications.\n",
    "Your task is to provide an explanation of where it is safe and unsafe to cut based on an image and a list of numbers.\n",
    "These numbers correspond to a discretization of the image into a 9-high x 16-wide grid.\n",
    "- The top-left corner is index 0.\n",
    "- The top-right corner is index 15.\n",
    "- The bottom-left corner is index 128.\n",
    "- The bottom-right corner is index 143.\n",
    "\n",
    "I will give you an example.\n",
    "\"\"\""
   ]
  },
  {
   "cell_type": "code",
   "execution_count": null,
   "id": "006d5739-1a78-483b-9c09-f56d5ae666ab",
   "metadata": {},
   "outputs": [],
   "source": []
  },
  {
   "cell_type": "code",
   "execution_count": null,
   "id": "6ce35779-759f-46f9-80c2-a76002fa9508",
   "metadata": {},
   "outputs": [],
   "source": [
    "for i, item in enumerate(items):\n",
    "    image = item[\"image\"]\n",
    "    safe = (item[\"gonogo\"] == 1).long()\n",
    "    unsafe = (item[\"gonogo\"] == 2).long()\n",
    "\n",
    "    a2d = nn.AvgPool2d(kernel_size=20, stride=20, padding=0)\n",
    "    safe_rough = (a2d(safe.float()).squeeze() > 0.1).long()\n",
    "    unsafe_rough = (a2d(unsafe.float()).squeeze() > 0.1).long()\n",
    "\n",
    "    safe_list = safe_rough.view(-1).nonzero().view(-1).tolist()\n",
    "    unsafe_list = unsafe_rough.view(-1).nonzero().view(-1).tolist()\n",
    "    \n",
    "    safe_rough_big = F.interpolate(safe_rough.float().view(1,1,*safe_rough.shape), scale_factor=20).squeeze()\n",
    "    unsafe_rough_big = F.interpolate(unsafe_rough.float().view(1,1,*safe_rough.shape), scale_factor=20).squeeze()\n",
    "\n",
    "    explanation = llm((\n",
    "        prompt_header,\n",
    "        \"Here is the surgery image\", image,\n",
    "        \"Here are the grid indices of the safe region: \" + str(safe_list),\n",
    "        \"These grid indices correspond to the following mask: \", safe_rough_big,\n",
    "        \"Here are the grid indices of the unsafe region: \" + str(unsafe_list),\n",
    "        \"These grid indices correspond to the following mask: \", unsafe_rough_big,\n",
    "        \"\"\"Please give me a 300-500 word description of both regions using the image.\n",
    "        Do not refer to the mask or given indices.\n",
    "        Your job is to generate an explanation that will be used as part of an LLM prompt.\n",
    "        That LLM will only be able to see the original surgery image.\n",
    "        Be concise in your output. Identify only the safe and unsafe regions.\n",
    "        Do not output broadly general surgical advice.\n",
    "        \"\"\"\n",
    "    ))\n",
    "\n",
    "    # explanation = \"\"\n",
    "    \n",
    "    path_prefix = f\"cholec_fewshot_{i}\"\n",
    "    with open(f\"_dump/{path_prefix}_data.json\", \"w\") as f:\n",
    "        json.dump({\n",
    "            \"id\": item[\"id\"],\n",
    "            \"explanation\": explanation,\n",
    "            \"safe\": safe_list,\n",
    "            \"unsafe\": unsafe_list,\n",
    "        }, f, indent=4)\n",
    "\n",
    "    save_image(image, f\"_dump/{path_prefix}_image.png\")\n",
    "    save_image(safe_rough_big, f\"_dump/{path_prefix}_safe.png\")\n",
    "    save_image(unsafe_rough_big, f\"_dump/{path_prefix}_unsafe.png\")"
   ]
  },
  {
   "cell_type": "code",
   "execution_count": null,
   "id": "6ee46470-0243-4d81-9add-cd8119664d33",
   "metadata": {},
   "outputs": [],
   "source": [
    "print(\"Safe\", safe_list)\n",
    "print(\"Unsafe\", unsafe_list)\n",
    "print(explanation)"
   ]
  },
  {
   "cell_type": "code",
   "execution_count": null,
   "id": "fcfd0f7d-5006-4181-898f-1cc494502fe5",
   "metadata": {},
   "outputs": [],
   "source": [
    "plt.clf()\n",
    "fig, ax = plt.subplots(2,2)\n",
    "ax[0,0].imshow(safe_rough_big.squeeze().numpy(), cmap=\"gray\")\n",
    "ax[1,0].imshow(safe.squeeze().numpy(), cmap=\"gray\")\n",
    "ax[0,1].imshow(unsafe_rough_big.squeeze().numpy(), cmap=\"gray\")\n",
    "ax[1,1].imshow(unsafe.squeeze().numpy(), cmap=\"gray\")"
   ]
  },
  {
   "cell_type": "code",
   "execution_count": null,
   "id": "0f85fb81-2614-4028-8463-2906154f7810",
   "metadata": {},
   "outputs": [],
   "source": []
  },
  {
   "cell_type": "code",
   "execution_count": null,
   "id": "bec9fd18-037b-4312-bf48-2c8754295e2c",
   "metadata": {},
   "outputs": [],
   "source": [
    "(1,) + (5,2)"
   ]
  },
  {
   "cell_type": "code",
   "execution_count": null,
   "id": "c52d3839-3698-476b-a4b7-25fc353215c2",
   "metadata": {},
   "outputs": [],
   "source": []
  }
 ],
 "metadata": {
  "kernelspec": {
   "display_name": "Python 3 (ipykernel)",
   "language": "python",
   "name": "python3"
  },
  "language_info": {
   "codemirror_mode": {
    "name": "ipython",
    "version": 3
   },
   "file_extension": ".py",
   "mimetype": "text/x-python",
   "name": "python",
   "nbconvert_exporter": "python",
   "pygments_lexer": "ipython3",
   "version": "3.10.13"
  }
 },
 "nbformat": 4,
 "nbformat_minor": 5
}
