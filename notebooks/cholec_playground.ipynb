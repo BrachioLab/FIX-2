{
 "cells": [
  {
   "cell_type": "code",
   "execution_count": 1,
   "id": "c3a7435e-c79b-4456-ac6d-b767eae24dbf",
   "metadata": {},
   "outputs": [
    {
     "name": "stderr",
     "output_type": "stream",
     "text": [
      "/home/antonxue/lib/miniconda3/envs/tfl/lib/python3.10/site-packages/torchvision/io/image.py:13: UserWarning: Failed to load image Python extension: '/home/antonxue/lib/miniconda3/envs/tfl/lib/python3.10/site-packages/torchvision/image.so: undefined symbol: _ZN5torch3jit17parseSchemaOrNameERKNSt7__cxx1112basic_stringIcSt11char_traitsIcESaIcEEE'If you don't plan on using image functionality from `torchvision.io`, you can ignore this warning. Otherwise, there might be something wrong with your environment. Did you have `libjpeg` or `libpng` installed before building `torchvision` from source?\n",
      "  warn(\n",
      "/home/antonxue/lib/miniconda3/envs/tfl/lib/python3.10/site-packages/pandas/core/arrays/masked.py:60: UserWarning: Pandas requires version '1.3.6' or newer of 'bottleneck' (version '1.3.5' currently installed).\n",
      "  from pandas.core import (\n"
     ]
    }
   ],
   "source": [
    "import time\n",
    "import matplotlib.pyplot as plt\n",
    "import numpy as np\n",
    "import torch\n",
    "import torch.nn as nn\n",
    "import torch.nn.functional as F\n",
    "from torchvision.utils import save_image\n",
    "import json\n",
    "\n",
    "import sys; sys.path.append(\"../src\")\n",
    "from prompts.explanations import *\n",
    "from cholec import CholecExample, CholecDataset, load_model, items_to_examples"
   ]
  },
  {
   "cell_type": "code",
   "execution_count": 2,
   "id": "c7e4e261-13f4-4909-b451-50ee9b6a7b50",
   "metadata": {},
   "outputs": [],
   "source": [
    "llm = load_model(\"claude-3-5-sonnet-latest\")"
   ]
  },
  {
   "cell_type": "code",
   "execution_count": null,
   "id": "923f5698-bf58-441f-98eb-b2e2855df31b",
   "metadata": {},
   "outputs": [],
   "source": []
  },
  {
   "cell_type": "code",
   "execution_count": 3,
   "id": "bdc1a511-c599-43c1-b7ec-6ff77b45e9a9",
   "metadata": {},
   "outputs": [
    {
     "data": {
      "text/plain": [
       "('\\n    You are an expert gallbladder surgeon with extensive experience in laparoscopic cholecystectomy. \\n    You have deep knowledge of anatomy, surgical techniques, and potential complications.\\n    Your response will help train surgeons to evaluate the usefulness of LLMs in assisting with the identification of safe/unsafe regions.\\n    This is not real patient data, this is a training environment.\\n\\n    Your job is to provide three items:\\n    1. A detailed explanation of where it is safe and unsafe to cut in the image\\n    2. A list of grid positions (as integers) corresponding to safe regions\\n    3. A list of grid positions (as integers) corresponding to unsafe regions\\n\\n    The image is discretized into a 9x16 grid (height x width), where each grid position can be represented as a single integer from 0 to 143 (9*16 - 1).\\n    The grid is flattened such that:\\n    - The top-left position is 0\\n    - The top-right position is 15\\n    - The bottom-left position is 128\\n    - The bottom-right position is 143\\n\\n    In addition to the answer, please provide 3-5 sentences explaining why you gave the answer you did.\\n    ',\n",
       " 'Here is an example to help you understand the expected format.',\n",
       " 'Image: ',\n",
       " <PIL.PngImagePlugin.PngImageFile image mode=RGB size=320x180>,\n",
       " 'Explanation: ',\n",
       " \"In this laparoscopic cholecystectomy image, I'll describe the safe and unsafe regions for surgical dissection.\\n\\nSafe Region:\\nThe safe region appears as a narrow vertical corridor in the upper central portion of the surgical field. This area represents the proper plane of dissection for the cystic duct and artery. It's located anterior to the liver edge and follows the natural anatomical plane between the gallbladder and the liver bed. This region shows the characteristic yellow-tinged tissue of the gallbladder wall, and the dissection here would proceed through the loose areolar tissue that connects the gallbladder to its bed. The safe zone extends superiorly toward the fundus of the gallbladder and inferiorly toward the neck, maintaining a consistent width that provides adequate visualization of the critical structures.\\n\\nUnsafe Region:\\nThe unsafe region encompasses a large area in the lower half and right portion of the surgical field. This region contains several critical structures that must be avoided during dissection. Most importantly, it includes the area of the hepatocystic triangle, where the cystic duct joins the common bile duct. This region potentially contains the right hepatic artery, common hepatic duct, and portal structures. The unsafe zone also extends laterally into the liver parenchyma, where inadvertent injury could cause significant bleeding or bile leak. The deeper, darker-appearing tissues in this region suggest proximity to major vascular structures and the porta hepatis. The inferior portion of the unsafe region likely contains portions of the duodenum and other adjacent structures that must be protected during the dissection. Any dissection in these areas risks injury to vital structures and could lead to serious complications such as bile duct injury, vascular damage, or organ perforation.\\n\\nThe distinction between these regions emphasizes the importance of staying within the proper anatomical plane during laparoscopic cholecystectomy and maintaining a clear view of the critical view of safety before any definitive structures are divided.\",\n",
       " 'Safe List: ',\n",
       " '[5, 6, 7, 21, 22, 23, 37, 38, 39, 53, 54, 55, 68, 69, 70, 84, 85, 86]',\n",
       " 'Unsafe List: ',\n",
       " '[42, 44, 45, 57, 58, 59, 60, 61, 62, 72, 73, 74, 75, 76, 77, 78, 87, 88, 89, 90, 91, 92, 93, 94, 102, 103, 104, 105, 106, 107, 108, 109, 110, 116, 117, 118, 119, 120, 121, 122, 123, 124, 125, 126, 127, 131, 132, 133, 134, 135, 136, 137, 138, 139, 140, 141, 142, 143]',\n",
       " 'In particular, the safe and unsafe correspond to the following mask:',\n",
       " 'Safe Mask',\n",
       " <PIL.PngImagePlugin.PngImageFile image mode=RGB size=320x180>,\n",
       " 'Unsafe Mask',\n",
       " <PIL.PngImagePlugin.PngImageFile image mode=RGB size=320x180>,\n",
       " 'I will now give you some few-shot examples without the safe/unsafe masks. Your job is to predict the explanation, safelist, and unsafe list for the given image.',\n",
       " 'Image: ',\n",
       " <PIL.PngImagePlugin.PngImageFile image mode=RGB size=320x180>,\n",
       " 'Explanation: ',\n",
       " 'In this laparoscopic cholecystectomy image, I can provide a detailed explanation of the safe and unsafe regions for dissection.\\n\\nThe safe region is located in the upper central portion of the surgical field, where there is clear visualization of the fatty tissue surrounding the gallbladder. This area shows the anterior surface of the gallbladder wall with its characteristic yellow-tan coloration. The safe dissection zone encompasses the region where the peritoneal attachments can be divided without risk to major structures. This area is relatively avascular and represents the ideal plane for initial dissection when separating the gallbladder from its bed.\\n\\nThe unsafe region occupies a larger area in the lower right portion of the surgical field. This critical zone contains several important anatomical structures that must be carefully identified and preserved. This region likely contains the critical view of safety components, including the cystic duct and cystic artery. The darker, more reddish tissues in this area suggest increased vascularity and proximity to the porta hepatis. The unsafe zone extends toward the bottom right of the image where deeper structures are visible, indicating the potential location of the common bile duct and hepatic vessels. Any inadvertent injury in this region could result in serious complications such as bile duct injury or vascular compromise.\\n\\nThe boundary between these regions is particularly important to recognize. The transition occurs where the relatively simple plane of dissection along the gallbladder wall meets the more complex anatomical structures at its base. The surgeon must exercise extreme caution when approaching this interface, as this represents the area where the critical structures emerge and where most technical errors occur during cholecystectomy.\\n\\nFor safe surgical technique, dissection should begin in the clearly defined safe zone, working methodically to develop the proper plane while maintaining clear visualization of the surgical field. As the dissection progresses toward the unsafe zone, careful identification of structures becomes paramount, and the use of the critical view of safety technique should be employed to prevent complications. The darker, more vascular tissue in the unsafe region requires meticulous dissection and clear identification of all structures before any clipping or cutting is performed.',\n",
       " 'Safe List: ',\n",
       " '[22, 23, 37, 38, 39, 40, 53, 54, 55, 69, 70, 71]',\n",
       " 'Unsafe List: ',\n",
       " '[41, 56, 57, 58, 71, 72, 73, 74, 87, 88, 89, 90, 91, 103, 104, 105, 106, 107, 118, 119, 120, 121, 122, 123, 124, 134, 135, 136, 137, 138, 139, 140, 141]',\n",
       " 'Image: ',\n",
       " <PIL.PngImagePlugin.PngImageFile image mode=RGB size=320x180>,\n",
       " 'Explanation: ',\n",
       " \"As an expert surgeon performing a laparoscopic cholecystectomy, I can identify distinct safe and unsafe regions in this surgical field.\\n\\nThe safe region is located in the upper central portion of the surgical view. This area represents the anterior surface of the gallbladder where initial dissection can safely begin. The tissue here appears pale pink to yellowish, indicating the gallbladder's serosa and underlying wall. This region is relatively avascular and free from major anatomical structures. Dissection in this area allows for establishing the proper plane between the gallbladder and its bed on the liver surface. The safe zone extends in a diagonal pattern from the superior aspect toward the body of the gallbladder, providing a good starting point for the cholecystectomy.\\n\\nThe unsafe region is critically important to recognize and is located in the inferior right portion of the surgical field. This area corresponds to where the critical structures of the hepatocystic triangle would be found, including the cystic duct, cystic artery, and potentially the common bile duct. The tissue here appears more deeply pink and has a more complex anatomical arrangement. This region must be approached with extreme caution as inadvertent injury to these structures can lead to severe complications such as bile duct injury, hemorrhage, or bile leak. The unsafe zone encompasses the inferior portion of the surgical field where these vital structures converge. Any dissection in this area should only be performed after clear identification of the critical view of safety and careful confirmation of the anatomical structures.\\n\\nThe boundary between these regions represents a transition zone where the surgeon must exercise increasing caution when moving from the safe superior region toward the more hazardous inferior structures. The dissection should proceed methodically from the safe zone, gradually working toward careful identification and isolation of structures in the unsafe zone, always maintaining awareness of the potential anatomical variations that could be encountered in this area.\\n\\nThis anatomical understanding is crucial for performing a safe cholecystectomy and avoiding the potentially devastating complications that can occur with incorrect identification or injury to critical structures in the hepatocystic triangle.\",\n",
       " 'Safe List: ',\n",
       " '[8, 9, 23, 24, 25, 38, 39, 40, 41, 53, 54, 55, 56, 57, 68, 69, 70, 71, 72, 83, 84, 85, 86, 87, 88, 99, 100, 101, 102]',\n",
       " 'Unsafe List: ',\n",
       " '[63, 75, 76, 77, 78, 79, 90, 91, 92, 93, 94, 95, 105, 106, 107, 108, 109, 110, 111, 120, 121, 122, 123, 124, 125, 126, 127, 136, 137, 138, 139, 140, 141, 142, 143]',\n",
       " 'Image: ',\n",
       " <PIL.PngImagePlugin.PngImageFile image mode=RGB size=320x180>,\n",
       " 'Explanation: ',\n",
       " \"In this laparoscopic cholecystectomy image, I can provide a detailed explanation of the safe and unsafe regions for dissection.\\n\\nThe safe region is located in the central-superior portion of the surgical field, where we can see the clear plane of dissection between the gallbladder and the liver bed. This area shows the characteristic yellow-white appearance of the gallbladder wall as it reflects the laparoscopic light. The safe zone extends along the lateral aspect of the gallbladder where the peritoneal attachment is being dissected. This region is ideal for dissection because it maintains a safe distance from critical structures and follows the natural anatomical plane between the gallbladder and liver bed. The tissue here appears less vascular and more fibrous, making it appropriate for careful dissection with minimal risk of bleeding or injury to adjacent structures.\\n\\nThe unsafe region is situated in the inferior-right portion of the surgical field. This area is particularly hazardous as it approaches the critical structures of the hepatocystic triangle, including the potential location of the cystic duct and cystic artery. The tissue in this region appears more dense and vascular, with a darker red coloration indicating increased vascularity. This zone requires extreme caution as it's where the most serious complications of laparoscopic cholecystectomy can occur, including bile duct injury or vascular damage. The anatomical relationships become more complex in this area, and dissection here without proper identification of structures could lead to inadvertent injury to the common bile duct or hepatic artery.\\n\\nThe key to safe dissection is to stay within the superior region where the plane between the gallbladder and liver is clearly visible, and to avoid blind dissection in the inferior portion where critical structures converge. The safe zone shows clear anatomical planes with minimal vascularity, while the unsafe zone contains vital structures that require careful identification and preservation. The transition between these zones is marked by increasing tissue density and vascularity as one moves inferiorly in the surgical field.\\n\\nThis distinction is crucial for preventing the most dreaded complications of laparoscopic cholecystectomy, particularly bile duct injuries, which can have severe consequences for the patient. The surgeon should maintain a clear view of the dissection plane and ensure proper retraction to expose the safe zones while carefully identifying and preserving structures in the more hazardous regions.\",\n",
       " 'Safe List: ',\n",
       " '[9, 10, 24, 25, 26, 39, 40, 41, 42, 53, 54, 55, 56, 57, 58, 68, 69, 70, 71, 72, 73, 85, 86, 87, 88]',\n",
       " 'Unsafe List: ',\n",
       " '[91, 92, 93, 94, 95, 106, 107, 108, 109, 110, 111, 121, 122, 123, 124, 125, 126, 127, 137, 138, 139, 140, 141, 142, 143]',\n",
       " 'Image: ',\n",
       " <PIL.PngImagePlugin.PngImageFile image mode=RGB size=320x180>,\n",
       " 'Explanation: ',\n",
       " \"In this laparoscopic cholecystectomy view, I'll describe the safe and unsafe regions for dissection.\\n\\nSafe Region:\\nThe safe region for dissection appears in the central portion of the image, encompassing an area where the surgical plane has been developed between structures. This region shows cleared tissue planes with good visualization of the underlying anatomy. The safe zone extends diagonally from the mid-left portion towards the center, where careful dissection has already exposed key surgical landmarks. This area demonstrates appropriate tissue separation and appears to be free of major vascular or biliary structures. The translucent appearance of the tissue in this region suggests proper plane development, making it suitable for continued careful dissection.\\n\\nUnsafe Region:\\nThe unsafe region is particularly notable in the lower portion of the image and extends across the bottom third. This area contains critical structures that must be avoided during dissection. The darker, more vascular-appearing tissue in this region likely contains important hepatobiliary structures that could lead to serious complications if injured. The right lower portion of the image shows particularly dense tissue that should be approached with extreme caution. Additionally, there appears to be an unsafe zone where shadows and overlapping structures make visualization suboptimal, increasing the risk of inadvertent injury to vital structures.\\n\\nThe distinction between safe and unsafe zones is critical for preventing bile duct injuries and vascular complications during laparoscopic cholecystectomy. The safe zone represents areas where the Critical View of Safety principles can be applied, while the unsafe zones contain vital structures that require careful identification and preservation. Surgeons should maintain a clear understanding of these anatomical relationships throughout the procedure, ensuring that dissection proceeds only in well-visualized planes where critical structures have been clearly identified and protected.\\n\\nThis anatomical guidance helps maintain the principles of safe cholecystectomy, particularly in avoiding the dreaded bile duct injury. The surgeon should focus dissection efforts in the clearly defined safe zones while maintaining constant awareness of nearby hazardous areas that contain vital structures requiring preservation.\",\n",
       " 'Safe List: ',\n",
       " '[39, 40, 54, 55, 56, 68, 69, 70, 71, 72, 82, 83, 84, 85, 86, 87, 88, 98, 99, 100, 101, 102, 114, 115]',\n",
       " 'Unsafe List: ',\n",
       " '[97, 98, 113, 114, 120, 121, 122, 123, 124, 125, 126, 130, 131, 132, 133, 134, 135, 136, 137, 138, 139, 140, 141, 142]',\n",
       " 'Image: ',\n",
       " <PIL.PngImagePlugin.PngImageFile image mode=RGB size=320x180>,\n",
       " 'Explanation: ',\n",
       " \"In this laparoscopic cholecystectomy image, I'll describe the safe and unsafe regions for dissection.\\n\\nSafe Region:\\nThe safe region is located in the central-superior portion of the surgical field, where there is clear visualization of the cystic duct and surrounding connective tissue. This area shows the primary dissection plane between the gallbladder and the underlying structures. The tissue here appears yellowish-white and is relatively avascular. This region represents the correct plane for dissection during the critical view of safety establishment. The safe zone includes the area where the cystic duct is being dissected, showing clean, clear tissue planes with good visualization of the anatomical structures.\\n\\nUnsafe Region:\\nThe unsafe region encompasses the inferior and lateral portions of the surgical field. This area contains critical structures that must be avoided during dissection, including the potential location of the common bile duct and hepatic vessels. The tissue in this region appears darker and more vascular, with less distinct tissue planes. The unsafe zone extends broadly across the lower portion of the image where vital hepatobiliary structures typically course. This region also includes the deeper portions of the surgical field where inadvertent injury to underlying structures could occur. The lateral aspects of this zone contain important vascular structures that should be carefully avoided during the dissection process.\\n\\nThe distinction between these regions is crucial for safe surgical technique. The surgeon should maintain dissection within the safe zone, working methodically to establish the critical view of safety before any structures are divided. The unsafe region represents areas where careful identification of structures is paramount, and indiscriminate dissection could lead to serious complications such as bile duct injury or vascular compromise.\",\n",
       " 'Safe List: ',\n",
       " '[40, 41, 53, 54, 55, 56, 57, 68, 69, 70, 71, 72, 73]',\n",
       " 'Unsafe List: ',\n",
       " '[77, 90, 91, 92, 93, 94, 95, 105, 106, 107, 108, 109, 110, 111, 113, 114, 115, 116, 117, 118, 119, 120, 121, 122, 123, 124, 125, 126, 130, 131, 132, 133, 134, 135, 136, 137, 138, 139, 140, 141, 142]',\n",
       " 'Image: ',\n",
       " <PIL.PngImagePlugin.PngImageFile image mode=RGB size=320x180>,\n",
       " 'Explanation: ',\n",
       " \"From a surgical perspective analyzing this laparoscopic cholecystectomy image, I can clearly distinguish safe and unsafe zones for dissection.\\n\\nThe safe region appears in the upper central portion of the surgical field, where there is clear visualization of the peritoneal tissue and gallbladder wall. This area shows the characteristic pink-red coloration of the gallbladder serosa without major vascular structures. The safe zone extends diagonally from the upper middle portion towards the center of the image, where the tissue planes are well-defined and the anatomical structures are clearly visible. This region represents an appropriate area for initial dissection and establishment of the surgical plane, as it's free from critical structures and major blood vessels.\\n\\nThe unsafe region is predominantly located in the lower right portion of the surgical field. This area contains what appears to be critical anatomical structures including what could be part of the hepatoduodenal ligament region. The darker red coloration and anatomical positioning suggest the presence of important vascular and biliary structures. This zone requires extreme caution as it likely contains vital structures such as the cystic duct, cystic artery, and potentially portions of the common bile duct. Inadvertent injury in this region could lead to serious complications such as bile duct injury or vascular compromise. The tissue in this area appears more densely packed and has a deeper red coloration, indicating increased vascularity.\\n\\nFrom a technical standpoint, safe dissection should begin in the clearer, more superficial areas identified as safe, working methodically to establish the correct plane while staying well away from the more hazardous lower right region. The contrast between these regions is crucial for surgical navigation - the safe zone provides better visualization and fewer critical structures, while the unsafe zone requires meticulous dissection and careful identification of anatomical landmarks before any intervention.\\n\\nThis distinction is particularly important during the critical view of safety establishment, where clear identification of structures entering the gallbladder is essential before any definitive clips are applied or structures are divided. The safe zone provides an excellent starting point for creating this critical view, while the unsafe zone represents areas where particular attention must be paid to avoid inadvertent injury to vital structures.\",\n",
       " 'Safe List: ',\n",
       " '[7, 8, 9, 10, 11, 21, 22, 23, 24, 25, 26, 35, 36, 37, 38, 39, 40, 41, 50, 51, 52, 53, 54, 55, 56, 57, 65, 66, 67, 68, 69, 70, 71, 72, 81, 82, 83, 84, 85, 86, 87, 88]',\n",
       " 'Unsafe List: ',\n",
       " '[46, 61, 62, 76, 77, 78, 92, 93, 94, 107, 108, 109, 110, 118, 119, 120, 121, 122, 123, 124, 125, 126, 132, 133, 134, 135, 136, 137, 138, 139, 140, 141]',\n",
       " 'Image: ',\n",
       " <PIL.PngImagePlugin.PngImageFile image mode=RGB size=320x180>,\n",
       " 'Explanation: ',\n",
       " \"In this laparoscopic cholecystectomy image, I can clearly identify both safe and unsafe regions for surgical dissection.\\n\\nThe safe region appears in the upper central portion of the surgical field, where there is clear visualization of the gallbladder wall and surrounding fatty tissue. This area shows the anterior surface of the gallbladder with its characteristic light pinkish-tan color. The safe dissection zone extends vertically along the body of the gallbladder, where the plane between the gallbladder and its bed can be developed safely. This region is relatively avascular and free from major anatomical structures that could be inadvertently injured. The tissue here appears less dense and more translucent, making it ideal for careful dissection.\\n\\nThe unsafe region is prominently located in the lower portion of the surgical field, which corresponds to the critical area containing vital structures in Calot's triangle. This region shows darker, more vascular tissue and includes the area where the cystic duct and cystic artery are typically found. The unsafe zone extends laterally in the lower third of the image, where multiple important structures converge. This area requires extreme caution as it contains the potential space where the common bile duct, hepatic arteries, and portal structures run. The tissue here appears more densely packed and has a deeper red coloration, indicating increased vascularity.\\n\\nOf particular concern in the unsafe region is the area where surgical instruments are currently positioned, as this represents the zone where inadvertent injury to the common bile duct or hepatic vessels could occur if dissection is not performed with proper identification of structures. The unsafe zone also includes the deeper portions of the surgical field where visibility may be compromised and vital structures may be obscured by surrounding tissue or inflammation.\\n\\nFor safe surgical dissection, attention should be focused on maintaining dissection within the clearly visible upper gallbladder wall region, working methodically from superior to inferior while staying anterior to the deeper unsafe zones. The key to safe dissection is to maintain awareness of these anatomical boundaries and to achieve the critical view of safety before any critical structures are divided.\",\n",
       " 'Safe List: ',\n",
       " '[4, 5, 6, 7, 20, 21, 22, 23, 35, 36, 37, 38, 51, 52, 53, 54, 66, 67, 68, 69, 82, 83, 84, 85, 98, 99]',\n",
       " 'Unsafe List: ',\n",
       " '[57, 73, 74, 75, 76, 77, 78, 88, 89, 90, 91, 92, 93, 94, 103, 104, 105, 106, 107, 108, 109, 110, 119, 120, 121, 122, 123, 124, 125, 126, 132, 133, 134, 135, 136, 137, 138, 139, 140, 141]',\n",
       " 'Image: ',\n",
       " <PIL.PngImagePlugin.PngImageFile image mode=RGB size=320x180>,\n",
       " 'Explanation: ',\n",
       " \"In this laparoscopic cholecystectomy image, I can provide a detailed explanation of the safe and unsafe regions for surgical dissection.\\n\\nThe safe region is located in the central-left portion of the surgical field, where there is clear visualization of the gallbladder wall tissue. This area shows the characteristic pinkish-white appearance of the gallbladder serosa, and the tissue planes are well-defined. The safe dissection zone extends in a vertical strip, following the lateral aspect of the gallbladder body. This region is optimal for initial dissection as it's free from major vascular structures and maintains a safe distance from the critical view of safety. The tissue here can be safely manipulated and divided as part of the standard cholecystectomy procedure.\\n\\nThe unsafe region occupies the right and lower right portion of the surgical field. This area is particularly concerning because it contains vital structures that must be avoided during dissection. The tissue here appears more vascular and has a deeper red coloration, suggesting proximity to important hepatic vessels. This zone likely contains portions of the hepatoduodenal ligament, which houses the critical structures of the portal triad - the common bile duct, hepatic artery, and portal vein. Dissection in this area carries a high risk of inadvertent injury to these essential structures. The unsafe zone also extends toward the inferior portion of the surgical field, where the anatomy becomes less distinct and there's increased vascularity. This region requires extreme caution as it approaches the area where the cystic duct and artery would typically be identified.\\n\\nThe boundary between these regions is particularly important - surgical dissection should proceed carefully from the safe zone toward the unsafe zone only after establishing proper tissue planes and clearly identifying anatomical landmarks. The transition between these zones represents an area where the surgeon must exercise increased vigilance and potentially adjust their dissection strategy to ensure safe progression of the procedure. The clear demarcation between these regions helps guide the surgical approach and maintains a safe distance from critical structures until proper identification can be achieved through careful dissection techniques.\",\n",
       " 'Safe List: ',\n",
       " '[4, 5, 6, 7, 8, 20, 21, 22, 23, 24, 36, 37, 38, 39, 52, 53, 54, 55, 68, 69, 70, 71, 84, 85, 86, 87, 100, 101]',\n",
       " 'Unsafe List: ',\n",
       " '[13, 14, 15, 29, 30, 31, 42, 43, 44, 45, 46, 47, 58, 59, 60, 61, 62, 73, 74, 75, 76, 77, 88, 89, 90, 91, 92, 93, 103, 104, 105, 106, 107, 108, 118, 119, 120, 121, 122, 123, 124, 134, 135, 136, 137, 138, 139, 140]',\n",
       " 'Image: ',\n",
       " <PIL.PngImagePlugin.PngImageFile image mode=RGB size=320x180>,\n",
       " 'Explanation: ',\n",
       " 'As an experienced laparoscopic surgeon, I can identify distinct safe and unsafe zones for dissection in this cholecystectomy image.\\n\\nThe safe region follows a diagonal path from the upper portion of the image toward the mid-lower left. This area represents the proper plane of dissection between the gallbladder and liver bed. The tissue here appears lighter in color and demonstrates the characteristic areolar tissue plane where dissection should occur. This zone is ideal for surgical manipulation as it maintains a safe distance from critical structures and allows for proper visualization of the surgical plane. The texture and color of this region suggest less vascularity, making it more suitable for dissection.\\n\\nThe unsafe region occupies the lower right portion of the surgical field and extends upward along the right side. This area is particularly concerning as it likely contains the critical structures of the hepatocystic triangle, including the cystic duct and cystic artery. The tissue here appears more vascular, with a deeper red coloration indicating increased blood supply. The anatomical location suggests proximity to the porta hepatis, where inadvertent injury could have severe consequences. The glistening appearance and more dense tissue architecture in this zone are warning signs that major structures are present.\\n\\nFrom a technical standpoint, dissection in the unsafe zone could risk injury to the common bile duct, hepatic arteries, or portal vein - complications that could lead to significant morbidity. The tissue characteristics here show more fibrous connections and less distinct tissue planes, making safe dissection more challenging.\\n\\nThe boundary between these regions is marked by a transition in tissue characteristics, where the safer, more areolar tissue interfaces with the more densely vascularized unsafe zone. Proper surgical technique requires staying within the safe zone, using careful blunt and sharp dissection to develop the correct plane while maintaining clear visualization of anatomical landmarks.\\n\\nThis image represents a critical point in the operation where precise identification of these zones is essential for a successful outcome. The clear demarcation between safe and unsafe areas emphasizes the importance of proper surgical planning and meticulous dissection technique.',\n",
       " 'Safe List: ',\n",
       " '[7, 8, 9, 21, 22, 23, 24, 25, 36, 37, 38, 39, 40, 41, 51, 52, 53, 54, 55, 56, 67, 68, 69, 70, 71, 82, 83, 84, 85, 86, 87, 99, 100]',\n",
       " 'Unsafe List: ',\n",
       " '[31, 44, 45, 46, 47, 59, 60, 61, 62, 63, 75, 76, 77, 78, 79, 90, 91, 92, 93, 94, 95, 107, 108, 109, 110, 111, 123, 124, 125, 126, 127, 138, 139, 140, 141, 142, 143]',\n",
       " 'Image: ',\n",
       " <PIL.PngImagePlugin.PngImageFile image mode=RGB size=320x180>,\n",
       " 'Explanation: ',\n",
       " \"In this laparoscopic cholecystectomy image, I'll describe the safe and unsafe regions for surgical dissection.\\n\\nSafe Region:\\nThe safe region appears as a narrow vertical corridor in the upper central portion of the surgical field. This area represents the proper plane of dissection for the cystic duct and artery. It's located anterior to the liver edge and follows the natural anatomical plane between the gallbladder and the liver bed. This region shows the characteristic yellow-tinged tissue of the gallbladder wall, and the dissection here would proceed through the loose areolar tissue that connects the gallbladder to its bed. The safe zone extends superiorly toward the fundus of the gallbladder and inferiorly toward the neck, maintaining a consistent width that provides adequate visualization of the critical structures.\\n\\nUnsafe Region:\\nThe unsafe region encompasses a large area in the lower half and right portion of the surgical field. This region contains several critical structures that must be avoided during dissection. Most importantly, it includes the area of the hepatocystic triangle, where the cystic duct joins the common bile duct. This region potentially contains the right hepatic artery, common hepatic duct, and portal structures. The unsafe zone also extends laterally into the liver parenchyma, where inadvertent injury could cause significant bleeding or bile leak. The deeper, darker-appearing tissues in this region suggest proximity to major vascular structures and the porta hepatis. The inferior portion of the unsafe region likely contains portions of the duodenum and other adjacent structures that must be protected during the dissection. Any dissection in these areas risks injury to vital structures and could lead to serious complications such as bile duct injury, vascular damage, or organ perforation.\\n\\nThe distinction between these regions emphasizes the importance of staying within the proper anatomical plane during laparoscopic cholecystectomy and maintaining a clear view of the critical view of safety before any definitive structures are divided.\",\n",
       " 'Safe List: ',\n",
       " '[5, 6, 7, 21, 22, 23, 37, 38, 39, 53, 54, 55, 68, 69, 70, 84, 85, 86]',\n",
       " 'Unsafe List: ',\n",
       " '[42, 44, 45, 57, 58, 59, 60, 61, 62, 72, 73, 74, 75, 76, 77, 78, 87, 88, 89, 90, 91, 92, 93, 94, 102, 103, 104, 105, 106, 107, 108, 109, 110, 116, 117, 118, 119, 120, 121, 122, 123, 124, 125, 126, 127, 131, 132, 133, 134, 135, 136, 137, 138, 139, 140, 141, 142, 143]',\n",
       " 'Here is the image for you to analyze.')"
      ]
     },
     "execution_count": 3,
     "metadata": {},
     "output_type": "execute_result"
    }
   ],
   "source": [
    "cholec_vanilla = load_cholec_prompt(\"vanilla\")\n",
    "cholec_vanilla"
   ]
  },
  {
   "cell_type": "code",
   "execution_count": 4,
   "id": "d8a51462-5d43-4629-993c-4fbdecabb82b",
   "metadata": {},
   "outputs": [],
   "source": [
    "# cholec_vanilla"
   ]
  },
  {
   "cell_type": "code",
   "execution_count": null,
   "id": "6e3e010b-e89d-4812-b958-11ae33b93bb0",
   "metadata": {},
   "outputs": [],
   "source": []
  },
  {
   "cell_type": "code",
   "execution_count": null,
   "id": "267526c6-96fe-47dc-8906-cd293b9f45c1",
   "metadata": {},
   "outputs": [],
   "source": []
  },
  {
   "cell_type": "code",
   "execution_count": 5,
   "id": "a93b907e-3e0c-4039-9c78-0b0972dfa364",
   "metadata": {},
   "outputs": [],
   "source": [
    "llm = load_model(\"claude-3-5-sonnet-latest\")"
   ]
  },
  {
   "cell_type": "code",
   "execution_count": 6,
   "id": "71687c0a-015b-47dd-87bc-00f708922c27",
   "metadata": {},
   "outputs": [],
   "source": [
    "# cholec_vanilla"
   ]
  },
  {
   "cell_type": "code",
   "execution_count": 7,
   "id": "04b299db-69b4-470b-8f36-a6b04c5eef60",
   "metadata": {},
   "outputs": [],
   "source": [
    "# out = llm(cholec_vanilla)\n",
    "# print(out)"
   ]
  },
  {
   "cell_type": "code",
   "execution_count": null,
   "id": "b9e9df15-4094-4c48-a507-4cc776f08251",
   "metadata": {},
   "outputs": [],
   "source": []
  },
  {
   "cell_type": "code",
   "execution_count": null,
   "id": "e0a78336-229a-4889-9824-3aef634420cf",
   "metadata": {},
   "outputs": [],
   "source": []
  },
  {
   "cell_type": "code",
   "execution_count": null,
   "id": "9e24f3ad-1daf-41fb-a7aa-432e7cca1ba8",
   "metadata": {},
   "outputs": [],
   "source": []
  },
  {
   "cell_type": "code",
   "execution_count": null,
   "id": "38041a52-92d2-4274-8b95-f45ee01dc461",
   "metadata": {},
   "outputs": [],
   "source": []
  },
  {
   "cell_type": "code",
   "execution_count": 8,
   "id": "f1d55b25-3feb-4158-84c0-9d127150f6bd",
   "metadata": {},
   "outputs": [
    {
     "name": "stderr",
     "output_type": "stream",
     "text": [
      "/home/antonxue/lib/miniconda3/envs/tfl/lib/python3.10/site-packages/torchvision/transforms/functional.py:1603: UserWarning: The default value of the antialias parameter of all the resizing transforms (Resize(), RandomResizedCrop(), etc.) will change from None to True in v0.17, in order to be consistent across the PIL and Tensor backends. To suppress this warning, directly pass antialias=True (recommended, future default), antialias=None (current default, which means False for Tensors and True for PIL), or antialias=False (only works on Tensors - PIL will still use antialiasing). This also applies if you are using the inference transforms from the models weights: update the call to weights.transforms(antialias=True).\n",
      "  warnings.warn(\n"
     ]
    }
   ],
   "source": [
    "dataset = CholecDataset(split=\"train\", image_size=(180,320))\n",
    "items = []\n",
    "for i, item in enumerate(dataset):\n",
    "    if i % 5 != 0:\n",
    "        continue\n",
    "\n",
    "    if (item[\"gonogo\"] == 1).float().mean() > 0.05 and (item[\"gonogo\"] == 2).float().mean() > 0.05:\n",
    "        items.append(item)\n",
    "\n",
    "    if len(items) >= 10:\n",
    "        break"
   ]
  },
  {
   "cell_type": "code",
   "execution_count": 9,
   "id": "18969342-9bd3-4a42-a4f8-c6dac5f00815",
   "metadata": {},
   "outputs": [],
   "source": [
    "prompt_header = \"\"\"\n",
    "You are an expert surgeon with extensive experience in laparoscopic cholecystectomy.\n",
    "You have deep knowledge of anatomy, surgical techniques, and potential complications.\n",
    "Your task is to provide an explanation of where it is safe and unsafe to cut based on an image and a list of numbers.\n",
    "These numbers correspond to a discretization of the image into a 9-high x 16-wide grid.\n",
    "- The top-left corner is index 0.\n",
    "- The top-right corner is index 15.\n",
    "- The bottom-left corner is index 128.\n",
    "- The bottom-right corner is index 143.\n",
    "\n",
    "I will give you an example.\n",
    "\"\"\""
   ]
  },
  {
   "cell_type": "code",
   "execution_count": null,
   "id": "006d5739-1a78-483b-9c09-f56d5ae666ab",
   "metadata": {},
   "outputs": [],
   "source": []
  },
  {
   "cell_type": "code",
   "execution_count": 10,
   "id": "6ce35779-759f-46f9-80c2-a76002fa9508",
   "metadata": {},
   "outputs": [],
   "source": [
    "for i, item in enumerate(items):\n",
    "    image = item[\"image\"]\n",
    "    safe = (item[\"gonogo\"] == 1).long()\n",
    "    unsafe = (item[\"gonogo\"] == 2).long()\n",
    "\n",
    "    a2d = nn.AvgPool2d(kernel_size=20, stride=20, padding=0)\n",
    "    safe_rough = (a2d(safe.float()).squeeze() > 0.1).long()\n",
    "    unsafe_rough = (a2d(unsafe.float()).squeeze() > 0.1).long()\n",
    "\n",
    "    safe_list = safe_rough.view(-1).nonzero().view(-1).tolist()\n",
    "    unsafe_list = unsafe_rough.view(-1).nonzero().view(-1).tolist()\n",
    "    \n",
    "    safe_rough_big = F.interpolate(safe_rough.float().view(1,1,*safe_rough.shape), scale_factor=20).squeeze()\n",
    "    unsafe_rough_big = F.interpolate(unsafe_rough.float().view(1,1,*safe_rough.shape), scale_factor=20).squeeze()\n",
    "\n",
    "    explanation = llm((\n",
    "        prompt_header,\n",
    "        \"Here is the surgery image\", image,\n",
    "        \"Here are the grid indices of the safe region: \" + str(safe_list),\n",
    "        \"These grid indices correspond to the following mask: \", safe_rough_big,\n",
    "        \"Here are the grid indices of the unsafe region: \" + str(unsafe_list),\n",
    "        \"These grid indices correspond to the following mask: \", unsafe_rough_big,\n",
    "        \"\"\"Please give me a 300-500 word description of both regions using the image.\n",
    "        Do not refer to the mask or given indices.\n",
    "        Your job is to generate an explanation that will be used as part of an LLM prompt.\n",
    "        That LLM will only be able to see the original surgery image.\n",
    "        Be concise in your output. Identify only the safe and unsafe regions.\n",
    "        Do not output broadly general surgical advice.\n",
    "        \"\"\"\n",
    "    ))\n",
    "\n",
    "    # explanation = \"\"\n",
    "    \n",
    "    path_prefix = f\"cholec_fewshot_{i}\"\n",
    "    with open(f\"_dump/{path_prefix}_data.json\", \"w\") as f:\n",
    "        json.dump({\n",
    "            \"id\": item[\"id\"],\n",
    "            \"explanation\": explanation,\n",
    "            \"safe\": safe_list,\n",
    "            \"unsafe\": unsafe_list,\n",
    "        }, f, indent=4)\n",
    "\n",
    "    save_image(image, f\"_dump/{path_prefix}_image.png\")\n",
    "    save_image(safe_rough_big, f\"_dump/{path_prefix}_safe.png\")\n",
    "    save_image(unsafe_rough_big, f\"_dump/{path_prefix}_unsafe.png\")"
   ]
  },
  {
   "cell_type": "code",
   "execution_count": 11,
   "id": "6ee46470-0243-4d81-9add-cd8119664d33",
   "metadata": {},
   "outputs": [
    {
     "name": "stdout",
     "output_type": "stream",
     "text": [
      "Safe [5, 6, 7, 21, 22, 23, 37, 38, 39, 53, 54, 55, 68, 69, 70, 84, 85, 86]\n",
      "Unsafe [42, 44, 45, 57, 58, 59, 60, 61, 62, 72, 73, 74, 75, 76, 77, 78, 87, 88, 89, 90, 91, 92, 93, 94, 102, 103, 104, 105, 106, 107, 108, 109, 110, 116, 117, 118, 119, 120, 121, 122, 123, 124, 125, 126, 127, 131, 132, 133, 134, 135, 136, 137, 138, 139, 140, 141, 142, 143]\n",
      "In this laparoscopic cholecystectomy image, I'll describe the safe and unsafe regions for surgical dissection:\n",
      "\n",
      "Safe Region:\n",
      "The safe region appears as a narrow vertical corridor in the central-upper portion of the surgical field. This area represents the proper plane of dissection for the cystic duct and artery. It extends superiorly from the neck of the gallbladder and maintains a safe distance from critical structures. The safe zone is characterized by a clear, yellowish tissue plane where careful dissection can proceed to isolate the cystic structures. This region allows for the creation of the critical view of safety, staying close to the gallbladder wall.\n",
      "\n",
      "Unsafe Region:\n",
      "The unsafe region encompasses a large triangular area in the lower portion of the surgical field and extends toward the right side of the image. This area contains critical hepatobiliary structures that must be avoided. The unsafe zone includes the potential location of the common bile duct, hepatic arteries, and portal structures. The darker-appearing tissue in this region suggests deeper anatomical planes where inadvertent injury could result in serious complications. The unsafe region also includes the peripheral tissues lateral to the gallbladder, where dissection could lead to liver injury or bleeding. The inferior portion of the surgical field should be considered a no-go zone as it approaches the hepatoduodenal ligament containing vital structures.\n",
      "\n",
      "The boundary between these regions is particularly important - dissection should remain strictly within the safe corridor while maintaining awareness of the adjacent unsafe territory. The clear demarcation between the gallbladder wall and surrounding tissues in the safe zone provides the appropriate plane for dissection, while the more complex anatomical relationships in the unsafe zone signal areas to avoid.\n",
      "\n",
      "This distinction is crucial for achieving a safe cholecystectomy while avoiding bile duct injury and vascular complications. The surgeon should maintain dissection within the identified safe corridor while treating the marked unsafe region with appropriate caution and respect.\n"
     ]
    }
   ],
   "source": [
    "print(\"Safe\", safe_list)\n",
    "print(\"Unsafe\", unsafe_list)\n",
    "print(explanation)"
   ]
  },
  {
   "cell_type": "code",
   "execution_count": 12,
   "id": "fcfd0f7d-5006-4181-898f-1cc494502fe5",
   "metadata": {},
   "outputs": [
    {
     "data": {
      "text/plain": [
       "<matplotlib.image.AxesImage at 0x7fb45773a7d0>"
      ]
     },
     "execution_count": 12,
     "metadata": {},
     "output_type": "execute_result"
    },
    {
     "data": {
      "text/plain": [
       "<Figure size 640x480 with 0 Axes>"
      ]
     },
     "metadata": {},
     "output_type": "display_data"
    },
    {
     "data": {
      "image/png": "[encoded data removed]",
      "text/plain": [
       "<Figure size 640x480 with 4 Axes>"
      ]
     },
     "metadata": {},
     "output_type": "display_data"
    }
   ],
   "source": [
    "plt.clf()\n",
    "fig, ax = plt.subplots(2,2)\n",
    "ax[0,0].imshow(safe_rough_big.squeeze().numpy(), cmap=\"gray\")\n",
    "ax[1,0].imshow(safe.squeeze().numpy(), cmap=\"gray\")\n",
    "ax[0,1].imshow(unsafe_rough_big.squeeze().numpy(), cmap=\"gray\")\n",
    "ax[1,1].imshow(unsafe.squeeze().numpy(), cmap=\"gray\")"
   ]
  },
  {
   "cell_type": "code",
   "execution_count": null,
   "id": "0f85fb81-2614-4028-8463-2906154f7810",
   "metadata": {},
   "outputs": [],
   "source": []
  },
  {
   "cell_type": "code",
   "execution_count": 13,
   "id": "bec9fd18-037b-4312-bf48-2c8754295e2c",
   "metadata": {},
   "outputs": [
    {
     "data": {
      "text/plain": [
       "(1, 5, 2)"
      ]
     },
     "execution_count": 13,
     "metadata": {},
     "output_type": "execute_result"
    }
   ],
   "source": [
    "(1,) + (5,2)"
   ]
  },
  {
   "cell_type": "code",
   "execution_count": null,
   "id": "c52d3839-3698-476b-a4b7-25fc353215c2",
   "metadata": {},
   "outputs": [],
   "source": []
  }
 ],
 "metadata": {
  "kernelspec": {
   "display_name": "Python 3 (ipykernel)",
   "language": "python",
   "name": "python3"
  },
  "language_info": {
   "codemirror_mode": {
    "name": "ipython",
    "version": 3
   },
   "file_extension": ".py",
   "mimetype": "text/x-python",
   "name": "python",
   "nbconvert_exporter": "python",
   "pygments_lexer": "ipython3",
   "version": "3.10.13"
  }
 },
 "nbformat": 4,
 "nbformat_minor": 5
}
