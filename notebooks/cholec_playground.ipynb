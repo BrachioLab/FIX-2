{
 "cells": [
  {
   "cell_type": "code",
   "execution_count": 1,
   "id": "c3a7435e-c79b-4456-ac6d-b767eae24dbf",
   "metadata": {},
   "outputs": [
    {
     "name": "stderr",
     "output_type": "stream",
     "text": [
      "/home/antonxue/lib/miniconda3/envs/tfl/lib/python3.10/site-packages/torchvision/io/image.py:13: UserWarning: Failed to load image Python extension: '/home/antonxue/lib/miniconda3/envs/tfl/lib/python3.10/site-packages/torchvision/image.so: undefined symbol: _ZN5torch3jit17parseSchemaOrNameERKNSt7__cxx1112basic_stringIcSt11char_traitsIcESaIcEEE'If you don't plan on using image functionality from `torchvision.io`, you can ignore this warning. Otherwise, there might be something wrong with your environment. Did you have `libjpeg` or `libpng` installed before building `torchvision` from source?\n",
      "  warn(\n",
      "/home/antonxue/lib/miniconda3/envs/tfl/lib/python3.10/site-packages/pandas/core/arrays/masked.py:60: UserWarning: Pandas requires version '1.3.6' or newer of 'bottleneck' (version '1.3.5' currently installed).\n",
      "  from pandas.core import (\n"
     ]
    }
   ],
   "source": [
    "import time\n",
    "import matplotlib.pyplot as plt\n",
    "import numpy as np\n",
    "import torch\n",
    "import torch.nn as nn\n",
    "import torch.nn.functional as F\n",
    "from torchvision.utils import save_image\n",
    "import torchvision.transforms.functional as tvtf\n",
    "import json\n",
    "from tqdm.notebook import tqdm\n",
    "\n",
    "import sys; sys.path.append(\"../src\")\n",
    "from prompts.explanations import *\n",
    "from cholec import CholecExample, CholecDataset, load_model, items_to_examples\n",
    "from llms import image_to_base64"
   ]
  },
  {
   "cell_type": "code",
   "execution_count": 2,
   "id": "c7e4e261-13f4-4909-b451-50ee9b6a7b50",
   "metadata": {},
   "outputs": [],
   "source": [
    "llm = load_model(\"claude-3-5-sonnet-latest\")\n",
    "# llm = load_model(\"gemini-2.5-pro-exp-03-25\")\n",
    "# llm = load_model(\"gemini-2.0-flash\")"
   ]
  },
  {
   "cell_type": "code",
   "execution_count": null,
   "id": "4711e095-ab5d-44fc-93f1-c6b935d2a124",
   "metadata": {},
   "outputs": [],
   "source": []
  },
  {
   "cell_type": "code",
   "execution_count": 3,
   "id": "f1d55b25-3feb-4158-84c0-9d127150f6bd",
   "metadata": {},
   "outputs": [
    {
     "name": "stderr",
     "output_type": "stream",
     "text": [
      "/home/antonxue/lib/miniconda3/envs/tfl/lib/python3.10/site-packages/torchvision/transforms/functional.py:1603: UserWarning: The default value of the antialias parameter of all the resizing transforms (Resize(), RandomResizedCrop(), etc.) will change from None to True in v0.17, in order to be consistent across the PIL and Tensor backends. To suppress this warning, directly pass antialias=True (recommended, future default), antialias=None (current default, which means False for Tensors and True for PIL), or antialias=False (only works on Tensors - PIL will still use antialiasing). This also applies if you are using the inference transforms from the models weights: update the call to weights.transforms(antialias=True).\n",
      "  warnings.warn(\n"
     ]
    }
   ],
   "source": [
    "dataset = CholecDataset(split=\"train\", image_size=(360,640))\n",
    "items = []\n",
    "for i, item in enumerate(dataset):\n",
    "    if i % 5 != 0:\n",
    "        continue\n",
    "\n",
    "    if (item[\"gonogo\"] == 1).float().mean() > 0.05 and (item[\"gonogo\"] == 2).float().mean() > 0.05:\n",
    "        items.append(item)\n",
    "\n",
    "    if len(items) >= 10:\n",
    "        break"
   ]
  },
  {
   "cell_type": "code",
   "execution_count": 4,
   "id": "18969342-9bd3-4a42-a4f8-c6dac5f00815",
   "metadata": {},
   "outputs": [],
   "source": [
    "prompt_header = \"\"\"\n",
    "You are an expert surgeon with extensive experience in laparoscopic cholecystectomy.\n",
    "You have deep knowledge of anatomy, surgical techniques, and potential complications.\n",
    "Your task is to provide an explanation of where it is safe and unsafe to cut based on an image and a list of numbers.\n",
    "These numbers correspond to a discretization of the image into a 9-high x 16-wide grid.\n",
    "- The top-left corner is index 0.\n",
    "- The top-right corner is index 15.\n",
    "- The bottom-left corner is index 128.\n",
    "- The bottom-right corner is index 143.\n",
    "\n",
    "I will give you an example.\n",
    "\"\"\""
   ]
  },
  {
   "cell_type": "code",
   "execution_count": 5,
   "id": "006d5739-1a78-483b-9c09-f56d5ae666ab",
   "metadata": {},
   "outputs": [
    {
     "name": "stdout",
     "output_type": "stream",
     "text": [
      "(360, 640) 40\n"
     ]
    }
   ],
   "source": [
    "grid_size = 40\n",
    "image_size = dataset.image_size\n",
    "print(image_size, grid_size)"
   ]
  },
  {
   "cell_type": "code",
   "execution_count": 6,
   "id": "6ce35779-759f-46f9-80c2-a76002fa9508",
   "metadata": {},
   "outputs": [
    {
     "data": {
      "application/vnd.jupyter.widget-view+json": {
       "model_id": "adec0b13f21b46018cb4457067abc5b1",
       "version_major": 2,
       "version_minor": 0
      },
      "text/plain": [
       "0it [00:00, ?it/s]"
      ]
     },
     "metadata": {},
     "output_type": "display_data"
    }
   ],
   "source": [
    "for i, item in tqdm(enumerate(items)):\n",
    "    image = item[\"image\"]\n",
    "    safe = (item[\"gonogo\"] == 1).long()\n",
    "    unsafe = (item[\"gonogo\"] == 2).long()\n",
    "\n",
    "    a2d = nn.AvgPool2d(kernel_size=grid_size, stride=grid_size, padding=0)\n",
    "    safe_rough = (a2d(safe.float()).squeeze() > 0.1).long()\n",
    "    unsafe_rough = (a2d(unsafe.float()).squeeze() > 0.1).long()\n",
    "\n",
    "    safe_list = safe_rough.view(-1).nonzero().view(-1).tolist()\n",
    "    unsafe_list = unsafe_rough.view(-1).nonzero().view(-1).tolist()\n",
    "    \n",
    "    safe_rough_big = F.interpolate(safe_rough.float().view(1,1,9,16), size=image_size).view(image_size)\n",
    "    unsafe_rough_big = F.interpolate(unsafe_rough.float().view(1,1,9,16), size=image_size).view(image_size)\n",
    "\n",
    "    explanation = llm((\n",
    "        prompt_header,\n",
    "        \"Here is the surgery image\", image,\n",
    "        \"Here are the grid indices of the safe region: \" + str(safe_list),\n",
    "        \"These grid indices correspond to the following mask: \", safe_rough_big,\n",
    "        \"Here are the grid indices of the unsafe region: \" + str(unsafe_list),\n",
    "        \"These grid indices correspond to the following mask: \", unsafe_rough_big,\n",
    "        \"\"\"Please give me a 300-500 word description of both regions using the image.\n",
    "        Do not refer to the mask or given indices.\n",
    "        Your job is to generate an explanation that will be used as part of an LLM prompt.\n",
    "        That LLM will only be able to see the original surgery image.\n",
    "        Be concise in your output. Identify only the safe and unsafe regions.\n",
    "        Do not output broadly general surgical advice.\n",
    "        \"\"\"\n",
    "    ))\n",
    "\n",
    "    # explanation = \"\"\n",
    "    \n",
    "    path_prefix = f\"cholec_fewshot_{i+1}\"\n",
    "    with open(f\"_dump/{path_prefix}_data.json\", \"w\") as f:\n",
    "        json.dump({\n",
    "            \"id\": item[\"id\"],\n",
    "            \"explanation\": explanation,\n",
    "            \"safe\": safe_list,\n",
    "            \"unsafe\": unsafe_list,\n",
    "        }, f, indent=4)\n",
    "\n",
    "    save_image(image, f\"_dump/{path_prefix}_image.png\")\n",
    "    save_image(safe_rough_big, f\"_dump/{path_prefix}_safe.png\")\n",
    "    save_image(unsafe_rough_big, f\"_dump/{path_prefix}_unsafe.png\")"
   ]
  },
  {
   "cell_type": "code",
   "execution_count": null,
   "id": "1a487651-19ac-49d2-a5ba-29e77c1cf10a",
   "metadata": {},
   "outputs": [],
   "source": []
  },
  {
   "cell_type": "code",
   "execution_count": 7,
   "id": "6ee46470-0243-4d81-9add-cd8119664d33",
   "metadata": {},
   "outputs": [
    {
     "name": "stdout",
     "output_type": "stream",
     "text": [
      "Safe [5, 6, 7, 21, 22, 23, 37, 38, 39, 53, 54, 55, 68, 69, 70, 84, 85, 86]\n",
      "Unsafe [42, 43, 44, 45, 57, 58, 59, 60, 61, 62, 72, 73, 74, 75, 76, 77, 78, 87, 88, 89, 90, 91, 92, 93, 94, 102, 103, 104, 105, 106, 107, 108, 109, 110, 116, 117, 118, 119, 120, 121, 122, 123, 124, 125, 126, 127, 131, 132, 133, 134, 135, 136, 137, 138, 139, 140, 141, 142, 143]\n",
      "In this laparoscopic cholecystectomy image, I can clearly identify the safe and unsafe regions for dissection.\n",
      "\n",
      "The safe region is located in the upper portion of the image, appearing as a vertical strip along what appears to be the cystic duct. This area shows clearer tissue planes and is relatively free from major vascular structures. The safe dissection zone extends downward in a columnar fashion from the superior aspect of the visible field, encompassing an area where the tissue appears more translucent and less vascularized.\n",
      "\n",
      "The unsafe region encompasses a larger area in the lower two-thirds of the image, extending diagonally from the mid-portion towards the bottom right. This region contains what appears to be the critical view area where major structures converge. The unsafe zone includes areas with more prominent vasculature and less distinct tissue planes. This region likely contains important hepatobiliary structures that must be avoided to prevent complications. The tissue here appears more dense and vascularized, with multiple small vessels visible on the surface.\n",
      "\n",
      "The boundary between safe and unsafe regions is marked by a transition in tissue characteristics - from the clearer, more uniform appearance in the safe zone to the more complex, vascular-rich appearance in the unsafe zone. The unsafe region particularly encompasses the lower right quadrant of the image where multiple anatomical structures converge.\n",
      "\n",
      "It's worth noting that the safe region provides adequate space for careful dissection while maintaining a safe distance from critical structures. The unsafe region, in contrast, represents an area where dissection could potentially damage important anatomical structures and should be approached with extreme caution or avoided entirely.\n",
      "\n",
      "The tissue quality and anatomical relationships visible in the image clearly demonstrate why these particular areas have been designated as safe or unsafe for surgical intervention. The safe zone provides the clearest path for dissection while minimizing the risk of injury to vital structures, while the unsafe zone contains anatomical features that could lead to serious complications if disturbed.\n"
     ]
    }
   ],
   "source": [
    "print(\"Safe\", safe_list)\n",
    "print(\"Unsafe\", unsafe_list)\n",
    "print(explanation)"
   ]
  },
  {
   "cell_type": "code",
   "execution_count": 8,
   "id": "fcfd0f7d-5006-4181-898f-1cc494502fe5",
   "metadata": {},
   "outputs": [
    {
     "data": {
      "text/plain": [
       "<matplotlib.image.AxesImage at 0x72743f8eff10>"
      ]
     },
     "execution_count": 8,
     "metadata": {},
     "output_type": "execute_result"
    },
    {
     "data": {
      "text/plain": [
       "<Figure size 640x480 with 0 Axes>"
      ]
     },
     "metadata": {},
     "output_type": "display_data"
    },
    {
     "data": {
      "image/png": "[encoded data removed]",
      "text/plain": [
       "<Figure size 640x480 with 4 Axes>"
      ]
     },
     "metadata": {},
     "output_type": "display_data"
    }
   ],
   "source": [
    "plt.clf()\n",
    "fig, ax = plt.subplots(2,2)\n",
    "ax[0,0].imshow(safe_rough_big.squeeze().numpy(), cmap=\"gray\")\n",
    "ax[1,0].imshow(safe.squeeze().numpy(), cmap=\"gray\")\n",
    "ax[0,1].imshow(unsafe_rough_big.squeeze().numpy(), cmap=\"gray\")\n",
    "ax[1,1].imshow(unsafe.squeeze().numpy(), cmap=\"gray\")"
   ]
  },
  {
   "cell_type": "code",
   "execution_count": null,
   "id": "0f85fb81-2614-4028-8463-2906154f7810",
   "metadata": {},
   "outputs": [],
   "source": []
  },
  {
   "cell_type": "code",
   "execution_count": null,
   "id": "c52d3839-3698-476b-a4b7-25fc353215c2",
   "metadata": {},
   "outputs": [],
   "source": []
  }
 ],
 "metadata": {
  "kernelspec": {
   "display_name": "Python 3 (ipykernel)",
   "language": "python",
   "name": "python3"
  },
  "language_info": {
   "codemirror_mode": {
    "name": "ipython",
    "version": 3
   },
   "file_extension": ".py",
   "mimetype": "text/x-python",
   "name": "python",
   "nbconvert_exporter": "python",
   "pygments_lexer": "ipython3",
   "version": "3.10.13"
  }
 },
 "nbformat": 4,
 "nbformat_minor": 5
}
