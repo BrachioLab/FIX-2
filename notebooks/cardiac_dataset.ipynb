{
 "cells": [
  {
   "cell_type": "code",
   "execution_count": 35,
   "id": "619c538e-9f06-463d-9258-603abc80c42f",
   "metadata": {},
   "outputs": [],
   "source": [
    "import torch\n",
    "import numpy as np\n",
    "import pandas as pd\n",
    "import wfdb\n",
    "from datetime import datetime, timedelta\n",
    "import os\n",
    "from tqdm import tqdm\n",
    "import random"
   ]
  },
  {
   "cell_type": "code",
   "execution_count": 10,
   "id": "a07dc49b-6b44-44c1-980e-86ccfd741edf",
   "metadata": {
    "scrolled": true
   },
   "outputs": [
    {
     "data": {
      "text/html": [
       "<div>\n",
       "<style scoped>\n",
       "    .dataframe tbody tr th:only-of-type {\n",
       "        vertical-align: middle;\n",
       "    }\n",
       "\n",
       "    .dataframe tbody tr th {\n",
       "        vertical-align: top;\n",
       "    }\n",
       "\n",
       "    .dataframe thead th {\n",
       "        text-align: right;\n",
       "    }\n",
       "</style>\n",
       "<table border=\"1\" class=\"dataframe\">\n",
       "  <thead>\n",
       "    <tr style=\"text-align: right;\">\n",
       "      <th></th>\n",
       "      <th>CSN</th>\n",
       "      <th>Type</th>\n",
       "      <th>Segments</th>\n",
       "      <th>Duration</th>\n",
       "    </tr>\n",
       "  </thead>\n",
       "  <tbody>\n",
       "    <tr>\n",
       "      <th>0</th>\n",
       "      <td>99633476</td>\n",
       "      <td>II</td>\n",
       "      <td>1</td>\n",
       "      <td>2204.742</td>\n",
       "    </tr>\n",
       "    <tr>\n",
       "      <th>4</th>\n",
       "      <td>99960476</td>\n",
       "      <td>II</td>\n",
       "      <td>4</td>\n",
       "      <td>12818.304</td>\n",
       "    </tr>\n",
       "    <tr>\n",
       "      <th>7</th>\n",
       "      <td>99470476</td>\n",
       "      <td>II</td>\n",
       "      <td>2</td>\n",
       "      <td>13918.498</td>\n",
       "    </tr>\n",
       "    <tr>\n",
       "      <th>11</th>\n",
       "      <td>99438476</td>\n",
       "      <td>II</td>\n",
       "      <td>2</td>\n",
       "      <td>11579.046</td>\n",
       "    </tr>\n",
       "    <tr>\n",
       "      <th>15</th>\n",
       "      <td>99439476</td>\n",
       "      <td>II</td>\n",
       "      <td>3</td>\n",
       "      <td>2853.788</td>\n",
       "    </tr>\n",
       "  </tbody>\n",
       "</table>\n",
       "</div>"
      ],
      "text/plain": [
       "         CSN Type  Segments   Duration\n",
       "0   99633476   II         1   2204.742\n",
       "4   99960476   II         4  12818.304\n",
       "7   99470476   II         2  13918.498\n",
       "11  99438476   II         2  11579.046\n",
       "15  99439476   II         3   2853.788"
      ]
     },
     "execution_count": 10,
     "metadata": {},
     "output_type": "execute_result"
    }
   ],
   "source": [
    "# work done in hylian machine\n",
    "\n",
    "waveform_summary = pd.read_csv(\"/scratch/mc-med/data/waveform_summary.csv\")\n",
    "waveform_summary = waveform_summary[waveform_summary['Type'] == 'II']\n",
    "waveform_summary.head()"
   ]
  },
  {
   "cell_type": "code",
   "execution_count": 11,
   "id": "0d23a944-8411-4574-bbdf-d032f8f99e0f",
   "metadata": {},
   "outputs": [
    {
     "data": {
      "text/html": [
       "<div>\n",
       "<style scoped>\n",
       "    .dataframe tbody tr th:only-of-type {\n",
       "        vertical-align: middle;\n",
       "    }\n",
       "\n",
       "    .dataframe tbody tr th {\n",
       "        vertical-align: top;\n",
       "    }\n",
       "\n",
       "    .dataframe thead th {\n",
       "        text-align: right;\n",
       "    }\n",
       "</style>\n",
       "<table border=\"1\" class=\"dataframe\">\n",
       "  <thead>\n",
       "    <tr style=\"text-align: right;\">\n",
       "      <th></th>\n",
       "      <th>CSN</th>\n",
       "      <th>Type</th>\n",
       "      <th>Segments</th>\n",
       "      <th>Duration</th>\n",
       "    </tr>\n",
       "  </thead>\n",
       "  <tbody>\n",
       "    <tr>\n",
       "      <th>58946</th>\n",
       "      <td>99016000</td>\n",
       "      <td>II</td>\n",
       "      <td>2</td>\n",
       "      <td>1166.926</td>\n",
       "    </tr>\n",
       "  </tbody>\n",
       "</table>\n",
       "</div>"
      ],
      "text/plain": [
       "            CSN Type  Segments  Duration\n",
       "58946  99016000   II         2  1166.926"
      ]
     },
     "execution_count": 11,
     "metadata": {},
     "output_type": "execute_result"
    }
   ],
   "source": [
    "Full_CSN = 99016000 # as an example \n",
    "waveform_summary[waveform_summary['CSN'] == Full_CSN]"
   ]
  },
  {
   "cell_type": "code",
   "execution_count": 12,
   "id": "55f97f94-8898-4092-8ad9-0224b3f40d09",
   "metadata": {},
   "outputs": [
    {
     "data": {
      "text/html": [
       "<div>\n",
       "<style scoped>\n",
       "    .dataframe tbody tr th:only-of-type {\n",
       "        vertical-align: middle;\n",
       "    }\n",
       "\n",
       "    .dataframe tbody tr th {\n",
       "        vertical-align: top;\n",
       "    }\n",
       "\n",
       "    .dataframe thead th {\n",
       "        text-align: right;\n",
       "    }\n",
       "</style>\n",
       "<table border=\"1\" class=\"dataframe\">\n",
       "  <thead>\n",
       "    <tr style=\"text-align: right;\">\n",
       "      <th></th>\n",
       "      <th>CSN</th>\n",
       "      <th>Alarm</th>\n",
       "    </tr>\n",
       "  </thead>\n",
       "  <tbody>\n",
       "    <tr>\n",
       "      <th>0</th>\n",
       "      <td>98974916</td>\n",
       "      <td>2288-12-08 10:17:39</td>\n",
       "    </tr>\n",
       "    <tr>\n",
       "      <th>1</th>\n",
       "      <td>98975250</td>\n",
       "      <td>2279-10-24 08:40:37</td>\n",
       "    </tr>\n",
       "    <tr>\n",
       "      <th>2</th>\n",
       "      <td>98982225</td>\n",
       "      <td>2238-07-19 10:31:15</td>\n",
       "    </tr>\n",
       "    <tr>\n",
       "      <th>3</th>\n",
       "      <td>98990360</td>\n",
       "      <td>2242-01-14 19:43:37</td>\n",
       "    </tr>\n",
       "    <tr>\n",
       "      <th>4</th>\n",
       "      <td>98995384</td>\n",
       "      <td>2276-05-18 10:59:45</td>\n",
       "    </tr>\n",
       "  </tbody>\n",
       "</table>\n",
       "</div>"
      ],
      "text/plain": [
       "        CSN               Alarm\n",
       "0  98974916 2288-12-08 10:17:39\n",
       "1  98975250 2279-10-24 08:40:37\n",
       "2  98982225 2238-07-19 10:31:15\n",
       "3  98990360 2242-01-14 19:43:37\n",
       "4  98995384 2276-05-18 10:59:45"
      ]
     },
     "execution_count": 12,
     "metadata": {},
     "output_type": "execute_result"
    }
   ],
   "source": [
    "## import computed alarms\n",
    "alarms_df = pd.read_parquet('../data/sick_time.parquet', engine='pyarrow')\n",
    "alarms_df.head()"
   ]
  },
  {
   "cell_type": "code",
   "execution_count": 14,
   "id": "81c66103-4ee5-4182-b29f-aafb1ae87b60",
   "metadata": {
    "scrolled": true
   },
   "outputs": [
    {
     "data": {
      "text/html": [
       "<div>\n",
       "<style scoped>\n",
       "    .dataframe tbody tr th:only-of-type {\n",
       "        vertical-align: middle;\n",
       "    }\n",
       "\n",
       "    .dataframe tbody tr th {\n",
       "        vertical-align: top;\n",
       "    }\n",
       "\n",
       "    .dataframe thead th {\n",
       "        text-align: right;\n",
       "    }\n",
       "</style>\n",
       "<table border=\"1\" class=\"dataframe\">\n",
       "  <thead>\n",
       "    <tr style=\"text-align: right;\">\n",
       "      <th></th>\n",
       "      <th>MRN</th>\n",
       "      <th>CSN</th>\n",
       "      <th>Visit_no</th>\n",
       "      <th>Visits</th>\n",
       "      <th>Age</th>\n",
       "      <th>Gender</th>\n",
       "      <th>Race</th>\n",
       "      <th>Ethnicity</th>\n",
       "      <th>Means_of_arrival</th>\n",
       "      <th>Triage_Temp</th>\n",
       "      <th>...</th>\n",
       "      <th>Payor_class</th>\n",
       "      <th>Admit_service</th>\n",
       "      <th>Dx_ICD9</th>\n",
       "      <th>Dx_ICD10</th>\n",
       "      <th>Dx_name</th>\n",
       "      <th>Arrival_time</th>\n",
       "      <th>Roomed_time</th>\n",
       "      <th>Dispo_time</th>\n",
       "      <th>Admit_time</th>\n",
       "      <th>Departure_time</th>\n",
       "    </tr>\n",
       "  </thead>\n",
       "  <tbody>\n",
       "    <tr>\n",
       "      <th>0</th>\n",
       "      <td>98880961</td>\n",
       "      <td>98874959</td>\n",
       "      <td>1</td>\n",
       "      <td>1</td>\n",
       "      <td>82</td>\n",
       "      <td>F</td>\n",
       "      <td>White</td>\n",
       "      <td>Non-Hispanic/Non-Latino</td>\n",
       "      <td>EMS</td>\n",
       "      <td>36.2</td>\n",
       "      <td>...</td>\n",
       "      <td>Medicare</td>\n",
       "      <td>Medicine</td>\n",
       "      <td>873.20</td>\n",
       "      <td>S01.21XA</td>\n",
       "      <td>Laceration of nose, initial encounter</td>\n",
       "      <td>2283-03-02T07:36:59Z</td>\n",
       "      <td>2283-03-02T07:36:59Z</td>\n",
       "      <td>2283-03-02T12:29:59Z</td>\n",
       "      <td>2283-03-02T12:29:59Z</td>\n",
       "      <td>2283-03-02T13:44:59Z</td>\n",
       "    </tr>\n",
       "    <tr>\n",
       "      <th>1</th>\n",
       "      <td>99121566</td>\n",
       "      <td>99354408</td>\n",
       "      <td>1</td>\n",
       "      <td>2</td>\n",
       "      <td>59</td>\n",
       "      <td>F</td>\n",
       "      <td>Other</td>\n",
       "      <td>Non-Hispanic/Non-Latino</td>\n",
       "      <td>EMS</td>\n",
       "      <td>36.8</td>\n",
       "      <td>...</td>\n",
       "      <td>NaN</td>\n",
       "      <td>Emergency Medicine</td>\n",
       "      <td>780.97</td>\n",
       "      <td>R41.82</td>\n",
       "      <td>Altered mental status, unspecified altered men...</td>\n",
       "      <td>2239-08-22T01:13:51Z</td>\n",
       "      <td>2239-08-22T01:16:51Z</td>\n",
       "      <td>2239-08-22T07:20:51Z</td>\n",
       "      <td>2239-08-22T07:20:51Z</td>\n",
       "      <td>2239-08-22T10:45:51Z</td>\n",
       "    </tr>\n",
       "    <tr>\n",
       "      <th>2</th>\n",
       "      <td>99121566</td>\n",
       "      <td>99121037</td>\n",
       "      <td>2</td>\n",
       "      <td>2</td>\n",
       "      <td>63</td>\n",
       "      <td>F</td>\n",
       "      <td>Other</td>\n",
       "      <td>Non-Hispanic/Non-Latino</td>\n",
       "      <td>EMS</td>\n",
       "      <td>37.2</td>\n",
       "      <td>...</td>\n",
       "      <td>NaN</td>\n",
       "      <td>Critical Care</td>\n",
       "      <td>038.9, 785.52, 995.92</td>\n",
       "      <td>A41.9, R65.21</td>\n",
       "      <td>Septic shock (CMS-HCC)</td>\n",
       "      <td>2240-03-11T03:06:51Z</td>\n",
       "      <td>2240-03-11T03:43:51Z</td>\n",
       "      <td>2240-03-11T08:31:51Z</td>\n",
       "      <td>2240-03-11T08:31:51Z</td>\n",
       "      <td>2240-03-11T13:37:51Z</td>\n",
       "    </tr>\n",
       "    <tr>\n",
       "      <th>3</th>\n",
       "      <td>99608739</td>\n",
       "      <td>99327434</td>\n",
       "      <td>1</td>\n",
       "      <td>2</td>\n",
       "      <td>90</td>\n",
       "      <td>F</td>\n",
       "      <td>White</td>\n",
       "      <td>Non-Hispanic/Non-Latino</td>\n",
       "      <td>Self</td>\n",
       "      <td>NaN</td>\n",
       "      <td>...</td>\n",
       "      <td>Medicare</td>\n",
       "      <td>NaN</td>\n",
       "      <td>729.81</td>\n",
       "      <td>M79.89</td>\n",
       "      <td>Leg swelling</td>\n",
       "      <td>2296-08-31T16:43:05Z</td>\n",
       "      <td>2296-08-31T17:56:05Z</td>\n",
       "      <td>2296-08-31T20:56:05Z</td>\n",
       "      <td>NaN</td>\n",
       "      <td>2296-08-31T21:06:05Z</td>\n",
       "    </tr>\n",
       "    <tr>\n",
       "      <th>4</th>\n",
       "      <td>99608739</td>\n",
       "      <td>99502864</td>\n",
       "      <td>2</td>\n",
       "      <td>2</td>\n",
       "      <td>89</td>\n",
       "      <td>F</td>\n",
       "      <td>White</td>\n",
       "      <td>Non-Hispanic/Non-Latino</td>\n",
       "      <td>Self</td>\n",
       "      <td>36.4</td>\n",
       "      <td>...</td>\n",
       "      <td>Medicare</td>\n",
       "      <td>NaN</td>\n",
       "      <td>788.20</td>\n",
       "      <td>R33.9</td>\n",
       "      <td>Urinary retention</td>\n",
       "      <td>2297-06-07T05:08:05Z</td>\n",
       "      <td>2297-06-07T05:59:05Z</td>\n",
       "      <td>2297-06-07T08:55:05Z</td>\n",
       "      <td>NaN</td>\n",
       "      <td>2297-06-07T09:35:05Z</td>\n",
       "    </tr>\n",
       "  </tbody>\n",
       "</table>\n",
       "<p>5 rows × 33 columns</p>\n",
       "</div>"
      ],
      "text/plain": [
       "        MRN       CSN  Visit_no  Visits  Age Gender   Race  \\\n",
       "0  98880961  98874959         1       1   82      F  White   \n",
       "1  99121566  99354408         1       2   59      F  Other   \n",
       "2  99121566  99121037         2       2   63      F  Other   \n",
       "3  99608739  99327434         1       2   90      F  White   \n",
       "4  99608739  99502864         2       2   89      F  White   \n",
       "\n",
       "                 Ethnicity Means_of_arrival  Triage_Temp  ...  Payor_class  \\\n",
       "0  Non-Hispanic/Non-Latino              EMS         36.2  ...     Medicare   \n",
       "1  Non-Hispanic/Non-Latino              EMS         36.8  ...          NaN   \n",
       "2  Non-Hispanic/Non-Latino              EMS         37.2  ...          NaN   \n",
       "3  Non-Hispanic/Non-Latino             Self          NaN  ...     Medicare   \n",
       "4  Non-Hispanic/Non-Latino             Self         36.4  ...     Medicare   \n",
       "\n",
       "        Admit_service                Dx_ICD9       Dx_ICD10  \\\n",
       "0            Medicine                 873.20       S01.21XA   \n",
       "1  Emergency Medicine                 780.97         R41.82   \n",
       "2       Critical Care  038.9, 785.52, 995.92  A41.9, R65.21   \n",
       "3                 NaN                 729.81         M79.89   \n",
       "4                 NaN                 788.20          R33.9   \n",
       "\n",
       "                                             Dx_name          Arrival_time  \\\n",
       "0              Laceration of nose, initial encounter  2283-03-02T07:36:59Z   \n",
       "1  Altered mental status, unspecified altered men...  2239-08-22T01:13:51Z   \n",
       "2                             Septic shock (CMS-HCC)  2240-03-11T03:06:51Z   \n",
       "3                                       Leg swelling  2296-08-31T16:43:05Z   \n",
       "4                                  Urinary retention  2297-06-07T05:08:05Z   \n",
       "\n",
       "            Roomed_time            Dispo_time            Admit_time  \\\n",
       "0  2283-03-02T07:36:59Z  2283-03-02T12:29:59Z  2283-03-02T12:29:59Z   \n",
       "1  2239-08-22T01:16:51Z  2239-08-22T07:20:51Z  2239-08-22T07:20:51Z   \n",
       "2  2240-03-11T03:43:51Z  2240-03-11T08:31:51Z  2240-03-11T08:31:51Z   \n",
       "3  2296-08-31T17:56:05Z  2296-08-31T20:56:05Z                   NaN   \n",
       "4  2297-06-07T05:59:05Z  2297-06-07T08:55:05Z                   NaN   \n",
       "\n",
       "         Departure_time  \n",
       "0  2283-03-02T13:44:59Z  \n",
       "1  2239-08-22T10:45:51Z  \n",
       "2  2240-03-11T13:37:51Z  \n",
       "3  2296-08-31T21:06:05Z  \n",
       "4  2297-06-07T09:35:05Z  \n",
       "\n",
       "[5 rows x 33 columns]"
      ]
     },
     "execution_count": 14,
     "metadata": {},
     "output_type": "execute_result"
    }
   ],
   "source": [
    "visits_df = pd.read_csv(\"/scratch/mc-med/data/visits.csv\")\n",
    "visits_df.head()"
   ]
  },
  {
   "cell_type": "code",
   "execution_count": 24,
   "id": "08e24037-160d-453b-b26f-22292e7d32f0",
   "metadata": {},
   "outputs": [
    {
     "data": {
      "text/html": [
       "<div>\n",
       "<style scoped>\n",
       "    .dataframe tbody tr th:only-of-type {\n",
       "        vertical-align: middle;\n",
       "    }\n",
       "\n",
       "    .dataframe tbody tr th {\n",
       "        vertical-align: top;\n",
       "    }\n",
       "\n",
       "    .dataframe thead th {\n",
       "        text-align: right;\n",
       "    }\n",
       "</style>\n",
       "<table border=\"1\" class=\"dataframe\">\n",
       "  <thead>\n",
       "    <tr style=\"text-align: right;\">\n",
       "      <th></th>\n",
       "      <th>MRN</th>\n",
       "      <th>CSN</th>\n",
       "      <th>Visit_no</th>\n",
       "      <th>Visits</th>\n",
       "      <th>Age</th>\n",
       "      <th>Gender</th>\n",
       "      <th>Race</th>\n",
       "      <th>Ethnicity</th>\n",
       "      <th>Means_of_arrival</th>\n",
       "      <th>Triage_Temp</th>\n",
       "      <th>...</th>\n",
       "      <th>Payor_class</th>\n",
       "      <th>Admit_service</th>\n",
       "      <th>Dx_ICD9</th>\n",
       "      <th>Dx_ICD10</th>\n",
       "      <th>Dx_name</th>\n",
       "      <th>Arrival_time</th>\n",
       "      <th>Roomed_time</th>\n",
       "      <th>Dispo_time</th>\n",
       "      <th>Admit_time</th>\n",
       "      <th>Departure_time</th>\n",
       "    </tr>\n",
       "  </thead>\n",
       "  <tbody>\n",
       "    <tr>\n",
       "      <th>8085</th>\n",
       "      <td>99911467</td>\n",
       "      <td>99016000</td>\n",
       "      <td>3</td>\n",
       "      <td>3</td>\n",
       "      <td>86</td>\n",
       "      <td>F</td>\n",
       "      <td>White</td>\n",
       "      <td>Non-Hispanic/Non-Latino</td>\n",
       "      <td>EMS</td>\n",
       "      <td>36.4</td>\n",
       "      <td>...</td>\n",
       "      <td>Medicare</td>\n",
       "      <td>NaN</td>\n",
       "      <td>724.2</td>\n",
       "      <td>M54.50</td>\n",
       "      <td>Acute bilateral low back pain, unspecified whe...</td>\n",
       "      <td>2294-09-18T06:46:47Z</td>\n",
       "      <td>2294-09-18T06:47:47Z</td>\n",
       "      <td>2294-09-18T13:09:47Z</td>\n",
       "      <td>NaN</td>\n",
       "      <td>2294-09-18T15:43:47Z</td>\n",
       "    </tr>\n",
       "  </tbody>\n",
       "</table>\n",
       "<p>1 rows × 33 columns</p>\n",
       "</div>"
      ],
      "text/plain": [
       "           MRN       CSN  Visit_no  Visits  Age Gender   Race  \\\n",
       "8085  99911467  99016000         3       3   86      F  White   \n",
       "\n",
       "                    Ethnicity Means_of_arrival  Triage_Temp  ...  Payor_class  \\\n",
       "8085  Non-Hispanic/Non-Latino              EMS         36.4  ...     Medicare   \n",
       "\n",
       "      Admit_service  Dx_ICD9  Dx_ICD10  \\\n",
       "8085            NaN    724.2    M54.50   \n",
       "\n",
       "                                                Dx_name          Arrival_time  \\\n",
       "8085  Acute bilateral low back pain, unspecified whe...  2294-09-18T06:46:47Z   \n",
       "\n",
       "               Roomed_time            Dispo_time  Admit_time  \\\n",
       "8085  2294-09-18T06:47:47Z  2294-09-18T13:09:47Z         NaN   \n",
       "\n",
       "            Departure_time  \n",
       "8085  2294-09-18T15:43:47Z  \n",
       "\n",
       "[1 rows x 33 columns]"
      ]
     },
     "execution_count": 24,
     "metadata": {},
     "output_type": "execute_result"
    }
   ],
   "source": [
    "visits_df[visits_df['CSN'] == Full_CSN]"
   ]
  },
  {
   "cell_type": "markdown",
   "id": "bb46bf67-1dd4-49c7-9d75-9f00651cbbff",
   "metadata": {},
   "source": [
    "## Waveform Data -- we use ECG\n",
    "The data are organized into compressed archives (waveforms_0xx.zip, waveforms_1xx.zip, etc.) based on the last three digits of each Visit ID (CSN). Each ZIP archive extracts to a nested folder structure:\n",
    "\n",
    "```\n",
    "    {CSN_suffix}/              # Folder named by last three digits of the CSN\n",
    "        {Full_CSN}/            # Folder named by the full CSN (visit identifier)\n",
    "            II/                # ECG waveform segments\n",
    "                {Full_CSN}_{segment_number}.dat\n",
    "                {Full_CSN}_{segment_number}.hea\n",
    "            Pleth/             # PPG waveform segments\n",
    "                {Full_CSN}_{segment_number}.dat\n",
    "                {Full_CSN}_{segment_number}.hea\n",
    "                ...\n",
    "            Resp/              # Respiration waveform segments\n",
    "                {Full_CSN}_{segment_number}.dat\n",
    "                {Full_CSN}_{segment_number}.hea\n",
    "```\n",
    "\n",
    "* **.dat and .hea Files**: The waveforms are stored in WFDB (WaveForm DataBase) format. Each segment consists of a header file (.hea) and a binary data file (.dat).\n",
    "* **Segmenting**: Waveforms may be split into multiple segments due to discontinuities or equipment disconnections.\n",
    "\n",
    "### Data Linkages\n",
    "The primary key to link tables is:\n",
    "\n",
    "* **CSN** (Visit identifier): Uniquely identifies a patient's ED visit. Use CSN to join visits.csv with labs.csv, orders.csv, rads.csv, and numerics.csv.\n",
    "* **MRN** (Patient identifier): Identifies unique patients and can be used to link meds.csv and pmh.csv to patient-level information (e.g., multiple visits from the same patient).\n",
    "\n",
    "Note: To respect patient privacy and prevent re-identification, MRN and CSN are randomized and do not map to original patient identifiers.\n"
   ]
  },
  {
   "cell_type": "markdown",
   "id": "3e1a0483-c0d7-4174-9607-3b8838eaaba0",
   "metadata": {},
   "source": [
    "### Some pre-processing"
   ]
  },
  {
   "cell_type": "code",
   "execution_count": null,
   "id": "840cad76-37fe-4c5b-82a3-ccb399015487",
   "metadata": {},
   "outputs": [],
   "source": [
    "########################\n",
    "# FYI - each has ~50 patient visits, and each visit can have multiple segments\n",
    "# note that some don't have both .hea and .dat files, which means we have to ignore/discard those\n",
    "# the following has no alarms\n",
    "# CSN_suffix = '000' \n",
    "# CSN_suffix = '001' \n",
    "# CSN_suffix = '002' \n"
   ]
  },
  {
   "cell_type": "code",
   "execution_count": 30,
   "id": "f2c81417-2dae-47dd-ae71-51d312ff10c1",
   "metadata": {},
   "outputs": [],
   "source": [
    "def get_start_end_times(record):\n",
    "    start_dt = datetime.combine(record.base_date, record.base_time)\n",
    "    duration_sec = record.sig_len / record.fs\n",
    "    end_dt = start_dt + timedelta(seconds=duration_sec)\n",
    "    # print(\"Date:\", record.base_date)\n",
    "    # print(\"Start time:\", record.base_time)\n",
    "    # print(\"End time:\", end_dt.time())\n",
    "    return start_dt, end_dt"
   ]
  },
  {
   "cell_type": "code",
   "execution_count": 33,
   "id": "5a4adfef-732a-4916-8b7c-91d230068a04",
   "metadata": {},
   "outputs": [
    {
     "name": "stderr",
     "output_type": "stream",
     "text": [
      "Processing: 100%|████████████████████████████████████████| 1000/1000 [09:40<00:00,  1.72it/s, neg=500, pos=279]\n"
     ]
    }
   ],
   "source": [
    "waveforms_folder_path = \"/scratch/mc-med/waveforms\"\n",
    "CSN_suffixes = sorted([f.name for f in os.scandir(waveforms_folder_path) if f.is_dir()])\n",
    "# CSN_suffixes = ['000', '001', '002', '003', '004'] \n",
    "waveform_type = 'II'\n",
    "\n",
    "neg_dataset = []\n",
    "pos_dataset = []\n",
    "threshold = 500 # upper bound, there will be far less positive examples\n",
    "\n",
    "all_CSN_so_far = set()\n",
    "all_MRN_so_far = set()\n",
    "\n",
    "with tqdm(CSN_suffixes, desc=\"Processing\", dynamic_ncols=True) as pbar:\n",
    "    for CSN_suffix in pbar:\n",
    "        records_path = f\"{waveforms_folder_path}/{CSN_suffix}/RECORDS\"\n",
    "        with open(records_path, \"r\") as f:\n",
    "            lines = f.read().split('\\n')    \n",
    "        segment_paths = [line for line in lines if waveform_type in line]\n",
    "        visit_ids = torch.tensor([int(segment_path[:8]) for segment_path in segment_paths]).unique()\n",
    "        alarm_visit_ids = torch.tensor([i.item() for i in visit_ids if i in alarms_df['CSN'].unique()])\n",
    "    \n",
    "        for CSN in visit_ids: # Full_CSN is another name for visit_id\n",
    "            CSN = CSN.item()\n",
    "            MRN = visits_df[visits_df['CSN'] == CSN].iloc[0]['MRN'].item()\n",
    "            if CSN not in all_CSN_so_far and MRN not in all_MRN_so_far:\n",
    "                CSN_segment_paths = [segment_path for segment_path in segment_paths if int(segment_path[:8]) == CSN]\n",
    "        \n",
    "                # add a positive example\n",
    "                if CSN in alarm_visit_ids and len(pos_dataset) < threshold: \n",
    "                    alarm_dt = alarms_df[alarms_df['CSN'] == CSN]['Alarm'].iloc[0]\n",
    "                    # find the segment that contains the alarm\n",
    "                    for segment_path in segment_paths:\n",
    "                        record_path = f\"{waveforms_folder_path}/{CSN_suffix}/{segment_path}\"\n",
    "                        # print(record_path)\n",
    "                        record_path_hea = record_path + '.hea'\n",
    "                        record_path_dat = record_path + '.dat'\n",
    "                        if os.path.isfile(record_path_hea) and os.path.isfile(record_path_dat):\n",
    "                            # Read the record\n",
    "                            record = wfdb.rdrecord(record_path)\n",
    "                            start_dt, end_dt = get_start_end_times(record)\n",
    "                            if alarm_dt > start_dt and alarm_dt < end_dt:\n",
    "                                # print('Alarm')\n",
    "                                record_dict = {'label': True, 'alarm': alarm_dt, **record.__dict__}\n",
    "                                # add visit info\n",
    "                                visit_dict = visits_df[visits_df['CSN'] == CSN].iloc[0].to_dict()\n",
    "                                record_dict = {**record_dict, **visit_dict}\n",
    "    \n",
    "                                # also truncate the endtime? or maybe let's try if the longer version works\n",
    "                                pos_dataset.append(record_dict)\n",
    "                                all_CSN_so_far.add(CSN)\n",
    "                                all_MRN_so_far.add(MRN)\n",
    "                                break\n",
    "                \n",
    "                # or add a negative example\n",
    "                elif CSN not in alarm_visit_ids and len(neg_dataset) < threshold:\n",
    "                    # just pick the first segment\n",
    "                    segment_path = CSN_segment_paths[0]\n",
    "                    record_path = f\"{waveforms_folder_path}/{CSN_suffix}/{segment_path}\"\n",
    "                    # print(record_path)\n",
    "                    record_path_hea = record_path + '.hea'\n",
    "                    record_path_dat = record_path + '.dat'\n",
    "                    if os.path.isfile(record_path_hea) and os.path.isfile(record_path_dat):\n",
    "                        # Read the record\n",
    "                        record = wfdb.rdrecord(record_path)\n",
    "                        # set label to False (i.e. we have a negative example)\n",
    "                        record_dict = {'label': False, 'alarm': None, **record.__dict__}\n",
    "                        # add visit info\n",
    "                        visit_dict = visits_df[visits_df['CSN'] == CSN].iloc[0].to_dict()\n",
    "                        record_dict = {**record_dict, **visit_dict}\n",
    "                        neg_dataset.append(record_dict) \n",
    "                        all_CSN_so_far.add(CSN)\n",
    "                        all_MRN_so_far.add(MRN)\n",
    "        pbar.set_postfix(pos=len(pos_dataset), neg=len(neg_dataset))\n"
   ]
  },
  {
   "cell_type": "code",
   "execution_count": 23,
   "id": "376315eb-75a5-476f-bd56-3dd9d602b51d",
   "metadata": {},
   "outputs": [
    {
     "data": {
      "text/plain": [
       "500"
      ]
     },
     "execution_count": 23,
     "metadata": {},
     "output_type": "execute_result"
    }
   ],
   "source": [
    "len(neg_dataset), len(pos_dataset)"
   ]
  },
  {
   "cell_type": "code",
   "execution_count": 76,
   "id": "29ec35ef-031d-4760-89dd-8f2b893da28c",
   "metadata": {},
   "outputs": [
    {
     "name": "stdout",
     "output_type": "stream",
     "text": [
      "34\n",
      "39\n",
      "400 50 50\n"
     ]
    }
   ],
   "source": [
    "train_sz = 400\n",
    "val_sz = 50\n",
    "test_sz = 50\n",
    "\n",
    "# balance the train dataset \n",
    "random.shuffle(neg_dataset)\n",
    "random.shuffle(pos_dataset)\n",
    "train_dataset = neg_dataset[:train_sz//2] + pos_dataset[:train_sz//2]\n",
    "\n",
    "r1 = random.randint(1, val_sz)\n",
    "print(r1)\n",
    "val_dataset = neg_dataset[train_sz//2:][:val_sz - r1] + pos_dataset[train_sz//2:][:r1]\n",
    "\n",
    "r2 = random.randint(1, min(len(pos_dataset) - train_sz//2 - r1, 50))\n",
    "print(r2)\n",
    "test_dataset = neg_dataset[train_sz//2 + val_sz - r1:][:test_sz - r2] + pos_dataset[train_sz//2 + r1:][:r2]\n",
    "\n",
    "print(len(train_dataset), len(val_dataset), len(test_dataset))"
   ]
  },
  {
   "cell_type": "code",
   "execution_count": 72,
   "id": "ef48bbb6-43ff-4c04-bfb0-80dbfaeb6462",
   "metadata": {},
   "outputs": [],
   "source": [
    "def correct_dataset_field_types(dataset, field_type_map):\n",
    "    \"\"\"\n",
    "    Ensures each field in the dataset has consistent types.\n",
    "    \n",
    "    Parameters:\n",
    "    - dataset (List[Dict]): The list of records (your dataset).\n",
    "    - field_type_map (Dict[str, type]): Mapping of field names to desired type (e.g., {\"text\": str})\n",
    "    \n",
    "    Returns:\n",
    "    - List[Dict]: Corrected dataset with consistent types.\n",
    "    \"\"\"\n",
    "    corrected = []\n",
    "    for row in dataset:\n",
    "        new_row = {}\n",
    "        for key, value in row.items():\n",
    "            if key in field_type_map:\n",
    "                try:\n",
    "                    new_row[key] = field_type_map[key](value)\n",
    "                except Exception:\n",
    "                    new_row[key] = None  # or keep original with: row[key]\n",
    "            else:\n",
    "                new_row[key] = value\n",
    "        corrected.append(new_row)\n",
    "    return corrected\n"
   ]
  },
  {
   "cell_type": "code",
   "execution_count": 80,
   "id": "ef726678-125d-4005-9a9f-05d65d9668a3",
   "metadata": {},
   "outputs": [],
   "source": [
    "def safe_convert(example):\n",
    "    return {k: str(v) if isinstance(v, float) and not isinstance(v, bool) else v for k, v in example.items()}\n",
    "\n",
    "train_dataset = [safe_convert(ex) for ex in train_dataset]\n",
    "val_dataset = [safe_convert(ex) for ex in val_dataset]\n",
    "test_dataset = [safe_convert(ex) for ex in test_dataset]\n"
   ]
  },
  {
   "cell_type": "code",
   "execution_count": 81,
   "id": "dbd2d77d-1d32-4934-861c-dff87a1dc468",
   "metadata": {
    "scrolled": true
   },
   "outputs": [],
   "source": [
    "from datasets import Dataset, DatasetDict\n",
    "\n",
    "train_dataset = Dataset.from_list(train_dataset)\n",
    "val_dataset = Dataset.from_list(val_dataset)\n",
    "test_dataset = Dataset.from_list(test_dataset)"
   ]
  },
  {
   "cell_type": "code",
   "execution_count": 82,
   "id": "8e36655a-5303-46a3-87b4-ec0636bfe837",
   "metadata": {},
   "outputs": [],
   "source": [
    "# Create DatasetDict\n",
    "dataset_dict = DatasetDict({\n",
    "    'train': train_dataset,\n",
    "    'validation': val_dataset,\n",
    "    'test': test_dataset\n",
    "})"
   ]
  },
  {
   "cell_type": "code",
   "execution_count": 83,
   "id": "169f51cc-349a-4ac0-915b-a22d07e19889",
   "metadata": {
    "scrolled": true
   },
   "outputs": [
    {
     "data": {
      "text/plain": [
       "DatasetDict({\n",
       "    train: Dataset({\n",
       "        features: ['label', 'alarm', 'record_name', 'n_sig', 'fs', 'counter_freq', 'base_counter', 'sig_len', 'base_time', 'base_date', 'comments', 'sig_name', 'p_signal', 'd_signal', 'e_p_signal', 'e_d_signal', 'file_name', 'fmt', 'samps_per_frame', 'skew', 'byte_offset', 'adc_gain', 'baseline', 'units', 'adc_res', 'adc_zero', 'init_value', 'checksum', 'block_size', 'MRN', 'CSN', 'Visit_no', 'Visits', 'Age', 'Gender', 'Race', 'Ethnicity', 'Means_of_arrival', 'Triage_Temp', 'Triage_HR', 'Triage_RR', 'Triage_SpO2', 'Triage_SBP', 'Triage_DBP', 'Triage_acuity', 'CC', 'ED_dispo', 'Hours_to_next_visit', 'Dispo_class_next_visit', 'ED_LOS', 'Hosp_LOS', 'DC_dispo', 'Payor_class', 'Admit_service', 'Dx_ICD9', 'Dx_ICD10', 'Dx_name', 'Arrival_time', 'Roomed_time', 'Dispo_time', 'Admit_time', 'Departure_time'],\n",
       "        num_rows: 400\n",
       "    })\n",
       "    validation: Dataset({\n",
       "        features: ['label', 'alarm', 'record_name', 'n_sig', 'fs', 'counter_freq', 'base_counter', 'sig_len', 'base_time', 'base_date', 'comments', 'sig_name', 'p_signal', 'd_signal', 'e_p_signal', 'e_d_signal', 'file_name', 'fmt', 'samps_per_frame', 'skew', 'byte_offset', 'adc_gain', 'baseline', 'units', 'adc_res', 'adc_zero', 'init_value', 'checksum', 'block_size', 'MRN', 'CSN', 'Visit_no', 'Visits', 'Age', 'Gender', 'Race', 'Ethnicity', 'Means_of_arrival', 'Triage_Temp', 'Triage_HR', 'Triage_RR', 'Triage_SpO2', 'Triage_SBP', 'Triage_DBP', 'Triage_acuity', 'CC', 'ED_dispo', 'Hours_to_next_visit', 'Dispo_class_next_visit', 'ED_LOS', 'Hosp_LOS', 'DC_dispo', 'Payor_class', 'Admit_service', 'Dx_ICD9', 'Dx_ICD10', 'Dx_name', 'Arrival_time', 'Roomed_time', 'Dispo_time', 'Admit_time', 'Departure_time'],\n",
       "        num_rows: 50\n",
       "    })\n",
       "    test: Dataset({\n",
       "        features: ['label', 'alarm', 'record_name', 'n_sig', 'fs', 'counter_freq', 'base_counter', 'sig_len', 'base_time', 'base_date', 'comments', 'sig_name', 'p_signal', 'd_signal', 'e_p_signal', 'e_d_signal', 'file_name', 'fmt', 'samps_per_frame', 'skew', 'byte_offset', 'adc_gain', 'baseline', 'units', 'adc_res', 'adc_zero', 'init_value', 'checksum', 'block_size', 'MRN', 'CSN', 'Visit_no', 'Visits', 'Age', 'Gender', 'Race', 'Ethnicity', 'Means_of_arrival', 'Triage_Temp', 'Triage_HR', 'Triage_RR', 'Triage_SpO2', 'Triage_SBP', 'Triage_DBP', 'Triage_acuity', 'CC', 'ED_dispo', 'Hours_to_next_visit', 'Dispo_class_next_visit', 'ED_LOS', 'Hosp_LOS', 'DC_dispo', 'Payor_class', 'Admit_service', 'Dx_ICD9', 'Dx_ICD10', 'Dx_name', 'Arrival_time', 'Roomed_time', 'Dispo_time', 'Admit_time', 'Departure_time'],\n",
       "        num_rows: 50\n",
       "    })\n",
       "})"
      ]
     },
     "execution_count": 83,
     "metadata": {},
     "output_type": "execute_result"
    }
   ],
   "source": [
    "dataset_dict"
   ]
  },
  {
   "cell_type": "code",
   "execution_count": 84,
   "id": "f60a02fe-0402-4f54-8d4d-a9c28953a020",
   "metadata": {
    "scrolled": true
   },
   "outputs": [
    {
     "data": {
      "application/vnd.jupyter.widget-view+json": {
       "model_id": "685de04a47324c0094fd63d2ed975539",
       "version_major": 2,
       "version_minor": 0
      },
      "text/plain": [
       "Uploading the dataset shards:   0%|          | 0/21 [00:00<?, ?it/s]"
      ]
     },
     "metadata": {},
     "output_type": "display_data"
    },
    {
     "data": {
      "application/vnd.jupyter.widget-view+json": {
       "model_id": "e6acf40540224ea685e28c96764248e0",
       "version_major": 2,
       "version_minor": 0
      },
      "text/plain": [
       "Creating parquet from Arrow format:   0%|          | 0/1 [00:00<?, ?ba/s]"
      ]
     },
     "metadata": {},
     "output_type": "display_data"
    },
    {
     "data": {
      "application/vnd.jupyter.widget-view+json": {
       "model_id": "a8947a7539ac4b8591ffecdd4abab50b",
       "version_major": 2,
       "version_minor": 0
      },
      "text/plain": [
       "Creating parquet from Arrow format:   0%|          | 0/1 [00:00<?, ?ba/s]"
      ]
     },
     "metadata": {},
     "output_type": "display_data"
    },
    {
     "data": {
      "application/vnd.jupyter.widget-view+json": {
       "model_id": "c64e2963a28742ecb708efe80544ba36",
       "version_major": 2,
       "version_minor": 0
      },
      "text/plain": [
       "Creating parquet from Arrow format:   0%|          | 0/1 [00:00<?, ?ba/s]"
      ]
     },
     "metadata": {},
     "output_type": "display_data"
    },
    {
     "data": {
      "application/vnd.jupyter.widget-view+json": {
       "model_id": "6a6d08e9cfda4427abed5a600940e951",
       "version_major": 2,
       "version_minor": 0
      },
      "text/plain": [
       "Creating parquet from Arrow format:   0%|          | 0/1 [00:00<?, ?ba/s]"
      ]
     },
     "metadata": {},
     "output_type": "display_data"
    },
    {
     "data": {
      "application/vnd.jupyter.widget-view+json": {
       "model_id": "b158e8e8fe0b4663a785f0466910e225",
       "version_major": 2,
       "version_minor": 0
      },
      "text/plain": [
       "Creating parquet from Arrow format:   0%|          | 0/1 [00:00<?, ?ba/s]"
      ]
     },
     "metadata": {},
     "output_type": "display_data"
    },
    {
     "data": {
      "application/vnd.jupyter.widget-view+json": {
       "model_id": "09a36802f0964af0afed752c53d59222",
       "version_major": 2,
       "version_minor": 0
      },
      "text/plain": [
       "Creating parquet from Arrow format:   0%|          | 0/1 [00:00<?, ?ba/s]"
      ]
     },
     "metadata": {},
     "output_type": "display_data"
    },
    {
     "data": {
      "application/vnd.jupyter.widget-view+json": {
       "model_id": "9e5a8479067b49209f9f915d4bf8c092",
       "version_major": 2,
       "version_minor": 0
      },
      "text/plain": [
       "Creating parquet from Arrow format:   0%|          | 0/1 [00:00<?, ?ba/s]"
      ]
     },
     "metadata": {},
     "output_type": "display_data"
    },
    {
     "data": {
      "application/vnd.jupyter.widget-view+json": {
       "model_id": "bae15faebb10427f9e156be824adffe3",
       "version_major": 2,
       "version_minor": 0
      },
      "text/plain": [
       "Creating parquet from Arrow format:   0%|          | 0/1 [00:00<?, ?ba/s]"
      ]
     },
     "metadata": {},
     "output_type": "display_data"
    },
    {
     "data": {
      "application/vnd.jupyter.widget-view+json": {
       "model_id": "96a21d083ae04b2897541a66374bfb97",
       "version_major": 2,
       "version_minor": 0
      },
      "text/plain": [
       "Creating parquet from Arrow format:   0%|          | 0/1 [00:00<?, ?ba/s]"
      ]
     },
     "metadata": {},
     "output_type": "display_data"
    },
    {
     "data": {
      "application/vnd.jupyter.widget-view+json": {
       "model_id": "f51a3da662b64ea0bffdb96322fd50b9",
       "version_major": 2,
       "version_minor": 0
      },
      "text/plain": [
       "Creating parquet from Arrow format:   0%|          | 0/1 [00:00<?, ?ba/s]"
      ]
     },
     "metadata": {},
     "output_type": "display_data"
    },
    {
     "data": {
      "application/vnd.jupyter.widget-view+json": {
       "model_id": "212b6d6c8aa74bae8462997749a0d414",
       "version_major": 2,
       "version_minor": 0
      },
      "text/plain": [
       "Creating parquet from Arrow format:   0%|          | 0/1 [00:00<?, ?ba/s]"
      ]
     },
     "metadata": {},
     "output_type": "display_data"
    },
    {
     "data": {
      "application/vnd.jupyter.widget-view+json": {
       "model_id": "1bc23393eb234866a6b0afbb26af09a3",
       "version_major": 2,
       "version_minor": 0
      },
      "text/plain": [
       "Creating parquet from Arrow format:   0%|          | 0/1 [00:00<?, ?ba/s]"
      ]
     },
     "metadata": {},
     "output_type": "display_data"
    },
    {
     "data": {
      "application/vnd.jupyter.widget-view+json": {
       "model_id": "c4ea511b0cb14e2eaf02bab8d416e669",
       "version_major": 2,
       "version_minor": 0
      },
      "text/plain": [
       "Creating parquet from Arrow format:   0%|          | 0/1 [00:00<?, ?ba/s]"
      ]
     },
     "metadata": {},
     "output_type": "display_data"
    },
    {
     "data": {
      "application/vnd.jupyter.widget-view+json": {
       "model_id": "fecf3d42903f4fc1881435ad03a18724",
       "version_major": 2,
       "version_minor": 0
      },
      "text/plain": [
       "Creating parquet from Arrow format:   0%|          | 0/1 [00:00<?, ?ba/s]"
      ]
     },
     "metadata": {},
     "output_type": "display_data"
    },
    {
     "data": {
      "application/vnd.jupyter.widget-view+json": {
       "model_id": "60efdf0530324d16acbef8e126797fb6",
       "version_major": 2,
       "version_minor": 0
      },
      "text/plain": [
       "Creating parquet from Arrow format:   0%|          | 0/1 [00:00<?, ?ba/s]"
      ]
     },
     "metadata": {},
     "output_type": "display_data"
    },
    {
     "data": {
      "application/vnd.jupyter.widget-view+json": {
       "model_id": "84c40e92c085490483ef013a527a504f",
       "version_major": 2,
       "version_minor": 0
      },
      "text/plain": [
       "Creating parquet from Arrow format:   0%|          | 0/1 [00:00<?, ?ba/s]"
      ]
     },
     "metadata": {},
     "output_type": "display_data"
    },
    {
     "data": {
      "application/vnd.jupyter.widget-view+json": {
       "model_id": "0ce1a07e2cd0437ea0ca6f65a7774393",
       "version_major": 2,
       "version_minor": 0
      },
      "text/plain": [
       "Creating parquet from Arrow format:   0%|          | 0/1 [00:00<?, ?ba/s]"
      ]
     },
     "metadata": {},
     "output_type": "display_data"
    },
    {
     "data": {
      "application/vnd.jupyter.widget-view+json": {
       "model_id": "fec5bd5d2aa248df97889478b9064c2a",
       "version_major": 2,
       "version_minor": 0
      },
      "text/plain": [
       "Creating parquet from Arrow format:   0%|          | 0/1 [00:00<?, ?ba/s]"
      ]
     },
     "metadata": {},
     "output_type": "display_data"
    },
    {
     "data": {
      "application/vnd.jupyter.widget-view+json": {
       "model_id": "2953cf935d3546d2a2db4c4c778e5b67",
       "version_major": 2,
       "version_minor": 0
      },
      "text/plain": [
       "Creating parquet from Arrow format:   0%|          | 0/1 [00:00<?, ?ba/s]"
      ]
     },
     "metadata": {},
     "output_type": "display_data"
    },
    {
     "data": {
      "application/vnd.jupyter.widget-view+json": {
       "model_id": "fd00b644f9bc49928dce7315e434aa5f",
       "version_major": 2,
       "version_minor": 0
      },
      "text/plain": [
       "Creating parquet from Arrow format:   0%|          | 0/1 [00:00<?, ?ba/s]"
      ]
     },
     "metadata": {},
     "output_type": "display_data"
    },
    {
     "data": {
      "application/vnd.jupyter.widget-view+json": {
       "model_id": "cb1c32989ae44f299f2a6aac23e475a3",
       "version_major": 2,
       "version_minor": 0
      },
      "text/plain": [
       "Creating parquet from Arrow format:   0%|          | 0/1 [00:00<?, ?ba/s]"
      ]
     },
     "metadata": {},
     "output_type": "display_data"
    },
    {
     "data": {
      "application/vnd.jupyter.widget-view+json": {
       "model_id": "bae7a7756163428cb992ff0e03796d84",
       "version_major": 2,
       "version_minor": 0
      },
      "text/plain": [
       "Uploading the dataset shards:   0%|          | 0/3 [00:00<?, ?it/s]"
      ]
     },
     "metadata": {},
     "output_type": "display_data"
    },
    {
     "data": {
      "application/vnd.jupyter.widget-view+json": {
       "model_id": "b388729361944791977bc1b4259c2ef1",
       "version_major": 2,
       "version_minor": 0
      },
      "text/plain": [
       "Creating parquet from Arrow format:   0%|          | 0/1 [00:00<?, ?ba/s]"
      ]
     },
     "metadata": {},
     "output_type": "display_data"
    },
    {
     "data": {
      "application/vnd.jupyter.widget-view+json": {
       "model_id": "6f6f31c001db4d9a810708cb137e40a8",
       "version_major": 2,
       "version_minor": 0
      },
      "text/plain": [
       "Creating parquet from Arrow format:   0%|          | 0/1 [00:00<?, ?ba/s]"
      ]
     },
     "metadata": {},
     "output_type": "display_data"
    },
    {
     "data": {
      "application/vnd.jupyter.widget-view+json": {
       "model_id": "0529f883b914443b81efc8937eb5e394",
       "version_major": 2,
       "version_minor": 0
      },
      "text/plain": [
       "Creating parquet from Arrow format:   0%|          | 0/1 [00:00<?, ?ba/s]"
      ]
     },
     "metadata": {},
     "output_type": "display_data"
    },
    {
     "data": {
      "application/vnd.jupyter.widget-view+json": {
       "model_id": "2ad84ffa71d64b4ab912b2affa407199",
       "version_major": 2,
       "version_minor": 0
      },
      "text/plain": [
       "Uploading the dataset shards:   0%|          | 0/4 [00:00<?, ?it/s]"
      ]
     },
     "metadata": {},
     "output_type": "display_data"
    },
    {
     "data": {
      "application/vnd.jupyter.widget-view+json": {
       "model_id": "461497122cff4ce7b439d7ad95851d47",
       "version_major": 2,
       "version_minor": 0
      },
      "text/plain": [
       "Creating parquet from Arrow format:   0%|          | 0/1 [00:00<?, ?ba/s]"
      ]
     },
     "metadata": {},
     "output_type": "display_data"
    },
    {
     "data": {
      "application/vnd.jupyter.widget-view+json": {
       "model_id": "120edd0840fe4907b03bf200137010ca",
       "version_major": 2,
       "version_minor": 0
      },
      "text/plain": [
       "Creating parquet from Arrow format:   0%|          | 0/1 [00:00<?, ?ba/s]"
      ]
     },
     "metadata": {},
     "output_type": "display_data"
    },
    {
     "data": {
      "application/vnd.jupyter.widget-view+json": {
       "model_id": "bc38bf6188ca4ab6bb33c22480881e50",
       "version_major": 2,
       "version_minor": 0
      },
      "text/plain": [
       "Creating parquet from Arrow format:   0%|          | 0/1 [00:00<?, ?ba/s]"
      ]
     },
     "metadata": {},
     "output_type": "display_data"
    },
    {
     "data": {
      "application/vnd.jupyter.widget-view+json": {
       "model_id": "ae6d2e1f87d844ff999c2a7b84256e9d",
       "version_major": 2,
       "version_minor": 0
      },
      "text/plain": [
       "Creating parquet from Arrow format:   0%|          | 0/1 [00:00<?, ?ba/s]"
      ]
     },
     "metadata": {},
     "output_type": "display_data"
    },
    {
     "data": {
      "text/plain": [
       "CommitInfo(commit_url='https://huggingface.co/datasets/BrachioLab/mcmed-cardiac-full/commit/1bfcc57a72f8cf666d424714e0a45c7245d7b640', commit_message='Upload dataset', commit_description='', oid='1bfcc57a72f8cf666d424714e0a45c7245d7b640', pr_url=None, repo_url=RepoUrl('https://huggingface.co/datasets/BrachioLab/mcmed-cardiac-full', endpoint='https://huggingface.co', repo_type='dataset', repo_id='BrachioLab/mcmed-cardiac-full'), pr_revision=None, pr_num=None)"
      ]
     },
     "execution_count": 84,
     "metadata": {},
     "output_type": "execute_result"
    }
   ],
   "source": [
    "dataset_dict.push_to_hub(\"BrachioLab/mcmed-cardiac-full\")"
   ]
  },
  {
   "cell_type": "code",
   "execution_count": 85,
   "id": "33f9d09c-89c0-4b34-9022-9dc7d5120a6b",
   "metadata": {
    "scrolled": true
   },
   "outputs": [
    {
     "data": {
      "application/vnd.jupyter.widget-view+json": {
       "model_id": "f106397047044a139f727c5bc3590bd9",
       "version_major": 2,
       "version_minor": 0
      },
      "text/plain": [
       "README.md:   0%|          | 0.00/2.87k [00:00<?, ?B/s]"
      ]
     },
     "metadata": {},
     "output_type": "display_data"
    },
    {
     "data": {
      "application/vnd.jupyter.widget-view+json": {
       "model_id": "1d0ad94494a54f47a0d7008ede5a6a29",
       "version_major": 2,
       "version_minor": 0
      },
      "text/plain": [
       "Resolving data files:   0%|          | 0/21 [00:00<?, ?it/s]"
      ]
     },
     "metadata": {},
     "output_type": "display_data"
    },
    {
     "data": {
      "application/vnd.jupyter.widget-view+json": {
       "model_id": "cae3a65a0f834fe990f56a4b8baf1f26",
       "version_major": 2,
       "version_minor": 0
      },
      "text/plain": [
       "Resolving data files:   0%|          | 0/21 [00:00<?, ?it/s]"
      ]
     },
     "metadata": {},
     "output_type": "display_data"
    },
    {
     "data": {
      "application/vnd.jupyter.widget-view+json": {
       "model_id": "d35f6735bbc244e3a07f51ec019e50ea",
       "version_major": 2,
       "version_minor": 0
      },
      "text/plain": [
       "Downloading data:   0%|          | 0/21 [00:00<?, ?files/s]"
      ]
     },
     "metadata": {},
     "output_type": "display_data"
    },
    {
     "data": {
      "application/vnd.jupyter.widget-view+json": {
       "model_id": "01224418d51b4182a59bccbdf4d5a532",
       "version_major": 2,
       "version_minor": 0
      },
      "text/plain": [
       "train-00000-of-00021.parquet:   0%|          | 0.00/54.7M [00:00<?, ?B/s]"
      ]
     },
     "metadata": {},
     "output_type": "display_data"
    },
    {
     "data": {
      "application/vnd.jupyter.widget-view+json": {
       "model_id": "06277a0af54c4463b5841331698e230f",
       "version_major": 2,
       "version_minor": 0
      },
      "text/plain": [
       "train-00001-of-00021.parquet:   0%|          | 0.00/69.5M [00:00<?, ?B/s]"
      ]
     },
     "metadata": {},
     "output_type": "display_data"
    },
    {
     "data": {
      "application/vnd.jupyter.widget-view+json": {
       "model_id": "bf1e52f0a23f44518a0b9893888e0989",
       "version_major": 2,
       "version_minor": 0
      },
      "text/plain": [
       "train-00002-of-00021.parquet:   0%|          | 0.00/87.0M [00:00<?, ?B/s]"
      ]
     },
     "metadata": {},
     "output_type": "display_data"
    },
    {
     "data": {
      "application/vnd.jupyter.widget-view+json": {
       "model_id": "6f14020a623e4e0bb3e67613944e7ca2",
       "version_major": 2,
       "version_minor": 0
      },
      "text/plain": [
       "train-00003-of-00021.parquet:   0%|          | 0.00/55.6M [00:00<?, ?B/s]"
      ]
     },
     "metadata": {},
     "output_type": "display_data"
    },
    {
     "data": {
      "application/vnd.jupyter.widget-view+json": {
       "model_id": "854c9a932cd3403491e9eec5689d8aca",
       "version_major": 2,
       "version_minor": 0
      },
      "text/plain": [
       "train-00004-of-00021.parquet:   0%|          | 0.00/84.3M [00:00<?, ?B/s]"
      ]
     },
     "metadata": {},
     "output_type": "display_data"
    },
    {
     "data": {
      "application/vnd.jupyter.widget-view+json": {
       "model_id": "e1dbd152b1f1410abf306c9d508f2dec",
       "version_major": 2,
       "version_minor": 0
      },
      "text/plain": [
       "train-00005-of-00021.parquet:   0%|          | 0.00/71.0M [00:00<?, ?B/s]"
      ]
     },
     "metadata": {},
     "output_type": "display_data"
    },
    {
     "data": {
      "application/vnd.jupyter.widget-view+json": {
       "model_id": "df02128d5a50465a97738f6653b47357",
       "version_major": 2,
       "version_minor": 0
      },
      "text/plain": [
       "train-00006-of-00021.parquet:   0%|          | 0.00/50.3M [00:00<?, ?B/s]"
      ]
     },
     "metadata": {},
     "output_type": "display_data"
    },
    {
     "data": {
      "application/vnd.jupyter.widget-view+json": {
       "model_id": "0cd8c82b48324366a2e59b155f4361b8",
       "version_major": 2,
       "version_minor": 0
      },
      "text/plain": [
       "train-00007-of-00021.parquet:   0%|          | 0.00/45.3M [00:00<?, ?B/s]"
      ]
     },
     "metadata": {},
     "output_type": "display_data"
    },
    {
     "data": {
      "application/vnd.jupyter.widget-view+json": {
       "model_id": "69510b2b985f4a36a77507482520c1bc",
       "version_major": 2,
       "version_minor": 0
      },
      "text/plain": [
       "train-00008-of-00021.parquet:   0%|          | 0.00/55.8M [00:00<?, ?B/s]"
      ]
     },
     "metadata": {},
     "output_type": "display_data"
    },
    {
     "data": {
      "application/vnd.jupyter.widget-view+json": {
       "model_id": "44c197e3c99d4c589efb300eecf5e8b4",
       "version_major": 2,
       "version_minor": 0
      },
      "text/plain": [
       "train-00009-of-00021.parquet:   0%|          | 0.00/61.2M [00:00<?, ?B/s]"
      ]
     },
     "metadata": {},
     "output_type": "display_data"
    },
    {
     "data": {
      "application/vnd.jupyter.widget-view+json": {
       "model_id": "58f4173802e74b4d9028779d96f6bc9d",
       "version_major": 2,
       "version_minor": 0
      },
      "text/plain": [
       "train-00010-of-00021.parquet:   0%|          | 0.00/62.2M [00:00<?, ?B/s]"
      ]
     },
     "metadata": {},
     "output_type": "display_data"
    },
    {
     "data": {
      "application/vnd.jupyter.widget-view+json": {
       "model_id": "3abcb1a400b341118cb6987e80ef1aef",
       "version_major": 2,
       "version_minor": 0
      },
      "text/plain": [
       "train-00011-of-00021.parquet:   0%|          | 0.00/52.4M [00:00<?, ?B/s]"
      ]
     },
     "metadata": {},
     "output_type": "display_data"
    },
    {
     "data": {
      "application/vnd.jupyter.widget-view+json": {
       "model_id": "0a5692f0e01e47238380e460591cd859",
       "version_major": 2,
       "version_minor": 0
      },
      "text/plain": [
       "train-00012-of-00021.parquet:   0%|          | 0.00/85.3M [00:00<?, ?B/s]"
      ]
     },
     "metadata": {},
     "output_type": "display_data"
    },
    {
     "data": {
      "application/vnd.jupyter.widget-view+json": {
       "model_id": "e9abce7f7f454f92b8eb17f9fd0feda9",
       "version_major": 2,
       "version_minor": 0
      },
      "text/plain": [
       "train-00013-of-00021.parquet:   0%|          | 0.00/71.2M [00:00<?, ?B/s]"
      ]
     },
     "metadata": {},
     "output_type": "display_data"
    },
    {
     "data": {
      "application/vnd.jupyter.widget-view+json": {
       "model_id": "73b07f3d4a4140fd8b9474527b885584",
       "version_major": 2,
       "version_minor": 0
      },
      "text/plain": [
       "train-00014-of-00021.parquet:   0%|          | 0.00/49.6M [00:00<?, ?B/s]"
      ]
     },
     "metadata": {},
     "output_type": "display_data"
    },
    {
     "data": {
      "application/vnd.jupyter.widget-view+json": {
       "model_id": "2e009e523f9146f580752b19835fc560",
       "version_major": 2,
       "version_minor": 0
      },
      "text/plain": [
       "train-00015-of-00021.parquet:   0%|          | 0.00/64.3M [00:00<?, ?B/s]"
      ]
     },
     "metadata": {},
     "output_type": "display_data"
    },
    {
     "data": {
      "application/vnd.jupyter.widget-view+json": {
       "model_id": "a9d0745e30d44c6099d27e8991eae207",
       "version_major": 2,
       "version_minor": 0
      },
      "text/plain": [
       "train-00016-of-00021.parquet:   0%|          | 0.00/92.1M [00:00<?, ?B/s]"
      ]
     },
     "metadata": {},
     "output_type": "display_data"
    },
    {
     "data": {
      "application/vnd.jupyter.widget-view+json": {
       "model_id": "846ee22f85844cab89d3048c07d9c86b",
       "version_major": 2,
       "version_minor": 0
      },
      "text/plain": [
       "train-00017-of-00021.parquet:   0%|          | 0.00/64.1M [00:00<?, ?B/s]"
      ]
     },
     "metadata": {},
     "output_type": "display_data"
    },
    {
     "data": {
      "application/vnd.jupyter.widget-view+json": {
       "model_id": "8f04279b81764377bd700f9929eb9f9d",
       "version_major": 2,
       "version_minor": 0
      },
      "text/plain": [
       "train-00018-of-00021.parquet:   0%|          | 0.00/52.9M [00:00<?, ?B/s]"
      ]
     },
     "metadata": {},
     "output_type": "display_data"
    },
    {
     "data": {
      "application/vnd.jupyter.widget-view+json": {
       "model_id": "a99954dcd3c64cdc9c564d42f14340c4",
       "version_major": 2,
       "version_minor": 0
      },
      "text/plain": [
       "train-00019-of-00021.parquet:   0%|          | 0.00/48.4M [00:00<?, ?B/s]"
      ]
     },
     "metadata": {},
     "output_type": "display_data"
    },
    {
     "data": {
      "application/vnd.jupyter.widget-view+json": {
       "model_id": "2e7e4700f1b24ce5b86659507a8ef7a8",
       "version_major": 2,
       "version_minor": 0
      },
      "text/plain": [
       "train-00020-of-00021.parquet:   0%|          | 0.00/49.7M [00:00<?, ?B/s]"
      ]
     },
     "metadata": {},
     "output_type": "display_data"
    },
    {
     "data": {
      "application/vnd.jupyter.widget-view+json": {
       "model_id": "bcbb12b17f7d4f188fa41c7f79ae5b26",
       "version_major": 2,
       "version_minor": 0
      },
      "text/plain": [
       "validation-00000-of-00003.parquet:   0%|          | 0.00/48.9M [00:00<?, ?B/s]"
      ]
     },
     "metadata": {},
     "output_type": "display_data"
    },
    {
     "data": {
      "application/vnd.jupyter.widget-view+json": {
       "model_id": "bb48b3ee3a6c439791bdf1c2b46a3b7b",
       "version_major": 2,
       "version_minor": 0
      },
      "text/plain": [
       "validation-00001-of-00003.parquet:   0%|          | 0.00/60.6M [00:00<?, ?B/s]"
      ]
     },
     "metadata": {},
     "output_type": "display_data"
    },
    {
     "data": {
      "application/vnd.jupyter.widget-view+json": {
       "model_id": "ab9278e0451b476080c690274b5b5f27",
       "version_major": 2,
       "version_minor": 0
      },
      "text/plain": [
       "validation-00002-of-00003.parquet:   0%|          | 0.00/57.1M [00:00<?, ?B/s]"
      ]
     },
     "metadata": {},
     "output_type": "display_data"
    },
    {
     "data": {
      "application/vnd.jupyter.widget-view+json": {
       "model_id": "19b3111f599b4488be533d8cd09985b7",
       "version_major": 2,
       "version_minor": 0
      },
      "text/plain": [
       "test-00000-of-00004.parquet:   0%|          | 0.00/42.1M [00:00<?, ?B/s]"
      ]
     },
     "metadata": {},
     "output_type": "display_data"
    },
    {
     "data": {
      "application/vnd.jupyter.widget-view+json": {
       "model_id": "9085384fecdd48bfb6fa6c4c55648ea5",
       "version_major": 2,
       "version_minor": 0
      },
      "text/plain": [
       "test-00001-of-00004.parquet:   0%|          | 0.00/51.1M [00:00<?, ?B/s]"
      ]
     },
     "metadata": {},
     "output_type": "display_data"
    },
    {
     "data": {
      "application/vnd.jupyter.widget-view+json": {
       "model_id": "7bf11de6c8e34cbfa74704b9f9d1747f",
       "version_major": 2,
       "version_minor": 0
      },
      "text/plain": [
       "test-00002-of-00004.parquet:   0%|          | 0.00/59.0M [00:00<?, ?B/s]"
      ]
     },
     "metadata": {},
     "output_type": "display_data"
    },
    {
     "data": {
      "application/vnd.jupyter.widget-view+json": {
       "model_id": "c292e84321ce47c0bafecc3467b38cd7",
       "version_major": 2,
       "version_minor": 0
      },
      "text/plain": [
       "test-00003-of-00004.parquet:   0%|          | 0.00/47.9M [00:00<?, ?B/s]"
      ]
     },
     "metadata": {},
     "output_type": "display_data"
    },
    {
     "data": {
      "application/vnd.jupyter.widget-view+json": {
       "model_id": "387d70a0e38a4d46a60e6c028378958c",
       "version_major": 2,
       "version_minor": 0
      },
      "text/plain": [
       "Generating train split:   0%|          | 0/400 [00:00<?, ? examples/s]"
      ]
     },
     "metadata": {},
     "output_type": "display_data"
    },
    {
     "data": {
      "application/vnd.jupyter.widget-view+json": {
       "model_id": "1d4e7ac003954057981210b6a9daa7db",
       "version_major": 2,
       "version_minor": 0
      },
      "text/plain": [
       "Generating validation split:   0%|          | 0/50 [00:00<?, ? examples/s]"
      ]
     },
     "metadata": {},
     "output_type": "display_data"
    },
    {
     "data": {
      "application/vnd.jupyter.widget-view+json": {
       "model_id": "d257e6b930aa4aa782c44fac1698821d",
       "version_major": 2,
       "version_minor": 0
      },
      "text/plain": [
       "Generating test split:   0%|          | 0/50 [00:00<?, ? examples/s]"
      ]
     },
     "metadata": {},
     "output_type": "display_data"
    }
   ],
   "source": [
    "from datasets import load_dataset\n",
    "\n",
    "ds = load_dataset(\"BrachioLab/mcmed-cardiac-full\")"
   ]
  },
  {
   "cell_type": "code",
   "execution_count": 86,
   "id": "dd30875b-3b62-4c4b-81ec-14c332344ba4",
   "metadata": {
    "scrolled": true
   },
   "outputs": [
    {
     "data": {
      "text/plain": [
       "DatasetDict({\n",
       "    train: Dataset({\n",
       "        features: ['label', 'alarm', 'record_name', 'n_sig', 'fs', 'counter_freq', 'base_counter', 'sig_len', 'base_time', 'base_date', 'comments', 'sig_name', 'p_signal', 'd_signal', 'e_p_signal', 'e_d_signal', 'file_name', 'fmt', 'samps_per_frame', 'skew', 'byte_offset', 'adc_gain', 'baseline', 'units', 'adc_res', 'adc_zero', 'init_value', 'checksum', 'block_size', 'MRN', 'CSN', 'Visit_no', 'Visits', 'Age', 'Gender', 'Race', 'Ethnicity', 'Means_of_arrival', 'Triage_Temp', 'Triage_HR', 'Triage_RR', 'Triage_SpO2', 'Triage_SBP', 'Triage_DBP', 'Triage_acuity', 'CC', 'ED_dispo', 'Hours_to_next_visit', 'Dispo_class_next_visit', 'ED_LOS', 'Hosp_LOS', 'DC_dispo', 'Payor_class', 'Admit_service', 'Dx_ICD9', 'Dx_ICD10', 'Dx_name', 'Arrival_time', 'Roomed_time', 'Dispo_time', 'Admit_time', 'Departure_time'],\n",
       "        num_rows: 400\n",
       "    })\n",
       "    validation: Dataset({\n",
       "        features: ['label', 'alarm', 'record_name', 'n_sig', 'fs', 'counter_freq', 'base_counter', 'sig_len', 'base_time', 'base_date', 'comments', 'sig_name', 'p_signal', 'd_signal', 'e_p_signal', 'e_d_signal', 'file_name', 'fmt', 'samps_per_frame', 'skew', 'byte_offset', 'adc_gain', 'baseline', 'units', 'adc_res', 'adc_zero', 'init_value', 'checksum', 'block_size', 'MRN', 'CSN', 'Visit_no', 'Visits', 'Age', 'Gender', 'Race', 'Ethnicity', 'Means_of_arrival', 'Triage_Temp', 'Triage_HR', 'Triage_RR', 'Triage_SpO2', 'Triage_SBP', 'Triage_DBP', 'Triage_acuity', 'CC', 'ED_dispo', 'Hours_to_next_visit', 'Dispo_class_next_visit', 'ED_LOS', 'Hosp_LOS', 'DC_dispo', 'Payor_class', 'Admit_service', 'Dx_ICD9', 'Dx_ICD10', 'Dx_name', 'Arrival_time', 'Roomed_time', 'Dispo_time', 'Admit_time', 'Departure_time'],\n",
       "        num_rows: 50\n",
       "    })\n",
       "    test: Dataset({\n",
       "        features: ['label', 'alarm', 'record_name', 'n_sig', 'fs', 'counter_freq', 'base_counter', 'sig_len', 'base_time', 'base_date', 'comments', 'sig_name', 'p_signal', 'd_signal', 'e_p_signal', 'e_d_signal', 'file_name', 'fmt', 'samps_per_frame', 'skew', 'byte_offset', 'adc_gain', 'baseline', 'units', 'adc_res', 'adc_zero', 'init_value', 'checksum', 'block_size', 'MRN', 'CSN', 'Visit_no', 'Visits', 'Age', 'Gender', 'Race', 'Ethnicity', 'Means_of_arrival', 'Triage_Temp', 'Triage_HR', 'Triage_RR', 'Triage_SpO2', 'Triage_SBP', 'Triage_DBP', 'Triage_acuity', 'CC', 'ED_dispo', 'Hours_to_next_visit', 'Dispo_class_next_visit', 'ED_LOS', 'Hosp_LOS', 'DC_dispo', 'Payor_class', 'Admit_service', 'Dx_ICD9', 'Dx_ICD10', 'Dx_name', 'Arrival_time', 'Roomed_time', 'Dispo_time', 'Admit_time', 'Departure_time'],\n",
       "        num_rows: 50\n",
       "    })\n",
       "})"
      ]
     },
     "execution_count": 86,
     "metadata": {},
     "output_type": "execute_result"
    }
   ],
   "source": [
    "ds"
   ]
  },
  {
   "cell_type": "markdown",
   "id": "f875bf79-97f6-4c5b-bb9c-3a2435174ab8",
   "metadata": {},
   "source": [
    "## further cleaning (let's make the real mcmed-cardiac dataset that has the correct cutoff times based on alarms)\n",
    "\n",
    " - Potential Task: given 5 minutes of ECG data at 100 Hz, predict whether this patient gets cardiac arrest in the next 5 minutes\n",
    " - *Shorter Task:* given 2 minutes of ECG data at 100 Hz, predict whether this patient gets cardiac arrest in the next 5 minutes\n",
    " - **Chosen Task:** given 2 minutes of ECG data at 500 Hz (in a graph image), predict whether this patient gets cardiac arrest in the next 5 minutes\n",
    "\n",
    "Also each is given patient age, gender, race and ICU visit reason\n",
    "\n",
    "--> so we need to save the following"
   ]
  },
  {
   "cell_type": "markdown",
   "id": "44cbb93b-0907-4b88-91b9-936a04a67449",
   "metadata": {},
   "source": [
    "Pipeline:\n",
    "1. get the alarm time\n",
    "2. subtract r = 1- 300 sec from it\n",
    "3. this is your new cutoff time\n",
    "4. then take the preceding 120 seconds from that\n",
    "\n",
    "in terms of p_signal data:\n",
    "1. get new cutoff time data = orig_alarm_time_data_index - r * fs\n",
    "2. get new start time data = new_cutoff_time_data_index - 120 * fs\n",
    "   "
   ]
  },
  {
   "cell_type": "code",
   "execution_count": null,
   "id": "18d1905a-28fd-49a9-9c85-f290138c2912",
   "metadata": {},
   "outputs": [],
   "source": []
  },
  {
   "cell_type": "code",
   "execution_count": null,
   "id": "5907aa92-e826-4460-aa13-bb650c512405",
   "metadata": {},
   "outputs": [],
   "source": []
  },
  {
   "cell_type": "code",
   "execution_count": null,
   "id": "3057f487-7e0f-4d07-a4d2-82a4328ef747",
   "metadata": {},
   "outputs": [],
   "source": []
  },
  {
   "cell_type": "code",
   "execution_count": null,
   "id": "ed31a588-d26d-42b3-a8d1-c31df03519d0",
   "metadata": {},
   "outputs": [],
   "source": []
  },
  {
   "cell_type": "markdown",
   "id": "995cbea1-f1e6-48b1-8dce-618a4bd27f52",
   "metadata": {
    "jp-MarkdownHeadingCollapsed": true
   },
   "source": [
    "## other stuff that was useful for initial probing the data"
   ]
  },
  {
   "cell_type": "code",
   "execution_count": 14,
   "id": "5c246b3c-0ab4-404e-80f4-ed9b97994486",
   "metadata": {
    "scrolled": true
   },
   "outputs": [],
   "source": [
    "patients_records_dict = {}\n",
    "\n",
    "for patient_id in patients_segments_dict:\n",
    "    record_list = []\n",
    "    for segment_path in patients_segments_dict[patient_id]:\n",
    "        data_path = f\"/tmp/mc-med-1.0.0/data/waveforms/{CSN_suffix}/{segment_path}\"\n",
    "        # Read the record\n",
    "        record = wfdb.rdrecord(data_path)\n",
    "        record_list.append(record)\n",
    "    patients_records_dict[patient_id] = record_list\n",
    "\n",
    "# patients_records_dict"
   ]
  },
  {
   "cell_type": "code",
   "execution_count": 15,
   "id": "65eb813a-80e3-430d-9c69-290105164484",
   "metadata": {},
   "outputs": [
    {
     "name": "stdout",
     "output_type": "stream",
     "text": [
      "Yes alarm!\n",
      "Patient id: 99996003\n"
     ]
    },
    {
     "data": {
      "text/plain": [
       "[<wfdb.io.record.Record at 0x7ef9745d6770>,\n",
       " <wfdb.io.record.Record at 0x7ef9745d7c70>,\n",
       " <wfdb.io.record.Record at 0x7ef9745d66b0>]"
      ]
     },
     "execution_count": 15,
     "metadata": {},
     "output_type": "execute_result"
    }
   ],
   "source": [
    "if alarm_patient_ids.numel() == 0:\n",
    "    print(\"No alarm!\")\n",
    "    Full_CSN = patient_ids[0].item() # Full_CSN is another name for patient_id\n",
    "else:\n",
    "    print(\"Yes alarm!\")\n",
    "    Full_CSN = alarm_patient_ids[0].item()\n",
    "print('Patient id:', Full_CSN)\n",
    "patients_records_dict[Full_CSN]"
   ]
  },
  {
   "cell_type": "code",
   "execution_count": null,
   "id": "060091fd-6244-4952-9f7e-faa12c7ab496",
   "metadata": {},
   "outputs": [],
   "source": [
    "record_name, base_date, base_time, "
   ]
  },
  {
   "cell_type": "code",
   "execution_count": 17,
   "id": "97ac8fee-d8d3-4b81-b85b-f5ce09e690a2",
   "metadata": {},
   "outputs": [],
   "source": [
    "records = patients_records_dict[Full_CSN]"
   ]
  },
  {
   "cell_type": "code",
   "execution_count": 20,
   "id": "62312b5f-3705-431b-9a5e-3d6c24a54a15",
   "metadata": {},
   "outputs": [
    {
     "name": "stdout",
     "output_type": "stream",
     "text": [
      "{'record_name': '99996003_1', 'n_sig': 1, 'fs': 500, 'counter_freq': None, 'base_counter': None, 'sig_len': 476497, 'base_time': datetime.time(12, 0, 13, 772000), 'base_date': datetime.date(2225, 3, 31), 'comments': [], 'sig_name': ['II'], 'p_signal': array([[-0.024923  ],\n",
      "       [-0.0199384 ],\n",
      "       [-0.0099692 ],\n",
      "       ...,\n",
      "       [ 0.0348922 ],\n",
      "       [ 0.23427618],\n",
      "       [ 0.33396817]]), 'd_signal': None, 'e_p_signal': None, 'e_d_signal': None, 'file_name': ['99996003_1.dat'], 'fmt': ['212'], 'samps_per_frame': [1], 'skew': [None], 'byte_offset': [None], 'adc_gain': [401.23583934088566], 'baseline': [-99], 'units': ['mV'], 'adc_res': [12], 'adc_zero': [0], 'init_value': [-109], 'checksum': [17044], 'block_size': [0]}\n"
     ]
    }
   ],
   "source": [
    "record1 = records[0]\n",
    "print(record1.__dict__)"
   ]
  },
  {
   "cell_type": "code",
   "execution_count": 22,
   "id": "ce9c541c-c0ca-4c98-b9b3-7380148241fe",
   "metadata": {},
   "outputs": [
    {
     "name": "stdout",
     "output_type": "stream",
     "text": [
      "{'record_name': '99996003_2', 'n_sig': 1, 'fs': 500, 'counter_freq': None, 'base_counter': None, 'sig_len': 1636479, 'base_time': datetime.time(12, 16, 33, 72000), 'base_date': datetime.date(2225, 3, 31), 'comments': [], 'sig_name': ['II'], 'p_signal': array([[-0.13973566],\n",
      "       [-0.12085246],\n",
      "       [-0.0868627 ],\n",
      "       ...,\n",
      "       [ 0.33989754],\n",
      "       [ 0.22659836],\n",
      "       [ 0.17372541]]), 'd_signal': None, 'e_p_signal': None, 'e_d_signal': None, 'file_name': ['99996003_2.dat'], 'fmt': ['212'], 'samps_per_frame': [1], 'skew': [None], 'byte_offset': [None], 'adc_gain': [264.78567552902877], 'baseline': [393], 'units': ['mV'], 'adc_res': [12], 'adc_zero': [0], 'init_value': [356], 'checksum': [27762], 'block_size': [0]}\n"
     ]
    }
   ],
   "source": [
    "record2 = records[1]\n",
    "print(record2.__dict__)"
   ]
  },
  {
   "cell_type": "code",
   "execution_count": 38,
   "id": "39b81b8c-fc0f-45c7-82fd-813a1806688d",
   "metadata": {},
   "outputs": [],
   "source": [
    "d1 = record1.__dict__"
   ]
  },
  {
   "cell_type": "code",
   "execution_count": 40,
   "id": "36a0e25d-1072-4372-8c17-14b1834c273a",
   "metadata": {},
   "outputs": [],
   "source": [
    "d1['alarm'] = 0"
   ]
  },
  {
   "cell_type": "code",
   "execution_count": 45,
   "id": "4bbdceae-83a0-4397-9dd4-a84facc49f5f",
   "metadata": {},
   "outputs": [
    {
     "data": {
      "text/plain": [
       "Timestamp('2225-03-31 12:08:57')"
      ]
     },
     "execution_count": 45,
     "metadata": {},
     "output_type": "execute_result"
    }
   ],
   "source": [
    "alarm_ts = alarms_df[alarms_df['CSN'] == Full_CSN]['Alarm'].iloc[0]\n",
    "alarm_ts"
   ]
  },
  {
   "cell_type": "code",
   "execution_count": 41,
   "id": "d7807238-4291-4a42-9bf9-8492304ae0dd",
   "metadata": {},
   "outputs": [
    {
     "data": {
      "text/plain": [
       "{'record_name': '99996003_1',\n",
       " 'n_sig': 1,\n",
       " 'fs': 500,\n",
       " 'counter_freq': None,\n",
       " 'base_counter': None,\n",
       " 'sig_len': 476497,\n",
       " 'base_time': datetime.time(12, 0, 13, 772000),\n",
       " 'base_date': datetime.date(2225, 3, 31),\n",
       " 'comments': [],\n",
       " 'sig_name': ['II'],\n",
       " 'p_signal': array([[-0.024923  ],\n",
       "        [-0.0199384 ],\n",
       "        [-0.0099692 ],\n",
       "        ...,\n",
       "        [ 0.0348922 ],\n",
       "        [ 0.23427618],\n",
       "        [ 0.33396817]]),\n",
       " 'd_signal': None,\n",
       " 'e_p_signal': None,\n",
       " 'e_d_signal': None,\n",
       " 'file_name': ['99996003_1.dat'],\n",
       " 'fmt': ['212'],\n",
       " 'samps_per_frame': [1],\n",
       " 'skew': [None],\n",
       " 'byte_offset': [None],\n",
       " 'adc_gain': [401.23583934088566],\n",
       " 'baseline': [-99],\n",
       " 'units': ['mV'],\n",
       " 'adc_res': [12],\n",
       " 'adc_zero': [0],\n",
       " 'init_value': [-109],\n",
       " 'checksum': [17044],\n",
       " 'block_size': [0],\n",
       " 'alarm': 0}"
      ]
     },
     "execution_count": 41,
     "metadata": {},
     "output_type": "execute_result"
    }
   ],
   "source": [
    "d1"
   ]
  },
  {
   "cell_type": "code",
   "execution_count": 48,
   "id": "bbc8d933-8898-44b7-9976-a9c0c3aa5185",
   "metadata": {},
   "outputs": [
    {
     "data": {
      "text/plain": [
       "{'record_name': '99996003_2',\n",
       " 'n_sig': 1,\n",
       " 'fs': 500,\n",
       " 'counter_freq': None,\n",
       " 'base_counter': None,\n",
       " 'sig_len': 1636479,\n",
       " 'base_time': datetime.time(12, 16, 33, 72000),\n",
       " 'base_date': datetime.date(2225, 3, 31),\n",
       " 'comments': [],\n",
       " 'sig_name': ['II'],\n",
       " 'p_signal': array([[-0.13973566],\n",
       "        [-0.12085246],\n",
       "        [-0.0868627 ],\n",
       "        ...,\n",
       "        [ 0.33989754],\n",
       "        [ 0.22659836],\n",
       "        [ 0.17372541]]),\n",
       " 'd_signal': None,\n",
       " 'e_p_signal': None,\n",
       " 'e_d_signal': None,\n",
       " 'file_name': ['99996003_2.dat'],\n",
       " 'fmt': ['212'],\n",
       " 'samps_per_frame': [1],\n",
       " 'skew': [None],\n",
       " 'byte_offset': [None],\n",
       " 'adc_gain': [264.78567552902877],\n",
       " 'baseline': [393],\n",
       " 'units': ['mV'],\n",
       " 'adc_res': [12],\n",
       " 'adc_zero': [0],\n",
       " 'init_value': [356],\n",
       " 'checksum': [27762],\n",
       " 'block_size': [0],\n",
       " 'alarm_ts': None}"
      ]
     },
     "execution_count": 48,
     "metadata": {},
     "output_type": "execute_result"
    }
   ],
   "source": [
    "d2 = record2.__dict__\n",
    "d2['alarm_ts'] = None\n",
    "\n",
    "d2"
   ]
  },
  {
   "cell_type": "code",
   "execution_count": null,
   "id": "9723bdd5-6c72-48ba-9605-64a11708d6e2",
   "metadata": {},
   "outputs": [],
   "source": []
  },
  {
   "cell_type": "code",
   "execution_count": null,
   "id": "87e64e79-c2da-4ea0-b2de-eeadb460ae78",
   "metadata": {},
   "outputs": [],
   "source": []
  },
  {
   "cell_type": "code",
   "execution_count": 34,
   "id": "a2e368ba-6b61-47a5-8a2b-1aa07fe7c0c2",
   "metadata": {
    "scrolled": true
   },
   "outputs": [],
   "source": [
    "l = [record1.__dict__, record2.__dict__]"
   ]
  },
  {
   "cell_type": "code",
   "execution_count": 35,
   "id": "e103f077-d513-4f9f-a52e-274694f6bfa0",
   "metadata": {},
   "outputs": [],
   "source": [
    "from datasets import Dataset, DatasetDict\n",
    "\n",
    "train_dataset = Dataset.from_list(l)\n",
    "\n",
    "dataset_dict = DatasetDict({\n",
    "    \"train\": l\n",
    "})\n"
   ]
  },
  {
   "cell_type": "code",
   "execution_count": 36,
   "id": "e38739c4-6356-4b3c-b328-cfb2c728ab8f",
   "metadata": {},
   "outputs": [
    {
     "data": {
      "text/plain": [
       "Dataset({\n",
       "    features: ['record_name', 'n_sig', 'fs', 'counter_freq', 'base_counter', 'sig_len', 'base_time', 'base_date', 'comments', 'sig_name', 'p_signal', 'd_signal', 'e_p_signal', 'e_d_signal', 'file_name', 'fmt', 'samps_per_frame', 'skew', 'byte_offset', 'adc_gain', 'baseline', 'units', 'adc_res', 'adc_zero', 'init_value', 'checksum', 'block_size'],\n",
       "    num_rows: 2\n",
       "})"
      ]
     },
     "execution_count": 36,
     "metadata": {},
     "output_type": "execute_result"
    }
   ],
   "source": [
    "train_dataset"
   ]
  },
  {
   "cell_type": "code",
   "execution_count": 37,
   "id": "cbcbf218-69ed-467e-a824-9b9712a66c9d",
   "metadata": {},
   "outputs": [
    {
     "data": {
      "text/plain": [
       "DatasetDict({\n",
       "    train: [{'record_name': '99996003_1', 'n_sig': 1, 'fs': 500, 'counter_freq': None, 'base_counter': None, 'sig_len': 476497, 'base_time': datetime.time(12, 0, 13, 772000), 'base_date': datetime.date(2225, 3, 31), 'comments': [], 'sig_name': ['II'], 'p_signal': array([[-0.024923  ],\n",
       "           [-0.0199384 ],\n",
       "           [-0.0099692 ],\n",
       "           ...,\n",
       "           [ 0.0348922 ],\n",
       "           [ 0.23427618],\n",
       "           [ 0.33396817]]), 'd_signal': None, 'e_p_signal': None, 'e_d_signal': None, 'file_name': ['99996003_1.dat'], 'fmt': ['212'], 'samps_per_frame': [1], 'skew': [None], 'byte_offset': [None], 'adc_gain': [401.23583934088566], 'baseline': [-99], 'units': ['mV'], 'adc_res': [12], 'adc_zero': [0], 'init_value': [-109], 'checksum': [17044], 'block_size': [0]}, {'record_name': '99996003_2', 'n_sig': 1, 'fs': 500, 'counter_freq': None, 'base_counter': None, 'sig_len': 1636479, 'base_time': datetime.time(12, 16, 33, 72000), 'base_date': datetime.date(2225, 3, 31), 'comments': [], 'sig_name': ['II'], 'p_signal': array([[-0.13973566],\n",
       "           [-0.12085246],\n",
       "           [-0.0868627 ],\n",
       "           ...,\n",
       "           [ 0.33989754],\n",
       "           [ 0.22659836],\n",
       "           [ 0.17372541]]), 'd_signal': None, 'e_p_signal': None, 'e_d_signal': None, 'file_name': ['99996003_2.dat'], 'fmt': ['212'], 'samps_per_frame': [1], 'skew': [None], 'byte_offset': [None], 'adc_gain': [264.78567552902877], 'baseline': [393], 'units': ['mV'], 'adc_res': [12], 'adc_zero': [0], 'init_value': [356], 'checksum': [27762], 'block_size': [0]}]\n",
       "})"
      ]
     },
     "execution_count": 37,
     "metadata": {},
     "output_type": "execute_result"
    }
   ],
   "source": [
    "dataset_dict"
   ]
  },
  {
   "cell_type": "code",
   "execution_count": 27,
   "id": "c3c1d486-a6aa-48b9-a06d-a6af1ebcbb56",
   "metadata": {},
   "outputs": [
    {
     "data": {
      "text/plain": [
       "{'record_name': ['99996003_1', '99996003_2'],\n",
       " 'n_sig': [1, 1],\n",
       " 'fs': [500, 500],\n",
       " 'counter_freq': [None, None],\n",
       " 'base_counter': [None, None],\n",
       " 'sig_len': [476497, 1636479],\n",
       " 'base_time': [datetime.time(12, 0, 13, 772000),\n",
       "  datetime.time(12, 16, 33, 72000)],\n",
       " 'base_date': [datetime.date(2225, 3, 31), datetime.date(2225, 3, 31)],\n",
       " 'comments': [[], []],\n",
       " 'sig_name': [['II'], ['II']],\n",
       " 'p_signal': [array([[-0.024923  ],\n",
       "         [-0.0199384 ],\n",
       "         [-0.0099692 ],\n",
       "         ...,\n",
       "         [ 0.0348922 ],\n",
       "         [ 0.23427618],\n",
       "         [ 0.33396817]]),\n",
       "  array([[-0.13973566],\n",
       "         [-0.12085246],\n",
       "         [-0.0868627 ],\n",
       "         ...,\n",
       "         [ 0.33989754],\n",
       "         [ 0.22659836],\n",
       "         [ 0.17372541]])],\n",
       " 'd_signal': [None, None],\n",
       " 'e_p_signal': [None, None],\n",
       " 'e_d_signal': [None, None],\n",
       " 'file_name': [['99996003_1.dat'], ['99996003_2.dat']],\n",
       " 'fmt': [['212'], ['212']],\n",
       " 'samps_per_frame': [[1], [1]],\n",
       " 'skew': [[None], [None]],\n",
       " 'byte_offset': [[None], [None]],\n",
       " 'adc_gain': [[401.23583934088566], [264.78567552902877]],\n",
       " 'baseline': [[-99], [393]],\n",
       " 'units': [['mV'], ['mV']],\n",
       " 'adc_res': [[12], [12]],\n",
       " 'adc_zero': [[0], [0]],\n",
       " 'init_value': [[-109], [356]],\n",
       " 'checksum': [[17044], [27762]],\n",
       " 'block_size': [[0], [0]]}"
      ]
     },
     "execution_count": 27,
     "metadata": {},
     "output_type": "execute_result"
    }
   ],
   "source": [
    "d = {}\n",
    "for key in record1.__dict__:\n",
    "    entry_list = []\n",
    "    entry_list.append(record1.__dict__[key])\n",
    "    entry_list.append(record2.__dict__[key])\n",
    "    d[key] = entry_list\n",
    "d"
   ]
  },
  {
   "cell_type": "code",
   "execution_count": 32,
   "id": "f3da84f3-9f74-4137-a7b8-e137180d3e92",
   "metadata": {},
   "outputs": [
    {
     "ename": "AttributeError",
     "evalue": "'list' object has no attribute 'items'",
     "output_type": "error",
     "traceback": [
      "\u001b[0;31m---------------------------------------------------------------------------\u001b[0m",
      "\u001b[0;31mAttributeError\u001b[0m                            Traceback (most recent call last)",
      "Cell \u001b[0;32mIn[32], line 4\u001b[0m\n\u001b[1;32m      1\u001b[0m \u001b[38;5;28;01mfrom\u001b[39;00m\u001b[38;5;250m \u001b[39m\u001b[38;5;21;01mdatasets\u001b[39;00m\u001b[38;5;250m \u001b[39m\u001b[38;5;28;01mimport\u001b[39;00m Dataset, DatasetDict\n\u001b[1;32m      3\u001b[0m \u001b[38;5;66;03m# Convert each sub-dictionary to a Hugging Face Dataset\u001b[39;00m\n\u001b[0;32m----> 4\u001b[0m dataset_dict \u001b[38;5;241m=\u001b[39m DatasetDict({\n\u001b[1;32m      5\u001b[0m     split: Dataset\u001b[38;5;241m.\u001b[39mfrom_dict(split_data)\n\u001b[1;32m      6\u001b[0m     \u001b[38;5;28;01mfor\u001b[39;00m split, split_data \u001b[38;5;129;01min\u001b[39;00m d\u001b[38;5;241m.\u001b[39mitems()\n\u001b[1;32m      7\u001b[0m })\n",
      "Cell \u001b[0;32mIn[32], line 5\u001b[0m, in \u001b[0;36m<dictcomp>\u001b[0;34m(.0)\u001b[0m\n\u001b[1;32m      1\u001b[0m \u001b[38;5;28;01mfrom\u001b[39;00m\u001b[38;5;250m \u001b[39m\u001b[38;5;21;01mdatasets\u001b[39;00m\u001b[38;5;250m \u001b[39m\u001b[38;5;28;01mimport\u001b[39;00m Dataset, DatasetDict\n\u001b[1;32m      3\u001b[0m \u001b[38;5;66;03m# Convert each sub-dictionary to a Hugging Face Dataset\u001b[39;00m\n\u001b[1;32m      4\u001b[0m dataset_dict \u001b[38;5;241m=\u001b[39m DatasetDict({\n\u001b[0;32m----> 5\u001b[0m     split: \u001b[43mDataset\u001b[49m\u001b[38;5;241;43m.\u001b[39;49m\u001b[43mfrom_dict\u001b[49m\u001b[43m(\u001b[49m\u001b[43msplit_data\u001b[49m\u001b[43m)\u001b[49m\n\u001b[1;32m      6\u001b[0m     \u001b[38;5;28;01mfor\u001b[39;00m split, split_data \u001b[38;5;129;01min\u001b[39;00m d\u001b[38;5;241m.\u001b[39mitems()\n\u001b[1;32m      7\u001b[0m })\n",
      "File \u001b[0;32m~/miniconda3/envs/ssg-env/lib/python3.10/site-packages/datasets/arrow_dataset.py:929\u001b[0m, in \u001b[0;36mDataset.from_dict\u001b[0;34m(cls, mapping, features, info, split)\u001b[0m\n\u001b[1;32m    927\u001b[0m features \u001b[38;5;241m=\u001b[39m features \u001b[38;5;28;01mif\u001b[39;00m features \u001b[38;5;129;01mis\u001b[39;00m \u001b[38;5;129;01mnot\u001b[39;00m \u001b[38;5;28;01mNone\u001b[39;00m \u001b[38;5;28;01melse\u001b[39;00m info\u001b[38;5;241m.\u001b[39mfeatures \u001b[38;5;28;01mif\u001b[39;00m info \u001b[38;5;129;01mis\u001b[39;00m \u001b[38;5;129;01mnot\u001b[39;00m \u001b[38;5;28;01mNone\u001b[39;00m \u001b[38;5;28;01melse\u001b[39;00m \u001b[38;5;28;01mNone\u001b[39;00m\n\u001b[1;32m    928\u001b[0m arrow_typed_mapping \u001b[38;5;241m=\u001b[39m {}\n\u001b[0;32m--> 929\u001b[0m \u001b[38;5;28;01mfor\u001b[39;00m col, data \u001b[38;5;129;01min\u001b[39;00m \u001b[43mmapping\u001b[49m\u001b[38;5;241;43m.\u001b[39;49m\u001b[43mitems\u001b[49m():\n\u001b[1;32m    930\u001b[0m     \u001b[38;5;28;01mif\u001b[39;00m \u001b[38;5;28misinstance\u001b[39m(data, (pa\u001b[38;5;241m.\u001b[39mArray, pa\u001b[38;5;241m.\u001b[39mChunkedArray)):\n\u001b[1;32m    931\u001b[0m         data \u001b[38;5;241m=\u001b[39m cast_array_to_feature(data, features[col]) \u001b[38;5;28;01mif\u001b[39;00m features \u001b[38;5;129;01mis\u001b[39;00m \u001b[38;5;129;01mnot\u001b[39;00m \u001b[38;5;28;01mNone\u001b[39;00m \u001b[38;5;28;01melse\u001b[39;00m data\n",
      "\u001b[0;31mAttributeError\u001b[0m: 'list' object has no attribute 'items'"
     ]
    }
   ],
   "source": [
    "from datasets import Dataset, DatasetDict\n",
    "\n",
    "# Convert each sub-dictionary to a Hugging Face Dataset\n",
    "dataset_dict = DatasetDict({\n",
    "    split: Dataset.from_dict(split_data)\n",
    "    for split, split_data in d.items()\n",
    "})"
   ]
  },
  {
   "cell_type": "code",
   "execution_count": 78,
   "id": "557114ca-0848-4ed7-9aeb-ced301d76967",
   "metadata": {},
   "outputs": [
    {
     "name": "stdout",
     "output_type": "stream",
     "text": [
      "Date: 2225-03-31\n",
      "Start time: 12:00:13.772000\n",
      "End time: 12:16:06.766000\n"
     ]
    }
   ],
   "source": [
    "def get_start_end_times(record):\n",
    "    start_dt = datetime.combine(datetime.today(), record.base_time)\n",
    "    duration_sec = record.sig_len / record.fs\n",
    "    end_dt = start_dt + timedelta(seconds=duration_sec)\n",
    "    print(\"Date:\", record.base_date)\n",
    "    print(\"Start time:\", record.base_time)\n",
    "    print(\"End time:\", end_dt.time())\n",
    "    return\n",
    "    # return start_dt, end_dt\n",
    "\n",
    "get_start_end_times(record1)"
   ]
  },
  {
   "cell_type": "code",
   "execution_count": null,
   "id": "a2adad67-e089-4d7b-bd9c-a084fb9925d3",
   "metadata": {},
   "outputs": [],
   "source": [
    "measurements"
   ]
  },
  {
   "cell_type": "code",
   "execution_count": 121,
   "id": "6c93290d-37a5-4958-8e21-25e8690becee",
   "metadata": {},
   "outputs": [
    {
     "data": {
      "text/plain": [
       "Timestamp('2225-03-31 12:08:57')"
      ]
     },
     "execution_count": 121,
     "metadata": {},
     "output_type": "execute_result"
    }
   ],
   "source": [
    "alarms_df[alarms_df['CSN'] == Full_CSN]['Alarm'].iloc[0]"
   ]
  },
  {
   "cell_type": "code",
   "execution_count": 124,
   "id": "ba70df1c-4f8b-4d42-9900-269ef334f590",
   "metadata": {},
   "outputs": [
    {
     "name": "stdout",
     "output_type": "stream",
     "text": [
      "True\n",
      "False\n"
     ]
    }
   ],
   "source": [
    "ts = alarms_df[alarms_df['CSN'] == Full_CSN]['Alarm'].iloc[0]\n",
    "dt = datetime(2225, 3, 31, 12, 8, 57)\n",
    "\n",
    "print(ts == dt)   # True\n",
    "print(ts < dt) "
   ]
  },
  {
   "cell_type": "code",
   "execution_count": 116,
   "id": "a698ae15-025c-4122-ac78-e3adda5cd252",
   "metadata": {},
   "outputs": [
    {
     "data": {
      "text/plain": [
       "datetime.time(12, 16, 6, 764000)"
      ]
     },
     "execution_count": 116,
     "metadata": {},
     "output_type": "execute_result"
    }
   ],
   "source": [
    "current_time.time()"
   ]
  },
  {
   "cell_type": "code",
   "execution_count": 119,
   "id": "1f8be9de-3539-4c17-810e-def9de10bf5f",
   "metadata": {},
   "outputs": [
    {
     "data": {
      "text/plain": [
       "False"
      ]
     },
     "execution_count": 119,
     "metadata": {},
     "output_type": "execute_result"
    }
   ],
   "source": [
    "alarms_df[alarms_df['CSN'] == Full_CSN]['Alarm'].to_numpy()[0] == current_time.time()"
   ]
  },
  {
   "cell_type": "code",
   "execution_count": 349,
   "id": "f40ba383-36ad-41b6-8e0e-b036c8a862f0",
   "metadata": {},
   "outputs": [],
   "source": [
    "from datetime import datetime, timedelta\n",
    "\n",
    "def get_measurements(record, alarm_ts=None, cutoff_minutes=1, new_fs=40):\n",
    "    \"\"\"\n",
    "    new_fs: the downsampled number of samples taken per second (i.e. Hz)\n",
    "    \"\"\"\n",
    "    signal = record.p_signal[:, 0]  # 1D array of measurements \n",
    "    start_time = datetime.combine(record.base_date, record.base_time)\n",
    "\n",
    "    formatted = []\n",
    "\n",
    "    # Determine cutoff time in seconds since start\n",
    "    if alarm_ts is None:\n",
    "        end_time = start_time + timedelta(seconds=record.sig_len / record.fs)\n",
    "        cutoff_time = end_time - timedelta(minutes=cutoff_minutes)\n",
    "    else:\n",
    "        cutoff_time = alarm_ts - timedelta(minutes=cutoff_minutes)\n",
    "    total_duration = (cutoff_time - start_time).total_seconds()\n",
    "    max_idx = min(len(signal), int(total_duration * record.fs))\n",
    "\n",
    "    step_sz = int(record.fs // new_fs)\n",
    "\n",
    "    for i in range(0, max_idx, step_sz):\n",
    "        current_time = start_time + timedelta(seconds=i / record.fs)\n",
    "        # formatted.append(f\"{current_time.time()}, {signal[i]:.6f}\")\n",
    "        formatted.append(signal[i])\n",
    "    return np.array(formatted), start_time, cutoff_time, new_fs\n"
   ]
  },
  {
   "cell_type": "code",
   "execution_count": 350,
   "id": "04c15b07-7872-47ad-a6cc-e5ecea1c6772",
   "metadata": {},
   "outputs": [
    {
     "name": "stdout",
     "output_type": "stream",
     "text": [
      "[-0.024923    0.          0.12461499 -0.40624487 -0.24922998]\n",
      "19302\n",
      "Sanity check for last entry:  -0.05981519507186859\n"
     ]
    }
   ],
   "source": [
    "measurements, start_time, cutoff_time, new_fs = get_measurements(record1, alarm_ts)\n",
    "print(measurements[:5])\n",
    "print(len(measurements))\n",
    "print(\"Sanity check for last entry: \", measurements[-1])"
   ]
  },
  {
   "cell_type": "code",
   "execution_count": 344,
   "id": "8fd8e525-de45-4db1-bcbe-14de8bcb3119",
   "metadata": {},
   "outputs": [
    {
     "name": "stdout",
     "output_type": "stream",
     "text": [
      "[-0.024923   -0.0199384   0.61559805 -0.75516684 -0.30406057]\n",
      "44650\n",
      "Sanity check for last entry:  -0.22929158110882958\n"
     ]
    }
   ],
   "source": [
    "measurements, start_time, cutoff_time, new_fs = get_measurements(record1)\n",
    "print(measurements[:5])\n",
    "print(len(measurements))\n",
    "print(\"Sanity check for last entry: \", measurements[-1])"
   ]
  },
  {
   "cell_type": "code",
   "execution_count": 223,
   "id": "db1ac1ed-aefe-4913-ad0b-061708f3144e",
   "metadata": {},
   "outputs": [
    {
     "data": {
      "text/plain": [
       "(446498,)"
      ]
     },
     "execution_count": 223,
     "metadata": {},
     "output_type": "execute_result"
    }
   ],
   "source": [
    "measurements.shape"
   ]
  },
  {
   "cell_type": "code",
   "execution_count": 29,
   "id": "60521fe2-c959-40d1-99cd-fdc27adbd089",
   "metadata": {},
   "outputs": [
    {
     "data": {
      "image/png": "[encoded data removed]",
      "text/plain": [
       "<Figure size 640x480 with 1 Axes>"
      ]
     },
     "metadata": {},
     "output_type": "display_data"
    }
   ],
   "source": [
    "wfdb.plot_wfdb(record=record1)"
   ]
  },
  {
   "cell_type": "code",
   "execution_count": 30,
   "id": "af215de0-e9f7-483b-a2ff-af3dc25fa620",
   "metadata": {},
   "outputs": [
    {
     "name": "stdout",
     "output_type": "stream",
     "text": [
      "{'record_name': '99996003_2', 'n_sig': 1, 'fs': 500, 'counter_freq': None, 'base_counter': None, 'sig_len': 1636479, 'base_time': datetime.time(12, 16, 33, 72000), 'base_date': datetime.date(2225, 3, 31), 'comments': [], 'sig_name': ['II'], 'p_signal': array([[-0.13973566],\n",
      "       [-0.12085246],\n",
      "       [-0.0868627 ],\n",
      "       ...,\n",
      "       [ 0.33989754],\n",
      "       [ 0.22659836],\n",
      "       [ 0.17372541]]), 'd_signal': None, 'e_p_signal': None, 'e_d_signal': None, 'file_name': ['99996003_2.dat'], 'fmt': ['212'], 'samps_per_frame': [1], 'skew': [None], 'byte_offset': [None], 'adc_gain': [264.78567552902877], 'baseline': [393], 'units': ['mV'], 'adc_res': [12], 'adc_zero': [0], 'init_value': [356], 'checksum': [27762], 'block_size': [0]}\n"
     ]
    }
   ],
   "source": [
    "record2 = records[1]\n",
    "print(record2.__dict__)"
   ]
  },
  {
   "cell_type": "code",
   "execution_count": 79,
   "id": "a950ba6c-d50d-499e-9072-61f30791b893",
   "metadata": {},
   "outputs": [
    {
     "name": "stdout",
     "output_type": "stream",
     "text": [
      "Date: 2225-03-31\n",
      "Start time: 12:16:33.072000\n",
      "End time: 13:11:06.030000\n"
     ]
    }
   ],
   "source": [
    "get_start_end_times(record2)"
   ]
  },
  {
   "cell_type": "code",
   "execution_count": 32,
   "id": "748d3fb3-096c-49bc-a3b3-4416f32c789f",
   "metadata": {},
   "outputs": [
    {
     "data": {
      "image/png": "[encoded data removed]",
      "text/plain": [
       "<Figure size 640x480 with 1 Axes>"
      ]
     },
     "metadata": {},
     "output_type": "display_data"
    }
   ],
   "source": [
    "wfdb.plot_wfdb(record=record2)"
   ]
  },
  {
   "cell_type": "code",
   "execution_count": 73,
   "id": "d606c571-40b6-4404-8d1d-e22ac6db1a07",
   "metadata": {},
   "outputs": [
    {
     "data": {
      "text/html": [
       "<div>\n",
       "<style scoped>\n",
       "    .dataframe tbody tr th:only-of-type {\n",
       "        vertical-align: middle;\n",
       "    }\n",
       "\n",
       "    .dataframe tbody tr th {\n",
       "        vertical-align: top;\n",
       "    }\n",
       "\n",
       "    .dataframe thead th {\n",
       "        text-align: right;\n",
       "    }\n",
       "</style>\n",
       "<table border=\"1\" class=\"dataframe\">\n",
       "  <thead>\n",
       "    <tr style=\"text-align: right;\">\n",
       "      <th></th>\n",
       "      <th>CSN</th>\n",
       "      <th>Alarm</th>\n",
       "    </tr>\n",
       "  </thead>\n",
       "  <tbody>\n",
       "    <tr>\n",
       "      <th>440</th>\n",
       "      <td>99996003</td>\n",
       "      <td>2225-03-31 12:08:57</td>\n",
       "    </tr>\n",
       "  </tbody>\n",
       "</table>\n",
       "</div>"
      ],
      "text/plain": [
       "          CSN               Alarm\n",
       "440  99996003 2225-03-31 12:08:57"
      ]
     },
     "execution_count": 73,
     "metadata": {},
     "output_type": "execute_result"
    }
   ],
   "source": [
    "alarms_df[alarms_df['CSN'] == Full_CSN]"
   ]
  },
  {
   "cell_type": "code",
   "execution_count": 101,
   "id": "c49c5293-dcd9-49a3-889b-4d03db1cb43d",
   "metadata": {},
   "outputs": [
    {
     "data": {
      "text/plain": [
       "(425,)"
      ]
     },
     "execution_count": 101,
     "metadata": {},
     "output_type": "execute_result"
    }
   ],
   "source": [
    "alarms_df['CSN'].shape"
   ]
  },
  {
   "cell_type": "code",
   "execution_count": 100,
   "id": "55d5e77d-4a68-4ace-8bf7-d6df817db046",
   "metadata": {},
   "outputs": [
    {
     "data": {
      "text/plain": [
       "(425,)"
      ]
     },
     "execution_count": 100,
     "metadata": {},
     "output_type": "execute_result"
    }
   ],
   "source": [
    "alarms_df['CSN'].unique().shape"
   ]
  },
  {
   "cell_type": "code",
   "execution_count": 76,
   "id": "0227a7d9-b952-4821-8ac8-677eb7dc9116",
   "metadata": {},
   "outputs": [
    {
     "data": {
      "text/plain": [
       "440   2225-03-31 12:08:57\n",
       "Name: Alarm, dtype: datetime64[us]"
      ]
     },
     "execution_count": 76,
     "metadata": {},
     "output_type": "execute_result"
    }
   ],
   "source": [
    "alarms_df[alarms_df['CSN'] == Full_CSN]['Alarm']"
   ]
  },
  {
   "cell_type": "code",
   "execution_count": 86,
   "id": "db61e50c-1e70-451b-8dd8-7580d2f2edc9",
   "metadata": {},
   "outputs": [
    {
     "name": "stdout",
     "output_type": "stream",
     "text": [
      "Date: 2225-03-31\n",
      "Start time: 12:00:13.772000\n",
      "End time: 12:16:06.766000\n",
      "\n",
      "\n",
      "Date: 2225-03-31\n",
      "Start time: 12:16:33.072000\n",
      "End time: 13:11:06.030000\n",
      "\n",
      "\n",
      "Date: 2225-03-31\n",
      "Start time: 13:36:23.572000\n",
      "End time: 16:44:12.792000\n",
      "\n",
      "\n"
     ]
    }
   ],
   "source": [
    "for record in records:\n",
    "    get_start_end_times(record)\n",
    "    print(\"\\n\")"
   ]
  },
  {
   "cell_type": "markdown",
   "id": "2119bbcf-c0e4-4903-b0de-47cabb92df72",
   "metadata": {},
   "source": [
    "### cut off time up to 1 min before the alarm/ cardiac arrest"
   ]
  },
  {
   "cell_type": "code",
   "execution_count": 109,
   "id": "3ac43e6b-0f39-483b-ba55-178f37f8372b",
   "metadata": {},
   "outputs": [
    {
     "data": {
      "text/plain": [
       "{'record_name': '99996003_1',\n",
       " 'n_sig': 1,\n",
       " 'fs': 500,\n",
       " 'counter_freq': None,\n",
       " 'base_counter': None,\n",
       " 'sig_len': 476497,\n",
       " 'base_time': datetime.time(12, 0, 13, 772000),\n",
       " 'base_date': datetime.date(2225, 3, 31),\n",
       " 'comments': [],\n",
       " 'sig_name': ['II'],\n",
       " 'p_signal': array([[-0.024923  ],\n",
       "        [-0.0199384 ],\n",
       "        [-0.0099692 ],\n",
       "        ...,\n",
       "        [ 0.0348922 ],\n",
       "        [ 0.23427618],\n",
       "        [ 0.33396817]]),\n",
       " 'd_signal': None,\n",
       " 'e_p_signal': None,\n",
       " 'e_d_signal': None,\n",
       " 'file_name': ['99996003_1.dat'],\n",
       " 'fmt': ['212'],\n",
       " 'samps_per_frame': [1],\n",
       " 'skew': [None],\n",
       " 'byte_offset': [None],\n",
       " 'adc_gain': [401.23583934088566],\n",
       " 'baseline': [-99],\n",
       " 'units': ['mV'],\n",
       " 'adc_res': [12],\n",
       " 'adc_zero': [0],\n",
       " 'init_value': [-109],\n",
       " 'checksum': [17044],\n",
       " 'block_size': [0]}"
      ]
     },
     "execution_count": 109,
     "metadata": {},
     "output_type": "execute_result"
    }
   ],
   "source": [
    "record = records[0]\n",
    "\n",
    "record.__dict__"
   ]
  },
  {
   "cell_type": "code",
   "execution_count": 152,
   "id": "32de03c1-8b98-46fc-972c-5efcb2b4a490",
   "metadata": {},
   "outputs": [
    {
     "name": "stdout",
     "output_type": "stream",
     "text": [
      "['12:00:13.772000, -0.024923', '12:00:13.774000, -0.019938', '12:00:13.776000, -0.009969', '12:00:13.778000, -0.009969', '12:00:13.780000, -0.019938']\n",
      "Sanity check for last entry:  12:07:57, -0.044861\n"
     ]
    }
   ],
   "source": [
    "alarm_ts = alarms_df[alarms_df['CSN'] == Full_CSN]['Alarm'].iloc[0]\n",
    "measurements = get_measurements(record1, alarm_ts, cutoff_minutes = 1)\n",
    "print(measurements[:5])\n",
    "print(\"Sanity check for last entry: \", measurements[-1])"
   ]
  },
  {
   "cell_type": "code",
   "execution_count": null,
   "id": "5533c9a6-ba70-4a1d-a650-b496adfe9582",
   "metadata": {},
   "outputs": [],
   "source": [
    "# Each entry consists of a timestamp and the corresponding measurement value at that timestamp.\n"
   ]
  },
  {
   "cell_type": "code",
   "execution_count": 292,
   "id": "dfe507bc-8082-4e48-bd26-4af2de6b0bfb",
   "metadata": {},
   "outputs": [],
   "source": [
    "def get_measurements(record, alarm_ts=None, cutoff_minutes=1, new_fs=50):\n",
    "    \"\"\"\n",
    "    new_fs: the downsampled number of samples taken per second (i.e. Hz)\n",
    "    \"\"\"\n",
    "    signal = record.p_signal[:, 0]  # 1D array of measurements \n",
    "    start_time = datetime.combine(record.base_date, record.base_time)\n",
    "\n",
    "    formatted = []\n",
    "\n",
    "    # Determine cutoff time in seconds since start\n",
    "    if alarm_ts is None:\n",
    "        end_time = start_time + timedelta(seconds=record.sig_len / record.fs)\n",
    "        cutoff_time = end_time - timedelta(minutes=cutoff_minutes)\n",
    "    else:\n",
    "        cutoff_time = alarm_ts - timedelta(minutes=cutoff_minutes)\n",
    "    total_duration = (cutoff_time - start_time).total_seconds()\n",
    "    max_idx = min(len(signal), int(total_duration * record.fs))\n",
    "\n",
    "    step_sz = int(record.fs // new_fs)\n",
    "\n",
    "    for i in range(0, max_idx, step_sz):\n",
    "        current_time = start_time + timedelta(seconds=i / record.fs)\n",
    "        # formatted.append(f\"{current_time.time()}, {signal[i]:.6f}\")\n",
    "        formatted.append(signal[i])\n",
    "    return np.array(formatted), start_time, cutoff_time, new_fs\n"
   ]
  },
  {
   "cell_type": "code",
   "execution_count": null,
   "id": "369f2472-78ba-4ccc-bce6-226fc50b5cdd",
   "metadata": {},
   "outputs": [],
   "source": []
  }
 ],
 "metadata": {
  "kernelspec": {
   "display_name": "Python 3 (ipykernel)",
   "language": "python",
   "name": "python3"
  },
  "language_info": {
   "codemirror_mode": {
    "name": "ipython",
    "version": 3
   },
   "file_extension": ".py",
   "mimetype": "text/x-python",
   "name": "python",
   "nbconvert_exporter": "python",
   "pygments_lexer": "ipython3",
   "version": "3.10.16"
  }
 },
 "nbformat": 4,
 "nbformat_minor": 5
}
