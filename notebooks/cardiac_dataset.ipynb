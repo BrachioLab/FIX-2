{
 "cells": [
  {
   "cell_type": "code",
   "execution_count": 1,
   "id": "619c538e-9f06-463d-9258-603abc80c42f",
   "metadata": {},
   "outputs": [],
   "source": [
    "import torch\n",
    "import numpy as np\n",
    "import pandas as pd\n",
    "import wfdb\n",
    "from datetime import datetime, timedelta\n",
    "import os\n",
    "from tqdm import tqdm\n",
    "import random\n",
    "import sys\n",
    "sys.path.append(\"../src/datasets\")\n",
    "from cardiac_helper import extract_segment_before_alarm\n"
   ]
  },
  {
   "cell_type": "code",
   "execution_count": 2,
   "id": "a07dc49b-6b44-44c1-980e-86ccfd741edf",
   "metadata": {
    "scrolled": true
   },
   "outputs": [
    {
     "data": {
      "text/html": [
       "<div>\n",
       "<style scoped>\n",
       "    .dataframe tbody tr th:only-of-type {\n",
       "        vertical-align: middle;\n",
       "    }\n",
       "\n",
       "    .dataframe tbody tr th {\n",
       "        vertical-align: top;\n",
       "    }\n",
       "\n",
       "    .dataframe thead th {\n",
       "        text-align: right;\n",
       "    }\n",
       "</style>\n",
       "<table border=\"1\" class=\"dataframe\">\n",
       "  <thead>\n",
       "    <tr style=\"text-align: right;\">\n",
       "      <th></th>\n",
       "      <th>CSN</th>\n",
       "      <th>Type</th>\n",
       "      <th>Segments</th>\n",
       "      <th>Duration</th>\n",
       "    </tr>\n",
       "  </thead>\n",
       "  <tbody>\n",
       "    <tr>\n",
       "      <th>0</th>\n",
       "      <td>99633476</td>\n",
       "      <td>II</td>\n",
       "      <td>1</td>\n",
       "      <td>2204.742</td>\n",
       "    </tr>\n",
       "    <tr>\n",
       "      <th>4</th>\n",
       "      <td>99960476</td>\n",
       "      <td>II</td>\n",
       "      <td>4</td>\n",
       "      <td>12818.304</td>\n",
       "    </tr>\n",
       "    <tr>\n",
       "      <th>7</th>\n",
       "      <td>99470476</td>\n",
       "      <td>II</td>\n",
       "      <td>2</td>\n",
       "      <td>13918.498</td>\n",
       "    </tr>\n",
       "    <tr>\n",
       "      <th>11</th>\n",
       "      <td>99438476</td>\n",
       "      <td>II</td>\n",
       "      <td>2</td>\n",
       "      <td>11579.046</td>\n",
       "    </tr>\n",
       "    <tr>\n",
       "      <th>15</th>\n",
       "      <td>99439476</td>\n",
       "      <td>II</td>\n",
       "      <td>3</td>\n",
       "      <td>2853.788</td>\n",
       "    </tr>\n",
       "  </tbody>\n",
       "</table>\n",
       "</div>"
      ],
      "text/plain": [
       "         CSN Type  Segments   Duration\n",
       "0   99633476   II         1   2204.742\n",
       "4   99960476   II         4  12818.304\n",
       "7   99470476   II         2  13918.498\n",
       "11  99438476   II         2  11579.046\n",
       "15  99439476   II         3   2853.788"
      ]
     },
     "execution_count": 2,
     "metadata": {},
     "output_type": "execute_result"
    }
   ],
   "source": [
    "# work done in hylian machine\n",
    "\n",
    "waveform_summary = pd.read_csv(\"/scratch/mc-med/data/waveform_summary.csv\")\n",
    "waveform_summary = waveform_summary[waveform_summary['Type'] == 'II']\n",
    "waveform_summary.head()"
   ]
  },
  {
   "cell_type": "code",
   "execution_count": 3,
   "id": "0d23a944-8411-4574-bbdf-d032f8f99e0f",
   "metadata": {},
   "outputs": [
    {
     "data": {
      "text/html": [
       "<div>\n",
       "<style scoped>\n",
       "    .dataframe tbody tr th:only-of-type {\n",
       "        vertical-align: middle;\n",
       "    }\n",
       "\n",
       "    .dataframe tbody tr th {\n",
       "        vertical-align: top;\n",
       "    }\n",
       "\n",
       "    .dataframe thead th {\n",
       "        text-align: right;\n",
       "    }\n",
       "</style>\n",
       "<table border=\"1\" class=\"dataframe\">\n",
       "  <thead>\n",
       "    <tr style=\"text-align: right;\">\n",
       "      <th></th>\n",
       "      <th>CSN</th>\n",
       "      <th>Type</th>\n",
       "      <th>Segments</th>\n",
       "      <th>Duration</th>\n",
       "    </tr>\n",
       "  </thead>\n",
       "  <tbody>\n",
       "    <tr>\n",
       "      <th>58946</th>\n",
       "      <td>99016000</td>\n",
       "      <td>II</td>\n",
       "      <td>2</td>\n",
       "      <td>1166.926</td>\n",
       "    </tr>\n",
       "  </tbody>\n",
       "</table>\n",
       "</div>"
      ],
      "text/plain": [
       "            CSN Type  Segments  Duration\n",
       "58946  99016000   II         2  1166.926"
      ]
     },
     "execution_count": 3,
     "metadata": {},
     "output_type": "execute_result"
    }
   ],
   "source": [
    "Full_CSN = 99016000 # as an example \n",
    "waveform_summary[waveform_summary['CSN'] == Full_CSN]"
   ]
  },
  {
   "cell_type": "code",
   "execution_count": 4,
   "id": "55f97f94-8898-4092-8ad9-0224b3f40d09",
   "metadata": {},
   "outputs": [
    {
     "data": {
      "text/html": [
       "<div>\n",
       "<style scoped>\n",
       "    .dataframe tbody tr th:only-of-type {\n",
       "        vertical-align: middle;\n",
       "    }\n",
       "\n",
       "    .dataframe tbody tr th {\n",
       "        vertical-align: top;\n",
       "    }\n",
       "\n",
       "    .dataframe thead th {\n",
       "        text-align: right;\n",
       "    }\n",
       "</style>\n",
       "<table border=\"1\" class=\"dataframe\">\n",
       "  <thead>\n",
       "    <tr style=\"text-align: right;\">\n",
       "      <th></th>\n",
       "      <th>CSN</th>\n",
       "      <th>Alarm</th>\n",
       "    </tr>\n",
       "  </thead>\n",
       "  <tbody>\n",
       "    <tr>\n",
       "      <th>0</th>\n",
       "      <td>98974916</td>\n",
       "      <td>2288-12-08 10:17:39</td>\n",
       "    </tr>\n",
       "    <tr>\n",
       "      <th>1</th>\n",
       "      <td>98975250</td>\n",
       "      <td>2279-10-24 08:40:37</td>\n",
       "    </tr>\n",
       "    <tr>\n",
       "      <th>2</th>\n",
       "      <td>98982225</td>\n",
       "      <td>2238-07-19 10:31:15</td>\n",
       "    </tr>\n",
       "    <tr>\n",
       "      <th>3</th>\n",
       "      <td>98990360</td>\n",
       "      <td>2242-01-14 19:43:37</td>\n",
       "    </tr>\n",
       "    <tr>\n",
       "      <th>4</th>\n",
       "      <td>98995384</td>\n",
       "      <td>2276-05-18 10:59:45</td>\n",
       "    </tr>\n",
       "  </tbody>\n",
       "</table>\n",
       "</div>"
      ],
      "text/plain": [
       "        CSN               Alarm\n",
       "0  98974916 2288-12-08 10:17:39\n",
       "1  98975250 2279-10-24 08:40:37\n",
       "2  98982225 2238-07-19 10:31:15\n",
       "3  98990360 2242-01-14 19:43:37\n",
       "4  98995384 2276-05-18 10:59:45"
      ]
     },
     "execution_count": 4,
     "metadata": {},
     "output_type": "execute_result"
    }
   ],
   "source": [
    "## import computed alarms\n",
    "alarms_df = pd.read_parquet('../data/sick_time.parquet', engine='pyarrow')\n",
    "alarms_df.head()"
   ]
  },
  {
   "cell_type": "code",
   "execution_count": 5,
   "id": "81c66103-4ee5-4182-b29f-aafb1ae87b60",
   "metadata": {
    "scrolled": true
   },
   "outputs": [
    {
     "data": {
      "text/html": [
       "<div>\n",
       "<style scoped>\n",
       "    .dataframe tbody tr th:only-of-type {\n",
       "        vertical-align: middle;\n",
       "    }\n",
       "\n",
       "    .dataframe tbody tr th {\n",
       "        vertical-align: top;\n",
       "    }\n",
       "\n",
       "    .dataframe thead th {\n",
       "        text-align: right;\n",
       "    }\n",
       "</style>\n",
       "<table border=\"1\" class=\"dataframe\">\n",
       "  <thead>\n",
       "    <tr style=\"text-align: right;\">\n",
       "      <th></th>\n",
       "      <th>MRN</th>\n",
       "      <th>CSN</th>\n",
       "      <th>Visit_no</th>\n",
       "      <th>Visits</th>\n",
       "      <th>Age</th>\n",
       "      <th>Gender</th>\n",
       "      <th>Race</th>\n",
       "      <th>Ethnicity</th>\n",
       "      <th>Means_of_arrival</th>\n",
       "      <th>Triage_Temp</th>\n",
       "      <th>...</th>\n",
       "      <th>Payor_class</th>\n",
       "      <th>Admit_service</th>\n",
       "      <th>Dx_ICD9</th>\n",
       "      <th>Dx_ICD10</th>\n",
       "      <th>Dx_name</th>\n",
       "      <th>Arrival_time</th>\n",
       "      <th>Roomed_time</th>\n",
       "      <th>Dispo_time</th>\n",
       "      <th>Admit_time</th>\n",
       "      <th>Departure_time</th>\n",
       "    </tr>\n",
       "  </thead>\n",
       "  <tbody>\n",
       "    <tr>\n",
       "      <th>0</th>\n",
       "      <td>98880961</td>\n",
       "      <td>98874959</td>\n",
       "      <td>1</td>\n",
       "      <td>1</td>\n",
       "      <td>82</td>\n",
       "      <td>F</td>\n",
       "      <td>White</td>\n",
       "      <td>Non-Hispanic/Non-Latino</td>\n",
       "      <td>EMS</td>\n",
       "      <td>36.2</td>\n",
       "      <td>...</td>\n",
       "      <td>Medicare</td>\n",
       "      <td>Medicine</td>\n",
       "      <td>873.20</td>\n",
       "      <td>S01.21XA</td>\n",
       "      <td>Laceration of nose, initial encounter</td>\n",
       "      <td>2283-03-02T07:36:59Z</td>\n",
       "      <td>2283-03-02T07:36:59Z</td>\n",
       "      <td>2283-03-02T12:29:59Z</td>\n",
       "      <td>2283-03-02T12:29:59Z</td>\n",
       "      <td>2283-03-02T13:44:59Z</td>\n",
       "    </tr>\n",
       "    <tr>\n",
       "      <th>1</th>\n",
       "      <td>99121566</td>\n",
       "      <td>99354408</td>\n",
       "      <td>1</td>\n",
       "      <td>2</td>\n",
       "      <td>59</td>\n",
       "      <td>F</td>\n",
       "      <td>Other</td>\n",
       "      <td>Non-Hispanic/Non-Latino</td>\n",
       "      <td>EMS</td>\n",
       "      <td>36.8</td>\n",
       "      <td>...</td>\n",
       "      <td>NaN</td>\n",
       "      <td>Emergency Medicine</td>\n",
       "      <td>780.97</td>\n",
       "      <td>R41.82</td>\n",
       "      <td>Altered mental status, unspecified altered men...</td>\n",
       "      <td>2239-08-22T01:13:51Z</td>\n",
       "      <td>2239-08-22T01:16:51Z</td>\n",
       "      <td>2239-08-22T07:20:51Z</td>\n",
       "      <td>2239-08-22T07:20:51Z</td>\n",
       "      <td>2239-08-22T10:45:51Z</td>\n",
       "    </tr>\n",
       "    <tr>\n",
       "      <th>2</th>\n",
       "      <td>99121566</td>\n",
       "      <td>99121037</td>\n",
       "      <td>2</td>\n",
       "      <td>2</td>\n",
       "      <td>63</td>\n",
       "      <td>F</td>\n",
       "      <td>Other</td>\n",
       "      <td>Non-Hispanic/Non-Latino</td>\n",
       "      <td>EMS</td>\n",
       "      <td>37.2</td>\n",
       "      <td>...</td>\n",
       "      <td>NaN</td>\n",
       "      <td>Critical Care</td>\n",
       "      <td>038.9, 785.52, 995.92</td>\n",
       "      <td>A41.9, R65.21</td>\n",
       "      <td>Septic shock (CMS-HCC)</td>\n",
       "      <td>2240-03-11T03:06:51Z</td>\n",
       "      <td>2240-03-11T03:43:51Z</td>\n",
       "      <td>2240-03-11T08:31:51Z</td>\n",
       "      <td>2240-03-11T08:31:51Z</td>\n",
       "      <td>2240-03-11T13:37:51Z</td>\n",
       "    </tr>\n",
       "    <tr>\n",
       "      <th>3</th>\n",
       "      <td>99608739</td>\n",
       "      <td>99327434</td>\n",
       "      <td>1</td>\n",
       "      <td>2</td>\n",
       "      <td>90</td>\n",
       "      <td>F</td>\n",
       "      <td>White</td>\n",
       "      <td>Non-Hispanic/Non-Latino</td>\n",
       "      <td>Self</td>\n",
       "      <td>NaN</td>\n",
       "      <td>...</td>\n",
       "      <td>Medicare</td>\n",
       "      <td>NaN</td>\n",
       "      <td>729.81</td>\n",
       "      <td>M79.89</td>\n",
       "      <td>Leg swelling</td>\n",
       "      <td>2296-08-31T16:43:05Z</td>\n",
       "      <td>2296-08-31T17:56:05Z</td>\n",
       "      <td>2296-08-31T20:56:05Z</td>\n",
       "      <td>NaN</td>\n",
       "      <td>2296-08-31T21:06:05Z</td>\n",
       "    </tr>\n",
       "    <tr>\n",
       "      <th>4</th>\n",
       "      <td>99608739</td>\n",
       "      <td>99502864</td>\n",
       "      <td>2</td>\n",
       "      <td>2</td>\n",
       "      <td>89</td>\n",
       "      <td>F</td>\n",
       "      <td>White</td>\n",
       "      <td>Non-Hispanic/Non-Latino</td>\n",
       "      <td>Self</td>\n",
       "      <td>36.4</td>\n",
       "      <td>...</td>\n",
       "      <td>Medicare</td>\n",
       "      <td>NaN</td>\n",
       "      <td>788.20</td>\n",
       "      <td>R33.9</td>\n",
       "      <td>Urinary retention</td>\n",
       "      <td>2297-06-07T05:08:05Z</td>\n",
       "      <td>2297-06-07T05:59:05Z</td>\n",
       "      <td>2297-06-07T08:55:05Z</td>\n",
       "      <td>NaN</td>\n",
       "      <td>2297-06-07T09:35:05Z</td>\n",
       "    </tr>\n",
       "  </tbody>\n",
       "</table>\n",
       "<p>5 rows × 33 columns</p>\n",
       "</div>"
      ],
      "text/plain": [
       "        MRN       CSN  Visit_no  Visits  Age Gender   Race  \\\n",
       "0  98880961  98874959         1       1   82      F  White   \n",
       "1  99121566  99354408         1       2   59      F  Other   \n",
       "2  99121566  99121037         2       2   63      F  Other   \n",
       "3  99608739  99327434         1       2   90      F  White   \n",
       "4  99608739  99502864         2       2   89      F  White   \n",
       "\n",
       "                 Ethnicity Means_of_arrival  Triage_Temp  ...  Payor_class  \\\n",
       "0  Non-Hispanic/Non-Latino              EMS         36.2  ...     Medicare   \n",
       "1  Non-Hispanic/Non-Latino              EMS         36.8  ...          NaN   \n",
       "2  Non-Hispanic/Non-Latino              EMS         37.2  ...          NaN   \n",
       "3  Non-Hispanic/Non-Latino             Self          NaN  ...     Medicare   \n",
       "4  Non-Hispanic/Non-Latino             Self         36.4  ...     Medicare   \n",
       "\n",
       "        Admit_service                Dx_ICD9       Dx_ICD10  \\\n",
       "0            Medicine                 873.20       S01.21XA   \n",
       "1  Emergency Medicine                 780.97         R41.82   \n",
       "2       Critical Care  038.9, 785.52, 995.92  A41.9, R65.21   \n",
       "3                 NaN                 729.81         M79.89   \n",
       "4                 NaN                 788.20          R33.9   \n",
       "\n",
       "                                             Dx_name          Arrival_time  \\\n",
       "0              Laceration of nose, initial encounter  2283-03-02T07:36:59Z   \n",
       "1  Altered mental status, unspecified altered men...  2239-08-22T01:13:51Z   \n",
       "2                             Septic shock (CMS-HCC)  2240-03-11T03:06:51Z   \n",
       "3                                       Leg swelling  2296-08-31T16:43:05Z   \n",
       "4                                  Urinary retention  2297-06-07T05:08:05Z   \n",
       "\n",
       "            Roomed_time            Dispo_time            Admit_time  \\\n",
       "0  2283-03-02T07:36:59Z  2283-03-02T12:29:59Z  2283-03-02T12:29:59Z   \n",
       "1  2239-08-22T01:16:51Z  2239-08-22T07:20:51Z  2239-08-22T07:20:51Z   \n",
       "2  2240-03-11T03:43:51Z  2240-03-11T08:31:51Z  2240-03-11T08:31:51Z   \n",
       "3  2296-08-31T17:56:05Z  2296-08-31T20:56:05Z                   NaN   \n",
       "4  2297-06-07T05:59:05Z  2297-06-07T08:55:05Z                   NaN   \n",
       "\n",
       "         Departure_time  \n",
       "0  2283-03-02T13:44:59Z  \n",
       "1  2239-08-22T10:45:51Z  \n",
       "2  2240-03-11T13:37:51Z  \n",
       "3  2296-08-31T21:06:05Z  \n",
       "4  2297-06-07T09:35:05Z  \n",
       "\n",
       "[5 rows x 33 columns]"
      ]
     },
     "execution_count": 5,
     "metadata": {},
     "output_type": "execute_result"
    }
   ],
   "source": [
    "visits_df = pd.read_csv(\"/scratch/mc-med/data/visits.csv\")\n",
    "visits_df.head()"
   ]
  },
  {
   "cell_type": "code",
   "execution_count": 6,
   "id": "08e24037-160d-453b-b26f-22292e7d32f0",
   "metadata": {},
   "outputs": [
    {
     "data": {
      "text/html": [
       "<div>\n",
       "<style scoped>\n",
       "    .dataframe tbody tr th:only-of-type {\n",
       "        vertical-align: middle;\n",
       "    }\n",
       "\n",
       "    .dataframe tbody tr th {\n",
       "        vertical-align: top;\n",
       "    }\n",
       "\n",
       "    .dataframe thead th {\n",
       "        text-align: right;\n",
       "    }\n",
       "</style>\n",
       "<table border=\"1\" class=\"dataframe\">\n",
       "  <thead>\n",
       "    <tr style=\"text-align: right;\">\n",
       "      <th></th>\n",
       "      <th>MRN</th>\n",
       "      <th>CSN</th>\n",
       "      <th>Visit_no</th>\n",
       "      <th>Visits</th>\n",
       "      <th>Age</th>\n",
       "      <th>Gender</th>\n",
       "      <th>Race</th>\n",
       "      <th>Ethnicity</th>\n",
       "      <th>Means_of_arrival</th>\n",
       "      <th>Triage_Temp</th>\n",
       "      <th>...</th>\n",
       "      <th>Payor_class</th>\n",
       "      <th>Admit_service</th>\n",
       "      <th>Dx_ICD9</th>\n",
       "      <th>Dx_ICD10</th>\n",
       "      <th>Dx_name</th>\n",
       "      <th>Arrival_time</th>\n",
       "      <th>Roomed_time</th>\n",
       "      <th>Dispo_time</th>\n",
       "      <th>Admit_time</th>\n",
       "      <th>Departure_time</th>\n",
       "    </tr>\n",
       "  </thead>\n",
       "  <tbody>\n",
       "    <tr>\n",
       "      <th>8085</th>\n",
       "      <td>99911467</td>\n",
       "      <td>99016000</td>\n",
       "      <td>3</td>\n",
       "      <td>3</td>\n",
       "      <td>86</td>\n",
       "      <td>F</td>\n",
       "      <td>White</td>\n",
       "      <td>Non-Hispanic/Non-Latino</td>\n",
       "      <td>EMS</td>\n",
       "      <td>36.4</td>\n",
       "      <td>...</td>\n",
       "      <td>Medicare</td>\n",
       "      <td>NaN</td>\n",
       "      <td>724.2</td>\n",
       "      <td>M54.50</td>\n",
       "      <td>Acute bilateral low back pain, unspecified whe...</td>\n",
       "      <td>2294-09-18T06:46:47Z</td>\n",
       "      <td>2294-09-18T06:47:47Z</td>\n",
       "      <td>2294-09-18T13:09:47Z</td>\n",
       "      <td>NaN</td>\n",
       "      <td>2294-09-18T15:43:47Z</td>\n",
       "    </tr>\n",
       "  </tbody>\n",
       "</table>\n",
       "<p>1 rows × 33 columns</p>\n",
       "</div>"
      ],
      "text/plain": [
       "           MRN       CSN  Visit_no  Visits  Age Gender   Race  \\\n",
       "8085  99911467  99016000         3       3   86      F  White   \n",
       "\n",
       "                    Ethnicity Means_of_arrival  Triage_Temp  ...  Payor_class  \\\n",
       "8085  Non-Hispanic/Non-Latino              EMS         36.4  ...     Medicare   \n",
       "\n",
       "      Admit_service  Dx_ICD9  Dx_ICD10  \\\n",
       "8085            NaN    724.2    M54.50   \n",
       "\n",
       "                                                Dx_name          Arrival_time  \\\n",
       "8085  Acute bilateral low back pain, unspecified whe...  2294-09-18T06:46:47Z   \n",
       "\n",
       "               Roomed_time            Dispo_time  Admit_time  \\\n",
       "8085  2294-09-18T06:47:47Z  2294-09-18T13:09:47Z         NaN   \n",
       "\n",
       "            Departure_time  \n",
       "8085  2294-09-18T15:43:47Z  \n",
       "\n",
       "[1 rows x 33 columns]"
      ]
     },
     "execution_count": 6,
     "metadata": {},
     "output_type": "execute_result"
    }
   ],
   "source": [
    "visits_df[visits_df['CSN'] == Full_CSN]"
   ]
  },
  {
   "cell_type": "markdown",
   "id": "bb46bf67-1dd4-49c7-9d75-9f00651cbbff",
   "metadata": {},
   "source": [
    "## Waveform Data -- we use ECG\n",
    "The data are organized into compressed archives (waveforms_0xx.zip, waveforms_1xx.zip, etc.) based on the last three digits of each Visit ID (CSN). Each ZIP archive extracts to a nested folder structure:\n",
    "\n",
    "```\n",
    "    {CSN_suffix}/              # Folder named by last three digits of the CSN\n",
    "        {Full_CSN}/            # Folder named by the full CSN (visit identifier)\n",
    "            II/                # ECG waveform segments\n",
    "                {Full_CSN}_{segment_number}.dat\n",
    "                {Full_CSN}_{segment_number}.hea\n",
    "            Pleth/             # PPG waveform segments\n",
    "                {Full_CSN}_{segment_number}.dat\n",
    "                {Full_CSN}_{segment_number}.hea\n",
    "                ...\n",
    "            Resp/              # Respiration waveform segments\n",
    "                {Full_CSN}_{segment_number}.dat\n",
    "                {Full_CSN}_{segment_number}.hea\n",
    "```\n",
    "\n",
    "* **.dat and .hea Files**: The waveforms are stored in WFDB (WaveForm DataBase) format. Each segment consists of a header file (.hea) and a binary data file (.dat).\n",
    "* **Segmenting**: Waveforms may be split into multiple segments due to discontinuities or equipment disconnections.\n",
    "\n",
    "### Data Linkages\n",
    "The primary key to link tables is:\n",
    "\n",
    "* **CSN** (Visit identifier): Uniquely identifies a patient's ED visit. Use CSN to join visits.csv with labs.csv, orders.csv, rads.csv, and numerics.csv.\n",
    "* **MRN** (Patient identifier): Identifies unique patients and can be used to link meds.csv and pmh.csv to patient-level information (e.g., multiple visits from the same patient).\n",
    "\n",
    "Note: To respect patient privacy and prevent re-identification, MRN and CSN are randomized and do not map to original patient identifiers.\n"
   ]
  },
  {
   "cell_type": "markdown",
   "id": "3e1a0483-c0d7-4174-9607-3b8838eaaba0",
   "metadata": {},
   "source": [
    "### Some pre-processing"
   ]
  },
  {
   "cell_type": "code",
   "execution_count": null,
   "id": "840cad76-37fe-4c5b-82a3-ccb399015487",
   "metadata": {},
   "outputs": [],
   "source": [
    "########################\n",
    "# FYI - each has ~50 patient visits, and each visit can have multiple segments\n",
    "# note that some don't have both .hea and .dat files, which means we have to ignore/discard those\n",
    "# the following has no alarms\n",
    "# CSN_suffix = '000' \n",
    "# CSN_suffix = '001' \n",
    "# CSN_suffix = '002' \n"
   ]
  },
  {
   "cell_type": "code",
   "execution_count": 30,
   "id": "f2c81417-2dae-47dd-ae71-51d312ff10c1",
   "metadata": {},
   "outputs": [],
   "source": [
    "def get_start_end_times(record):\n",
    "    start_dt = datetime.combine(record.base_date, record.base_time)\n",
    "    duration_sec = record.sig_len / record.fs\n",
    "    end_dt = start_dt + timedelta(seconds=duration_sec)\n",
    "    # print(\"Date:\", record.base_date)\n",
    "    # print(\"Start time:\", record.base_time)\n",
    "    # print(\"End time:\", end_dt.time())\n",
    "    return start_dt, end_dt"
   ]
  },
  {
   "cell_type": "code",
   "execution_count": 33,
   "id": "5a4adfef-732a-4916-8b7c-91d230068a04",
   "metadata": {},
   "outputs": [
    {
     "name": "stderr",
     "output_type": "stream",
     "text": [
      "Processing: 100%|████████████████████████████████████████| 1000/1000 [09:40<00:00,  1.72it/s, neg=500, pos=279]\n"
     ]
    }
   ],
   "source": [
    "waveforms_folder_path = \"/scratch/mc-med/waveforms\"\n",
    "CSN_suffixes = sorted([f.name for f in os.scandir(waveforms_folder_path) if f.is_dir()])\n",
    "# CSN_suffixes = ['000', '001', '002', '003', '004'] \n",
    "waveform_type = 'II'\n",
    "\n",
    "neg_dataset = []\n",
    "pos_dataset = []\n",
    "threshold = 500 # upper bound, there will be far less positive examples\n",
    "\n",
    "all_CSN_so_far = set()\n",
    "all_MRN_so_far = set()\n",
    "\n",
    "with tqdm(CSN_suffixes, desc=\"Processing\", dynamic_ncols=True) as pbar:\n",
    "    for CSN_suffix in pbar:\n",
    "        records_path = f\"{waveforms_folder_path}/{CSN_suffix}/RECORDS\"\n",
    "        with open(records_path, \"r\") as f:\n",
    "            lines = f.read().split('\\n')    \n",
    "        segment_paths = [line for line in lines if waveform_type in line]\n",
    "        visit_ids = torch.tensor([int(segment_path[:8]) for segment_path in segment_paths]).unique()\n",
    "        alarm_visit_ids = torch.tensor([i.item() for i in visit_ids if i in alarms_df['CSN'].unique()])\n",
    "    \n",
    "        for CSN in visit_ids: # Full_CSN is another name for visit_id\n",
    "            CSN = CSN.item()\n",
    "            MRN = visits_df[visits_df['CSN'] == CSN].iloc[0]['MRN'].item()\n",
    "            if CSN not in all_CSN_so_far and MRN not in all_MRN_so_far:\n",
    "                CSN_segment_paths = [segment_path for segment_path in segment_paths if int(segment_path[:8]) == CSN]\n",
    "        \n",
    "                # add a positive example\n",
    "                if CSN in alarm_visit_ids and len(pos_dataset) < threshold: \n",
    "                    alarm_dt = alarms_df[alarms_df['CSN'] == CSN]['Alarm'].iloc[0]\n",
    "                    # find the segment that contains the alarm\n",
    "                    for segment_path in segment_paths:\n",
    "                        record_path = f\"{waveforms_folder_path}/{CSN_suffix}/{segment_path}\"\n",
    "                        # print(record_path)\n",
    "                        record_path_hea = record_path + '.hea'\n",
    "                        record_path_dat = record_path + '.dat'\n",
    "                        if os.path.isfile(record_path_hea) and os.path.isfile(record_path_dat):\n",
    "                            # Read the record\n",
    "                            record = wfdb.rdrecord(record_path)\n",
    "                            start_dt, end_dt = get_start_end_times(record)\n",
    "                            if alarm_dt > start_dt and alarm_dt < end_dt:\n",
    "                                # print('Alarm')\n",
    "                                record_dict = {'label': True, 'alarm': alarm_dt, **record.__dict__}\n",
    "                                # add visit info\n",
    "                                visit_dict = visits_df[visits_df['CSN'] == CSN].iloc[0].to_dict()\n",
    "                                record_dict = {**record_dict, **visit_dict}\n",
    "    \n",
    "                                # also truncate the endtime? or maybe let's try if the longer version works\n",
    "                                pos_dataset.append(record_dict)\n",
    "                                all_CSN_so_far.add(CSN)\n",
    "                                all_MRN_so_far.add(MRN)\n",
    "                                break\n",
    "                \n",
    "                # or add a negative example\n",
    "                elif CSN not in alarm_visit_ids and len(neg_dataset) < threshold:\n",
    "                    # just pick the first segment\n",
    "                    segment_path = CSN_segment_paths[0]\n",
    "                    record_path = f\"{waveforms_folder_path}/{CSN_suffix}/{segment_path}\"\n",
    "                    # print(record_path)\n",
    "                    record_path_hea = record_path + '.hea'\n",
    "                    record_path_dat = record_path + '.dat'\n",
    "                    if os.path.isfile(record_path_hea) and os.path.isfile(record_path_dat):\n",
    "                        # Read the record\n",
    "                        record = wfdb.rdrecord(record_path)\n",
    "                        # set label to False (i.e. we have a negative example)\n",
    "                        record_dict = {'label': False, 'alarm': None, **record.__dict__}\n",
    "                        # add visit info\n",
    "                        visit_dict = visits_df[visits_df['CSN'] == CSN].iloc[0].to_dict()\n",
    "                        record_dict = {**record_dict, **visit_dict}\n",
    "                        neg_dataset.append(record_dict) \n",
    "                        all_CSN_so_far.add(CSN)\n",
    "                        all_MRN_so_far.add(MRN)\n",
    "        pbar.set_postfix(pos=len(pos_dataset), neg=len(neg_dataset))\n"
   ]
  },
  {
   "cell_type": "code",
   "execution_count": 23,
   "id": "376315eb-75a5-476f-bd56-3dd9d602b51d",
   "metadata": {},
   "outputs": [
    {
     "data": {
      "text/plain": [
       "500"
      ]
     },
     "execution_count": 23,
     "metadata": {},
     "output_type": "execute_result"
    }
   ],
   "source": [
    "len(neg_dataset), len(pos_dataset)"
   ]
  },
  {
   "cell_type": "code",
   "execution_count": 76,
   "id": "29ec35ef-031d-4760-89dd-8f2b893da28c",
   "metadata": {},
   "outputs": [
    {
     "name": "stdout",
     "output_type": "stream",
     "text": [
      "34\n",
      "39\n",
      "400 50 50\n"
     ]
    }
   ],
   "source": [
    "train_sz = 400\n",
    "val_sz = 50\n",
    "test_sz = 50\n",
    "\n",
    "# balance the train dataset \n",
    "random.shuffle(neg_dataset)\n",
    "random.shuffle(pos_dataset)\n",
    "train_dataset = neg_dataset[:train_sz//2] + pos_dataset[:train_sz//2]\n",
    "\n",
    "r1 = random.randint(1, val_sz)\n",
    "print(r1)\n",
    "val_dataset = neg_dataset[train_sz//2:][:val_sz - r1] + pos_dataset[train_sz//2:][:r1]\n",
    "\n",
    "r2 = random.randint(1, min(len(pos_dataset) - train_sz//2 - r1, 50))\n",
    "print(r2)\n",
    "test_dataset = neg_dataset[train_sz//2 + val_sz - r1:][:test_sz - r2] + pos_dataset[train_sz//2 + r1:][:r2]\n",
    "\n",
    "print(len(train_dataset), len(val_dataset), len(test_dataset))"
   ]
  },
  {
   "cell_type": "code",
   "execution_count": 72,
   "id": "ef48bbb6-43ff-4c04-bfb0-80dbfaeb6462",
   "metadata": {},
   "outputs": [],
   "source": [
    "def correct_dataset_field_types(dataset, field_type_map):\n",
    "    \"\"\"\n",
    "    Ensures each field in the dataset has consistent types.\n",
    "    \n",
    "    Parameters:\n",
    "    - dataset (List[Dict]): The list of records (your dataset).\n",
    "    - field_type_map (Dict[str, type]): Mapping of field names to desired type (e.g., {\"text\": str})\n",
    "    \n",
    "    Returns:\n",
    "    - List[Dict]: Corrected dataset with consistent types.\n",
    "    \"\"\"\n",
    "    corrected = []\n",
    "    for row in dataset:\n",
    "        new_row = {}\n",
    "        for key, value in row.items():\n",
    "            if key in field_type_map:\n",
    "                try:\n",
    "                    new_row[key] = field_type_map[key](value)\n",
    "                except Exception:\n",
    "                    new_row[key] = None  # or keep original with: row[key]\n",
    "            else:\n",
    "                new_row[key] = value\n",
    "        corrected.append(new_row)\n",
    "    return corrected\n"
   ]
  },
  {
   "cell_type": "code",
   "execution_count": 80,
   "id": "ef726678-125d-4005-9a9f-05d65d9668a3",
   "metadata": {},
   "outputs": [],
   "source": [
    "def safe_convert(example):\n",
    "    return {k: str(v) if isinstance(v, float) and not isinstance(v, bool) else v for k, v in example.items()}\n",
    "\n",
    "train_dataset = [safe_convert(ex) for ex in train_dataset]\n",
    "val_dataset = [safe_convert(ex) for ex in val_dataset]\n",
    "test_dataset = [safe_convert(ex) for ex in test_dataset]\n"
   ]
  },
  {
   "cell_type": "code",
   "execution_count": 81,
   "id": "dbd2d77d-1d32-4934-861c-dff87a1dc468",
   "metadata": {
    "scrolled": true
   },
   "outputs": [],
   "source": [
    "from datasets import Dataset, DatasetDict\n",
    "\n",
    "train_dataset = Dataset.from_list(train_dataset)\n",
    "val_dataset = Dataset.from_list(val_dataset)\n",
    "test_dataset = Dataset.from_list(test_dataset)"
   ]
  },
  {
   "cell_type": "code",
   "execution_count": 82,
   "id": "8e36655a-5303-46a3-87b4-ec0636bfe837",
   "metadata": {},
   "outputs": [],
   "source": [
    "# Create DatasetDict\n",
    "dataset_dict = DatasetDict({\n",
    "    'train': train_dataset,\n",
    "    'validation': val_dataset,\n",
    "    'test': test_dataset\n",
    "})"
   ]
  },
  {
   "cell_type": "code",
   "execution_count": 83,
   "id": "169f51cc-349a-4ac0-915b-a22d07e19889",
   "metadata": {
    "scrolled": true
   },
   "outputs": [
    {
     "data": {
      "text/plain": [
       "DatasetDict({\n",
       "    train: Dataset({\n",
       "        features: ['label', 'alarm', 'record_name', 'n_sig', 'fs', 'counter_freq', 'base_counter', 'sig_len', 'base_time', 'base_date', 'comments', 'sig_name', 'p_signal', 'd_signal', 'e_p_signal', 'e_d_signal', 'file_name', 'fmt', 'samps_per_frame', 'skew', 'byte_offset', 'adc_gain', 'baseline', 'units', 'adc_res', 'adc_zero', 'init_value', 'checksum', 'block_size', 'MRN', 'CSN', 'Visit_no', 'Visits', 'Age', 'Gender', 'Race', 'Ethnicity', 'Means_of_arrival', 'Triage_Temp', 'Triage_HR', 'Triage_RR', 'Triage_SpO2', 'Triage_SBP', 'Triage_DBP', 'Triage_acuity', 'CC', 'ED_dispo', 'Hours_to_next_visit', 'Dispo_class_next_visit', 'ED_LOS', 'Hosp_LOS', 'DC_dispo', 'Payor_class', 'Admit_service', 'Dx_ICD9', 'Dx_ICD10', 'Dx_name', 'Arrival_time', 'Roomed_time', 'Dispo_time', 'Admit_time', 'Departure_time'],\n",
       "        num_rows: 400\n",
       "    })\n",
       "    validation: Dataset({\n",
       "        features: ['label', 'alarm', 'record_name', 'n_sig', 'fs', 'counter_freq', 'base_counter', 'sig_len', 'base_time', 'base_date', 'comments', 'sig_name', 'p_signal', 'd_signal', 'e_p_signal', 'e_d_signal', 'file_name', 'fmt', 'samps_per_frame', 'skew', 'byte_offset', 'adc_gain', 'baseline', 'units', 'adc_res', 'adc_zero', 'init_value', 'checksum', 'block_size', 'MRN', 'CSN', 'Visit_no', 'Visits', 'Age', 'Gender', 'Race', 'Ethnicity', 'Means_of_arrival', 'Triage_Temp', 'Triage_HR', 'Triage_RR', 'Triage_SpO2', 'Triage_SBP', 'Triage_DBP', 'Triage_acuity', 'CC', 'ED_dispo', 'Hours_to_next_visit', 'Dispo_class_next_visit', 'ED_LOS', 'Hosp_LOS', 'DC_dispo', 'Payor_class', 'Admit_service', 'Dx_ICD9', 'Dx_ICD10', 'Dx_name', 'Arrival_time', 'Roomed_time', 'Dispo_time', 'Admit_time', 'Departure_time'],\n",
       "        num_rows: 50\n",
       "    })\n",
       "    test: Dataset({\n",
       "        features: ['label', 'alarm', 'record_name', 'n_sig', 'fs', 'counter_freq', 'base_counter', 'sig_len', 'base_time', 'base_date', 'comments', 'sig_name', 'p_signal', 'd_signal', 'e_p_signal', 'e_d_signal', 'file_name', 'fmt', 'samps_per_frame', 'skew', 'byte_offset', 'adc_gain', 'baseline', 'units', 'adc_res', 'adc_zero', 'init_value', 'checksum', 'block_size', 'MRN', 'CSN', 'Visit_no', 'Visits', 'Age', 'Gender', 'Race', 'Ethnicity', 'Means_of_arrival', 'Triage_Temp', 'Triage_HR', 'Triage_RR', 'Triage_SpO2', 'Triage_SBP', 'Triage_DBP', 'Triage_acuity', 'CC', 'ED_dispo', 'Hours_to_next_visit', 'Dispo_class_next_visit', 'ED_LOS', 'Hosp_LOS', 'DC_dispo', 'Payor_class', 'Admit_service', 'Dx_ICD9', 'Dx_ICD10', 'Dx_name', 'Arrival_time', 'Roomed_time', 'Dispo_time', 'Admit_time', 'Departure_time'],\n",
       "        num_rows: 50\n",
       "    })\n",
       "})"
      ]
     },
     "execution_count": 83,
     "metadata": {},
     "output_type": "execute_result"
    }
   ],
   "source": [
    "dataset_dict"
   ]
  },
  {
   "cell_type": "code",
   "execution_count": 84,
   "id": "f60a02fe-0402-4f54-8d4d-a9c28953a020",
   "metadata": {
    "scrolled": true
   },
   "outputs": [
    {
     "data": {
      "application/vnd.jupyter.widget-view+json": {
       "model_id": "685de04a47324c0094fd63d2ed975539",
       "version_major": 2,
       "version_minor": 0
      },
      "text/plain": [
       "Uploading the dataset shards:   0%|          | 0/21 [00:00<?, ?it/s]"
      ]
     },
     "metadata": {},
     "output_type": "display_data"
    },
    {
     "data": {
      "application/vnd.jupyter.widget-view+json": {
       "model_id": "e6acf40540224ea685e28c96764248e0",
       "version_major": 2,
       "version_minor": 0
      },
      "text/plain": [
       "Creating parquet from Arrow format:   0%|          | 0/1 [00:00<?, ?ba/s]"
      ]
     },
     "metadata": {},
     "output_type": "display_data"
    },
    {
     "data": {
      "application/vnd.jupyter.widget-view+json": {
       "model_id": "a8947a7539ac4b8591ffecdd4abab50b",
       "version_major": 2,
       "version_minor": 0
      },
      "text/plain": [
       "Creating parquet from Arrow format:   0%|          | 0/1 [00:00<?, ?ba/s]"
      ]
     },
     "metadata": {},
     "output_type": "display_data"
    },
    {
     "data": {
      "application/vnd.jupyter.widget-view+json": {
       "model_id": "c64e2963a28742ecb708efe80544ba36",
       "version_major": 2,
       "version_minor": 0
      },
      "text/plain": [
       "Creating parquet from Arrow format:   0%|          | 0/1 [00:00<?, ?ba/s]"
      ]
     },
     "metadata": {},
     "output_type": "display_data"
    },
    {
     "data": {
      "application/vnd.jupyter.widget-view+json": {
       "model_id": "6a6d08e9cfda4427abed5a600940e951",
       "version_major": 2,
       "version_minor": 0
      },
      "text/plain": [
       "Creating parquet from Arrow format:   0%|          | 0/1 [00:00<?, ?ba/s]"
      ]
     },
     "metadata": {},
     "output_type": "display_data"
    },
    {
     "data": {
      "application/vnd.jupyter.widget-view+json": {
       "model_id": "b158e8e8fe0b4663a785f0466910e225",
       "version_major": 2,
       "version_minor": 0
      },
      "text/plain": [
       "Creating parquet from Arrow format:   0%|          | 0/1 [00:00<?, ?ba/s]"
      ]
     },
     "metadata": {},
     "output_type": "display_data"
    },
    {
     "data": {
      "application/vnd.jupyter.widget-view+json": {
       "model_id": "09a36802f0964af0afed752c53d59222",
       "version_major": 2,
       "version_minor": 0
      },
      "text/plain": [
       "Creating parquet from Arrow format:   0%|          | 0/1 [00:00<?, ?ba/s]"
      ]
     },
     "metadata": {},
     "output_type": "display_data"
    },
    {
     "data": {
      "application/vnd.jupyter.widget-view+json": {
       "model_id": "9e5a8479067b49209f9f915d4bf8c092",
       "version_major": 2,
       "version_minor": 0
      },
      "text/plain": [
       "Creating parquet from Arrow format:   0%|          | 0/1 [00:00<?, ?ba/s]"
      ]
     },
     "metadata": {},
     "output_type": "display_data"
    },
    {
     "data": {
      "application/vnd.jupyter.widget-view+json": {
       "model_id": "bae15faebb10427f9e156be824adffe3",
       "version_major": 2,
       "version_minor": 0
      },
      "text/plain": [
       "Creating parquet from Arrow format:   0%|          | 0/1 [00:00<?, ?ba/s]"
      ]
     },
     "metadata": {},
     "output_type": "display_data"
    },
    {
     "data": {
      "application/vnd.jupyter.widget-view+json": {
       "model_id": "96a21d083ae04b2897541a66374bfb97",
       "version_major": 2,
       "version_minor": 0
      },
      "text/plain": [
       "Creating parquet from Arrow format:   0%|          | 0/1 [00:00<?, ?ba/s]"
      ]
     },
     "metadata": {},
     "output_type": "display_data"
    },
    {
     "data": {
      "application/vnd.jupyter.widget-view+json": {
       "model_id": "f51a3da662b64ea0bffdb96322fd50b9",
       "version_major": 2,
       "version_minor": 0
      },
      "text/plain": [
       "Creating parquet from Arrow format:   0%|          | 0/1 [00:00<?, ?ba/s]"
      ]
     },
     "metadata": {},
     "output_type": "display_data"
    },
    {
     "data": {
      "application/vnd.jupyter.widget-view+json": {
       "model_id": "212b6d6c8aa74bae8462997749a0d414",
       "version_major": 2,
       "version_minor": 0
      },
      "text/plain": [
       "Creating parquet from Arrow format:   0%|          | 0/1 [00:00<?, ?ba/s]"
      ]
     },
     "metadata": {},
     "output_type": "display_data"
    },
    {
     "data": {
      "application/vnd.jupyter.widget-view+json": {
       "model_id": "1bc23393eb234866a6b0afbb26af09a3",
       "version_major": 2,
       "version_minor": 0
      },
      "text/plain": [
       "Creating parquet from Arrow format:   0%|          | 0/1 [00:00<?, ?ba/s]"
      ]
     },
     "metadata": {},
     "output_type": "display_data"
    },
    {
     "data": {
      "application/vnd.jupyter.widget-view+json": {
       "model_id": "c4ea511b0cb14e2eaf02bab8d416e669",
       "version_major": 2,
       "version_minor": 0
      },
      "text/plain": [
       "Creating parquet from Arrow format:   0%|          | 0/1 [00:00<?, ?ba/s]"
      ]
     },
     "metadata": {},
     "output_type": "display_data"
    },
    {
     "data": {
      "application/vnd.jupyter.widget-view+json": {
       "model_id": "fecf3d42903f4fc1881435ad03a18724",
       "version_major": 2,
       "version_minor": 0
      },
      "text/plain": [
       "Creating parquet from Arrow format:   0%|          | 0/1 [00:00<?, ?ba/s]"
      ]
     },
     "metadata": {},
     "output_type": "display_data"
    },
    {
     "data": {
      "application/vnd.jupyter.widget-view+json": {
       "model_id": "60efdf0530324d16acbef8e126797fb6",
       "version_major": 2,
       "version_minor": 0
      },
      "text/plain": [
       "Creating parquet from Arrow format:   0%|          | 0/1 [00:00<?, ?ba/s]"
      ]
     },
     "metadata": {},
     "output_type": "display_data"
    },
    {
     "data": {
      "application/vnd.jupyter.widget-view+json": {
       "model_id": "84c40e92c085490483ef013a527a504f",
       "version_major": 2,
       "version_minor": 0
      },
      "text/plain": [
       "Creating parquet from Arrow format:   0%|          | 0/1 [00:00<?, ?ba/s]"
      ]
     },
     "metadata": {},
     "output_type": "display_data"
    },
    {
     "data": {
      "application/vnd.jupyter.widget-view+json": {
       "model_id": "0ce1a07e2cd0437ea0ca6f65a7774393",
       "version_major": 2,
       "version_minor": 0
      },
      "text/plain": [
       "Creating parquet from Arrow format:   0%|          | 0/1 [00:00<?, ?ba/s]"
      ]
     },
     "metadata": {},
     "output_type": "display_data"
    },
    {
     "data": {
      "application/vnd.jupyter.widget-view+json": {
       "model_id": "fec5bd5d2aa248df97889478b9064c2a",
       "version_major": 2,
       "version_minor": 0
      },
      "text/plain": [
       "Creating parquet from Arrow format:   0%|          | 0/1 [00:00<?, ?ba/s]"
      ]
     },
     "metadata": {},
     "output_type": "display_data"
    },
    {
     "data": {
      "application/vnd.jupyter.widget-view+json": {
       "model_id": "2953cf935d3546d2a2db4c4c778e5b67",
       "version_major": 2,
       "version_minor": 0
      },
      "text/plain": [
       "Creating parquet from Arrow format:   0%|          | 0/1 [00:00<?, ?ba/s]"
      ]
     },
     "metadata": {},
     "output_type": "display_data"
    },
    {
     "data": {
      "application/vnd.jupyter.widget-view+json": {
       "model_id": "fd00b644f9bc49928dce7315e434aa5f",
       "version_major": 2,
       "version_minor": 0
      },
      "text/plain": [
       "Creating parquet from Arrow format:   0%|          | 0/1 [00:00<?, ?ba/s]"
      ]
     },
     "metadata": {},
     "output_type": "display_data"
    },
    {
     "data": {
      "application/vnd.jupyter.widget-view+json": {
       "model_id": "cb1c32989ae44f299f2a6aac23e475a3",
       "version_major": 2,
       "version_minor": 0
      },
      "text/plain": [
       "Creating parquet from Arrow format:   0%|          | 0/1 [00:00<?, ?ba/s]"
      ]
     },
     "metadata": {},
     "output_type": "display_data"
    },
    {
     "data": {
      "application/vnd.jupyter.widget-view+json": {
       "model_id": "bae7a7756163428cb992ff0e03796d84",
       "version_major": 2,
       "version_minor": 0
      },
      "text/plain": [
       "Uploading the dataset shards:   0%|          | 0/3 [00:00<?, ?it/s]"
      ]
     },
     "metadata": {},
     "output_type": "display_data"
    },
    {
     "data": {
      "application/vnd.jupyter.widget-view+json": {
       "model_id": "b388729361944791977bc1b4259c2ef1",
       "version_major": 2,
       "version_minor": 0
      },
      "text/plain": [
       "Creating parquet from Arrow format:   0%|          | 0/1 [00:00<?, ?ba/s]"
      ]
     },
     "metadata": {},
     "output_type": "display_data"
    },
    {
     "data": {
      "application/vnd.jupyter.widget-view+json": {
       "model_id": "6f6f31c001db4d9a810708cb137e40a8",
       "version_major": 2,
       "version_minor": 0
      },
      "text/plain": [
       "Creating parquet from Arrow format:   0%|          | 0/1 [00:00<?, ?ba/s]"
      ]
     },
     "metadata": {},
     "output_type": "display_data"
    },
    {
     "data": {
      "application/vnd.jupyter.widget-view+json": {
       "model_id": "0529f883b914443b81efc8937eb5e394",
       "version_major": 2,
       "version_minor": 0
      },
      "text/plain": [
       "Creating parquet from Arrow format:   0%|          | 0/1 [00:00<?, ?ba/s]"
      ]
     },
     "metadata": {},
     "output_type": "display_data"
    },
    {
     "data": {
      "application/vnd.jupyter.widget-view+json": {
       "model_id": "2ad84ffa71d64b4ab912b2affa407199",
       "version_major": 2,
       "version_minor": 0
      },
      "text/plain": [
       "Uploading the dataset shards:   0%|          | 0/4 [00:00<?, ?it/s]"
      ]
     },
     "metadata": {},
     "output_type": "display_data"
    },
    {
     "data": {
      "application/vnd.jupyter.widget-view+json": {
       "model_id": "461497122cff4ce7b439d7ad95851d47",
       "version_major": 2,
       "version_minor": 0
      },
      "text/plain": [
       "Creating parquet from Arrow format:   0%|          | 0/1 [00:00<?, ?ba/s]"
      ]
     },
     "metadata": {},
     "output_type": "display_data"
    },
    {
     "data": {
      "application/vnd.jupyter.widget-view+json": {
       "model_id": "120edd0840fe4907b03bf200137010ca",
       "version_major": 2,
       "version_minor": 0
      },
      "text/plain": [
       "Creating parquet from Arrow format:   0%|          | 0/1 [00:00<?, ?ba/s]"
      ]
     },
     "metadata": {},
     "output_type": "display_data"
    },
    {
     "data": {
      "application/vnd.jupyter.widget-view+json": {
       "model_id": "bc38bf6188ca4ab6bb33c22480881e50",
       "version_major": 2,
       "version_minor": 0
      },
      "text/plain": [
       "Creating parquet from Arrow format:   0%|          | 0/1 [00:00<?, ?ba/s]"
      ]
     },
     "metadata": {},
     "output_type": "display_data"
    },
    {
     "data": {
      "application/vnd.jupyter.widget-view+json": {
       "model_id": "ae6d2e1f87d844ff999c2a7b84256e9d",
       "version_major": 2,
       "version_minor": 0
      },
      "text/plain": [
       "Creating parquet from Arrow format:   0%|          | 0/1 [00:00<?, ?ba/s]"
      ]
     },
     "metadata": {},
     "output_type": "display_data"
    },
    {
     "data": {
      "text/plain": [
       "CommitInfo(commit_url='https://huggingface.co/datasets/BrachioLab/mcmed-cardiac-full/commit/1bfcc57a72f8cf666d424714e0a45c7245d7b640', commit_message='Upload dataset', commit_description='', oid='1bfcc57a72f8cf666d424714e0a45c7245d7b640', pr_url=None, repo_url=RepoUrl('https://huggingface.co/datasets/BrachioLab/mcmed-cardiac-full', endpoint='https://huggingface.co', repo_type='dataset', repo_id='BrachioLab/mcmed-cardiac-full'), pr_revision=None, pr_num=None)"
      ]
     },
     "execution_count": 84,
     "metadata": {},
     "output_type": "execute_result"
    }
   ],
   "source": [
    "dataset_dict.push_to_hub(\"BrachioLab/mcmed-cardiac-full\")"
   ]
  },
  {
   "cell_type": "markdown",
   "id": "f875bf79-97f6-4c5b-bb9c-3a2435174ab8",
   "metadata": {},
   "source": [
    "## further cleaning (let's make the real mcmed-cardiac dataset that has the correct cutoff times based on alarms)\n",
    "\n",
    " - Potential Task: given 5 minutes of ECG data at 100 Hz, predict whether this patient gets cardiac arrest in the next 5 minutes\n",
    " - *Shorter Task:* given 2 minutes of ECG data at 100 Hz, predict whether this patient gets cardiac arrest in the next 5 minutes\n",
    " - **Chosen Task:** given 2 minutes of ECG data at 500 Hz (in a graph image), predict whether this patient gets cardiac arrest in the next 5 minutes\n",
    "\n",
    "Also each is given patient age, gender, race and ICU visit reason\n",
    "\n",
    "--> so we need to save the following"
   ]
  },
  {
   "cell_type": "markdown",
   "id": "44cbb93b-0907-4b88-91b9-936a04a67449",
   "metadata": {},
   "source": [
    "Pipeline:\n",
    "1. get the alarm time\n",
    "2. subtract r = 1- 300 sec from it\n",
    "3. this is your new cutoff time\n",
    "4. then take the preceding 120 seconds from that\n",
    "\n",
    "in terms of p_signal data:\n",
    "1. get new cutoff time data = orig_alarm_time_data_index - r * fs\n",
    "2. get new start time data = new_cutoff_time_data_index - 120 * fs\n",
    "   "
   ]
  },
  {
   "cell_type": "code",
   "execution_count": 7,
   "id": "3f792e8f-4310-400a-b618-138c9bab8847",
   "metadata": {},
   "outputs": [
    {
     "data": {
      "application/vnd.jupyter.widget-view+json": {
       "model_id": "cf393ae3c43e469784ac23dbecba67d1",
       "version_major": 2,
       "version_minor": 0
      },
      "text/plain": [
       "Resolving data files:   0%|          | 0/21 [00:00<?, ?it/s]"
      ]
     },
     "metadata": {},
     "output_type": "display_data"
    },
    {
     "data": {
      "application/vnd.jupyter.widget-view+json": {
       "model_id": "a136cae3db5748f5bbbddab39c418013",
       "version_major": 2,
       "version_minor": 0
      },
      "text/plain": [
       "Resolving data files:   0%|          | 0/21 [00:00<?, ?it/s]"
      ]
     },
     "metadata": {},
     "output_type": "display_data"
    }
   ],
   "source": [
    "from datasets import load_dataset\n",
    "\n",
    "ds = load_dataset(\"BrachioLab/mcmed-cardiac-full\")"
   ]
  },
  {
   "cell_type": "code",
   "execution_count": 8,
   "id": "c1c917ca-e4ad-450f-8fd2-fcad8b28352e",
   "metadata": {},
   "outputs": [],
   "source": [
    "train_data = ds['train']\n",
    "record_keys = ['record_name', 'n_sig', 'fs', 'counter_freq', 'base_counter', 'sig_len', 'base_time', 'base_date', 'comments', 'sig_name', 'p_signal', 'd_signal', 'e_p_signal', 'e_d_signal', 'file_name', 'fmt', 'samps_per_frame', 'skew', 'byte_offset', 'adc_gain', 'baseline', 'units', 'adc_res', 'adc_zero', 'init_value', 'checksum', 'block_size']\n",
    "visit_attrs = visits_df.keys().to_list()"
   ]
  },
  {
   "cell_type": "code",
   "execution_count": 9,
   "id": "52e9b0eb-8688-4f63-8f7b-2a7bf057b5ea",
   "metadata": {},
   "outputs": [
    {
     "data": {
      "text/plain": [
       "1593472"
      ]
     },
     "execution_count": 9,
     "metadata": {},
     "output_type": "execute_result"
    }
   ],
   "source": [
    "len(train_data[0]['p_signal'])"
   ]
  },
  {
   "cell_type": "code",
   "execution_count": 11,
   "id": "9873532a-6003-482a-b3a4-807f78986d20",
   "metadata": {},
   "outputs": [
    {
     "data": {
      "text/plain": [
       "1593472"
      ]
     },
     "execution_count": 11,
     "metadata": {},
     "output_type": "execute_result"
    }
   ],
   "source": [
    "train_data[0]['sig_len']"
   ]
  },
  {
   "cell_type": "code",
   "execution_count": 12,
   "id": "c413c6d5-024b-4da6-aad1-66c9f7811757",
   "metadata": {},
   "outputs": [
    {
     "data": {
      "text/plain": [
       "[-21983]"
      ]
     },
     "execution_count": 12,
     "metadata": {},
     "output_type": "execute_result"
    }
   ],
   "source": [
    "train_data[0]['init_value']"
   ]
  },
  {
   "cell_type": "code",
   "execution_count": 16,
   "id": "c6c5bc02-0a38-4c6e-9ce0-52f09a5ef091",
   "metadata": {
    "scrolled": true
   },
   "outputs": [
    {
     "data": {
      "text/plain": [
       "{'label': False,\n",
       " 'alarm': None,\n",
       " 'record_name': '99966001_1',\n",
       " 'n_sig': 1,\n",
       " 'fs': 500,\n",
       " 'counter_freq': None,\n",
       " 'base_counter': None,\n",
       " 'sig_len': 1593472,\n",
       " 'base_time': datetime.time(14, 0, 24, 873000),\n",
       " 'base_date': datetime.date(2226, 12, 13),\n",
       " 'comments': [],\n",
       " 'sig_name': ['II'],\n",
       " 'p_signal': [[-0.025036886757654003],\n",
       "  [-0.020029509406123202],\n",
       "  [-0.030044264109184805],\n",
       "  [-0.020029509406123202],\n",
       "  [-0.030044264109184805],\n",
       "  [-0.015022132054592402],\n",
       "  [-0.020029509406123202],\n",
       "  [-0.030044264109184805],\n",
       "  [-0.020029509406123202],\n",
       "  [-0.025036886757654003],\n",
       "  [-0.030044264109184805],\n",
       "  [-0.04506639616377721],\n",
       "  [-0.035051641460715606],\n",
       "  [-0.04506639616377721],\n",
       "  [-0.040059018812246404],\n",
       "  [-0.035051641460715606],\n",
       "  [-0.030044264109184805],\n",
       "  [-0.025036886757654003],\n",
       "  [-0.030044264109184805],\n",
       "  [-0.025036886757654003],\n",
       "  [-0.025036886757654003],\n",
       "  [-0.040059018812246404],\n",
       "  [-0.040059018812246404],\n",
       "  [-0.04506639616377721],\n",
       "  [-0.030044264109184805],\n",
       "  [-0.04506639616377721],\n",
       "  [-0.030044264109184805],\n",
       "  [-0.030044264109184805],\n",
       "  [-0.035051641460715606],\n",
       "  [-0.035051641460715606],\n",
       "  [-0.035051641460715606],\n",
       "  [-0.025036886757654003],\n",
       "  [-0.030044264109184805],\n",
       "  [-0.030044264109184805],\n",
       "  [-0.035051641460715606],\n",
       "  [-0.020029509406123202],\n",
       "  [-0.015022132054592402],\n",
       "  [-0.025036886757654003],\n",
       "  [-0.020029509406123202],\n",
       "  [-0.025036886757654003],\n",
       "  [-0.020029509406123202],\n",
       "  [-0.025036886757654003],\n",
       "  [-0.025036886757654003],\n",
       "  [-0.025036886757654003],\n",
       "  [-0.030044264109184805],\n",
       "  [-0.025036886757654003],\n",
       "  [-0.040059018812246404],\n",
       "  [-0.030044264109184805],\n",
       "  [-0.040059018812246404],\n",
       "  [-0.040059018812246404],\n",
       "  [-0.04506639616377721],\n",
       "  [-0.04506639616377721],\n",
       "  [-0.04506639616377721],\n",
       "  [-0.055081150866838804],\n",
       "  [-0.05007377351530801],\n",
       "  [-0.04506639616377721],\n",
       "  [-0.04506639616377721],\n",
       "  [-0.04506639616377721],\n",
       "  [-0.055081150866838804],\n",
       "  [-0.04506639616377721],\n",
       "  [-0.06008852821836961],\n",
       "  [-0.05007377351530801],\n",
       "  [-0.055081150866838804],\n",
       "  [-0.055081150866838804],\n",
       "  [-0.05007377351530801],\n",
       "  [-0.05007377351530801],\n",
       "  [-0.05007377351530801],\n",
       "  [-0.06509590556990041],\n",
       "  [-0.06509590556990041],\n",
       "  [-0.06509590556990041],\n",
       "  [-0.06008852821836961],\n",
       "  [-0.06008852821836961],\n",
       "  [-0.07010328292143121],\n",
       "  [-0.06008852821836961],\n",
       "  [-0.06509590556990041],\n",
       "  [-0.06509590556990041],\n",
       "  [-0.06509590556990041],\n",
       "  [-0.07010328292143121],\n",
       "  [-0.06008852821836961],\n",
       "  [-0.06008852821836961],\n",
       "  [-0.035051641460715606],\n",
       "  [-0.040059018812246404],\n",
       "  [-0.025036886757654003],\n",
       "  [-0.025036886757654003],\n",
       "  [-0.020029509406123202],\n",
       "  [-0.010014754703061601],\n",
       "  [-0.010014754703061601],\n",
       "  [-0.025036886757654003],\n",
       "  [-0.035051641460715606],\n",
       "  [-0.025036886757654003],\n",
       "  [-0.025036886757654003],\n",
       "  [-0.020029509406123202],\n",
       "  [-0.010014754703061601],\n",
       "  [-0.0050073773515308005],\n",
       "  [0.015022132054592402],\n",
       "  [0.015022132054592402],\n",
       "  [0.030044264109184805],\n",
       "  [0.035051641460715606],\n",
       "  [0.035051641460715606],\n",
       "  [0.030044264109184805],\n",
       "  [0.020029509406123202],\n",
       "  [0.030044264109184805],\n",
       "  [0.025036886757654003],\n",
       "  [0.030044264109184805],\n",
       "  [0.020029509406123202],\n",
       "  [0.025036886757654003],\n",
       "  [0.020029509406123202],\n",
       "  [0.015022132054592402],\n",
       "  [0.015022132054592402],\n",
       "  [0.0],\n",
       "  [-0.020029509406123202],\n",
       "  [-0.040059018812246404],\n",
       "  [-0.05007377351530801],\n",
       "  [-0.05007377351530801],\n",
       "  [-0.06509590556990041],\n",
       "  [-0.07010328292143121],\n",
       "  [-0.09013279232755442],\n",
       "  [-0.07511066027296201],\n",
       "  [-0.07511066027296201],\n",
       "  [-0.07511066027296201],\n",
       "  [-0.09013279232755442],\n",
       "  [-0.10515492438214681],\n",
       "  [-0.11016230173367761],\n",
       "  [-0.11516967908520842],\n",
       "  [-0.12017705643673922],\n",
       "  [-0.13019181113980083],\n",
       "  [-0.13019181113980083],\n",
       "  [-0.12518443378827002],\n",
       "  [-0.14020656584286242],\n",
       "  [-0.1351991884913316],\n",
       "  [-0.1447966617484323],\n",
       "  [-0.14980403909996312],\n",
       "  [-0.14980403909996312],\n",
       "  [-0.1447966617484323],\n",
       "  [-0.1447966617484323],\n",
       "  [-0.16482617115455553],\n",
       "  [-0.15981879380302472],\n",
       "  [-0.17484092585761712],\n",
       "  [-0.16482617115455553],\n",
       "  [-0.16482617115455553],\n",
       "  [-0.15981879380302472],\n",
       "  [-0.17484092585761712],\n",
       "  [-0.1698335485060863],\n",
       "  [-0.15981879380302472],\n",
       "  [-0.1698335485060863],\n",
       "  [-0.1698335485060863],\n",
       "  [-0.1698335485060863],\n",
       "  [-0.17984830320914794],\n",
       "  [-0.1698335485060863],\n",
       "  [-0.17484092585761712],\n",
       "  [-0.1698335485060863],\n",
       "  [-0.17484092585761712],\n",
       "  [-0.15981879380302472],\n",
       "  [-0.1698335485060863],\n",
       "  [-0.1698335485060863],\n",
       "  [-0.1698335485060863],\n",
       "  [-0.1698335485060863],\n",
       "  [-0.14980403909996312],\n",
       "  [-0.13019181113980083],\n",
       "  [-0.09013279232755442],\n",
       "  [-0.05007377351530801],\n",
       "  [0.0050073773515308005],\n",
       "  [0.09514016967908522],\n",
       "  [0.21489994466986354],\n",
       "  [0.3851507746219108],\n",
       "  [0.5399621910734047],\n",
       "  [0.6751613795647363],\n",
       "  [0.8149506639616378],\n",
       "  [0.960164607156031],\n",
       "  [1.1199834009590557],\n",
       "  [1.2998317041682037],\n",
       "  [1.4700825341202508],\n",
       "  [1.4650751567687201],\n",
       "  [1.2301457026927334],\n",
       "  [0.7999285319070454],\n",
       "  [0.40518028402803397],\n",
       "  [0.12017705643673922],\n",
       "  [-0.13019181113980083],\n",
       "  [-0.34008437845813355],\n",
       "  [-0.5449695684249355],\n",
       "  [-0.7498547583917374],\n",
       "  [-0.8449949280708227],\n",
       "  [-0.8550096827738842],\n",
       "  [-0.8550096827738842],\n",
       "  [-0.834980173367761],\n",
       "  [-0.7398400036886758],\n",
       "  [-0.6651466248616746],\n",
       "  [-0.5850285872371819],\n",
       "  [-0.5249400590188122],\n",
       "  [-0.46985890815197345],\n",
       "  [-0.4202024160826264],\n",
       "  [-0.3851507746219108],\n",
       "  [-0.32506224640354114],\n",
       "  [-0.29001060494282555],\n",
       "  [-0.25495896348210995],\n",
       "  [-0.23492945407598673],\n",
       "  [-0.21489994466986354],\n",
       "  [-0.19987781261527113],\n",
       "  [-0.20488518996680194],\n",
       "  [-0.19487043526374032],\n",
       "  [-0.18986305791220953],\n",
       "  [-0.18986305791220953],\n",
       "  [-0.18986305791220953],\n",
       "  [-0.18986305791220953],\n",
       "  [-0.1698335485060863],\n",
       "  [-0.17484092585761712],\n",
       "  [-0.16482617115455553],\n",
       "  [-0.17484092585761712],\n",
       "  [-0.14980403909996312],\n",
       "  [-0.1447966617484323],\n",
       "  [-0.14020656584286242],\n",
       "  [-0.1351991884913316],\n",
       "  [-0.1351991884913316],\n",
       "  [-0.1351991884913316],\n",
       "  [-0.1447966617484323],\n",
       "  [-0.1447966617484323],\n",
       "  [-0.14980403909996312],\n",
       "  [-0.14980403909996312],\n",
       "  [-0.1351991884913316],\n",
       "  [-0.14020656584286242],\n",
       "  [-0.13019181113980083],\n",
       "  [-0.12518443378827002],\n",
       "  [-0.12017705643673922],\n",
       "  [-0.12518443378827002],\n",
       "  [-0.12017705643673922],\n",
       "  [-0.11016230173367761],\n",
       "  [-0.12017705643673922],\n",
       "  [-0.11516967908520842],\n",
       "  [-0.11516967908520842],\n",
       "  [-0.11016230173367761],\n",
       "  [-0.11516967908520842],\n",
       "  [-0.10515492438214681],\n",
       "  [-0.10014754703061601],\n",
       "  [-0.09514016967908522],\n",
       "  [-0.08011803762449281],\n",
       "  [-0.08011803762449281],\n",
       "  [-0.08011803762449281],\n",
       "  [-0.07010328292143121],\n",
       "  [-0.08011803762449281],\n",
       "  [-0.06509590556990041],\n",
       "  [-0.07010328292143121],\n",
       "  [-0.055081150866838804],\n",
       "  [-0.055081150866838804],\n",
       "  [-0.040059018812246404],\n",
       "  [-0.040059018812246404],\n",
       "  [-0.04506639616377721],\n",
       "  [-0.040059018812246404],\n",
       "  [-0.040059018812246404],\n",
       "  [-0.035051641460715606],\n",
       "  [-0.030044264109184805],\n",
       "  [-0.015022132054592402],\n",
       "  [-0.010014754703061601],\n",
       "  [-0.0050073773515308005],\n",
       "  [0.010014754703061601],\n",
       "  [0.010014754703061601],\n",
       "  [0.025036886757654003],\n",
       "  [0.035051641460715606],\n",
       "  [0.04506639616377721],\n",
       "  [0.05007377351530801],\n",
       "  [0.04506639616377721],\n",
       "  [0.055081150866838804],\n",
       "  [0.06008852821836961],\n",
       "  [0.0851254149760236],\n",
       "  [0.07511066027296201],\n",
       "  [0.08011803762449281],\n",
       "  [0.08011803762449281],\n",
       "  [0.09514016967908522],\n",
       "  [0.10014754703061601],\n",
       "  [0.11016230173367761],\n",
       "  [0.13019181113980083],\n",
       "  [0.14980403909996312],\n",
       "  [0.1698335485060863],\n",
       "  [0.17984830320914794],\n",
       "  [0.17984830320914794],\n",
       "  [0.19987781261527113],\n",
       "  [0.20989256731833272],\n",
       "  [0.22491469937292513],\n",
       "  [0.22992207672445594],\n",
       "  [0.24995158613057913],\n",
       "  [0.25996634083364073],\n",
       "  [0.2799958502397639],\n",
       "  [0.31004011434894874],\n",
       "  [0.32005486905201036],\n",
       "  [0.34008437845813355],\n",
       "  [0.34509175580966434],\n",
       "  [0.3500991331611951],\n",
       "  [0.3500991331611951],\n",
       "  [0.36011388786425674],\n",
       "  [0.37012864256731837],\n",
       "  [0.3651212652157875],\n",
       "  [0.3651212652157875],\n",
       "  [0.37012864256731837],\n",
       "  [0.37513601991884915],\n",
       "  [0.38014339727037993],\n",
       "  [0.39015815197344156],\n",
       "  [0.4001729066765031],\n",
       "  [0.39516552932497234],\n",
       "  [0.40518028402803397],\n",
       "  [0.39015815197344156],\n",
       "  [0.39015815197344156],\n",
       "  [0.38014339727037993],\n",
       "  [0.38014339727037993],\n",
       "  [0.39015815197344156],\n",
       "  [0.3851507746219108],\n",
       "  [0.38014339727037993],\n",
       "  [0.37012864256731837],\n",
       "  [0.36011388786425674],\n",
       "  [0.35510651051272596],\n",
       "  [0.35510651051272596],\n",
       "  [0.36011388786425674],\n",
       "  [0.34509175580966434],\n",
       "  [0.34008437845813355],\n",
       "  [0.32005486905201036],\n",
       "  [0.3150474917004795],\n",
       "  [0.3000253596458871],\n",
       "  [0.2799958502397639],\n",
       "  [0.26998109553670235],\n",
       "  [0.24494420877904832],\n",
       "  [0.23492945407598673],\n",
       "  [0.20989256731833272],\n",
       "  [0.18986305791220953],\n",
       "  [0.17484092585761712],\n",
       "  [0.1698335485060863],\n",
       "  [0.15981879380302472],\n",
       "  [0.13019181113980083],\n",
       "  [0.11516967908520842],\n",
       "  [0.11016230173367761],\n",
       "  [0.10014754703061601],\n",
       "  [0.0851254149760236],\n",
       "  [0.07010328292143121],\n",
       "  [0.07511066027296201],\n",
       "  [0.05007377351530801],\n",
       "  [0.04506639616377721],\n",
       "  [0.010014754703061601],\n",
       "  [-0.0050073773515308005],\n",
       "  [-0.025036886757654003],\n",
       "  [-0.040059018812246404],\n",
       "  [-0.055081150866838804],\n",
       "  [-0.07010328292143121],\n",
       "  [-0.07511066027296201],\n",
       "  [-0.0851254149760236],\n",
       "  [-0.0851254149760236],\n",
       "  [-0.09013279232755442],\n",
       "  [-0.10515492438214681],\n",
       "  [-0.10014754703061601],\n",
       "  [-0.10515492438214681],\n",
       "  [-0.10515492438214681],\n",
       "  [-0.11016230173367761],\n",
       "  [-0.10515492438214681],\n",
       "  [-0.10515492438214681],\n",
       "  [-0.11516967908520842],\n",
       "  [-0.11016230173367761],\n",
       "  [-0.11516967908520842],\n",
       "  [-0.10515492438214681],\n",
       "  [-0.11016230173367761],\n",
       "  [-0.10515492438214681],\n",
       "  [-0.11016230173367761],\n",
       "  [-0.11016230173367761],\n",
       "  [-0.12017705643673922],\n",
       "  [-0.12518443378827002],\n",
       "  [-0.11516967908520842],\n",
       "  [-0.11016230173367761],\n",
       "  [-0.11516967908520842],\n",
       "  [-0.11016230173367761],\n",
       "  [-0.10014754703061601],\n",
       "  [-0.09013279232755442],\n",
       "  [-0.10014754703061601],\n",
       "  [-0.09013279232755442],\n",
       "  [-0.09514016967908522],\n",
       "  [-0.10014754703061601],\n",
       "  [-0.11016230173367761],\n",
       "  [-0.11016230173367761],\n",
       "  [-0.10014754703061601],\n",
       "  [-0.10515492438214681],\n",
       "  [-0.10515492438214681],\n",
       "  [-0.12518443378827002],\n",
       "  [-0.12017705643673922],\n",
       "  [-0.11516967908520842],\n",
       "  [-0.10515492438214681],\n",
       "  [-0.09013279232755442],\n",
       "  [-0.09013279232755442],\n",
       "  [-0.0851254149760236],\n",
       "  [-0.09514016967908522],\n",
       "  [-0.09514016967908522],\n",
       "  [-0.0851254149760236],\n",
       "  [-0.09013279232755442],\n",
       "  [-0.08011803762449281],\n",
       "  [-0.0851254149760236],\n",
       "  [-0.06509590556990041],\n",
       "  [-0.07010328292143121],\n",
       "  [-0.07010328292143121],\n",
       "  [-0.0851254149760236],\n",
       "  [-0.09013279232755442],\n",
       "  [-0.07511066027296201],\n",
       "  [-0.07010328292143121],\n",
       "  [-0.07010328292143121],\n",
       "  [-0.09013279232755442],\n",
       "  [-0.09013279232755442],\n",
       "  [-0.07010328292143121],\n",
       "  [-0.08011803762449281],\n",
       "  [-0.0851254149760236],\n",
       "  [-0.09013279232755442],\n",
       "  [-0.09013279232755442],\n",
       "  [-0.11016230173367761],\n",
       "  [-0.11016230173367761],\n",
       "  [-0.11516967908520842],\n",
       "  [-0.11016230173367761],\n",
       "  [-0.09013279232755442],\n",
       "  [-0.09013279232755442],\n",
       "  [-0.08011803762449281],\n",
       "  [-0.08011803762449281],\n",
       "  [-0.07511066027296201],\n",
       "  [-0.08011803762449281],\n",
       "  [-0.0851254149760236],\n",
       "  [-0.0851254149760236],\n",
       "  [-0.09514016967908522],\n",
       "  [-0.09514016967908522],\n",
       "  [-0.09514016967908522],\n",
       "  [-0.09514016967908522],\n",
       "  [-0.09013279232755442],\n",
       "  [-0.10014754703061601],\n",
       "  [-0.07511066027296201],\n",
       "  [-0.08011803762449281],\n",
       "  [-0.08011803762449281],\n",
       "  [-0.10014754703061601],\n",
       "  [-0.10014754703061601],\n",
       "  [-0.09013279232755442],\n",
       "  [-0.0851254149760236],\n",
       "  [-0.09514016967908522],\n",
       "  [-0.10515492438214681],\n",
       "  [-0.10014754703061601],\n",
       "  [-0.10014754703061601],\n",
       "  [-0.0851254149760236],\n",
       "  [-0.0851254149760236],\n",
       "  [-0.09013279232755442],\n",
       "  [-0.09013279232755442],\n",
       "  [-0.10014754703061601],\n",
       "  [-0.10014754703061601],\n",
       "  [-0.11516967908520842],\n",
       "  [-0.11016230173367761],\n",
       "  [-0.09013279232755442],\n",
       "  [-0.10014754703061601],\n",
       "  [-0.10014754703061601],\n",
       "  [-0.11016230173367761],\n",
       "  [-0.10515492438214681],\n",
       "  [-0.11516967908520842],\n",
       "  [-0.10014754703061601],\n",
       "  [-0.11016230173367761],\n",
       "  [-0.1351991884913316],\n",
       "  [-0.1351991884913316],\n",
       "  [-0.12518443378827002],\n",
       "  [-0.12518443378827002],\n",
       "  [-0.12518443378827002],\n",
       "  [-0.09514016967908522],\n",
       "  [-0.07511066027296201],\n",
       "  [-0.0851254149760236],\n",
       "  [-0.0851254149760236],\n",
       "  [-0.09514016967908522],\n",
       "  [-0.07511066027296201],\n",
       "  [-0.06509590556990041],\n",
       "  [-0.06008852821836961],\n",
       "  [-0.07010328292143121],\n",
       "  [-0.08011803762449281],\n",
       "  [-0.09514016967908522],\n",
       "  [-0.11516967908520842],\n",
       "  [-0.10515492438214681],\n",
       "  [-0.10515492438214681],\n",
       "  [-0.11016230173367761],\n",
       "  [-0.11016230173367761],\n",
       "  [-0.11016230173367761],\n",
       "  [-0.10014754703061601],\n",
       "  [-0.09514016967908522],\n",
       "  [-0.08011803762449281],\n",
       "  [-0.0851254149760236],\n",
       "  [-0.0851254149760236],\n",
       "  [-0.07010328292143121],\n",
       "  [-0.06008852821836961],\n",
       "  [-0.055081150866838804],\n",
       "  [-0.06509590556990041],\n",
       "  [-0.055081150866838804],\n",
       "  [-0.0851254149760236],\n",
       "  [-0.10515492438214681],\n",
       "  [-0.10515492438214681],\n",
       "  [-0.09514016967908522],\n",
       "  [-0.09013279232755442],\n",
       "  [-0.0851254149760236],\n",
       "  [-0.055081150866838804],\n",
       "  [-0.040059018812246404],\n",
       "  [-0.035051641460715606],\n",
       "  [-0.030044264109184805],\n",
       "  [-0.040059018812246404],\n",
       "  [-0.035051641460715606],\n",
       "  [-0.040059018812246404],\n",
       "  [-0.030044264109184805],\n",
       "  [-0.030044264109184805],\n",
       "  [-0.015022132054592402],\n",
       "  [-0.015022132054592402],\n",
       "  [-0.010014754703061601],\n",
       "  [0.0050073773515308005],\n",
       "  [-0.0050073773515308005],\n",
       "  [0.025036886757654003],\n",
       "  [0.040059018812246404],\n",
       "  [0.030044264109184805],\n",
       "  [0.025036886757654003],\n",
       "  [0.04506639616377721],\n",
       "  [0.06509590556990041],\n",
       "  [0.07010328292143121],\n",
       "  [0.06509590556990041],\n",
       "  [0.04506639616377721],\n",
       "  [0.035051641460715606],\n",
       "  [0.025036886757654003],\n",
       "  [0.0050073773515308005],\n",
       "  [0.020029509406123202],\n",
       "  [-0.010014754703061601],\n",
       "  [-0.030044264109184805],\n",
       "  [-0.05007377351530801],\n",
       "  [-0.040059018812246404],\n",
       "  [-0.020029509406123202],\n",
       "  [0.0],\n",
       "  [-0.010014754703061601],\n",
       "  [-0.05007377351530801],\n",
       "  [-0.06008852821836961],\n",
       "  [-0.06008852821836961],\n",
       "  [-0.055081150866838804],\n",
       "  [-0.05007377351530801],\n",
       "  [-0.06008852821836961],\n",
       "  [-0.06008852821836961],\n",
       "  [-0.06008852821836961],\n",
       "  [-0.06509590556990041],\n",
       "  [-0.09514016967908522],\n",
       "  [-0.11516967908520842],\n",
       "  [-0.11516967908520842],\n",
       "  [-0.12017705643673922],\n",
       "  [-0.10515492438214681],\n",
       "  [-0.10515492438214681],\n",
       "  [-0.09514016967908522],\n",
       "  [-0.09013279232755442],\n",
       "  [-0.08011803762449281],\n",
       "  [-0.0851254149760236],\n",
       "  [-0.09013279232755442],\n",
       "  [-0.0851254149760236],\n",
       "  [-0.10014754703061601],\n",
       "  [-0.12017705643673922],\n",
       "  [-0.12017705643673922],\n",
       "  [-0.11516967908520842],\n",
       "  [-0.12017705643673922],\n",
       "  [-0.13019181113980083],\n",
       "  [-0.10515492438214681],\n",
       "  [-0.10014754703061601],\n",
       "  [-0.0851254149760236],\n",
       "  [-0.09013279232755442],\n",
       "  [-0.08011803762449281],\n",
       "  [-0.08011803762449281],\n",
       "  [-0.08011803762449281],\n",
       "  [-0.07511066027296201],\n",
       "  [-0.09013279232755442],\n",
       "  [-0.08011803762449281],\n",
       "  [-0.09013279232755442],\n",
       "  [-0.10014754703061601],\n",
       "  [-0.10014754703061601],\n",
       "  [-0.09514016967908522],\n",
       "  [-0.09514016967908522],\n",
       "  [-0.09514016967908522],\n",
       "  [-0.04506639616377721],\n",
       "  [0.0050073773515308005],\n",
       "  [0.05007377351530801],\n",
       "  [0.1351991884913316],\n",
       "  [0.23993683142751754],\n",
       "  [0.40518028402803397],\n",
       "  [0.5900359645887127],\n",
       "  [0.7949211545555146],\n",
       "  [0.9501498524529695],\n",
       "  [1.1199834009590557],\n",
       "  [1.3198612135743268],\n",
       "  [1.540185817041682],\n",
       "  [1.7600931390630765],\n",
       "  [1.8898676687569163],\n",
       "  [1.8151742899299153],\n",
       "  [1.4650751567687201],\n",
       "  [1.0098210992253782],\n",
       "  [0.6401097381040207],\n",
       "  [0.32506224640354114],\n",
       "  [0.05007377351530801],\n",
       "  [-0.19987781261527113],\n",
       "  [-0.44982939874585026],\n",
       "  [-0.7001982663223902],\n",
       "  [-0.8299727960162302],\n",
       "  [-0.860017060125415],\n",
       "  [-0.8399875507192918],\n",
       "  [-0.7548621357432682],\n",
       "  [-0.6751613795647363],\n",
       "  [-0.5800212098856511],\n",
       "  [-0.47486628550350424],\n",
       "  [-0.39015815197344156],\n",
       "  [-0.32005486905201036],\n",
       "  [-0.2649737181851715],\n",
       "  [-0.20989256731833272],\n",
       "  [-0.15481141645149393],\n",
       "  [-0.10515492438214681],\n",
       "  [-0.08011803762449281],\n",
       "  [-0.08011803762449281],\n",
       "  [-0.06509590556990041],\n",
       "  [-0.055081150866838804],\n",
       "  [-0.035051641460715606],\n",
       "  [-0.040059018812246404],\n",
       "  [-0.035051641460715606],\n",
       "  [-0.035051641460715606],\n",
       "  [-0.010014754703061601],\n",
       "  [-0.0050073773515308005],\n",
       "  [-0.015022132054592402],\n",
       "  [-0.0050073773515308005],\n",
       "  [0.010014754703061601],\n",
       "  [0.020029509406123202],\n",
       "  [0.015022132054592402],\n",
       "  [0.015022132054592402],\n",
       "  [0.010014754703061601],\n",
       "  [-0.020029509406123202],\n",
       "  [-0.015022132054592402],\n",
       "  [0.0050073773515308005],\n",
       "  [0.010014754703061601],\n",
       "  [0.015022132054592402],\n",
       "  [0.04506639616377721],\n",
       "  [0.055081150866838804],\n",
       "  [0.06008852821836961],\n",
       "  [0.0851254149760236],\n",
       "  [0.0851254149760236],\n",
       "  [0.0851254149760236],\n",
       "  [0.06509590556990041],\n",
       "  [0.08011803762449281],\n",
       "  [0.09013279232755442],\n",
       "  [0.08011803762449281],\n",
       "  [0.08011803762449281],\n",
       "  [0.09013279232755442],\n",
       "  [0.10515492438214681],\n",
       "  [0.09514016967908522],\n",
       "  [0.0851254149760236],\n",
       "  [0.11516967908520842],\n",
       "  [0.12017705643673922],\n",
       "  [0.12017705643673922],\n",
       "  [0.12017705643673922],\n",
       "  [0.14020656584286242],\n",
       "  [0.1447966617484323],\n",
       "  [0.1447966617484323],\n",
       "  [0.14020656584286242],\n",
       "  [0.13019181113980083],\n",
       "  [0.1351991884913316],\n",
       "  [0.14020656584286242],\n",
       "  [0.15481141645149393],\n",
       "  [0.15481141645149393],\n",
       "  [0.15981879380302472],\n",
       "  [0.17984830320914794],\n",
       "  [0.19487043526374032],\n",
       "  [0.20488518996680194],\n",
       "  [0.19987781261527113],\n",
       "  [0.20488518996680194],\n",
       "  [0.21990732202139432],\n",
       "  [0.23492945407598673],\n",
       "  [0.24494420877904832],\n",
       "  [0.22992207672445594],\n",
       "  [0.24494420877904832],\n",
       "  [0.24494420877904832],\n",
       "  [0.25996634083364073],\n",
       "  [0.2649737181851715],\n",
       "  [0.2799958502397639],\n",
       "  [0.29001060494282555],\n",
       "  [0.29501798229435633],\n",
       "  [0.30503273699741795],\n",
       "  [0.3150474917004795],\n",
       "  [0.33507700110660277],\n",
       "  [0.3500991331611951],\n",
       "  [0.36011388786425674],\n",
       "  [0.37513601991884915],\n",
       "  [0.37513601991884915],\n",
       "  [0.39516552932497234],\n",
       "  [0.3851507746219108],\n",
       "  [0.41018766137956475],\n",
       "  [0.4202024160826264],\n",
       "  [0.42979988933972707],\n",
       "  [0.44982939874585026],\n",
       "  [0.46485153080044267],\n",
       "  [0.48988841755809664],\n",
       "  [0.49990317226115827],\n",
       "  [0.529947436370343],\n",
       "  [0.5449695684249355],\n",
       "  [0.5599917004795278],\n",
       "  [0.5700064551825895],\n",
       "  [0.5800212098856511],\n",
       "  [0.5900359645887127],\n",
       "  [0.6000507192917742],\n",
       "  [0.6250876060494283],\n",
       "  [0.6351023607524898],\n",
       "  [0.6351023607524898],\n",
       "  [0.6551318701586131],\n",
       "  [0.6601392475101439],\n",
       "  [0.6751613795647363],\n",
       "  [0.6651466248616746],\n",
       "  [0.6801687569162671],\n",
       "  [0.6851761342677979],\n",
       "  [0.6901835116193287],\n",
       "  [0.6901835116193287],\n",
       "  [0.6851761342677979],\n",
       "  [0.6901835116193287],\n",
       "  [0.6901835116193287],\n",
       "  [0.6851761342677979],\n",
       "  [0.6851761342677979],\n",
       "  [0.6801687569162671],\n",
       "  [0.6751613795647363],\n",
       "  [0.6701540022132055],\n",
       "  [0.6751613795647363],\n",
       "  [0.6551318701586131],\n",
       "  [0.6501244928070823],\n",
       "  [0.6451171154555515],\n",
       "  [0.630094983400959],\n",
       "  [0.6250876060494283],\n",
       "  [0.6000507192917742],\n",
       "  [0.6000507192917742],\n",
       "  [0.5850285872371819],\n",
       "  [0.5750138325341203],\n",
       "  [0.5449695684249355],\n",
       "  [0.529947436370343],\n",
       "  [0.5399621910734047],\n",
       "  [0.529947436370343],\n",
       "  [0.5149253043157507],\n",
       "  [0.48488104020656586],\n",
       "  [0.45483677609738105],\n",
       "  [0.42479251198819623],\n",
       "  [0.39516552932497234],\n",
       "  [0.3851507746219108],\n",
       "  [0.37513601991884915],\n",
       "  [0.37513601991884915],\n",
       "  [0.34008437845813355],\n",
       "  [0.31004011434894874],\n",
       "  [0.28500322759129476],\n",
       "  [0.2799958502397639],\n",
       "  [0.2649737181851715],\n",
       "  [0.24494420877904832],\n",
       "  [0.23492945407598673],\n",
       "  [0.19987781261527113],\n",
       "  [0.19987781261527113],\n",
       "  [0.19487043526374032],\n",
       "  [0.19987781261527113],\n",
       "  [0.19987781261527113],\n",
       "  [0.17484092585761712],\n",
       "  [0.15481141645149393],\n",
       "  [0.12518443378827002],\n",
       "  [0.11516967908520842],\n",
       "  [0.10014754703061601],\n",
       "  [0.09013279232755442],\n",
       "  [0.11016230173367761],\n",
       "  [0.11016230173367761],\n",
       "  [0.11016230173367761],\n",
       "  [0.11016230173367761],\n",
       "  [0.12518443378827002],\n",
       "  [0.10014754703061601],\n",
       "  [0.09013279232755442],\n",
       "  [0.0851254149760236],\n",
       "  [0.0851254149760236],\n",
       "  [0.0851254149760236],\n",
       "  [0.0851254149760236],\n",
       "  [0.09514016967908522],\n",
       "  [0.09013279232755442],\n",
       "  [0.07511066027296201],\n",
       "  [0.08011803762449281],\n",
       "  [0.07010328292143121],\n",
       "  [0.07010328292143121],\n",
       "  [0.04506639616377721],\n",
       "  [0.05007377351530801],\n",
       "  [0.05007377351530801],\n",
       "  [0.05007377351530801],\n",
       "  [0.04506639616377721],\n",
       "  [0.05007377351530801],\n",
       "  [0.06509590556990041],\n",
       "  [0.06008852821836961],\n",
       "  [0.07010328292143121],\n",
       "  [0.06008852821836961],\n",
       "  [0.05007377351530801],\n",
       "  [0.04506639616377721],\n",
       "  [0.035051641460715606],\n",
       "  [0.040059018812246404],\n",
       "  [0.05007377351530801],\n",
       "  [0.06008852821836961],\n",
       "  [0.06509590556990041],\n",
       "  [0.06509590556990041],\n",
       "  [0.07010328292143121],\n",
       "  [0.05007377351530801],\n",
       "  [0.06008852821836961],\n",
       "  [0.055081150866838804],\n",
       "  [0.07010328292143121],\n",
       "  [0.06509590556990041],\n",
       "  [0.08011803762449281],\n",
       "  [0.09514016967908522],\n",
       "  [0.10014754703061601],\n",
       "  [0.11016230173367761],\n",
       "  [0.11016230173367761],\n",
       "  [0.10515492438214681],\n",
       "  [0.10014754703061601],\n",
       "  [0.11016230173367761],\n",
       "  [0.10515492438214681],\n",
       "  [0.06509590556990041],\n",
       "  [0.05007377351530801],\n",
       "  [0.030044264109184805],\n",
       "  [0.020029509406123202],\n",
       "  [0.015022132054592402],\n",
       "  [0.010014754703061601],\n",
       "  [0.025036886757654003],\n",
       "  [0.040059018812246404],\n",
       "  [0.05007377351530801],\n",
       "  [0.04506639616377721],\n",
       "  [0.06008852821836961],\n",
       "  [0.055081150866838804],\n",
       "  [0.055081150866838804],\n",
       "  [0.055081150866838804],\n",
       "  [0.05007377351530801],\n",
       "  [0.06008852821836961],\n",
       "  [0.06509590556990041],\n",
       "  [0.055081150866838804],\n",
       "  [0.04506639616377721],\n",
       "  [0.04506639616377721],\n",
       "  [0.05007377351530801],\n",
       "  [0.040059018812246404],\n",
       "  [0.04506639616377721],\n",
       "  [0.035051641460715606],\n",
       "  [0.040059018812246404],\n",
       "  [0.035051641460715606],\n",
       "  [0.040059018812246404],\n",
       "  [0.035051641460715606],\n",
       "  [0.025036886757654003],\n",
       "  [0.035051641460715606],\n",
       "  [0.035051641460715606],\n",
       "  [0.030044264109184805],\n",
       "  [0.030044264109184805],\n",
       "  [0.030044264109184805],\n",
       "  [0.030044264109184805],\n",
       "  [0.020029509406123202],\n",
       "  [0.035051641460715606],\n",
       "  [0.035051641460715606],\n",
       "  [0.020029509406123202],\n",
       "  [0.015022132054592402],\n",
       "  [0.015022132054592402],\n",
       "  [0.030044264109184805],\n",
       "  [0.015022132054592402],\n",
       "  [0.025036886757654003],\n",
       "  [0.015022132054592402],\n",
       "  [0.025036886757654003],\n",
       "  [0.025036886757654003],\n",
       "  [0.035051641460715606],\n",
       "  [0.035051641460715606],\n",
       "  [0.010014754703061601],\n",
       "  [0.0],\n",
       "  [-0.010014754703061601],\n",
       "  [-0.015022132054592402],\n",
       "  [-0.015022132054592402],\n",
       "  [-0.020029509406123202],\n",
       "  [-0.015022132054592402],\n",
       "  [-0.020029509406123202],\n",
       "  [0.0],\n",
       "  [0.0050073773515308005],\n",
       "  [0.020029509406123202],\n",
       "  [0.0050073773515308005],\n",
       "  [0.0050073773515308005],\n",
       "  [0.010014754703061601],\n",
       "  [0.0],\n",
       "  [0.0],\n",
       "  [-0.020029509406123202],\n",
       "  [-0.020029509406123202],\n",
       "  [-0.020029509406123202],\n",
       "  [-0.020029509406123202],\n",
       "  [-0.015022132054592402],\n",
       "  [-0.025036886757654003],\n",
       "  [-0.025036886757654003],\n",
       "  [-0.020029509406123202],\n",
       "  [0.0],\n",
       "  [0.0050073773515308005],\n",
       "  [0.010014754703061601],\n",
       "  [0.030044264109184805],\n",
       "  [0.030044264109184805],\n",
       "  [0.04506639616377721],\n",
       "  [0.04506639616377721],\n",
       "  [0.05007377351530801],\n",
       "  [0.025036886757654003],\n",
       "  [0.0],\n",
       "  [-0.015022132054592402],\n",
       "  [-0.020029509406123202],\n",
       "  [-0.025036886757654003],\n",
       "  [-0.040059018812246404],\n",
       "  [-0.040059018812246404],\n",
       "  [-0.04506639616377721],\n",
       "  [-0.05007377351530801],\n",
       "  [-0.030044264109184805],\n",
       "  [-0.030044264109184805],\n",
       "  [-0.030044264109184805],\n",
       "  [-0.025036886757654003],\n",
       "  [-0.0050073773515308005],\n",
       "  [0.0050073773515308005],\n",
       "  [0.015022132054592402],\n",
       "  [0.025036886757654003],\n",
       "  [0.015022132054592402],\n",
       "  [0.025036886757654003],\n",
       "  [0.030044264109184805],\n",
       "  [0.055081150866838804],\n",
       "  [0.06008852821836961],\n",
       "  [0.055081150866838804],\n",
       "  [0.04506639616377721],\n",
       "  [0.04506639616377721],\n",
       "  [0.06509590556990041],\n",
       "  [0.055081150866838804],\n",
       "  [0.035051641460715606],\n",
       "  [0.030044264109184805],\n",
       "  [0.025036886757654003],\n",
       "  [0.035051641460715606],\n",
       "  [0.025036886757654003],\n",
       "  [0.040059018812246404],\n",
       "  [0.035051641460715606],\n",
       "  [0.04506639616377721],\n",
       "  [0.040059018812246404],\n",
       "  [0.05007377351530801],\n",
       "  [0.055081150866838804],\n",
       "  [0.030044264109184805],\n",
       "  [0.020029509406123202],\n",
       "  [0.010014754703061601],\n",
       "  [0.0050073773515308005],\n",
       "  [-0.0050073773515308005],\n",
       "  [-0.025036886757654003],\n",
       "  [-0.040059018812246404],\n",
       "  [-0.055081150866838804],\n",
       "  [-0.04506639616377721],\n",
       "  [-0.055081150866838804],\n",
       "  [-0.055081150866838804],\n",
       "  [-0.055081150866838804],\n",
       "  [-0.06008852821836961],\n",
       "  [-0.06509590556990041],\n",
       "  [-0.0851254149760236],\n",
       "  [-0.0851254149760236],\n",
       "  [-0.10515492438214681],\n",
       "  [-0.10515492438214681],\n",
       "  [-0.10515492438214681],\n",
       "  [-0.09514016967908522],\n",
       "  [-0.0851254149760236],\n",
       "  [-0.0851254149760236],\n",
       "  [-0.09514016967908522],\n",
       "  [-0.10515492438214681],\n",
       "  [-0.10014754703061601],\n",
       "  [-0.10014754703061601],\n",
       "  [-0.11016230173367761],\n",
       "  [-0.10014754703061601],\n",
       "  [-0.12518443378827002],\n",
       "  [-0.13019181113980083],\n",
       "  [-0.14020656584286242],\n",
       "  [-0.1351991884913316],\n",
       "  [-0.1351991884913316],\n",
       "  [-0.14020656584286242],\n",
       "  [-0.1447966617484323],\n",
       "  [-0.14980403909996312],\n",
       "  [-0.1447966617484323],\n",
       "  [-0.14980403909996312],\n",
       "  [-0.14020656584286242],\n",
       "  [-0.1351991884913316],\n",
       "  [-0.13019181113980083],\n",
       "  [-0.12017705643673922],\n",
       "  [-0.1351991884913316],\n",
       "  [-0.1351991884913316],\n",
       "  [-0.14020656584286242],\n",
       "  [-0.1447966617484323],\n",
       "  [-0.1447966617484323],\n",
       "  [-0.14980403909996312],\n",
       "  [-0.1351991884913316],\n",
       "  [-0.13019181113980083],\n",
       "  [-0.0851254149760236],\n",
       "  [-0.05007377351530801],\n",
       "  [0.035051641460715606],\n",
       "  [0.1351991884913316],\n",
       "  [0.27498847288823314],\n",
       "  [0.45483677609738105],\n",
       "  [0.6250876060494283],\n",
       "  [0.784906399852453],\n",
       "  [0.9401350977499078],\n",
       "  [1.114976023607525],\n",
       "  [1.3198612135743268],\n",
       "  [1.5251636849870898],\n",
       "  [1.669960346735522],\n",
       "  [1.6098718185171523],\n",
       "  [1.3048390815197344],\n",
       "  [0.8399875507192918],\n",
       "  [0.4598441534489119],\n",
       "  [0.16482617115455553],\n",
       "  [-0.11516967908520842],\n",
       "  [-0.35510651051272596],\n",
       "  [-0.6000507192917742],\n",
       "  [-0.7999285319070454],\n",
       "  [-0.9000760789376614],\n",
       "  [-0.8950687015861306],\n",
       "  [-0.8800465695315383],\n",
       "  [-0.8249654186646994],\n",
       "  [-0.7398400036886758],\n",
       "  [-0.6651466248616746],\n",
       "  [-0.5900359645887127],\n",
       "  [-0.5099179269642199],\n",
       "  [-0.45483677609738105],\n",
       "  [-0.41519503873109553],\n",
       "  [-0.37012864256731837],\n",
       "  ...],\n",
       " 'd_signal': None,\n",
       " 'e_p_signal': None,\n",
       " 'e_d_signal': None,\n",
       " 'file_name': ['99966001_1.dat'],\n",
       " 'fmt': ['16'],\n",
       " 'samps_per_frame': [1],\n",
       " 'skew': [None],\n",
       " 'byte_offset': [None],\n",
       " 'adc_gain': [2396.46408839779],\n",
       " 'baseline': [-21923],\n",
       " 'units': ['mV'],\n",
       " 'adc_res': [16],\n",
       " 'adc_zero': [0],\n",
       " 'init_value': [-21983],\n",
       " 'checksum': [30226],\n",
       " 'block_size': [0],\n",
       " 'MRN': 99845815,\n",
       " 'CSN': 99966001,\n",
       " 'Visit_no': 1,\n",
       " 'Visits': 2,\n",
       " 'Age': 81,\n",
       " 'Gender': 'M',\n",
       " 'Race': 'Asian',\n",
       " 'Ethnicity': 'Non-Hispanic/Non-Latino',\n",
       " 'Means_of_arrival': 'Self',\n",
       " 'Triage_Temp': '36.7',\n",
       " 'Triage_HR': '84.0',\n",
       " 'Triage_RR': '14.0',\n",
       " 'Triage_SpO2': '100.0',\n",
       " 'Triage_SBP': '181.0',\n",
       " 'Triage_DBP': '91.0',\n",
       " 'Triage_acuity': '3-Urgent',\n",
       " 'CC': 'RASH,COUGH,ABNORMAL LAB',\n",
       " 'ED_dispo': 'Discharge',\n",
       " 'Hours_to_next_visit': '10077.0',\n",
       " 'Dispo_class_next_visit': 'Inpatient',\n",
       " 'ED_LOS': '4.33',\n",
       " 'Hosp_LOS': 'nan',\n",
       " 'DC_dispo': 'Home/Work (includes foster care)',\n",
       " 'Payor_class': 'Medicare',\n",
       " 'Admit_service': 'nan',\n",
       " 'Dx_ICD9': '782.1',\n",
       " 'Dx_ICD10': 'R21',\n",
       " 'Dx_name': 'Rash and nonspecific skin eruption',\n",
       " 'Arrival_time': '2226-12-13T13:00:37Z',\n",
       " 'Roomed_time': '2226-12-13T13:15:37Z',\n",
       " 'Dispo_time': '2226-12-13T16:48:37Z',\n",
       " 'Admit_time': 'nan',\n",
       " 'Departure_time': '2226-12-13T17:20:37Z'}"
      ]
     },
     "execution_count": 16,
     "metadata": {},
     "output_type": "execute_result"
    }
   ],
   "source": [
    "train_data[0]"
   ]
  },
  {
   "cell_type": "code",
   "execution_count": 13,
   "id": "cbaa0b0a-9eba-4d82-a397-c2ca52c5dfdb",
   "metadata": {},
   "outputs": [
    {
     "data": {
      "text/plain": [
       "[-0.025036886757654003]"
      ]
     },
     "execution_count": 13,
     "metadata": {},
     "output_type": "execute_result"
    }
   ],
   "source": [
    "train_data[0]['p_signal'][0]"
   ]
  },
  {
   "cell_type": "code",
   "execution_count": 17,
   "id": "18d1905a-28fd-49a9-9c85-f290138c2912",
   "metadata": {
    "scrolled": true
   },
   "outputs": [
    {
     "name": "stderr",
     "output_type": "stream",
     "text": [
      "  0%|▏                                                                         | 1/400 [00:02<17:07,  2.58s/it]"
     ]
    },
    {
     "name": "stdout",
     "output_type": "stream",
     "text": [
      "252\n",
      "0.0\n",
      "120.0\n"
     ]
    },
    {
     "name": "stderr",
     "output_type": "stream",
     "text": [
      "  0%|▎                                                                         | 2/400 [00:06<23:38,  3.56s/it]"
     ]
    },
    {
     "name": "stdout",
     "output_type": "stream",
     "text": [
      "266\n",
      "0.0\n",
      "120.0\n"
     ]
    },
    {
     "name": "stderr",
     "output_type": "stream",
     "text": [
      "  1%|▌                                                                         | 3/400 [00:10<22:30,  3.40s/it]"
     ]
    },
    {
     "name": "stdout",
     "output_type": "stream",
     "text": [
      "283\n",
      "0.0\n",
      "120.0\n"
     ]
    },
    {
     "name": "stderr",
     "output_type": "stream",
     "text": [
      "  1%|▋                                                                         | 4/400 [00:11<17:13,  2.61s/it]"
     ]
    },
    {
     "name": "stdout",
     "output_type": "stream",
     "text": [
      "221\n",
      "0.0\n",
      "120.0\n"
     ]
    },
    {
     "name": "stderr",
     "output_type": "stream",
     "text": [
      "  1%|▉                                                                         | 5/400 [00:13<14:47,  2.25s/it]"
     ]
    },
    {
     "name": "stdout",
     "output_type": "stream",
     "text": [
      "209\n",
      "0.0\n",
      "120.0\n"
     ]
    },
    {
     "name": "stderr",
     "output_type": "stream",
     "text": [
      "  2%|█                                                                         | 6/400 [00:14<12:15,  1.87s/it]"
     ]
    },
    {
     "name": "stdout",
     "output_type": "stream",
     "text": [
      "37\n",
      "0.0\n",
      "120.0\n"
     ]
    },
    {
     "name": "stderr",
     "output_type": "stream",
     "text": [
      "  2%|█▎                                                                        | 7/400 [00:14<08:52,  1.36s/it]"
     ]
    },
    {
     "name": "stdout",
     "output_type": "stream",
     "text": [
      "150\n",
      "0.0\n",
      "120.0\n"
     ]
    },
    {
     "name": "stderr",
     "output_type": "stream",
     "text": [
      "  2%|█▍                                                                        | 8/400 [00:16<09:45,  1.49s/it]"
     ]
    },
    {
     "name": "stdout",
     "output_type": "stream",
     "text": [
      "222\n",
      "0.0\n",
      "120.0\n"
     ]
    },
    {
     "name": "stderr",
     "output_type": "stream",
     "text": [
      "  2%|█▊                                                                       | 10/400 [00:20<10:40,  1.64s/it]"
     ]
    },
    {
     "name": "stdout",
     "output_type": "stream",
     "text": [
      "44\n",
      "0.0\n",
      "120.0\n",
      "205\n",
      "0.0\n",
      "120.0\n"
     ]
    },
    {
     "name": "stderr",
     "output_type": "stream",
     "text": [
      "  3%|██                                                                       | 11/400 [00:22<10:32,  1.63s/it]"
     ]
    },
    {
     "name": "stdout",
     "output_type": "stream",
     "text": [
      "256\n",
      "0.0\n",
      "120.0\n"
     ]
    },
    {
     "name": "stderr",
     "output_type": "stream",
     "text": [
      "  3%|██▏                                                                      | 12/400 [00:25<13:03,  2.02s/it]"
     ]
    },
    {
     "name": "stdout",
     "output_type": "stream",
     "text": [
      "277\n",
      "0.0\n",
      "120.0\n"
     ]
    },
    {
     "name": "stderr",
     "output_type": "stream",
     "text": [
      "  3%|██▎                                                                      | 13/400 [00:28<16:51,  2.61s/it]"
     ]
    },
    {
     "name": "stdout",
     "output_type": "stream",
     "text": [
      "114\n",
      "0.0\n",
      "120.0\n"
     ]
    },
    {
     "name": "stderr",
     "output_type": "stream",
     "text": [
      "  4%|██▌                                                                      | 14/400 [00:32<17:53,  2.78s/it]"
     ]
    },
    {
     "name": "stdout",
     "output_type": "stream",
     "text": [
      "222\n",
      "0.0\n",
      "120.0\n"
     ]
    },
    {
     "name": "stderr",
     "output_type": "stream",
     "text": [
      "  4%|██▋                                                                      | 15/400 [00:37<22:57,  3.58s/it]"
     ]
    },
    {
     "name": "stdout",
     "output_type": "stream",
     "text": [
      "106\n",
      "0.0\n",
      "120.0\n"
     ]
    },
    {
     "name": "stderr",
     "output_type": "stream",
     "text": [
      "  4%|██▉                                                                      | 16/400 [00:39<19:43,  3.08s/it]"
     ]
    },
    {
     "name": "stdout",
     "output_type": "stream",
     "text": [
      "103\n",
      "0.0\n",
      "120.0\n"
     ]
    },
    {
     "name": "stderr",
     "output_type": "stream",
     "text": [
      "  4%|███                                                                      | 17/400 [00:52<38:57,  6.10s/it]"
     ]
    },
    {
     "name": "stdout",
     "output_type": "stream",
     "text": [
      "163\n",
      "0.0\n",
      "120.0\n"
     ]
    },
    {
     "name": "stderr",
     "output_type": "stream",
     "text": [
      "  4%|███▎                                                                     | 18/400 [00:56<33:46,  5.31s/it]"
     ]
    },
    {
     "name": "stdout",
     "output_type": "stream",
     "text": [
      "213\n",
      "0.0\n",
      "120.0\n"
     ]
    },
    {
     "name": "stderr",
     "output_type": "stream",
     "text": [
      "  5%|███▍                                                                     | 19/400 [01:02<36:03,  5.68s/it]"
     ]
    },
    {
     "name": "stdout",
     "output_type": "stream",
     "text": [
      "179\n",
      "0.0\n",
      "120.0\n"
     ]
    },
    {
     "name": "stderr",
     "output_type": "stream",
     "text": [
      "  5%|███▋                                                                     | 20/400 [01:04<28:45,  4.54s/it]"
     ]
    },
    {
     "name": "stdout",
     "output_type": "stream",
     "text": [
      "48\n",
      "0.0\n",
      "120.0\n"
     ]
    },
    {
     "name": "stderr",
     "output_type": "stream",
     "text": [
      "  5%|███▊                                                                     | 21/400 [01:06<23:59,  3.80s/it]"
     ]
    },
    {
     "name": "stdout",
     "output_type": "stream",
     "text": [
      "277\n",
      "0.0\n",
      "120.0\n"
     ]
    },
    {
     "name": "stderr",
     "output_type": "stream",
     "text": [
      "  6%|████                                                                     | 22/400 [01:22<47:44,  7.58s/it]"
     ]
    },
    {
     "name": "stdout",
     "output_type": "stream",
     "text": [
      "243\n",
      "0.0\n",
      "120.0\n"
     ]
    },
    {
     "name": "stderr",
     "output_type": "stream",
     "text": [
      "  6%|████▏                                                                    | 23/400 [01:23<33:48,  5.38s/it]"
     ]
    },
    {
     "name": "stdout",
     "output_type": "stream",
     "text": [
      "271\n",
      "0.0\n",
      "120.0\n"
     ]
    },
    {
     "name": "stderr",
     "output_type": "stream",
     "text": [
      "  6%|████▍                                                                    | 24/400 [01:24<26:09,  4.17s/it]"
     ]
    },
    {
     "name": "stdout",
     "output_type": "stream",
     "text": [
      "286\n",
      "0.0\n",
      "120.0\n"
     ]
    },
    {
     "name": "stderr",
     "output_type": "stream",
     "text": [
      "  6%|████▌                                                                    | 25/400 [01:29<27:36,  4.42s/it]"
     ]
    },
    {
     "name": "stdout",
     "output_type": "stream",
     "text": [
      "110\n",
      "0.0\n",
      "120.0\n"
     ]
    },
    {
     "name": "stderr",
     "output_type": "stream",
     "text": [
      "  6%|████▋                                                                    | 26/400 [01:43<45:54,  7.36s/it]"
     ]
    },
    {
     "name": "stdout",
     "output_type": "stream",
     "text": [
      "82\n",
      "0.0\n",
      "120.0\n"
     ]
    },
    {
     "name": "stderr",
     "output_type": "stream",
     "text": [
      "  7%|████▉                                                                    | 27/400 [01:47<38:29,  6.19s/it]"
     ]
    },
    {
     "name": "stdout",
     "output_type": "stream",
     "text": [
      "17\n",
      "0.0\n",
      "120.0\n"
     ]
    },
    {
     "name": "stderr",
     "output_type": "stream",
     "text": [
      "  7%|█████                                                                    | 28/400 [01:48<28:24,  4.58s/it]"
     ]
    },
    {
     "name": "stdout",
     "output_type": "stream",
     "text": [
      "69\n",
      "0.0\n",
      "120.0\n"
     ]
    },
    {
     "name": "stderr",
     "output_type": "stream",
     "text": [
      "  7%|█████▎                                                                   | 29/400 [01:48<21:12,  3.43s/it]"
     ]
    },
    {
     "name": "stdout",
     "output_type": "stream",
     "text": [
      "200\n",
      "0.0\n",
      "120.0\n"
     ]
    },
    {
     "name": "stderr",
     "output_type": "stream",
     "text": [
      "  8%|█████▍                                                                   | 30/400 [01:53<23:58,  3.89s/it]"
     ]
    },
    {
     "name": "stdout",
     "output_type": "stream",
     "text": [
      "223\n",
      "0.0\n",
      "120.0\n"
     ]
    },
    {
     "name": "stderr",
     "output_type": "stream",
     "text": [
      "  8%|█████▋                                                                   | 31/400 [01:57<23:24,  3.81s/it]"
     ]
    },
    {
     "name": "stdout",
     "output_type": "stream",
     "text": [
      "165\n",
      "0.0\n",
      "120.0\n"
     ]
    },
    {
     "name": "stderr",
     "output_type": "stream",
     "text": [
      "  8%|█████▊                                                                   | 32/400 [01:59<20:54,  3.41s/it]"
     ]
    },
    {
     "name": "stdout",
     "output_type": "stream",
     "text": [
      "97\n",
      "0.0\n",
      "120.0\n"
     ]
    },
    {
     "name": "stderr",
     "output_type": "stream",
     "text": [
      "  8%|██████                                                                   | 33/400 [02:02<19:13,  3.14s/it]"
     ]
    },
    {
     "name": "stdout",
     "output_type": "stream",
     "text": [
      "53\n",
      "0.0\n",
      "120.0\n"
     ]
    },
    {
     "name": "stderr",
     "output_type": "stream",
     "text": [
      "  8%|██████▏                                                                  | 34/400 [02:11<29:54,  4.90s/it]"
     ]
    },
    {
     "name": "stdout",
     "output_type": "stream",
     "text": [
      "64\n",
      "0.0\n",
      "120.0\n"
     ]
    },
    {
     "name": "stderr",
     "output_type": "stream",
     "text": [
      "  9%|██████▍                                                                  | 35/400 [02:12<23:07,  3.80s/it]"
     ]
    },
    {
     "name": "stdout",
     "output_type": "stream",
     "text": [
      "198\n",
      "0.0\n",
      "120.0\n"
     ]
    },
    {
     "name": "stderr",
     "output_type": "stream",
     "text": [
      "  9%|██████▌                                                                  | 36/400 [02:13<18:26,  3.04s/it]"
     ]
    },
    {
     "name": "stdout",
     "output_type": "stream",
     "text": [
      "15\n",
      "0.0\n",
      "120.0\n"
     ]
    },
    {
     "name": "stderr",
     "output_type": "stream",
     "text": [
      "  9%|██████▊                                                                  | 37/400 [02:14<14:47,  2.44s/it]"
     ]
    },
    {
     "name": "stdout",
     "output_type": "stream",
     "text": [
      "103\n",
      "0.0\n",
      "120.0\n"
     ]
    },
    {
     "name": "stderr",
     "output_type": "stream",
     "text": [
      " 10%|███████                                                                  | 39/400 [02:19<12:49,  2.13s/it]"
     ]
    },
    {
     "name": "stdout",
     "output_type": "stream",
     "text": [
      "25\n",
      "0.0\n",
      "120.0\n",
      "276\n",
      "0.0\n",
      "120.0\n"
     ]
    },
    {
     "name": "stderr",
     "output_type": "stream",
     "text": [
      " 10%|███████▎                                                                 | 40/400 [02:24<18:30,  3.08s/it]"
     ]
    },
    {
     "name": "stdout",
     "output_type": "stream",
     "text": [
      "6\n",
      "0.0\n",
      "120.0\n"
     ]
    },
    {
     "name": "stderr",
     "output_type": "stream",
     "text": [
      " 10%|███████▍                                                                 | 41/400 [02:31<25:06,  4.20s/it]"
     ]
    },
    {
     "name": "stdout",
     "output_type": "stream",
     "text": [
      "273\n",
      "0.0\n",
      "120.0\n"
     ]
    },
    {
     "name": "stderr",
     "output_type": "stream",
     "text": [
      " 10%|███████▋                                                                 | 42/400 [02:32<19:05,  3.20s/it]"
     ]
    },
    {
     "name": "stdout",
     "output_type": "stream",
     "text": [
      "196\n",
      "0.0\n",
      "120.0\n"
     ]
    },
    {
     "name": "stderr",
     "output_type": "stream",
     "text": [
      " 11%|███████▊                                                                 | 43/400 [02:46<38:11,  6.42s/it]"
     ]
    },
    {
     "name": "stdout",
     "output_type": "stream",
     "text": [
      "182\n",
      "0.0\n",
      "120.0\n"
     ]
    },
    {
     "name": "stderr",
     "output_type": "stream",
     "text": [
      " 11%|████████                                                                 | 44/400 [02:52<37:30,  6.32s/it]"
     ]
    },
    {
     "name": "stdout",
     "output_type": "stream",
     "text": [
      "183\n",
      "0.0\n",
      "120.0\n"
     ]
    },
    {
     "name": "stderr",
     "output_type": "stream",
     "text": [
      " 11%|████████▏                                                                | 45/400 [02:53<27:53,  4.71s/it]"
     ]
    },
    {
     "name": "stdout",
     "output_type": "stream",
     "text": [
      "294\n",
      "0.0\n",
      "120.0\n"
     ]
    },
    {
     "name": "stderr",
     "output_type": "stream",
     "text": [
      " 12%|████████▍                                                                | 46/400 [02:54<21:50,  3.70s/it]"
     ]
    },
    {
     "name": "stdout",
     "output_type": "stream",
     "text": [
      "184\n",
      "0.0\n",
      "120.0\n"
     ]
    },
    {
     "name": "stderr",
     "output_type": "stream",
     "text": [
      " 12%|████████▌                                                                | 47/400 [03:07<37:43,  6.41s/it]"
     ]
    },
    {
     "name": "stdout",
     "output_type": "stream",
     "text": [
      "189\n",
      "0.0\n",
      "120.0\n"
     ]
    },
    {
     "name": "stderr",
     "output_type": "stream",
     "text": [
      " 12%|████████▊                                                                | 48/400 [03:13<37:50,  6.45s/it]"
     ]
    },
    {
     "name": "stdout",
     "output_type": "stream",
     "text": [
      "17\n",
      "0.0\n",
      "120.0\n"
     ]
    },
    {
     "name": "stderr",
     "output_type": "stream",
     "text": [
      " 12%|████████▉                                                                | 49/400 [03:24<44:47,  7.66s/it]"
     ]
    },
    {
     "name": "stdout",
     "output_type": "stream",
     "text": [
      "137\n",
      "0.0\n",
      "120.0\n"
     ]
    },
    {
     "name": "stderr",
     "output_type": "stream",
     "text": [
      " 12%|█████████▏                                                               | 50/400 [03:27<37:07,  6.37s/it]"
     ]
    },
    {
     "name": "stdout",
     "output_type": "stream",
     "text": [
      "228\n",
      "0.0\n",
      "120.0\n"
     ]
    },
    {
     "name": "stderr",
     "output_type": "stream",
     "text": [
      " 13%|█████████▎                                                               | 51/400 [03:29<28:40,  4.93s/it]"
     ]
    },
    {
     "name": "stdout",
     "output_type": "stream",
     "text": [
      "168\n",
      "0.0\n",
      "120.0\n"
     ]
    },
    {
     "name": "stderr",
     "output_type": "stream",
     "text": [
      " 13%|█████████▍                                                               | 52/400 [03:29<20:30,  3.54s/it]"
     ]
    },
    {
     "name": "stdout",
     "output_type": "stream",
     "text": [
      "232\n",
      "0.0\n",
      "120.0\n"
     ]
    },
    {
     "name": "stderr",
     "output_type": "stream",
     "text": [
      " 13%|█████████▋                                                               | 53/400 [03:34<23:29,  4.06s/it]"
     ]
    },
    {
     "name": "stdout",
     "output_type": "stream",
     "text": [
      "281\n",
      "0.0\n",
      "120.0\n"
     ]
    },
    {
     "name": "stderr",
     "output_type": "stream",
     "text": [
      " 14%|█████████▊                                                               | 54/400 [03:38<23:06,  4.01s/it]"
     ]
    },
    {
     "name": "stdout",
     "output_type": "stream",
     "text": [
      "267\n",
      "0.0\n",
      "120.0\n"
     ]
    },
    {
     "name": "stderr",
     "output_type": "stream",
     "text": [
      " 14%|██████████                                                               | 55/400 [03:44<25:50,  4.50s/it]"
     ]
    },
    {
     "name": "stdout",
     "output_type": "stream",
     "text": [
      "180\n",
      "0.0\n",
      "120.0\n"
     ]
    },
    {
     "name": "stderr",
     "output_type": "stream",
     "text": [
      " 14%|██████████▏                                                              | 56/400 [03:50<28:52,  5.04s/it]"
     ]
    },
    {
     "name": "stdout",
     "output_type": "stream",
     "text": [
      "233\n",
      "0.0\n",
      "120.0\n"
     ]
    },
    {
     "name": "stderr",
     "output_type": "stream",
     "text": [
      " 14%|██████████▍                                                              | 57/400 [03:54<26:05,  4.56s/it]"
     ]
    },
    {
     "name": "stdout",
     "output_type": "stream",
     "text": [
      "125\n",
      "0.0\n",
      "120.0\n"
     ]
    },
    {
     "name": "stderr",
     "output_type": "stream",
     "text": [
      " 14%|██████████▌                                                              | 58/400 [03:54<19:19,  3.39s/it]"
     ]
    },
    {
     "name": "stdout",
     "output_type": "stream",
     "text": [
      "50\n",
      "0.0\n",
      "120.0\n"
     ]
    },
    {
     "name": "stderr",
     "output_type": "stream",
     "text": [
      " 15%|██████████▊                                                              | 59/400 [03:57<17:20,  3.05s/it]"
     ]
    },
    {
     "name": "stdout",
     "output_type": "stream",
     "text": [
      "84\n",
      "0.0\n",
      "120.0\n"
     ]
    },
    {
     "name": "stderr",
     "output_type": "stream",
     "text": [
      " 15%|██████████▉                                                              | 60/400 [04:06<28:00,  4.94s/it]"
     ]
    },
    {
     "name": "stdout",
     "output_type": "stream",
     "text": [
      "198\n",
      "0.0\n",
      "120.0\n"
     ]
    },
    {
     "name": "stderr",
     "output_type": "stream",
     "text": [
      " 15%|███████████▏                                                             | 61/400 [04:08<22:47,  4.03s/it]"
     ]
    },
    {
     "name": "stdout",
     "output_type": "stream",
     "text": [
      "41\n",
      "0.0\n",
      "120.0\n"
     ]
    },
    {
     "name": "stderr",
     "output_type": "stream",
     "text": [
      " 16%|███████████▎                                                             | 62/400 [04:10<19:07,  3.39s/it]"
     ]
    },
    {
     "name": "stdout",
     "output_type": "stream",
     "text": [
      "103\n",
      "0.0\n",
      "120.0\n"
     ]
    },
    {
     "name": "stderr",
     "output_type": "stream",
     "text": [
      " 16%|███████████▍                                                             | 63/400 [04:17<25:44,  4.58s/it]"
     ]
    },
    {
     "name": "stdout",
     "output_type": "stream",
     "text": [
      "188\n",
      "0.0\n",
      "120.0\n"
     ]
    },
    {
     "name": "stderr",
     "output_type": "stream",
     "text": [
      " 16%|███████████▋                                                             | 64/400 [04:18<20:12,  3.61s/it]"
     ]
    },
    {
     "name": "stdout",
     "output_type": "stream",
     "text": [
      "66\n",
      "0.0\n",
      "120.0\n"
     ]
    },
    {
     "name": "stderr",
     "output_type": "stream",
     "text": [
      " 16%|███████████▊                                                             | 65/400 [04:22<19:24,  3.48s/it]"
     ]
    },
    {
     "name": "stdout",
     "output_type": "stream",
     "text": [
      "112\n",
      "0.0\n",
      "120.0\n"
     ]
    },
    {
     "name": "stderr",
     "output_type": "stream",
     "text": [
      " 16%|████████████                                                             | 66/400 [04:22<14:53,  2.68s/it]"
     ]
    },
    {
     "name": "stdout",
     "output_type": "stream",
     "text": [
      "143\n",
      "0.0\n",
      "120.0\n"
     ]
    },
    {
     "name": "stderr",
     "output_type": "stream",
     "text": [
      " 17%|████████████▏                                                            | 67/400 [04:27<17:49,  3.21s/it]"
     ]
    },
    {
     "name": "stdout",
     "output_type": "stream",
     "text": [
      "92\n",
      "0.0\n",
      "120.0\n"
     ]
    },
    {
     "name": "stderr",
     "output_type": "stream",
     "text": [
      " 17%|████████████▍                                                            | 68/400 [04:32<21:21,  3.86s/it]"
     ]
    },
    {
     "name": "stdout",
     "output_type": "stream",
     "text": [
      "233\n",
      "0.0\n",
      "120.0\n"
     ]
    },
    {
     "name": "stderr",
     "output_type": "stream",
     "text": [
      " 18%|████████████▊                                                            | 70/400 [04:33<11:51,  2.16s/it]"
     ]
    },
    {
     "name": "stdout",
     "output_type": "stream",
     "text": [
      "193\n",
      "0.0\n",
      "120.0\n",
      "187\n",
      "0.0\n",
      "120.0\n"
     ]
    },
    {
     "name": "stderr",
     "output_type": "stream",
     "text": [
      " 18%|████████████▉                                                            | 71/400 [04:36<12:16,  2.24s/it]"
     ]
    },
    {
     "name": "stdout",
     "output_type": "stream",
     "text": [
      "59\n",
      "0.0\n",
      "120.0\n"
     ]
    },
    {
     "name": "stderr",
     "output_type": "stream",
     "text": [
      " 18%|█████████████▏                                                           | 72/400 [04:43<20:23,  3.73s/it]"
     ]
    },
    {
     "name": "stdout",
     "output_type": "stream",
     "text": [
      "143\n",
      "0.0\n",
      "120.0\n"
     ]
    },
    {
     "name": "stderr",
     "output_type": "stream",
     "text": [
      " 18%|█████████████▎                                                           | 73/400 [04:45<17:57,  3.29s/it]"
     ]
    },
    {
     "name": "stdout",
     "output_type": "stream",
     "text": [
      "99\n",
      "0.0\n",
      "120.0\n"
     ]
    },
    {
     "name": "stderr",
     "output_type": "stream",
     "text": [
      " 18%|█████████████▌                                                           | 74/400 [04:46<13:43,  2.53s/it]"
     ]
    },
    {
     "name": "stdout",
     "output_type": "stream",
     "text": [
      "289\n",
      "0.0\n",
      "120.0\n"
     ]
    },
    {
     "name": "stderr",
     "output_type": "stream",
     "text": [
      " 19%|█████████████▋                                                           | 75/400 [04:50<15:34,  2.88s/it]"
     ]
    },
    {
     "name": "stdout",
     "output_type": "stream",
     "text": [
      "76\n",
      "0.0\n",
      "120.0\n"
     ]
    },
    {
     "name": "stderr",
     "output_type": "stream",
     "text": [
      " 19%|█████████████▊                                                           | 76/400 [04:51<12:42,  2.35s/it]"
     ]
    },
    {
     "name": "stdout",
     "output_type": "stream",
     "text": [
      "127\n",
      "0.0\n",
      "120.0\n"
     ]
    },
    {
     "name": "stderr",
     "output_type": "stream",
     "text": [
      " 19%|██████████████                                                           | 77/400 [05:01<24:17,  4.51s/it]"
     ]
    },
    {
     "name": "stdout",
     "output_type": "stream",
     "text": [
      "80\n",
      "0.0\n",
      "120.0\n"
     ]
    },
    {
     "name": "stderr",
     "output_type": "stream",
     "text": [
      " 20%|██████████████▏                                                          | 78/400 [05:05<23:55,  4.46s/it]"
     ]
    },
    {
     "name": "stdout",
     "output_type": "stream",
     "text": [
      "187\n",
      "0.0\n",
      "120.0\n"
     ]
    },
    {
     "name": "stderr",
     "output_type": "stream",
     "text": [
      " 20%|██████████████▍                                                          | 79/400 [05:11<26:50,  5.02s/it]"
     ]
    },
    {
     "name": "stdout",
     "output_type": "stream",
     "text": [
      "121\n",
      "0.0\n",
      "120.0\n"
     ]
    },
    {
     "name": "stderr",
     "output_type": "stream",
     "text": [
      " 20%|██████████████▌                                                          | 80/400 [05:12<20:29,  3.84s/it]"
     ]
    },
    {
     "name": "stdout",
     "output_type": "stream",
     "text": [
      "152\n",
      "0.0\n",
      "120.0\n"
     ]
    },
    {
     "name": "stderr",
     "output_type": "stream",
     "text": [
      " 20%|██████████████▊                                                          | 81/400 [05:25<35:03,  6.59s/it]"
     ]
    },
    {
     "name": "stdout",
     "output_type": "stream",
     "text": [
      "59\n",
      "0.0\n",
      "120.0\n"
     ]
    },
    {
     "name": "stderr",
     "output_type": "stream",
     "text": [
      " 20%|██████████████▉                                                          | 82/400 [05:34<37:38,  7.10s/it]"
     ]
    },
    {
     "name": "stdout",
     "output_type": "stream",
     "text": [
      "59\n",
      "0.0\n",
      "120.0\n"
     ]
    },
    {
     "name": "stderr",
     "output_type": "stream",
     "text": [
      " 21%|███████████████▏                                                         | 83/400 [05:37<31:52,  6.03s/it]"
     ]
    },
    {
     "name": "stdout",
     "output_type": "stream",
     "text": [
      "120\n",
      "0.0\n",
      "120.0\n"
     ]
    },
    {
     "name": "stderr",
     "output_type": "stream",
     "text": [
      " 21%|███████████████▎                                                         | 84/400 [05:38<23:58,  4.55s/it]"
     ]
    },
    {
     "name": "stdout",
     "output_type": "stream",
     "text": [
      "219\n",
      "0.0\n",
      "120.0\n"
     ]
    },
    {
     "name": "stderr",
     "output_type": "stream",
     "text": [
      " 21%|███████████████▌                                                         | 85/400 [05:42<22:59,  4.38s/it]"
     ]
    },
    {
     "name": "stdout",
     "output_type": "stream",
     "text": [
      "221\n",
      "0.0\n",
      "120.0\n"
     ]
    },
    {
     "name": "stderr",
     "output_type": "stream",
     "text": [
      " 22%|███████████████▋                                                         | 86/400 [05:45<19:45,  3.77s/it]"
     ]
    },
    {
     "name": "stdout",
     "output_type": "stream",
     "text": [
      "37\n",
      "0.0\n",
      "120.0\n"
     ]
    },
    {
     "name": "stderr",
     "output_type": "stream",
     "text": [
      " 22%|███████████████▉                                                         | 87/400 [05:47<17:42,  3.39s/it]"
     ]
    },
    {
     "name": "stdout",
     "output_type": "stream",
     "text": [
      "278\n",
      "0.0\n",
      "120.0\n"
     ]
    },
    {
     "name": "stderr",
     "output_type": "stream",
     "text": [
      " 22%|████████████████                                                         | 88/400 [06:00<32:02,  6.16s/it]"
     ]
    },
    {
     "name": "stdout",
     "output_type": "stream",
     "text": [
      "158\n",
      "0.0\n",
      "120.0\n"
     ]
    },
    {
     "name": "stderr",
     "output_type": "stream",
     "text": [
      " 22%|████████████████▏                                                        | 89/400 [06:04<28:54,  5.58s/it]"
     ]
    },
    {
     "name": "stdout",
     "output_type": "stream",
     "text": [
      "247\n",
      "0.0\n",
      "120.0\n"
     ]
    },
    {
     "name": "stderr",
     "output_type": "stream",
     "text": [
      " 22%|████████████████▍                                                        | 90/400 [06:12<32:51,  6.36s/it]"
     ]
    },
    {
     "name": "stdout",
     "output_type": "stream",
     "text": [
      "102\n",
      "0.0\n",
      "120.0\n"
     ]
    },
    {
     "name": "stderr",
     "output_type": "stream",
     "text": [
      " 23%|████████████████▌                                                        | 91/400 [06:13<24:42,  4.80s/it]"
     ]
    },
    {
     "name": "stdout",
     "output_type": "stream",
     "text": [
      "48\n",
      "0.0\n",
      "120.0\n"
     ]
    },
    {
     "name": "stderr",
     "output_type": "stream",
     "text": [
      " 23%|████████████████▊                                                        | 92/400 [06:16<21:16,  4.15s/it]"
     ]
    },
    {
     "name": "stdout",
     "output_type": "stream",
     "text": [
      "161\n",
      "0.0\n",
      "120.0\n"
     ]
    },
    {
     "name": "stderr",
     "output_type": "stream",
     "text": [
      " 23%|████████████████▉                                                        | 93/400 [06:25<28:22,  5.54s/it]"
     ]
    },
    {
     "name": "stdout",
     "output_type": "stream",
     "text": [
      "228\n",
      "0.0\n",
      "120.0\n"
     ]
    },
    {
     "name": "stderr",
     "output_type": "stream",
     "text": [
      " 24%|█████████████████▏                                                       | 94/400 [06:27<23:26,  4.59s/it]"
     ]
    },
    {
     "name": "stdout",
     "output_type": "stream",
     "text": [
      "215\n",
      "0.0\n",
      "120.0\n"
     ]
    },
    {
     "name": "stderr",
     "output_type": "stream",
     "text": [
      " 24%|█████████████████▎                                                       | 95/400 [06:36<29:44,  5.85s/it]"
     ]
    },
    {
     "name": "stdout",
     "output_type": "stream",
     "text": [
      "12\n",
      "0.0\n",
      "120.0\n"
     ]
    },
    {
     "name": "stderr",
     "output_type": "stream",
     "text": [
      " 24%|█████████████████▌                                                       | 96/400 [06:37<23:10,  4.58s/it]"
     ]
    },
    {
     "name": "stdout",
     "output_type": "stream",
     "text": [
      "65\n",
      "0.0\n",
      "120.0\n"
     ]
    },
    {
     "name": "stderr",
     "output_type": "stream",
     "text": [
      " 24%|█████████████████▋                                                       | 97/400 [06:42<23:05,  4.57s/it]"
     ]
    },
    {
     "name": "stdout",
     "output_type": "stream",
     "text": [
      "228\n",
      "0.0\n",
      "120.0\n"
     ]
    },
    {
     "name": "stderr",
     "output_type": "stream",
     "text": [
      " 24%|█████████████████▉                                                       | 98/400 [06:50<28:47,  5.72s/it]"
     ]
    },
    {
     "name": "stdout",
     "output_type": "stream",
     "text": [
      "193\n",
      "0.0\n",
      "120.0\n"
     ]
    },
    {
     "name": "stderr",
     "output_type": "stream",
     "text": [
      " 25%|██████████████████                                                       | 99/400 [06:52<23:11,  4.62s/it]"
     ]
    },
    {
     "name": "stdout",
     "output_type": "stream",
     "text": [
      "228\n",
      "0.0\n",
      "120.0\n"
     ]
    },
    {
     "name": "stderr",
     "output_type": "stream",
     "text": [
      " 25%|██████████████████                                                      | 100/400 [06:53<16:32,  3.31s/it]"
     ]
    },
    {
     "name": "stdout",
     "output_type": "stream",
     "text": [
      "123\n",
      "0.0\n",
      "120.0\n"
     ]
    },
    {
     "name": "stderr",
     "output_type": "stream",
     "text": [
      " 25%|██████████████████▏                                                     | 101/400 [06:53<12:34,  2.52s/it]"
     ]
    },
    {
     "name": "stdout",
     "output_type": "stream",
     "text": [
      "253\n",
      "0.0\n",
      "120.0\n"
     ]
    },
    {
     "name": "stderr",
     "output_type": "stream",
     "text": [
      " 26%|██████████████████▎                                                     | 102/400 [07:00<18:53,  3.80s/it]"
     ]
    },
    {
     "name": "stdout",
     "output_type": "stream",
     "text": [
      "189\n",
      "0.0\n",
      "120.0\n"
     ]
    },
    {
     "name": "stderr",
     "output_type": "stream",
     "text": [
      " 26%|██████████████████▌                                                     | 103/400 [07:01<14:33,  2.94s/it]"
     ]
    },
    {
     "name": "stdout",
     "output_type": "stream",
     "text": [
      "36\n",
      "0.0\n",
      "120.0\n"
     ]
    },
    {
     "name": "stderr",
     "output_type": "stream",
     "text": [
      " 26%|██████████████████▋                                                     | 104/400 [07:11<25:16,  5.12s/it]"
     ]
    },
    {
     "name": "stdout",
     "output_type": "stream",
     "text": [
      "151\n",
      "0.0\n",
      "120.0\n"
     ]
    },
    {
     "name": "stderr",
     "output_type": "stream",
     "text": [
      " 26%|██████████████████▉                                                     | 105/400 [07:17<25:21,  5.16s/it]"
     ]
    },
    {
     "name": "stdout",
     "output_type": "stream",
     "text": [
      "170\n",
      "0.0\n",
      "120.0\n"
     ]
    },
    {
     "name": "stderr",
     "output_type": "stream",
     "text": [
      " 26%|███████████████████                                                     | 106/400 [07:30<37:01,  7.56s/it]"
     ]
    },
    {
     "name": "stdout",
     "output_type": "stream",
     "text": [
      "101\n",
      "0.0\n",
      "120.0\n"
     ]
    },
    {
     "name": "stderr",
     "output_type": "stream",
     "text": [
      " 27%|███████████████████▎                                                    | 107/400 [07:33<30:48,  6.31s/it]"
     ]
    },
    {
     "name": "stdout",
     "output_type": "stream",
     "text": [
      "131\n",
      "0.0\n",
      "120.0\n"
     ]
    },
    {
     "name": "stderr",
     "output_type": "stream",
     "text": [
      " 27%|███████████████████▍                                                    | 108/400 [07:35<24:03,  4.94s/it]"
     ]
    },
    {
     "name": "stdout",
     "output_type": "stream",
     "text": [
      "110\n",
      "0.0\n",
      "120.0\n"
     ]
    },
    {
     "name": "stderr",
     "output_type": "stream",
     "text": [
      " 28%|███████████████████▊                                                    | 110/400 [07:36<13:13,  2.74s/it]"
     ]
    },
    {
     "name": "stdout",
     "output_type": "stream",
     "text": [
      "279\n",
      "0.0\n",
      "120.0\n",
      "289\n",
      "0.0\n",
      "120.0\n"
     ]
    },
    {
     "name": "stderr",
     "output_type": "stream",
     "text": [
      " 28%|███████████████████▉                                                    | 111/400 [07:45<21:05,  4.38s/it]"
     ]
    },
    {
     "name": "stdout",
     "output_type": "stream",
     "text": [
      "202\n",
      "0.0\n",
      "120.0\n"
     ]
    },
    {
     "name": "stderr",
     "output_type": "stream",
     "text": [
      " 28%|████████████████████▏                                                   | 112/400 [07:50<22:44,  4.74s/it]"
     ]
    },
    {
     "name": "stdout",
     "output_type": "stream",
     "text": [
      "118\n",
      "0.0\n",
      "120.0\n"
     ]
    },
    {
     "name": "stderr",
     "output_type": "stream",
     "text": [
      " 28%|████████████████████▎                                                   | 113/400 [07:53<19:24,  4.06s/it]"
     ]
    },
    {
     "name": "stdout",
     "output_type": "stream",
     "text": [
      "43\n",
      "0.0\n",
      "120.0\n"
     ]
    },
    {
     "name": "stderr",
     "output_type": "stream",
     "text": [
      " 28%|████████████████████▌                                                   | 114/400 [07:58<21:21,  4.48s/it]"
     ]
    },
    {
     "name": "stdout",
     "output_type": "stream",
     "text": [
      "113\n",
      "0.0\n",
      "120.0\n"
     ]
    },
    {
     "name": "stderr",
     "output_type": "stream",
     "text": [
      " 29%|████████████████████▋                                                   | 115/400 [07:58<15:29,  3.26s/it]"
     ]
    },
    {
     "name": "stdout",
     "output_type": "stream",
     "text": [
      "199\n",
      "0.0\n",
      "120.0\n"
     ]
    },
    {
     "name": "stderr",
     "output_type": "stream",
     "text": [
      " 29%|████████████████████▉                                                   | 116/400 [08:00<13:15,  2.80s/it]"
     ]
    },
    {
     "name": "stdout",
     "output_type": "stream",
     "text": [
      "116\n",
      "0.0\n",
      "120.0\n"
     ]
    },
    {
     "name": "stderr",
     "output_type": "stream",
     "text": [
      " 29%|█████████████████████                                                   | 117/400 [08:04<15:03,  3.19s/it]"
     ]
    },
    {
     "name": "stdout",
     "output_type": "stream",
     "text": [
      "60\n",
      "0.0\n",
      "120.0\n"
     ]
    },
    {
     "name": "stderr",
     "output_type": "stream",
     "text": [
      " 30%|█████████████████████▏                                                  | 118/400 [08:05<11:17,  2.40s/it]"
     ]
    },
    {
     "name": "stdout",
     "output_type": "stream",
     "text": [
      "97\n",
      "0.0\n",
      "120.0\n"
     ]
    },
    {
     "name": "stderr",
     "output_type": "stream",
     "text": [
      " 30%|█████████████████████▍                                                  | 119/400 [08:06<09:44,  2.08s/it]"
     ]
    },
    {
     "name": "stdout",
     "output_type": "stream",
     "text": [
      "246\n",
      "0.0\n",
      "120.0\n"
     ]
    },
    {
     "name": "stderr",
     "output_type": "stream",
     "text": [
      " 30%|█████████████████████▌                                                  | 120/400 [08:07<07:47,  1.67s/it]"
     ]
    },
    {
     "name": "stdout",
     "output_type": "stream",
     "text": [
      "194\n",
      "0.0\n",
      "120.0\n"
     ]
    },
    {
     "name": "stderr",
     "output_type": "stream",
     "text": [
      " 30%|█████████████████████▊                                                  | 121/400 [08:10<09:56,  2.14s/it]"
     ]
    },
    {
     "name": "stdout",
     "output_type": "stream",
     "text": [
      "160\n",
      "0.0\n",
      "120.0\n"
     ]
    },
    {
     "name": "stderr",
     "output_type": "stream",
     "text": [
      " 30%|█████████████████████▉                                                  | 122/400 [08:17<16:56,  3.66s/it]"
     ]
    },
    {
     "name": "stdout",
     "output_type": "stream",
     "text": [
      "197\n",
      "0.0\n",
      "120.0\n"
     ]
    },
    {
     "name": "stderr",
     "output_type": "stream",
     "text": [
      " 31%|██████████████████████▏                                                 | 123/400 [08:23<19:04,  4.13s/it]"
     ]
    },
    {
     "name": "stdout",
     "output_type": "stream",
     "text": [
      "53\n",
      "0.0\n",
      "120.0\n"
     ]
    },
    {
     "name": "stderr",
     "output_type": "stream",
     "text": [
      " 31%|██████████████████████▎                                                 | 124/400 [08:31<24:29,  5.32s/it]"
     ]
    },
    {
     "name": "stdout",
     "output_type": "stream",
     "text": [
      "137\n",
      "0.0\n",
      "120.0\n"
     ]
    },
    {
     "name": "stderr",
     "output_type": "stream",
     "text": [
      " 31%|██████████████████████▌                                                 | 125/400 [08:37<26:23,  5.76s/it]"
     ]
    },
    {
     "name": "stdout",
     "output_type": "stream",
     "text": [
      "2\n",
      "0.0\n",
      "120.0\n"
     ]
    },
    {
     "name": "stderr",
     "output_type": "stream",
     "text": [
      " 32%|██████████████████████▋                                                 | 126/400 [08:39<20:15,  4.43s/it]"
     ]
    },
    {
     "name": "stdout",
     "output_type": "stream",
     "text": [
      "128\n",
      "0.0\n",
      "120.0\n"
     ]
    },
    {
     "name": "stderr",
     "output_type": "stream",
     "text": [
      " 32%|██████████████████████▊                                                 | 127/400 [08:39<14:51,  3.26s/it]"
     ]
    },
    {
     "name": "stdout",
     "output_type": "stream",
     "text": [
      "247\n",
      "0.0\n",
      "120.0\n"
     ]
    },
    {
     "name": "stderr",
     "output_type": "stream",
     "text": [
      " 32%|███████████████████████                                                 | 128/400 [08:40<11:54,  2.63s/it]"
     ]
    },
    {
     "name": "stdout",
     "output_type": "stream",
     "text": [
      "6\n",
      "0.0\n",
      "120.0\n"
     ]
    },
    {
     "name": "stderr",
     "output_type": "stream",
     "text": [
      " 32%|███████████████████████▏                                                | 129/400 [08:41<08:41,  1.92s/it]"
     ]
    },
    {
     "name": "stdout",
     "output_type": "stream",
     "text": [
      "212\n",
      "0.0\n",
      "120.0\n"
     ]
    },
    {
     "name": "stderr",
     "output_type": "stream",
     "text": [
      " 32%|███████████████████████▍                                                | 130/400 [08:47<13:56,  3.10s/it]"
     ]
    },
    {
     "name": "stdout",
     "output_type": "stream",
     "text": [
      "124\n",
      "0.0\n",
      "120.0\n"
     ]
    },
    {
     "name": "stderr",
     "output_type": "stream",
     "text": [
      " 33%|███████████████████████▌                                                | 131/400 [08:47<10:44,  2.40s/it]"
     ]
    },
    {
     "name": "stdout",
     "output_type": "stream",
     "text": [
      "166\n",
      "0.0\n",
      "120.0\n"
     ]
    },
    {
     "name": "stderr",
     "output_type": "stream",
     "text": [
      " 33%|███████████████████████▊                                                | 132/400 [08:50<10:46,  2.41s/it]"
     ]
    },
    {
     "name": "stdout",
     "output_type": "stream",
     "text": [
      "177\n",
      "0.0\n",
      "120.0\n"
     ]
    },
    {
     "name": "stderr",
     "output_type": "stream",
     "text": [
      " 33%|███████████████████████▉                                                | 133/400 [08:51<08:55,  2.01s/it]"
     ]
    },
    {
     "name": "stdout",
     "output_type": "stream",
     "text": [
      "63\n",
      "0.0\n",
      "120.0\n"
     ]
    },
    {
     "name": "stderr",
     "output_type": "stream",
     "text": [
      " 34%|████████████████████████                                                | 134/400 [08:53<09:38,  2.18s/it]"
     ]
    },
    {
     "name": "stdout",
     "output_type": "stream",
     "text": [
      "205\n",
      "0.0\n",
      "120.0\n"
     ]
    },
    {
     "name": "stderr",
     "output_type": "stream",
     "text": [
      " 34%|████████████████████████▎                                               | 135/400 [08:58<12:38,  2.86s/it]"
     ]
    },
    {
     "name": "stdout",
     "output_type": "stream",
     "text": [
      "150\n",
      "0.0\n",
      "120.0\n"
     ]
    },
    {
     "name": "stderr",
     "output_type": "stream",
     "text": [
      " 34%|████████████████████████▍                                               | 136/400 [09:03<15:39,  3.56s/it]"
     ]
    },
    {
     "name": "stdout",
     "output_type": "stream",
     "text": [
      "189\n",
      "0.0\n",
      "120.0\n"
     ]
    },
    {
     "name": "stderr",
     "output_type": "stream",
     "text": [
      " 34%|████████████████████████▋                                               | 137/400 [09:08<17:44,  4.05s/it]"
     ]
    },
    {
     "name": "stdout",
     "output_type": "stream",
     "text": [
      "193\n",
      "0.0\n",
      "120.0\n"
     ]
    },
    {
     "name": "stderr",
     "output_type": "stream",
     "text": [
      " 34%|████████████████████████▊                                               | 138/400 [09:09<13:03,  2.99s/it]"
     ]
    },
    {
     "name": "stdout",
     "output_type": "stream",
     "text": [
      "273\n",
      "0.0\n",
      "120.0\n"
     ]
    },
    {
     "name": "stderr",
     "output_type": "stream",
     "text": [
      " 35%|█████████████████████████                                               | 139/400 [09:10<10:29,  2.41s/it]"
     ]
    },
    {
     "name": "stdout",
     "output_type": "stream",
     "text": [
      "235\n",
      "0.0\n",
      "120.0\n"
     ]
    },
    {
     "name": "stderr",
     "output_type": "stream",
     "text": [
      " 35%|█████████████████████████▏                                              | 140/400 [09:13<10:52,  2.51s/it]"
     ]
    },
    {
     "name": "stdout",
     "output_type": "stream",
     "text": [
      "65\n",
      "0.0\n",
      "120.0\n"
     ]
    },
    {
     "name": "stderr",
     "output_type": "stream",
     "text": [
      " 35%|█████████████████████████▍                                              | 141/400 [09:15<11:06,  2.57s/it]"
     ]
    },
    {
     "name": "stdout",
     "output_type": "stream",
     "text": [
      "80\n",
      "0.0\n",
      "120.0\n"
     ]
    },
    {
     "name": "stderr",
     "output_type": "stream",
     "text": [
      " 36%|█████████████████████████▌                                              | 142/400 [09:17<10:33,  2.45s/it]"
     ]
    },
    {
     "name": "stdout",
     "output_type": "stream",
     "text": [
      "138\n",
      "0.0\n",
      "120.0\n"
     ]
    },
    {
     "name": "stderr",
     "output_type": "stream",
     "text": [
      " 36%|█████████████████████████▋                                              | 143/400 [09:20<10:49,  2.53s/it]"
     ]
    },
    {
     "name": "stdout",
     "output_type": "stream",
     "text": [
      "27\n",
      "0.0\n",
      "120.0\n",
      "197\n",
      "0.0\n",
      "120.0\n"
     ]
    },
    {
     "name": "stderr",
     "output_type": "stream",
     "text": [
      " 36%|██████████████████████████▎                                             | 146/400 [09:22<05:43,  1.35s/it]"
     ]
    },
    {
     "name": "stdout",
     "output_type": "stream",
     "text": [
      "221\n",
      "0.0\n",
      "120.0\n",
      "235\n",
      "0.0\n",
      "120.0\n"
     ]
    },
    {
     "name": "stderr",
     "output_type": "stream",
     "text": [
      " 37%|██████████████████████████▍                                             | 147/400 [09:25<07:18,  1.73s/it]"
     ]
    },
    {
     "name": "stdout",
     "output_type": "stream",
     "text": [
      "257\n",
      "0.0\n",
      "120.0\n"
     ]
    },
    {
     "name": "stderr",
     "output_type": "stream",
     "text": [
      " 37%|██████████████████████████▋                                             | 148/400 [09:26<06:08,  1.46s/it]"
     ]
    },
    {
     "name": "stdout",
     "output_type": "stream",
     "text": [
      "102\n",
      "0.0\n",
      "120.0\n"
     ]
    },
    {
     "name": "stderr",
     "output_type": "stream",
     "text": [
      " 37%|██████████████████████████▊                                             | 149/400 [09:28<06:46,  1.62s/it]"
     ]
    },
    {
     "name": "stdout",
     "output_type": "stream",
     "text": [
      "102\n",
      "0.0\n",
      "120.0\n"
     ]
    },
    {
     "name": "stderr",
     "output_type": "stream",
     "text": [
      " 38%|███████████████████████████                                             | 150/400 [09:29<06:12,  1.49s/it]"
     ]
    },
    {
     "name": "stdout",
     "output_type": "stream",
     "text": [
      "157\n",
      "0.0\n",
      "120.0\n"
     ]
    },
    {
     "name": "stderr",
     "output_type": "stream",
     "text": [
      " 38%|███████████████████████████▏                                            | 151/400 [09:33<09:20,  2.25s/it]"
     ]
    },
    {
     "name": "stdout",
     "output_type": "stream",
     "text": [
      "227\n",
      "0.0\n",
      "120.0\n"
     ]
    },
    {
     "name": "stderr",
     "output_type": "stream",
     "text": [
      " 38%|███████████████████████████▎                                            | 152/400 [09:36<10:28,  2.53s/it]"
     ]
    },
    {
     "name": "stdout",
     "output_type": "stream",
     "text": [
      "97\n",
      "0.0\n",
      "120.0\n"
     ]
    },
    {
     "name": "stderr",
     "output_type": "stream",
     "text": [
      " 38%|███████████████████████████▌                                            | 153/400 [09:43<15:53,  3.86s/it]"
     ]
    },
    {
     "name": "stdout",
     "output_type": "stream",
     "text": [
      "4\n",
      "0.0\n",
      "120.0\n"
     ]
    },
    {
     "name": "stderr",
     "output_type": "stream",
     "text": [
      " 38%|███████████████████████████▋                                            | 154/400 [09:46<14:17,  3.49s/it]"
     ]
    },
    {
     "name": "stdout",
     "output_type": "stream",
     "text": [
      "156\n",
      "0.0\n",
      "120.0\n"
     ]
    },
    {
     "name": "stderr",
     "output_type": "stream",
     "text": [
      " 39%|███████████████████████████▉                                            | 155/400 [09:46<10:19,  2.53s/it]"
     ]
    },
    {
     "name": "stdout",
     "output_type": "stream",
     "text": [
      "96\n",
      "0.0\n",
      "120.0\n"
     ]
    },
    {
     "name": "stderr",
     "output_type": "stream",
     "text": [
      " 39%|████████████████████████████                                            | 156/400 [09:47<08:15,  2.03s/it]"
     ]
    },
    {
     "name": "stdout",
     "output_type": "stream",
     "text": [
      "117\n",
      "0.0\n",
      "120.0\n"
     ]
    },
    {
     "name": "stderr",
     "output_type": "stream",
     "text": [
      " 39%|████████████████████████████▎                                           | 157/400 [09:49<07:55,  1.96s/it]"
     ]
    },
    {
     "name": "stdout",
     "output_type": "stream",
     "text": [
      "235\n",
      "0.0\n",
      "120.0\n"
     ]
    },
    {
     "name": "stderr",
     "output_type": "stream",
     "text": [
      " 40%|████████████████████████████▍                                           | 158/400 [09:50<07:04,  1.75s/it]"
     ]
    },
    {
     "name": "stdout",
     "output_type": "stream",
     "text": [
      "210\n",
      "0.0\n",
      "120.0\n"
     ]
    },
    {
     "name": "stderr",
     "output_type": "stream",
     "text": [
      " 40%|████████████████████████████▌                                           | 159/400 [09:54<09:25,  2.35s/it]"
     ]
    },
    {
     "name": "stdout",
     "output_type": "stream",
     "text": [
      "144\n",
      "0.0\n",
      "120.0\n"
     ]
    },
    {
     "name": "stderr",
     "output_type": "stream",
     "text": [
      " 40%|████████████████████████████▊                                           | 160/400 [10:02<16:29,  4.12s/it]"
     ]
    },
    {
     "name": "stdout",
     "output_type": "stream",
     "text": [
      "246\n",
      "0.0\n",
      "120.0\n"
     ]
    },
    {
     "name": "stderr",
     "output_type": "stream",
     "text": [
      " 40%|████████████████████████████▉                                           | 161/400 [10:08<18:31,  4.65s/it]"
     ]
    },
    {
     "name": "stdout",
     "output_type": "stream",
     "text": [
      "8\n",
      "0.0\n",
      "120.0\n"
     ]
    },
    {
     "name": "stderr",
     "output_type": "stream",
     "text": [
      " 40%|█████████████████████████████▏                                          | 162/400 [10:17<24:18,  6.13s/it]"
     ]
    },
    {
     "name": "stdout",
     "output_type": "stream",
     "text": [
      "132\n",
      "0.0\n",
      "120.0\n"
     ]
    },
    {
     "name": "stderr",
     "output_type": "stream",
     "text": [
      " 41%|█████████████████████████████▎                                          | 163/400 [10:22<23:02,  5.83s/it]"
     ]
    },
    {
     "name": "stdout",
     "output_type": "stream",
     "text": [
      "243\n",
      "0.0\n",
      "120.0\n"
     ]
    },
    {
     "name": "stderr",
     "output_type": "stream",
     "text": [
      " 41%|█████████████████████████████▌                                          | 164/400 [10:29<23:31,  5.98s/it]"
     ]
    },
    {
     "name": "stdout",
     "output_type": "stream",
     "text": [
      "202\n",
      "0.0\n",
      "120.0\n"
     ]
    },
    {
     "name": "stderr",
     "output_type": "stream",
     "text": [
      " 41%|█████████████████████████████▋                                          | 165/400 [10:33<21:36,  5.51s/it]"
     ]
    },
    {
     "name": "stdout",
     "output_type": "stream",
     "text": [
      "60\n",
      "0.0\n",
      "120.0\n"
     ]
    },
    {
     "name": "stderr",
     "output_type": "stream",
     "text": [
      " 42%|█████████████████████████████▉                                          | 166/400 [10:38<20:06,  5.16s/it]"
     ]
    },
    {
     "name": "stdout",
     "output_type": "stream",
     "text": [
      "66\n",
      "0.0\n",
      "120.0\n"
     ]
    },
    {
     "name": "stderr",
     "output_type": "stream",
     "text": [
      " 42%|██████████████████████████████                                          | 167/400 [10:38<14:56,  3.85s/it]"
     ]
    },
    {
     "name": "stdout",
     "output_type": "stream",
     "text": [
      "217\n",
      "0.0\n",
      "120.0\n"
     ]
    },
    {
     "name": "stderr",
     "output_type": "stream",
     "text": [
      " 42%|██████████████████████████████▏                                         | 168/400 [10:40<12:02,  3.12s/it]"
     ]
    },
    {
     "name": "stdout",
     "output_type": "stream",
     "text": [
      "238\n",
      "0.0\n",
      "120.0\n"
     ]
    },
    {
     "name": "stderr",
     "output_type": "stream",
     "text": [
      " 42%|██████████████████████████████▍                                         | 169/400 [10:41<09:57,  2.58s/it]"
     ]
    },
    {
     "name": "stdout",
     "output_type": "stream",
     "text": [
      "162\n",
      "0.0\n",
      "120.0\n"
     ]
    },
    {
     "name": "stderr",
     "output_type": "stream",
     "text": [
      " 42%|██████████████████████████████▌                                         | 170/400 [10:43<08:35,  2.24s/it]"
     ]
    },
    {
     "name": "stdout",
     "output_type": "stream",
     "text": [
      "87\n",
      "0.0\n",
      "120.0\n"
     ]
    },
    {
     "name": "stderr",
     "output_type": "stream",
     "text": [
      " 43%|██████████████████████████████▊                                         | 171/400 [10:43<06:25,  1.68s/it]"
     ]
    },
    {
     "name": "stdout",
     "output_type": "stream",
     "text": [
      "123\n",
      "0.0\n",
      "120.0\n"
     ]
    },
    {
     "name": "stderr",
     "output_type": "stream",
     "text": [
      " 43%|███████████████████████████████▏                                        | 173/400 [10:43<03:26,  1.10it/s]"
     ]
    },
    {
     "name": "stdout",
     "output_type": "stream",
     "text": [
      "45\n",
      "0.0\n",
      "120.0\n",
      "112\n",
      "0.0\n",
      "120.0\n"
     ]
    },
    {
     "name": "stderr",
     "output_type": "stream",
     "text": [
      " 44%|███████████████████████████████▎                                        | 174/400 [10:57<17:35,  4.67s/it]"
     ]
    },
    {
     "name": "stdout",
     "output_type": "stream",
     "text": [
      "33\n",
      "0.0\n",
      "120.0\n"
     ]
    },
    {
     "name": "stderr",
     "output_type": "stream",
     "text": [
      " 44%|███████████████████████████████▌                                        | 175/400 [11:00<16:14,  4.33s/it]"
     ]
    },
    {
     "name": "stdout",
     "output_type": "stream",
     "text": [
      "103\n",
      "0.0\n",
      "120.0\n"
     ]
    },
    {
     "name": "stderr",
     "output_type": "stream",
     "text": [
      " 44%|███████████████████████████████▋                                        | 176/400 [11:03<14:11,  3.80s/it]"
     ]
    },
    {
     "name": "stdout",
     "output_type": "stream",
     "text": [
      "95\n",
      "0.0\n",
      "120.0\n"
     ]
    },
    {
     "name": "stderr",
     "output_type": "stream",
     "text": [
      " 44%|███████████████████████████████▊                                        | 177/400 [11:07<15:04,  4.06s/it]"
     ]
    },
    {
     "name": "stdout",
     "output_type": "stream",
     "text": [
      "73\n",
      "0.0\n",
      "120.0\n"
     ]
    },
    {
     "name": "stderr",
     "output_type": "stream",
     "text": [
      " 44%|████████████████████████████████                                        | 178/400 [11:15<19:10,  5.18s/it]"
     ]
    },
    {
     "name": "stdout",
     "output_type": "stream",
     "text": [
      "142\n",
      "0.0\n",
      "120.0\n"
     ]
    },
    {
     "name": "stderr",
     "output_type": "stream",
     "text": [
      " 45%|████████████████████████████████▏                                       | 179/400 [11:23<22:03,  5.99s/it]"
     ]
    },
    {
     "name": "stdout",
     "output_type": "stream",
     "text": [
      "212\n",
      "0.0\n",
      "120.0\n"
     ]
    },
    {
     "name": "stderr",
     "output_type": "stream",
     "text": [
      " 45%|████████████████████████████████▍                                       | 180/400 [11:26<18:24,  5.02s/it]"
     ]
    },
    {
     "name": "stdout",
     "output_type": "stream",
     "text": [
      "194\n",
      "0.0\n",
      "120.0\n"
     ]
    },
    {
     "name": "stderr",
     "output_type": "stream",
     "text": [
      " 45%|████████████████████████████████▌                                       | 181/400 [11:32<19:06,  5.24s/it]"
     ]
    },
    {
     "name": "stdout",
     "output_type": "stream",
     "text": [
      "124\n",
      "0.0\n",
      "120.0\n"
     ]
    },
    {
     "name": "stderr",
     "output_type": "stream",
     "text": [
      " 46%|████████████████████████████████▊                                       | 182/400 [11:34<15:34,  4.29s/it]"
     ]
    },
    {
     "name": "stdout",
     "output_type": "stream",
     "text": [
      "205\n",
      "0.0\n",
      "120.0\n"
     ]
    },
    {
     "name": "stderr",
     "output_type": "stream",
     "text": [
      " 46%|████████████████████████████████▉                                       | 183/400 [11:38<15:15,  4.22s/it]"
     ]
    },
    {
     "name": "stdout",
     "output_type": "stream",
     "text": [
      "60\n",
      "0.0\n",
      "120.0\n"
     ]
    },
    {
     "name": "stderr",
     "output_type": "stream",
     "text": [
      " 46%|█████████████████████████████████                                       | 184/400 [11:40<12:52,  3.58s/it]"
     ]
    },
    {
     "name": "stdout",
     "output_type": "stream",
     "text": [
      "65\n",
      "0.0\n",
      "120.0\n"
     ]
    },
    {
     "name": "stderr",
     "output_type": "stream",
     "text": [
      " 46%|█████████████████████████████████▎                                      | 185/400 [11:41<10:07,  2.82s/it]"
     ]
    },
    {
     "name": "stdout",
     "output_type": "stream",
     "text": [
      "37\n",
      "0.0\n",
      "120.0\n"
     ]
    },
    {
     "name": "stderr",
     "output_type": "stream",
     "text": [
      " 46%|█████████████████████████████████▍                                      | 186/400 [11:41<07:29,  2.10s/it]"
     ]
    },
    {
     "name": "stdout",
     "output_type": "stream",
     "text": [
      "83\n",
      "0.0\n",
      "120.0\n"
     ]
    },
    {
     "name": "stderr",
     "output_type": "stream",
     "text": [
      " 47%|█████████████████████████████████▋                                      | 187/400 [11:42<05:51,  1.65s/it]"
     ]
    },
    {
     "name": "stdout",
     "output_type": "stream",
     "text": [
      "82\n",
      "0.0\n",
      "120.0\n"
     ]
    },
    {
     "name": "stderr",
     "output_type": "stream",
     "text": [
      " 47%|█████████████████████████████████▊                                      | 188/400 [11:46<08:26,  2.39s/it]"
     ]
    },
    {
     "name": "stdout",
     "output_type": "stream",
     "text": [
      "105\n",
      "0.0\n",
      "120.0\n"
     ]
    },
    {
     "name": "stderr",
     "output_type": "stream",
     "text": [
      " 47%|██████████████████████████████████                                      | 189/400 [11:47<06:45,  1.92s/it]"
     ]
    },
    {
     "name": "stdout",
     "output_type": "stream",
     "text": [
      "170\n",
      "0.0\n",
      "120.0\n"
     ]
    },
    {
     "name": "stderr",
     "output_type": "stream",
     "text": [
      " 48%|██████████████████████████████████▏                                     | 190/400 [11:47<05:05,  1.45s/it]"
     ]
    },
    {
     "name": "stdout",
     "output_type": "stream",
     "text": [
      "111\n",
      "0.0\n",
      "120.0\n"
     ]
    },
    {
     "name": "stderr",
     "output_type": "stream",
     "text": [
      " 48%|██████████████████████████████████▍                                     | 191/400 [11:53<10:01,  2.88s/it]"
     ]
    },
    {
     "name": "stdout",
     "output_type": "stream",
     "text": [
      "244\n",
      "0.0\n",
      "120.0\n"
     ]
    },
    {
     "name": "stderr",
     "output_type": "stream",
     "text": [
      " 48%|██████████████████████████████████▋                                     | 193/400 [11:55<06:15,  1.82s/it]"
     ]
    },
    {
     "name": "stdout",
     "output_type": "stream",
     "text": [
      "241\n",
      "0.0\n",
      "120.0\n",
      "286\n",
      "0.0\n",
      "120.0\n"
     ]
    },
    {
     "name": "stderr",
     "output_type": "stream",
     "text": [
      " 48%|██████████████████████████████████▉                                     | 194/400 [12:02<10:53,  3.17s/it]"
     ]
    },
    {
     "name": "stdout",
     "output_type": "stream",
     "text": [
      "68\n",
      "0.0\n",
      "120.0\n"
     ]
    },
    {
     "name": "stderr",
     "output_type": "stream",
     "text": [
      " 49%|███████████████████████████████████                                     | 195/400 [12:02<07:49,  2.29s/it]"
     ]
    },
    {
     "name": "stdout",
     "output_type": "stream",
     "text": [
      "16\n",
      "0.0\n",
      "120.0\n"
     ]
    },
    {
     "name": "stderr",
     "output_type": "stream",
     "text": [
      " 49%|███████████████████████████████████▎                                    | 196/400 [12:06<09:41,  2.85s/it]"
     ]
    },
    {
     "name": "stdout",
     "output_type": "stream",
     "text": [
      "115\n",
      "0.0\n",
      "120.0\n"
     ]
    },
    {
     "name": "stderr",
     "output_type": "stream",
     "text": [
      " 49%|███████████████████████████████████▍                                    | 197/400 [12:08<08:40,  2.56s/it]"
     ]
    },
    {
     "name": "stdout",
     "output_type": "stream",
     "text": [
      "255\n",
      "0.0\n",
      "120.0\n"
     ]
    },
    {
     "name": "stderr",
     "output_type": "stream",
     "text": [
      " 50%|███████████████████████████████████▋                                    | 198/400 [12:10<07:50,  2.33s/it]"
     ]
    },
    {
     "name": "stdout",
     "output_type": "stream",
     "text": [
      "238\n",
      "0.0\n",
      "120.0\n"
     ]
    },
    {
     "name": "stderr",
     "output_type": "stream",
     "text": [
      " 50%|███████████████████████████████████▊                                    | 199/400 [12:12<07:53,  2.36s/it]"
     ]
    },
    {
     "name": "stdout",
     "output_type": "stream",
     "text": [
      "122\n",
      "0.0\n",
      "120.0\n"
     ]
    },
    {
     "name": "stderr",
     "output_type": "stream",
     "text": [
      " 50%|████████████████████████████████████                                    | 200/400 [12:18<11:48,  3.54s/it]"
     ]
    },
    {
     "name": "stdout",
     "output_type": "stream",
     "text": [
      "20\n",
      "0.0\n",
      "120.0\n"
     ]
    },
    {
     "name": "stderr",
     "output_type": "stream",
     "text": [
      " 50%|████████████████████████████████████▏                                   | 201/400 [12:19<08:59,  2.71s/it]"
     ]
    },
    {
     "name": "stdout",
     "output_type": "stream",
     "text": [
      "155\n",
      "2243-12-15 23:58:49.662999 2243-12-16 00:15:48.280999\n",
      "2243-12-16 00:02:02\n",
      "2243-12-15 23:57:27 2243-12-15 23:59:27\n",
      "Skipping example 200: \n"
     ]
    },
    {
     "name": "stderr",
     "output_type": "stream",
     "text": [
      " 50%|████████████████████████████████████▎                                   | 202/400 [12:20<06:55,  2.10s/it]"
     ]
    },
    {
     "name": "stdout",
     "output_type": "stream",
     "text": [
      "285\n",
      "2209-02-26 18:04:53.428000 2209-02-26 18:21:09.236000\n",
      "2209-02-26 18:14:31\n",
      "2209-02-26 18:07:46 2209-02-26 18:09:46\n",
      "172.572\n",
      "120.0\n"
     ]
    },
    {
     "name": "stderr",
     "output_type": "stream",
     "text": [
      " 51%|████████████████████████████████████▌                                   | 203/400 [12:20<05:21,  1.63s/it]"
     ]
    },
    {
     "name": "stdout",
     "output_type": "stream",
     "text": [
      "27\n",
      "2271-07-21 12:54:18.443001 2271-07-21 13:07:08.863001\n",
      "2271-07-21 13:02:56\n",
      "2271-07-21 13:00:29 2271-07-21 13:02:29\n",
      "370.556999\n",
      "120.0\n"
     ]
    },
    {
     "name": "stderr",
     "output_type": "stream",
     "text": [
      " 51%|████████████████████████████████████▋                                   | 204/400 [12:21<04:36,  1.41s/it]"
     ]
    },
    {
     "name": "stdout",
     "output_type": "stream",
     "text": [
      "122\n",
      "2243-09-01 03:00:14.009000 2243-09-01 03:12:45.561000\n",
      "2243-09-01 03:01:14\n",
      "2243-09-01 02:57:12 2243-09-01 02:59:12\n",
      "Skipping example 203: \n"
     ]
    },
    {
     "name": "stderr",
     "output_type": "stream",
     "text": [
      " 51%|████████████████████████████████████▉                                   | 205/400 [12:25<06:22,  1.96s/it]"
     ]
    },
    {
     "name": "stdout",
     "output_type": "stream",
     "text": [
      "139\n",
      "2255-08-12 18:16:30.223000 2255-08-12 19:26:24.621000\n",
      "2255-08-12 18:21:23\n",
      "2255-08-12 18:17:04 2255-08-12 18:19:04\n",
      "33.777\n",
      "120.0\n"
     ]
    },
    {
     "name": "stderr",
     "output_type": "stream",
     "text": [
      " 52%|█████████████████████████████████████                                   | 206/400 [12:25<04:40,  1.44s/it]"
     ]
    },
    {
     "name": "stdout",
     "output_type": "stream",
     "text": [
      "216\n",
      "2243-10-08 23:38:06.977999 2243-10-08 23:42:55.869999\n",
      "2243-10-08 23:41:21\n",
      "2243-10-08 23:35:45 2243-10-08 23:37:45\n",
      "Skipping example 205: \n"
     ]
    },
    {
     "name": "stderr",
     "output_type": "stream",
     "text": [
      " 52%|█████████████████████████████████████▎                                  | 207/400 [12:36<14:22,  4.47s/it]"
     ]
    },
    {
     "name": "stdout",
     "output_type": "stream",
     "text": [
      "240\n",
      "2258-06-10 10:03:56.852001 2258-06-10 13:41:03.286001\n",
      "2258-06-10 13:35:28\n",
      "2258-06-10 13:29:28 2258-06-10 13:31:28\n",
      "12331.147999\n",
      "120.0\n"
     ]
    },
    {
     "name": "stderr",
     "output_type": "stream",
     "text": [
      " 52%|█████████████████████████████████████▍                                  | 208/400 [12:45<18:44,  5.86s/it]"
     ]
    },
    {
     "name": "stdout",
     "output_type": "stream",
     "text": [
      "162\n",
      "2207-07-07 22:19:24.809999 2207-07-08 01:11:28.917999\n",
      "2207-07-08 01:03:12\n",
      "2207-07-08 00:58:30 2207-07-08 01:00:30\n",
      "9545.190001\n",
      "120.0\n"
     ]
    },
    {
     "name": "stderr",
     "output_type": "stream",
     "text": [
      " 52%|█████████████████████████████████████▌                                  | 209/400 [12:53<20:12,  6.35s/it]"
     ]
    },
    {
     "name": "stdout",
     "output_type": "stream",
     "text": [
      "128\n",
      "2201-12-03 02:36:46.464000 2201-12-03 05:16:03.352000\n",
      "2201-12-03 02:38:53\n",
      "2201-12-03 02:34:45 2201-12-03 02:36:45\n",
      "Skipping example 208: \n"
     ]
    },
    {
     "name": "stderr",
     "output_type": "stream",
     "text": [
      " 52%|█████████████████████████████████████▊                                  | 210/400 [13:06<26:24,  8.34s/it]"
     ]
    },
    {
     "name": "stdout",
     "output_type": "stream",
     "text": [
      "168\n",
      "2264-03-17 17:57:30.822999 2264-03-17 22:06:55.120999\n",
      "2264-03-17 18:48:16\n",
      "2264-03-17 18:43:28 2264-03-17 18:45:28\n",
      "2757.177001\n",
      "120.0\n"
     ]
    },
    {
     "name": "stderr",
     "output_type": "stream",
     "text": [
      " 53%|█████████████████████████████████████▉                                  | 211/400 [13:10<22:23,  7.11s/it]"
     ]
    },
    {
     "name": "stdout",
     "output_type": "stream",
     "text": [
      "208\n",
      "2298-05-07 08:26:15.857999 2298-05-07 09:43:40.569999\n",
      "2298-05-07 08:34:04\n",
      "2298-05-07 08:28:36 2298-05-07 08:30:36\n",
      "140.142001\n",
      "120.0\n"
     ]
    },
    {
     "name": "stderr",
     "output_type": "stream",
     "text": [
      " 53%|██████████████████████████████████████▏                                 | 212/400 [13:11<16:50,  5.37s/it]"
     ]
    },
    {
     "name": "stdout",
     "output_type": "stream",
     "text": [
      "250\n",
      "2218-09-24 16:24:14.880001 2218-09-24 16:54:46.196001\n",
      "2218-09-24 16:26:06\n",
      "2218-09-24 16:19:56 2218-09-24 16:21:56\n",
      "Skipping example 211: \n",
      "105\n",
      "2299-01-19 01:03:49.760999 2299-01-19 01:05:15.558999\n",
      "2299-01-19 01:04:01\n",
      "2299-01-19 01:00:16 2299-01-19 01:02:16\n",
      "Skipping example 212: \n"
     ]
    },
    {
     "name": "stderr",
     "output_type": "stream",
     "text": [
      " 54%|██████████████████████████████████████▌                                 | 214/400 [13:13<10:00,  3.23s/it]"
     ]
    },
    {
     "name": "stdout",
     "output_type": "stream",
     "text": [
      "182\n",
      "2222-04-08 01:37:41.562000 2222-04-08 02:12:00.606000\n",
      "2222-04-08 01:38:41\n",
      "2222-04-08 01:33:39 2222-04-08 01:35:39\n",
      "Skipping example 213: \n"
     ]
    },
    {
     "name": "stderr",
     "output_type": "stream",
     "text": [
      " 54%|██████████████████████████████████████▋                                 | 215/400 [13:17<10:42,  3.47s/it]"
     ]
    },
    {
     "name": "stdout",
     "output_type": "stream",
     "text": [
      "128\n",
      "2290-09-28 23:04:16.466001 2290-09-29 00:24:56.316001\n",
      "2290-09-28 23:04:27\n",
      "2290-09-28 23:00:19 2290-09-28 23:02:19\n",
      "Skipping example 214: \n"
     ]
    },
    {
     "name": "stderr",
     "output_type": "stream",
     "text": [
      " 54%|██████████████████████████████████████▉                                 | 216/400 [13:19<09:09,  2.99s/it]"
     ]
    },
    {
     "name": "stdout",
     "output_type": "stream",
     "text": [
      "10\n",
      "2269-12-27 14:48:10.866999 2269-12-27 15:14:29.198999\n",
      "2269-12-27 14:48:57\n",
      "2269-12-27 14:46:47 2269-12-27 14:48:47\n",
      "Skipping example 215: \n",
      "68\n",
      "2254-06-14 07:49:40.600999 2254-06-14 07:49:57.574999\n",
      "2254-06-14 07:49:56\n",
      "2254-06-14 07:46:48 2254-06-14 07:48:48\n",
      "Skipping example 216: \n"
     ]
    },
    {
     "name": "stderr",
     "output_type": "stream",
     "text": [
      " 55%|███████████████████████████████████████▏                                | 218/400 [13:24<08:45,  2.89s/it]"
     ]
    },
    {
     "name": "stdout",
     "output_type": "stream",
     "text": [
      "161\n",
      "2282-04-15 04:44:49.238000 2282-04-15 06:37:44.026000\n",
      "2282-04-15 04:45:37\n",
      "2282-04-15 04:40:56 2282-04-15 04:42:56\n",
      "Skipping example 217: \n"
     ]
    },
    {
     "name": "stderr",
     "output_type": "stream",
     "text": [
      " 55%|███████████████████████████████████████▍                                | 219/400 [13:32<11:56,  3.96s/it]"
     ]
    },
    {
     "name": "stdout",
     "output_type": "stream",
     "text": [
      "268\n",
      "2254-04-09 10:27:43.185000 2254-04-09 12:53:22.633000\n",
      "2254-04-09 10:54:30\n",
      "2254-04-09 10:48:02 2254-04-09 10:50:02\n",
      "1218.815\n",
      "120.0\n"
     ]
    },
    {
     "name": "stderr",
     "output_type": "stream",
     "text": [
      " 55%|███████████████████████████████████████▌                                | 220/400 [13:39<13:58,  4.66s/it]"
     ]
    },
    {
     "name": "stdout",
     "output_type": "stream",
     "text": [
      "177\n",
      "2223-02-09 18:08:42.324000 2223-02-09 20:17:02.328000\n",
      "2223-02-09 18:09:09\n",
      "2223-02-09 18:04:12 2223-02-09 18:06:12\n",
      "Skipping example 219: \n"
     ]
    },
    {
     "name": "stderr",
     "output_type": "stream",
     "text": [
      " 55%|███████████████████████████████████████▊                                | 221/400 [13:46<16:17,  5.46s/it]"
     ]
    },
    {
     "name": "stdout",
     "output_type": "stream",
     "text": [
      "278\n",
      "2241-01-18 03:16:00.274000 2241-01-18 05:43:59.186000\n",
      "2241-01-18 03:39:15\n",
      "2241-01-18 03:32:37 2241-01-18 03:34:37\n",
      "996.726\n",
      "120.0\n"
     ]
    },
    {
     "name": "stderr",
     "output_type": "stream",
     "text": [
      " 56%|███████████████████████████████████████▉                                | 222/400 [13:47<12:40,  4.27s/it]"
     ]
    },
    {
     "name": "stdout",
     "output_type": "stream",
     "text": [
      "262\n",
      "2292-04-11 20:38:18.974000 2292-04-11 21:02:05.100000\n",
      "2292-04-11 20:46:10\n",
      "2292-04-11 20:39:48 2292-04-11 20:41:48\n",
      "89.026\n",
      "120.0\n"
     ]
    },
    {
     "name": "stderr",
     "output_type": "stream",
     "text": [
      " 56%|████████████████████████████████████████▏                               | 223/400 [13:49<10:20,  3.51s/it]"
     ]
    },
    {
     "name": "stdout",
     "output_type": "stream",
     "text": [
      "142\n",
      "2299-01-13 01:01:37.243001 2299-01-13 01:29:10.283001\n",
      "2299-01-13 01:12:00\n",
      "2299-01-13 01:07:38 2299-01-13 01:09:38\n",
      "360.756999\n",
      "120.0\n"
     ]
    },
    {
     "name": "stderr",
     "output_type": "stream",
     "text": [
      " 56%|████████████████████████████████████████▎                               | 224/400 [13:54<11:14,  3.83s/it]"
     ]
    },
    {
     "name": "stdout",
     "output_type": "stream",
     "text": [
      "65\n",
      "2277-02-19 20:45:12.168999 2277-02-19 22:14:20.948999\n",
      "2277-02-19 22:07:04\n",
      "2277-02-19 22:03:59 2277-02-19 22:05:59\n",
      "4726.831001\n",
      "120.0\n"
     ]
    },
    {
     "name": "stderr",
     "output_type": "stream",
     "text": [
      " 56%|████████████████████████████████████████▌                               | 225/400 [13:55<09:11,  3.15s/it]"
     ]
    },
    {
     "name": "stdout",
     "output_type": "stream",
     "text": [
      "26\n",
      "2248-12-16 14:41:21.313999 2248-12-16 15:16:03.483999\n",
      "2248-12-16 14:57:59\n",
      "2248-12-16 14:55:33 2248-12-16 14:57:33\n",
      "851.686001\n",
      "120.0\n"
     ]
    },
    {
     "name": "stderr",
     "output_type": "stream",
     "text": [
      " 56%|████████████████████████████████████████▋                               | 226/400 [13:58<08:56,  3.08s/it]"
     ]
    },
    {
     "name": "stdout",
     "output_type": "stream",
     "text": [
      "52\n",
      "2232-01-28 00:39:24.123999 2232-01-28 01:40:19.077999\n",
      "2232-01-28 00:47:26\n",
      "2232-01-28 00:44:34 2232-01-28 00:46:34\n",
      "309.876001\n",
      "120.0\n"
     ]
    },
    {
     "name": "stderr",
     "output_type": "stream",
     "text": [
      " 57%|████████████████████████████████████████▊                               | 227/400 [14:00<08:09,  2.83s/it]"
     ]
    },
    {
     "name": "stdout",
     "output_type": "stream",
     "text": [
      "62\n",
      "2269-11-07 06:33:52.016999 2269-11-07 07:16:07.458999\n",
      "2269-11-07 06:34:52\n",
      "2269-11-07 06:31:50 2269-11-07 06:33:50\n",
      "Skipping example 226: \n"
     ]
    },
    {
     "name": "stderr",
     "output_type": "stream",
     "text": [
      " 57%|█████████████████████████████████████████                               | 228/400 [14:02<07:25,  2.59s/it]"
     ]
    },
    {
     "name": "stdout",
     "output_type": "stream",
     "text": [
      "54\n",
      "2280-06-06 07:31:20.778000 2280-06-06 08:11:19.304000\n",
      "2280-06-06 07:45:02\n",
      "2280-06-06 07:42:08 2280-06-06 07:44:08\n",
      "647.222\n",
      "120.0\n"
     ]
    },
    {
     "name": "stderr",
     "output_type": "stream",
     "text": [
      " 57%|█████████████████████████████████████████▏                              | 229/400 [14:06<08:06,  2.84s/it]"
     ]
    },
    {
     "name": "stdout",
     "output_type": "stream",
     "text": [
      "108\n",
      "2200-10-29 18:19:43.187000 2200-10-29 19:20:54.693000\n",
      "2200-10-29 18:44:03\n",
      "2200-10-29 18:40:15 2200-10-29 18:42:15\n",
      "1231.813\n",
      "120.0\n"
     ]
    },
    {
     "name": "stderr",
     "output_type": "stream",
     "text": [
      " 57%|█████████████████████████████████████████▍                              | 230/400 [14:15<13:20,  4.71s/it]"
     ]
    },
    {
     "name": "stdout",
     "output_type": "stream",
     "text": [
      "247\n",
      "2238-12-20 19:02:19.547000 2238-12-20 21:55:58.377000\n",
      "2238-12-20 19:17:35\n",
      "2238-12-20 19:11:28 2238-12-20 19:13:28\n",
      "548.453\n",
      "120.0\n"
     ]
    },
    {
     "name": "stderr",
     "output_type": "stream",
     "text": [
      " 58%|█████████████████████████████████████████▌                              | 231/400 [14:16<10:19,  3.67s/it]"
     ]
    },
    {
     "name": "stdout",
     "output_type": "stream",
     "text": [
      "226\n",
      "2220-05-07 18:00:07.009999 2220-05-07 18:27:18.537999\n",
      "2220-05-07 18:01:07\n",
      "2220-05-07 17:55:21 2220-05-07 17:57:21\n",
      "Skipping example 230: \n",
      "235\n",
      "2220-05-08 12:53:58.271000 2220-05-08 12:58:28.489000\n",
      "2220-05-08 12:54:43\n",
      "2220-05-08 12:48:48 2220-05-08 12:50:48\n",
      "Skipping example 231: \n"
     ]
    },
    {
     "name": "stderr",
     "output_type": "stream",
     "text": [
      " 58%|█████████████████████████████████████████▉                              | 233/400 [14:18<06:25,  2.31s/it]"
     ]
    },
    {
     "name": "stdout",
     "output_type": "stream",
     "text": [
      "12\n",
      "2275-06-17 01:17:10.199999 2275-06-17 01:56:05.213999\n",
      "2275-06-17 01:24:43\n",
      "2275-06-17 01:22:31 2275-06-17 01:24:31\n",
      "320.800001\n",
      "120.0\n"
     ]
    },
    {
     "name": "stderr",
     "output_type": "stream",
     "text": [
      " 58%|██████████████████████████████████████████                              | 234/400 [14:18<04:42,  1.70s/it]"
     ]
    },
    {
     "name": "stdout",
     "output_type": "stream",
     "text": [
      "113\n",
      "2256-11-30 21:35:52.009999 2256-11-30 21:42:11.989999\n",
      "2256-11-30 21:36:52\n",
      "2256-11-30 21:32:59 2256-11-30 21:34:59\n",
      "Skipping example 233: \n"
     ]
    },
    {
     "name": "stderr",
     "output_type": "stream",
     "text": [
      " 59%|██████████████████████████████████████████▎                             | 235/400 [14:22<06:21,  2.31s/it]"
     ]
    },
    {
     "name": "stdout",
     "output_type": "stream",
     "text": [
      "62\n",
      "2300-10-28 19:16:56.638001 2300-10-28 20:29:32.380001\n",
      "2300-10-28 19:58:32\n",
      "2300-10-28 19:55:30 2300-10-28 19:57:30\n",
      "2313.361999\n",
      "120.0\n"
     ]
    },
    {
     "name": "stderr",
     "output_type": "stream",
     "text": [
      " 59%|██████████████████████████████████████████▍                             | 236/400 [14:26<07:46,  2.85s/it]"
     ]
    },
    {
     "name": "stdout",
     "output_type": "stream",
     "text": [
      "153\n",
      "2253-06-12 03:52:27.002999 2253-06-12 05:03:56.764999\n",
      "2253-06-12 04:53:27\n",
      "2253-06-12 04:48:54 2253-06-12 04:50:54\n",
      "3386.997001\n",
      "120.0\n"
     ]
    },
    {
     "name": "stderr",
     "output_type": "stream",
     "text": [
      " 59%|██████████████████████████████████████████▋                             | 237/400 [14:29<08:08,  3.00s/it]"
     ]
    },
    {
     "name": "stdout",
     "output_type": "stream",
     "text": [
      "135\n",
      "2202-05-05 05:55:22.454000 2202-05-05 07:02:16.928000\n",
      "2202-05-05 06:01:15\n",
      "2202-05-05 05:57:00 2202-05-05 05:59:00\n",
      "97.546\n",
      "120.0\n"
     ]
    },
    {
     "name": "stderr",
     "output_type": "stream",
     "text": [
      " 60%|██████████████████████████████████████████▊                             | 238/400 [14:36<11:01,  4.08s/it]"
     ]
    },
    {
     "name": "stdout",
     "output_type": "stream",
     "text": [
      "199\n",
      "2288-01-20 20:55:25.014000 2288-01-20 23:04:21.356000\n",
      "2288-01-20 21:02:25\n",
      "2288-01-20 20:57:06 2288-01-20 20:59:06\n",
      "100.986\n",
      "120.0\n"
     ]
    },
    {
     "name": "stderr",
     "output_type": "stream",
     "text": [
      " 60%|███████████████████████████████████████████                             | 239/400 [14:46<16:06,  6.01s/it]"
     ]
    },
    {
     "name": "stdout",
     "output_type": "stream",
     "text": [
      "192\n",
      "2245-02-05 08:06:57.520000 2245-02-05 11:40:56.742000\n",
      "2245-02-05 08:25:00\n",
      "2245-02-05 08:19:48 2245-02-05 08:21:48\n",
      "770.48\n",
      "120.0\n"
     ]
    },
    {
     "name": "stderr",
     "output_type": "stream",
     "text": [
      " 60%|███████████████████████████████████████████▏                            | 240/400 [14:50<14:00,  5.25s/it]"
     ]
    },
    {
     "name": "stdout",
     "output_type": "stream",
     "text": [
      "193\n",
      "2252-02-05 15:26:03.711000 2252-02-05 16:27:40.245000\n",
      "2252-02-05 15:27:35\n",
      "2252-02-05 15:22:22 2252-02-05 15:24:22\n",
      "Skipping example 239: \n"
     ]
    },
    {
     "name": "stderr",
     "output_type": "stream",
     "text": [
      " 60%|███████████████████████████████████████████▍                            | 241/400 [14:54<13:03,  4.93s/it]"
     ]
    },
    {
     "name": "stdout",
     "output_type": "stream",
     "text": [
      "187\n",
      "2268-04-29 22:12:34.297001 2268-04-29 23:40:59.539001\n",
      "2268-04-29 23:12:12\n",
      "2268-04-29 23:07:05 2268-04-29 23:09:05\n",
      "3270.702999\n",
      "120.0\n"
     ]
    },
    {
     "name": "stderr",
     "output_type": "stream",
     "text": [
      " 60%|███████████████████████████████████████████▌                            | 242/400 [15:12<23:38,  8.98s/it]"
     ]
    },
    {
     "name": "stdout",
     "output_type": "stream",
     "text": [
      "150\n",
      "2223-01-12 18:37:48.623000 2223-01-13 00:34:06.103000\n",
      "2223-01-12 18:38:06\n",
      "2223-01-12 18:33:36 2223-01-12 18:35:36\n",
      "Skipping example 241: \n"
     ]
    },
    {
     "name": "stderr",
     "output_type": "stream",
     "text": [
      " 61%|███████████████████████████████████████████▋                            | 243/400 [15:20<22:06,  8.45s/it]"
     ]
    },
    {
     "name": "stdout",
     "output_type": "stream",
     "text": [
      "193\n",
      "2298-01-24 14:59:01.782999 2298-01-24 17:16:52.652999\n",
      "2298-01-24 17:07:46\n",
      "2298-01-24 17:02:33 2298-01-24 17:04:33\n",
      "7411.217001\n",
      "120.0\n"
     ]
    },
    {
     "name": "stderr",
     "output_type": "stream",
     "text": [
      " 61%|███████████████████████████████████████████▉                            | 244/400 [15:21<16:52,  6.49s/it]"
     ]
    },
    {
     "name": "stdout",
     "output_type": "stream",
     "text": [
      "20\n",
      "2206-05-24 14:20:28.383000 2206-05-24 15:04:06.081000\n",
      "2206-05-24 14:29:37\n",
      "2206-05-24 14:27:17 2206-05-24 14:29:17\n",
      "408.617\n",
      "120.0\n"
     ]
    },
    {
     "name": "stderr",
     "output_type": "stream",
     "text": [
      " 61%|████████████████████████████████████████████                            | 245/400 [15:27<16:15,  6.29s/it]"
     ]
    },
    {
     "name": "stdout",
     "output_type": "stream",
     "text": [
      "199\n",
      "2279-02-26 22:29:41.323999 2279-02-27 00:38:01.327999\n",
      "2279-02-26 22:30:08\n",
      "2279-02-26 22:24:49 2279-02-26 22:26:49\n",
      "Skipping example 244: \n"
     ]
    },
    {
     "name": "stderr",
     "output_type": "stream",
     "text": [
      " 62%|████████████████████████████████████████████▎                           | 246/400 [15:28<11:52,  4.63s/it]"
     ]
    },
    {
     "name": "stdout",
     "output_type": "stream",
     "text": [
      "88\n",
      "2225-03-31 12:00:13.772000 2225-03-31 12:16:06.766000\n",
      "2225-03-31 12:08:57\n",
      "2225-03-31 12:05:29 2225-03-31 12:07:29\n",
      "315.228\n",
      "120.0\n"
     ]
    },
    {
     "name": "stderr",
     "output_type": "stream",
     "text": [
      " 62%|████████████████████████████████████████████▍                           | 247/400 [15:34<12:35,  4.94s/it]"
     ]
    },
    {
     "name": "stdout",
     "output_type": "stream",
     "text": [
      "113\n",
      "2270-11-30 01:22:22.011999 2270-11-30 03:09:21.995999\n",
      "2270-11-30 01:23:22\n",
      "2270-11-30 01:19:29 2270-11-30 01:21:29\n",
      "Skipping example 246: \n"
     ]
    },
    {
     "name": "stderr",
     "output_type": "stream",
     "text": [
      " 62%|████████████████████████████████████████████▋                           | 248/400 [15:41<14:27,  5.71s/it]"
     ]
    },
    {
     "name": "stdout",
     "output_type": "stream",
     "text": [
      "160\n",
      "2267-02-22 10:32:03.283001 2267-02-22 13:02:22.981001\n",
      "2267-02-22 10:32:25\n",
      "2267-02-22 10:27:45 2267-02-22 10:29:45\n",
      "Skipping example 247: \n"
     ]
    },
    {
     "name": "stderr",
     "output_type": "stream",
     "text": [
      " 62%|████████████████████████████████████████████▊                           | 249/400 [15:42<10:20,  4.11s/it]"
     ]
    },
    {
     "name": "stdout",
     "output_type": "stream",
     "text": [
      "247\n",
      "2295-09-04 05:32:22.546999 2295-09-04 05:38:54.666999\n",
      "2295-09-04 05:36:53\n",
      "2295-09-04 05:30:46 2295-09-04 05:32:46\n",
      "Skipping example 248: \n"
     ]
    },
    {
     "name": "stderr",
     "output_type": "stream",
     "text": [
      " 62%|█████████████████████████████████████████████                           | 250/400 [15:43<08:10,  3.27s/it]"
     ]
    },
    {
     "name": "stdout",
     "output_type": "stream",
     "text": [
      "277\n",
      "2230-05-31 00:04:24.510000 2230-05-31 00:27:28.936000\n",
      "2230-05-31 00:20:36\n",
      "2230-05-31 00:13:59 2230-05-31 00:15:59\n",
      "574.49\n",
      "120.0\n"
     ]
    },
    {
     "name": "stderr",
     "output_type": "stream",
     "text": [
      " 63%|█████████████████████████████████████████████▏                          | 251/400 [15:44<06:18,  2.54s/it]"
     ]
    },
    {
     "name": "stdout",
     "output_type": "stream",
     "text": [
      "19\n",
      "2274-07-11 16:45:42.086001 2274-07-11 17:05:54.014001\n",
      "2274-07-11 16:51:00\n",
      "2274-07-11 16:48:41 2274-07-11 16:50:41\n",
      "178.913999\n",
      "120.0\n"
     ]
    },
    {
     "name": "stderr",
     "output_type": "stream",
     "text": [
      " 63%|█████████████████████████████████████████████▎                          | 252/400 [15:44<04:47,  1.94s/it]"
     ]
    },
    {
     "name": "stdout",
     "output_type": "stream",
     "text": [
      "202\n",
      "2216-04-22 08:17:11.782001 2216-04-22 08:30:07.030001\n",
      "2216-04-22 08:28:02\n",
      "2216-04-22 08:22:40 2216-04-22 08:24:40\n",
      "328.217999\n",
      "120.0\n"
     ]
    },
    {
     "name": "stderr",
     "output_type": "stream",
     "text": [
      " 64%|█████████████████████████████████████████████▋                          | 254/400 [15:52<06:26,  2.64s/it]"
     ]
    },
    {
     "name": "stdout",
     "output_type": "stream",
     "text": [
      "159\n",
      "2206-09-08 08:19:28.204000 2206-09-08 10:47:41.106000\n",
      "2206-09-08 08:32:25\n",
      "2206-09-08 08:27:46 2206-09-08 08:29:46\n",
      "497.796\n",
      "120.0\n",
      "299\n",
      "2293-11-03 11:57:46.761000 2293-11-03 11:59:06.201000\n",
      "2293-11-03 11:57:56\n",
      "2293-11-03 11:50:57 2293-11-03 11:52:57\n",
      "Skipping example 253: \n"
     ]
    },
    {
     "name": "stderr",
     "output_type": "stream",
     "text": [
      " 64%|█████████████████████████████████████████████▉                          | 255/400 [16:15<20:46,  8.60s/it]"
     ]
    },
    {
     "name": "stdout",
     "output_type": "stream",
     "text": [
      "264\n",
      "2290-12-04 09:02:55.114999 2290-12-04 16:32:02.226999\n",
      "2290-12-04 09:32:41\n",
      "2290-12-04 09:26:17 2290-12-04 09:28:17\n",
      "1401.885001\n",
      "120.0\n"
     ]
    },
    {
     "name": "stderr",
     "output_type": "stream",
     "text": [
      " 64%|██████████████████████████████████████████████                          | 256/400 [16:17<16:02,  6.68s/it]"
     ]
    },
    {
     "name": "stdout",
     "output_type": "stream",
     "text": [
      "50\n",
      "2254-10-25 20:15:31.221000 2254-10-25 21:00:49.943000\n",
      "2254-10-25 20:15:49\n",
      "2254-10-25 20:12:59 2254-10-25 20:14:59\n",
      "Skipping example 255: \n"
     ]
    },
    {
     "name": "stderr",
     "output_type": "stream",
     "text": [
      " 64%|██████████████████████████████████████████████▎                         | 257/400 [16:21<14:05,  5.91s/it]"
     ]
    },
    {
     "name": "stdout",
     "output_type": "stream",
     "text": [
      "74\n",
      "2267-04-21 15:15:46.503001 2267-04-21 16:33:32.895001\n",
      "2267-04-21 16:28:23\n",
      "2267-04-21 16:25:09 2267-04-21 16:27:09\n",
      "4162.496999\n",
      "120.0\n"
     ]
    },
    {
     "name": "stderr",
     "output_type": "stream",
     "text": [
      " 65%|██████████████████████████████████████████████▌                         | 259/400 [16:27<09:58,  4.25s/it]"
     ]
    },
    {
     "name": "stdout",
     "output_type": "stream",
     "text": [
      "246\n",
      "2242-04-05 21:26:51.093001 2242-04-05 23:27:01.305001\n",
      "2242-04-05 21:42:35\n",
      "2242-04-05 21:36:29 2242-04-05 21:38:29\n",
      "577.906999\n",
      "120.0\n",
      "202\n",
      "2259-10-26 14:52:38.013000 2259-10-26 14:54:38.123000\n",
      "2259-10-26 14:53:38\n",
      "2259-10-26 14:48:16 2259-10-26 14:50:16\n",
      "Skipping example 258: \n"
     ]
    },
    {
     "name": "stderr",
     "output_type": "stream",
     "text": [
      " 65%|██████████████████████████████████████████████▊                         | 260/400 [16:38<14:13,  6.09s/it]"
     ]
    },
    {
     "name": "stdout",
     "output_type": "stream",
     "text": [
      "271\n",
      "2257-04-25 22:23:31.396001 2257-04-26 01:52:08.918001\n",
      "2257-04-25 22:24:21\n",
      "2257-04-25 22:17:50 2257-04-25 22:19:50\n",
      "Skipping example 259: \n"
     ]
    },
    {
     "name": "stderr",
     "output_type": "stream",
     "text": [
      " 65%|██████████████████████████████████████████████▉                         | 261/400 [16:42<12:51,  5.55s/it]"
     ]
    },
    {
     "name": "stdout",
     "output_type": "stream",
     "text": [
      "50\n",
      "2251-07-02 07:26:03.606999 2251-07-02 08:47:27.518999\n",
      "2251-07-02 07:42:50\n",
      "2251-07-02 07:40:00 2251-07-02 07:42:00\n",
      "836.393001\n",
      "120.0\n"
     ]
    },
    {
     "name": "stderr",
     "output_type": "stream",
     "text": [
      " 66%|███████████████████████████████████████████████▏                        | 262/400 [16:44<10:17,  4.47s/it]"
     ]
    },
    {
     "name": "stdout",
     "output_type": "stream",
     "text": [
      "66\n",
      "2277-02-10 14:16:14.041000 2277-02-10 15:03:39.743000\n",
      "2277-02-10 14:16:27\n",
      "2277-02-10 14:13:21 2277-02-10 14:15:21\n",
      "Skipping example 261: \n"
     ]
    },
    {
     "name": "stderr",
     "output_type": "stream",
     "text": [
      " 66%|███████████████████████████████████████████████▎                        | 263/400 [16:47<08:53,  3.89s/it]"
     ]
    },
    {
     "name": "stdout",
     "output_type": "stream",
     "text": [
      "108\n",
      "2297-09-17 06:11:50.729001 2297-09-17 07:03:28.727001\n",
      "2297-09-17 06:12:34\n",
      "2297-09-17 06:08:46 2297-09-17 06:10:46\n",
      "Skipping example 262: \n"
     ]
    },
    {
     "name": "stderr",
     "output_type": "stream",
     "text": [
      " 66%|███████████████████████████████████████████████▌                        | 264/400 [16:48<07:11,  3.18s/it]"
     ]
    },
    {
     "name": "stdout",
     "output_type": "stream",
     "text": [
      "284\n",
      "2219-08-10 16:56:37.788000 2219-08-10 17:22:48.798000\n",
      "2219-08-10 16:57:03\n",
      "2219-08-10 16:50:19 2219-08-10 16:52:19\n",
      "Skipping example 263: \n"
     ]
    },
    {
     "name": "stderr",
     "output_type": "stream",
     "text": [
      " 66%|███████████████████████████████████████████████▋                        | 265/400 [16:53<08:31,  3.79s/it]"
     ]
    },
    {
     "name": "stdout",
     "output_type": "stream",
     "text": [
      "195\n",
      "2201-08-29 09:36:11.617000 2201-08-29 11:23:38.787000\n",
      "2201-08-29 09:39:39\n",
      "2201-08-29 09:34:24 2201-08-29 09:36:24\n",
      "Skipping example 264: \n"
     ]
    },
    {
     "name": "stderr",
     "output_type": "stream",
     "text": [
      " 66%|███████████████████████████████████████████████▉                        | 266/400 [16:56<07:43,  3.46s/it]"
     ]
    },
    {
     "name": "stdout",
     "output_type": "stream",
     "text": [
      "19\n",
      "2245-09-06 01:42:51.728999 2245-09-06 02:33:59.488999\n",
      "2245-09-06 01:53:27\n",
      "2245-09-06 01:51:08 2245-09-06 01:53:08\n",
      "496.271001\n",
      "120.0\n"
     ]
    },
    {
     "name": "stderr",
     "output_type": "stream",
     "text": [
      " 67%|████████████████████████████████████████████████                        | 267/400 [16:57<06:14,  2.82s/it]"
     ]
    },
    {
     "name": "stdout",
     "output_type": "stream",
     "text": [
      "208\n",
      "2218-10-22 16:57:44.652000 2218-10-22 17:18:07.252000\n",
      "2218-10-22 17:01:02\n",
      "2218-10-22 16:55:34 2218-10-22 16:57:34\n",
      "Skipping example 266: \n"
     ]
    },
    {
     "name": "stderr",
     "output_type": "stream",
     "text": [
      " 67%|████████████████████████████████████████████████▏                       | 268/400 [17:00<06:00,  2.73s/it]"
     ]
    },
    {
     "name": "stdout",
     "output_type": "stream",
     "text": [
      "37\n",
      "2269-06-10 23:32:22.513999 2269-06-11 00:25:15.371999\n",
      "2269-06-10 23:32:41\n",
      "2269-06-10 23:30:04 2269-06-10 23:32:04\n",
      "Skipping example 267: \n"
     ]
    },
    {
     "name": "stderr",
     "output_type": "stream",
     "text": [
      " 67%|████████████████████████████████████████████████▍                       | 269/400 [17:01<04:49,  2.21s/it]"
     ]
    },
    {
     "name": "stdout",
     "output_type": "stream",
     "text": [
      "147\n",
      "2243-09-15 06:34:47.011000 2243-09-15 06:58:46.995000\n",
      "2243-09-15 06:35:47\n",
      "2243-09-15 06:31:20 2243-09-15 06:33:20\n",
      "Skipping example 268: \n"
     ]
    },
    {
     "name": "stderr",
     "output_type": "stream",
     "text": [
      " 68%|████████████████████████████████████████████████▌                       | 270/400 [17:02<04:05,  1.89s/it]"
     ]
    },
    {
     "name": "stdout",
     "output_type": "stream",
     "text": [
      "260\n",
      "2228-02-19 15:49:57.726000 2228-02-19 16:07:51.120000\n",
      "2228-02-19 15:59:32\n",
      "2228-02-19 15:53:12 2228-02-19 15:55:12\n",
      "194.274\n",
      "120.0\n"
     ]
    },
    {
     "name": "stderr",
     "output_type": "stream",
     "text": [
      " 68%|████████████████████████████████████████████████▊                       | 271/400 [17:02<03:05,  1.43s/it]"
     ]
    },
    {
     "name": "stdout",
     "output_type": "stream",
     "text": [
      "200\n",
      "2267-11-04 19:07:16.404001 2267-11-04 19:16:17.304001\n",
      "2267-11-04 19:07:20\n",
      "2267-11-04 19:02:00 2267-11-04 19:04:00\n",
      "Skipping example 270: \n"
     ]
    },
    {
     "name": "stderr",
     "output_type": "stream",
     "text": [
      " 68%|████████████████████████████████████████████████▉                       | 272/400 [17:07<05:17,  2.48s/it]"
     ]
    },
    {
     "name": "stdout",
     "output_type": "stream",
     "text": [
      "21\n",
      "2259-12-06 19:00:51.379000 2259-12-06 20:43:32.559000\n",
      "2259-12-06 20:40:34\n",
      "2259-12-06 20:38:13 2259-12-06 20:40:13\n",
      "5841.621\n",
      "120.0\n"
     ]
    },
    {
     "name": "stderr",
     "output_type": "stream",
     "text": [
      " 68%|█████████████████████████████████████████████████▏                      | 273/400 [17:13<07:00,  3.31s/it]"
     ]
    },
    {
     "name": "stdout",
     "output_type": "stream",
     "text": [
      "16\n",
      "2300-08-19 00:21:28.109000 2300-08-19 01:58:39.997000\n",
      "2300-08-19 01:11:02\n",
      "2300-08-19 01:08:46 2300-08-19 01:10:46\n",
      "2837.891\n",
      "120.0\n"
     ]
    },
    {
     "name": "stderr",
     "output_type": "stream",
     "text": [
      " 68%|█████████████████████████████████████████████████▎                      | 274/400 [17:14<05:37,  2.68s/it]"
     ]
    },
    {
     "name": "stdout",
     "output_type": "stream",
     "text": [
      "291\n",
      "2280-03-06 18:59:43.288001 2280-03-06 19:27:52.474001\n",
      "2280-03-06 19:26:33\n",
      "2280-03-06 19:19:42 2280-03-06 19:21:42\n",
      "1198.711999\n",
      "120.0\n"
     ]
    },
    {
     "name": "stderr",
     "output_type": "stream",
     "text": [
      " 69%|█████████████████████████████████████████████████▌                      | 275/400 [17:16<05:01,  2.42s/it]"
     ]
    },
    {
     "name": "stdout",
     "output_type": "stream",
     "text": [
      "251\n",
      "2300-02-04 07:10:19.004001 2300-02-04 07:45:33.732001\n",
      "2300-02-04 07:13:19\n",
      "2300-02-04 07:07:08 2300-02-04 07:09:08\n",
      "Skipping example 274: \n"
     ]
    },
    {
     "name": "stderr",
     "output_type": "stream",
     "text": [
      " 69%|█████████████████████████████████████████████████▋                      | 276/400 [17:29<11:41,  5.66s/it]"
     ]
    },
    {
     "name": "stdout",
     "output_type": "stream",
     "text": [
      "21\n",
      "2249-12-22 06:25:05.708000 2249-12-22 10:36:47.056000\n",
      "2249-12-22 06:26:02\n",
      "2249-12-22 06:23:41 2249-12-22 06:25:41\n",
      "Skipping example 275: \n"
     ]
    },
    {
     "name": "stderr",
     "output_type": "stream",
     "text": [
      " 69%|█████████████████████████████████████████████████▊                      | 277/400 [17:30<08:39,  4.23s/it]"
     ]
    },
    {
     "name": "stdout",
     "output_type": "stream",
     "text": [
      "22\n",
      "2227-02-21 05:34:32.950000 2227-02-21 05:51:27.246000\n",
      "2227-02-21 05:39:10\n",
      "2227-02-21 05:36:48 2227-02-21 05:38:48\n",
      "135.05\n",
      "120.0\n"
     ]
    },
    {
     "name": "stderr",
     "output_type": "stream",
     "text": [
      " 70%|██████████████████████████████████████████████████                      | 278/400 [17:31<06:37,  3.26s/it]"
     ]
    },
    {
     "name": "stdout",
     "output_type": "stream",
     "text": [
      "67\n",
      "2281-08-17 04:14:12.454000 2281-08-17 04:38:48.930000\n",
      "2281-08-17 04:15:11\n",
      "2281-08-17 04:12:04 2281-08-17 04:14:04\n",
      "Skipping example 277: \n"
     ]
    },
    {
     "name": "stderr",
     "output_type": "stream",
     "text": [
      " 70%|██████████████████████████████████████████████████▏                     | 279/400 [17:36<08:03,  4.00s/it]"
     ]
    },
    {
     "name": "stdout",
     "output_type": "stream",
     "text": [
      "126\n",
      "2279-10-29 18:57:40.002999 2279-10-29 20:52:37.600999\n",
      "2279-10-29 19:01:40\n",
      "2279-10-29 18:57:34 2279-10-29 18:59:34\n",
      "Skipping example 278: \n"
     ]
    },
    {
     "name": "stderr",
     "output_type": "stream",
     "text": [
      " 70%|██████████████████████████████████████████████████▍                     | 280/400 [17:37<05:46,  2.89s/it]"
     ]
    },
    {
     "name": "stdout",
     "output_type": "stream",
     "text": [
      "205\n",
      "2229-10-04 12:40:54.012000 2229-10-04 12:46:19.662000\n",
      "2229-10-04 12:41:54\n",
      "2229-10-04 12:36:29 2229-10-04 12:38:29\n",
      "Skipping example 279: \n"
     ]
    },
    {
     "name": "stderr",
     "output_type": "stream",
     "text": [
      " 70%|██████████████████████████████████████████████████▌                     | 281/400 [17:40<05:44,  2.89s/it]"
     ]
    },
    {
     "name": "stdout",
     "output_type": "stream",
     "text": [
      "49\n",
      "2266-07-07 01:30:54.009999 2266-07-07 02:33:11.949999\n",
      "2266-07-07 02:31:54\n",
      "2266-07-07 02:29:05 2266-07-07 02:31:05\n",
      "3490.990001\n",
      "120.0\n"
     ]
    },
    {
     "name": "stderr",
     "output_type": "stream",
     "text": [
      " 70%|██████████████████████████████████████████████████▊                     | 282/400 [17:46<07:52,  4.00s/it]"
     ]
    },
    {
     "name": "stdout",
     "output_type": "stream",
     "text": [
      "123\n",
      "2254-05-08 21:07:13.280001 2254-05-08 23:19:53.694001\n",
      "2254-05-08 23:19:25\n",
      "2254-05-08 23:15:22 2254-05-08 23:17:22\n",
      "7688.719999\n",
      "120.0\n"
     ]
    },
    {
     "name": "stderr",
     "output_type": "stream",
     "text": [
      " 71%|██████████████████████████████████████████████████▉                     | 283/400 [17:47<05:56,  3.05s/it]"
     ]
    },
    {
     "name": "stdout",
     "output_type": "stream",
     "text": [
      "147\n",
      "2280-11-01 18:29:13.126999 2280-11-01 18:46:51.870999\n",
      "2280-11-01 18:29:14\n",
      "2280-11-01 18:24:47 2280-11-01 18:26:47\n",
      "Skipping example 282: \n",
      "41\n",
      "2251-04-30 00:12:55.595999 2251-04-30 00:13:33.273999\n",
      "2251-04-30 00:13:26\n",
      "2251-04-30 00:10:45 2251-04-30 00:12:45\n",
      "Skipping example 283: \n"
     ]
    },
    {
     "name": "stderr",
     "output_type": "stream",
     "text": [
      " 71%|███████████████████████████████████████████████████▎                    | 285/400 [17:48<03:40,  1.91s/it]"
     ]
    },
    {
     "name": "stdout",
     "output_type": "stream",
     "text": [
      "71\n",
      "2290-01-15 01:07:50.362000 2290-01-15 01:28:02.356000\n",
      "2290-01-15 01:13:16\n",
      "2290-01-15 01:10:05 2290-01-15 01:12:05\n",
      "134.638\n",
      "120.0\n"
     ]
    },
    {
     "name": "stderr",
     "output_type": "stream",
     "text": [
      " 72%|███████████████████████████████████████████████████▍                    | 286/400 [17:49<03:05,  1.63s/it]"
     ]
    },
    {
     "name": "stdout",
     "output_type": "stream",
     "text": [
      "165\n",
      "2266-01-22 08:43:42.842000 2266-01-22 09:02:10.182000\n",
      "2266-01-22 08:44:22\n",
      "2266-01-22 08:39:37 2266-01-22 08:41:37\n",
      "Skipping example 285: \n"
     ]
    },
    {
     "name": "stderr",
     "output_type": "stream",
     "text": [
      " 72%|███████████████████████████████████████████████████▋                    | 287/400 [17:50<02:48,  1.49s/it]"
     ]
    },
    {
     "name": "stdout",
     "output_type": "stream",
     "text": [
      "14\n",
      "2209-11-15 08:17:19.730000 2209-11-15 08:35:36.370000\n",
      "2209-11-15 08:18:26\n",
      "2209-11-15 08:16:12 2209-11-15 08:18:12\n",
      "Skipping example 286: \n"
     ]
    },
    {
     "name": "stderr",
     "output_type": "stream",
     "text": [
      " 72%|███████████████████████████████████████████████████▊                    | 288/400 [17:56<05:03,  2.71s/it]"
     ]
    },
    {
     "name": "stdout",
     "output_type": "stream",
     "text": [
      "55\n",
      "2237-10-18 02:35:29.007000 2237-10-18 04:29:27.509000\n",
      "2237-10-18 03:08:27\n",
      "2237-10-18 03:05:32 2237-10-18 03:07:32\n",
      "1802.993\n",
      "120.0\n"
     ]
    },
    {
     "name": "stderr",
     "output_type": "stream",
     "text": [
      " 72%|████████████████████████████████████████████████████                    | 289/400 [18:00<05:51,  3.17s/it]"
     ]
    },
    {
     "name": "stdout",
     "output_type": "stream",
     "text": [
      "75\n",
      "2301-06-16 07:03:43.596000 2301-06-16 08:31:09.712000\n",
      "2301-06-16 08:21:31\n",
      "2301-06-16 08:18:16 2301-06-16 08:20:16\n",
      "4472.404\n",
      "120.0\n"
     ]
    },
    {
     "name": "stderr",
     "output_type": "stream",
     "text": [
      " 72%|████████████████████████████████████████████████████▏                   | 290/400 [18:03<05:31,  3.02s/it]"
     ]
    },
    {
     "name": "stdout",
     "output_type": "stream",
     "text": [
      "132\n",
      "2289-01-16 20:45:08.618000 2289-01-16 21:35:36.644000\n",
      "2289-01-16 21:04:14\n",
      "2289-01-16 21:00:02 2289-01-16 21:02:02\n",
      "893.382\n",
      "120.0\n"
     ]
    },
    {
     "name": "stderr",
     "output_type": "stream",
     "text": [
      " 73%|████████████████████████████████████████████████████▍                   | 291/400 [18:10<07:39,  4.22s/it]"
     ]
    },
    {
     "name": "stdout",
     "output_type": "stream",
     "text": [
      "156\n",
      "2222-10-18 04:52:41.118000 2222-10-18 07:21:10.722000\n",
      "2222-10-18 04:52:56\n",
      "2222-10-18 04:48:20 2222-10-18 04:50:20\n",
      "Skipping example 290: \n"
     ]
    },
    {
     "name": "stderr",
     "output_type": "stream",
     "text": [
      " 73%|████████████████████████████████████████████████████▌                   | 292/400 [18:12<06:27,  3.59s/it]"
     ]
    },
    {
     "name": "stdout",
     "output_type": "stream",
     "text": [
      "244\n",
      "2206-04-18 11:21:32.311000 2206-04-18 11:54:35.327000\n",
      "2206-04-18 11:33:25\n",
      "2206-04-18 11:27:21 2206-04-18 11:29:21\n",
      "348.689\n",
      "120.0\n"
     ]
    },
    {
     "name": "stderr",
     "output_type": "stream",
     "text": [
      " 73%|████████████████████████████████████████████████████▋                   | 293/400 [18:20<08:49,  4.95s/it]"
     ]
    },
    {
     "name": "stdout",
     "output_type": "stream",
     "text": [
      "224\n",
      "2298-01-21 16:58:44.007001 2298-01-21 19:51:57.731001\n",
      "2298-01-21 18:08:44\n",
      "2298-01-21 18:03:00 2298-01-21 18:05:00\n",
      "3855.992999\n",
      "120.0\n"
     ]
    },
    {
     "name": "stderr",
     "output_type": "stream",
     "text": [
      " 74%|████████████████████████████████████████████████████▉                   | 294/400 [18:29<10:30,  5.95s/it]"
     ]
    },
    {
     "name": "stdout",
     "output_type": "stream",
     "text": [
      "172\n",
      "2294-01-14 04:48:34.011001 2294-01-14 07:33:30.919001\n",
      "2294-01-14 05:04:34\n",
      "2294-01-14 04:59:42 2294-01-14 05:01:42\n",
      "667.988999\n",
      "120.0\n"
     ]
    },
    {
     "name": "stderr",
     "output_type": "stream",
     "text": [
      " 74%|█████████████████████████████████████████████████████                   | 295/400 [18:38<12:05,  6.91s/it]"
     ]
    },
    {
     "name": "stdout",
     "output_type": "stream",
     "text": [
      "195\n",
      "2220-02-28 19:33:22.802000 2220-02-28 22:34:14.612000\n",
      "2220-02-28 19:35:05\n",
      "2220-02-28 19:29:50 2220-02-28 19:31:50\n",
      "Skipping example 294: \n"
     ]
    },
    {
     "name": "stderr",
     "output_type": "stream",
     "text": [
      " 74%|█████████████████████████████████████████████████████▎                  | 296/400 [18:41<10:00,  5.77s/it]"
     ]
    },
    {
     "name": "stdout",
     "output_type": "stream",
     "text": [
      "107\n",
      "2272-06-19 15:58:26.415000 2272-06-19 16:55:01.483000\n",
      "2272-06-19 16:23:48\n",
      "2272-06-19 16:20:01 2272-06-19 16:22:01\n",
      "1294.585\n",
      "120.0\n"
     ]
    },
    {
     "name": "stderr",
     "output_type": "stream",
     "text": [
      " 74%|█████████████████████████████████████████████████████▋                  | 298/400 [18:42<05:16,  3.10s/it]"
     ]
    },
    {
     "name": "stdout",
     "output_type": "stream",
     "text": [
      "260\n",
      "2203-11-02 03:51:12.016000 2203-11-02 04:14:36.042000\n",
      "2203-11-02 03:52:12\n",
      "2203-11-02 03:45:52 2203-11-02 03:47:52\n",
      "Skipping example 296: \n",
      "282\n",
      "2278-12-25 07:22:38.846999 2278-12-25 07:26:48.186999\n",
      "2278-12-25 07:23:47\n",
      "2278-12-25 07:17:05 2278-12-25 07:19:05\n",
      "Skipping example 297: \n"
     ]
    },
    {
     "name": "stderr",
     "output_type": "stream",
     "text": [
      " 75%|█████████████████████████████████████████████████████▊                  | 299/400 [18:50<07:19,  4.35s/it]"
     ]
    },
    {
     "name": "stdout",
     "output_type": "stream",
     "text": [
      "127\n",
      "2239-04-11 00:54:03.262000 2239-04-11 03:15:42.506000\n",
      "2239-04-11 01:48:07\n",
      "2239-04-11 01:44:00 2239-04-11 01:46:00\n",
      "2996.738\n",
      "120.0\n"
     ]
    },
    {
     "name": "stderr",
     "output_type": "stream",
     "text": [
      " 75%|██████████████████████████████████████████████████████                  | 300/400 [18:51<05:34,  3.34s/it]"
     ]
    },
    {
     "name": "stdout",
     "output_type": "stream",
     "text": [
      "129\n",
      "2212-05-13 13:31:33.126001 2212-05-13 13:53:38.568001\n",
      "2212-05-13 13:31:43\n",
      "2212-05-13 13:27:34 2212-05-13 13:29:34\n",
      "Skipping example 299: \n"
     ]
    },
    {
     "name": "stderr",
     "output_type": "stream",
     "text": [
      " 75%|██████████████████████████████████████████████████████▏                 | 301/400 [18:51<04:13,  2.56s/it]"
     ]
    },
    {
     "name": "stdout",
     "output_type": "stream",
     "text": [
      "201\n",
      "2212-07-22 20:05:27.070000 2212-07-22 20:13:38.012000\n",
      "2212-07-22 20:12:17\n",
      "2212-07-22 20:06:56 2212-07-22 20:08:56\n",
      "88.93\n",
      "120.0\n"
     ]
    },
    {
     "name": "stderr",
     "output_type": "stream",
     "text": [
      " 76%|██████████████████████████████████████████████████████▎                 | 302/400 [18:53<04:01,  2.46s/it]"
     ]
    },
    {
     "name": "stdout",
     "output_type": "stream",
     "text": [
      "119\n",
      "2243-04-25 23:58:29.568001 2243-04-26 00:44:30.702001\n",
      "2243-04-26 00:20:43\n",
      "2243-04-26 00:16:44 2243-04-26 00:18:44\n",
      "1094.431999\n",
      "120.0\n"
     ]
    },
    {
     "name": "stderr",
     "output_type": "stream",
     "text": [
      " 76%|██████████████████████████████████████████████████████▌                 | 303/400 [18:56<03:52,  2.40s/it]"
     ]
    },
    {
     "name": "stdout",
     "output_type": "stream",
     "text": [
      "12\n",
      "2247-03-18 22:36:07.409998 2247-03-18 23:20:30.541998\n",
      "2247-03-18 22:45:43\n",
      "2247-03-18 22:43:31 2247-03-18 22:45:31\n",
      "443.590002\n",
      "120.0\n"
     ]
    },
    {
     "name": "stderr",
     "output_type": "stream",
     "text": [
      " 76%|██████████████████████████████████████████████████████▋                 | 304/400 [18:57<03:22,  2.10s/it]"
     ]
    },
    {
     "name": "stdout",
     "output_type": "stream",
     "text": [
      "83\n",
      "2250-09-14 21:08:20.067001 2250-09-14 21:43:18.307001\n",
      "2250-09-14 21:12:39\n",
      "2250-09-14 21:09:16 2250-09-14 21:11:16\n",
      "55.932999\n",
      "120.0\n"
     ]
    },
    {
     "name": "stderr",
     "output_type": "stream",
     "text": [
      " 76%|██████████████████████████████████████████████████████▉                 | 305/400 [18:58<02:34,  1.63s/it]"
     ]
    },
    {
     "name": "stdout",
     "output_type": "stream",
     "text": [
      "172\n",
      "2214-01-02 11:48:14.009000 2214-01-02 11:51:07.027000\n",
      "2214-01-02 11:49:14\n",
      "2214-01-02 11:44:22 2214-01-02 11:46:22\n",
      "Skipping example 304: \n"
     ]
    },
    {
     "name": "stderr",
     "output_type": "stream",
     "text": [
      " 76%|███████████████████████████████████████████████████████                 | 306/400 [18:59<02:14,  1.43s/it]"
     ]
    },
    {
     "name": "stdout",
     "output_type": "stream",
     "text": [
      "102\n",
      "2300-03-22 12:36:46.927001 2300-03-22 13:00:48.099001\n",
      "2300-03-22 12:38:05\n",
      "2300-03-22 12:34:23 2300-03-22 12:36:23\n",
      "Skipping example 305: \n"
     ]
    },
    {
     "name": "stderr",
     "output_type": "stream",
     "text": [
      " 77%|███████████████████████████████████████████████████████▎                | 307/400 [19:03<03:46,  2.44s/it]"
     ]
    },
    {
     "name": "stdout",
     "output_type": "stream",
     "text": [
      "134\n",
      "2202-04-21 22:34:20.554000 2202-04-22 00:12:49.274000\n",
      "2202-04-21 23:49:39\n",
      "2202-04-21 23:45:25 2202-04-21 23:47:25\n",
      "4264.446\n",
      "120.0\n"
     ]
    },
    {
     "name": "stderr",
     "output_type": "stream",
     "text": [
      " 77%|███████████████████████████████████████████████████████▍                | 308/400 [19:10<05:32,  3.61s/it]"
     ]
    },
    {
     "name": "stdout",
     "output_type": "stream",
     "text": [
      "86\n",
      "2203-07-22 00:22:18.065000 2203-07-22 02:27:58.361000\n",
      "2203-07-22 01:47:07\n",
      "2203-07-22 01:43:41 2203-07-22 01:45:41\n",
      "4882.935\n",
      "120.0\n"
     ]
    },
    {
     "name": "stderr",
     "output_type": "stream",
     "text": [
      " 77%|███████████████████████████████████████████████████████▌                | 309/400 [19:17<06:57,  4.59s/it]"
     ]
    },
    {
     "name": "stdout",
     "output_type": "stream",
     "text": [
      "251\n",
      "2211-04-27 00:30:09.061000 2211-04-27 02:45:34.679000\n",
      "2211-04-27 02:30:14\n",
      "2211-04-27 02:24:03 2211-04-27 02:26:03\n",
      "6833.939\n",
      "120.0\n"
     ]
    },
    {
     "name": "stderr",
     "output_type": "stream",
     "text": [
      " 78%|███████████████████████████████████████████████████████▊                | 310/400 [19:23<07:39,  5.11s/it]"
     ]
    },
    {
     "name": "stdout",
     "output_type": "stream",
     "text": [
      "240\n",
      "2225-10-27 18:25:39.238999 2225-10-27 20:27:06.630999\n",
      "2225-10-27 20:23:12\n",
      "2225-10-27 20:17:12 2225-10-27 20:19:12\n",
      "6692.761001\n",
      "120.0\n"
     ]
    },
    {
     "name": "stderr",
     "output_type": "stream",
     "text": [
      " 78%|███████████████████████████████████████████████████████▉                | 311/400 [19:24<05:51,  3.95s/it]"
     ]
    },
    {
     "name": "stdout",
     "output_type": "stream",
     "text": [
      "133\n",
      "2205-02-22 06:17:18.011000 2205-02-22 06:45:38.823000\n",
      "2205-02-22 06:26:18\n",
      "2205-02-22 06:22:05 2205-02-22 06:24:05\n",
      "286.989\n",
      "120.0\n"
     ]
    },
    {
     "name": "stderr",
     "output_type": "stream",
     "text": [
      " 78%|████████████████████████████████████████████████████████▏               | 312/400 [19:30<06:37,  4.52s/it]"
     ]
    },
    {
     "name": "stdout",
     "output_type": "stream",
     "text": [
      "96\n",
      "2207-10-30 01:28:20.144001 2207-10-30 03:18:18.220001\n",
      "2207-10-30 01:54:35\n",
      "2207-10-30 01:50:59 2207-10-30 01:52:59\n",
      "1358.855999\n",
      "120.0\n"
     ]
    },
    {
     "name": "stderr",
     "output_type": "stream",
     "text": [
      " 78%|████████████████████████████████████████████████████████▎               | 313/400 [19:34<06:10,  4.25s/it]"
     ]
    },
    {
     "name": "stdout",
     "output_type": "stream",
     "text": [
      "225\n",
      "2207-07-22 16:21:08.018000 2207-07-22 17:32:32.522000\n",
      "2207-07-22 17:32:08\n",
      "2207-07-22 17:26:23 2207-07-22 17:28:23\n",
      "3914.982\n",
      "120.0\n"
     ]
    },
    {
     "name": "stderr",
     "output_type": "stream",
     "text": [
      " 78%|████████████████████████████████████████████████████████▌               | 314/400 [19:39<06:34,  4.59s/it]"
     ]
    },
    {
     "name": "stdout",
     "output_type": "stream",
     "text": [
      "274\n",
      "2293-03-18 23:34:55.416000 2293-03-19 01:31:17.420000\n",
      "2293-03-19 01:28:24\n",
      "2293-03-19 01:21:50 2293-03-19 01:23:50\n",
      "6414.584\n",
      "120.0\n"
     ]
    },
    {
     "name": "stderr",
     "output_type": "stream",
     "text": [
      " 79%|████████████████████████████████████████████████████████▋               | 315/400 [19:59<12:48,  9.04s/it]"
     ]
    },
    {
     "name": "stdout",
     "output_type": "stream",
     "text": [
      "288\n",
      "2295-05-09 18:31:19.087999 2295-05-10 00:43:51.373999\n",
      "2295-05-09 19:06:55\n",
      "2295-05-09 19:00:07 2295-05-09 19:02:07\n",
      "1727.912001\n",
      "120.0\n"
     ]
    },
    {
     "name": "stderr",
     "output_type": "stream",
     "text": [
      " 79%|████████████████████████████████████████████████████████▉               | 316/400 [20:00<09:33,  6.83s/it]"
     ]
    },
    {
     "name": "stdout",
     "output_type": "stream",
     "text": [
      "84\n",
      "2251-07-13 02:56:26.325000 2251-07-13 03:31:12.345000\n",
      "2251-07-13 03:27:23\n",
      "2251-07-13 03:23:59 2251-07-13 03:25:59\n",
      "1652.675\n",
      "120.0\n"
     ]
    },
    {
     "name": "stderr",
     "output_type": "stream",
     "text": [
      " 79%|█████████████████████████████████████████████████████████               | 317/400 [20:10<10:28,  7.58s/it]"
     ]
    },
    {
     "name": "stdout",
     "output_type": "stream",
     "text": [
      "241\n",
      "2238-06-10 05:48:09.732000 2238-06-10 09:02:29.930000\n",
      "2238-06-10 09:01:06\n",
      "2238-06-10 08:55:05 2238-06-10 08:57:05\n",
      "11215.268\n",
      "120.0\n"
     ]
    },
    {
     "name": "stderr",
     "output_type": "stream",
     "text": [
      " 80%|█████████████████████████████████████████████████████████▏              | 318/400 [20:12<08:21,  6.11s/it]"
     ]
    },
    {
     "name": "stdout",
     "output_type": "stream",
     "text": [
      "251\n",
      "2233-10-06 13:36:30.448000 2233-10-06 14:39:07.680000\n",
      "2233-10-06 13:49:12\n",
      "2233-10-06 13:43:01 2233-10-06 13:45:01\n",
      "390.552\n",
      "120.0\n"
     ]
    },
    {
     "name": "stderr",
     "output_type": "stream",
     "text": [
      " 80%|█████████████████████████████████████████████████████████▍              | 319/400 [20:13<06:09,  4.57s/it]"
     ]
    },
    {
     "name": "stdout",
     "output_type": "stream",
     "text": [
      "135\n",
      "2248-09-13 04:57:11.732000 2248-09-13 05:09:16.672000\n",
      "2248-09-13 05:06:48\n",
      "2248-09-13 05:02:33 2248-09-13 05:04:33\n",
      "321.268\n",
      "120.0\n",
      "183\n",
      "2286-04-17 19:52:47.004001 2286-04-17 19:54:09.496001\n",
      "2286-04-17 19:53:47\n",
      "2286-04-17 19:48:44 2286-04-17 19:50:44\n",
      "Skipping example 319: \n"
     ]
    },
    {
     "name": "stderr",
     "output_type": "stream",
     "text": [
      " 80%|█████████████████████████████████████████████████████████▊              | 321/400 [20:16<04:09,  3.16s/it]"
     ]
    },
    {
     "name": "stdout",
     "output_type": "stream",
     "text": [
      "180\n",
      "2248-01-04 03:07:09.015000 2248-01-04 04:12:48.763000\n",
      "2248-01-04 04:03:09\n",
      "2248-01-04 03:58:09 2248-01-04 04:00:09\n",
      "3059.985\n",
      "120.0\n"
     ]
    },
    {
     "name": "stderr",
     "output_type": "stream",
     "text": [
      " 80%|█████████████████████████████████████████████████████████▉              | 322/400 [20:21<04:29,  3.45s/it]"
     ]
    },
    {
     "name": "stdout",
     "output_type": "stream",
     "text": [
      "53\n",
      "2294-05-01 17:48:53.013000 2294-05-01 19:08:33.883000\n",
      "2294-05-01 18:57:53\n",
      "2294-05-01 18:55:00 2294-05-01 18:57:00\n",
      "3966.987\n",
      "120.0\n"
     ]
    },
    {
     "name": "stderr",
     "output_type": "stream",
     "text": [
      " 81%|██████████████████████████████████████████████████████████▏             | 323/400 [20:42<10:30,  8.19s/it]"
     ]
    },
    {
     "name": "stdout",
     "output_type": "stream",
     "text": [
      "258\n",
      "2261-09-12 16:47:56.508001 2261-09-13 00:00:08.322001\n",
      "2261-09-12 21:18:52\n",
      "2261-09-12 21:12:34 2261-09-12 21:14:34\n",
      "15877.491999\n",
      "120.0\n"
     ]
    },
    {
     "name": "stderr",
     "output_type": "stream",
     "text": [
      " 81%|██████████████████████████████████████████████████████████▎             | 324/400 [20:44<08:04,  6.37s/it]"
     ]
    },
    {
     "name": "stdout",
     "output_type": "stream",
     "text": [
      "228\n",
      "2235-11-25 14:12:54.236001 2235-11-25 14:42:03.944001\n",
      "2235-11-25 14:13:05\n",
      "2235-11-25 14:07:17 2235-11-25 14:09:17\n",
      "Skipping example 323: \n"
     ]
    },
    {
     "name": "stderr",
     "output_type": "stream",
     "text": [
      " 81%|██████████████████████████████████████████████████████████▌             | 325/400 [20:47<06:58,  5.58s/it]"
     ]
    },
    {
     "name": "stdout",
     "output_type": "stream",
     "text": [
      "103\n",
      "2292-03-13 00:28:20.044001 2292-03-13 01:44:57.974001\n",
      "2292-03-13 01:08:13\n",
      "2292-03-13 01:04:30 2292-03-13 01:06:30\n",
      "2169.955999\n",
      "120.0\n"
     ]
    },
    {
     "name": "stderr",
     "output_type": "stream",
     "text": [
      " 82%|██████████████████████████████████████████████████████████▋             | 326/400 [20:54<07:19,  5.94s/it]"
     ]
    },
    {
     "name": "stdout",
     "output_type": "stream",
     "text": [
      "135\n",
      "2264-07-19 22:16:50.807001 2264-07-20 00:34:00.011001\n",
      "2264-07-19 23:14:52\n",
      "2264-07-19 23:10:37 2264-07-19 23:12:37\n",
      "3226.192999\n",
      "120.0\n"
     ]
    },
    {
     "name": "stderr",
     "output_type": "stream",
     "text": [
      " 82%|██████████████████████████████████████████████████████████▊             | 327/400 [20:57<06:01,  4.95s/it]"
     ]
    },
    {
     "name": "stdout",
     "output_type": "stream",
     "text": [
      "285\n",
      "2248-09-23 20:47:24.963999 2248-09-23 21:32:44.049999\n",
      "2248-09-23 21:30:26\n",
      "2248-09-23 21:23:41 2248-09-23 21:25:41\n",
      "2176.036001\n",
      "120.0\n"
     ]
    },
    {
     "name": "stderr",
     "output_type": "stream",
     "text": [
      " 82%|███████████████████████████████████████████████████████████             | 328/400 [20:58<04:34,  3.81s/it]"
     ]
    },
    {
     "name": "stdout",
     "output_type": "stream",
     "text": [
      "233\n",
      "2233-05-24 16:54:09.300000 2233-05-24 17:20:00.410000\n",
      "2233-05-24 17:06:02\n",
      "2233-05-24 17:00:09 2233-05-24 17:02:09\n",
      "359.7\n",
      "120.0\n"
     ]
    },
    {
     "name": "stderr",
     "output_type": "stream",
     "text": [
      " 82%|███████████████████████████████████████████████████████████▏            | 329/400 [21:01<04:28,  3.78s/it]"
     ]
    },
    {
     "name": "stdout",
     "output_type": "stream",
     "text": [
      "50\n",
      "2206-10-04 12:32:33.920000 2206-10-04 13:44:45.828000\n",
      "2206-10-04 13:11:20\n",
      "2206-10-04 13:08:30 2206-10-04 13:10:30\n",
      "2156.08\n",
      "120.0\n"
     ]
    },
    {
     "name": "stderr",
     "output_type": "stream",
     "text": [
      " 82%|███████████████████████████████████████████████████████████▍            | 330/400 [21:03<03:44,  3.21s/it]"
     ]
    },
    {
     "name": "stdout",
     "output_type": "stream",
     "text": [
      "76\n",
      "2263-09-16 10:04:52.118001 2263-09-16 10:37:35.186001\n",
      "2263-09-16 10:16:23\n",
      "2263-09-16 10:13:07 2263-09-16 10:15:07\n",
      "494.881999\n",
      "120.0\n"
     ]
    },
    {
     "name": "stderr",
     "output_type": "stream",
     "text": [
      " 83%|███████████████████████████████████████████████████████████▌            | 331/400 [21:04<02:59,  2.60s/it]"
     ]
    },
    {
     "name": "stdout",
     "output_type": "stream",
     "text": [
      "106\n",
      "2207-12-31 09:18:36.110001 2207-12-31 09:46:45.438001\n",
      "2207-12-31 09:27:23\n",
      "2207-12-31 09:23:37 2207-12-31 09:25:37\n",
      "300.889999\n",
      "120.0\n"
     ]
    },
    {
     "name": "stderr",
     "output_type": "stream",
     "text": [
      " 83%|███████████████████████████████████████████████████████████▊            | 332/400 [21:05<02:08,  1.89s/it]"
     ]
    },
    {
     "name": "stdout",
     "output_type": "stream",
     "text": [
      "187\n",
      "2270-12-16 22:08:26.456001 2270-12-16 22:13:06.826001\n",
      "2270-12-16 22:08:50\n",
      "2270-12-16 22:03:43 2270-12-16 22:05:43\n",
      "Skipping example 331: \n"
     ]
    },
    {
     "name": "stderr",
     "output_type": "stream",
     "text": [
      " 83%|███████████████████████████████████████████████████████████▉            | 333/400 [21:06<01:52,  1.68s/it]"
     ]
    },
    {
     "name": "stdout",
     "output_type": "stream",
     "text": [
      "3\n",
      "2214-12-20 02:37:53.012000 2214-12-20 02:58:34.010000\n",
      "2214-12-20 02:55:53\n",
      "2214-12-20 02:53:50 2214-12-20 02:55:50\n",
      "956.988\n",
      "120.0\n"
     ]
    },
    {
     "name": "stderr",
     "output_type": "stream",
     "text": [
      " 84%|████████████████████████████████████████████████████████████            | 334/400 [21:08<02:10,  1.98s/it]"
     ]
    },
    {
     "name": "stdout",
     "output_type": "stream",
     "text": [
      "246\n",
      "2218-04-14 18:09:00.415000 2218-04-14 19:05:35.483000\n",
      "2218-04-14 18:11:22\n",
      "2218-04-14 18:05:16 2218-04-14 18:07:16\n",
      "Skipping example 333: \n"
     ]
    },
    {
     "name": "stderr",
     "output_type": "stream",
     "text": [
      " 84%|████████████████████████████████████████████████████████████▎           | 335/400 [21:11<02:15,  2.09s/it]"
     ]
    },
    {
     "name": "stdout",
     "output_type": "stream",
     "text": [
      "296\n",
      "2239-02-19 05:58:56.047000 2239-02-19 06:45:27.367000\n",
      "2239-02-19 06:17:35\n",
      "2239-02-19 06:10:39 2239-02-19 06:12:39\n",
      "702.953\n",
      "120.0\n"
     ]
    },
    {
     "name": "stderr",
     "output_type": "stream",
     "text": [
      " 84%|████████████████████████████████████████████████████████████▍           | 336/400 [21:13<02:10,  2.04s/it]"
     ]
    },
    {
     "name": "stdout",
     "output_type": "stream",
     "text": [
      "149\n",
      "2202-03-10 20:17:51.305000 2202-03-10 20:54:11.649000\n",
      "2202-03-10 20:36:49\n",
      "2202-03-10 20:32:20 2202-03-10 20:34:20\n",
      "868.695\n",
      "120.0\n"
     ]
    },
    {
     "name": "stderr",
     "output_type": "stream",
     "text": [
      " 84%|████████████████████████████████████████████████████████████▋           | 337/400 [21:17<02:52,  2.74s/it]"
     ]
    },
    {
     "name": "stdout",
     "output_type": "stream",
     "text": [
      "176\n",
      "2280-01-09 09:16:50.413000 2280-01-09 10:40:32.217000\n",
      "2280-01-09 09:54:42\n",
      "2280-01-09 09:49:46 2280-01-09 09:51:46\n",
      "1975.587\n",
      "120.0\n"
     ]
    },
    {
     "name": "stderr",
     "output_type": "stream",
     "text": [
      " 84%|████████████████████████████████████████████████████████████▊           | 338/400 [21:20<02:55,  2.84s/it]"
     ]
    },
    {
     "name": "stdout",
     "output_type": "stream",
     "text": [
      "127\n",
      "2259-09-16 19:17:15.875000 2259-09-16 20:17:15.305000\n",
      "2259-09-16 19:21:49\n",
      "2259-09-16 19:17:42 2259-09-16 19:19:42\n",
      "26.125\n",
      "120.0\n"
     ]
    },
    {
     "name": "stderr",
     "output_type": "stream",
     "text": [
      " 85%|█████████████████████████████████████████████████████████████           | 339/400 [21:28<04:31,  4.45s/it]"
     ]
    },
    {
     "name": "stdout",
     "output_type": "stream",
     "text": [
      "131\n",
      "2267-12-05 14:54:56.568000 2267-12-05 17:46:45.780000\n",
      "2267-12-05 15:49:28\n",
      "2267-12-05 15:45:17 2267-12-05 15:47:17\n",
      "3020.432\n",
      "120.0\n"
     ]
    },
    {
     "name": "stderr",
     "output_type": "stream",
     "text": [
      " 85%|█████████████████████████████████████████████████████████████▏          | 340/400 [21:36<05:18,  5.31s/it]"
     ]
    },
    {
     "name": "stdout",
     "output_type": "stream",
     "text": [
      "122\n",
      "2218-03-30 20:47:48.434000 2218-03-30 23:06:09.366000\n",
      "2218-03-30 20:57:36\n",
      "2218-03-30 20:53:34 2218-03-30 20:55:34\n",
      "345.566\n",
      "120.0\n"
     ]
    },
    {
     "name": "stderr",
     "output_type": "stream",
     "text": [
      " 85%|█████████████████████████████████████████████████████████████▍          | 341/400 [21:43<05:52,  5.98s/it]"
     ]
    },
    {
     "name": "stdout",
     "output_type": "stream",
     "text": [
      "20\n",
      "2257-11-08 09:03:53.570001 2257-11-08 11:29:54.166001\n",
      "2257-11-08 09:04:28\n",
      "2257-11-08 09:02:08 2257-11-08 09:04:08\n",
      "Skipping example 340: \n"
     ]
    },
    {
     "name": "stderr",
     "output_type": "stream",
     "text": [
      " 86%|█████████████████████████████████████████████████████████████▌          | 342/400 [21:49<05:47,  5.99s/it]"
     ]
    },
    {
     "name": "stdout",
     "output_type": "stream",
     "text": [
      "257\n",
      "2235-11-05 01:05:52.633000 2235-11-05 03:12:00.577000\n",
      "2235-11-05 01:06:42\n",
      "2235-11-05 01:00:25 2235-11-05 01:02:25\n",
      "Skipping example 341: \n"
     ]
    },
    {
     "name": "stderr",
     "output_type": "stream",
     "text": [
      " 86%|█████████████████████████████████████████████████████████████▋          | 343/400 [21:51<04:35,  4.83s/it]"
     ]
    },
    {
     "name": "stdout",
     "output_type": "stream",
     "text": [
      "66\n",
      "2237-06-18 15:31:11.345000 2237-06-18 16:22:22.843000\n",
      "2237-06-18 16:00:57\n",
      "2237-06-18 15:57:51 2237-06-18 15:59:51\n",
      "1599.655\n",
      "120.0\n"
     ]
    },
    {
     "name": "stderr",
     "output_type": "stream",
     "text": [
      " 86%|█████████████████████████████████████████████████████████████▉          | 344/400 [22:03<06:19,  6.77s/it]"
     ]
    },
    {
     "name": "stdout",
     "output_type": "stream",
     "text": [
      "87\n",
      "2240-04-10 01:22:29.402000 2240-04-10 05:03:31.900000\n",
      "2240-04-10 03:37:09\n",
      "2240-04-10 03:33:42 2240-04-10 03:35:42\n",
      "7872.598\n",
      "120.0\n"
     ]
    },
    {
     "name": "stderr",
     "output_type": "stream",
     "text": [
      " 86%|██████████████████████████████████████████████████████████████          | 345/400 [22:06<05:14,  5.72s/it]"
     ]
    },
    {
     "name": "stdout",
     "output_type": "stream",
     "text": [
      "212\n",
      "2251-02-12 09:05:02.008001 2251-02-12 10:01:57.284001\n",
      "2251-02-12 09:12:02\n",
      "2251-02-12 09:06:30 2251-02-12 09:08:30\n",
      "87.991999\n",
      "120.0\n"
     ]
    },
    {
     "name": "stderr",
     "output_type": "stream",
     "text": [
      " 86%|██████████████████████████████████████████████████████████████▎         | 346/400 [22:07<03:54,  4.35s/it]"
     ]
    },
    {
     "name": "stdout",
     "output_type": "stream",
     "text": [
      "142\n",
      "2285-07-02 20:57:10.124001 2285-07-02 21:24:52.670001\n",
      "2285-07-02 21:14:03\n",
      "2285-07-02 21:09:41 2285-07-02 21:11:41\n",
      "750.875999\n",
      "120.0\n"
     ]
    },
    {
     "name": "stderr",
     "output_type": "stream",
     "text": [
      " 87%|██████████████████████████████████████████████████████████████▍         | 347/400 [22:12<03:58,  4.51s/it]"
     ]
    },
    {
     "name": "stdout",
     "output_type": "stream",
     "text": [
      "114\n",
      "2230-10-11 21:39:06.810000 2230-10-11 23:27:43.526000\n",
      "2230-10-11 21:40:52\n",
      "2230-10-11 21:36:58 2230-10-11 21:38:58\n",
      "Skipping example 346: \n"
     ]
    },
    {
     "name": "stderr",
     "output_type": "stream",
     "text": [
      " 87%|██████████████████████████████████████████████████████████████▋         | 348/400 [22:13<03:08,  3.63s/it]"
     ]
    },
    {
     "name": "stdout",
     "output_type": "stream",
     "text": [
      "115\n",
      "2278-12-08 21:03:42.078000 2278-12-08 21:27:28.006000\n",
      "2278-12-08 21:18:27\n",
      "2278-12-08 21:14:32 2278-12-08 21:16:32\n",
      "649.922\n",
      "120.0\n"
     ]
    },
    {
     "name": "stderr",
     "output_type": "stream",
     "text": [
      " 87%|██████████████████████████████████████████████████████████████▊         | 349/400 [22:15<02:33,  3.01s/it]"
     ]
    },
    {
     "name": "stdout",
     "output_type": "stream",
     "text": [
      "286\n",
      "2293-09-03 13:22:48.006001 2293-09-03 14:01:47.990001\n",
      "2293-09-03 13:28:48\n",
      "2293-09-03 13:22:02 2293-09-03 13:24:02\n",
      "Skipping example 348: \n"
     ]
    },
    {
     "name": "stderr",
     "output_type": "stream",
     "text": [
      " 88%|███████████████████████████████████████████████████████████████         | 350/400 [22:20<03:06,  3.73s/it]"
     ]
    },
    {
     "name": "stdout",
     "output_type": "stream",
     "text": [
      "283\n",
      "2223-03-24 13:08:59.302000 2223-03-24 14:48:37.392000\n",
      "2223-03-24 13:09:29\n",
      "2223-03-24 13:02:46 2223-03-24 13:04:46\n",
      "Skipping example 349: \n"
     ]
    },
    {
     "name": "stderr",
     "output_type": "stream",
     "text": [
      " 88%|███████████████████████████████████████████████████████████████▏        | 351/400 [22:25<03:13,  3.94s/it]"
     ]
    },
    {
     "name": "stdout",
     "output_type": "stream",
     "text": [
      "246\n",
      "2219-06-08 11:47:46.335000 2219-06-08 13:19:03.855000\n",
      "2219-06-08 11:47:53\n",
      "2219-06-08 11:41:47 2219-06-08 11:43:47\n",
      "Skipping example 350: \n"
     ]
    },
    {
     "name": "stderr",
     "output_type": "stream",
     "text": [
      " 88%|███████████████████████████████████████████████████████████████▌        | 353/400 [22:29<02:09,  2.76s/it]"
     ]
    },
    {
     "name": "stdout",
     "output_type": "stream",
     "text": [
      "166\n",
      "2204-02-27 23:20:17.458000 2204-02-28 00:36:43.900000\n",
      "2204-02-28 00:34:54\n",
      "2204-02-28 00:30:08 2204-02-28 00:32:08\n",
      "4190.542\n",
      "120.0\n",
      "251\n",
      "2275-01-24 20:28:02.798000 2275-01-24 20:31:07.930000\n",
      "2275-01-24 20:28:07\n",
      "2275-01-24 20:21:56 2275-01-24 20:23:56\n",
      "Skipping example 352: \n"
     ]
    },
    {
     "name": "stderr",
     "output_type": "stream",
     "text": [
      " 89%|███████████████████████████████████████████████████████████████▉        | 355/400 [22:31<01:21,  1.81s/it]"
     ]
    },
    {
     "name": "stdout",
     "output_type": "stream",
     "text": [
      "159\n",
      "2231-01-16 02:39:56.650999 2231-01-16 03:19:48.902999\n",
      "2231-01-16 03:11:05\n",
      "2231-01-16 03:06:26 2231-01-16 03:08:26\n",
      "1589.349001\n",
      "120.0\n",
      "235\n",
      "2214-09-23 23:13:13.012000 2214-09-23 23:16:56.438000\n",
      "2214-09-23 23:14:06\n",
      "2214-09-23 23:08:11 2214-09-23 23:10:11\n",
      "Skipping example 354: \n"
     ]
    },
    {
     "name": "stderr",
     "output_type": "stream",
     "text": [
      " 89%|████████████████████████████████████████████████████████████████▎       | 357/400 [22:34<01:03,  1.49s/it]"
     ]
    },
    {
     "name": "stdout",
     "output_type": "stream",
     "text": [
      "228\n",
      "2275-10-11 11:16:45.364001 2275-10-11 12:04:42.130001\n",
      "2275-10-11 11:16:48\n",
      "2275-10-11 11:11:00 2275-10-11 11:13:00\n",
      "Skipping example 355: \n",
      "192\n",
      "2215-06-04 11:18:12.461000 2215-06-04 11:20:30.499000\n",
      "2215-06-04 11:18:29\n",
      "2215-06-04 11:13:17 2215-06-04 11:15:17\n",
      "Skipping example 356: \n"
     ]
    },
    {
     "name": "stderr",
     "output_type": "stream",
     "text": [
      " 90%|████████████████████████████████████████████████████████████████▍       | 358/400 [22:35<00:55,  1.31s/it]"
     ]
    },
    {
     "name": "stdout",
     "output_type": "stream",
     "text": [
      "131\n",
      "2254-03-04 02:48:03.008999 2254-03-04 03:10:13.800999\n",
      "2254-03-04 03:09:00\n",
      "2254-03-04 03:04:49 2254-03-04 03:06:49\n",
      "1005.991001\n",
      "120.0\n"
     ]
    },
    {
     "name": "stderr",
     "output_type": "stream",
     "text": [
      " 90%|████████████████████████████████████████████████████████████████▌       | 359/400 [22:35<00:40,  1.02it/s]"
     ]
    },
    {
     "name": "stdout",
     "output_type": "stream",
     "text": [
      "187\n",
      "2230-01-09 04:14:33.329000 2230-01-09 04:19:17.223000\n",
      "2230-01-09 04:18:29\n",
      "2230-01-09 04:13:22 2230-01-09 04:15:22\n",
      "Skipping example 358: \n"
     ]
    },
    {
     "name": "stderr",
     "output_type": "stream",
     "text": [
      " 90%|████████████████████████████████████████████████████████████████▊       | 360/400 [22:36<00:43,  1.09s/it]"
     ]
    },
    {
     "name": "stdout",
     "output_type": "stream",
     "text": [
      "84\n",
      "2210-09-05 22:22:08.976000 2210-09-05 22:46:02.942000\n",
      "2210-09-05 22:33:52\n",
      "2210-09-05 22:30:28 2210-09-05 22:32:28\n",
      "499.024\n",
      "120.0\n"
     ]
    },
    {
     "name": "stderr",
     "output_type": "stream",
     "text": [
      " 90%|████████████████████████████████████████████████████████████████▉       | 361/400 [22:40<01:11,  1.83s/it]"
     ]
    },
    {
     "name": "stdout",
     "output_type": "stream",
     "text": [
      "217\n",
      "2270-12-18 10:07:25.110999 2270-12-18 11:14:35.642999\n",
      "2270-12-18 10:09:18\n",
      "2270-12-18 10:03:41 2270-12-18 10:05:41\n",
      "Skipping example 360: \n"
     ]
    },
    {
     "name": "stderr",
     "output_type": "stream",
     "text": [
      " 90%|█████████████████████████████████████████████████████████████████▏      | 362/400 [22:47<02:08,  3.37s/it]"
     ]
    },
    {
     "name": "stdout",
     "output_type": "stream",
     "text": [
      "6\n",
      "2247-09-28 20:37:12.145001 2247-09-28 22:55:47.679001\n",
      "2247-09-28 20:47:10\n",
      "2247-09-28 20:45:04 2247-09-28 20:47:04\n",
      "471.854999\n",
      "120.0\n"
     ]
    },
    {
     "name": "stderr",
     "output_type": "stream",
     "text": [
      " 91%|█████████████████████████████████████████████████████████████████▎      | 363/400 [22:49<01:57,  3.18s/it]"
     ]
    },
    {
     "name": "stdout",
     "output_type": "stream",
     "text": [
      "299\n",
      "2242-09-09 08:32:22.811000 2242-09-09 09:19:59.065000\n",
      "2242-09-09 08:40:05\n",
      "2242-09-09 08:33:06 2242-09-09 08:35:06\n",
      "43.189\n",
      "120.0\n"
     ]
    },
    {
     "name": "stderr",
     "output_type": "stream",
     "text": [
      " 91%|█████████████████████████████████████████████████████████████████▌      | 364/400 [22:52<01:51,  3.09s/it]"
     ]
    },
    {
     "name": "stdout",
     "output_type": "stream",
     "text": [
      "110\n",
      "2255-08-06 06:55:26.033000 2255-08-06 07:54:41.917000\n",
      "2255-08-06 06:55:47\n",
      "2255-08-06 06:51:57 2255-08-06 06:53:57\n",
      "Skipping example 363: \n"
     ]
    },
    {
     "name": "stderr",
     "output_type": "stream",
     "text": [
      " 91%|█████████████████████████████████████████████████████████████████▋      | 365/400 [22:53<01:19,  2.28s/it]"
     ]
    },
    {
     "name": "stdout",
     "output_type": "stream",
     "text": [
      "109\n",
      "2219-12-26 05:56:11.111000 2219-12-26 06:04:40.235000\n",
      "2219-12-26 06:01:49\n",
      "2219-12-26 05:58:00 2219-12-26 06:00:00\n",
      "108.889\n",
      "120.0\n"
     ]
    },
    {
     "name": "stderr",
     "output_type": "stream",
     "text": [
      " 92%|█████████████████████████████████████████████████████████████████▉      | 366/400 [22:55<01:20,  2.36s/it]"
     ]
    },
    {
     "name": "stdout",
     "output_type": "stream",
     "text": [
      "212\n",
      "2286-04-02 21:06:15.324000 2286-04-02 21:59:00.590000\n",
      "2286-04-02 21:06:42\n",
      "2286-04-02 21:01:10 2286-04-02 21:03:10\n",
      "Skipping example 365: \n"
     ]
    },
    {
     "name": "stderr",
     "output_type": "stream",
     "text": [
      " 92%|██████████████████████████████████████████████████████████████████      | 367/400 [23:03<02:06,  3.85s/it]"
     ]
    },
    {
     "name": "stdout",
     "output_type": "stream",
     "text": [
      "184\n",
      "2238-03-02 10:22:19.500999 2238-03-02 12:40:24.322999\n",
      "2238-03-02 12:33:23\n",
      "2238-03-02 12:28:19 2238-03-02 12:30:19\n",
      "7559.499001\n",
      "120.0\n"
     ]
    },
    {
     "name": "stderr",
     "output_type": "stream",
     "text": [
      " 92%|██████████████████████████████████████████████████████████████████▏     | 368/400 [23:05<01:54,  3.57s/it]"
     ]
    },
    {
     "name": "stdout",
     "output_type": "stream",
     "text": [
      "214\n",
      "2257-08-19 13:58:54.007999 2257-08-19 15:06:58.579999\n",
      "2257-08-19 14:01:26\n",
      "2257-08-19 13:55:52 2257-08-19 13:57:52\n",
      "Skipping example 367: \n"
     ]
    },
    {
     "name": "stderr",
     "output_type": "stream",
     "text": [
      " 92%|██████████████████████████████████████████████████████████████████▍     | 369/400 [23:06<01:19,  2.56s/it]"
     ]
    },
    {
     "name": "stdout",
     "output_type": "stream",
     "text": [
      "200\n",
      "2251-03-19 23:59:41.904000 2251-03-20 00:03:46.028000\n",
      "2251-03-20 00:00:41\n",
      "2251-03-19 23:55:21 2251-03-19 23:57:21\n",
      "Skipping example 368: \n"
     ]
    },
    {
     "name": "stderr",
     "output_type": "stream",
     "text": [
      " 92%|██████████████████████████████████████████████████████████████████▌     | 370/400 [23:11<01:39,  3.33s/it]"
     ]
    },
    {
     "name": "stdout",
     "output_type": "stream",
     "text": [
      "200\n",
      "2291-05-26 03:50:00.003999 2291-05-26 05:29:47.559999\n",
      "2291-05-26 04:06:07\n",
      "2291-05-26 04:00:47 2291-05-26 04:02:47\n",
      "646.996001\n",
      "120.0\n"
     ]
    },
    {
     "name": "stderr",
     "output_type": "stream",
     "text": [
      " 93%|██████████████████████████████████████████████████████████████████▊     | 371/400 [23:11<01:10,  2.44s/it]"
     ]
    },
    {
     "name": "stdout",
     "output_type": "stream",
     "text": [
      "200\n",
      "2285-06-22 23:53:36.654999 2285-06-23 00:01:04.874999\n",
      "2285-06-22 23:55:44\n",
      "2285-06-22 23:50:24 2285-06-22 23:52:24\n",
      "Skipping example 370: \n"
     ]
    },
    {
     "name": "stderr",
     "output_type": "stream",
     "text": [
      " 93%|██████████████████████████████████████████████████████████████████▉     | 372/400 [23:12<00:58,  2.10s/it]"
     ]
    },
    {
     "name": "stdout",
     "output_type": "stream",
     "text": [
      "140\n",
      "2206-02-16 09:57:27.704001 2206-02-16 10:20:34.698001\n",
      "2206-02-16 10:00:34\n",
      "2206-02-16 09:56:14 2206-02-16 09:58:14\n",
      "Skipping example 371: \n"
     ]
    },
    {
     "name": "stderr",
     "output_type": "stream",
     "text": [
      " 93%|███████████████████████████████████████████████████████████████████▏    | 373/400 [23:13<00:44,  1.63s/it]"
     ]
    },
    {
     "name": "stdout",
     "output_type": "stream",
     "text": [
      "69\n",
      "2299-04-14 13:38:32.702999 2299-04-14 13:51:33.188999\n",
      "2299-04-14 13:49:22\n",
      "2299-04-14 13:46:13 2299-04-14 13:48:13\n",
      "460.297001\n",
      "120.0\n"
     ]
    },
    {
     "name": "stderr",
     "output_type": "stream",
     "text": [
      " 94%|███████████████████████████████████████████████████████████████████▎    | 374/400 [23:14<00:40,  1.55s/it]"
     ]
    },
    {
     "name": "stdout",
     "output_type": "stream",
     "text": [
      "74\n",
      "2271-07-22 07:49:50.331001 2271-07-22 08:13:56.747001\n",
      "2271-07-22 07:53:28\n",
      "2271-07-22 07:50:14 2271-07-22 07:52:14\n",
      "23.668999\n",
      "120.0\n"
     ]
    },
    {
     "name": "stderr",
     "output_type": "stream",
     "text": [
      " 94%|███████████████████████████████████████████████████████████████████▌    | 375/400 [23:20<01:06,  2.66s/it]"
     ]
    },
    {
     "name": "stdout",
     "output_type": "stream",
     "text": [
      "168\n",
      "2253-12-04 12:14:30.722001 2253-12-04 14:02:43.778001\n",
      "2253-12-04 12:22:56\n",
      "2253-12-04 12:18:08 2253-12-04 12:20:08\n",
      "217.277999\n",
      "120.0\n"
     ]
    },
    {
     "name": "stderr",
     "output_type": "stream",
     "text": [
      " 94%|███████████████████████████████████████████████████████████████████▋    | 376/400 [23:25<01:21,  3.41s/it]"
     ]
    },
    {
     "name": "stdout",
     "output_type": "stream",
     "text": [
      "25\n",
      "2251-09-27 10:36:12.818999 2251-09-27 12:09:55.068999\n",
      "2251-09-27 11:20:22\n",
      "2251-09-27 11:17:57 2251-09-27 11:19:57\n",
      "2504.181001\n",
      "120.0\n"
     ]
    },
    {
     "name": "stderr",
     "output_type": "stream",
     "text": [
      " 94%|███████████████████████████████████████████████████████████████████▊    | 377/400 [23:26<01:02,  2.71s/it]"
     ]
    },
    {
     "name": "stdout",
     "output_type": "stream",
     "text": [
      "120\n",
      "2222-01-11 01:57:21.538000 2222-01-11 02:22:21.716000\n",
      "2222-01-11 02:06:08\n",
      "2222-01-11 02:02:08 2222-01-11 02:04:08\n",
      "286.462\n",
      "120.0\n"
     ]
    },
    {
     "name": "stderr",
     "output_type": "stream",
     "text": [
      " 94%|████████████████████████████████████████████████████████████████████    | 378/400 [23:28<00:55,  2.51s/it]"
     ]
    },
    {
     "name": "stdout",
     "output_type": "stream",
     "text": [
      "169\n",
      "2294-09-07 11:11:45.298000 2294-09-07 11:51:35.696000\n",
      "2294-09-07 11:23:03\n",
      "2294-09-07 11:18:14 2294-09-07 11:20:14\n",
      "388.702\n",
      "120.0\n"
     ]
    },
    {
     "name": "stderr",
     "output_type": "stream",
     "text": [
      " 95%|████████████████████████████████████████████████████████████████████▏   | 379/400 [23:32<00:59,  2.85s/it]"
     ]
    },
    {
     "name": "stdout",
     "output_type": "stream",
     "text": [
      "192\n",
      "2228-04-08 14:37:46.629000 2228-04-08 15:56:40.265000\n",
      "2228-04-08 15:13:19\n",
      "2228-04-08 15:08:07 2228-04-08 15:10:07\n",
      "1820.371\n",
      "120.0\n"
     ]
    },
    {
     "name": "stderr",
     "output_type": "stream",
     "text": [
      " 95%|████████████████████████████████████████████████████████████████████▍   | 380/400 [23:36<01:06,  3.34s/it]"
     ]
    },
    {
     "name": "stdout",
     "output_type": "stream",
     "text": [
      "265\n",
      "2231-12-12 12:45:58.963000 2231-12-12 14:09:16.339000\n",
      "2231-12-12 13:24:54\n",
      "2231-12-12 13:18:29 2231-12-12 13:20:29\n",
      "1950.037\n",
      "120.0\n"
     ]
    },
    {
     "name": "stderr",
     "output_type": "stream",
     "text": [
      " 95%|████████████████████████████████████████████████████████████████████▌   | 381/400 [23:40<01:09,  3.65s/it]"
     ]
    },
    {
     "name": "stdout",
     "output_type": "stream",
     "text": [
      "242\n",
      "2267-04-21 21:14:50.040999 2267-04-21 22:46:55.890999\n",
      "2267-04-21 21:18:20\n",
      "2267-04-21 21:12:18 2267-04-21 21:14:18\n",
      "Skipping example 380: \n"
     ]
    },
    {
     "name": "stderr",
     "output_type": "stream",
     "text": [
      " 96%|████████████████████████████████████████████████████████████████████▊   | 382/400 [23:42<00:54,  3.04s/it]"
     ]
    },
    {
     "name": "stdout",
     "output_type": "stream",
     "text": [
      "173\n",
      "2271-01-08 12:08:09.024999 2271-01-08 12:34:06.994999\n",
      "2271-01-08 12:14:22\n",
      "2271-01-08 12:09:29 2271-01-08 12:11:29\n",
      "79.975001\n",
      "120.0\n"
     ]
    },
    {
     "name": "stderr",
     "output_type": "stream",
     "text": [
      " 96%|████████████████████████████████████████████████████████████████████▉   | 383/400 [23:43<00:39,  2.31s/it]"
     ]
    },
    {
     "name": "stdout",
     "output_type": "stream",
     "text": [
      "74\n",
      "2242-03-19 19:41:22.040999 2242-03-19 19:55:15.822999\n",
      "2242-03-19 19:45:57\n",
      "2242-03-19 19:42:43 2242-03-19 19:44:43\n",
      "80.959001\n",
      "120.0\n"
     ]
    },
    {
     "name": "stderr",
     "output_type": "stream",
     "text": [
      " 96%|█████████████████████████████████████████████████████████████████████   | 384/400 [23:47<00:46,  2.89s/it]"
     ]
    },
    {
     "name": "stdout",
     "output_type": "stream",
     "text": [
      "228\n",
      "2273-04-24 11:43:37.399000 2273-04-24 13:09:40.217000\n",
      "2273-04-24 12:04:55\n",
      "2273-04-24 11:59:07 2273-04-24 12:01:07\n",
      "929.601\n",
      "120.0\n"
     ]
    },
    {
     "name": "stderr",
     "output_type": "stream",
     "text": [
      " 96%|█████████████████████████████████████████████████████████████████████▎  | 385/400 [23:48<00:37,  2.49s/it]"
     ]
    },
    {
     "name": "stdout",
     "output_type": "stream",
     "text": [
      "36\n",
      "2206-07-02 21:42:21.807000 2206-07-02 22:18:22.061000\n",
      "2206-07-02 21:48:04\n",
      "2206-07-02 21:45:28 2206-07-02 21:47:28\n",
      "186.193\n",
      "120.0\n"
     ]
    },
    {
     "name": "stderr",
     "output_type": "stream",
     "text": [
      " 96%|█████████████████████████████████████████████████████████████████████▍  | 386/400 [23:50<00:30,  2.21s/it]"
     ]
    },
    {
     "name": "stdout",
     "output_type": "stream",
     "text": [
      "8\n",
      "2282-12-05 06:08:18.093000 2282-12-05 06:37:35.367000\n",
      "2282-12-05 06:17:42\n",
      "2282-12-05 06:15:34 2282-12-05 06:17:34\n",
      "435.907\n",
      "120.0\n"
     ]
    },
    {
     "name": "stderr",
     "output_type": "stream",
     "text": [
      " 97%|█████████████████████████████████████████████████████████████████████▋  | 387/400 [23:50<00:21,  1.68s/it]"
     ]
    },
    {
     "name": "stdout",
     "output_type": "stream",
     "text": [
      "64\n",
      "2241-06-19 12:37:59.002000 2241-06-19 12:48:17.670000\n",
      "2241-06-19 12:43:45\n",
      "2241-06-19 12:40:41 2241-06-19 12:42:41\n",
      "161.998\n",
      "120.0\n"
     ]
    },
    {
     "name": "stderr",
     "output_type": "stream",
     "text": [
      " 97%|█████████████████████████████████████████████████████████████████████▊  | 388/400 [23:59<00:46,  3.87s/it]"
     ]
    },
    {
     "name": "stdout",
     "output_type": "stream",
     "text": [
      "124\n",
      "2263-03-28 00:30:02.034999 2263-03-28 03:28:15.064999\n",
      "2263-03-28 01:30:18\n",
      "2263-03-28 01:26:14 2263-03-28 01:28:14\n",
      "3371.965001\n",
      "120.0\n"
     ]
    },
    {
     "name": "stderr",
     "output_type": "stream",
     "text": [
      " 97%|██████████████████████████████████████████████████████████████████████  | 389/400 [24:02<00:37,  3.43s/it]"
     ]
    },
    {
     "name": "stdout",
     "output_type": "stream",
     "text": [
      "293\n",
      "2249-01-14 18:48:16.803000 2249-01-14 19:27:35.091000\n",
      "2249-01-14 18:52:45\n",
      "2249-01-14 18:45:52 2249-01-14 18:47:52\n",
      "Skipping example 388: \n"
     ]
    },
    {
     "name": "stderr",
     "output_type": "stream",
     "text": [
      " 98%|██████████████████████████████████████████████████████████████████████▏ | 390/400 [24:05<00:32,  3.29s/it]"
     ]
    },
    {
     "name": "stdout",
     "output_type": "stream",
     "text": [
      "158\n",
      "2244-05-04 20:54:09.466000 2244-05-04 21:56:08.094000\n",
      "2244-05-04 20:54:58\n",
      "2244-05-04 20:50:20 2244-05-04 20:52:20\n",
      "Skipping example 389: \n"
     ]
    },
    {
     "name": "stderr",
     "output_type": "stream",
     "text": [
      " 98%|██████████████████████████████████████████████████████████████████████▍ | 391/400 [24:07<00:27,  3.01s/it]"
     ]
    },
    {
     "name": "stdout",
     "output_type": "stream",
     "text": [
      "207\n",
      "2277-09-04 09:24:18.018000 2277-09-04 10:09:44.124000\n",
      "2277-09-04 10:01:18\n",
      "2277-09-04 09:55:51 2277-09-04 09:57:51\n",
      "1892.982\n",
      "120.0\n"
     ]
    },
    {
     "name": "stderr",
     "output_type": "stream",
     "text": [
      " 98%|██████████████████████████████████████████████████████████████████████▌ | 392/400 [24:11<00:26,  3.28s/it]"
     ]
    },
    {
     "name": "stdout",
     "output_type": "stream",
     "text": [
      "60\n",
      "2247-03-27 03:22:36.825001 2247-03-27 04:46:52.701001\n",
      "2247-03-27 03:33:37\n",
      "2247-03-27 03:30:37 2247-03-27 03:32:37\n",
      "480.174999\n",
      "120.0\n"
     ]
    },
    {
     "name": "stderr",
     "output_type": "stream",
     "text": [
      " 98%|██████████████████████████████████████████████████████████████████████▋ | 393/400 [24:20<00:35,  5.08s/it]"
     ]
    },
    {
     "name": "stdout",
     "output_type": "stream",
     "text": [
      "120\n",
      "2292-06-07 03:28:43.767000 2292-06-07 06:28:05.795000\n",
      "2292-06-07 06:03:09\n",
      "2292-06-07 05:59:09 2292-06-07 06:01:09\n",
      "9025.233\n",
      "120.0\n"
     ]
    },
    {
     "name": "stderr",
     "output_type": "stream",
     "text": [
      " 98%|██████████████████████████████████████████████████████████████████████▉ | 394/400 [24:20<00:21,  3.61s/it]"
     ]
    },
    {
     "name": "stdout",
     "output_type": "stream",
     "text": [
      "103\n",
      "2203-08-13 23:08:13.402999 2203-08-13 23:09:56.532999\n",
      "2203-08-13 23:08:18\n",
      "2203-08-13 23:04:35 2203-08-13 23:06:35\n",
      "Skipping example 393: \n"
     ]
    },
    {
     "name": "stderr",
     "output_type": "stream",
     "text": [
      " 99%|███████████████████████████████████████████████████████████████████████ | 395/400 [24:21<00:14,  2.82s/it]"
     ]
    },
    {
     "name": "stdout",
     "output_type": "stream",
     "text": [
      "196\n",
      "2284-09-02 18:48:45.609000 2284-09-02 19:12:53.481000\n",
      "2284-09-02 18:50:34\n",
      "2284-09-02 18:45:18 2284-09-02 18:47:18\n",
      "Skipping example 394: \n"
     ]
    },
    {
     "name": "stderr",
     "output_type": "stream",
     "text": [
      " 99%|███████████████████████████████████████████████████████████████████████▎| 396/400 [24:23<00:10,  2.57s/it]"
     ]
    },
    {
     "name": "stdout",
     "output_type": "stream",
     "text": [
      "114\n",
      "2284-10-04 17:41:47.488999 2284-10-04 18:19:21.128999\n",
      "2284-10-04 17:42:16\n",
      "2284-10-04 17:38:22 2284-10-04 17:40:22\n",
      "Skipping example 395: \n"
     ]
    },
    {
     "name": "stderr",
     "output_type": "stream",
     "text": [
      " 99%|███████████████████████████████████████████████████████████████████████▍| 397/400 [24:25<00:06,  2.23s/it]"
     ]
    },
    {
     "name": "stdout",
     "output_type": "stream",
     "text": [
      "119\n",
      "2243-03-24 02:44:45.754999 2243-03-24 03:09:22.348999\n",
      "2243-03-24 02:46:11\n",
      "2243-03-24 02:42:12 2243-03-24 02:44:12\n",
      "Skipping example 396: \n"
     ]
    },
    {
     "name": "stderr",
     "output_type": "stream",
     "text": [
      "100%|███████████████████████████████████████████████████████████████████████▋| 398/400 [24:34<00:08,  4.40s/it]"
     ]
    },
    {
     "name": "stdout",
     "output_type": "stream",
     "text": [
      "218\n",
      "2289-05-08 08:03:00.526000 2289-05-08 11:14:18.408000\n",
      "2289-05-08 09:45:56\n",
      "2289-05-08 09:40:18 2289-05-08 09:42:18\n",
      "5837.474\n",
      "120.0\n",
      "150\n",
      "2256-06-18 09:09:07.693000 2256-06-18 09:10:49.801000\n",
      "2256-06-18 09:09:48\n",
      "2256-06-18 09:05:18 2256-06-18 09:07:18\n",
      "Skipping example 398: \n"
     ]
    },
    {
     "name": "stderr",
     "output_type": "stream",
     "text": [
      "100%|████████████████████████████████████████████████████████████████████████| 400/400 [24:37<00:00,  3.69s/it]"
     ]
    },
    {
     "name": "stdout",
     "output_type": "stream",
     "text": [
      "257\n",
      "2267-07-09 10:28:05.016000 2267-07-09 11:11:51.324000\n",
      "2267-07-09 10:29:05\n",
      "2267-07-09 10:22:48 2267-07-09 10:24:48\n",
      "Skipping example 399: \n"
     ]
    },
    {
     "name": "stderr",
     "output_type": "stream",
     "text": [
      "\n"
     ]
    }
   ],
   "source": [
    "duration_sec = 120\n",
    "max_predict_window_sec = 300\n",
    "\n",
    "train_segments = []\n",
    "for i in tqdm(range(len(train_data))):\n",
    "    example = train_data[i]\n",
    "    record_dict = {k: v for k, v in example.items() if k in record_keys}\n",
    "    record_dict['p_signal'] = np.array(record_dict['p_signal']) \n",
    "    record = wfdb.Record(**record_dict)\n",
    "\n",
    "    try:\n",
    "        segment_record = extract_segment_before_alarm(record, example['alarm'], duration_sec, max_predict_window_sec)\n",
    "        visit_dict = {k: example[k] for k in visit_attrs if k in example}\n",
    "        segment = {'label': example['label'], 'alarm': example['alarm'], **segment_record.__dict__, **visit_dict}    \n",
    "        train_segments.append(segment)\n",
    "    except Exception as e:\n",
    "        print(f\"Skipping example {i}: {e}\")\n",
    "        continue  "
   ]
  },
  {
   "cell_type": "code",
   "execution_count": 18,
   "id": "3057f487-7e0f-4d07-a4d2-82a4328ef747",
   "metadata": {},
   "outputs": [
    {
     "data": {
      "text/plain": [
       "319"
      ]
     },
     "execution_count": 18,
     "metadata": {},
     "output_type": "execute_result"
    }
   ],
   "source": [
    "len(train_segments)"
   ]
  },
  {
   "cell_type": "code",
   "execution_count": 29,
   "id": "ed31a588-d26d-42b3-a8d1-c31df03519d0",
   "metadata": {},
   "outputs": [],
   "source": [
    "selected_train_segments = [segment for segment in train_segments if segment['sig_len'] / segment['fs'] >= duration_sec]"
   ]
  },
  {
   "cell_type": "code",
   "execution_count": 30,
   "id": "83ebf664-5b04-4ebe-9f09-351c672d20b1",
   "metadata": {},
   "outputs": [
    {
     "data": {
      "text/plain": [
       "317"
      ]
     },
     "execution_count": 30,
     "metadata": {},
     "output_type": "execute_result"
    }
   ],
   "source": [
    "len(selected_train_segments)"
   ]
  },
  {
   "cell_type": "code",
   "execution_count": 28,
   "id": "d5e4ff4e-25cd-4e91-aaef-c39378ba6111",
   "metadata": {
    "scrolled": true
   },
   "outputs": [
    {
     "data": {
      "text/plain": [
       "[31.742,\n",
       " 66.88,\n",
       " 120.0,\n",
       " 120.0,\n",
       " 120.0,\n",
       " 120.0,\n",
       " 120.0,\n",
       " 120.0,\n",
       " 120.0,\n",
       " 120.0,\n",
       " 120.0,\n",
       " 120.0,\n",
       " 120.0,\n",
       " 120.0,\n",
       " 120.0,\n",
       " 120.0,\n",
       " 120.0,\n",
       " 120.0,\n",
       " 120.0,\n",
       " 120.0,\n",
       " 120.0,\n",
       " 120.0,\n",
       " 120.0,\n",
       " 120.0,\n",
       " 120.0,\n",
       " 120.0,\n",
       " 120.0,\n",
       " 120.0,\n",
       " 120.0,\n",
       " 120.0,\n",
       " 120.0,\n",
       " 120.0,\n",
       " 120.0,\n",
       " 120.0,\n",
       " 120.0,\n",
       " 120.0,\n",
       " 120.0,\n",
       " 120.0,\n",
       " 120.0,\n",
       " 120.0,\n",
       " 120.0,\n",
       " 120.0,\n",
       " 120.0,\n",
       " 120.0,\n",
       " 120.0,\n",
       " 120.0,\n",
       " 120.0,\n",
       " 120.0,\n",
       " 120.0,\n",
       " 120.0,\n",
       " 120.0,\n",
       " 120.0,\n",
       " 120.0,\n",
       " 120.0,\n",
       " 120.0,\n",
       " 120.0,\n",
       " 120.0,\n",
       " 120.0,\n",
       " 120.0,\n",
       " 120.0,\n",
       " 120.0,\n",
       " 120.0,\n",
       " 120.0,\n",
       " 120.0,\n",
       " 120.0,\n",
       " 120.0,\n",
       " 120.0,\n",
       " 120.0,\n",
       " 120.0,\n",
       " 120.0,\n",
       " 120.0,\n",
       " 120.0,\n",
       " 120.0,\n",
       " 120.0,\n",
       " 120.0,\n",
       " 120.0,\n",
       " 120.0,\n",
       " 120.0,\n",
       " 120.0,\n",
       " 120.0,\n",
       " 120.0,\n",
       " 120.0,\n",
       " 120.0,\n",
       " 120.0,\n",
       " 120.0,\n",
       " 120.0,\n",
       " 120.0,\n",
       " 120.0,\n",
       " 120.0,\n",
       " 120.0,\n",
       " 120.0,\n",
       " 120.0,\n",
       " 120.0,\n",
       " 120.0,\n",
       " 120.0,\n",
       " 120.0,\n",
       " 120.0,\n",
       " 120.0,\n",
       " 120.0,\n",
       " 120.0,\n",
       " 120.0,\n",
       " 120.0,\n",
       " 120.0,\n",
       " 120.0,\n",
       " 120.0,\n",
       " 120.0,\n",
       " 120.0,\n",
       " 120.0,\n",
       " 120.0,\n",
       " 120.0,\n",
       " 120.0,\n",
       " 120.0,\n",
       " 120.0,\n",
       " 120.0,\n",
       " 120.0,\n",
       " 120.0,\n",
       " 120.0,\n",
       " 120.0,\n",
       " 120.0,\n",
       " 120.0,\n",
       " 120.0,\n",
       " 120.0,\n",
       " 120.0,\n",
       " 120.0,\n",
       " 120.0,\n",
       " 120.0,\n",
       " 120.0,\n",
       " 120.0,\n",
       " 120.0,\n",
       " 120.0,\n",
       " 120.0,\n",
       " 120.0,\n",
       " 120.0,\n",
       " 120.0,\n",
       " 120.0,\n",
       " 120.0,\n",
       " 120.0,\n",
       " 120.0,\n",
       " 120.0,\n",
       " 120.0,\n",
       " 120.0,\n",
       " 120.0,\n",
       " 120.0,\n",
       " 120.0,\n",
       " 120.0,\n",
       " 120.0,\n",
       " 120.0,\n",
       " 120.0,\n",
       " 120.0,\n",
       " 120.0,\n",
       " 120.0,\n",
       " 120.0,\n",
       " 120.0,\n",
       " 120.0,\n",
       " 120.0,\n",
       " 120.0,\n",
       " 120.0,\n",
       " 120.0,\n",
       " 120.0,\n",
       " 120.0,\n",
       " 120.0,\n",
       " 120.0,\n",
       " 120.0,\n",
       " 120.0,\n",
       " 120.0,\n",
       " 120.0,\n",
       " 120.0,\n",
       " 120.0,\n",
       " 120.0,\n",
       " 120.0,\n",
       " 120.0,\n",
       " 120.0,\n",
       " 120.0,\n",
       " 120.0,\n",
       " 120.0,\n",
       " 120.0,\n",
       " 120.0,\n",
       " 120.0,\n",
       " 120.0,\n",
       " 120.0,\n",
       " 120.0,\n",
       " 120.0,\n",
       " 120.0,\n",
       " 120.0,\n",
       " 120.0,\n",
       " 120.0,\n",
       " 120.0,\n",
       " 120.0,\n",
       " 120.0,\n",
       " 120.0,\n",
       " 120.0,\n",
       " 120.0,\n",
       " 120.0,\n",
       " 120.0,\n",
       " 120.0,\n",
       " 120.0,\n",
       " 120.0,\n",
       " 120.0,\n",
       " 120.0,\n",
       " 120.0,\n",
       " 121.0,\n",
       " 121.0,\n",
       " 121.0,\n",
       " 121.0,\n",
       " 121.0,\n",
       " 121.0,\n",
       " 121.0,\n",
       " 121.0,\n",
       " 121.0,\n",
       " 121.0,\n",
       " 121.0,\n",
       " 121.0,\n",
       " 121.0,\n",
       " 121.0,\n",
       " 121.0,\n",
       " 121.0,\n",
       " 121.0,\n",
       " 121.0,\n",
       " 121.0,\n",
       " 121.0,\n",
       " 121.0,\n",
       " 121.0,\n",
       " 121.0,\n",
       " 121.0,\n",
       " 121.0,\n",
       " 121.0,\n",
       " 121.0,\n",
       " 121.0,\n",
       " 121.0,\n",
       " 121.0,\n",
       " 121.0,\n",
       " 121.0,\n",
       " 121.0,\n",
       " 121.0,\n",
       " 121.0,\n",
       " 121.0,\n",
       " 121.0,\n",
       " 121.0,\n",
       " 121.0,\n",
       " 121.0,\n",
       " 121.0,\n",
       " 121.0,\n",
       " 121.0,\n",
       " 121.0,\n",
       " 121.0,\n",
       " 121.0,\n",
       " 121.0,\n",
       " 121.0,\n",
       " 121.0,\n",
       " 121.0,\n",
       " 121.0,\n",
       " 121.0,\n",
       " 121.0,\n",
       " 121.0,\n",
       " 121.0,\n",
       " 121.0,\n",
       " 121.0,\n",
       " 121.0,\n",
       " 121.0,\n",
       " 121.0,\n",
       " 121.0,\n",
       " 121.0,\n",
       " 121.0,\n",
       " 121.0,\n",
       " 121.0,\n",
       " 121.0,\n",
       " 121.0,\n",
       " 121.0,\n",
       " 121.0,\n",
       " 121.0,\n",
       " 121.0,\n",
       " 121.0,\n",
       " 121.0,\n",
       " 121.0,\n",
       " 121.0,\n",
       " 121.0,\n",
       " 121.0,\n",
       " 121.0,\n",
       " 121.0,\n",
       " 121.0,\n",
       " 121.0,\n",
       " 121.0,\n",
       " 121.0,\n",
       " 121.0,\n",
       " 121.0,\n",
       " 121.0,\n",
       " 121.0,\n",
       " 121.0,\n",
       " 121.0,\n",
       " 121.0,\n",
       " 121.0,\n",
       " 121.0,\n",
       " 121.0,\n",
       " 121.0,\n",
       " 121.0,\n",
       " 121.0,\n",
       " 121.0,\n",
       " 121.0,\n",
       " 121.0,\n",
       " 121.0,\n",
       " 121.0,\n",
       " 121.0,\n",
       " 121.0,\n",
       " 121.0,\n",
       " 121.0,\n",
       " 121.0,\n",
       " 121.0,\n",
       " 121.0,\n",
       " 121.0,\n",
       " 121.0,\n",
       " 121.0,\n",
       " 121.0,\n",
       " 121.0,\n",
       " 121.0,\n",
       " 121.0,\n",
       " 121.0,\n",
       " 121.0,\n",
       " 121.0,\n",
       " 121.0]"
      ]
     },
     "execution_count": 28,
     "metadata": {},
     "output_type": "execute_result"
    }
   ],
   "source": [
    "# check duration lengths\n",
    "\n",
    "sorted([segment['sig_len'] / segment['fs'] for segment in train_segments])"
   ]
  },
  {
   "cell_type": "code",
   "execution_count": 60,
   "id": "5872c779-2220-4435-8a12-84535ba6110f",
   "metadata": {
    "scrolled": true
   },
   "outputs": [
    {
     "name": "stderr",
     "output_type": "stream",
     "text": [
      "  2%|█▌                                                                         | 1/50 [00:05<04:27,  5.46s/it]"
     ]
    },
    {
     "name": "stdout",
     "output_type": "stream",
     "text": [
      "121\n",
      "0.0\n",
      "120.0\n"
     ]
    },
    {
     "name": "stderr",
     "output_type": "stream",
     "text": [
      "  4%|███                                                                        | 2/50 [00:12<05:02,  6.29s/it]"
     ]
    },
    {
     "name": "stdout",
     "output_type": "stream",
     "text": [
      "64\n",
      "0.0\n",
      "120.0\n"
     ]
    },
    {
     "name": "stderr",
     "output_type": "stream",
     "text": [
      "  6%|████▌                                                                      | 3/50 [00:13<03:09,  4.04s/it]"
     ]
    },
    {
     "name": "stdout",
     "output_type": "stream",
     "text": [
      "98\n",
      "0.0\n",
      "120.0\n"
     ]
    },
    {
     "name": "stderr",
     "output_type": "stream",
     "text": [
      "  8%|██████                                                                     | 4/50 [00:15<02:28,  3.22s/it]"
     ]
    },
    {
     "name": "stdout",
     "output_type": "stream",
     "text": [
      "4\n",
      "0.0\n",
      "120.0\n"
     ]
    },
    {
     "name": "stderr",
     "output_type": "stream",
     "text": [
      " 10%|███████▌                                                                   | 5/50 [00:20<02:56,  3.92s/it]"
     ]
    },
    {
     "name": "stdout",
     "output_type": "stream",
     "text": [
      "9\n",
      "0.0\n",
      "120.0\n"
     ]
    },
    {
     "name": "stderr",
     "output_type": "stream",
     "text": [
      " 12%|█████████                                                                  | 6/50 [00:27<03:30,  4.78s/it]"
     ]
    },
    {
     "name": "stdout",
     "output_type": "stream",
     "text": [
      "160\n",
      "0.0\n",
      "120.0\n"
     ]
    },
    {
     "name": "stderr",
     "output_type": "stream",
     "text": [
      " 14%|██████████▌                                                                | 7/50 [00:28<02:39,  3.71s/it]"
     ]
    },
    {
     "name": "stdout",
     "output_type": "stream",
     "text": [
      "18\n",
      "0.0\n",
      "120.0\n"
     ]
    },
    {
     "name": "stderr",
     "output_type": "stream",
     "text": [
      " 16%|████████████                                                               | 8/50 [00:32<02:42,  3.86s/it]"
     ]
    },
    {
     "name": "stdout",
     "output_type": "stream",
     "text": [
      "82\n",
      "0.0\n",
      "120.0\n"
     ]
    },
    {
     "name": "stderr",
     "output_type": "stream",
     "text": [
      " 18%|█████████████▌                                                             | 9/50 [00:33<01:59,  2.91s/it]"
     ]
    },
    {
     "name": "stdout",
     "output_type": "stream",
     "text": [
      "197\n",
      "0.0\n",
      "120.0\n"
     ]
    },
    {
     "name": "stderr",
     "output_type": "stream",
     "text": [
      " 20%|██████████████▊                                                           | 10/50 [00:39<02:27,  3.68s/it]"
     ]
    },
    {
     "name": "stdout",
     "output_type": "stream",
     "text": [
      "18\n",
      "0.0\n",
      "120.0\n"
     ]
    },
    {
     "name": "stderr",
     "output_type": "stream",
     "text": [
      " 22%|████████████████▎                                                         | 11/50 [00:39<01:49,  2.80s/it]"
     ]
    },
    {
     "name": "stdout",
     "output_type": "stream",
     "text": [
      "9\n",
      "0.0\n",
      "120.0\n"
     ]
    },
    {
     "name": "stderr",
     "output_type": "stream",
     "text": [
      " 24%|█████████████████▊                                                        | 12/50 [00:45<02:22,  3.74s/it]"
     ]
    },
    {
     "name": "stdout",
     "output_type": "stream",
     "text": [
      "81\n",
      "0.0\n",
      "120.0\n"
     ]
    },
    {
     "name": "stderr",
     "output_type": "stream",
     "text": [
      " 26%|███████████████████▏                                                      | 13/50 [00:52<02:45,  4.48s/it]"
     ]
    },
    {
     "name": "stdout",
     "output_type": "stream",
     "text": [
      "294\n",
      "0.0\n",
      "120.0\n"
     ]
    },
    {
     "name": "stderr",
     "output_type": "stream",
     "text": [
      " 28%|████████████████████▋                                                     | 14/50 [00:52<01:57,  3.26s/it]"
     ]
    },
    {
     "name": "stdout",
     "output_type": "stream",
     "text": [
      "92\n",
      "0.0\n",
      "120.0\n"
     ]
    },
    {
     "name": "stderr",
     "output_type": "stream",
     "text": [
      " 30%|██████████████████████▏                                                   | 15/50 [00:54<01:44,  3.00s/it]"
     ]
    },
    {
     "name": "stdout",
     "output_type": "stream",
     "text": [
      "202\n",
      "0.0\n",
      "120.0\n"
     ]
    },
    {
     "name": "stderr",
     "output_type": "stream",
     "text": [
      " 32%|███████████████████████▋                                                  | 16/50 [00:56<01:27,  2.57s/it]"
     ]
    },
    {
     "name": "stdout",
     "output_type": "stream",
     "text": [
      "284\n",
      "0.0\n",
      "120.0\n"
     ]
    },
    {
     "name": "stderr",
     "output_type": "stream",
     "text": [
      " 34%|█████████████████████████▏                                                | 17/50 [00:56<01:04,  1.94s/it]"
     ]
    },
    {
     "name": "stdout",
     "output_type": "stream",
     "text": [
      "294\n",
      "2209-08-22 06:14:47.443000 2209-08-22 06:25:46.147000\n",
      "2209-08-22 06:24:00\n",
      "2209-08-22 06:17:06 2209-08-22 06:19:06\n",
      "138.557\n",
      "120.0\n"
     ]
    },
    {
     "name": "stderr",
     "output_type": "stream",
     "text": [
      " 36%|██████████████████████████▋                                               | 18/50 [00:58<01:01,  1.92s/it]"
     ]
    },
    {
     "name": "stdout",
     "output_type": "stream",
     "text": [
      "161\n",
      "2205-12-12 16:43:37.602000 2205-12-12 17:20:43.690000\n",
      "2205-12-12 16:44:12\n",
      "2205-12-12 16:39:31 2205-12-12 16:41:31\n",
      "Skipping example 17: \n"
     ]
    },
    {
     "name": "stderr",
     "output_type": "stream",
     "text": [
      " 38%|████████████████████████████                                              | 19/50 [00:59<00:48,  1.57s/it]"
     ]
    },
    {
     "name": "stdout",
     "output_type": "stream",
     "text": [
      "285\n",
      "2236-10-28 19:13:04.012000 2236-10-28 19:22:46.052000\n",
      "2236-10-28 19:14:04\n",
      "2236-10-28 19:07:19 2236-10-28 19:09:19\n",
      "Skipping example 18: \n"
     ]
    },
    {
     "name": "stderr",
     "output_type": "stream",
     "text": [
      " 40%|█████████████████████████████▌                                            | 20/50 [01:05<01:25,  2.84s/it]"
     ]
    },
    {
     "name": "stdout",
     "output_type": "stream",
     "text": [
      "54\n",
      "2273-01-28 16:41:59.013000 2273-01-28 18:41:06.087000\n",
      "2273-01-28 18:04:45\n",
      "2273-01-28 18:01:51 2273-01-28 18:03:51\n",
      "4791.987\n",
      "120.0\n"
     ]
    },
    {
     "name": "stderr",
     "output_type": "stream",
     "text": [
      " 42%|███████████████████████████████                                           | 21/50 [01:13<02:07,  4.41s/it]"
     ]
    },
    {
     "name": "stdout",
     "output_type": "stream",
     "text": [
      "126\n",
      "2289-08-05 21:38:39.522999 2289-08-06 00:09:25.522999\n",
      "2289-08-05 22:45:13\n",
      "2289-08-05 22:41:07 2289-08-05 22:43:07\n",
      "3747.477001\n",
      "120.0\n"
     ]
    },
    {
     "name": "stderr",
     "output_type": "stream",
     "text": [
      " 44%|████████████████████████████████▌                                         | 22/50 [01:17<02:00,  4.31s/it]"
     ]
    },
    {
     "name": "stdout",
     "output_type": "stream",
     "text": [
      "67\n",
      "2226-05-16 17:55:12.421000 2226-05-16 19:19:45.615000\n",
      "2226-05-16 18:33:46\n",
      "2226-05-16 18:30:39 2226-05-16 18:32:39\n",
      "2126.579\n",
      "120.0\n"
     ]
    },
    {
     "name": "stderr",
     "output_type": "stream",
     "text": [
      " 46%|██████████████████████████████████                                        | 23/50 [01:20<01:43,  3.82s/it]"
     ]
    },
    {
     "name": "stdout",
     "output_type": "stream",
     "text": [
      "195\n",
      "2298-10-25 11:09:16.208001 2298-10-25 12:03:38.312001\n",
      "2298-10-25 11:09:39\n",
      "2298-10-25 11:04:24 2298-10-25 11:06:24\n",
      "Skipping example 22: \n"
     ]
    },
    {
     "name": "stderr",
     "output_type": "stream",
     "text": [
      " 48%|███████████████████████████████████▌                                      | 24/50 [01:23<01:37,  3.75s/it]"
     ]
    },
    {
     "name": "stdout",
     "output_type": "stream",
     "text": [
      "111\n",
      "2250-01-03 20:34:07.857000 2250-01-03 21:42:03.021000\n",
      "2250-01-03 20:49:05\n",
      "2250-01-03 20:45:14 2250-01-03 20:47:14\n",
      "666.143\n",
      "120.0\n"
     ]
    },
    {
     "name": "stderr",
     "output_type": "stream",
     "text": [
      " 50%|█████████████████████████████████████                                     | 25/50 [01:29<01:51,  4.47s/it]"
     ]
    },
    {
     "name": "stdout",
     "output_type": "stream",
     "text": [
      "243\n",
      "2228-05-06 00:39:38.224000 2228-05-06 02:43:38.380000\n",
      "2228-05-06 02:08:26\n",
      "2228-05-06 02:02:23 2228-05-06 02:04:23\n",
      "4964.776\n",
      "120.0\n"
     ]
    },
    {
     "name": "stderr",
     "output_type": "stream",
     "text": [
      " 52%|██████████████████████████████████████▍                                   | 26/50 [01:33<01:37,  4.08s/it]"
     ]
    },
    {
     "name": "stdout",
     "output_type": "stream",
     "text": [
      "25\n",
      "2205-04-15 06:31:46.068000 2205-04-15 07:36:40.560000\n",
      "2205-04-15 07:18:49\n",
      "2205-04-15 07:16:24 2205-04-15 07:18:24\n",
      "2677.932\n",
      "120.0\n"
     ]
    },
    {
     "name": "stderr",
     "output_type": "stream",
     "text": [
      " 54%|███████████████████████████████████████▉                                  | 27/50 [01:34<01:17,  3.37s/it]"
     ]
    },
    {
     "name": "stdout",
     "output_type": "stream",
     "text": [
      "254\n",
      "2230-09-24 06:20:27.986000 2230-09-24 06:52:53.650000\n",
      "2230-09-24 06:22:01\n",
      "2230-09-24 06:15:47 2230-09-24 06:17:47\n",
      "Skipping example 26: \n"
     ]
    },
    {
     "name": "stderr",
     "output_type": "stream",
     "text": [
      " 56%|█████████████████████████████████████████▍                                | 28/50 [01:38<01:18,  3.58s/it]"
     ]
    },
    {
     "name": "stdout",
     "output_type": "stream",
     "text": [
      "85\n",
      "2242-02-06 13:08:25.202999 2242-02-06 14:23:06.052999\n",
      "2242-02-06 13:53:08\n",
      "2242-02-06 13:49:43 2242-02-06 13:51:43\n",
      "2477.797001\n",
      "120.0\n"
     ]
    },
    {
     "name": "stderr",
     "output_type": "stream",
     "text": [
      " 58%|██████████████████████████████████████████▉                               | 29/50 [01:39<00:58,  2.76s/it]"
     ]
    },
    {
     "name": "stdout",
     "output_type": "stream",
     "text": [
      "178\n",
      "2267-12-27 10:07:30.111000 2267-12-27 10:27:53.761000\n",
      "2267-12-27 10:15:52\n",
      "2267-12-27 10:10:54 2267-12-27 10:12:54\n",
      "203.889\n",
      "120.0\n"
     ]
    },
    {
     "name": "stderr",
     "output_type": "stream",
     "text": [
      " 60%|████████████████████████████████████████████▍                             | 30/50 [01:44<01:09,  3.47s/it]"
     ]
    },
    {
     "name": "stdout",
     "output_type": "stream",
     "text": [
      "31\n",
      "2243-08-06 04:53:30.148999 2243-08-06 06:34:04.976999\n",
      "2243-08-06 04:56:54\n",
      "2243-08-06 04:54:23 2243-08-06 04:56:23\n",
      "52.851001\n",
      "120.0\n"
     ]
    },
    {
     "name": "stderr",
     "output_type": "stream",
     "text": [
      " 62%|█████████████████████████████████████████████▉                            | 31/50 [01:46<00:53,  2.82s/it]"
     ]
    },
    {
     "name": "stdout",
     "output_type": "stream",
     "text": [
      "4\n",
      "2261-02-27 02:52:15.703000 2261-02-27 03:11:00.479000\n",
      "2261-02-27 02:59:17\n",
      "2261-02-27 02:57:13 2261-02-27 02:59:13\n",
      "297.297\n",
      "120.0\n"
     ]
    },
    {
     "name": "stderr",
     "output_type": "stream",
     "text": [
      " 64%|███████████████████████████████████████████████▎                          | 32/50 [01:51<01:04,  3.56s/it]"
     ]
    },
    {
     "name": "stdout",
     "output_type": "stream",
     "text": [
      "286\n",
      "2202-05-19 10:36:14.708001 2202-05-19 12:19:15.894001\n",
      "2202-05-19 12:09:30\n",
      "2202-05-19 12:02:44 2202-05-19 12:04:44\n",
      "5189.291999\n",
      "120.0\n"
     ]
    },
    {
     "name": "stderr",
     "output_type": "stream",
     "text": [
      " 66%|████████████████████████████████████████████████▊                         | 33/50 [01:55<01:05,  3.84s/it]"
     ]
    },
    {
     "name": "stdout",
     "output_type": "stream",
     "text": [
      "73\n",
      "2238-07-19 09:26:09.316000 2238-07-19 10:48:07.034000\n",
      "2238-07-19 10:31:15\n",
      "2238-07-19 10:28:02 2238-07-19 10:30:02\n",
      "3712.684\n",
      "120.0\n"
     ]
    },
    {
     "name": "stderr",
     "output_type": "stream",
     "text": [
      " 68%|██████████████████████████████████████████████████▎                       | 34/50 [02:01<01:11,  4.49s/it]"
     ]
    },
    {
     "name": "stdout",
     "output_type": "stream",
     "text": [
      "259\n",
      "2242-11-08 09:51:12.936001 2242-11-08 11:52:14.096001\n",
      "2242-11-08 09:51:15\n",
      "2242-11-08 09:44:56 2242-11-08 09:46:56\n",
      "Skipping example 33: \n"
     ]
    },
    {
     "name": "stderr",
     "output_type": "stream",
     "text": [
      " 70%|███████████████████████████████████████████████████▊                      | 35/50 [02:09<01:19,  5.31s/it]"
     ]
    },
    {
     "name": "stdout",
     "output_type": "stream",
     "text": [
      "283\n",
      "2278-11-10 02:54:29.009999 2278-11-10 05:15:59.519999\n",
      "2278-11-10 02:55:29\n",
      "2278-11-10 02:48:46 2278-11-10 02:50:46\n",
      "Skipping example 34: \n"
     ]
    },
    {
     "name": "stderr",
     "output_type": "stream",
     "text": [
      " 72%|█████████████████████████████████████████████████████▎                    | 36/50 [02:09<00:54,  3.88s/it]"
     ]
    },
    {
     "name": "stdout",
     "output_type": "stream",
     "text": [
      "177\n",
      "2231-12-16 14:01:48.018000 2231-12-16 14:11:51.674000\n",
      "2231-12-16 14:03:24\n",
      "2231-12-16 13:58:27 2231-12-16 14:00:27\n",
      "Skipping example 35: \n"
     ]
    },
    {
     "name": "stderr",
     "output_type": "stream",
     "text": [
      " 74%|██████████████████████████████████████████████████████▊                   | 37/50 [02:12<00:45,  3.49s/it]"
     ]
    },
    {
     "name": "stdout",
     "output_type": "stream",
     "text": [
      "64\n",
      "2277-01-03 05:54:45.419001 2277-01-03 06:50:14.465001\n",
      "2277-01-03 06:26:04\n",
      "2277-01-03 06:23:00 2277-01-03 06:25:00\n",
      "1694.580999\n",
      "120.0\n"
     ]
    },
    {
     "name": "stderr",
     "output_type": "stream",
     "text": [
      " 76%|████████████████████████████████████████████████████████▏                 | 38/50 [02:12<00:31,  2.66s/it]"
     ]
    },
    {
     "name": "stdout",
     "output_type": "stream",
     "text": [
      "21\n",
      "2233-05-18 23:19:09.609999 2233-05-18 23:36:07.089999\n",
      "2233-05-18 23:19:27\n",
      "2233-05-18 23:17:06 2233-05-18 23:19:06\n",
      "Skipping example 37: \n"
     ]
    },
    {
     "name": "stderr",
     "output_type": "stream",
     "text": [
      " 78%|█████████████████████████████████████████████████████████▋                | 39/50 [02:15<00:30,  2.76s/it]"
     ]
    },
    {
     "name": "stdout",
     "output_type": "stream",
     "text": [
      "226\n",
      "2264-08-02 15:11:23.568000 2264-08-02 16:09:52.522000\n",
      "2264-08-02 15:57:59\n",
      "2264-08-02 15:52:13 2264-08-02 15:54:13\n",
      "2449.432\n",
      "120.0\n"
     ]
    },
    {
     "name": "stderr",
     "output_type": "stream",
     "text": [
      " 80%|███████████████████████████████████████████████████████████▏              | 40/50 [02:17<00:22,  2.27s/it]"
     ]
    },
    {
     "name": "stdout",
     "output_type": "stream",
     "text": [
      "117\n",
      "2221-08-17 16:08:39.597000 2221-08-17 16:26:14.421000\n",
      "2221-08-17 16:22:15\n",
      "2221-08-17 16:18:18 2221-08-17 16:20:18\n",
      "578.403\n",
      "120.0\n"
     ]
    },
    {
     "name": "stderr",
     "output_type": "stream",
     "text": [
      " 82%|████████████████████████████████████████████████████████████▋             | 41/50 [02:23<00:30,  3.36s/it]"
     ]
    },
    {
     "name": "stdout",
     "output_type": "stream",
     "text": [
      "136\n",
      "2206-03-23 16:43:19.417000 2206-03-23 18:42:12.123000\n",
      "2206-03-23 16:44:29\n",
      "2206-03-23 16:40:13 2206-03-23 16:42:13\n",
      "Skipping example 40: \n",
      "153\n",
      "2290-11-17 02:52:18.440999 2290-11-17 02:53:08.484999\n",
      "2290-11-17 02:52:23\n",
      "2290-11-17 02:47:50 2290-11-17 02:49:50\n",
      "Skipping example 41: \n"
     ]
    },
    {
     "name": "stderr",
     "output_type": "stream",
     "text": [
      " 86%|███████████████████████████████████████████████████████████████▋          | 43/50 [02:24<00:14,  2.06s/it]"
     ]
    },
    {
     "name": "stdout",
     "output_type": "stream",
     "text": [
      "216\n",
      "2239-11-19 05:40:35.716000 2239-11-19 05:58:04.972000\n",
      "2239-11-19 05:40:46\n",
      "2239-11-19 05:35:10 2239-11-19 05:37:10\n",
      "Skipping example 42: \n"
     ]
    },
    {
     "name": "stderr",
     "output_type": "stream",
     "text": [
      " 88%|█████████████████████████████████████████████████████████████████         | 44/50 [02:24<00:09,  1.67s/it]"
     ]
    },
    {
     "name": "stdout",
     "output_type": "stream",
     "text": [
      "238\n",
      "2238-04-20 04:09:48.691000 2238-04-20 04:20:52.813000\n",
      "2238-04-20 04:12:53\n",
      "2238-04-20 04:06:55 2238-04-20 04:08:55\n",
      "Skipping example 43: \n"
     ]
    },
    {
     "name": "stderr",
     "output_type": "stream",
     "text": [
      " 90%|██████████████████████████████████████████████████████████████████▌       | 45/50 [02:32<00:16,  3.28s/it]"
     ]
    },
    {
     "name": "stdout",
     "output_type": "stream",
     "text": [
      "64\n",
      "2230-11-05 06:34:34.650000 2230-11-05 09:03:14.372000\n",
      "2230-11-05 08:55:17\n",
      "2230-11-05 08:52:13 2230-11-05 08:54:13\n",
      "8258.35\n",
      "120.0\n"
     ]
    },
    {
     "name": "stderr",
     "output_type": "stream",
     "text": [
      " 92%|████████████████████████████████████████████████████████████████████      | 46/50 [02:40<00:18,  4.62s/it]"
     ]
    },
    {
     "name": "stdout",
     "output_type": "stream",
     "text": [
      "150\n",
      "2278-12-05 01:34:58.008001 2278-12-05 04:19:02.706001\n",
      "2278-12-05 02:03:58\n",
      "2278-12-05 01:59:28 2278-12-05 02:01:28\n",
      "1469.991999\n",
      "120.0\n"
     ]
    },
    {
     "name": "stderr",
     "output_type": "stream",
     "text": [
      " 94%|█████████████████████████████████████████████████████████████████████▌    | 47/50 [02:43<00:12,  4.14s/it]"
     ]
    },
    {
     "name": "stdout",
     "output_type": "stream",
     "text": [
      "208\n",
      "2263-08-30 10:28:24.008001 2263-08-30 11:22:19.774001\n",
      "2263-08-30 11:15:24\n",
      "2263-08-30 11:09:56 2263-08-30 11:11:56\n",
      "2491.991999\n",
      "120.0\n"
     ]
    },
    {
     "name": "stderr",
     "output_type": "stream",
     "text": [
      " 96%|███████████████████████████████████████████████████████████████████████   | 48/50 [02:51<00:10,  5.32s/it]"
     ]
    },
    {
     "name": "stdout",
     "output_type": "stream",
     "text": [
      "239\n",
      "2237-12-26 10:10:51.041000 2237-12-26 12:45:29.313000\n",
      "2237-12-26 10:11:46\n",
      "2237-12-26 10:05:47 2237-12-26 10:07:47\n",
      "Skipping example 47: \n"
     ]
    },
    {
     "name": "stderr",
     "output_type": "stream",
     "text": [
      " 98%|████████████████████████████████████████████████████████████████████████▌ | 49/50 [03:01<00:06,  6.55s/it]"
     ]
    },
    {
     "name": "stdout",
     "output_type": "stream",
     "text": [
      "123\n",
      "2221-06-24 00:01:28.013000 2221-06-24 03:19:12.999000\n",
      "2221-06-24 00:29:28\n",
      "2221-06-24 00:25:25 2221-06-24 00:27:25\n",
      "1436.987\n",
      "120.0\n"
     ]
    },
    {
     "name": "stderr",
     "output_type": "stream",
     "text": [
      "100%|██████████████████████████████████████████████████████████████████████████| 50/50 [03:07<00:00,  3.76s/it]"
     ]
    },
    {
     "name": "stdout",
     "output_type": "stream",
     "text": [
      "25\n",
      "2205-03-29 11:22:53.508001 2205-03-29 13:24:28.874001\n",
      "2205-03-29 11:23:40\n",
      "2205-03-29 11:21:15 2205-03-29 11:23:15\n",
      "Skipping example 49: \n"
     ]
    },
    {
     "name": "stderr",
     "output_type": "stream",
     "text": [
      "\n"
     ]
    }
   ],
   "source": [
    "val_data = ds['validation']\n",
    "\n",
    "val_segments = []\n",
    "for i in tqdm(range(len(val_data))):\n",
    "    example = val_data[i]\n",
    "    record_dict = {k: v for k, v in example.items() if k in record_keys}\n",
    "    record_dict['p_signal'] = np.array(record_dict['p_signal']) \n",
    "    record = wfdb.Record(**record_dict)\n",
    "\n",
    "    try:\n",
    "        segment_record = extract_segment_before_alarm(record, example['alarm'], duration_sec, max_predict_window_sec)\n",
    "        visit_dict = {k: example[k] for k in visit_attrs if k in example}\n",
    "        segment = {'label': example['label'], 'alarm': example['alarm'], **segment_record.__dict__, **visit_dict}    \n",
    "        val_segments.append(segment)\n",
    "    except Exception as e:\n",
    "        print(f\"Skipping example {i}: {e}\")\n",
    "        continue  "
   ]
  },
  {
   "cell_type": "code",
   "execution_count": 61,
   "id": "74e7264d-321b-47bb-974e-9644e732d595",
   "metadata": {},
   "outputs": [
    {
     "data": {
      "text/plain": [
       "36"
      ]
     },
     "execution_count": 61,
     "metadata": {},
     "output_type": "execute_result"
    }
   ],
   "source": [
    "len(val_segments)"
   ]
  },
  {
   "cell_type": "code",
   "execution_count": 62,
   "id": "679b4194-391c-4d1b-81cc-d319baf76d79",
   "metadata": {},
   "outputs": [
    {
     "data": {
      "text/plain": [
       "36"
      ]
     },
     "execution_count": 62,
     "metadata": {},
     "output_type": "execute_result"
    }
   ],
   "source": [
    "selected_val_segments = [segment for segment in val_segments if segment['sig_len'] / segment['fs'] >= duration_sec]\n",
    "len(selected_val_segments)"
   ]
  },
  {
   "cell_type": "code",
   "execution_count": 63,
   "id": "c0e240b2-54b6-4a9d-95cb-a5b8a4ef95e8",
   "metadata": {
    "scrolled": true
   },
   "outputs": [
    {
     "data": {
      "text/plain": [
       "[120.0,\n",
       " 120.0,\n",
       " 120.0,\n",
       " 120.0,\n",
       " 120.0,\n",
       " 120.0,\n",
       " 120.0,\n",
       " 120.0,\n",
       " 120.0,\n",
       " 120.0,\n",
       " 120.0,\n",
       " 120.0,\n",
       " 120.0,\n",
       " 120.0,\n",
       " 120.0,\n",
       " 120.0,\n",
       " 121.0,\n",
       " 121.0,\n",
       " 121.0,\n",
       " 121.0,\n",
       " 121.0,\n",
       " 121.0,\n",
       " 121.0,\n",
       " 121.0,\n",
       " 121.0,\n",
       " 121.0,\n",
       " 121.0,\n",
       " 121.0,\n",
       " 121.0,\n",
       " 121.0,\n",
       " 121.0,\n",
       " 121.0,\n",
       " 121.0,\n",
       " 121.0,\n",
       " 121.0,\n",
       " 121.0]"
      ]
     },
     "execution_count": 63,
     "metadata": {},
     "output_type": "execute_result"
    }
   ],
   "source": [
    "# check duration lengths\n",
    "\n",
    "sorted([segment['sig_len'] / segment['fs'] for segment in val_segments])"
   ]
  },
  {
   "cell_type": "code",
   "execution_count": 64,
   "id": "268bbf93-e45f-40a6-a851-ad23b0f39909",
   "metadata": {
    "scrolled": true
   },
   "outputs": [
    {
     "name": "stderr",
     "output_type": "stream",
     "text": [
      "  2%|█▌                                                                         | 1/50 [00:04<03:54,  4.79s/it]"
     ]
    },
    {
     "name": "stdout",
     "output_type": "stream",
     "text": [
      "241\n",
      "0.0\n",
      "120.0\n"
     ]
    },
    {
     "name": "stderr",
     "output_type": "stream",
     "text": [
      "  4%|███                                                                        | 2/50 [00:08<03:14,  4.04s/it]"
     ]
    },
    {
     "name": "stdout",
     "output_type": "stream",
     "text": [
      "203\n",
      "0.0\n",
      "120.0\n"
     ]
    },
    {
     "name": "stderr",
     "output_type": "stream",
     "text": [
      "  6%|████▌                                                                      | 3/50 [00:09<02:07,  2.70s/it]"
     ]
    },
    {
     "name": "stdout",
     "output_type": "stream",
     "text": [
      "299\n",
      "0.0\n",
      "120.0\n"
     ]
    },
    {
     "name": "stderr",
     "output_type": "stream",
     "text": [
      "  8%|██████                                                                     | 4/50 [00:18<03:55,  5.11s/it]"
     ]
    },
    {
     "name": "stdout",
     "output_type": "stream",
     "text": [
      "129\n",
      "0.0\n",
      "120.0\n"
     ]
    },
    {
     "name": "stderr",
     "output_type": "stream",
     "text": [
      " 10%|███████▌                                                                   | 5/50 [00:21<03:18,  4.40s/it]"
     ]
    },
    {
     "name": "stdout",
     "output_type": "stream",
     "text": [
      "158\n",
      "0.0\n",
      "120.0\n"
     ]
    },
    {
     "name": "stderr",
     "output_type": "stream",
     "text": [
      " 12%|█████████                                                                  | 6/50 [00:26<03:20,  4.56s/it]"
     ]
    },
    {
     "name": "stdout",
     "output_type": "stream",
     "text": [
      "29\n",
      "0.0\n",
      "120.0\n"
     ]
    },
    {
     "name": "stderr",
     "output_type": "stream",
     "text": [
      " 14%|██████████▌                                                                | 7/50 [00:27<02:24,  3.37s/it]"
     ]
    },
    {
     "name": "stdout",
     "output_type": "stream",
     "text": [
      "83\n",
      "0.0\n",
      "120.0\n"
     ]
    },
    {
     "name": "stderr",
     "output_type": "stream",
     "text": [
      " 16%|████████████                                                               | 8/50 [00:40<04:30,  6.44s/it]"
     ]
    },
    {
     "name": "stdout",
     "output_type": "stream",
     "text": [
      "249\n",
      "0.0\n",
      "120.0\n"
     ]
    },
    {
     "name": "stderr",
     "output_type": "stream",
     "text": [
      " 18%|█████████████▌                                                             | 9/50 [00:43<03:37,  5.31s/it]"
     ]
    },
    {
     "name": "stdout",
     "output_type": "stream",
     "text": [
      "72\n",
      "0.0\n",
      "120.0\n"
     ]
    },
    {
     "name": "stderr",
     "output_type": "stream",
     "text": [
      " 20%|██████████████▊                                                           | 10/50 [00:43<02:33,  3.83s/it]"
     ]
    },
    {
     "name": "stdout",
     "output_type": "stream",
     "text": [
      "235\n",
      "0.0\n",
      "120.0\n"
     ]
    },
    {
     "name": "stderr",
     "output_type": "stream",
     "text": [
      " 22%|████████████████▎                                                         | 11/50 [00:45<02:07,  3.26s/it]"
     ]
    },
    {
     "name": "stdout",
     "output_type": "stream",
     "text": [
      "192\n",
      "0.0\n",
      "120.0\n"
     ]
    },
    {
     "name": "stderr",
     "output_type": "stream",
     "text": [
      " 24%|█████████████████▊                                                        | 12/50 [00:46<01:40,  2.65s/it]"
     ]
    },
    {
     "name": "stdout",
     "output_type": "stream",
     "text": [
      "213\n",
      "2281-12-27 06:06:13.731999 2281-12-27 06:27:57.117999\n",
      "2281-12-27 06:15:54\n",
      "2281-12-27 06:10:21 2281-12-27 06:12:21\n",
      "247.268001\n",
      "120.0\n"
     ]
    },
    {
     "name": "stderr",
     "output_type": "stream",
     "text": [
      " 26%|███████████████████▏                                                      | 13/50 [00:49<01:36,  2.61s/it]"
     ]
    },
    {
     "name": "stdout",
     "output_type": "stream",
     "text": [
      "176\n",
      "2294-06-30 11:23:52.419000 2294-06-30 12:10:08.003000\n",
      "2294-06-30 11:33:07\n",
      "2294-06-30 11:28:11 2294-06-30 11:30:11\n",
      "258.581\n",
      "120.0\n"
     ]
    },
    {
     "name": "stderr",
     "output_type": "stream",
     "text": [
      " 28%|████████████████████▋                                                     | 14/50 [00:57<02:38,  4.39s/it]"
     ]
    },
    {
     "name": "stdout",
     "output_type": "stream",
     "text": [
      "254\n",
      "2255-04-19 18:01:49.041001 2255-04-19 20:44:49.309001\n",
      "2255-04-19 20:14:12\n",
      "2255-04-19 20:07:58 2255-04-19 20:09:58\n",
      "7568.958999\n",
      "120.0\n"
     ]
    },
    {
     "name": "stderr",
     "output_type": "stream",
     "text": [
      " 30%|██████████████████████▏                                                   | 15/50 [01:06<03:14,  5.57s/it]"
     ]
    },
    {
     "name": "stdout",
     "output_type": "stream",
     "text": [
      "43\n",
      "2280-04-22 18:54:25.396000 2280-04-22 21:40:58.884000\n",
      "2280-04-22 18:54:45\n",
      "2280-04-22 18:52:02 2280-04-22 18:54:02\n",
      "Skipping example 14: \n"
     ]
    },
    {
     "name": "stderr",
     "output_type": "stream",
     "text": [
      " 32%|███████████████████████▋                                                  | 16/50 [01:07<02:30,  4.42s/it]"
     ]
    },
    {
     "name": "stdout",
     "output_type": "stream",
     "text": [
      "233\n",
      "2222-09-08 19:08:16.105000 2222-09-08 19:48:29.747000\n",
      "2222-09-08 19:46:48\n",
      "2222-09-08 19:40:55 2222-09-08 19:42:55\n",
      "1958.895\n",
      "120.0\n"
     ]
    },
    {
     "name": "stderr",
     "output_type": "stream",
     "text": [
      " 34%|█████████████████████████▏                                                | 17/50 [01:14<02:50,  5.16s/it]"
     ]
    },
    {
     "name": "stdout",
     "output_type": "stream",
     "text": [
      "190\n",
      "2220-07-05 15:59:54.087000 2220-07-05 18:07:17.937000\n",
      "2220-07-05 16:01:08\n",
      "2220-07-05 15:55:58 2220-07-05 15:57:58\n",
      "Skipping example 16: \n"
     ]
    },
    {
     "name": "stderr",
     "output_type": "stream",
     "text": [
      " 36%|██████████████████████████▋                                               | 18/50 [01:15<01:58,  3.70s/it]"
     ]
    },
    {
     "name": "stdout",
     "output_type": "stream",
     "text": [
      "229\n",
      "2235-03-21 01:24:06.334000 2235-03-21 01:29:28.640000\n",
      "2235-03-21 01:25:07\n",
      "2235-03-21 01:19:18 2235-03-21 01:21:18\n",
      "Skipping example 17: \n"
     ]
    },
    {
     "name": "stderr",
     "output_type": "stream",
     "text": [
      " 38%|████████████████████████████                                              | 19/50 [01:19<02:04,  4.02s/it]"
     ]
    },
    {
     "name": "stdout",
     "output_type": "stream",
     "text": [
      "43\n",
      "2250-08-30 00:43:52.213000 2250-08-30 02:25:14.509000\n",
      "2250-08-30 02:00:11\n",
      "2250-08-30 01:57:28 2250-08-30 01:59:28\n",
      "4415.787\n",
      "120.0\n"
     ]
    },
    {
     "name": "stderr",
     "output_type": "stream",
     "text": [
      " 40%|█████████████████████████████▌                                            | 20/50 [01:20<01:31,  3.03s/it]"
     ]
    },
    {
     "name": "stdout",
     "output_type": "stream",
     "text": [
      "163\n",
      "2279-10-24 08:39:41.971001 2279-10-24 08:56:24.611001\n",
      "2279-10-24 08:40:37\n",
      "2279-10-24 08:35:54 2279-10-24 08:37:54\n",
      "Skipping example 19: \n"
     ]
    },
    {
     "name": "stderr",
     "output_type": "stream",
     "text": [
      " 42%|███████████████████████████████                                           | 21/50 [01:26<01:54,  3.93s/it]"
     ]
    },
    {
     "name": "stdout",
     "output_type": "stream",
     "text": [
      "150\n",
      "2208-02-26 17:08:20.788000 2208-02-26 19:03:29.118000\n",
      "2208-02-26 18:37:39\n",
      "2208-02-26 18:33:09 2208-02-26 18:35:09\n",
      "5088.212\n",
      "120.0\n"
     ]
    },
    {
     "name": "stderr",
     "output_type": "stream",
     "text": [
      " 44%|████████████████████████████████▌                                         | 22/50 [01:34<02:22,  5.09s/it]"
     ]
    },
    {
     "name": "stdout",
     "output_type": "stream",
     "text": [
      "179\n",
      "2235-07-18 05:18:55.650001 2235-07-18 07:42:37.978001\n",
      "2235-07-18 05:54:45\n",
      "2235-07-18 05:49:46 2235-07-18 05:51:46\n",
      "1850.349999\n",
      "120.0\n"
     ]
    },
    {
     "name": "stderr",
     "output_type": "stream",
     "text": [
      " 46%|██████████████████████████████████                                        | 23/50 [01:34<01:39,  3.69s/it]"
     ]
    },
    {
     "name": "stdout",
     "output_type": "stream",
     "text": [
      "6\n",
      "2218-06-09 16:05:39.298000 2218-06-09 16:13:09.200000\n",
      "2218-06-09 16:13:02\n",
      "2218-06-09 16:10:56 2218-06-09 16:12:56\n",
      "316.702\n",
      "120.0\n"
     ]
    },
    {
     "name": "stderr",
     "output_type": "stream",
     "text": [
      " 48%|███████████████████████████████████▌                                      | 24/50 [01:35<01:14,  2.86s/it]"
     ]
    },
    {
     "name": "stdout",
     "output_type": "stream",
     "text": [
      "36\n",
      "2256-08-19 22:44:36.739000 2256-08-19 23:07:20.439000\n",
      "2256-08-19 23:00:44\n",
      "2256-08-19 22:58:08 2256-08-19 23:00:08\n",
      "811.261\n",
      "120.0\n"
     ]
    },
    {
     "name": "stderr",
     "output_type": "stream",
     "text": [
      " 50%|█████████████████████████████████████                                     | 25/50 [01:37<01:00,  2.41s/it]"
     ]
    },
    {
     "name": "stdout",
     "output_type": "stream",
     "text": [
      "262\n",
      "2283-08-08 08:23:05.183000 2283-08-08 08:56:01.531000\n",
      "2283-08-08 08:54:25\n",
      "2283-08-08 08:48:03 2283-08-08 08:50:03\n",
      "1497.817\n",
      "120.0\n"
     ]
    },
    {
     "name": "stderr",
     "output_type": "stream",
     "text": [
      " 52%|██████████████████████████████████████▍                                   | 26/50 [01:43<01:24,  3.52s/it]"
     ]
    },
    {
     "name": "stdout",
     "output_type": "stream",
     "text": [
      "181\n",
      "2250-01-28 00:14:20.744000 2250-01-28 02:16:02.578000\n",
      "2250-01-28 00:55:14\n",
      "2250-01-28 00:50:13 2250-01-28 00:52:13\n",
      "2152.256\n",
      "120.0\n"
     ]
    },
    {
     "name": "stderr",
     "output_type": "stream",
     "text": [
      " 56%|█████████████████████████████████████████▍                                | 28/50 [01:44<00:46,  2.12s/it]"
     ]
    },
    {
     "name": "stdout",
     "output_type": "stream",
     "text": [
      "155\n",
      "2228-03-29 17:56:29.024999 2228-03-29 18:22:26.994999\n",
      "2228-03-29 18:02:42\n",
      "2228-03-29 17:58:07 2228-03-29 18:00:07\n",
      "97.975001\n",
      "120.0\n",
      "111\n",
      "2280-01-19 18:05:40.708999 2280-01-19 18:09:18.184999\n",
      "2280-01-19 18:06:08\n",
      "2280-01-19 18:02:17 2280-01-19 18:04:17\n",
      "Skipping example 27: \n"
     ]
    },
    {
     "name": "stderr",
     "output_type": "stream",
     "text": [
      " 58%|██████████████████████████████████████████▉                               | 29/50 [01:52<01:15,  3.62s/it]"
     ]
    },
    {
     "name": "stdout",
     "output_type": "stream",
     "text": [
      "143\n",
      "2280-03-26 09:50:31.708000 2280-03-26 12:09:01.460000\n",
      "2280-03-26 11:28:13\n",
      "2280-03-26 11:23:50 2280-03-26 11:25:50\n",
      "5598.292\n",
      "120.0\n"
     ]
    },
    {
     "name": "stderr",
     "output_type": "stream",
     "text": [
      " 60%|████████████████████████████████████████████▍                             | 30/50 [02:02<01:51,  5.57s/it]"
     ]
    },
    {
     "name": "stdout",
     "output_type": "stream",
     "text": [
      "267\n",
      "2255-09-04 02:53:45.386001 2255-09-04 06:06:30.494001\n",
      "2255-09-04 02:53:59\n",
      "2255-09-04 02:47:32 2255-09-04 02:49:32\n",
      "Skipping example 29: \n"
     ]
    },
    {
     "name": "stderr",
     "output_type": "stream",
     "text": [
      " 62%|█████████████████████████████████████████████▉                            | 31/50 [02:04<01:26,  4.53s/it]"
     ]
    },
    {
     "name": "stdout",
     "output_type": "stream",
     "text": [
      "203\n",
      "2210-12-21 23:30:11.639000 2210-12-22 00:18:34.771000\n",
      "2210-12-21 23:49:54\n",
      "2210-12-21 23:44:31 2210-12-21 23:46:31\n",
      "859.361\n",
      "120.0\n"
     ]
    },
    {
     "name": "stderr",
     "output_type": "stream",
     "text": [
      " 64%|███████████████████████████████████████████████▎                          | 32/50 [02:05<01:03,  3.50s/it]"
     ]
    },
    {
     "name": "stdout",
     "output_type": "stream",
     "text": [
      "235\n",
      "2226-07-26 03:40:13.277999 2226-07-26 03:57:06.565999\n",
      "2226-07-26 03:50:32\n",
      "2226-07-26 03:44:37 2226-07-26 03:46:37\n",
      "263.722001\n",
      "120.0\n"
     ]
    },
    {
     "name": "stderr",
     "output_type": "stream",
     "text": [
      " 66%|████████████████████████████████████████████████▊                         | 33/50 [02:10<01:07,  3.95s/it]"
     ]
    },
    {
     "name": "stdout",
     "output_type": "stream",
     "text": [
      "24\n",
      "2283-06-07 23:34:46.615001 2283-06-08 01:11:02.369001\n",
      "2283-06-07 23:48:10\n",
      "2283-06-07 23:45:46 2283-06-07 23:47:46\n",
      "659.384999\n",
      "120.0\n"
     ]
    },
    {
     "name": "stderr",
     "output_type": "stream",
     "text": [
      " 68%|██████████████████████████████████████████████████▎                       | 34/50 [02:13<00:59,  3.71s/it]"
     ]
    },
    {
     "name": "stdout",
     "output_type": "stream",
     "text": [
      "26\n",
      "2246-02-23 22:33:40.641999 2246-02-23 23:37:07.601999\n",
      "2246-02-23 22:34:04\n",
      "2246-02-23 22:31:38 2246-02-23 22:33:38\n",
      "Skipping example 33: \n"
     ]
    },
    {
     "name": "stderr",
     "output_type": "stream",
     "text": [
      " 70%|███████████████████████████████████████████████████▊                      | 35/50 [02:13<00:40,  2.72s/it]"
     ]
    },
    {
     "name": "stdout",
     "output_type": "stream",
     "text": [
      "115\n",
      "2250-02-24 22:43:53.077999 2250-02-24 22:52:19.173999\n",
      "2250-02-24 22:46:49\n",
      "2250-02-24 22:42:54 2250-02-24 22:44:54\n",
      "Skipping example 34: \n"
     ]
    },
    {
     "name": "stderr",
     "output_type": "stream",
     "text": [
      " 72%|█████████████████████████████████████████████████████▎                    | 36/50 [02:34<01:51,  7.99s/it]"
     ]
    },
    {
     "name": "stdout",
     "output_type": "stream",
     "text": [
      "74\n",
      "2253-06-10 05:58:15.913001 2253-06-10 12:34:13.293001\n",
      "2253-06-10 08:34:09\n",
      "2253-06-10 08:30:55 2253-06-10 08:32:55\n",
      "9159.086999\n",
      "120.0\n"
     ]
    },
    {
     "name": "stderr",
     "output_type": "stream",
     "text": [
      " 74%|██████████████████████████████████████████████████████▊                   | 37/50 [02:44<01:54,  8.77s/it]"
     ]
    },
    {
     "name": "stdout",
     "output_type": "stream",
     "text": [
      "130\n",
      "2210-07-01 10:22:01.527000 2210-07-01 13:35:56.239000\n",
      "2210-07-01 10:25:52\n",
      "2210-07-01 10:21:42 2210-07-01 10:23:42\n",
      "Skipping example 36: \n"
     ]
    },
    {
     "name": "stderr",
     "output_type": "stream",
     "text": [
      " 76%|████████████████████████████████████████████████████████▏                 | 38/50 [02:45<01:15,  6.33s/it]"
     ]
    },
    {
     "name": "stdout",
     "output_type": "stream",
     "text": [
      "151\n",
      "2263-11-08 03:15:57.294999 2263-11-08 03:27:42.594999\n",
      "2263-11-08 03:20:07\n",
      "2263-11-08 03:15:36 2263-11-08 03:17:36\n",
      "Skipping example 37: \n"
     ]
    },
    {
     "name": "stderr",
     "output_type": "stream",
     "text": [
      " 78%|█████████████████████████████████████████████████████████▋                | 39/50 [02:57<01:28,  8.05s/it]"
     ]
    },
    {
     "name": "stdout",
     "output_type": "stream",
     "text": [
      "43\n",
      "2221-06-30 03:38:46.116000 2221-06-30 07:56:05.910000\n",
      "2221-06-30 03:38:59\n",
      "2221-06-30 03:36:16 2221-06-30 03:38:16\n",
      "Skipping example 38: \n"
     ]
    },
    {
     "name": "stderr",
     "output_type": "stream",
     "text": [
      " 80%|███████████████████████████████████████████████████████████▏              | 40/50 [03:03<01:12,  7.28s/it]"
     ]
    },
    {
     "name": "stdout",
     "output_type": "stream",
     "text": [
      "127\n",
      "2215-07-20 09:42:17.520000 2215-07-20 11:31:42.220000\n",
      "2215-07-20 09:43:34\n",
      "2215-07-20 09:39:27 2215-07-20 09:41:27\n",
      "Skipping example 39: \n"
     ]
    },
    {
     "name": "stderr",
     "output_type": "stream",
     "text": [
      " 82%|████████████████████████████████████████████████████████████▋             | 41/50 [03:07<00:57,  6.35s/it]"
     ]
    },
    {
     "name": "stdout",
     "output_type": "stream",
     "text": [
      "4\n",
      "2242-01-14 19:05:43.446000 2242-01-14 20:23:31.954000\n",
      "2242-01-14 19:43:37\n",
      "2242-01-14 19:41:33 2242-01-14 19:43:33\n",
      "2149.554\n",
      "120.0\n"
     ]
    },
    {
     "name": "stderr",
     "output_type": "stream",
     "text": [
      " 84%|██████████████████████████████████████████████████████████████▏           | 42/50 [03:14<00:53,  6.69s/it]"
     ]
    },
    {
     "name": "stdout",
     "output_type": "stream",
     "text": [
      "261\n",
      "2214-12-20 13:01:42.733000 2214-12-20 15:26:36.831000\n",
      "2214-12-20 15:18:56\n",
      "2214-12-20 15:12:35 2214-12-20 15:14:35\n",
      "7852.267\n",
      "120.0\n"
     ]
    },
    {
     "name": "stderr",
     "output_type": "stream",
     "text": [
      " 86%|███████████████████████████████████████████████████████████████▋          | 43/50 [03:22<00:48,  6.97s/it]"
     ]
    },
    {
     "name": "stdout",
     "output_type": "stream",
     "text": [
      "130\n",
      "2285-12-25 14:45:16.025001 2285-12-25 17:19:39.857001\n",
      "2285-12-25 15:19:43\n",
      "2285-12-25 15:15:33 2285-12-25 15:17:33\n",
      "1816.974999\n",
      "120.0\n"
     ]
    },
    {
     "name": "stderr",
     "output_type": "stream",
     "text": [
      " 88%|█████████████████████████████████████████████████████████████████         | 44/50 [03:25<00:34,  5.83s/it]"
     ]
    },
    {
     "name": "stdout",
     "output_type": "stream",
     "text": [
      "36\n",
      "2297-01-21 14:29:50.416000 2297-01-21 15:30:28.980000\n",
      "2297-01-21 14:29:52\n",
      "2297-01-21 14:27:16 2297-01-21 14:29:16\n",
      "Skipping example 43: \n"
     ]
    },
    {
     "name": "stderr",
     "output_type": "stream",
     "text": [
      " 90%|██████████████████████████████████████████████████████████████████▌       | 45/50 [03:27<00:22,  4.54s/it]"
     ]
    },
    {
     "name": "stdout",
     "output_type": "stream",
     "text": [
      "10\n",
      "2270-11-16 07:33:19.576001 2270-11-16 08:10:20.688001\n",
      "2270-11-16 08:00:51\n",
      "2270-11-16 07:58:41 2270-11-16 08:00:41\n",
      "1521.423999\n",
      "120.0\n"
     ]
    },
    {
     "name": "stderr",
     "output_type": "stream",
     "text": [
      " 92%|████████████████████████████████████████████████████████████████████      | 46/50 [03:30<00:17,  4.29s/it]"
     ]
    },
    {
     "name": "stdout",
     "output_type": "stream",
     "text": [
      "217\n",
      "2213-04-15 01:45:18.565000 2213-04-15 02:57:39.457000\n",
      "2213-04-15 02:13:58\n",
      "2213-04-15 02:08:21 2213-04-15 02:10:21\n",
      "1382.435\n",
      "120.0\n"
     ]
    },
    {
     "name": "stderr",
     "output_type": "stream",
     "text": [
      " 94%|█████████████████████████████████████████████████████████████████████▌    | 47/50 [03:34<00:12,  4.05s/it]"
     ]
    },
    {
     "name": "stdout",
     "output_type": "stream",
     "text": [
      "188\n",
      "2253-08-17 17:37:22.904000 2253-08-17 18:40:55.286000\n",
      "2253-08-17 18:21:04\n",
      "2253-08-17 18:15:56 2253-08-17 18:17:56\n",
      "2313.096\n",
      "120.0\n"
     ]
    },
    {
     "name": "stderr",
     "output_type": "stream",
     "text": [
      " 96%|███████████████████████████████████████████████████████████████████████   | 48/50 [03:35<00:06,  3.19s/it]"
     ]
    },
    {
     "name": "stdout",
     "output_type": "stream",
     "text": [
      "149\n",
      "2251-05-13 15:01:06.507000 2251-05-13 15:29:12.017000\n",
      "2251-05-13 15:01:18\n",
      "2251-05-13 14:56:49 2251-05-13 14:58:49\n",
      "Skipping example 47: \n"
     ]
    },
    {
     "name": "stderr",
     "output_type": "stream",
     "text": [
      " 98%|████████████████████████████████████████████████████████████████████████▌ | 49/50 [03:36<00:02,  2.51s/it]"
     ]
    },
    {
     "name": "stdout",
     "output_type": "stream",
     "text": [
      "159\n",
      "2288-03-03 23:49:57.624001 2288-03-04 00:04:27.208001\n",
      "2288-03-03 23:51:00\n",
      "2288-03-03 23:46:21 2288-03-03 23:48:21\n",
      "Skipping example 48: \n"
     ]
    },
    {
     "name": "stderr",
     "output_type": "stream",
     "text": [
      "100%|██████████████████████████████████████████████████████████████████████████| 50/50 [03:37<00:00,  4.36s/it]"
     ]
    },
    {
     "name": "stdout",
     "output_type": "stream",
     "text": [
      "44\n",
      "2239-05-09 03:20:25.917000 2239-05-09 03:52:39.997000\n",
      "2239-05-09 03:27:40\n",
      "2239-05-09 03:24:56 2239-05-09 03:26:56\n",
      "270.083\n",
      "120.0\n"
     ]
    },
    {
     "name": "stderr",
     "output_type": "stream",
     "text": [
      "\n"
     ]
    }
   ],
   "source": [
    "test_data = ds['test']\n",
    "\n",
    "test_segments = []\n",
    "for i in tqdm(range(len(test_data))):\n",
    "    example = test_data[i]\n",
    "    record_dict = {k: v for k, v in example.items() if k in record_keys}\n",
    "    record_dict['p_signal'] = np.array(record_dict['p_signal']) \n",
    "    record = wfdb.Record(**record_dict)\n",
    "\n",
    "    try:\n",
    "        segment_record = extract_segment_before_alarm(record, example['alarm'], duration_sec, max_predict_window_sec)\n",
    "        visit_dict = {k: example[k] for k in visit_attrs if k in example}\n",
    "        segment = {'label': example['label'], 'alarm': example['alarm'], **segment_record.__dict__, **visit_dict}    \n",
    "        test_segments.append(segment)\n",
    "    except Exception as e:\n",
    "        print(f\"Skipping example {i}: {e}\")\n",
    "        continue  "
   ]
  },
  {
   "cell_type": "code",
   "execution_count": 65,
   "id": "f037d70d-2a62-4ba9-9a63-8e29d0739a95",
   "metadata": {},
   "outputs": [
    {
     "data": {
      "text/plain": [
       "35"
      ]
     },
     "execution_count": 65,
     "metadata": {},
     "output_type": "execute_result"
    }
   ],
   "source": [
    "len(test_segments)"
   ]
  },
  {
   "cell_type": "code",
   "execution_count": 66,
   "id": "82e35991-f19a-48e3-99b3-750659110afc",
   "metadata": {},
   "outputs": [
    {
     "data": {
      "text/plain": [
       "35"
      ]
     },
     "execution_count": 66,
     "metadata": {},
     "output_type": "execute_result"
    }
   ],
   "source": [
    "selected_test_segments = [segment for segment in test_segments if segment['sig_len'] / segment['fs'] >= duration_sec]\n",
    "len(selected_test_segments)"
   ]
  },
  {
   "cell_type": "code",
   "execution_count": 67,
   "id": "5f45268f-3db2-40f2-91a5-0b25b0093759",
   "metadata": {
    "scrolled": true
   },
   "outputs": [
    {
     "data": {
      "text/plain": [
       "[120.0,\n",
       " 120.0,\n",
       " 120.0,\n",
       " 120.0,\n",
       " 120.0,\n",
       " 120.0,\n",
       " 120.0,\n",
       " 120.0,\n",
       " 120.0,\n",
       " 120.0,\n",
       " 120.0,\n",
       " 121.0,\n",
       " 121.0,\n",
       " 121.0,\n",
       " 121.0,\n",
       " 121.0,\n",
       " 121.0,\n",
       " 121.0,\n",
       " 121.0,\n",
       " 121.0,\n",
       " 121.0,\n",
       " 121.0,\n",
       " 121.0,\n",
       " 121.0,\n",
       " 121.0,\n",
       " 121.0,\n",
       " 121.0,\n",
       " 121.0,\n",
       " 121.0,\n",
       " 121.0,\n",
       " 121.0,\n",
       " 121.0,\n",
       " 121.0,\n",
       " 121.0,\n",
       " 121.0]"
      ]
     },
     "execution_count": 67,
     "metadata": {},
     "output_type": "execute_result"
    }
   ],
   "source": [
    "# check duration lengths\n",
    "\n",
    "sorted([segment['sig_len'] / segment['fs'] for segment in test_segments])"
   ]
  },
  {
   "cell_type": "code",
   "execution_count": 68,
   "id": "e5bbbfea-6279-42a8-a07e-8abccc351213",
   "metadata": {},
   "outputs": [],
   "source": [
    "from datasets import Dataset, DatasetDict\n",
    "\n",
    "train_segments_dataset = Dataset.from_list(selected_train_segments)\n",
    "val_segments_dataset = Dataset.from_list(selected_val_segments)\n",
    "test_segments_dataset = Dataset.from_list(selected_test_segments)"
   ]
  },
  {
   "cell_type": "code",
   "execution_count": 69,
   "id": "3055d0d4-9577-42d4-9b38-1c4b55726e6c",
   "metadata": {},
   "outputs": [],
   "source": [
    "# Create DatasetDict\n",
    "dataset_segments_dict = DatasetDict({\n",
    "    'train': train_segments_dataset,\n",
    "    'validation': val_segments_dataset,\n",
    "    'test': test_segments_dataset\n",
    "})"
   ]
  },
  {
   "cell_type": "code",
   "execution_count": null,
   "id": "f7abd550-1bc5-4ee2-bf42-7f89015b94bd",
   "metadata": {},
   "outputs": [],
   "source": []
  },
  {
   "cell_type": "code",
   "execution_count": 70,
   "id": "1967958d-dabb-4fdc-96ee-597b7c69868b",
   "metadata": {},
   "outputs": [
    {
     "data": {
      "text/plain": [
       "DatasetDict({\n",
       "    train: Dataset({\n",
       "        features: ['label', 'alarm', 'record_name', 'n_sig', 'fs', 'counter_freq', 'base_counter', 'sig_len', 'base_time', 'base_date', 'comments', 'sig_name', 'p_signal', 'd_signal', 'e_p_signal', 'e_d_signal', 'file_name', 'fmt', 'samps_per_frame', 'skew', 'byte_offset', 'adc_gain', 'baseline', 'units', 'adc_res', 'adc_zero', 'init_value', 'checksum', 'block_size', 'MRN', 'CSN', 'Visit_no', 'Visits', 'Age', 'Gender', 'Race', 'Ethnicity', 'Means_of_arrival', 'Triage_Temp', 'Triage_HR', 'Triage_RR', 'Triage_SpO2', 'Triage_SBP', 'Triage_DBP', 'Triage_acuity', 'CC', 'ED_dispo', 'Hours_to_next_visit', 'Dispo_class_next_visit', 'ED_LOS', 'Hosp_LOS', 'DC_dispo', 'Payor_class', 'Admit_service', 'Dx_ICD9', 'Dx_ICD10', 'Dx_name', 'Arrival_time', 'Roomed_time', 'Dispo_time', 'Admit_time', 'Departure_time'],\n",
       "        num_rows: 317\n",
       "    })\n",
       "    validation: Dataset({\n",
       "        features: ['label', 'alarm', 'record_name', 'n_sig', 'fs', 'counter_freq', 'base_counter', 'sig_len', 'base_time', 'base_date', 'comments', 'sig_name', 'p_signal', 'd_signal', 'e_p_signal', 'e_d_signal', 'file_name', 'fmt', 'samps_per_frame', 'skew', 'byte_offset', 'adc_gain', 'baseline', 'units', 'adc_res', 'adc_zero', 'init_value', 'checksum', 'block_size', 'MRN', 'CSN', 'Visit_no', 'Visits', 'Age', 'Gender', 'Race', 'Ethnicity', 'Means_of_arrival', 'Triage_Temp', 'Triage_HR', 'Triage_RR', 'Triage_SpO2', 'Triage_SBP', 'Triage_DBP', 'Triage_acuity', 'CC', 'ED_dispo', 'Hours_to_next_visit', 'Dispo_class_next_visit', 'ED_LOS', 'Hosp_LOS', 'DC_dispo', 'Payor_class', 'Admit_service', 'Dx_ICD9', 'Dx_ICD10', 'Dx_name', 'Arrival_time', 'Roomed_time', 'Dispo_time', 'Admit_time', 'Departure_time'],\n",
       "        num_rows: 36\n",
       "    })\n",
       "    test: Dataset({\n",
       "        features: ['label', 'alarm', 'record_name', 'n_sig', 'fs', 'counter_freq', 'base_counter', 'sig_len', 'base_time', 'base_date', 'comments', 'sig_name', 'p_signal', 'd_signal', 'e_p_signal', 'e_d_signal', 'file_name', 'fmt', 'samps_per_frame', 'skew', 'byte_offset', 'adc_gain', 'baseline', 'units', 'adc_res', 'adc_zero', 'init_value', 'checksum', 'block_size', 'MRN', 'CSN', 'Visit_no', 'Visits', 'Age', 'Gender', 'Race', 'Ethnicity', 'Means_of_arrival', 'Triage_Temp', 'Triage_HR', 'Triage_RR', 'Triage_SpO2', 'Triage_SBP', 'Triage_DBP', 'Triage_acuity', 'CC', 'ED_dispo', 'Hours_to_next_visit', 'Dispo_class_next_visit', 'ED_LOS', 'Hosp_LOS', 'DC_dispo', 'Payor_class', 'Admit_service', 'Dx_ICD9', 'Dx_ICD10', 'Dx_name', 'Arrival_time', 'Roomed_time', 'Dispo_time', 'Admit_time', 'Departure_time'],\n",
       "        num_rows: 35\n",
       "    })\n",
       "})"
      ]
     },
     "execution_count": 70,
     "metadata": {},
     "output_type": "execute_result"
    }
   ],
   "source": [
    "dataset_segments_dict"
   ]
  },
  {
   "cell_type": "code",
   "execution_count": 71,
   "id": "2ada140d-ecaf-4505-baed-d0babaebda2a",
   "metadata": {
    "scrolled": true
   },
   "outputs": [
    {
     "data": {
      "application/vnd.jupyter.widget-view+json": {
       "model_id": "1cc1fe4f46e242e198e18498d8d34e6f",
       "version_major": 2,
       "version_minor": 0
      },
      "text/plain": [
       "Uploading the dataset shards:   0%|          | 0/1 [00:00<?, ?it/s]"
      ]
     },
     "metadata": {},
     "output_type": "display_data"
    },
    {
     "data": {
      "application/vnd.jupyter.widget-view+json": {
       "model_id": "322b69c9a0144102a189de8d78583dba",
       "version_major": 2,
       "version_minor": 0
      },
      "text/plain": [
       "Creating parquet from Arrow format:   0%|          | 0/1 [00:00<?, ?ba/s]"
      ]
     },
     "metadata": {},
     "output_type": "display_data"
    },
    {
     "data": {
      "application/vnd.jupyter.widget-view+json": {
       "model_id": "3ca373267f8f4e3f8b8d886837a0fb11",
       "version_major": 2,
       "version_minor": 0
      },
      "text/plain": [
       "Uploading the dataset shards:   0%|          | 0/1 [00:00<?, ?it/s]"
      ]
     },
     "metadata": {},
     "output_type": "display_data"
    },
    {
     "data": {
      "application/vnd.jupyter.widget-view+json": {
       "model_id": "47e9e2cd7423429b9f1f386bf5324ce7",
       "version_major": 2,
       "version_minor": 0
      },
      "text/plain": [
       "Creating parquet from Arrow format:   0%|          | 0/1 [00:00<?, ?ba/s]"
      ]
     },
     "metadata": {},
     "output_type": "display_data"
    },
    {
     "data": {
      "application/vnd.jupyter.widget-view+json": {
       "model_id": "4d130904a9f24723a9548aa90020267d",
       "version_major": 2,
       "version_minor": 0
      },
      "text/plain": [
       "Uploading the dataset shards:   0%|          | 0/1 [00:00<?, ?it/s]"
      ]
     },
     "metadata": {},
     "output_type": "display_data"
    },
    {
     "data": {
      "application/vnd.jupyter.widget-view+json": {
       "model_id": "ca8a50764a754760bbecdd922405c51f",
       "version_major": 2,
       "version_minor": 0
      },
      "text/plain": [
       "Creating parquet from Arrow format:   0%|          | 0/1 [00:00<?, ?ba/s]"
      ]
     },
     "metadata": {},
     "output_type": "display_data"
    },
    {
     "data": {
      "text/plain": [
       "CommitInfo(commit_url='https://huggingface.co/datasets/BrachioLab/mcmed-cardiac/commit/d22700fee24f4e195f36201d1ca084e9633c7f9d', commit_message='Upload dataset', commit_description='', oid='d22700fee24f4e195f36201d1ca084e9633c7f9d', pr_url=None, repo_url=RepoUrl('https://huggingface.co/datasets/BrachioLab/mcmed-cardiac', endpoint='https://huggingface.co', repo_type='dataset', repo_id='BrachioLab/mcmed-cardiac'), pr_revision=None, pr_num=None)"
      ]
     },
     "execution_count": 71,
     "metadata": {},
     "output_type": "execute_result"
    }
   ],
   "source": [
    "dataset_segments_dict.push_to_hub(\"BrachioLab/mcmed-cardiac\")"
   ]
  },
  {
   "cell_type": "markdown",
   "id": "995cbea1-f1e6-48b1-8dce-618a4bd27f52",
   "metadata": {
    "jp-MarkdownHeadingCollapsed": true
   },
   "source": [
    "## other stuff that was useful for initial probing the data"
   ]
  },
  {
   "cell_type": "code",
   "execution_count": 14,
   "id": "5c246b3c-0ab4-404e-80f4-ed9b97994486",
   "metadata": {
    "scrolled": true
   },
   "outputs": [],
   "source": [
    "patients_records_dict = {}\n",
    "\n",
    "for patient_id in patients_segments_dict:\n",
    "    record_list = []\n",
    "    for segment_path in patients_segments_dict[patient_id]:\n",
    "        data_path = f\"/tmp/mc-med-1.0.0/data/waveforms/{CSN_suffix}/{segment_path}\"\n",
    "        # Read the record\n",
    "        record = wfdb.rdrecord(data_path)\n",
    "        record_list.append(record)\n",
    "    patients_records_dict[patient_id] = record_list\n",
    "\n",
    "# patients_records_dict"
   ]
  },
  {
   "cell_type": "code",
   "execution_count": 15,
   "id": "65eb813a-80e3-430d-9c69-290105164484",
   "metadata": {},
   "outputs": [
    {
     "name": "stdout",
     "output_type": "stream",
     "text": [
      "Yes alarm!\n",
      "Patient id: 99996003\n"
     ]
    },
    {
     "data": {
      "text/plain": [
       "[<wfdb.io.record.Record at 0x7ef9745d6770>,\n",
       " <wfdb.io.record.Record at 0x7ef9745d7c70>,\n",
       " <wfdb.io.record.Record at 0x7ef9745d66b0>]"
      ]
     },
     "execution_count": 15,
     "metadata": {},
     "output_type": "execute_result"
    }
   ],
   "source": [
    "if alarm_patient_ids.numel() == 0:\n",
    "    print(\"No alarm!\")\n",
    "    Full_CSN = patient_ids[0].item() # Full_CSN is another name for patient_id\n",
    "else:\n",
    "    print(\"Yes alarm!\")\n",
    "    Full_CSN = alarm_patient_ids[0].item()\n",
    "print('Patient id:', Full_CSN)\n",
    "patients_records_dict[Full_CSN]"
   ]
  },
  {
   "cell_type": "code",
   "execution_count": null,
   "id": "060091fd-6244-4952-9f7e-faa12c7ab496",
   "metadata": {},
   "outputs": [],
   "source": [
    "record_name, base_date, base_time, "
   ]
  },
  {
   "cell_type": "code",
   "execution_count": 17,
   "id": "97ac8fee-d8d3-4b81-b85b-f5ce09e690a2",
   "metadata": {},
   "outputs": [],
   "source": [
    "records = patients_records_dict[Full_CSN]"
   ]
  },
  {
   "cell_type": "code",
   "execution_count": 20,
   "id": "62312b5f-3705-431b-9a5e-3d6c24a54a15",
   "metadata": {},
   "outputs": [
    {
     "name": "stdout",
     "output_type": "stream",
     "text": [
      "{'record_name': '99996003_1', 'n_sig': 1, 'fs': 500, 'counter_freq': None, 'base_counter': None, 'sig_len': 476497, 'base_time': datetime.time(12, 0, 13, 772000), 'base_date': datetime.date(2225, 3, 31), 'comments': [], 'sig_name': ['II'], 'p_signal': array([[-0.024923  ],\n",
      "       [-0.0199384 ],\n",
      "       [-0.0099692 ],\n",
      "       ...,\n",
      "       [ 0.0348922 ],\n",
      "       [ 0.23427618],\n",
      "       [ 0.33396817]]), 'd_signal': None, 'e_p_signal': None, 'e_d_signal': None, 'file_name': ['99996003_1.dat'], 'fmt': ['212'], 'samps_per_frame': [1], 'skew': [None], 'byte_offset': [None], 'adc_gain': [401.23583934088566], 'baseline': [-99], 'units': ['mV'], 'adc_res': [12], 'adc_zero': [0], 'init_value': [-109], 'checksum': [17044], 'block_size': [0]}\n"
     ]
    }
   ],
   "source": [
    "record1 = records[0]\n",
    "print(record1.__dict__)"
   ]
  },
  {
   "cell_type": "code",
   "execution_count": 22,
   "id": "ce9c541c-c0ca-4c98-b9b3-7380148241fe",
   "metadata": {},
   "outputs": [
    {
     "name": "stdout",
     "output_type": "stream",
     "text": [
      "{'record_name': '99996003_2', 'n_sig': 1, 'fs': 500, 'counter_freq': None, 'base_counter': None, 'sig_len': 1636479, 'base_time': datetime.time(12, 16, 33, 72000), 'base_date': datetime.date(2225, 3, 31), 'comments': [], 'sig_name': ['II'], 'p_signal': array([[-0.13973566],\n",
      "       [-0.12085246],\n",
      "       [-0.0868627 ],\n",
      "       ...,\n",
      "       [ 0.33989754],\n",
      "       [ 0.22659836],\n",
      "       [ 0.17372541]]), 'd_signal': None, 'e_p_signal': None, 'e_d_signal': None, 'file_name': ['99996003_2.dat'], 'fmt': ['212'], 'samps_per_frame': [1], 'skew': [None], 'byte_offset': [None], 'adc_gain': [264.78567552902877], 'baseline': [393], 'units': ['mV'], 'adc_res': [12], 'adc_zero': [0], 'init_value': [356], 'checksum': [27762], 'block_size': [0]}\n"
     ]
    }
   ],
   "source": [
    "record2 = records[1]\n",
    "print(record2.__dict__)"
   ]
  },
  {
   "cell_type": "code",
   "execution_count": 38,
   "id": "39b81b8c-fc0f-45c7-82fd-813a1806688d",
   "metadata": {},
   "outputs": [],
   "source": [
    "d1 = record1.__dict__"
   ]
  },
  {
   "cell_type": "code",
   "execution_count": 40,
   "id": "36a0e25d-1072-4372-8c17-14b1834c273a",
   "metadata": {},
   "outputs": [],
   "source": [
    "d1['alarm'] = 0"
   ]
  },
  {
   "cell_type": "code",
   "execution_count": 45,
   "id": "4bbdceae-83a0-4397-9dd4-a84facc49f5f",
   "metadata": {},
   "outputs": [
    {
     "data": {
      "text/plain": [
       "Timestamp('2225-03-31 12:08:57')"
      ]
     },
     "execution_count": 45,
     "metadata": {},
     "output_type": "execute_result"
    }
   ],
   "source": [
    "alarm_ts = alarms_df[alarms_df['CSN'] == Full_CSN]['Alarm'].iloc[0]\n",
    "alarm_ts"
   ]
  },
  {
   "cell_type": "code",
   "execution_count": 41,
   "id": "d7807238-4291-4a42-9bf9-8492304ae0dd",
   "metadata": {},
   "outputs": [
    {
     "data": {
      "text/plain": [
       "{'record_name': '99996003_1',\n",
       " 'n_sig': 1,\n",
       " 'fs': 500,\n",
       " 'counter_freq': None,\n",
       " 'base_counter': None,\n",
       " 'sig_len': 476497,\n",
       " 'base_time': datetime.time(12, 0, 13, 772000),\n",
       " 'base_date': datetime.date(2225, 3, 31),\n",
       " 'comments': [],\n",
       " 'sig_name': ['II'],\n",
       " 'p_signal': array([[-0.024923  ],\n",
       "        [-0.0199384 ],\n",
       "        [-0.0099692 ],\n",
       "        ...,\n",
       "        [ 0.0348922 ],\n",
       "        [ 0.23427618],\n",
       "        [ 0.33396817]]),\n",
       " 'd_signal': None,\n",
       " 'e_p_signal': None,\n",
       " 'e_d_signal': None,\n",
       " 'file_name': ['99996003_1.dat'],\n",
       " 'fmt': ['212'],\n",
       " 'samps_per_frame': [1],\n",
       " 'skew': [None],\n",
       " 'byte_offset': [None],\n",
       " 'adc_gain': [401.23583934088566],\n",
       " 'baseline': [-99],\n",
       " 'units': ['mV'],\n",
       " 'adc_res': [12],\n",
       " 'adc_zero': [0],\n",
       " 'init_value': [-109],\n",
       " 'checksum': [17044],\n",
       " 'block_size': [0],\n",
       " 'alarm': 0}"
      ]
     },
     "execution_count": 41,
     "metadata": {},
     "output_type": "execute_result"
    }
   ],
   "source": [
    "d1"
   ]
  },
  {
   "cell_type": "code",
   "execution_count": 48,
   "id": "bbc8d933-8898-44b7-9976-a9c0c3aa5185",
   "metadata": {},
   "outputs": [
    {
     "data": {
      "text/plain": [
       "{'record_name': '99996003_2',\n",
       " 'n_sig': 1,\n",
       " 'fs': 500,\n",
       " 'counter_freq': None,\n",
       " 'base_counter': None,\n",
       " 'sig_len': 1636479,\n",
       " 'base_time': datetime.time(12, 16, 33, 72000),\n",
       " 'base_date': datetime.date(2225, 3, 31),\n",
       " 'comments': [],\n",
       " 'sig_name': ['II'],\n",
       " 'p_signal': array([[-0.13973566],\n",
       "        [-0.12085246],\n",
       "        [-0.0868627 ],\n",
       "        ...,\n",
       "        [ 0.33989754],\n",
       "        [ 0.22659836],\n",
       "        [ 0.17372541]]),\n",
       " 'd_signal': None,\n",
       " 'e_p_signal': None,\n",
       " 'e_d_signal': None,\n",
       " 'file_name': ['99996003_2.dat'],\n",
       " 'fmt': ['212'],\n",
       " 'samps_per_frame': [1],\n",
       " 'skew': [None],\n",
       " 'byte_offset': [None],\n",
       " 'adc_gain': [264.78567552902877],\n",
       " 'baseline': [393],\n",
       " 'units': ['mV'],\n",
       " 'adc_res': [12],\n",
       " 'adc_zero': [0],\n",
       " 'init_value': [356],\n",
       " 'checksum': [27762],\n",
       " 'block_size': [0],\n",
       " 'alarm_ts': None}"
      ]
     },
     "execution_count": 48,
     "metadata": {},
     "output_type": "execute_result"
    }
   ],
   "source": [
    "d2 = record2.__dict__\n",
    "d2['alarm_ts'] = None\n",
    "\n",
    "d2"
   ]
  },
  {
   "cell_type": "code",
   "execution_count": null,
   "id": "9723bdd5-6c72-48ba-9605-64a11708d6e2",
   "metadata": {},
   "outputs": [],
   "source": []
  },
  {
   "cell_type": "code",
   "execution_count": null,
   "id": "87e64e79-c2da-4ea0-b2de-eeadb460ae78",
   "metadata": {},
   "outputs": [],
   "source": []
  },
  {
   "cell_type": "code",
   "execution_count": 34,
   "id": "a2e368ba-6b61-47a5-8a2b-1aa07fe7c0c2",
   "metadata": {
    "scrolled": true
   },
   "outputs": [],
   "source": [
    "l = [record1.__dict__, record2.__dict__]"
   ]
  },
  {
   "cell_type": "code",
   "execution_count": 35,
   "id": "e103f077-d513-4f9f-a52e-274694f6bfa0",
   "metadata": {},
   "outputs": [],
   "source": [
    "from datasets import Dataset, DatasetDict\n",
    "\n",
    "train_dataset = Dataset.from_list(l)\n",
    "\n",
    "dataset_dict = DatasetDict({\n",
    "    \"train\": l\n",
    "})\n"
   ]
  },
  {
   "cell_type": "code",
   "execution_count": 36,
   "id": "e38739c4-6356-4b3c-b328-cfb2c728ab8f",
   "metadata": {},
   "outputs": [
    {
     "data": {
      "text/plain": [
       "Dataset({\n",
       "    features: ['record_name', 'n_sig', 'fs', 'counter_freq', 'base_counter', 'sig_len', 'base_time', 'base_date', 'comments', 'sig_name', 'p_signal', 'd_signal', 'e_p_signal', 'e_d_signal', 'file_name', 'fmt', 'samps_per_frame', 'skew', 'byte_offset', 'adc_gain', 'baseline', 'units', 'adc_res', 'adc_zero', 'init_value', 'checksum', 'block_size'],\n",
       "    num_rows: 2\n",
       "})"
      ]
     },
     "execution_count": 36,
     "metadata": {},
     "output_type": "execute_result"
    }
   ],
   "source": [
    "train_dataset"
   ]
  },
  {
   "cell_type": "code",
   "execution_count": 37,
   "id": "cbcbf218-69ed-467e-a824-9b9712a66c9d",
   "metadata": {},
   "outputs": [
    {
     "data": {
      "text/plain": [
       "DatasetDict({\n",
       "    train: [{'record_name': '99996003_1', 'n_sig': 1, 'fs': 500, 'counter_freq': None, 'base_counter': None, 'sig_len': 476497, 'base_time': datetime.time(12, 0, 13, 772000), 'base_date': datetime.date(2225, 3, 31), 'comments': [], 'sig_name': ['II'], 'p_signal': array([[-0.024923  ],\n",
       "           [-0.0199384 ],\n",
       "           [-0.0099692 ],\n",
       "           ...,\n",
       "           [ 0.0348922 ],\n",
       "           [ 0.23427618],\n",
       "           [ 0.33396817]]), 'd_signal': None, 'e_p_signal': None, 'e_d_signal': None, 'file_name': ['99996003_1.dat'], 'fmt': ['212'], 'samps_per_frame': [1], 'skew': [None], 'byte_offset': [None], 'adc_gain': [401.23583934088566], 'baseline': [-99], 'units': ['mV'], 'adc_res': [12], 'adc_zero': [0], 'init_value': [-109], 'checksum': [17044], 'block_size': [0]}, {'record_name': '99996003_2', 'n_sig': 1, 'fs': 500, 'counter_freq': None, 'base_counter': None, 'sig_len': 1636479, 'base_time': datetime.time(12, 16, 33, 72000), 'base_date': datetime.date(2225, 3, 31), 'comments': [], 'sig_name': ['II'], 'p_signal': array([[-0.13973566],\n",
       "           [-0.12085246],\n",
       "           [-0.0868627 ],\n",
       "           ...,\n",
       "           [ 0.33989754],\n",
       "           [ 0.22659836],\n",
       "           [ 0.17372541]]), 'd_signal': None, 'e_p_signal': None, 'e_d_signal': None, 'file_name': ['99996003_2.dat'], 'fmt': ['212'], 'samps_per_frame': [1], 'skew': [None], 'byte_offset': [None], 'adc_gain': [264.78567552902877], 'baseline': [393], 'units': ['mV'], 'adc_res': [12], 'adc_zero': [0], 'init_value': [356], 'checksum': [27762], 'block_size': [0]}]\n",
       "})"
      ]
     },
     "execution_count": 37,
     "metadata": {},
     "output_type": "execute_result"
    }
   ],
   "source": [
    "dataset_dict"
   ]
  },
  {
   "cell_type": "code",
   "execution_count": 27,
   "id": "c3c1d486-a6aa-48b9-a06d-a6af1ebcbb56",
   "metadata": {},
   "outputs": [
    {
     "data": {
      "text/plain": [
       "{'record_name': ['99996003_1', '99996003_2'],\n",
       " 'n_sig': [1, 1],\n",
       " 'fs': [500, 500],\n",
       " 'counter_freq': [None, None],\n",
       " 'base_counter': [None, None],\n",
       " 'sig_len': [476497, 1636479],\n",
       " 'base_time': [datetime.time(12, 0, 13, 772000),\n",
       "  datetime.time(12, 16, 33, 72000)],\n",
       " 'base_date': [datetime.date(2225, 3, 31), datetime.date(2225, 3, 31)],\n",
       " 'comments': [[], []],\n",
       " 'sig_name': [['II'], ['II']],\n",
       " 'p_signal': [array([[-0.024923  ],\n",
       "         [-0.0199384 ],\n",
       "         [-0.0099692 ],\n",
       "         ...,\n",
       "         [ 0.0348922 ],\n",
       "         [ 0.23427618],\n",
       "         [ 0.33396817]]),\n",
       "  array([[-0.13973566],\n",
       "         [-0.12085246],\n",
       "         [-0.0868627 ],\n",
       "         ...,\n",
       "         [ 0.33989754],\n",
       "         [ 0.22659836],\n",
       "         [ 0.17372541]])],\n",
       " 'd_signal': [None, None],\n",
       " 'e_p_signal': [None, None],\n",
       " 'e_d_signal': [None, None],\n",
       " 'file_name': [['99996003_1.dat'], ['99996003_2.dat']],\n",
       " 'fmt': [['212'], ['212']],\n",
       " 'samps_per_frame': [[1], [1]],\n",
       " 'skew': [[None], [None]],\n",
       " 'byte_offset': [[None], [None]],\n",
       " 'adc_gain': [[401.23583934088566], [264.78567552902877]],\n",
       " 'baseline': [[-99], [393]],\n",
       " 'units': [['mV'], ['mV']],\n",
       " 'adc_res': [[12], [12]],\n",
       " 'adc_zero': [[0], [0]],\n",
       " 'init_value': [[-109], [356]],\n",
       " 'checksum': [[17044], [27762]],\n",
       " 'block_size': [[0], [0]]}"
      ]
     },
     "execution_count": 27,
     "metadata": {},
     "output_type": "execute_result"
    }
   ],
   "source": [
    "d = {}\n",
    "for key in record1.__dict__:\n",
    "    entry_list = []\n",
    "    entry_list.append(record1.__dict__[key])\n",
    "    entry_list.append(record2.__dict__[key])\n",
    "    d[key] = entry_list\n",
    "d"
   ]
  },
  {
   "cell_type": "code",
   "execution_count": 32,
   "id": "f3da84f3-9f74-4137-a7b8-e137180d3e92",
   "metadata": {},
   "outputs": [
    {
     "ename": "AttributeError",
     "evalue": "'list' object has no attribute 'items'",
     "output_type": "error",
     "traceback": [
      "\u001b[0;31m---------------------------------------------------------------------------\u001b[0m",
      "\u001b[0;31mAttributeError\u001b[0m                            Traceback (most recent call last)",
      "Cell \u001b[0;32mIn[32], line 4\u001b[0m\n\u001b[1;32m      1\u001b[0m \u001b[38;5;28;01mfrom\u001b[39;00m\u001b[38;5;250m \u001b[39m\u001b[38;5;21;01mdatasets\u001b[39;00m\u001b[38;5;250m \u001b[39m\u001b[38;5;28;01mimport\u001b[39;00m Dataset, DatasetDict\n\u001b[1;32m      3\u001b[0m \u001b[38;5;66;03m# Convert each sub-dictionary to a Hugging Face Dataset\u001b[39;00m\n\u001b[0;32m----> 4\u001b[0m dataset_dict \u001b[38;5;241m=\u001b[39m DatasetDict({\n\u001b[1;32m      5\u001b[0m     split: Dataset\u001b[38;5;241m.\u001b[39mfrom_dict(split_data)\n\u001b[1;32m      6\u001b[0m     \u001b[38;5;28;01mfor\u001b[39;00m split, split_data \u001b[38;5;129;01min\u001b[39;00m d\u001b[38;5;241m.\u001b[39mitems()\n\u001b[1;32m      7\u001b[0m })\n",
      "Cell \u001b[0;32mIn[32], line 5\u001b[0m, in \u001b[0;36m<dictcomp>\u001b[0;34m(.0)\u001b[0m\n\u001b[1;32m      1\u001b[0m \u001b[38;5;28;01mfrom\u001b[39;00m\u001b[38;5;250m \u001b[39m\u001b[38;5;21;01mdatasets\u001b[39;00m\u001b[38;5;250m \u001b[39m\u001b[38;5;28;01mimport\u001b[39;00m Dataset, DatasetDict\n\u001b[1;32m      3\u001b[0m \u001b[38;5;66;03m# Convert each sub-dictionary to a Hugging Face Dataset\u001b[39;00m\n\u001b[1;32m      4\u001b[0m dataset_dict \u001b[38;5;241m=\u001b[39m DatasetDict({\n\u001b[0;32m----> 5\u001b[0m     split: \u001b[43mDataset\u001b[49m\u001b[38;5;241;43m.\u001b[39;49m\u001b[43mfrom_dict\u001b[49m\u001b[43m(\u001b[49m\u001b[43msplit_data\u001b[49m\u001b[43m)\u001b[49m\n\u001b[1;32m      6\u001b[0m     \u001b[38;5;28;01mfor\u001b[39;00m split, split_data \u001b[38;5;129;01min\u001b[39;00m d\u001b[38;5;241m.\u001b[39mitems()\n\u001b[1;32m      7\u001b[0m })\n",
      "File \u001b[0;32m~/miniconda3/envs/ssg-env/lib/python3.10/site-packages/datasets/arrow_dataset.py:929\u001b[0m, in \u001b[0;36mDataset.from_dict\u001b[0;34m(cls, mapping, features, info, split)\u001b[0m\n\u001b[1;32m    927\u001b[0m features \u001b[38;5;241m=\u001b[39m features \u001b[38;5;28;01mif\u001b[39;00m features \u001b[38;5;129;01mis\u001b[39;00m \u001b[38;5;129;01mnot\u001b[39;00m \u001b[38;5;28;01mNone\u001b[39;00m \u001b[38;5;28;01melse\u001b[39;00m info\u001b[38;5;241m.\u001b[39mfeatures \u001b[38;5;28;01mif\u001b[39;00m info \u001b[38;5;129;01mis\u001b[39;00m \u001b[38;5;129;01mnot\u001b[39;00m \u001b[38;5;28;01mNone\u001b[39;00m \u001b[38;5;28;01melse\u001b[39;00m \u001b[38;5;28;01mNone\u001b[39;00m\n\u001b[1;32m    928\u001b[0m arrow_typed_mapping \u001b[38;5;241m=\u001b[39m {}\n\u001b[0;32m--> 929\u001b[0m \u001b[38;5;28;01mfor\u001b[39;00m col, data \u001b[38;5;129;01min\u001b[39;00m \u001b[43mmapping\u001b[49m\u001b[38;5;241;43m.\u001b[39;49m\u001b[43mitems\u001b[49m():\n\u001b[1;32m    930\u001b[0m     \u001b[38;5;28;01mif\u001b[39;00m \u001b[38;5;28misinstance\u001b[39m(data, (pa\u001b[38;5;241m.\u001b[39mArray, pa\u001b[38;5;241m.\u001b[39mChunkedArray)):\n\u001b[1;32m    931\u001b[0m         data \u001b[38;5;241m=\u001b[39m cast_array_to_feature(data, features[col]) \u001b[38;5;28;01mif\u001b[39;00m features \u001b[38;5;129;01mis\u001b[39;00m \u001b[38;5;129;01mnot\u001b[39;00m \u001b[38;5;28;01mNone\u001b[39;00m \u001b[38;5;28;01melse\u001b[39;00m data\n",
      "\u001b[0;31mAttributeError\u001b[0m: 'list' object has no attribute 'items'"
     ]
    }
   ],
   "source": [
    "from datasets import Dataset, DatasetDict\n",
    "\n",
    "# Convert each sub-dictionary to a Hugging Face Dataset\n",
    "dataset_dict = DatasetDict({\n",
    "    split: Dataset.from_dict(split_data)\n",
    "    for split, split_data in d.items()\n",
    "})"
   ]
  },
  {
   "cell_type": "code",
   "execution_count": 78,
   "id": "557114ca-0848-4ed7-9aeb-ced301d76967",
   "metadata": {},
   "outputs": [
    {
     "name": "stdout",
     "output_type": "stream",
     "text": [
      "Date: 2225-03-31\n",
      "Start time: 12:00:13.772000\n",
      "End time: 12:16:06.766000\n"
     ]
    }
   ],
   "source": [
    "def get_start_end_times(record):\n",
    "    start_dt = datetime.combine(datetime.today(), record.base_time)\n",
    "    duration_sec = record.sig_len / record.fs\n",
    "    end_dt = start_dt + timedelta(seconds=duration_sec)\n",
    "    print(\"Date:\", record.base_date)\n",
    "    print(\"Start time:\", record.base_time)\n",
    "    print(\"End time:\", end_dt.time())\n",
    "    return\n",
    "    # return start_dt, end_dt\n",
    "\n",
    "get_start_end_times(record1)"
   ]
  },
  {
   "cell_type": "code",
   "execution_count": null,
   "id": "a2adad67-e089-4d7b-bd9c-a084fb9925d3",
   "metadata": {},
   "outputs": [],
   "source": [
    "measurements"
   ]
  },
  {
   "cell_type": "code",
   "execution_count": 121,
   "id": "6c93290d-37a5-4958-8e21-25e8690becee",
   "metadata": {},
   "outputs": [
    {
     "data": {
      "text/plain": [
       "Timestamp('2225-03-31 12:08:57')"
      ]
     },
     "execution_count": 121,
     "metadata": {},
     "output_type": "execute_result"
    }
   ],
   "source": [
    "alarms_df[alarms_df['CSN'] == Full_CSN]['Alarm'].iloc[0]"
   ]
  },
  {
   "cell_type": "code",
   "execution_count": 124,
   "id": "ba70df1c-4f8b-4d42-9900-269ef334f590",
   "metadata": {},
   "outputs": [
    {
     "name": "stdout",
     "output_type": "stream",
     "text": [
      "True\n",
      "False\n"
     ]
    }
   ],
   "source": [
    "ts = alarms_df[alarms_df['CSN'] == Full_CSN]['Alarm'].iloc[0]\n",
    "dt = datetime(2225, 3, 31, 12, 8, 57)\n",
    "\n",
    "print(ts == dt)   # True\n",
    "print(ts < dt) "
   ]
  },
  {
   "cell_type": "code",
   "execution_count": 116,
   "id": "a698ae15-025c-4122-ac78-e3adda5cd252",
   "metadata": {},
   "outputs": [
    {
     "data": {
      "text/plain": [
       "datetime.time(12, 16, 6, 764000)"
      ]
     },
     "execution_count": 116,
     "metadata": {},
     "output_type": "execute_result"
    }
   ],
   "source": [
    "current_time.time()"
   ]
  },
  {
   "cell_type": "code",
   "execution_count": 119,
   "id": "1f8be9de-3539-4c17-810e-def9de10bf5f",
   "metadata": {},
   "outputs": [
    {
     "data": {
      "text/plain": [
       "False"
      ]
     },
     "execution_count": 119,
     "metadata": {},
     "output_type": "execute_result"
    }
   ],
   "source": [
    "alarms_df[alarms_df['CSN'] == Full_CSN]['Alarm'].to_numpy()[0] == current_time.time()"
   ]
  },
  {
   "cell_type": "code",
   "execution_count": 349,
   "id": "f40ba383-36ad-41b6-8e0e-b036c8a862f0",
   "metadata": {},
   "outputs": [],
   "source": [
    "from datetime import datetime, timedelta\n",
    "\n",
    "def get_measurements(record, alarm_ts=None, cutoff_minutes=1, new_fs=40):\n",
    "    \"\"\"\n",
    "    new_fs: the downsampled number of samples taken per second (i.e. Hz)\n",
    "    \"\"\"\n",
    "    signal = record.p_signal[:, 0]  # 1D array of measurements \n",
    "    start_time = datetime.combine(record.base_date, record.base_time)\n",
    "\n",
    "    formatted = []\n",
    "\n",
    "    # Determine cutoff time in seconds since start\n",
    "    if alarm_ts is None:\n",
    "        end_time = start_time + timedelta(seconds=record.sig_len / record.fs)\n",
    "        cutoff_time = end_time - timedelta(minutes=cutoff_minutes)\n",
    "    else:\n",
    "        cutoff_time = alarm_ts - timedelta(minutes=cutoff_minutes)\n",
    "    total_duration = (cutoff_time - start_time).total_seconds()\n",
    "    max_idx = min(len(signal), int(total_duration * record.fs))\n",
    "\n",
    "    step_sz = int(record.fs // new_fs)\n",
    "\n",
    "    for i in range(0, max_idx, step_sz):\n",
    "        current_time = start_time + timedelta(seconds=i / record.fs)\n",
    "        # formatted.append(f\"{current_time.time()}, {signal[i]:.6f}\")\n",
    "        formatted.append(signal[i])\n",
    "    return np.array(formatted), start_time, cutoff_time, new_fs\n"
   ]
  },
  {
   "cell_type": "code",
   "execution_count": 350,
   "id": "04c15b07-7872-47ad-a6cc-e5ecea1c6772",
   "metadata": {},
   "outputs": [
    {
     "name": "stdout",
     "output_type": "stream",
     "text": [
      "[-0.024923    0.          0.12461499 -0.40624487 -0.24922998]\n",
      "19302\n",
      "Sanity check for last entry:  -0.05981519507186859\n"
     ]
    }
   ],
   "source": [
    "measurements, start_time, cutoff_time, new_fs = get_measurements(record1, alarm_ts)\n",
    "print(measurements[:5])\n",
    "print(len(measurements))\n",
    "print(\"Sanity check for last entry: \", measurements[-1])"
   ]
  },
  {
   "cell_type": "code",
   "execution_count": 344,
   "id": "8fd8e525-de45-4db1-bcbe-14de8bcb3119",
   "metadata": {},
   "outputs": [
    {
     "name": "stdout",
     "output_type": "stream",
     "text": [
      "[-0.024923   -0.0199384   0.61559805 -0.75516684 -0.30406057]\n",
      "44650\n",
      "Sanity check for last entry:  -0.22929158110882958\n"
     ]
    }
   ],
   "source": [
    "measurements, start_time, cutoff_time, new_fs = get_measurements(record1)\n",
    "print(measurements[:5])\n",
    "print(len(measurements))\n",
    "print(\"Sanity check for last entry: \", measurements[-1])"
   ]
  },
  {
   "cell_type": "code",
   "execution_count": 223,
   "id": "db1ac1ed-aefe-4913-ad0b-061708f3144e",
   "metadata": {},
   "outputs": [
    {
     "data": {
      "text/plain": [
       "(446498,)"
      ]
     },
     "execution_count": 223,
     "metadata": {},
     "output_type": "execute_result"
    }
   ],
   "source": [
    "measurements.shape"
   ]
  },
  {
   "cell_type": "code",
   "execution_count": 29,
   "id": "60521fe2-c959-40d1-99cd-fdc27adbd089",
   "metadata": {},
   "outputs": [
    {
     "data": {
      "image/png": "[encoded data removed]",
      "text/plain": [
       "<Figure size 640x480 with 1 Axes>"
      ]
     },
     "metadata": {},
     "output_type": "display_data"
    }
   ],
   "source": [
    "wfdb.plot_wfdb(record=record1)"
   ]
  },
  {
   "cell_type": "code",
   "execution_count": 30,
   "id": "af215de0-e9f7-483b-a2ff-af3dc25fa620",
   "metadata": {},
   "outputs": [
    {
     "name": "stdout",
     "output_type": "stream",
     "text": [
      "{'record_name': '99996003_2', 'n_sig': 1, 'fs': 500, 'counter_freq': None, 'base_counter': None, 'sig_len': 1636479, 'base_time': datetime.time(12, 16, 33, 72000), 'base_date': datetime.date(2225, 3, 31), 'comments': [], 'sig_name': ['II'], 'p_signal': array([[-0.13973566],\n",
      "       [-0.12085246],\n",
      "       [-0.0868627 ],\n",
      "       ...,\n",
      "       [ 0.33989754],\n",
      "       [ 0.22659836],\n",
      "       [ 0.17372541]]), 'd_signal': None, 'e_p_signal': None, 'e_d_signal': None, 'file_name': ['99996003_2.dat'], 'fmt': ['212'], 'samps_per_frame': [1], 'skew': [None], 'byte_offset': [None], 'adc_gain': [264.78567552902877], 'baseline': [393], 'units': ['mV'], 'adc_res': [12], 'adc_zero': [0], 'init_value': [356], 'checksum': [27762], 'block_size': [0]}\n"
     ]
    }
   ],
   "source": [
    "record2 = records[1]\n",
    "print(record2.__dict__)"
   ]
  },
  {
   "cell_type": "code",
   "execution_count": 79,
   "id": "a950ba6c-d50d-499e-9072-61f30791b893",
   "metadata": {},
   "outputs": [
    {
     "name": "stdout",
     "output_type": "stream",
     "text": [
      "Date: 2225-03-31\n",
      "Start time: 12:16:33.072000\n",
      "End time: 13:11:06.030000\n"
     ]
    }
   ],
   "source": [
    "get_start_end_times(record2)"
   ]
  },
  {
   "cell_type": "code",
   "execution_count": 32,
   "id": "748d3fb3-096c-49bc-a3b3-4416f32c789f",
   "metadata": {},
   "outputs": [
    {
     "data": {
      "image/png": "[encoded data removed]",
      "text/plain": [
       "<Figure size 640x480 with 1 Axes>"
      ]
     },
     "metadata": {},
     "output_type": "display_data"
    }
   ],
   "source": [
    "wfdb.plot_wfdb(record=record2)"
   ]
  },
  {
   "cell_type": "code",
   "execution_count": 73,
   "id": "d606c571-40b6-4404-8d1d-e22ac6db1a07",
   "metadata": {},
   "outputs": [
    {
     "data": {
      "text/html": [
       "<div>\n",
       "<style scoped>\n",
       "    .dataframe tbody tr th:only-of-type {\n",
       "        vertical-align: middle;\n",
       "    }\n",
       "\n",
       "    .dataframe tbody tr th {\n",
       "        vertical-align: top;\n",
       "    }\n",
       "\n",
       "    .dataframe thead th {\n",
       "        text-align: right;\n",
       "    }\n",
       "</style>\n",
       "<table border=\"1\" class=\"dataframe\">\n",
       "  <thead>\n",
       "    <tr style=\"text-align: right;\">\n",
       "      <th></th>\n",
       "      <th>CSN</th>\n",
       "      <th>Alarm</th>\n",
       "    </tr>\n",
       "  </thead>\n",
       "  <tbody>\n",
       "    <tr>\n",
       "      <th>440</th>\n",
       "      <td>99996003</td>\n",
       "      <td>2225-03-31 12:08:57</td>\n",
       "    </tr>\n",
       "  </tbody>\n",
       "</table>\n",
       "</div>"
      ],
      "text/plain": [
       "          CSN               Alarm\n",
       "440  99996003 2225-03-31 12:08:57"
      ]
     },
     "execution_count": 73,
     "metadata": {},
     "output_type": "execute_result"
    }
   ],
   "source": [
    "alarms_df[alarms_df['CSN'] == Full_CSN]"
   ]
  },
  {
   "cell_type": "code",
   "execution_count": 101,
   "id": "c49c5293-dcd9-49a3-889b-4d03db1cb43d",
   "metadata": {},
   "outputs": [
    {
     "data": {
      "text/plain": [
       "(425,)"
      ]
     },
     "execution_count": 101,
     "metadata": {},
     "output_type": "execute_result"
    }
   ],
   "source": [
    "alarms_df['CSN'].shape"
   ]
  },
  {
   "cell_type": "code",
   "execution_count": 100,
   "id": "55d5e77d-4a68-4ace-8bf7-d6df817db046",
   "metadata": {},
   "outputs": [
    {
     "data": {
      "text/plain": [
       "(425,)"
      ]
     },
     "execution_count": 100,
     "metadata": {},
     "output_type": "execute_result"
    }
   ],
   "source": [
    "alarms_df['CSN'].unique().shape"
   ]
  },
  {
   "cell_type": "code",
   "execution_count": 76,
   "id": "0227a7d9-b952-4821-8ac8-677eb7dc9116",
   "metadata": {},
   "outputs": [
    {
     "data": {
      "text/plain": [
       "440   2225-03-31 12:08:57\n",
       "Name: Alarm, dtype: datetime64[us]"
      ]
     },
     "execution_count": 76,
     "metadata": {},
     "output_type": "execute_result"
    }
   ],
   "source": [
    "alarms_df[alarms_df['CSN'] == Full_CSN]['Alarm']"
   ]
  },
  {
   "cell_type": "code",
   "execution_count": 86,
   "id": "db61e50c-1e70-451b-8dd8-7580d2f2edc9",
   "metadata": {},
   "outputs": [
    {
     "name": "stdout",
     "output_type": "stream",
     "text": [
      "Date: 2225-03-31\n",
      "Start time: 12:00:13.772000\n",
      "End time: 12:16:06.766000\n",
      "\n",
      "\n",
      "Date: 2225-03-31\n",
      "Start time: 12:16:33.072000\n",
      "End time: 13:11:06.030000\n",
      "\n",
      "\n",
      "Date: 2225-03-31\n",
      "Start time: 13:36:23.572000\n",
      "End time: 16:44:12.792000\n",
      "\n",
      "\n"
     ]
    }
   ],
   "source": [
    "for record in records:\n",
    "    get_start_end_times(record)\n",
    "    print(\"\\n\")"
   ]
  },
  {
   "cell_type": "markdown",
   "id": "2119bbcf-c0e4-4903-b0de-47cabb92df72",
   "metadata": {},
   "source": [
    "### cut off time up to 1 min before the alarm/ cardiac arrest"
   ]
  },
  {
   "cell_type": "code",
   "execution_count": 109,
   "id": "3ac43e6b-0f39-483b-ba55-178f37f8372b",
   "metadata": {},
   "outputs": [
    {
     "data": {
      "text/plain": [
       "{'record_name': '99996003_1',\n",
       " 'n_sig': 1,\n",
       " 'fs': 500,\n",
       " 'counter_freq': None,\n",
       " 'base_counter': None,\n",
       " 'sig_len': 476497,\n",
       " 'base_time': datetime.time(12, 0, 13, 772000),\n",
       " 'base_date': datetime.date(2225, 3, 31),\n",
       " 'comments': [],\n",
       " 'sig_name': ['II'],\n",
       " 'p_signal': array([[-0.024923  ],\n",
       "        [-0.0199384 ],\n",
       "        [-0.0099692 ],\n",
       "        ...,\n",
       "        [ 0.0348922 ],\n",
       "        [ 0.23427618],\n",
       "        [ 0.33396817]]),\n",
       " 'd_signal': None,\n",
       " 'e_p_signal': None,\n",
       " 'e_d_signal': None,\n",
       " 'file_name': ['99996003_1.dat'],\n",
       " 'fmt': ['212'],\n",
       " 'samps_per_frame': [1],\n",
       " 'skew': [None],\n",
       " 'byte_offset': [None],\n",
       " 'adc_gain': [401.23583934088566],\n",
       " 'baseline': [-99],\n",
       " 'units': ['mV'],\n",
       " 'adc_res': [12],\n",
       " 'adc_zero': [0],\n",
       " 'init_value': [-109],\n",
       " 'checksum': [17044],\n",
       " 'block_size': [0]}"
      ]
     },
     "execution_count": 109,
     "metadata": {},
     "output_type": "execute_result"
    }
   ],
   "source": [
    "record = records[0]\n",
    "\n",
    "record.__dict__"
   ]
  },
  {
   "cell_type": "code",
   "execution_count": 152,
   "id": "32de03c1-8b98-46fc-972c-5efcb2b4a490",
   "metadata": {},
   "outputs": [
    {
     "name": "stdout",
     "output_type": "stream",
     "text": [
      "['12:00:13.772000, -0.024923', '12:00:13.774000, -0.019938', '12:00:13.776000, -0.009969', '12:00:13.778000, -0.009969', '12:00:13.780000, -0.019938']\n",
      "Sanity check for last entry:  12:07:57, -0.044861\n"
     ]
    }
   ],
   "source": [
    "alarm_ts = alarms_df[alarms_df['CSN'] == Full_CSN]['Alarm'].iloc[0]\n",
    "measurements = get_measurements(record1, alarm_ts, cutoff_minutes = 1)\n",
    "print(measurements[:5])\n",
    "print(\"Sanity check for last entry: \", measurements[-1])"
   ]
  },
  {
   "cell_type": "code",
   "execution_count": null,
   "id": "5533c9a6-ba70-4a1d-a650-b496adfe9582",
   "metadata": {},
   "outputs": [],
   "source": [
    "# Each entry consists of a timestamp and the corresponding measurement value at that timestamp.\n"
   ]
  },
  {
   "cell_type": "code",
   "execution_count": 292,
   "id": "dfe507bc-8082-4e48-bd26-4af2de6b0bfb",
   "metadata": {},
   "outputs": [],
   "source": [
    "def get_measurements(record, alarm_ts=None, cutoff_minutes=1, new_fs=50):\n",
    "    \"\"\"\n",
    "    new_fs: the downsampled number of samples taken per second (i.e. Hz)\n",
    "    \"\"\"\n",
    "    signal = record.p_signal[:, 0]  # 1D array of measurements \n",
    "    start_time = datetime.combine(record.base_date, record.base_time)\n",
    "\n",
    "    formatted = []\n",
    "\n",
    "    # Determine cutoff time in seconds since start\n",
    "    if alarm_ts is None:\n",
    "        end_time = start_time + timedelta(seconds=record.sig_len / record.fs)\n",
    "        cutoff_time = end_time - timedelta(minutes=cutoff_minutes)\n",
    "    else:\n",
    "        cutoff_time = alarm_ts - timedelta(minutes=cutoff_minutes)\n",
    "    total_duration = (cutoff_time - start_time).total_seconds()\n",
    "    max_idx = min(len(signal), int(total_duration * record.fs))\n",
    "\n",
    "    step_sz = int(record.fs // new_fs)\n",
    "\n",
    "    for i in range(0, max_idx, step_sz):\n",
    "        current_time = start_time + timedelta(seconds=i / record.fs)\n",
    "        # formatted.append(f\"{current_time.time()}, {signal[i]:.6f}\")\n",
    "        formatted.append(signal[i])\n",
    "    return np.array(formatted), start_time, cutoff_time, new_fs\n"
   ]
  },
  {
   "cell_type": "code",
   "execution_count": null,
   "id": "369f2472-78ba-4ccc-bce6-226fc50b5cdd",
   "metadata": {},
   "outputs": [],
   "source": []
  }
 ],
 "metadata": {
  "kernelspec": {
   "display_name": "Python 3 (ipykernel)",
   "language": "python",
   "name": "python3"
  },
  "language_info": {
   "codemirror_mode": {
    "name": "ipython",
    "version": 3
   },
   "file_extension": ".py",
   "mimetype": "text/x-python",
   "name": "python",
   "nbconvert_exporter": "python",
   "pygments_lexer": "ipython3",
   "version": "3.10.16"
  }
 },
 "nbformat": 4,
 "nbformat_minor": 5
}
