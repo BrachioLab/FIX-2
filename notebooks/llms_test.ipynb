{
 "cells": [
  {
   "cell_type": "code",
   "execution_count": 1,
   "id": "00db09cd-2dfc-4a0b-b31a-14869755e917",
   "metadata": {},
   "outputs": [
    {
     "name": "stderr",
     "output_type": "stream",
     "text": [
      "/home/antonxue/lib/miniconda3/envs/tfl/lib/python3.10/site-packages/torchvision/io/image.py:13: UserWarning: Failed to load image Python extension: '/home/antonxue/lib/miniconda3/envs/tfl/lib/python3.10/site-packages/torchvision/image.so: undefined symbol: _ZN5torch3jit17parseSchemaOrNameERKNSt7__cxx1112basic_stringIcSt11char_traitsIcESaIcEEE'If you don't plan on using image functionality from `torchvision.io`, you can ignore this warning. Otherwise, there might be something wrong with your environment. Did you have `libjpeg` or `libpng` installed before building `torchvision` from source?\n",
      "  warn(\n",
      "/home/antonxue/lib/miniconda3/envs/tfl/lib/python3.10/site-packages/pandas/core/arrays/masked.py:60: UserWarning: Pandas requires version '1.3.6' or newer of 'bottleneck' (version '1.3.5' currently installed).\n",
      "  from pandas.core import (\n"
     ]
    }
   ],
   "source": [
    "import os\n",
    "import matplotlib.pyplot as plt\n",
    "import sys; sys.path.append(\"../src\")\n",
    "from cholec import CholecDataset\n",
    "from google import genai\n",
    "from google.genai import types\n",
    "from llms import MyOpenAIModel, MyAnthropicModel, MyGoogleModel, get_cache_key"
   ]
  },
  {
   "cell_type": "code",
   "execution_count": 2,
   "id": "b1e7e06f-22ab-4f3e-aa75-e184f941bbd5",
   "metadata": {},
   "outputs": [
    {
     "name": "stderr",
     "output_type": "stream",
     "text": [
      "/home/antonxue/lib/miniconda3/envs/tfl/lib/python3.10/site-packages/torchvision/transforms/functional.py:1603: UserWarning: The default value of the antialias parameter of all the resizing transforms (Resize(), RandomResizedCrop(), etc.) will change from None to True in v0.17, in order to be consistent across the PIL and Tensor backends. To suppress this warning, directly pass antialias=True (recommended, future default), antialias=None (current default, which means False for Tensors and True for PIL), or antialias=False (only works on Tensors - PIL will still use antialiasing). This also applies if you are using the inference transforms from the models weights: update the call to weights.transforms(antialias=True).\n",
      "  warnings.warn(\n"
     ]
    }
   ],
   "source": [
    "dataset = CholecDataset(split=\"test\", image_size=(90, 160))\n",
    "item = dataset[0]\n",
    "image = item[\"image\"]"
   ]
  },
  {
   "cell_type": "code",
   "execution_count": null,
   "id": "ec757aaf-8763-422e-b8a0-e6ee5528a01f",
   "metadata": {},
   "outputs": [],
   "source": []
  },
  {
   "cell_type": "code",
   "execution_count": 3,
   "id": "73e358eb-23fb-48e1-ae95-27d42322a54d",
   "metadata": {},
   "outputs": [],
   "source": [
    "gpt4o = MyOpenAIModel(\"gpt-4o\", verbose=True)\n",
    "gpto1 = MyOpenAIModel(\"o1\", verbose=True)\n",
    "claude = MyAnthropicModel(model_name=\"claude-3-5-sonnet-latest\", verbose=True)\n",
    "gemini = MyGoogleModel(model_name=\"gemini-2.5-pro-exp-03-25\", verbose=True)"
   ]
  },
  {
   "cell_type": "code",
   "execution_count": 4,
   "id": "84af3fde-90e1-4934-8525-abdd694f367f",
   "metadata": {},
   "outputs": [],
   "source": [
    "prompt1 = \"What's today's date?\"\n",
    "prompt2 = [\"What color is water, in one sentence?\", (\"What's good\", \"today?\")]\n",
    "prompt3 = (\"What's in this image, in one sentence?\", image)\n",
    "prompt4 = [\"1+1=\", (\"Describe the following image in one sentence:\", image)]"
   ]
  },
  {
   "cell_type": "code",
   "execution_count": 5,
   "id": "48161cad-f702-44b3-84ec-a8d6b0667fec",
   "metadata": {},
   "outputs": [
    {
     "name": "stdout",
     "output_type": "stream",
     "text": [
      "I'm unable to provide real-time information, including today's date. You may want to check your device or calendar for the current date.\n",
      "['Water is typically colorless, but it can appear blue due to the absorption and scattering of light.', \"If you're looking for something good today, here are a few suggestions:\\n\\n1. **Nature**: Spend some time outdoors if you can. A walk in the park or a hike could be refreshing.\\n\\n2. **Food**: Treat yourself to a nice meal or try cooking a new recipe.\\n\\n3. **Entertainment**: Watch a movie or start a new series you've been curious about.\\n\\n4. **Hobbies**: Engage in a hobby you enjoy or pick up a new one.\\n\\n5. **Reading**: Dive into a good book or catch up on articles and news that interests you.\\n\\n6. **Socialize**: Connect with friends or family, either in person or virtually.\\n\\n7. **Relaxation**: Take some time for yourself to relax and unwind, perhaps through meditation or a spa day at home.\\n\\nWhatever you choose to do, make sure it’s something that brings you joy and relaxation.\"]\n",
      "The image shows a close-up view of a surgical procedure being performed inside a body, possibly involving laparoscopy.\n",
      "['1 + 1 = 2', 'The image shows a laparoscopic surgical procedure being performed inside a body cavity.']\n"
     ]
    }
   ],
   "source": [
    "print(gpt4o(prompt1))\n",
    "print(gpt4o(prompt2))\n",
    "print(gpt4o(prompt3))\n",
    "print(gpt4o(prompt4))"
   ]
  },
  {
   "cell_type": "code",
   "execution_count": 6,
   "id": "530de3bf-3609-470d-8599-94f5f599d4c2",
   "metadata": {},
   "outputs": [
    {
     "name": "stdout",
     "output_type": "stream",
     "text": [
      "I'm unable to provide real-time information, including today's date. You may want to check your device or calendar for the current date.\n",
      "['Water is typically colorless, but it can appear blue due to the absorption and scattering of light.', \"If you're looking for something good today, here are a few suggestions:\\n\\n1. **Nature**: Spend some time outdoors if you can. A walk in the park or a hike could be refreshing.\\n\\n2. **Food**: Treat yourself to a nice meal or try cooking a new recipe.\\n\\n3. **Entertainment**: Watch a movie or start a new series you've been curious about.\\n\\n4. **Hobbies**: Engage in a hobby you enjoy or pick up a new one.\\n\\n5. **Reading**: Dive into a good book or catch up on articles and news that interests you.\\n\\n6. **Socialize**: Connect with friends or family, either in person or virtually.\\n\\n7. **Relaxation**: Take some time for yourself to relax and unwind, perhaps through meditation or a spa day at home.\\n\\nWhatever you choose to do, make sure it’s something that brings you joy and relaxation.\"]\n",
      "The image shows a close-up view of a surgical procedure being performed inside a body, possibly involving laparoscopy.\n",
      "['1 + 1 = 2', 'The image shows a laparoscopic surgical procedure being performed inside a body cavity.']\n"
     ]
    }
   ],
   "source": [
    "print(gpto1(prompt1))\n",
    "print(gpto1(prompt2))\n",
    "print(gpto1(prompt3))\n",
    "print(gpto1(prompt4))"
   ]
  },
  {
   "cell_type": "code",
   "execution_count": 7,
   "id": "2bb49393-f4b8-4090-80b0-4f042c3e2063",
   "metadata": {},
   "outputs": [
    {
     "name": "stdout",
     "output_type": "stream",
     "text": [
      "I'm unable to provide real-time information, including today's date. You may want to check your device or calendar for the current date.\n",
      "['Water is typically colorless, but it can appear blue due to the absorption and scattering of light.', \"If you're looking for something good today, here are a few suggestions:\\n\\n1. **Nature**: Spend some time outdoors if you can. A walk in the park or a hike could be refreshing.\\n\\n2. **Food**: Treat yourself to a nice meal or try cooking a new recipe.\\n\\n3. **Entertainment**: Watch a movie or start a new series you've been curious about.\\n\\n4. **Hobbies**: Engage in a hobby you enjoy or pick up a new one.\\n\\n5. **Reading**: Dive into a good book or catch up on articles and news that interests you.\\n\\n6. **Socialize**: Connect with friends or family, either in person or virtually.\\n\\n7. **Relaxation**: Take some time for yourself to relax and unwind, perhaps through meditation or a spa day at home.\\n\\nWhatever you choose to do, make sure it’s something that brings you joy and relaxation.\"]\n",
      "The image shows a close-up view of a surgical procedure being performed inside a body, possibly involving laparoscopy.\n",
      "['1 + 1 = 2', 'The image shows a laparoscopic surgical procedure being performed inside a body cavity.']\n"
     ]
    }
   ],
   "source": [
    "print(claude(prompt1))\n",
    "print(claude(prompt2))\n",
    "print(claude(prompt3))\n",
    "print(claude(prompt4))"
   ]
  },
  {
   "cell_type": "code",
   "execution_count": 8,
   "id": "c6e153ec-f551-4e9d-9bce-1c327bd9078f",
   "metadata": {},
   "outputs": [
    {
     "name": "stdout",
     "output_type": "stream",
     "text": [
      "I'm unable to provide real-time information, including today's date. You may want to check your device or calendar for the current date.\n",
      "['Water is typically colorless, but it can appear blue due to the absorption and scattering of light.', \"If you're looking for something good today, here are a few suggestions:\\n\\n1. **Nature**: Spend some time outdoors if you can. A walk in the park or a hike could be refreshing.\\n\\n2. **Food**: Treat yourself to a nice meal or try cooking a new recipe.\\n\\n3. **Entertainment**: Watch a movie or start a new series you've been curious about.\\n\\n4. **Hobbies**: Engage in a hobby you enjoy or pick up a new one.\\n\\n5. **Reading**: Dive into a good book or catch up on articles and news that interests you.\\n\\n6. **Socialize**: Connect with friends or family, either in person or virtually.\\n\\n7. **Relaxation**: Take some time for yourself to relax and unwind, perhaps through meditation or a spa day at home.\\n\\nWhatever you choose to do, make sure it’s something that brings you joy and relaxation.\"]\n",
      "The image shows a close-up view of a surgical procedure being performed inside a body, possibly involving laparoscopy.\n",
      "['1 + 1 = 2', 'The image shows a laparoscopic surgical procedure being performed inside a body cavity.']\n"
     ]
    }
   ],
   "source": [
    "print(gemini(prompt1))\n",
    "print(gemini(prompt2))\n",
    "print(gemini(prompt3))\n",
    "print(gemini(prompt4))"
   ]
  },
  {
   "cell_type": "code",
   "execution_count": null,
   "id": "fe079839-c40e-4dd6-a417-b2cd1114f0bc",
   "metadata": {},
   "outputs": [],
   "source": []
  },
  {
   "cell_type": "code",
   "execution_count": null,
   "id": "363e999d-1586-41fc-a796-e698bf88bec2",
   "metadata": {},
   "outputs": [],
   "source": []
  }
 ],
 "metadata": {
  "kernelspec": {
   "display_name": "Python 3 (ipykernel)",
   "language": "python",
   "name": "python3"
  },
  "language_info": {
   "codemirror_mode": {
    "name": "ipython",
    "version": 3
   },
   "file_extension": ".py",
   "mimetype": "text/x-python",
   "name": "python",
   "nbconvert_exporter": "python",
   "pygments_lexer": "ipython3",
   "version": "3.10.13"
  }
 },
 "nbformat": 4,
 "nbformat_minor": 5
}
