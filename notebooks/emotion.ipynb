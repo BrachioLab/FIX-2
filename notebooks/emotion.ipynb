{
 "cells": [
  {
   "cell_type": "code",
   "execution_count": null,
   "id": "e000caa4-0301-402f-916e-86f9a1fec6cf",
   "metadata": {
    "tags": []
   },
   "outputs": [],
   "source": [
    "import pandas as pd\n",
    "import numpy as np\n",
    "from datasets import load_dataset\n",
    "import openai\n",
    "from openai import OpenAI\n",
    "import time\n",
    "from tqdm import tqdm\n",
    "\n",
    "import importlib\n",
    "import sys; sys.path.append(\"../src\")\n",
    "import emotion\n",
    "importlib.reload(emotion)\n",
    "from emotion import EmotionExample, get_llm_generated_answer, isolate_individual_features, distill_relevant_features, calculate_expert_alignment_score, load_emotion_data, run_pipeline"
   ]
  },
  {
   "cell_type": "markdown",
   "id": "e699b4b7-7179-415c-b94c-63705eb27214",
   "metadata": {},
   "source": [
    "### Load Emotion Data"
   ]
  },
  {
   "cell_type": "code",
   "execution_count": null,
   "id": "6604f849-5d96-4f2d-bf97-7edabe0163ea",
   "metadata": {
    "tags": []
   },
   "outputs": [],
   "source": [
    "emotion_data =  load_dataset(\"BrachioLab/emotion\")\n",
    "emotion_data = emotion_data['train'].to_pandas()\n",
    "emotion_data = emotion_data.sample(3, random_state=11).reset_index(drop=True)\n",
    "\n",
    "emotion_labels = {\n",
    "    0: \"admiration\",\n",
    "    1: \"amusement\",\n",
    "    2: \"anger\",\n",
    "    3: \"annoyance\",\n",
    "    4: \"approval\",\n",
    "    5: \"caring\",\n",
    "    6: \"confusion\",\n",
    "    7: \"curiosity\",\n",
    "    8: \"desire\",\n",
    "    9: \"disappointment\",\n",
    "    10: \"disapproval\",\n",
    "    11: \"disgust\",\n",
    "    12: \"embarrassment\",\n",
    "    13: \"excitement\",\n",
    "    14: \"fear\",\n",
    "    15: \"gratitude\",\n",
    "    16: \"grief\",\n",
    "    17: \"joy\",\n",
    "    18: \"love\",\n",
    "    19: \"nervousness\",\n",
    "    20: \"optimism\",\n",
    "    21: \"pride\",\n",
    "    22: \"realization\",\n",
    "    23: \"relief\",\n",
    "    24: \"remorse\",\n",
    "    25: \"sadness\",\n",
    "    26: \"surprise\",\n",
    "    27: \"neutral\"\n",
    "}\n"
   ]
  },
  {
   "cell_type": "markdown",
   "id": "9c9d8e72-555a-4704-b64a-e4ee3e33f1db",
   "metadata": {},
   "source": [
    "### Stage 0: Get LLM Explanations\n"
   ]
  },
  {
   "cell_type": "code",
   "execution_count": null,
   "id": "3029a222-7398-4eeb-b31c-0d3724b15796",
   "metadata": {
    "tags": []
   },
   "outputs": [],
   "source": [
    "emotion_examples = []\n",
    "for idx,row in tqdm(emotion_data.iterrows()):\n",
    "    llm_label, explanation = get_llm_generated_answer(row['text'])\n",
    "    if llm_label is None:\n",
    "        continue\n",
    "    emotion_examples.append(EmotionExample(\n",
    "        text=row['text'],\n",
    "        ground_truth=emotion_labels[row['labels'][0]],\n",
    "        llm_label=llm_label,\n",
    "        llm_explanation=explanation\n",
    "    ))"
   ]
  },
  {
   "cell_type": "code",
   "execution_count": null,
   "id": "e8f333bf-5eb5-4b83-8224-b0c5f1dd7a7f",
   "metadata": {},
   "outputs": [],
   "source": [
    "[emotion_examples[i].llm_label for i in range(len(emotion_examples))]"
   ]
  },
  {
   "cell_type": "code",
   "execution_count": null,
   "id": "9463a05e-9561-4bde-9ef6-939bd73b4546",
   "metadata": {
    "tags": []
   },
   "outputs": [],
   "source": [
    "emotion_examples[0].llm_explanation"
   ]
  },
  {
   "cell_type": "markdown",
   "id": "a34cd288-4c9b-4156-b0ac-e0d4e03d6a83",
   "metadata": {},
   "source": [
    "### Stage 1: Atomic claim extraction"
   ]
  },
  {
   "cell_type": "code",
   "execution_count": null,
   "id": "37fb897d-892a-428f-bc34-f06ad30f60c7",
   "metadata": {
    "tags": []
   },
   "outputs": [],
   "source": [
    "for example in emotion_examples:\n",
    "    claims = isolate_individual_features(example.llm_explanation)\n",
    "    if claims is None:\n",
    "        continue\n",
    "    example.claims = [claim.strip() for claim in claims]"
   ]
  },
  {
   "cell_type": "code",
   "execution_count": null,
   "id": "d6d39203-b482-4673-87e0-f01463281c32",
   "metadata": {
    "tags": []
   },
   "outputs": [],
   "source": [
    "emotion_examples[0].claims"
   ]
  },
  {
   "cell_type": "markdown",
   "id": "b86e93a9-6ecb-4298-8e6f-f1eeecdfbdfa",
   "metadata": {},
   "source": [
    "### Stage 2: Distill relevant claims"
   ]
  },
  {
   "cell_type": "code",
   "execution_count": null,
   "id": "55d52a4d-327f-4e41-a29c-9277e4b45b95",
   "metadata": {
    "tags": []
   },
   "outputs": [],
   "source": [
    "for example in emotion_examples:\n",
    "    relevant_claims = distill_relevant_features(example)\n",
    "    example.relevant_claims = relevant_claims"
   ]
  },
  {
   "cell_type": "code",
   "execution_count": null,
   "id": "268de10f-360a-457f-9aec-df58f2b0968e",
   "metadata": {
    "tags": []
   },
   "outputs": [],
   "source": [
    "emotion_examples[0].relevant_claims"
   ]
  },
  {
   "cell_type": "markdown",
   "id": "18500f1d-39d7-44e1-ba49-7c42b19733b9",
   "metadata": {},
   "source": [
    "### Stage 3: Calculate alignment scores\n"
   ]
  },
  {
   "cell_type": "code",
   "execution_count": null,
   "id": "e1280e3d-ee39-4a0f-8eaa-fca9fe409087",
   "metadata": {
    "tags": []
   },
   "outputs": [],
   "source": [
    "for example in emotion_examples:\n",
    "    alignment_scores = []\n",
    "    alignment_categories = []\n",
    "    reasonings = []\n",
    "    for claim in tqdm(example.relevant_claims):\n",
    "        category, alignment_score, reasoning = calculate_expert_alignment_score(claim)\n",
    "        if category is None:\n",
    "            continue\n",
    "        alignment_scores.append(alignment_score)\n",
    "        alignment_categories.append(category)\n",
    "    example.alignment_scores = alignment_scores\n",
    "    example.alignment_categories = alignment_categories\n",
    "    example.final_alignment = np.mean(alignment_scores)"
   ]
  },
  {
   "cell_type": "code",
   "execution_count": null,
   "id": "d9d50078-cf85-4773-ae88-a9eb853f49df",
   "metadata": {
    "tags": []
   },
   "outputs": [],
   "source": [
    "emotion_examples[0].alignment_scores"
   ]
  },
  {
   "cell_type": "code",
   "execution_count": null,
   "id": "386136c3",
   "metadata": {},
   "outputs": [],
   "source": [
    "emotion_examples[0].alignment_categories"
   ]
  }
 ],
 "metadata": {
  "kernelspec": {
   "display_name": "base",
   "language": "python",
   "name": "python3"
  },
  "language_info": {
   "codemirror_mode": {
    "name": "ipython",
    "version": 3
   },
   "file_extension": ".py",
   "mimetype": "text/x-python",
   "name": "python",
   "nbconvert_exporter": "python",
   "pygments_lexer": "ipython3",
   "version": "3.11.4"
  }
 },
 "nbformat": 4,
 "nbformat_minor": 5
}
