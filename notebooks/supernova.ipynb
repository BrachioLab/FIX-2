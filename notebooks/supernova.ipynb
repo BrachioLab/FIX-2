{
 "cells": [
  {
   "cell_type": "code",
   "execution_count": 1,
   "id": "77da3d13-370e-4923-ad38-45e386ecb42a",
   "metadata": {
    "tags": []
   },
   "outputs": [],
   "source": [
    "import sys\n",
    "import os\n",
    "\n",
    "exlib_path = \"/shared_data0/chaenyk/exlib\"\n",
    "src_path = os.path.join(exlib_path, \"src\")\n",
    "sys.path.insert(0, src_path)\n",
    "import pyarrow as pa\n",
    "import pyarrow_hotfix\n",
    "import torch\n",
    "import yaml\n",
    "import argparse\n",
    "import torch\n",
    "import torch.nn as nn\n",
    "import numpy as np\n",
    "import matplotlib.pyplot as plt\n",
    "from datasets import load_dataset\n",
    "from collections import namedtuple\n",
    "import matplotlib.pyplot as plt\n",
    "\n",
    "import exlib\n",
    "from exlib.datasets.pretrain import setup_model_config, get_dataset, get_dataset, setup_model_config\n",
    "from exlib.datasets.dataset_preprocess_raw import create_train_dataloader_raw, create_test_dataloader_raw, create_test_dataloader, plot_data_by_wavelength\n",
    "from exlib.datasets.informer_models import InformerConfig, InformerForSequenceClassification\n",
    "from tqdm.auto import tqdm\n",
    "pa.PyExtensionType.set_auto_load(True)\n",
    "pyarrow_hotfix.uninstall()\n",
    "device = torch.device(\"cuda\") if torch.cuda.is_available() else torch.device(\"cpu\")\n",
    "\n",
    "from supernova import Timeseries, get_llm_generated_answer, isolate_individual_features, is_claim_relevant, distill_relevant_features, calculate_expert_alignment_score"
   ]
  },
  {
   "cell_type": "code",
   "execution_count": 2,
   "id": "228d3d39-00ad-4178-9057-5988be793af5",
   "metadata": {},
   "outputs": [],
   "source": [
    "import pandas as pd\n",
    "import numpy as np\n",
    "from datasets import load_dataset\n",
    "import openai\n",
    "from openai import OpenAI\n",
    "import time\n",
    "from tqdm import tqdm\n",
    "\n",
    "from diskcache import Cache\n",
    "cache = Cache(\"/shared_data0/llm_cachedir\")"
   ]
  },
  {
   "cell_type": "code",
   "execution_count": 3,
   "id": "4d93fa6f-6bcc-49b3-9f38-7227bb3bc710",
   "metadata": {},
   "outputs": [],
   "source": [
    "import openai\n",
    "from openai import OpenAI\n",
    "\n",
    "with open(\"openai_key.txt\", \"r\") as f:\n",
    "    api_key = f.read().strip()\n",
    "\n",
    "client = OpenAI(api_key=api_key)"
   ]
  },
  {
   "cell_type": "markdown",
   "id": "734df5cc-e41d-4960-abd8-157dd1928114",
   "metadata": {},
   "source": [
    "### Dataset"
   ]
  },
  {
   "cell_type": "code",
   "execution_count": 4,
   "id": "19f776b1-b426-49fa-a757-7dbb0154e5da",
   "metadata": {
    "tags": []
   },
   "outputs": [],
   "source": [
    "# load dataset\n",
    "dataset = load_dataset(\"BrachioLab/supernova-timeseries\")\n",
    "train_dataset = dataset['train']\n",
    "validation_dataset = dataset['validation']\n",
    "test_dataset = dataset['test']"
   ]
  },
  {
   "cell_type": "code",
   "execution_count": 5,
   "id": "22d050b6-7ee6-41f6-afde-540b0f4ed993",
   "metadata": {},
   "outputs": [
    {
     "data": {
      "text/plain": [
       "Dataset({\n",
       "    features: ['objid', 'times_wv', 'target', 'label', 'redshift'],\n",
       "    num_rows: 792\n",
       "})"
      ]
     },
     "execution_count": 5,
     "metadata": {},
     "output_type": "execute_result"
    }
   ],
   "source": [
    "test_dataset"
   ]
  },
  {
   "cell_type": "markdown",
   "id": "5a640b89-0e66-4d3d-8aa1-779149fee59a",
   "metadata": {},
   "source": [
    "### Dataset Samples"
   ]
  },
  {
   "cell_type": "code",
   "execution_count": 6,
   "id": "b7df0cab-9f02-4bb8-b3fd-2528e3b0ab8e",
   "metadata": {},
   "outputs": [
    {
     "name": "stdout",
     "output_type": "stream",
     "text": [
      "original dataset size: 792\n",
      "remove nans dataset size: 792\n"
     ]
    }
   ],
   "source": [
    "config = InformerConfig.from_pretrained(\"BrachioLab/supernova-classification\")\n",
    "test_dataloader = create_test_dataloader_raw(\n",
    "    config=config,\n",
    "    dataset=test_dataset,\n",
    "    batch_size=25,\n",
    "    compute_loss=True\n",
    ")"
   ]
  },
  {
   "cell_type": "code",
   "execution_count": 7,
   "id": "4a081544-cc8f-4132-9958-7fe40fd8cd8a",
   "metadata": {},
   "outputs": [
    {
     "name": "stdout",
     "output_type": "stream",
     "text": [
      "Found 14 unique labels: [0, 1, 2, 3, 4, 5, 6, 7, 8, 9, 10, 11, 12, 13]\n"
     ]
    }
   ],
   "source": [
    "def find_unique_labels(dataloader):\n",
    "    all_labels = set()\n",
    "    for batch in dataloader:\n",
    "        batch_labels = batch['labels'].unique().tolist()\n",
    "        all_labels.update(batch_labels)\n",
    "    return sorted(all_labels)\n",
    "\n",
    "unique_labels = find_unique_labels(test_dataloader)\n",
    "print(f\"Found {len(unique_labels)} unique labels: {unique_labels}\")"
   ]
  },
  {
   "cell_type": "code",
   "execution_count": 8,
   "id": "784f9077-d8f5-464c-839c-4ded70bb0deb",
   "metadata": {},
   "outputs": [],
   "source": [
    "def find_label_in_dataloader(dataloader, target_label=11):\n",
    "    for batch in dataloader:\n",
    "        indices = (batch['labels'] == target_label).nonzero(as_tuple=True)[0]\n",
    "        \n",
    "        if len(indices) > 0:\n",
    "            label_values_time = batch['past_time_features'][indices, :, :]\n",
    "            label_values = batch['past_values'][indices, :, :]\n",
    "            return label_values_time, label_values\n",
    "    \n",
    "    return None, None"
   ]
  },
  {
   "cell_type": "code",
   "execution_count": 9,
   "id": "09bd8dea-a33a-42e1-a2d9-bac5b7a1c2f3",
   "metadata": {
    "scrolled": true
   },
   "outputs": [
    {
     "name": "stdout",
     "output_type": "stream",
     "text": [
      "Extracted data for label 0, found 13 instances\n",
      "Extracted data for label 1, found 7 instances\n",
      "Extracted data for label 2, found 13 instances\n",
      "Extracted data for label 3, found 14 instances\n",
      "Extracted data for label 4, found 7 instances\n",
      "Extracted data for label 5, found 3 instances\n",
      "Extracted data for label 6, found 6 instances\n",
      "Extracted data for label 7, found 11 instances\n",
      "Extracted data for label 8, found 12 instances\n",
      "Extracted data for label 9, found 20 instances\n",
      "Extracted data for label 10, found 1 instances\n",
      "Extracted data for label 11, found 19 instances\n",
      "Extracted data for label 12, found 24 instances\n",
      "Extracted data for label 13, found 18 instances\n"
     ]
    }
   ],
   "source": [
    "label_data = {}\n",
    "for label in unique_labels:\n",
    "    label_past_time, label_past_values = find_label_in_dataloader(test_dataloader, target_label=label)\n",
    "    \n",
    "    if label_past_time is not None and label_past_values is not None:\n",
    "        label_data[label] = {\n",
    "            'past_time': label_past_time,\n",
    "            'past_values': label_past_values\n",
    "        }\n",
    "        print(f\"Extracted data for label {label}, found {label_past_time.shape[0]} instances\")\n",
    "    else:\n",
    "        print(f\"No instances found for label {label}\")"
   ]
  },
  {
   "cell_type": "code",
   "execution_count": 21,
   "id": "680f3f2b-75b2-4cfb-bb87-6f4fadf432a9",
   "metadata": {},
   "outputs": [],
   "source": [
    "# SNIa class 11\n",
    "cls = 11\n",
    "n = 0\n",
    "time_data = label_data[cls]['past_time'][n,:,0]\n",
    "wv_data = label_data[cls]['past_time'][n,:,1]\n",
    "value_data = label_data[cls]['past_values'][n,:,0]\n",
    "error_data = label_data[cls]['past_values'][n,:,1]"
   ]
  },
  {
   "cell_type": "code",
   "execution_count": 22,
   "id": "b0ea80aa-0d0c-4bce-9a0f-6a7f8ab9150b",
   "metadata": {},
   "outputs": [
    {
     "data": {
      "image/png": "[encoded data removed]",
      "text/plain": [
       "<Figure size 300x300 with 1 Axes>"
      ]
     },
     "metadata": {},
     "output_type": "display_data"
    }
   ],
   "source": [
    "plot_data_by_wavelength(time_data, value_data, error_data, wv_data, 'Flux vs. Time with Error Bars by Wavelength')"
   ]
  },
  {
   "cell_type": "code",
   "execution_count": 23,
   "id": "bac5eb86-59ba-4ddb-9458-2adf3a9131bf",
   "metadata": {},
   "outputs": [
    {
     "name": "stdout",
     "output_type": "stream",
     "text": [
      "Class: Type Ia Supernova (SNIa)\n",
      "\n",
      "Explanation: The data provided closely matches the characteristics of a Type Ia Supernova (SNIa). This classification is supported by several key features observed in the data. Firstly, the time series data shows a consistent pattern of observations across multiple wavelengths, which is typical for SNIa events that are well-studied and have a predictable light curve. The wavelength data includes a range of values that are commonly used in supernova observations, such as 4826.85, 7545.98, and 9710.28, which are often associated with the spectral features of SNIa. Additionally, the value data shows significant variability, with both positive and negative values, indicating the presence of a strong peak and subsequent decline, a hallmark of SNIa light curves. The presence of high values in the later stages of the time series suggests the characteristic brightness of SNIa, which is used as a standard candle in cosmology. These features collectively point towards the classification of the data as a Type Ia Supernova.\n"
     ]
    }
   ],
   "source": [
    "### Extract Explanation\n",
    "example = Timeseries(time=time_data, wv=wv_data, value=value_data)\n",
    "analysis_result = get_llm_generated_answer(example=example)\n",
    "print(analysis_result)"
   ]
  },
  {
   "cell_type": "code",
   "execution_count": 24,
   "id": "b028662f-dc02-43b3-baf8-7df917b9ce94",
   "metadata": {},
   "outputs": [
    {
     "name": "stdout",
     "output_type": "stream",
     "text": [
      "Extracted atomic claims:\n",
      "1. The data provided closely matches the characteristics of a Type Ia Supernova (SNIa).\n",
      "2. The classification as SNIa is supported by several key features observed in the data.\n",
      "3. The time series data shows a consistent pattern of observations across multiple wavelengths.\n",
      "4. SNIa events are well-studied and have a predictable light curve.\n",
      "5. The wavelength data includes values such as 4826.85, 7545.98, and 9710.28.\n",
      "6. These wavelength values are commonly used in supernova observations and are associated with the spectral features of SNIa.\n",
      "7. The value data shows significant variability with both positive and negative values.\n",
      "8. The variability indicates the presence of a strong peak and subsequent decline, a hallmark of SNIa light curves.\n",
      "9. High values in the later stages of the time series suggest the characteristic brightness of SNIa.\n",
      "10. SNIa brightness is used as a standard candle in cosmology.\n",
      "11. The features collectively point towards the classification of the data as a Type Ia Supernova.\n"
     ]
    }
   ],
   "source": [
    "### Make it to atomic claims\n",
    "raw_atomic_claims = isolate_individual_features(analysis_result)\n",
    "\n",
    "print(\"Extracted atomic claims:\")\n",
    "for i, claim in enumerate(raw_atomic_claims, 1):\n",
    "    print(f\"{i}. {claim}\")"
   ]
  },
  {
   "cell_type": "code",
   "execution_count": 25,
   "id": "076b650e-6333-4262-9b03-d31e4b20ab6c",
   "metadata": {},
   "outputs": [
    {
     "data": {
      "text/plain": [
       "[False, False, False, False, False, False, False, True, True, False, False]"
      ]
     },
     "execution_count": 25,
     "metadata": {},
     "output_type": "execute_result"
    }
   ],
   "source": [
    "### Relevant claims\n",
    "example = Timeseries(time=time_data, wv=wv_data, value=value_data)\n",
    "answer = 'Type Ia supernovae (SNIa)'\n",
    "claim_relevances = [is_claim_relevant(example, answer, raw_atomic_claim, 0.8) \\\n",
    "    for raw_atomic_claim in raw_atomic_claims]\n",
    "claim_relevances"
   ]
  },
  {
   "cell_type": "code",
   "execution_count": 27,
   "id": "373ba480-4fc5-49ea-9f17-eccf2cc41083",
   "metadata": {},
   "outputs": [
    {
     "name": "stdout",
     "output_type": "stream",
     "text": [
      "Distilled relevant claims:\n",
      "1. The variability indicates the presence of a strong peak and subsequent decline, a hallmark of SNIa light curves.\n",
      "2. High values in the later stages of the time series suggest the characteristic brightness of SNIa.\n"
     ]
    }
   ],
   "source": [
    "### Distilled relevant claims\n",
    "example = Timeseries(time=time_data, wv=wv_data, value=value_data)\n",
    "answer = 'Type Ia supernovae (SNIa)'\n",
    "\n",
    "distilled_claims = distill_relevant_features(example, answer, raw_atomic_claims, 0.8)\n",
    "\n",
    "print(\"Distilled relevant claims:\")\n",
    "for i, claim in enumerate(distilled_claims, 1):\n",
    "    print(f\"{i}. {claim}\")"
   ]
  },
  {
   "cell_type": "code",
   "execution_count": 29,
   "id": "af08d577-91f1-4136-bbd9-14c47db87ec1",
   "metadata": {},
   "outputs": [
    {
     "data": {
      "text/plain": [
       "{'alignment_scores': [{'claim': 'The variability indicates the presence of a strong peak and subsequent decline, a hallmark of SNIa light curves.',\n",
       "   'score': 5},\n",
       "  {'claim': 'High values in the later stages of the time series suggest the characteristic brightness of SNIa.',\n",
       "   'score': 4}],\n",
       " 'total_score': 4.5}"
      ]
     },
     "execution_count": 29,
     "metadata": {},
     "output_type": "execute_result"
    }
   ],
   "source": [
    "### Compute alignment scores\n",
    "scores = calculate_expert_alignment_score(distilled_claims)\n",
    "scores"
   ]
  },
  {
   "cell_type": "code",
   "execution_count": null,
   "id": "43fc124d-3245-4eb1-8c94-288a8f56c68c",
   "metadata": {},
   "outputs": [],
   "source": []
  }
 ],
 "metadata": {
  "kernelspec": {
   "display_name": "Python 3 (ipykernel)",
   "language": "python",
   "name": "python3"
  },
  "language_info": {
   "codemirror_mode": {
    "name": "ipython",
    "version": 3
   },
   "file_extension": ".py",
   "mimetype": "text/x-python",
   "name": "python",
   "nbconvert_exporter": "python",
   "pygments_lexer": "ipython3",
   "version": "3.10.13"
  }
 },
 "nbformat": 4,
 "nbformat_minor": 5
}
