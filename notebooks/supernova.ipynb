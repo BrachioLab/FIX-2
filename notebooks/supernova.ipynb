{
 "cells": [
  {
   "cell_type": "code",
   "execution_count": 1,
   "id": "77da3d13-370e-4923-ad38-45e386ecb42a",
   "metadata": {
    "tags": []
   },
   "outputs": [],
   "source": [
    "import pandas as pd\n",
    "import numpy as np\n",
    "from datasets import load_dataset\n",
    "import openai\n",
    "from openai import OpenAI\n",
    "import time\n",
    "from tqdm import tqdm\n",
    "\n",
    "import importlib\n",
    "import sys; sys.path.append(\"../src\")\n",
    "import supernova\n",
    "importlib.reload(supernova)\n",
    "from supernova import SupernovaExample, get_llm_generated_answer, isolate_individual_features, distill_relevant_features, calculate_expert_alignment_score, parse_measurement_string, format_time_series_for_prompt, query_openai"
   ]
  },
  {
   "cell_type": "markdown",
   "id": "9bce14f7-5e8c-4d2a-b2bc-8558ac1b9073",
   "metadata": {},
   "source": [
    "### Load Supernova Data"
   ]
  },
  {
   "cell_type": "code",
   "execution_count": 2,
   "id": "e8d690bb-ddcb-42e7-b7f0-03917402fc25",
   "metadata": {},
   "outputs": [],
   "source": [
    "supernova_data = load_dataset(\"BrachioLab/supernova\")\n",
    "supernova_data = supernova_data['test'].to_pandas()\n",
    "supernova_data = supernova_data.sample(3, random_state=11).reset_index(drop=True)"
   ]
  },
  {
   "cell_type": "code",
   "execution_count": 3,
   "id": "43fc124d-3245-4eb1-8c94-288a8f56c68c",
   "metadata": {},
   "outputs": [
    {
     "name": "stderr",
     "output_type": "stream",
     "text": [
      "Processing Rows: 100% 3/3 [00:09<00:00,  3.01s/it]\n"
     ]
    }
   ],
   "source": [
    "supernova_examples = []\n",
    "for idx, row in tqdm(supernova_data.iterrows(), total=supernova_data.shape[0], desc=\"Processing Rows\"):\n",
    "    time_series_string = row['data']\n",
    "    time_series_dict = parse_measurement_string(time_series_string)\n",
    "    llm_label, explanation = get_llm_generated_answer(time_series_dict)\n",
    "    if llm_label is None:\n",
    "        continue\n",
    "    supernova_examples.append(SupernovaExample(\n",
    "        time_series_text=time_series_string,\n",
    "        time_series_data=time_series_dict,\n",
    "        ground_truth=row['label'],\n",
    "        llm_label=llm_label,\n",
    "        llm_explanation=explanation\n",
    "    ))"
   ]
  },
  {
   "cell_type": "code",
   "execution_count": 4,
   "id": "655c2c4d-cfb4-48d4-bdf3-c0b4babb34eb",
   "metadata": {},
   "outputs": [
    {
     "data": {
      "text/plain": [
       "'The time series data with recordings over a broad interval from 8590.9 to 59726.4248 suggests variability over significant timescales, characteristic of AGN which often show such long-term variability due to their dynamic central regions. Additionally, the fluctuation between positive and negative values is indicative of the complex processes in AGN rather than more transient or singular events like supernovae.'"
      ]
     },
     "execution_count": 4,
     "metadata": {},
     "output_type": "execute_result"
    }
   ],
   "source": [
    "supernova_examples[0].llm_explanation"
   ]
  },
  {
   "cell_type": "markdown",
   "id": "2940e18c-95b2-4862-bcb2-89a2faf3712d",
   "metadata": {},
   "source": [
    "### Stage 1: Atomic claim extraction"
   ]
  },
  {
   "cell_type": "code",
   "execution_count": 5,
   "id": "05955175-295e-4d5c-ab4b-e5b6b56fd98f",
   "metadata": {},
   "outputs": [],
   "source": [
    "for example in supernova_examples:\n",
    "    claims = isolate_individual_features(example.llm_explanation)\n",
    "    if claims is None:\n",
    "        continue\n",
    "    example.claims = [claim.strip() for claim in claims]"
   ]
  },
  {
   "cell_type": "code",
   "execution_count": 6,
   "id": "660a3094-852f-445e-af63-0390fdbcd07c",
   "metadata": {},
   "outputs": [
    {
     "data": {
      "text/plain": [
       "['The time series data includes recordings over a broad interval from 8590.9 to 59726.4248.',\n",
       " 'The data suggests variability over significant timescales.',\n",
       " 'Long-term variability is characteristic of AGN.',\n",
       " 'AGN often show long-term variability due to their dynamic central regions.',\n",
       " 'The fluctuation between positive and negative values is observed in the data.',\n",
       " 'Fluctuation between positive and negative values is indicative of complex processes in AGN.',\n",
       " 'Complex processes in AGN differ from more transient or singular events like supernovae.']"
      ]
     },
     "execution_count": 6,
     "metadata": {},
     "output_type": "execute_result"
    }
   ],
   "source": [
    "supernova_examples[0].claims"
   ]
  },
  {
   "cell_type": "markdown",
   "id": "7969454e-12b0-47ec-b9c6-f09f59a9b6e5",
   "metadata": {},
   "source": [
    "### Stage 2: Distill relevant claims"
   ]
  },
  {
   "cell_type": "code",
   "execution_count": 7,
   "id": "b6df179d-13c9-4016-8217-706a39a24040",
   "metadata": {},
   "outputs": [
    {
     "name": "stderr",
     "output_type": "stream",
     "text": [
      "100% 7/7 [00:26<00:00,  3.73s/it]\n",
      "100% 7/7 [00:20<00:00,  2.99s/it]\n",
      "100% 5/5 [00:17<00:00,  3.59s/it]\n"
     ]
    }
   ],
   "source": [
    "for example in supernova_examples:\n",
    "    relevant_claims = distill_relevant_features(example)\n",
    "    example.relevant_claims = relevant_claims"
   ]
  },
  {
   "cell_type": "code",
   "execution_count": 8,
   "id": "46471fa3-b780-4227-8911-ffbef5aecfa7",
   "metadata": {},
   "outputs": [
    {
     "data": {
      "text/plain": [
       "['The data suggests variability over significant timescales.',\n",
       " 'Long-term variability is characteristic of AGN.',\n",
       " 'AGN often show long-term variability due to their dynamic central regions.',\n",
       " 'The fluctuation between positive and negative values is observed in the data.',\n",
       " 'Fluctuation between positive and negative values is indicative of complex processes in AGN.']"
      ]
     },
     "execution_count": 8,
     "metadata": {},
     "output_type": "execute_result"
    }
   ],
   "source": [
    "supernova_examples[0].relevant_claims"
   ]
  },
  {
   "cell_type": "markdown",
   "id": "bf8492fb-b980-46ec-91f9-8bec636e3bd1",
   "metadata": {},
   "source": [
    "### Stage 3: Calculate alignment scores"
   ]
  },
  {
   "cell_type": "code",
   "execution_count": 9,
   "id": "56cd54e7-5a58-487b-ac7d-5552d2845e1c",
   "metadata": {},
   "outputs": [
    {
     "name": "stderr",
     "output_type": "stream",
     "text": [
      "100% 5/5 [00:19<00:00,  3.88s/it]\n",
      "100% 1/1 [00:03<00:00,  3.68s/it]\n",
      "100% 5/5 [00:16<00:00,  3.37s/it]\n"
     ]
    }
   ],
   "source": [
    "for example in supernova_examples:\n",
    "    alignment_scores = []\n",
    "    alignment_categories = []\n",
    "    reasonings = []\n",
    "    for claim in tqdm(example.relevant_claims):\n",
    "        category, alignment_score, reasoning = calculate_expert_alignment_score(claim)\n",
    "        if category is None:\n",
    "            continue\n",
    "        alignment_scores.append(alignment_score)\n",
    "        alignment_categories.append(category)\n",
    "    example.alignment_scores = alignment_scores\n",
    "    example.alignment_categories = alignment_categories\n",
    "    example.final_alignment = np.mean(alignment_scores)"
   ]
  },
  {
   "cell_type": "code",
   "execution_count": 10,
   "id": "5d1c66e5-4e2c-4b8e-a4f6-464684202775",
   "metadata": {},
   "outputs": [
    {
     "data": {
      "text/plain": [
       "[0.7, 1.0, 0.9, 0.5, 0.5]"
      ]
     },
     "execution_count": 10,
     "metadata": {},
     "output_type": "execute_result"
    }
   ],
   "source": [
    "supernova_examples[0].alignment_scores"
   ]
  },
  {
   "cell_type": "code",
   "execution_count": 11,
   "id": "0855c817-db44-4eb0-a0fa-e52c9a233e39",
   "metadata": {},
   "outputs": [
    {
     "data": {
      "text/plain": [
       "['Total event duration, measured from first detection to return to baseline, distinguishes short‑lived kilonovae and superluminous SNe from longer plateau or AGN variability phases.',\n",
       " 'Total event duration, measured from first detection to return to baseline, distinguishes short‑lived kilonovae and superluminous SNe from longer plateau or AGN variability phases.',\n",
       " 'Total event duration, measured from first detection to return to baseline, distinguishes short‑lived kilonovae and superluminous SNe from longer plateau or AGN variability phases.',\n",
       " 'Periodic light curves with stable periods and distinctive Fourier amplitude‑ and phase‑ratios (e.g., φ21, φ31) flag pulsators and eclipsing binaries rather than one‑off transients.',\n",
       " 'Periodic light curves with stable periods and distinctive Fourier amplitude‑ and phase‑ratios (e.g., φ21, φ31) flag pulsators and eclipsing binaries rather than one‑off transients.']"
      ]
     },
     "execution_count": 11,
     "metadata": {},
     "output_type": "execute_result"
    }
   ],
   "source": [
    "supernova_examples[0].alignment_categories"
   ]
  },
  {
   "cell_type": "code",
   "execution_count": 15,
   "id": "888fb6c2-5a02-4065-bc5e-ad8afb03299e",
   "metadata": {},
   "outputs": [
    {
     "data": {
      "text/plain": [
       "['The data suggests variability over significant timescales.',\n",
       " 'Long-term variability is characteristic of AGN.',\n",
       " 'AGN often show long-term variability due to their dynamic central regions.',\n",
       " 'The fluctuation between positive and negative values is observed in the data.',\n",
       " 'Fluctuation between positive and negative values is indicative of complex processes in AGN.']"
      ]
     },
     "execution_count": 15,
     "metadata": {},
     "output_type": "execute_result"
    }
   ],
   "source": [
    "supernova_examples[0].relevant_claims"
   ]
  },
  {
   "cell_type": "code",
   "execution_count": null,
   "id": "c9105675-de82-483a-9961-f35a154070cc",
   "metadata": {},
   "outputs": [],
   "source": []
  }
 ],
 "metadata": {
  "kernelspec": {
   "display_name": "Python 3 (ipykernel)",
   "language": "python",
   "name": "python3"
  },
  "language_info": {
   "codemirror_mode": {
    "name": "ipython",
    "version": 3
   },
   "file_extension": ".py",
   "mimetype": "text/x-python",
   "name": "python",
   "nbconvert_exporter": "python",
   "pygments_lexer": "ipython3",
   "version": "3.10.13"
  }
 },
 "nbformat": 4,
 "nbformat_minor": 5
}
