{
 "cells": [
  {
   "cell_type": "code",
   "execution_count": 24,
   "id": "77da3d13-370e-4923-ad38-45e386ecb42a",
   "metadata": {
    "tags": []
   },
   "outputs": [],
   "source": [
    "import pandas as pd\n",
    "import numpy as np\n",
    "from datasets import load_dataset\n",
    "import openai\n",
    "from openai import OpenAI\n",
    "import time\n",
    "from tqdm import tqdm\n",
    "\n",
    "import importlib\n",
    "import sys; sys.path.append(\"../src\")\n",
    "import supernova\n",
    "importlib.reload(supernova)\n",
    "from supernova import SupernovaExample, get_llm_generated_answer, isolate_individual_features, distill_relevant_features, calculate_expert_alignment_score, query_openai"
   ]
  },
  {
   "cell_type": "code",
   "execution_count": 2,
   "id": "b9f39d13-91b9-4d31-beed-9153c7c159e6",
   "metadata": {},
   "outputs": [],
   "source": [
    "# 0 microlens-single (mu-Lens-Single)\n",
    "# 1 tidal disruption event (TDE)\n",
    "# 2 eclipsing binary (EB)\n",
    "# 3 type II supernova (SNII)\n",
    "# 4 peculiar type Ia supernova (SNIax)\n",
    "# 5 Mira variable\n",
    "# 6 type Ibc supernova (SNIbc)\n",
    "# 7 kilonova (KN)\n",
    "# 8 M-dwarf\n",
    "# 9 peculiar type Ia supernova (SNIa-91bg)\n",
    "# 10 active galactic nuclei (AGN)\n",
    "# 11 type Ia supernova (SNIa)\n",
    "# 12 RR-Lyrae (RRL)\n",
    "# 13 superluminous supernova (SLSN-I)"
   ]
  },
  {
   "cell_type": "markdown",
   "id": "9bce14f7-5e8c-4d2a-b2bc-8558ac1b9073",
   "metadata": {},
   "source": [
    "### Load Supernova Data"
   ]
  },
  {
   "cell_type": "code",
   "execution_count": 25,
   "id": "e8d690bb-ddcb-42e7-b7f0-03917402fc25",
   "metadata": {},
   "outputs": [
    {
     "name": "stderr",
     "output_type": "stream",
     "text": [
      "Using the latest cached version of the dataset since BrachioLab/supernova couldn't be found on the Hugging Face Hub\n",
      "Found the latest cached dataset configuration 'default' at /home/runai-home/.cache/huggingface/datasets/BrachioLab___supernova/default/0.0.0/ef38ac4811eae862b65367d7f431e7c65a6e03d6 (last modified on Thu May  8 05:19:06 2025).\n"
     ]
    }
   ],
   "source": [
    "supernova_data = load_dataset(\"BrachioLab/supernova\")\n",
    "supernova_data = supernova_data['test'].to_pandas()\n",
    "supernova_data = supernova_data.sample(3, random_state=11).reset_index(drop=True)"
   ]
  },
  {
   "cell_type": "code",
   "execution_count": 14,
   "id": "43fc124d-3245-4eb1-8c94-288a8f56c68c",
   "metadata": {},
   "outputs": [
    {
     "name": "stderr",
     "output_type": "stream",
     "text": [
      "Processing Rows: 100% 107/107 [02:47<00:00,  1.56s/it]\n"
     ]
    }
   ],
   "source": [
    "supernova_examples = []\n",
    "for idx, row in tqdm(supernova_data.iterrows(), total=supernova_data.shape[0], desc=\"Processing Rows\"):\n",
    "    time_series_data = row['data']\n",
    "    llm_label, explanation = get_llm_generated_answer(time_series_data)\n",
    "    if llm_label is None:\n",
    "        continue\n",
    "    supernova_examples.append(SupernovaExample(\n",
    "        file=row['filename'],\n",
    "        time_series_data=time_series_data,\n",
    "        ground_truth=row['label'],\n",
    "        llm_label=llm_label,\n",
    "        llm_explanation=explanation\n",
    "    ))"
   ]
  },
  {
   "cell_type": "code",
   "execution_count": 15,
   "id": "655c2c4d-cfb4-48d4-bdf3-c0b4babb34eb",
   "metadata": {},
   "outputs": [
    {
     "data": {
      "text/plain": [
       "'The observed pattern shows periodic variations in flux across multiple wavelengths, characteristic of an eclipsing binary system. The repeated dips in flux suggest the presence of two stars passing in front of each other, causing dimming and brightening at regular intervals. The relatively stable flux levels between eclipses support this classification. The multi-wavelength coverage further indicates variable light output consistent with this kind of binary system.'"
      ]
     },
     "execution_count": 15,
     "metadata": {},
     "output_type": "execute_result"
    }
   ],
   "source": [
    "supernova_examples[0].llm_explanation"
   ]
  },
  {
   "cell_type": "markdown",
   "id": "2940e18c-95b2-4862-bcb2-89a2faf3712d",
   "metadata": {},
   "source": [
    "### Stage 1: Atomic claim extraction"
   ]
  },
  {
   "cell_type": "code",
   "execution_count": 16,
   "id": "05955175-295e-4d5c-ab4b-e5b6b56fd98f",
   "metadata": {},
   "outputs": [],
   "source": [
    "for example in supernova_examples:\n",
    "    claims = isolate_individual_features(example.llm_explanation)\n",
    "    if claims is None:\n",
    "        continue\n",
    "    example.claims = [claim.strip() for claim in claims]"
   ]
  },
  {
   "cell_type": "code",
   "execution_count": 18,
   "id": "660a3094-852f-445e-af63-0390fdbcd07c",
   "metadata": {},
   "outputs": [
    {
     "data": {
      "text/plain": [
       "['The observed pattern shows periodic variations in flux.',\n",
       " 'The periodic variations occur across multiple wavelengths.',\n",
       " 'Periodic variations in flux are characteristic of an eclipsing binary system.',\n",
       " 'The repeated dips in flux suggest two stars passing in front of each other.',\n",
       " 'The passing of stars causes dimming and brightening at regular intervals.',\n",
       " 'Relatively stable flux levels occur between eclipses.',\n",
       " 'Stable flux levels between eclipses support the classification as an eclipsing binary.',\n",
       " 'Multi-wavelength coverage indicates variable light output.',\n",
       " 'Variable light output is consistent with an eclipsing binary system.']"
      ]
     },
     "execution_count": 18,
     "metadata": {},
     "output_type": "execute_result"
    }
   ],
   "source": [
    "supernova_examples[0].claims"
   ]
  },
  {
   "cell_type": "markdown",
   "id": "7969454e-12b0-47ec-b9c6-f09f59a9b6e5",
   "metadata": {},
   "source": [
    "### Stage 2: Distill relevant claims"
   ]
  },
  {
   "cell_type": "code",
   "execution_count": 19,
   "id": "b6df179d-13c9-4016-8217-706a39a24040",
   "metadata": {},
   "outputs": [],
   "source": [
    "for example in supernova_examples:\n",
    "    relevant_claims = distill_relevant_features(example.time_series_data, example.llm_label, example.claims)\n",
    "    example.relevant_claims = relevant_claims"
   ]
  },
  {
   "cell_type": "code",
   "execution_count": 20,
   "id": "46471fa3-b780-4227-8911-ffbef5aecfa7",
   "metadata": {},
   "outputs": [
    {
     "data": {
      "text/plain": [
       "['The observed pattern shows periodic variations in flux.',\n",
       " 'The periodic variations occur across multiple wavelengths.',\n",
       " 'Periodic variations in flux are characteristic of an eclipsing binary system.',\n",
       " 'The repeated dips in flux suggest two stars passing in front of each other.',\n",
       " 'The passing of stars causes dimming and brightening at regular intervals.',\n",
       " 'Relatively stable flux levels occur between eclipses.',\n",
       " 'Stable flux levels between eclipses support the classification as an eclipsing binary.',\n",
       " 'Variable light output is consistent with an eclipsing binary system.']"
      ]
     },
     "execution_count": 20,
     "metadata": {},
     "output_type": "execute_result"
    }
   ],
   "source": [
    "supernova_examples[0].relevant_claims"
   ]
  },
  {
   "cell_type": "markdown",
   "id": "bf8492fb-b980-46ec-91f9-8bec636e3bd1",
   "metadata": {},
   "source": [
    "### Stage 3: Calculate alignment scores"
   ]
  },
  {
   "cell_type": "code",
   "execution_count": 21,
   "id": "56cd54e7-5a58-487b-ac7d-5552d2845e1c",
   "metadata": {},
   "outputs": [
    {
     "name": "stderr",
     "output_type": "stream",
     "text": [
      "100% 8/8 [00:49<00:00,  6.24s/it]\n",
      "100% 8/8 [00:31<00:00,  3.90s/it]\n",
      "100% 8/8 [00:50<00:00,  6.31s/it]\n",
      "100% 7/7 [00:37<00:00,  5.37s/it]\n",
      "100% 6/6 [00:27<00:00,  4.55s/it]\n",
      "100% 7/7 [00:33<00:00,  4.73s/it]\n",
      "100% 6/6 [00:35<00:00,  6.00s/it]\n",
      "100% 6/6 [00:30<00:00,  5.01s/it]\n",
      "100% 7/7 [00:35<00:00,  5.04s/it]\n",
      "100% 3/3 [00:20<00:00,  6.80s/it]\n",
      "100% 6/6 [00:27<00:00,  4.55s/it]\n",
      "100% 5/5 [00:19<00:00,  3.94s/it]\n",
      "100% 8/8 [00:44<00:00,  5.61s/it]\n",
      "100% 8/8 [00:28<00:00,  3.57s/it]\n",
      "100% 7/7 [00:25<00:00,  3.63s/it]\n",
      "100% 5/5 [00:20<00:00,  4.02s/it]\n",
      "100% 5/5 [00:27<00:00,  5.44s/it]\n",
      "100% 6/6 [00:24<00:00,  4.04s/it]\n",
      "100% 4/4 [00:10<00:00,  2.72s/it]\n",
      "100% 7/7 [00:32<00:00,  4.65s/it]\n",
      "100% 6/6 [00:29<00:00,  4.88s/it]\n",
      "100% 7/7 [00:34<00:00,  4.99s/it]\n",
      "100% 6/6 [00:23<00:00,  3.91s/it]\n",
      "100% 8/8 [00:36<00:00,  4.61s/it]\n",
      "100% 6/6 [00:25<00:00,  4.18s/it]\n",
      "100% 5/5 [00:09<00:00,  1.91s/it]\n",
      "100% 7/7 [00:30<00:00,  4.36s/it]\n",
      "100% 9/9 [00:54<00:00,  6.08s/it]\n",
      "100% 5/5 [00:23<00:00,  4.68s/it]\n",
      "100% 5/5 [00:13<00:00,  2.71s/it]\n",
      "100% 6/6 [00:28<00:00,  4.71s/it]\n",
      "100% 4/4 [00:19<00:00,  4.84s/it]\n",
      "100% 8/8 [00:50<00:00,  6.30s/it]\n",
      "100% 6/6 [00:27<00:00,  4.60s/it]\n",
      "100% 5/5 [00:18<00:00,  3.76s/it]\n",
      "100% 6/6 [00:32<00:00,  5.44s/it]\n",
      "100% 5/5 [00:28<00:00,  5.69s/it]\n",
      "100% 8/8 [00:36<00:00,  4.57s/it]\n",
      "100% 6/6 [00:23<00:00,  3.96s/it]\n",
      "100% 5/5 [00:14<00:00,  2.95s/it]\n",
      "100% 8/8 [00:32<00:00,  4.03s/it]\n",
      "100% 7/7 [00:26<00:00,  3.77s/it]\n",
      "100% 5/5 [00:23<00:00,  4.65s/it]\n",
      "100% 6/6 [00:29<00:00,  4.86s/it]\n",
      "100% 5/5 [00:10<00:00,  2.02s/it]\n",
      "100% 6/6 [00:24<00:00,  4.07s/it]\n",
      "100% 4/4 [00:11<00:00,  2.81s/it]\n",
      "100% 9/9 [00:46<00:00,  5.16s/it]\n",
      "100% 7/7 [00:20<00:00,  2.93s/it]\n",
      "100% 3/3 [00:17<00:00,  6.00s/it]\n",
      "100% 6/6 [00:25<00:00,  4.17s/it]\n",
      "100% 7/7 [00:21<00:00,  3.04s/it]\n",
      "100% 8/8 [00:24<00:00,  3.11s/it]\n",
      "100% 5/5 [00:14<00:00,  2.85s/it]\n",
      "100% 5/5 [00:16<00:00,  3.31s/it]\n",
      "100% 6/6 [00:23<00:00,  3.92s/it]\n",
      "100% 6/6 [00:23<00:00,  3.96s/it]\n",
      "100% 4/4 [00:14<00:00,  3.74s/it]\n",
      "100% 6/6 [00:26<00:00,  4.45s/it]\n",
      "100% 5/5 [00:16<00:00,  3.33s/it]\n",
      "100% 6/6 [00:28<00:00,  4.82s/it]\n",
      "100% 4/4 [00:15<00:00,  3.87s/it]\n",
      "100% 9/9 [00:32<00:00,  3.62s/it]\n",
      "100% 5/5 [00:16<00:00,  3.33s/it]\n",
      "100% 6/6 [00:24<00:00,  4.13s/it]\n",
      "100% 4/4 [00:13<00:00,  3.25s/it]\n",
      "100% 4/4 [00:15<00:00,  3.84s/it]\n",
      "100% 7/7 [00:27<00:00,  3.96s/it]\n",
      "100% 4/4 [00:13<00:00,  3.43s/it]\n",
      "100% 6/6 [00:20<00:00,  3.37s/it]\n",
      "100% 7/7 [00:25<00:00,  3.57s/it]\n",
      "100% 6/6 [00:23<00:00,  3.86s/it]\n",
      "100% 7/7 [00:23<00:00,  3.33s/it]\n",
      "100% 5/5 [00:18<00:00,  3.62s/it]\n",
      "100% 3/3 [00:09<00:00,  3.17s/it]\n",
      "100% 5/5 [00:10<00:00,  2.15s/it]\n",
      "100% 7/7 [00:21<00:00,  3.02s/it]\n",
      "100% 6/6 [00:20<00:00,  3.39s/it]\n",
      "100% 6/6 [00:23<00:00,  3.99s/it]\n",
      "100% 8/8 [00:39<00:00,  4.90s/it]\n",
      "100% 7/7 [00:24<00:00,  3.49s/it]\n",
      "100% 3/3 [00:08<00:00,  2.74s/it]\n",
      "100% 7/7 [00:24<00:00,  3.47s/it]\n",
      "100% 3/3 [00:14<00:00,  4.72s/it]\n",
      "100% 5/5 [00:15<00:00,  3.09s/it]\n",
      "100% 4/4 [00:12<00:00,  3.24s/it]\n",
      "100% 5/5 [00:23<00:00,  4.66s/it]\n",
      "100% 5/5 [00:15<00:00,  3.03s/it]\n",
      "100% 5/5 [00:00<00:00,  7.38it/s]\n",
      "100% 8/8 [00:30<00:00,  3.78s/it]\n",
      "100% 6/6 [00:15<00:00,  2.62s/it]\n",
      "100% 5/5 [00:15<00:00,  3.04s/it]\n",
      "100% 5/5 [00:12<00:00,  2.45s/it]\n",
      "100% 6/6 [00:30<00:00,  5.13s/it]\n",
      "100% 4/4 [00:11<00:00,  2.81s/it]\n",
      "100% 6/6 [00:16<00:00,  2.73s/it]\n",
      "100% 9/9 [00:30<00:00,  3.41s/it]\n",
      "100% 3/3 [00:05<00:00,  1.92s/it]\n",
      "100% 6/6 [00:19<00:00,  3.21s/it]\n",
      "100% 4/4 [00:17<00:00,  4.47s/it]\n",
      "100% 9/9 [00:44<00:00,  4.93s/it]\n",
      "100% 8/8 [00:29<00:00,  3.71s/it]\n",
      "100% 7/7 [00:30<00:00,  4.30s/it]\n",
      "100% 7/7 [00:25<00:00,  3.63s/it]\n",
      "100% 3/3 [00:10<00:00,  3.51s/it]\n",
      "100% 7/7 [00:35<00:00,  5.05s/it]\n",
      "100% 6/6 [00:22<00:00,  3.72s/it]\n"
     ]
    }
   ],
   "source": [
    "for example in supernova_examples:\n",
    "    alignment_scores = []\n",
    "    alignment_categories = []\n",
    "    reasonings = []\n",
    "    for claim in tqdm(example.relevant_claims):\n",
    "        category, alignment_score, reasoning = calculate_expert_alignment_score(claim)\n",
    "        if category is None:\n",
    "            continue\n",
    "        alignment_scores.append(alignment_score)\n",
    "        alignment_categories.append(category)\n",
    "    example.alignment_scores = alignment_scores\n",
    "    example.alignment_categories = alignment_categories\n",
    "    example.final_alignment = np.mean(alignment_scores)"
   ]
  },
  {
   "cell_type": "code",
   "execution_count": 22,
   "id": "5d1c66e5-4e2c-4b8e-a4f6-464684202775",
   "metadata": {},
   "outputs": [
    {
     "data": {
      "text/plain": [
       "[0.9, 0.8, 1.0, 1.0, 1.0, 0.9, 0.9, 1.0]"
      ]
     },
     "execution_count": 22,
     "metadata": {},
     "output_type": "execute_result"
    }
   ],
   "source": [
    "supernova_examples[0].alignment_scores"
   ]
  },
  {
   "cell_type": "code",
   "execution_count": null,
   "id": "656122c7-f785-4537-ba0b-8aa389591383",
   "metadata": {},
   "outputs": [],
   "source": []
  }
 ],
 "metadata": {
  "kernelspec": {
   "display_name": "Python 3 (ipykernel)",
   "language": "python",
   "name": "python3"
  },
  "language_info": {
   "codemirror_mode": {
    "name": "ipython",
    "version": 3
   },
   "file_extension": ".py",
   "mimetype": "text/x-python",
   "name": "python",
   "nbconvert_exporter": "python",
   "pygments_lexer": "ipython3",
   "version": "3.10.13"
  }
 },
 "nbformat": 4,
 "nbformat_minor": 5
}
