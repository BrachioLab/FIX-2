{
 "cells": [
  {
   "cell_type": "code",
   "execution_count": 1,
   "id": "77da3d13-370e-4923-ad38-45e386ecb42a",
   "metadata": {
    "tags": []
   },
   "outputs": [],
   "source": [
    "import sys\n",
    "import os\n",
    "\n",
    "exlib_path = \"/shared_data0/chaenyk/exlib\"\n",
    "src_path = os.path.join(exlib_path, \"src\")\n",
    "sys.path.insert(0, src_path)\n",
    "import pyarrow as pa\n",
    "import pyarrow_hotfix\n",
    "import torch\n",
    "import yaml\n",
    "import argparse\n",
    "import torch\n",
    "import torch.nn as nn\n",
    "import numpy as np\n",
    "import matplotlib.pyplot as plt\n",
    "from datasets import load_dataset\n",
    "from collections import namedtuple\n",
    "import matplotlib.pyplot as plt\n",
    "\n",
    "import exlib\n",
    "from exlib.datasets.pretrain import setup_model_config, get_dataset, get_dataset, setup_model_config\n",
    "from exlib.datasets.dataset_preprocess_raw import create_train_dataloader_raw, create_test_dataloader_raw, create_test_dataloader\n",
    "from exlib.datasets.informer_models import InformerConfig, InformerForSequenceClassification\n",
    "from tqdm.auto import tqdm\n",
    "pa.PyExtensionType.set_auto_load(True)\n",
    "pyarrow_hotfix.uninstall()\n",
    "device = torch.device(\"cuda\") if torch.cuda.is_available() else torch.device(\"cpu\")\n",
    "\n",
    "from example_function_supernova import Timeseries, get_llm_generated_answer, isolate_individual_features, is_claim_relevant, distill_relevant_features, calculate_expert_alignment_score"
   ]
  },
  {
   "cell_type": "code",
   "execution_count": 2,
   "id": "d754d3e7-1da7-4687-908d-d8b63c38599c",
   "metadata": {},
   "outputs": [],
   "source": [
    "import openai\n",
    "from openai import OpenAI\n",
    "\n",
    "client = OpenAI(api_key=\"sk-None-ptTj0i2Hx0GJvjOunH0QT3BlbkFJcdhzvU2L1X5HU4F23HWB\")"
   ]
  },
  {
   "cell_type": "markdown",
   "id": "734df5cc-e41d-4960-abd8-157dd1928114",
   "metadata": {},
   "source": [
    "### Dataset"
   ]
  },
  {
   "cell_type": "code",
   "execution_count": 3,
   "id": "19f776b1-b426-49fa-a757-7dbb0154e5da",
   "metadata": {
    "tags": []
   },
   "outputs": [],
   "source": [
    "# load dataset\n",
    "dataset = load_dataset(\"BrachioLab/supernova-timeseries\")\n",
    "train_dataset = dataset['train']\n",
    "validation_dataset = dataset['validation']\n",
    "test_dataset = dataset['test']"
   ]
  },
  {
   "cell_type": "code",
   "execution_count": 4,
   "id": "22d050b6-7ee6-41f6-afde-540b0f4ed993",
   "metadata": {},
   "outputs": [
    {
     "data": {
      "text/plain": [
       "Dataset({\n",
       "    features: ['objid', 'times_wv', 'target', 'label', 'redshift'],\n",
       "    num_rows: 792\n",
       "})"
      ]
     },
     "execution_count": 4,
     "metadata": {},
     "output_type": "execute_result"
    }
   ],
   "source": [
    "test_dataset"
   ]
  },
  {
   "cell_type": "markdown",
   "id": "5a640b89-0e66-4d3d-8aa1-779149fee59a",
   "metadata": {},
   "source": [
    "### Dataset Samples"
   ]
  },
  {
   "cell_type": "code",
   "execution_count": 5,
   "id": "4bf6d6f9-66b8-4348-9fcc-9a5e33c24bc8",
   "metadata": {},
   "outputs": [
    {
     "name": "stdout",
     "output_type": "stream",
     "text": [
      "original dataset size: 792\n",
      "remove nans dataset size: 792\n"
     ]
    }
   ],
   "source": [
    "config = InformerConfig.from_pretrained(\"BrachioLab/supernova-classification\")\n",
    "test_dataloader = create_test_dataloader_raw(\n",
    "    config=config,\n",
    "    dataset=test_dataset,\n",
    "    batch_size=25,\n",
    "    compute_loss=True\n",
    ")"
   ]
  },
  {
   "cell_type": "code",
   "execution_count": 6,
   "id": "2efd9329-cdc8-4fab-93f5-f148b1a0b02d",
   "metadata": {},
   "outputs": [],
   "source": [
    "# SNIa class 11\n",
    "def find_label_in_dataloader(dataloader, target_label=11):\n",
    "    for batch in dataloader:\n",
    "        indices = (batch['labels'] == target_label).nonzero(as_tuple=True)[0]\n",
    "        \n",
    "        if len(indices) > 0:\n",
    "            label_values_time = batch['past_time_features'][indices, :, :]\n",
    "            label_values = batch['past_values'][indices, :, :]\n",
    "            return label_values_time, label_values\n",
    "    \n",
    "    return None\n",
    "    \n",
    "label_11_past_time, label_11_past_values = find_label_in_dataloader(test_dataloader, target_label=11)"
   ]
  },
  {
   "cell_type": "code",
   "execution_count": 7,
   "id": "cd7a66ea-af39-4065-892c-b303c927d146",
   "metadata": {},
   "outputs": [],
   "source": [
    "n = 1\n",
    "time_data = label_11_past_time[n,:,0]\n",
    "wv_data = label_11_past_time[n,:,1]\n",
    "value_data = label_11_past_values[n,:,0]\n",
    "error_data = label_11_past_values[n,:,1]"
   ]
  },
  {
   "cell_type": "code",
   "execution_count": 8,
   "id": "79cbfd9e-f6d1-4006-86db-31887909c0d0",
   "metadata": {},
   "outputs": [],
   "source": [
    "def plot_data_by_wavelength(times, fluxes, errors, wavelengths, title):\n",
    "    wavelengths_float = []\n",
    "    for w in wavelengths:\n",
    "        if hasattr(w, 'item'):\n",
    "            wavelengths_float.append(w.item())\n",
    "        else:\n",
    "            wavelengths_float.append(float(w))\n",
    "    \n",
    "    wavelengths_display = [round(w, 2) for w in wavelengths_float]\n",
    "    unique_wavelengths_float = sorted(list(set(wavelengths_float)))\n",
    "    colors = plt.cm.rainbow(np.linspace(0, 1, len(unique_wavelengths_float)))\n",
    "    wavelength_to_color = dict(zip(unique_wavelengths_float, colors))\n",
    "    \n",
    "    plt.figure(figsize=(3, 3))\n",
    "    legend_added = []\n",
    "    \n",
    "    for i in range(len(times)):\n",
    "        wavelength = wavelengths_float[i]\n",
    "        display_value = wavelengths_display[i]\n",
    "        color = wavelength_to_color[wavelength]\n",
    "\n",
    "        if display_value not in legend_added:\n",
    "            plt.errorbar([times[i]], [fluxes[i]], yerr=[errors[i]],\n",
    "                        fmt='o', color=color, capsize=5, label=f'{display_value}')\n",
    "            legend_added.append(display_value)\n",
    "        else:\n",
    "            plt.errorbar([times[i]], [fluxes[i]], yerr=[errors[i]],\n",
    "                        fmt='o', color=color, capsize=5)\n",
    "    \n",
    "    plt.xlabel('Time')\n",
    "    plt.ylabel('Flux')\n",
    "    \n",
    "    plt.legend(title=\"Wavelengths\", loc='upper right', fontsize='small', title_fontsize='small')\n",
    "    plt.grid(False)\n",
    "    plt.show()"
   ]
  },
  {
   "cell_type": "code",
   "execution_count": 9,
   "id": "b0ea80aa-0d0c-4bce-9a0f-6a7f8ab9150b",
   "metadata": {},
   "outputs": [
    {
     "data": {
      "image/png": "[encoded data removed]",
      "text/plain": [
       "<Figure size 300x300 with 1 Axes>"
      ]
     },
     "metadata": {},
     "output_type": "display_data"
    }
   ],
   "source": [
    "plot_data_by_wavelength(time_data, value_data, error_data, wv_data, 'Flux vs. Time with Error Bars by Wavelength')"
   ]
  },
  {
   "cell_type": "code",
   "execution_count": 10,
   "id": "bac5eb86-59ba-4ddb-9458-2adf3a9131bf",
   "metadata": {},
   "outputs": [
    {
     "name": "stdout",
     "output_type": "stream",
     "text": [
      "The dataset provided represents a time series of observations for a supernova event, specifically classified as a Type Ia supernova (SNIa). Type Ia supernovae are characterized by their consistent peak luminosity, which makes them excellent standard candles for measuring cosmic distances. In the time series data, we observe a pattern of values across different wavelengths over time. The presence of specific wavelengths, such as those around 7545 Å, 8590 Å, and 9710 Å, is indicative of the spectral features associated with SNIa, such as the silicon absorption lines near 6150 Å and the absence of hydrogen lines, which are typical in other supernova types like SNII. The time series also shows a rapid increase in brightness followed by a gradual decline, a light curve shape that is characteristic of SNIa. The consistent pattern across multiple observations and the presence of these spectral features support the classification of this event as a Type Ia supernova. Additionally, the data shows a significant peak in brightness, which aligns with the expected behavior of SNIa, where the explosion results from the thermonuclear disruption of a white dwarf in a binary system, leading to a uniform and predictable light curve.\n"
     ]
    }
   ],
   "source": [
    "### Extract Explanation\n",
    "example = Timeseries(time=time_data, wv=wv_data, value=value_data)\n",
    "analysis_result = get_llm_generated_answer(example=example, answer='Type Ia supernovae (SNIa)')\n",
    "print(analysis_result)"
   ]
  },
  {
   "cell_type": "code",
   "execution_count": 11,
   "id": "add45143-2938-4528-ac20-e34275eae4fd",
   "metadata": {},
   "outputs": [
    {
     "name": "stdout",
     "output_type": "stream",
     "text": [
      "The dataset provided represents a time series of observations for a supernova event, specifically classified as a Type Ia supernova (SNIa). Type Ia supernovae are characterized by their consistent peak luminosity, which makes them valuable as standard candles for measuring cosmic distances. In the time series data, we observe a pattern of values across different wavelengths over time. The presence of specific wavelengths, such as 7545.98 Å, 8590.90 Å, and 9710.28 Å, is indicative of the spectral features associated with SNIa, such as the silicon absorption lines around 6150 Å and the absence of hydrogen lines, which are typical in other supernova types like SNII. The time series also shows a rapid increase in brightness followed by a gradual decline, a light curve shape characteristic of SNIa. The consistent pattern across multiple observations and the presence of these spectral features support the classification of this event as a Type Ia supernova. Additionally, the data shows a significant peak in brightness, which aligns with the expected behavior of SNIa, where the explosion results from the thermonuclear runaway of a white dwarf in a binary system, leading to a uniform and predictable light curve.\n"
     ]
    }
   ],
   "source": [
    "### Extract Explanation\n",
    "example = Timeseries(time=time_data, wv=wv_data, value=value_data)\n",
    "analysis_result = get_llm_generated_answer(example=example, answer='Type Ia supernovae (SNIa)')\n",
    "print(analysis_result)"
   ]
  },
  {
   "cell_type": "code",
   "execution_count": 12,
   "id": "b028662f-dc02-43b3-baf8-7df917b9ce94",
   "metadata": {},
   "outputs": [
    {
     "name": "stdout",
     "output_type": "stream",
     "text": [
      "Extracted atomic claims:\n",
      "1. The dataset represents a time series of observations for a supernova event.\n",
      "2. The supernova event is specifically classified as a Type Ia supernova (SNIa).\n",
      "3. Type Ia supernovae are characterized by their consistent peak luminosity.\n",
      "4. Type Ia supernovae are valuable as standard candles for measuring cosmic distances.\n",
      "5. The time series data shows a pattern of values across different wavelengths over time.\n",
      "6. Specific wavelengths such as 7545.98 Å, 8590.90 Å, and 9710.28 Å are present in the data.\n",
      "7. These wavelengths are indicative of the spectral features associated with SNIa.\n",
      "8. SNIa spectral features include silicon absorption lines around 6150 Å.\n",
      "9. SNIa lack hydrogen lines, which are typical in other supernova types like SNII.\n",
      "10. The time series shows a rapid increase in brightness followed by a gradual decline.\n",
      "11. The light curve shape is characteristic of SNIa.\n",
      "12. The consistent pattern across multiple observations supports the classification as a Type Ia supernova.\n",
      "13. The presence of specific spectral features supports the classification as a Type Ia supernova.\n",
      "14. The data shows a significant peak in brightness.\n",
      "15. The peak in brightness aligns with the expected behavior of SNIa.\n",
      "16. SNIa result from the thermonuclear runaway of a white dwarf in a binary system.\n",
      "17. The explosion leads to a uniform and predictable light curve for SNIa.\n"
     ]
    }
   ],
   "source": [
    "### Make it to atomic claims\n",
    "raw_atomic_claims = isolate_individual_features(analysis_result)\n",
    "\n",
    "print(\"Extracted atomic claims:\")\n",
    "for i, claim in enumerate(raw_atomic_claims, 1):\n",
    "    print(f\"{i}. {claim}\")"
   ]
  },
  {
   "cell_type": "code",
   "execution_count": 17,
   "id": "076b650e-6333-4262-9b03-d31e4b20ab6c",
   "metadata": {},
   "outputs": [
    {
     "data": {
      "text/plain": [
       "[True,\n",
       " False,\n",
       " False,\n",
       " False,\n",
       " True,\n",
       " True,\n",
       " False,\n",
       " False,\n",
       " False,\n",
       " True,\n",
       " False,\n",
       " False,\n",
       " False,\n",
       " True,\n",
       " False,\n",
       " False,\n",
       " False]"
      ]
     },
     "execution_count": 17,
     "metadata": {},
     "output_type": "execute_result"
    }
   ],
   "source": [
    "### Relevant claims\n",
    "example = Timeseries(time=time_data, wv=wv_data, value=value_data)\n",
    "answer = 'Type Ia supernovae (SNIa)'\n",
    "claim_relevances = [is_claim_relevant(example, answer, raw_atomic_claim, 0.8) \\\n",
    "    for raw_atomic_claim in raw_atomic_claims]\n",
    "claim_relevances"
   ]
  },
  {
   "cell_type": "code",
   "execution_count": 18,
   "id": "373ba480-4fc5-49ea-9f17-eccf2cc41083",
   "metadata": {},
   "outputs": [
    {
     "name": "stdout",
     "output_type": "stream",
     "text": [
      "Distilled relevant claims:\n",
      "1. The dataset represents a time series of observations for a supernova event.\n",
      "2. The time series data shows a pattern of values across different wavelengths over time.\n",
      "3. Specific wavelengths such as 7545.98 Å, 8590.90 Å, and 9710.28 Å are present in the data.\n"
     ]
    }
   ],
   "source": [
    "### Distilled relevant claims\n",
    "example = Timeseries(time=time_data, wv=wv_data, value=value_data)\n",
    "answer = 'Type Ia supernovae (SNIa)'\n",
    "\n",
    "distilled_claims = distill_relevant_features(example, answer, raw_atomic_claims, 0.8)\n",
    "\n",
    "print(\"Distilled relevant claims:\")\n",
    "for i, claim in enumerate(distilled_claims, 1):\n",
    "    print(f\"{i}. {claim}\")"
   ]
  },
  {
   "cell_type": "code",
   "execution_count": 19,
   "id": "b78d60e5-76d6-476e-bbef-f11f2a68f4fb",
   "metadata": {},
   "outputs": [
    {
     "name": "stdout",
     "output_type": "stream",
     "text": [
      "Ground truth claims:\n",
      "1. Flux values are nonzero for most timestamps\n",
      "2. Multiple wavelength bands are observed per timestamp\n",
      "3. Each timestamp contains both flux and uncertainty values at least once\n",
      "4. The light curve exhibits temporal continuity.\n"
     ]
    }
   ],
   "source": [
    "groundtruth_claims = [\n",
    "    \"Flux values are nonzero for most timestamps\",\n",
    "    \"Multiple wavelength bands are observed per timestamp\",\n",
    "    \"Each timestamp contains both flux and uncertainty values at least once\",\n",
    "    \"The light curve exhibits temporal continuity.\"\n",
    "]\n",
    "\n",
    "print(\"Ground truth claims:\")\n",
    "for i, claim in enumerate(groundtruth_claims, 1):\n",
    "    print(f\"{i}. {claim}\")"
   ]
  },
  {
   "cell_type": "code",
   "execution_count": 20,
   "id": "af08d577-91f1-4136-bbd9-14c47db87ec1",
   "metadata": {},
   "outputs": [
    {
     "data": {
      "text/plain": [
       "{'alignment_scores': [{'claim': 'The dataset represents a time series of observations for a supernova event.',\n",
       "   'score': 5},\n",
       "  {'claim': 'The time series data shows a pattern of values across different wavelengths over time.',\n",
       "   'score': 5},\n",
       "  {'claim': 'Specific wavelengths such as 7545.98 Å, 8590.90 Å, and 9710.28 Å are present in the data.',\n",
       "   'score': 4}],\n",
       " 'total_score': 5}"
      ]
     },
     "execution_count": 20,
     "metadata": {},
     "output_type": "execute_result"
    }
   ],
   "source": [
    "### Compute alignment scores\n",
    "scores = calculate_expert_alignment_score(distilled_claims, groundtruth_claims)\n",
    "scores"
   ]
  },
  {
   "cell_type": "code",
   "execution_count": null,
   "id": "43fc124d-3245-4eb1-8c94-288a8f56c68c",
   "metadata": {},
   "outputs": [],
   "source": []
  },
  {
   "cell_type": "code",
   "execution_count": 17,
   "id": "6c9e3340-1fea-41fc-8b3e-0ab701b3af21",
   "metadata": {},
   "outputs": [],
   "source": [
    "### pipeline\n",
    "# Input: example, answer, explanation\n",
    "# Step 1: isolate individual explanation / distill relevant features (hallucination)\n",
    "# Step 2: determine expert alignment for each feature\n",
    "# Step 3: aggregate (relevance / alignment / coverage)"
   ]
  },
  {
   "cell_type": "code",
   "execution_count": 18,
   "id": "b8749434-b89f-431e-a545-25c5a2d44927",
   "metadata": {},
   "outputs": [],
   "source": [
    "### ground truth\n",
    "# Not locally 0 (approximately)\n",
    "# More bands per timestamp (globally)\n",
    "# Error + fluxes per timestamp at least once (reason: signed to noise ratio)\n",
    "# Continuity in time (Structure: Peak)"
   ]
  },
  {
   "cell_type": "code",
   "execution_count": null,
   "id": "4b2325bc-efa3-4f75-b363-59ae13d4c7b9",
   "metadata": {},
   "outputs": [],
   "source": []
  }
 ],
 "metadata": {
  "kernelspec": {
   "display_name": "Python 3 (ipykernel)",
   "language": "python",
   "name": "python3"
  },
  "language_info": {
   "codemirror_mode": {
    "name": "ipython",
    "version": 3
   },
   "file_extension": ".py",
   "mimetype": "text/x-python",
   "name": "python",
   "nbconvert_exporter": "python",
   "pygments_lexer": "ipython3",
   "version": "3.10.13"
  }
 },
 "nbformat": 4,
 "nbformat_minor": 5
}
