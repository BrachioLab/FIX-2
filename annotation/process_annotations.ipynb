{
 "cells": [
  {
   "cell_type": "code",
   "execution_count": 1,
   "id": "574ef81f",
   "metadata": {},
   "outputs": [],
   "source": [
    "import pandas as pd\n",
    "import numpy as np\n",
    "import json\n",
    "import os\n",
    "from collections import defaultdict\n",
    "\n",
    "import matplotlib.pyplot as plt\n",
    "import seaborn as sns\n",
    "import matplotlib as mpl\n",
    "from scipy.stats import pearsonr\n",
    "\n",
    "\n",
    "\n"
   ]
  },
  {
   "cell_type": "code",
   "execution_count": 8,
   "id": "04b79af6",
   "metadata": {},
   "outputs": [
    {
     "name": "stdout",
     "output_type": "stream",
     "text": [
      "\n",
      "Dataset: massmaps\n",
      "Claim Decomposition Accuracy: 0.8000 ± 0.2449\n",
      "Relevance Filtering Accuracy: 0.7576 ± 0.3718\n",
      "Expert Alignment Accuracy: 0.9583 ± 0.1998\n",
      "\n",
      "Dataset: supernova\n",
      "Claim Decomposition Accuracy: 0.9000 ± 0.2000\n",
      "Relevance Filtering Accuracy: 0.8378 ± 0.3686\n",
      "Expert Alignment Accuracy: 0.8710 ± 0.3352\n",
      "\n",
      "Dataset: politeness\n",
      "Claim Decomposition Accuracy: 1.0000 ± 0.0000\n",
      "Relevance Filtering Accuracy: nan ± nan\n",
      "Expert Alignment Accuracy: nan ± nan\n",
      "\n",
      "Dataset: emotion\n",
      "Claim Decomposition Accuracy: 1.0000 ± 0.0000\n",
      "Relevance Filtering Accuracy: nan ± nan\n",
      "Expert Alignment Accuracy: nan ± nan\n",
      "\n",
      "Dataset: cholec\n",
      "Claim Decomposition Accuracy: 1.0000 ± 0.0000\n",
      "Relevance Filtering Accuracy: 0.7537 ± 0.3994\n",
      "Expert Alignment Accuracy: 0.8478 ± 0.2733\n",
      "\n",
      "Dataset: cardiac\n",
      "Claim Decomposition Accuracy: 0.8660 ± 0.1945\n",
      "Relevance Filtering Accuracy: 0.8333 ± 0.3624\n",
      "Expert Alignment Accuracy: 1.0000 ± 0.0000\n",
      "\n",
      "Dataset: sepsis\n",
      "Claim Decomposition Accuracy: 0.9000 ± 0.2000\n",
      "Relevance Filtering Accuracy: 0.7593 ± 0.4275\n",
      "Expert Alignment Accuracy: 0.8182 ± 0.3857\n"
     ]
    }
   ],
   "source": [
    "datasets = [\"massmaps\", \"supernova\", \"politeness\", \"emotion\", \"cholec\", \"cardiac\", \"sepsis\"]\n",
    "filepath = \"vanilla_{}_gpt-4o_annot.json\"\n",
    "\n",
    "for dataset in datasets:\n",
    "    # Load the data\n",
    "    try:\n",
    "        with open(filepath.format(dataset), \"r\") as f:\n",
    "            data = json.load(f)\n",
    "    except FileNotFoundError:\n",
    "        print(f\"File not found for dataset: {dataset}\")\n",
    "        continue\n",
    "   \n",
    "    keys = data.keys()\n",
    "    claim_accs_all = []\n",
    "    relevance_accs_all = []\n",
    "    alignment_accs_all = []\n",
    "    for key in keys:\n",
    "        example = data[key]\n",
    "        claim_accs = example[\"claim_decomposition_accuracy\"]\n",
    "        relevance_accs = example[\"relevance_filtering_accuracy\"]\n",
    "        relevance_accs = [relevance_accs[x][0] for x in range(len(relevance_accs))]\n",
    "        alignment_accs = example[\"expert_alignment_accuracy\"]\n",
    "        alignment_accs = [alignment_accs[x][0] for x in range(len(alignment_accs))]\n",
    "        \n",
    "        \n",
    "        claim_accs_all.append(claim_accs)\n",
    "        for r in relevance_accs: relevance_accs_all.append(r)\n",
    "        for a in alignment_accs: alignment_accs_all.append(a)\n",
    "\n",
    "    print(f\"\\nDataset: {dataset}\")\n",
    "    print(f\"Claim Decomposition Accuracy: {np.mean(claim_accs_all):.4f} ± {np.std(claim_accs_all):.4f}\")\n",
    "    print(f\"Relevance Filtering Accuracy: {np.mean(relevance_accs_all):.4f} ± {np.std(relevance_accs_all):.4f}\")\n",
    "    print(f\"Expert Alignment Accuracy: {np.mean(alignment_accs_all):.4f} ± {np.std(alignment_accs_all):.4f}\")\n",
    "    # claim_scores = [entry[\"claim_decomposition_accuracy\"] for entry in data]\n",
    "    # print(claim_scores)"
   ]
  },
  {
   "cell_type": "code",
   "execution_count": null,
   "id": "e3ea7445",
   "metadata": {},
   "outputs": [],
   "source": []
  }
 ],
 "metadata": {
  "kernelspec": {
   "display_name": "base",
   "language": "python",
   "name": "python3"
  },
  "language_info": {
   "codemirror_mode": {
    "name": "ipython",
    "version": 3
   },
   "file_extension": ".py",
   "mimetype": "text/x-python",
   "name": "python",
   "nbconvert_exporter": "python",
   "pygments_lexer": "ipython3",
   "version": "3.11.4"
  }
 },
 "nbformat": 4,
 "nbformat_minor": 5
}
